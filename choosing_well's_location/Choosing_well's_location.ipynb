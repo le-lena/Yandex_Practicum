{
 "cells": [
  {
   "cell_type": "markdown",
   "metadata": {},
   "source": [
    "# Выбор локации для скважины"
   ]
  },
  {
   "cell_type": "markdown",
   "metadata": {},
   "source": [
    "Допустим, вы работаете в добывающей компании «ГлавРосГосНефть». Нужно решить, где бурить новую скважину.\n",
    "\n",
    "Вам предоставлены пробы нефти в трёх регионах: в каждом 10 000 месторождений, где измерили качество нефти и объём её запасов. Постройте модель машинного обучения, которая поможет определить регион, где добыча принесёт наибольшую прибыль. Проанализируйте возможную прибыль и риски техникой *Bootstrap.*\n",
    "\n",
    "Шаги для выбора локации:\n",
    "\n",
    "- В избранном регионе ищут месторождения, для каждого определяют значения признаков;\n",
    "- Строят модель и оценивают объём запасов;\n",
    "- Выбирают месторождения с самым высокими оценками значений. Количество месторождений зависит от бюджета компании и стоимости разработки одной скважины;\n",
    "- Прибыль равна суммарной прибыли отобранных месторождений.\n"
   ]
  },
  {
   "cell_type": "markdown",
   "metadata": {},
   "source": [
    "# Описание данных  \n",
    "Данные геологоразведки трёх регионов находятся в файлах:   \n",
    "/datasets/geo_data_0.csv.   \n",
    "/datasets/geo_data_1.csv.  \n",
    "/datasets/geo_data_2.csv.   \n",
    "id — уникальный идентификатор скважины;  \n",
    "f0, f1, f2 — три признака точек (неважно, что они означают, но сами признаки значимы);  \n",
    "product — объём запасов в скважине (тыс. баррелей).  "
   ]
  },
  {
   "cell_type": "markdown",
   "metadata": {},
   "source": [
    "## Загрузка и подготовка данных"
   ]
  },
  {
   "cell_type": "code",
   "execution_count": 1,
   "metadata": {},
   "outputs": [],
   "source": [
    "\n",
    "#загруим все необходимые библиотеки и функции\n",
    "import pandas as pd\n",
    "import numpy as np\n",
    "import matplotlib.pyplot  as plt\n",
    "from sklearn.model_selection import train_test_split\n",
    "from sklearn.linear_model import LinearRegression\n",
    "from sklearn.metrics import mean_squared_error\n",
    "from sklearn.preprocessing import StandardScaler \n",
    "\n",
    "pd.options.mode.chained_assignment = None"
   ]
  },
  {
   "cell_type": "markdown",
   "metadata": {},
   "source": [
    "Занесем бюджет на разработку скважин в регионе в переменную BUDGET.  \n",
    "Стоимость одной тысячи баррель занесем в переменную PROFIT_PER_THOUSAND_BARREL.  \n",
    "Количество разрабатываемых скважин занесем в параменную N.  "
   ]
  },
  {
   "cell_type": "code",
   "execution_count": 2,
   "metadata": {},
   "outputs": [],
   "source": [
    "\n",
    "BUDGET=10_000_000_000\n",
    "PROFIT_PER_THOUSAND_BARREL=450_000\n",
    "N=200\n"
   ]
  },
  {
   "cell_type": "markdown",
   "metadata": {},
   "source": [
    "Откроем файлы с данными и изучим данные, как видим, признаков не очень много, они количественные, id не будет участвовать в анализе, поэтому его можно удалить. Также в данных отсутствуют пропуски. "
   ]
  },
  {
   "cell_type": "code",
   "execution_count": 3,
   "metadata": {},
   "outputs": [],
   "source": [
    "data_0=pd.read_csv('/datasets/geo_data_0.csv')"
   ]
  },
  {
   "cell_type": "code",
   "execution_count": 4,
   "metadata": {},
   "outputs": [
    {
     "name": "stdout",
     "output_type": "stream",
     "text": [
      "      id        f0        f1        f2     product\n",
      "0  txEyH  0.705745 -0.497823  1.221170  105.280062\n",
      "1  2acmU  1.334711 -0.340164  4.365080   73.037750\n",
      "2  409Wp  1.022732  0.151990  1.419926   85.265647\n",
      "3  iJLyR -0.032172  0.139033  2.978566  168.620776\n",
      "4  Xdl7t  1.988431  0.155413  4.751769  154.036647\n",
      "<class 'pandas.core.frame.DataFrame'>\n",
      "RangeIndex: 100000 entries, 0 to 99999\n",
      "Data columns (total 5 columns):\n",
      " #   Column   Non-Null Count   Dtype  \n",
      "---  ------   --------------   -----  \n",
      " 0   id       100000 non-null  object \n",
      " 1   f0       100000 non-null  float64\n",
      " 2   f1       100000 non-null  float64\n",
      " 3   f2       100000 non-null  float64\n",
      " 4   product  100000 non-null  float64\n",
      "dtypes: float64(4), object(1)\n",
      "memory usage: 3.8+ MB\n",
      "None\n"
     ]
    }
   ],
   "source": [
    "print(data_0.head())\n",
    "print(data_0.info())"
   ]
  },
  {
   "cell_type": "code",
   "execution_count": 5,
   "metadata": {},
   "outputs": [],
   "source": [
    "data_1=pd.read_csv('/datasets/geo_data_1.csv')"
   ]
  },
  {
   "cell_type": "code",
   "execution_count": 6,
   "metadata": {},
   "outputs": [
    {
     "name": "stdout",
     "output_type": "stream",
     "text": [
      "      id         f0         f1        f2     product\n",
      "0  kBEdx -15.001348  -8.276000 -0.005876    3.179103\n",
      "1  62mP7  14.272088  -3.475083  0.999183   26.953261\n",
      "2  vyE1P   6.263187  -5.948386  5.001160  134.766305\n",
      "3  KcrkZ -13.081196 -11.506057  4.999415  137.945408\n",
      "4  AHL4O  12.702195  -8.147433  5.004363  134.766305\n",
      "<class 'pandas.core.frame.DataFrame'>\n",
      "RangeIndex: 100000 entries, 0 to 99999\n",
      "Data columns (total 5 columns):\n",
      " #   Column   Non-Null Count   Dtype  \n",
      "---  ------   --------------   -----  \n",
      " 0   id       100000 non-null  object \n",
      " 1   f0       100000 non-null  float64\n",
      " 2   f1       100000 non-null  float64\n",
      " 3   f2       100000 non-null  float64\n",
      " 4   product  100000 non-null  float64\n",
      "dtypes: float64(4), object(1)\n",
      "memory usage: 3.8+ MB\n",
      "None\n"
     ]
    }
   ],
   "source": [
    "print(data_1.head())\n",
    "print(data_1.info())"
   ]
  },
  {
   "cell_type": "code",
   "execution_count": 7,
   "metadata": {},
   "outputs": [],
   "source": [
    "data_2=pd.read_csv('/datasets/geo_data_2.csv')"
   ]
  },
  {
   "cell_type": "code",
   "execution_count": 8,
   "metadata": {},
   "outputs": [
    {
     "name": "stdout",
     "output_type": "stream",
     "text": [
      "      id        f0        f1        f2     product\n",
      "0  fwXo0 -1.146987  0.963328 -0.828965   27.758673\n",
      "1  WJtFt  0.262778  0.269839 -2.530187   56.069697\n",
      "2  ovLUW  0.194587  0.289035 -5.586433   62.871910\n",
      "3  q6cA6  2.236060 -0.553760  0.930038  114.572842\n",
      "4  WPMUX -0.515993  1.716266  5.899011  149.600746\n",
      "<class 'pandas.core.frame.DataFrame'>\n",
      "RangeIndex: 100000 entries, 0 to 99999\n",
      "Data columns (total 5 columns):\n",
      " #   Column   Non-Null Count   Dtype  \n",
      "---  ------   --------------   -----  \n",
      " 0   id       100000 non-null  object \n",
      " 1   f0       100000 non-null  float64\n",
      " 2   f1       100000 non-null  float64\n",
      " 3   f2       100000 non-null  float64\n",
      " 4   product  100000 non-null  float64\n",
      "dtypes: float64(4), object(1)\n",
      "memory usage: 3.8+ MB\n",
      "None\n"
     ]
    }
   ],
   "source": [
    "print(data_2.head())\n",
    "print(data_2.info())"
   ]
  },
  {
   "cell_type": "code",
   "execution_count": 9,
   "metadata": {},
   "outputs": [
    {
     "name": "stdout",
     "output_type": "stream",
     "text": [
      "10\n",
      "4\n",
      "4\n"
     ]
    }
   ],
   "source": [
    "print(data_0['id'].duplicated().sum())\n",
    "print(data_1['id'].duplicated().sum())\n",
    "print(data_2['id'].duplicated().sum())"
   ]
  },
  {
   "cell_type": "code",
   "execution_count": 10,
   "metadata": {},
   "outputs": [
    {
     "data": {
      "text/html": [
       "<div>\n",
       "<style scoped>\n",
       "    .dataframe tbody tr th:only-of-type {\n",
       "        vertical-align: middle;\n",
       "    }\n",
       "\n",
       "    .dataframe tbody tr th {\n",
       "        vertical-align: top;\n",
       "    }\n",
       "\n",
       "    .dataframe thead th {\n",
       "        text-align: right;\n",
       "    }\n",
       "</style>\n",
       "<table border=\"1\" class=\"dataframe\">\n",
       "  <thead>\n",
       "    <tr style=\"text-align: right;\">\n",
       "      <th></th>\n",
       "      <th>id</th>\n",
       "      <th>f0</th>\n",
       "      <th>f1</th>\n",
       "      <th>f2</th>\n",
       "      <th>product</th>\n",
       "    </tr>\n",
       "  </thead>\n",
       "  <tbody>\n",
       "    <tr>\n",
       "      <th>931</th>\n",
       "      <td>HZww2</td>\n",
       "      <td>0.755284</td>\n",
       "      <td>0.368511</td>\n",
       "      <td>1.863211</td>\n",
       "      <td>30.681774</td>\n",
       "    </tr>\n",
       "    <tr>\n",
       "      <th>7530</th>\n",
       "      <td>HZww2</td>\n",
       "      <td>1.061194</td>\n",
       "      <td>-0.373969</td>\n",
       "      <td>10.430210</td>\n",
       "      <td>158.828695</td>\n",
       "    </tr>\n",
       "  </tbody>\n",
       "</table>\n",
       "</div>"
      ],
      "text/plain": [
       "         id        f0        f1         f2     product\n",
       "931   HZww2  0.755284  0.368511   1.863211   30.681774\n",
       "7530  HZww2  1.061194 -0.373969  10.430210  158.828695"
      ]
     },
     "execution_count": 10,
     "metadata": {},
     "output_type": "execute_result"
    }
   ],
   "source": [
    "data_0[data_0['id'].duplicated()]\n",
    "data_0.query('id==\"HZww2\"')"
   ]
  },
  {
   "cell_type": "code",
   "execution_count": 11,
   "metadata": {},
   "outputs": [],
   "source": [
    "data_0 = data_0.drop('id', axis=1)\n",
    "data_1 = data_1.drop('id', axis=1)\n",
    "data_2 = data_2.drop('id', axis=1)"
   ]
  },
  {
   "cell_type": "code",
   "execution_count": 12,
   "metadata": {},
   "outputs": [
    {
     "data": {
      "text/plain": [
       "<AxesSubplot:>"
      ]
     },
     "execution_count": 12,
     "metadata": {},
     "output_type": "execute_result"
    },
    {
     "data": {
      "image/png": "[encoded data removed]",
      "text/plain": [
       "<Figure size 432x288 with 1 Axes>"
      ]
     },
     "metadata": {
      "needs_background": "light"
     },
     "output_type": "display_data"
    }
   ],
   "source": [
    "data_0['product'].hist()"
   ]
  },
  {
   "cell_type": "code",
   "execution_count": 13,
   "metadata": {},
   "outputs": [
    {
     "data": {
      "text/plain": [
       "<AxesSubplot:>"
      ]
     },
     "execution_count": 13,
     "metadata": {},
     "output_type": "execute_result"
    },
    {
     "data": {
      "image/png": "[encoded data removed]",
      "text/plain": [
       "<Figure size 432x288 with 1 Axes>"
      ]
     },
     "metadata": {
      "needs_background": "light"
     },
     "output_type": "display_data"
    }
   ],
   "source": [
    "data_1['product'].hist()"
   ]
  },
  {
   "cell_type": "code",
   "execution_count": 14,
   "metadata": {},
   "outputs": [
    {
     "data": {
      "text/plain": [
       "<AxesSubplot:>"
      ]
     },
     "execution_count": 14,
     "metadata": {},
     "output_type": "execute_result"
    },
    {
     "data": {
      "image/png": "[encoded data removed]",
      "text/plain": [
       "<Figure size 432x288 with 1 Axes>"
      ]
     },
     "metadata": {
      "needs_background": "light"
     },
     "output_type": "display_data"
    }
   ],
   "source": [
    "data_2['product'].hist()"
   ]
  },
  {
   "cell_type": "markdown",
   "metadata": {},
   "source": [
    "Можно заметить,что распределение запасов во втором регионе не похоже на нормальное распределение (в отличии от 1 и 3 региона)"
   ]
  },
  {
   "cell_type": "code",
   "execution_count": 15,
   "metadata": {},
   "outputs": [
    {
     "data": {
      "text/html": [
       "<div>\n",
       "<style scoped>\n",
       "    .dataframe tbody tr th:only-of-type {\n",
       "        vertical-align: middle;\n",
       "    }\n",
       "\n",
       "    .dataframe tbody tr th {\n",
       "        vertical-align: top;\n",
       "    }\n",
       "\n",
       "    .dataframe thead th {\n",
       "        text-align: right;\n",
       "    }\n",
       "</style>\n",
       "<table border=\"1\" class=\"dataframe\">\n",
       "  <thead>\n",
       "    <tr style=\"text-align: right;\">\n",
       "      <th></th>\n",
       "      <th>f0</th>\n",
       "      <th>f1</th>\n",
       "      <th>f2</th>\n",
       "      <th>product</th>\n",
       "    </tr>\n",
       "  </thead>\n",
       "  <tbody>\n",
       "    <tr>\n",
       "      <th>f0</th>\n",
       "      <td>1.000000</td>\n",
       "      <td>-0.440723</td>\n",
       "      <td>-0.003153</td>\n",
       "      <td>0.143536</td>\n",
       "    </tr>\n",
       "    <tr>\n",
       "      <th>f1</th>\n",
       "      <td>-0.440723</td>\n",
       "      <td>1.000000</td>\n",
       "      <td>0.001724</td>\n",
       "      <td>-0.192356</td>\n",
       "    </tr>\n",
       "    <tr>\n",
       "      <th>f2</th>\n",
       "      <td>-0.003153</td>\n",
       "      <td>0.001724</td>\n",
       "      <td>1.000000</td>\n",
       "      <td>0.483663</td>\n",
       "    </tr>\n",
       "    <tr>\n",
       "      <th>product</th>\n",
       "      <td>0.143536</td>\n",
       "      <td>-0.192356</td>\n",
       "      <td>0.483663</td>\n",
       "      <td>1.000000</td>\n",
       "    </tr>\n",
       "  </tbody>\n",
       "</table>\n",
       "</div>"
      ],
      "text/plain": [
       "               f0        f1        f2   product\n",
       "f0       1.000000 -0.440723 -0.003153  0.143536\n",
       "f1      -0.440723  1.000000  0.001724 -0.192356\n",
       "f2      -0.003153  0.001724  1.000000  0.483663\n",
       "product  0.143536 -0.192356  0.483663  1.000000"
      ]
     },
     "execution_count": 15,
     "metadata": {},
     "output_type": "execute_result"
    },
    {
     "data": {
      "image/png": "[encoded data removed]",
      "text/plain": [
       "<Figure size 432x288 with 16 Axes>"
      ]
     },
     "metadata": {
      "needs_background": "light"
     },
     "output_type": "display_data"
    }
   ],
   "source": [
    "pd.plotting.scatter_matrix(data_0)\n",
    "data_0.corr()"
   ]
  },
  {
   "cell_type": "code",
   "execution_count": 16,
   "metadata": {},
   "outputs": [
    {
     "data": {
      "text/html": [
       "<div>\n",
       "<style scoped>\n",
       "    .dataframe tbody tr th:only-of-type {\n",
       "        vertical-align: middle;\n",
       "    }\n",
       "\n",
       "    .dataframe tbody tr th {\n",
       "        vertical-align: top;\n",
       "    }\n",
       "\n",
       "    .dataframe thead th {\n",
       "        text-align: right;\n",
       "    }\n",
       "</style>\n",
       "<table border=\"1\" class=\"dataframe\">\n",
       "  <thead>\n",
       "    <tr style=\"text-align: right;\">\n",
       "      <th></th>\n",
       "      <th>f0</th>\n",
       "      <th>f1</th>\n",
       "      <th>f2</th>\n",
       "      <th>product</th>\n",
       "    </tr>\n",
       "  </thead>\n",
       "  <tbody>\n",
       "    <tr>\n",
       "      <th>f0</th>\n",
       "      <td>1.000000</td>\n",
       "      <td>0.182287</td>\n",
       "      <td>-0.001777</td>\n",
       "      <td>-0.030491</td>\n",
       "    </tr>\n",
       "    <tr>\n",
       "      <th>f1</th>\n",
       "      <td>0.182287</td>\n",
       "      <td>1.000000</td>\n",
       "      <td>-0.002595</td>\n",
       "      <td>-0.010155</td>\n",
       "    </tr>\n",
       "    <tr>\n",
       "      <th>f2</th>\n",
       "      <td>-0.001777</td>\n",
       "      <td>-0.002595</td>\n",
       "      <td>1.000000</td>\n",
       "      <td>0.999397</td>\n",
       "    </tr>\n",
       "    <tr>\n",
       "      <th>product</th>\n",
       "      <td>-0.030491</td>\n",
       "      <td>-0.010155</td>\n",
       "      <td>0.999397</td>\n",
       "      <td>1.000000</td>\n",
       "    </tr>\n",
       "  </tbody>\n",
       "</table>\n",
       "</div>"
      ],
      "text/plain": [
       "               f0        f1        f2   product\n",
       "f0       1.000000  0.182287 -0.001777 -0.030491\n",
       "f1       0.182287  1.000000 -0.002595 -0.010155\n",
       "f2      -0.001777 -0.002595  1.000000  0.999397\n",
       "product -0.030491 -0.010155  0.999397  1.000000"
      ]
     },
     "execution_count": 16,
     "metadata": {},
     "output_type": "execute_result"
    },
    {
     "data": {
      "image/png": "[encoded data removed]",
      "text/plain": [
       "<Figure size 432x288 with 16 Axes>"
      ]
     },
     "metadata": {
      "needs_background": "light"
     },
     "output_type": "display_data"
    }
   ],
   "source": [
    "pd.plotting.scatter_matrix(data_1)\n",
    "data_1.corr()"
   ]
  },
  {
   "cell_type": "code",
   "execution_count": 17,
   "metadata": {},
   "outputs": [
    {
     "data": {
      "text/html": [
       "<div>\n",
       "<style scoped>\n",
       "    .dataframe tbody tr th:only-of-type {\n",
       "        vertical-align: middle;\n",
       "    }\n",
       "\n",
       "    .dataframe tbody tr th {\n",
       "        vertical-align: top;\n",
       "    }\n",
       "\n",
       "    .dataframe thead th {\n",
       "        text-align: right;\n",
       "    }\n",
       "</style>\n",
       "<table border=\"1\" class=\"dataframe\">\n",
       "  <thead>\n",
       "    <tr style=\"text-align: right;\">\n",
       "      <th></th>\n",
       "      <th>f0</th>\n",
       "      <th>f1</th>\n",
       "      <th>f2</th>\n",
       "      <th>product</th>\n",
       "    </tr>\n",
       "  </thead>\n",
       "  <tbody>\n",
       "    <tr>\n",
       "      <th>f0</th>\n",
       "      <td>1.000000</td>\n",
       "      <td>0.000528</td>\n",
       "      <td>-0.000448</td>\n",
       "      <td>-0.001987</td>\n",
       "    </tr>\n",
       "    <tr>\n",
       "      <th>f1</th>\n",
       "      <td>0.000528</td>\n",
       "      <td>1.000000</td>\n",
       "      <td>0.000779</td>\n",
       "      <td>-0.001012</td>\n",
       "    </tr>\n",
       "    <tr>\n",
       "      <th>f2</th>\n",
       "      <td>-0.000448</td>\n",
       "      <td>0.000779</td>\n",
       "      <td>1.000000</td>\n",
       "      <td>0.445871</td>\n",
       "    </tr>\n",
       "    <tr>\n",
       "      <th>product</th>\n",
       "      <td>-0.001987</td>\n",
       "      <td>-0.001012</td>\n",
       "      <td>0.445871</td>\n",
       "      <td>1.000000</td>\n",
       "    </tr>\n",
       "  </tbody>\n",
       "</table>\n",
       "</div>"
      ],
      "text/plain": [
       "               f0        f1        f2   product\n",
       "f0       1.000000  0.000528 -0.000448 -0.001987\n",
       "f1       0.000528  1.000000  0.000779 -0.001012\n",
       "f2      -0.000448  0.000779  1.000000  0.445871\n",
       "product -0.001987 -0.001012  0.445871  1.000000"
      ]
     },
     "execution_count": 17,
     "metadata": {},
     "output_type": "execute_result"
    },
    {
     "data": {
      "image/png": "[encoded data removed]",
      "text/plain": [
       "<Figure size 432x288 with 16 Axes>"
      ]
     },
     "metadata": {
      "needs_background": "light"
     },
     "output_type": "display_data"
    }
   ],
   "source": [
    "pd.plotting.scatter_matrix(data_2)\n",
    "data_2.corr()"
   ]
  },
  {
   "cell_type": "markdown",
   "metadata": {},
   "source": [
    "Как видно по матрице коэффициентов корреляции Пирсона в датасетах data_0 и data_2 (первая и третья скважины),  \n",
    "не наблюдается сильной корреляции между какими - либо признаками. А в данных,относящихся ко второй скважине(data_1), есть очень высокая корреляция между целевыми признаком (объемом запасов в скважине) и признаком f2.\n"
   ]
  },
  {
   "cell_type": "markdown",
   "metadata": {},
   "source": [
    "Напишем функцию для разделения дасатетов на обучающую и валидационную выборки. Также функция масштабирует количественные признаки, в нашем случае все признаки являются количественными (id из датасета мы уже удалили). "
   ]
  },
  {
   "cell_type": "code",
   "execution_count": 18,
   "metadata": {},
   "outputs": [],
   "source": [
    "def split(data):\n",
    "    \n",
    "    features = data.drop('product', axis=1)\n",
    "    target = data['product']\n",
    "    features_train, features_valid, target_train, target_valid = train_test_split(features, target, test_size=0.25, random_state=12345)\n",
    "    \n",
    "    numeric = pd.Series(features.columns)\n",
    "    scaler = StandardScaler()\n",
    "    features_train[numeric]=scaler.fit_transform(features_train[numeric])\n",
    "    features_valid[numeric] = scaler.transform(features_valid[numeric]) \n",
    "    print(features_train.shape)\n",
    "    print(features_valid.shape)\n",
    "    print(target_train.shape)\n",
    "    print(target_valid.shape)\n",
    "    return features_train, features_valid, target_train, target_valid\n",
    "  "
   ]
  },
  {
   "cell_type": "code",
   "execution_count": 19,
   "metadata": {},
   "outputs": [
    {
     "name": "stdout",
     "output_type": "stream",
     "text": [
      "(75000, 3)\n",
      "(25000, 3)\n",
      "(75000,)\n",
      "(25000,)\n"
     ]
    },
    {
     "data": {
      "text/plain": [
       "(             f0        f1        f2\n",
       " 27212 -0.544828  1.390264 -0.094959\n",
       " 7866   1.455912 -0.480422  1.209567\n",
       " 62041  0.260460  0.825069 -0.204865\n",
       " 70185 -1.837105  0.010321 -0.147634\n",
       " 82230 -1.299243  0.987558  1.273181\n",
       " ...         ...       ...       ...\n",
       " 4094   1.567114 -1.087243 -0.272211\n",
       " 85412 -1.904207 -0.525360  1.327530\n",
       " 2177   0.418949 -1.296788 -0.196407\n",
       " 77285  0.400077 -1.466874 -0.445317\n",
       " 86498  1.746246  0.027415  2.766848\n",
       " \n",
       " [75000 rows x 3 columns],\n",
       "              f0        f1        f2\n",
       " 71751  0.517917 -0.610097 -0.126226\n",
       " 80493  0.568391 -0.086063 -0.814914\n",
       " 2655   0.805688 -1.613289 -1.341342\n",
       " 53233  0.222503 -1.355437 -0.597275\n",
       " 91141 -0.087941  1.433113 -0.544588\n",
       " ...         ...       ...       ...\n",
       " 12581  1.541222 -0.709525  0.024535\n",
       " 18456 -0.522565  0.474447 -0.103985\n",
       " 73035 -0.138850  1.595071 -0.903485\n",
       " 63834  0.658267 -1.428224  0.621967\n",
       " 43558  1.409556 -0.650407  0.769670\n",
       " \n",
       " [25000 rows x 3 columns],\n",
       " 27212    147.370612\n",
       " 7866     147.630053\n",
       " 62041     77.696728\n",
       " 70185     55.210501\n",
       " 82230    113.891723\n",
       "             ...    \n",
       " 4094     124.380793\n",
       " 85412    144.874913\n",
       " 2177     134.967255\n",
       " 77285     64.494357\n",
       " 86498    151.514894\n",
       " Name: product, Length: 75000, dtype: float64,\n",
       " 71751     10.038645\n",
       " 80493    114.551489\n",
       " 2655     132.603635\n",
       " 53233    169.072125\n",
       " 91141    122.325180\n",
       "             ...    \n",
       " 12581    170.116726\n",
       " 18456     93.632175\n",
       " 73035    127.352259\n",
       " 63834     99.782700\n",
       " 43558    177.821022\n",
       " Name: product, Length: 25000, dtype: float64)"
      ]
     },
     "execution_count": 19,
     "metadata": {},
     "output_type": "execute_result"
    }
   ],
   "source": [
    "split(data_0)"
   ]
  },
  {
   "cell_type": "code",
   "execution_count": 20,
   "metadata": {},
   "outputs": [
    {
     "name": "stdout",
     "output_type": "stream",
     "text": [
      "(75000, 3)\n",
      "(25000, 3)\n",
      "(75000,)\n",
      "(25000,)\n"
     ]
    },
    {
     "data": {
      "text/plain": [
       "(             f0        f1        f2\n",
       " 27212 -0.850855  0.624428  0.296943\n",
       " 7866   1.971935  1.832275  0.294333\n",
       " 62041  1.079305  0.170127 -0.296418\n",
       " 70185 -1.512028 -0.887837 -0.880471\n",
       " 82230 -1.804775 -0.718311 -0.293255\n",
       " ...         ...       ...       ...\n",
       " 4094  -0.334573 -0.005156  0.295560\n",
       " 85412  0.415280 -0.249559  0.877957\n",
       " 2177   1.047070 -0.649992  1.473368\n",
       " 77285 -0.114780 -1.190699  0.299156\n",
       " 86498 -0.646146  0.099075  0.295611\n",
       " \n",
       " [75000 rows x 3 columns],\n",
       "              f0        f1        f2\n",
       " 71751 -0.168616  0.571372  0.297471\n",
       " 80493  0.878384 -1.772903 -0.293901\n",
       " 2655  -0.852976 -0.004986 -0.876502\n",
       " 53233  1.496940 -1.146077 -0.294011\n",
       " 91141  0.552177  0.057961 -1.457764\n",
       " ...         ...       ...       ...\n",
       " 12581 -0.585274  0.036061  1.465670\n",
       " 18456 -1.059992 -0.305376  0.880934\n",
       " 73035 -1.146172 -0.119247  1.471417\n",
       " 63834 -0.839466  0.785521  0.302943\n",
       " 43558  1.048780 -0.275907 -0.295706\n",
       " \n",
       " [25000 rows x 3 columns],\n",
       " 27212     84.038886\n",
       " 7866      80.859783\n",
       " 62041     53.906522\n",
       " 70185     30.132364\n",
       " 82230     57.085625\n",
       "             ...    \n",
       " 4094      84.038886\n",
       " 85412    110.992147\n",
       " 2177     134.766305\n",
       " 77285     84.038886\n",
       " 86498     84.038886\n",
       " Name: product, Length: 75000, dtype: float64,\n",
       " 71751     80.859783\n",
       " 80493     53.906522\n",
       " 2655      30.132364\n",
       " 53233     53.906522\n",
       " 91141      0.000000\n",
       "             ...    \n",
       " 12581    137.945408\n",
       " 18456    110.992147\n",
       " 73035    137.945408\n",
       " 63834     84.038886\n",
       " 43558     53.906522\n",
       " Name: product, Length: 25000, dtype: float64)"
      ]
     },
     "execution_count": 20,
     "metadata": {},
     "output_type": "execute_result"
    }
   ],
   "source": [
    "split(data_1)"
   ]
  },
  {
   "cell_type": "code",
   "execution_count": 21,
   "metadata": {},
   "outputs": [
    {
     "name": "stdout",
     "output_type": "stream",
     "text": [
      "(75000, 3)\n",
      "(25000, 3)\n",
      "(75000,)\n",
      "(25000,)\n"
     ]
    },
    {
     "data": {
      "text/plain": [
       "(             f0        f1        f2\n",
       " 27212 -0.526160  0.776329 -0.400793\n",
       " 7866  -0.889625 -0.404070 -1.222936\n",
       " 62041 -1.133984  0.208576  0.296765\n",
       " 70185  1.227045  1.570166 -0.764556\n",
       " 82230 -0.194289  0.878312  0.840821\n",
       " ...         ...       ...       ...\n",
       " 4094  -1.815240  0.398261  1.821017\n",
       " 85412 -0.274576 -1.265211  0.245519\n",
       " 2177   0.368564  0.797225  0.665575\n",
       " 77285 -2.440690  0.113784  0.440907\n",
       " 86498 -1.732468  0.393573 -1.424465\n",
       " \n",
       " [75000 rows x 3 columns],\n",
       "              f0        f1        f2\n",
       " 71751 -0.836717 -2.227439 -0.078489\n",
       " 80493 -0.821648  0.740237 -1.000811\n",
       " 2655  -2.651336 -0.235721 -0.244546\n",
       " 53233  1.077998  0.938090  0.511313\n",
       " 91141 -1.173938  2.387270  1.034363\n",
       " ...         ...       ...       ...\n",
       " 12581 -0.761845 -0.067861 -0.819227\n",
       " 18456  0.006155  0.509468  0.030344\n",
       " 73035  0.416444 -0.084595  0.218987\n",
       " 63834 -0.136658 -0.101235 -0.870787\n",
       " 43558 -1.359565 -0.598457  1.716644\n",
       " \n",
       " [25000 rows x 3 columns],\n",
       " 27212     16.733577\n",
       " 7866      38.047492\n",
       " 62041    116.149369\n",
       " 70185    105.888803\n",
       " 82230     27.570897\n",
       "             ...    \n",
       " 4094     155.009949\n",
       " 85412    143.348954\n",
       " 2177      77.290797\n",
       " 77285    121.243834\n",
       " 86498     39.377889\n",
       " Name: product, Length: 75000, dtype: float64,\n",
       " 71751     61.212375\n",
       " 80493     41.850118\n",
       " 2655      57.776581\n",
       " 53233    100.053761\n",
       " 91141    109.897122\n",
       "             ...    \n",
       " 12581     28.492402\n",
       " 18456     21.431303\n",
       " 73035    125.487229\n",
       " 63834     99.422903\n",
       " 43558    127.445075\n",
       " Name: product, Length: 25000, dtype: float64)"
      ]
     },
     "execution_count": 21,
     "metadata": {},
     "output_type": "execute_result"
    }
   ],
   "source": [
    "split(data_2)"
   ]
  },
  {
   "cell_type": "markdown",
   "metadata": {},
   "source": [
    "## Обучение и проверка модели"
   ]
  },
  {
   "cell_type": "code",
   "execution_count": 22,
   "metadata": {},
   "outputs": [
    {
     "name": "stdout",
     "output_type": "stream",
     "text": [
      "Средний запас предсказанного сырья на одной скважине первого региона и RMSE\n",
      "(75000, 3)\n",
      "(25000, 3)\n",
      "(75000,)\n",
      "(25000,)\n",
      "mean_predicted_product = 92.59256778438035\n",
      "RMSE = 37.5794217150813\n",
      "\n",
      "\n",
      "Средний запас предсказанного сырья на одной скважине второго региона и RMSE\n",
      "(75000, 3)\n",
      "(25000, 3)\n",
      "(75000,)\n",
      "(25000,)\n",
      "mean_predicted_product = 68.728546895446\n",
      "RMSE = 0.893099286775617\n",
      "\n",
      "\n",
      "Средний запас предсказанного сырья на одной скважине третьего региона и RMSE\n",
      "(75000, 3)\n",
      "(25000, 3)\n",
      "(75000,)\n",
      "(25000,)\n",
      "mean_predicted_product = 94.96504596800489\n",
      "RMSE = 40.02970873393434\n"
     ]
    }
   ],
   "source": [
    "def model_fit(data):\n",
    "    features_train, features_valid, target_train, target_valid = data\n",
    "    model = LinearRegression()\n",
    "    model.fit(features_train, target_train)\n",
    "    predicted_valid = model.predict(features_valid)\n",
    "    print('mean_predicted_product =',predicted_valid.mean()) #средний запас предсказанного сырья на одной скважине\n",
    "    mse = mean_squared_error(target_valid,predicted_valid)\n",
    "    print(\"RMSE =\", mse ** 0.5)  #корень от среднеквадратичной ошибки\n",
    "    return predicted_valid,target_valid,features_valid\n",
    "\n",
    "print('Средний запас предсказанного сырья на одной скважине первого региона и RMSE')\n",
    "model_0=model_fit(split(data_0))\n",
    "print('\\n')\n",
    "print('Средний запас предсказанного сырья на одной скважине второго региона и RMSE')      \n",
    "model_1=model_fit(split(data_1))\n",
    "print('\\n')\n",
    "print('Средний запас предсказанного сырья на одной скважине третьего региона и RMSE')      \n",
    "model_2=model_fit(split(data_2))"
   ]
  },
  {
   "cell_type": "markdown",
   "metadata": {},
   "source": [
    "Метрика RMSE минимальна для модели второго региона. Значит на данном этапе считаем ее наилучшей. "
   ]
  },
  {
   "cell_type": "markdown",
   "metadata": {},
   "source": [
    "## Подготовка к расчёту прибыли"
   ]
  },
  {
   "cell_type": "code",
   "execution_count": 23,
   "metadata": {},
   "outputs": [
    {
     "name": "stdout",
     "output_type": "stream",
     "text": [
      "Средний объём запасов в скважине первого региона\n",
      "92.50000000000001\n",
      "\n",
      "\n",
      "Средний объём запасов в скважине второго региона\n",
      "68.82500000000002\n",
      "\n",
      "\n",
      "Средний объём запасов в скважине третьего региона\n",
      "95.00000000000004\n"
     ]
    }
   ],
   "source": [
    "data_0_mean_product=data_0['product'].mean()\n",
    "data_1_mean_product=data_1['product'].mean()\n",
    "data_2_mean_product=data_2['product'].mean()\n",
    "print('Средний объём запасов в скважине первого региона')\n",
    "print(data_0_mean_product)\n",
    "print('\\n')\n",
    "print('Средний объём запасов в скважине второго региона')\n",
    "print(data_1_mean_product)\n",
    "print('\\n')\n",
    "print('Средний объём запасов в скважине третьего региона')\n",
    "print(data_2_mean_product)"
   ]
  },
  {
   "cell_type": "code",
   "execution_count": 24,
   "metadata": {},
   "outputs": [
    {
     "name": "stdout",
     "output_type": "stream",
     "text": [
      "111.11\n"
     ]
    }
   ],
   "source": [
    "product_break_even=BUDGET/PROFIT_PER_THOUSAND_BARREL/N\n",
    "print(round(product_break_even,2))"
   ]
  },
  {
   "cell_type": "markdown",
   "metadata": {},
   "source": [
    "Чтобы окупить бюджет одна скважина должна иметь запас не менее 111 тыс баррелей, это выше чем средний запас по всем скважинам в трех регионах.  "
   ]
  },
  {
   "cell_type": "markdown",
   "metadata": {},
   "source": [
    "## Расчёт прибыли и рисков "
   ]
  },
  {
   "cell_type": "markdown",
   "metadata": {},
   "source": [
    "Рассчитаем прибыль. Возьмем 200 скважин с наибольшими предсказаниями запасов.   \n",
    "Возьмем реальные запасы на этих скважах и помножим на стоимость одного барреля."
   ]
  },
  {
   "cell_type": "code",
   "execution_count": 25,
   "metadata": {},
   "outputs": [
    {
     "name": "stdout",
     "output_type": "stream",
     "text": [
      "3320826043.1398506\n",
      "2415086696.681511\n",
      "2710349963.5998325\n"
     ]
    }
   ],
   "source": [
    "def revenue(target,probs,count):\n",
    "    probs_sorted = probs.sort_values(ascending=False) \n",
    "    selected = target[probs_sorted.index][:count] \n",
    "    return PROFIT_PER_THOUSAND_BARREL * selected.sum() - BUDGET\n",
    "    \n",
    "def calc_revenue(model):\n",
    "    predicted_valid,target_valid,features_valid=model\n",
    "    predicted_valid=pd.Series(predicted_valid)\n",
    "    predicted_valid.index=features_valid.index\n",
    "    print(revenue(target_valid,predicted_valid,N))\n",
    "    return predicted_valid,target_valid\n",
    "\n",
    "revenue_0=calc_revenue(model_0)\n",
    "revenue_1=calc_revenue(model_1)\n",
    "revenue_2=calc_revenue(model_2)"
   ]
  },
  {
   "cell_type": "markdown",
   "metadata": {},
   "source": [
    "Пока выглядит так, что первая скважина принесет большую прибыль. Посмотрим на оценку рисков убытков.\n",
    "Воспользуемся процедурой Bootstrap. "
   ]
  },
  {
   "cell_type": "code",
   "execution_count": 26,
   "metadata": {},
   "outputs": [
    {
     "name": "stdout",
     "output_type": "stream",
     "text": [
      "Первый регион:\n",
      "Средняя выручка: 425938526.91059244\n",
      "2,5%-квантиль: -102090094.83793654\n",
      "Риск убытков = 6.00% \n",
      "\n",
      "\n",
      "Второй регион:\n",
      "Средняя выручка: 515222773.4432899\n",
      "2,5%-квантиль: 68873225.37050176\n",
      "Риск убытков = 1.00% \n",
      "\n",
      "\n",
      "Третий регион:\n",
      "Средняя выручка: 435008362.7827556\n",
      "2,5%-квантиль: -128880547.32978901\n",
      "Риск убытков = 6.40% \n"
     ]
    }
   ],
   "source": [
    "def mean_revenue(model):\n",
    "    predicted_valid,target_valid=model\n",
    "    state = np.random.RandomState(12345)    \n",
    "    values = []\n",
    "    for i in range(1000):\n",
    "        target_subsample = target_valid.sample(n=500, replace=True, random_state=state)\n",
    "        probs_subsample=predicted_valid[target_subsample.index] \n",
    "        values.append(revenue(target_subsample,probs_subsample,N))\n",
    "\n",
    "    values = pd.Series(values)\n",
    "    lower = values.quantile(0.025)\n",
    "    upper = values.quantile(0.975)\n",
    "\n",
    "    mean = values.mean()\n",
    "    print(\"Средняя выручка:\", mean)\n",
    "    print(\"2,5%-квантиль:\", lower)\n",
    "    print('Риск убытков = {:.2%} '.format((values<0).mean()))\n",
    "\n",
    "print('Первый регион:')\n",
    "mean_revenue(revenue_0)\n",
    "print('\\n')\n",
    "print('Второй регион:')\n",
    "mean_revenue(revenue_1)\n",
    "print('\\n')\n",
    "print('Третий регион:')\n",
    "mean_revenue(revenue_2)"
   ]
  },
  {
   "cell_type": "markdown",
   "metadata": {},
   "source": [
    "По результатам оценки рисков с 99% вероятностью безубыточной будет разработка скважин во втором регионе. Поэтому выбираем его."
   ]
  },
  {
   "cell_type": "markdown",
   "metadata": {},
   "source": [
    "## Чек-лист готовности проекта"
   ]
  },
  {
   "cell_type": "markdown",
   "metadata": {},
   "source": [
    "Поставьте 'x' в выполненных пунктах. Далее нажмите Shift+Enter."
   ]
  },
  {
   "cell_type": "markdown",
   "metadata": {},
   "source": [
    "- [x]  Jupyter Notebook открыт\n",
    "- [X]  Весь код выполняется без ошибок\n",
    "- [X]  Ячейки с кодом расположены в порядке исполнения\n",
    "- [X]  Выполнен шаг 1: данные подготовлены\n",
    "- [X]  Выполнен шаг 2: модели обучены и проверены\n",
    "    - [X]  Данные корректно разбиты на обучающую и валидационную выборки\n",
    "    - [X]  Модели обучены, предсказания сделаны\n",
    "    - [X]  Предсказания и правильные ответы на валидационной выборке сохранены\n",
    "    - [X]  На экране напечатаны результаты\n",
    "    - [X]  Сделаны выводы\n",
    "- [X]  Выполнен шаг 3: проведена подготовка к расчёту прибыли\n",
    "    - [X]  Для всех ключевых значений созданы константы Python\n",
    "    - [X]  Посчитано минимальное среднее количество продукта в месторождениях региона, достаточное для разработки\n",
    "    - [X]  По предыдущему пункту сделаны выводы\n",
    "    - [X]  Написана функция расчёта прибыли\n",
    "- [X]  Выполнен шаг 4: посчитаны риски и прибыль\n",
    "    - [X]  Проведена процедура *Bootstrap*\n",
    "    - [X]  Все параметры бутстрепа соответствуют условию\n",
    "    - [X]  Найдены все нужные величины\n",
    "    - [X]  Предложен регион для разработки месторождения\n",
    "    - [X]  Выбор региона обоснован"
   ]
  },
  {
   "cell_type": "code",
   "execution_count": null,
   "metadata": {},
   "outputs": [],
   "source": []
  }
 ],
 "metadata": {
  "ExecuteTimeLog": [
   {
    "duration": 45,
    "start_time": "2023-01-18T15:29:43.529Z"
   },
   {
    "duration": 374,
    "start_time": "2023-01-18T15:29:49.969Z"
   },
   {
    "duration": 529,
    "start_time": "2023-01-18T15:29:51.169Z"
   },
   {
    "duration": 144,
    "start_time": "2023-01-18T15:38:05.514Z"
   },
   {
    "duration": 440,
    "start_time": "2023-01-18T15:39:20.528Z"
   },
   {
    "duration": 496,
    "start_time": "2023-01-18T15:40:36.808Z"
   },
   {
    "duration": 6,
    "start_time": "2023-01-18T15:44:09.577Z"
   },
   {
    "duration": 27,
    "start_time": "2023-01-18T15:44:33.956Z"
   },
   {
    "duration": 12,
    "start_time": "2023-01-18T15:44:50.288Z"
   },
   {
    "duration": 3,
    "start_time": "2023-01-18T15:44:52.768Z"
   },
   {
    "duration": 429,
    "start_time": "2023-01-18T15:44:54.067Z"
   },
   {
    "duration": 5,
    "start_time": "2023-01-18T15:44:58.439Z"
   },
   {
    "duration": 34,
    "start_time": "2023-01-18T15:45:00.618Z"
   },
   {
    "duration": 36,
    "start_time": "2023-01-18T15:47:37.579Z"
   },
   {
    "duration": 36,
    "start_time": "2023-01-18T15:47:54.783Z"
   },
   {
    "duration": 40,
    "start_time": "2023-01-18T15:48:09.446Z"
   },
   {
    "duration": 12,
    "start_time": "2023-01-18T15:51:22.137Z"
   },
   {
    "duration": 14,
    "start_time": "2023-01-18T15:51:31.379Z"
   },
   {
    "duration": 10,
    "start_time": "2023-01-18T15:51:42.418Z"
   },
   {
    "duration": 13,
    "start_time": "2023-01-18T15:51:53.427Z"
   },
   {
    "duration": 3,
    "start_time": "2023-01-18T15:52:03.917Z"
   },
   {
    "duration": 468,
    "start_time": "2023-01-18T15:52:03.922Z"
   },
   {
    "duration": 5,
    "start_time": "2023-01-18T15:52:04.391Z"
   },
   {
    "duration": 80,
    "start_time": "2023-01-18T15:52:04.399Z"
   },
   {
    "duration": 12,
    "start_time": "2023-01-18T15:52:04.481Z"
   },
   {
    "duration": 21,
    "start_time": "2023-01-18T15:52:04.496Z"
   },
   {
    "duration": 114,
    "start_time": "2023-01-18T15:53:23.367Z"
   },
   {
    "duration": 799,
    "start_time": "2023-01-18T16:07:07.305Z"
   },
   {
    "duration": 14,
    "start_time": "2023-01-18T16:07:12.561Z"
   },
   {
    "duration": 16,
    "start_time": "2023-01-18T16:07:29.990Z"
   },
   {
    "duration": 20,
    "start_time": "2023-01-18T16:07:48.243Z"
   },
   {
    "duration": 36,
    "start_time": "2023-01-18T16:07:52.530Z"
   },
   {
    "duration": 6,
    "start_time": "2023-01-18T16:08:23.708Z"
   },
   {
    "duration": 18,
    "start_time": "2023-01-18T16:08:25.289Z"
   },
   {
    "duration": 20,
    "start_time": "2023-01-18T16:08:28.379Z"
   },
   {
    "duration": 14,
    "start_time": "2023-01-18T16:09:37.390Z"
   },
   {
    "duration": 18,
    "start_time": "2023-01-18T16:15:50.011Z"
   },
   {
    "duration": 40,
    "start_time": "2023-01-18T16:19:24.101Z"
   },
   {
    "duration": 55,
    "start_time": "2023-01-18T16:21:38.078Z"
   },
   {
    "duration": 18,
    "start_time": "2023-01-18T16:21:54.089Z"
   },
   {
    "duration": 6,
    "start_time": "2023-01-18T16:24:14.401Z"
   },
   {
    "duration": 47,
    "start_time": "2023-01-18T16:24:19.180Z"
   },
   {
    "duration": 19,
    "start_time": "2023-01-18T16:24:27.759Z"
   },
   {
    "duration": 21,
    "start_time": "2023-01-18T16:24:49.869Z"
   },
   {
    "duration": 56,
    "start_time": "2023-01-18T16:26:32.779Z"
   },
   {
    "duration": 102,
    "start_time": "2023-01-18T16:27:25.131Z"
   },
   {
    "duration": 46,
    "start_time": "2023-01-18T16:27:30.181Z"
   },
   {
    "duration": 20,
    "start_time": "2023-01-18T16:27:33.980Z"
   },
   {
    "duration": 19,
    "start_time": "2023-01-18T16:27:44.930Z"
   },
   {
    "duration": 3,
    "start_time": "2023-01-18T16:36:00.008Z"
   },
   {
    "duration": 4,
    "start_time": "2023-01-18T16:36:08.359Z"
   },
   {
    "duration": 6,
    "start_time": "2023-01-18T16:36:45.608Z"
   },
   {
    "duration": 2,
    "start_time": "2023-01-18T16:48:32.459Z"
   },
   {
    "duration": 3,
    "start_time": "2023-01-18T16:49:35.317Z"
   },
   {
    "duration": 4,
    "start_time": "2023-01-18T16:49:49.258Z"
   },
   {
    "duration": 3,
    "start_time": "2023-01-18T16:51:57.779Z"
   },
   {
    "duration": 3,
    "start_time": "2023-01-18T16:52:06.077Z"
   },
   {
    "duration": 4,
    "start_time": "2023-01-18T16:57:04.565Z"
   },
   {
    "duration": 9,
    "start_time": "2023-01-18T16:57:19.587Z"
   },
   {
    "duration": 13,
    "start_time": "2023-01-18T16:57:45.527Z"
   },
   {
    "duration": 9,
    "start_time": "2023-01-18T16:59:47.564Z"
   },
   {
    "duration": 9,
    "start_time": "2023-01-18T17:00:09.979Z"
   },
   {
    "duration": 12,
    "start_time": "2023-01-18T17:00:50.207Z"
   },
   {
    "duration": 4,
    "start_time": "2023-01-18T17:00:53.557Z"
   },
   {
    "duration": 8,
    "start_time": "2023-01-18T17:00:55.230Z"
   },
   {
    "duration": 8,
    "start_time": "2023-01-18T17:03:10.835Z"
   },
   {
    "duration": 8,
    "start_time": "2023-01-18T17:05:40.144Z"
   },
   {
    "duration": 8,
    "start_time": "2023-01-18T17:05:50.925Z"
   },
   {
    "duration": 77,
    "start_time": "2023-01-19T11:02:06.266Z"
   },
   {
    "duration": 9,
    "start_time": "2023-01-19T11:02:09.591Z"
   },
   {
    "duration": 5,
    "start_time": "2023-01-19T11:02:20.358Z"
   },
   {
    "duration": 8,
    "start_time": "2023-01-19T11:02:25.434Z"
   },
   {
    "duration": 480,
    "start_time": "2023-01-19T11:02:35.361Z"
   },
   {
    "duration": 40,
    "start_time": "2023-01-19T11:02:40.193Z"
   },
   {
    "duration": 4,
    "start_time": "2023-01-19T11:02:45.764Z"
   },
   {
    "duration": 1119,
    "start_time": "2023-01-19T11:02:45.771Z"
   },
   {
    "duration": 6,
    "start_time": "2023-01-19T11:02:46.893Z"
   },
   {
    "duration": 54,
    "start_time": "2023-01-19T11:02:46.901Z"
   },
   {
    "duration": 16,
    "start_time": "2023-01-19T11:02:46.958Z"
   },
   {
    "duration": 235,
    "start_time": "2023-01-19T11:02:46.977Z"
   },
   {
    "duration": 13,
    "start_time": "2023-01-19T11:02:47.214Z"
   },
   {
    "duration": 749,
    "start_time": "2023-01-19T11:02:47.229Z"
   },
   {
    "duration": 51,
    "start_time": "2023-01-19T11:02:47.980Z"
   },
   {
    "duration": 9,
    "start_time": "2023-01-19T11:02:48.033Z"
   },
   {
    "duration": 184,
    "start_time": "2023-01-19T11:02:48.044Z"
   },
   {
    "duration": 15,
    "start_time": "2023-01-19T11:02:48.230Z"
   },
   {
    "duration": 85,
    "start_time": "2023-01-19T11:02:48.247Z"
   },
   {
    "duration": 0,
    "start_time": "2023-01-19T11:02:48.334Z"
   },
   {
    "duration": 13,
    "start_time": "2023-01-19T11:04:40.727Z"
   },
   {
    "duration": 20,
    "start_time": "2023-01-19T11:05:05.142Z"
   },
   {
    "duration": 27,
    "start_time": "2023-01-19T11:06:05.982Z"
   },
   {
    "duration": 25,
    "start_time": "2023-01-19T11:06:31.712Z"
   },
   {
    "duration": 28,
    "start_time": "2023-01-19T11:06:58.117Z"
   },
   {
    "duration": 3,
    "start_time": "2023-01-19T11:07:57.652Z"
   },
   {
    "duration": 4,
    "start_time": "2023-01-19T11:08:14.242Z"
   },
   {
    "duration": 3,
    "start_time": "2023-01-19T11:08:27.200Z"
   },
   {
    "duration": 78,
    "start_time": "2023-01-19T11:09:34.163Z"
   },
   {
    "duration": 18,
    "start_time": "2023-01-19T11:10:04.308Z"
   },
   {
    "duration": 28,
    "start_time": "2023-01-19T11:10:36.315Z"
   },
   {
    "duration": 27,
    "start_time": "2023-01-19T11:10:58.589Z"
   },
   {
    "duration": 102,
    "start_time": "2023-01-19T11:13:16.690Z"
   },
   {
    "duration": 40,
    "start_time": "2023-01-19T11:13:28.554Z"
   },
   {
    "duration": 7,
    "start_time": "2023-01-19T11:13:40.010Z"
   },
   {
    "duration": 32,
    "start_time": "2023-01-19T11:13:47.207Z"
   },
   {
    "duration": 21,
    "start_time": "2023-01-19T11:13:55.141Z"
   },
   {
    "duration": 24,
    "start_time": "2023-01-19T11:16:39.349Z"
   },
   {
    "duration": 22,
    "start_time": "2023-01-19T11:19:28.539Z"
   },
   {
    "duration": 8,
    "start_time": "2023-01-19T11:23:58.073Z"
   },
   {
    "duration": 9,
    "start_time": "2023-01-19T11:24:32.858Z"
   },
   {
    "duration": 10,
    "start_time": "2023-01-19T11:24:46.609Z"
   },
   {
    "duration": 9,
    "start_time": "2023-01-19T11:25:33.280Z"
   },
   {
    "duration": 9,
    "start_time": "2023-01-19T11:25:49.106Z"
   },
   {
    "duration": 11,
    "start_time": "2023-01-19T11:26:13.045Z"
   },
   {
    "duration": 3,
    "start_time": "2023-01-19T11:27:08.804Z"
   },
   {
    "duration": 11,
    "start_time": "2023-01-19T11:27:42.266Z"
   },
   {
    "duration": 36,
    "start_time": "2023-01-19T11:28:16.639Z"
   },
   {
    "duration": 27,
    "start_time": "2023-01-19T11:29:20.470Z"
   },
   {
    "duration": 23,
    "start_time": "2023-01-19T11:30:31.570Z"
   },
   {
    "duration": 12,
    "start_time": "2023-01-19T11:30:42.370Z"
   },
   {
    "duration": 24,
    "start_time": "2023-01-19T11:31:12.642Z"
   },
   {
    "duration": 21,
    "start_time": "2023-01-19T11:31:31.410Z"
   },
   {
    "duration": 23,
    "start_time": "2023-01-19T11:32:16.977Z"
   },
   {
    "duration": 22,
    "start_time": "2023-01-19T11:41:08.467Z"
   },
   {
    "duration": 44,
    "start_time": "2023-01-19T11:41:51.520Z"
   },
   {
    "duration": 76,
    "start_time": "2023-01-19T11:42:32.868Z"
   },
   {
    "duration": 9,
    "start_time": "2023-01-19T11:42:43.575Z"
   },
   {
    "duration": 23,
    "start_time": "2023-01-19T11:43:05.395Z"
   },
   {
    "duration": 1165,
    "start_time": "2023-01-19T11:44:45.920Z"
   },
   {
    "duration": 1260,
    "start_time": "2023-01-19T11:45:25.381Z"
   },
   {
    "duration": 1722,
    "start_time": "2023-01-19T11:45:59.209Z"
   },
   {
    "duration": 17,
    "start_time": "2023-01-19T11:47:43.001Z"
   },
   {
    "duration": 1188,
    "start_time": "2023-01-19T11:47:53.562Z"
   },
   {
    "duration": 11,
    "start_time": "2023-01-19T11:48:41.905Z"
   },
   {
    "duration": 10,
    "start_time": "2023-01-19T11:48:48.513Z"
   },
   {
    "duration": 1896,
    "start_time": "2023-01-19T11:49:06.202Z"
   },
   {
    "duration": 1610,
    "start_time": "2023-01-19T11:49:21.078Z"
   },
   {
    "duration": 1543,
    "start_time": "2023-01-19T11:49:43.555Z"
   },
   {
    "duration": 1463,
    "start_time": "2023-01-19T11:50:40.754Z"
   },
   {
    "duration": 4,
    "start_time": "2023-01-19T11:51:02.107Z"
   },
   {
    "duration": 1633,
    "start_time": "2023-01-19T11:51:09.677Z"
   },
   {
    "duration": 19,
    "start_time": "2023-01-19T11:51:30.208Z"
   },
   {
    "duration": 1546,
    "start_time": "2023-01-19T11:52:22.967Z"
   },
   {
    "duration": 1589,
    "start_time": "2023-01-19T11:53:46.559Z"
   },
   {
    "duration": 1664,
    "start_time": "2023-01-19T11:54:14.216Z"
   },
   {
    "duration": 1424,
    "start_time": "2023-01-19T11:54:46.979Z"
   },
   {
    "duration": 1442,
    "start_time": "2023-01-19T12:00:12.817Z"
   },
   {
    "duration": 1242,
    "start_time": "2023-01-19T12:01:32.811Z"
   },
   {
    "duration": 1206,
    "start_time": "2023-01-19T12:03:34.379Z"
   },
   {
    "duration": 1234,
    "start_time": "2023-01-19T12:03:56.983Z"
   },
   {
    "duration": 1325,
    "start_time": "2023-01-19T12:04:18.504Z"
   },
   {
    "duration": 1263,
    "start_time": "2023-01-19T12:04:32.681Z"
   },
   {
    "duration": 1239,
    "start_time": "2023-01-19T12:04:48.944Z"
   },
   {
    "duration": 13,
    "start_time": "2023-01-19T12:08:12.174Z"
   },
   {
    "duration": 7,
    "start_time": "2023-01-19T12:08:30.195Z"
   },
   {
    "duration": 7,
    "start_time": "2023-01-19T12:08:54.357Z"
   },
   {
    "duration": 23,
    "start_time": "2023-01-19T12:09:52.171Z"
   },
   {
    "duration": 13,
    "start_time": "2023-01-19T12:10:42.079Z"
   },
   {
    "duration": 4,
    "start_time": "2023-01-19T12:11:24.108Z"
   },
   {
    "duration": 4,
    "start_time": "2023-01-19T12:11:42.373Z"
   },
   {
    "duration": 23,
    "start_time": "2023-01-19T12:12:13.250Z"
   },
   {
    "duration": 3,
    "start_time": "2023-01-19T12:13:03.206Z"
   },
   {
    "duration": 448,
    "start_time": "2023-01-19T12:13:03.211Z"
   },
   {
    "duration": 5,
    "start_time": "2023-01-19T12:13:03.661Z"
   },
   {
    "duration": 71,
    "start_time": "2023-01-19T12:13:03.667Z"
   },
   {
    "duration": 12,
    "start_time": "2023-01-19T12:13:03.740Z"
   },
   {
    "duration": 144,
    "start_time": "2023-01-19T12:13:03.753Z"
   },
   {
    "duration": 6,
    "start_time": "2023-01-19T12:13:03.899Z"
   },
   {
    "duration": 27,
    "start_time": "2023-01-19T12:13:03.907Z"
   },
   {
    "duration": 31,
    "start_time": "2023-01-19T12:13:03.939Z"
   },
   {
    "duration": 162,
    "start_time": "2023-01-19T12:13:03.972Z"
   },
   {
    "duration": 27,
    "start_time": "2023-01-19T12:13:04.135Z"
   },
   {
    "duration": 19,
    "start_time": "2023-01-19T12:13:04.163Z"
   },
   {
    "duration": 30,
    "start_time": "2023-01-19T12:13:04.183Z"
   },
   {
    "duration": 0,
    "start_time": "2023-01-19T12:13:04.215Z"
   },
   {
    "duration": 5,
    "start_time": "2023-01-19T12:14:29.814Z"
   },
   {
    "duration": 7,
    "start_time": "2023-01-19T12:15:05.894Z"
   },
   {
    "duration": 7,
    "start_time": "2023-01-19T12:15:24.184Z"
   },
   {
    "duration": 24,
    "start_time": "2023-01-19T12:15:41.263Z"
   },
   {
    "duration": 22,
    "start_time": "2023-01-19T12:18:54.987Z"
   },
   {
    "duration": 35,
    "start_time": "2023-01-19T12:19:07.289Z"
   },
   {
    "duration": 21,
    "start_time": "2023-01-19T12:25:52.867Z"
   },
   {
    "duration": 16,
    "start_time": "2023-01-19T12:26:54.748Z"
   },
   {
    "duration": 22,
    "start_time": "2023-01-19T12:27:06.068Z"
   },
   {
    "duration": 22,
    "start_time": "2023-01-19T12:27:32.800Z"
   },
   {
    "duration": 22,
    "start_time": "2023-01-19T12:28:08.801Z"
   },
   {
    "duration": 5,
    "start_time": "2023-01-19T12:28:25.946Z"
   },
   {
    "duration": 21,
    "start_time": "2023-01-19T12:28:49.351Z"
   },
   {
    "duration": 15,
    "start_time": "2023-01-19T12:29:31.849Z"
   },
   {
    "duration": 40,
    "start_time": "2023-01-19T12:29:51.601Z"
   },
   {
    "duration": 7,
    "start_time": "2023-01-19T12:30:30.093Z"
   },
   {
    "duration": 6,
    "start_time": "2023-01-19T12:30:52.169Z"
   },
   {
    "duration": 9,
    "start_time": "2023-01-19T12:31:25.811Z"
   },
   {
    "duration": 21,
    "start_time": "2023-01-19T12:39:13.374Z"
   },
   {
    "duration": 31,
    "start_time": "2023-01-19T12:46:14.579Z"
   },
   {
    "duration": 7,
    "start_time": "2023-01-19T12:47:57.509Z"
   },
   {
    "duration": 11,
    "start_time": "2023-01-19T12:50:55.234Z"
   },
   {
    "duration": 16,
    "start_time": "2023-01-19T12:53:34.667Z"
   },
   {
    "duration": 8,
    "start_time": "2023-01-19T12:53:51.694Z"
   },
   {
    "duration": 13,
    "start_time": "2023-01-19T12:54:53.368Z"
   },
   {
    "duration": 12,
    "start_time": "2023-01-19T12:55:25.067Z"
   },
   {
    "duration": 9,
    "start_time": "2023-01-19T12:55:38.265Z"
   },
   {
    "duration": 10,
    "start_time": "2023-01-19T12:55:58.104Z"
   },
   {
    "duration": 3,
    "start_time": "2023-01-19T12:58:17.187Z"
   },
   {
    "duration": 420,
    "start_time": "2023-01-19T12:58:17.192Z"
   },
   {
    "duration": 4,
    "start_time": "2023-01-19T12:58:17.614Z"
   },
   {
    "duration": 52,
    "start_time": "2023-01-19T12:58:17.620Z"
   },
   {
    "duration": 10,
    "start_time": "2023-01-19T12:58:17.673Z"
   },
   {
    "duration": 143,
    "start_time": "2023-01-19T12:58:17.684Z"
   },
   {
    "duration": 7,
    "start_time": "2023-01-19T12:58:17.829Z"
   },
   {
    "duration": 29,
    "start_time": "2023-01-19T12:58:17.839Z"
   },
   {
    "duration": 57,
    "start_time": "2023-01-19T12:58:17.870Z"
   },
   {
    "duration": 7,
    "start_time": "2023-01-19T12:58:17.930Z"
   },
   {
    "duration": 89,
    "start_time": "2023-01-19T12:58:17.939Z"
   },
   {
    "duration": 15,
    "start_time": "2023-01-19T12:58:18.030Z"
   },
   {
    "duration": 0,
    "start_time": "2023-01-19T12:58:18.047Z"
   },
   {
    "duration": 10,
    "start_time": "2023-01-19T12:59:05.393Z"
   },
   {
    "duration": 10,
    "start_time": "2023-01-19T12:59:11.363Z"
   },
   {
    "duration": 12,
    "start_time": "2023-01-19T12:59:37.973Z"
   },
   {
    "duration": 3,
    "start_time": "2023-01-19T12:59:42.478Z"
   },
   {
    "duration": 417,
    "start_time": "2023-01-19T12:59:42.483Z"
   },
   {
    "duration": 5,
    "start_time": "2023-01-19T12:59:42.902Z"
   },
   {
    "duration": 67,
    "start_time": "2023-01-19T12:59:42.908Z"
   },
   {
    "duration": 10,
    "start_time": "2023-01-19T12:59:42.977Z"
   },
   {
    "duration": 155,
    "start_time": "2023-01-19T12:59:42.989Z"
   },
   {
    "duration": 7,
    "start_time": "2023-01-19T12:59:43.145Z"
   },
   {
    "duration": 28,
    "start_time": "2023-01-19T12:59:43.154Z"
   },
   {
    "duration": 149,
    "start_time": "2023-01-19T12:59:43.184Z"
   },
   {
    "duration": 6,
    "start_time": "2023-01-19T12:59:43.335Z"
   },
   {
    "duration": 18,
    "start_time": "2023-01-19T12:59:43.343Z"
   },
   {
    "duration": 21,
    "start_time": "2023-01-19T12:59:43.363Z"
   },
   {
    "duration": 0,
    "start_time": "2023-01-19T12:59:43.385Z"
   },
   {
    "duration": 9,
    "start_time": "2023-01-19T13:00:13.273Z"
   },
   {
    "duration": 10,
    "start_time": "2023-01-19T13:00:24.069Z"
   },
   {
    "duration": 15,
    "start_time": "2023-01-19T13:01:22.485Z"
   },
   {
    "duration": 15,
    "start_time": "2023-01-19T13:06:07.516Z"
   },
   {
    "duration": 14,
    "start_time": "2023-01-19T13:10:13.309Z"
   },
   {
    "duration": 9,
    "start_time": "2023-01-19T13:11:57.180Z"
   },
   {
    "duration": 7,
    "start_time": "2023-01-19T13:12:26.761Z"
   },
   {
    "duration": 8,
    "start_time": "2023-01-19T13:13:32.180Z"
   },
   {
    "duration": 10,
    "start_time": "2023-01-19T13:14:34.912Z"
   },
   {
    "duration": 13,
    "start_time": "2023-01-19T14:12:51.636Z"
   },
   {
    "duration": 1321,
    "start_time": "2023-01-19T14:16:41.009Z"
   },
   {
    "duration": 51,
    "start_time": "2023-01-19T15:37:08.306Z"
   },
   {
    "duration": 439,
    "start_time": "2023-01-19T15:37:14.679Z"
   },
   {
    "duration": 1019,
    "start_time": "2023-01-19T15:37:16.048Z"
   },
   {
    "duration": 144,
    "start_time": "2023-01-19T15:37:26.431Z"
   },
   {
    "duration": 145,
    "start_time": "2023-01-19T15:37:59.719Z"
   },
   {
    "duration": 9,
    "start_time": "2023-01-19T15:38:02.958Z"
   },
   {
    "duration": 719,
    "start_time": "2023-01-19T15:38:09.499Z"
   },
   {
    "duration": 16,
    "start_time": "2023-01-19T15:38:32.975Z"
   },
   {
    "duration": 81,
    "start_time": "2023-01-19T15:38:46.905Z"
   },
   {
    "duration": 26,
    "start_time": "2023-01-19T15:39:05.765Z"
   },
   {
    "duration": 7,
    "start_time": "2023-01-19T15:39:17.802Z"
   },
   {
    "duration": 71,
    "start_time": "2023-01-19T15:45:34.494Z"
   },
   {
    "duration": 14,
    "start_time": "2023-01-19T15:45:36.335Z"
   },
   {
    "duration": 2,
    "start_time": "2023-01-19T15:45:40.390Z"
   },
   {
    "duration": 452,
    "start_time": "2023-01-19T15:45:42.453Z"
   },
   {
    "duration": 141,
    "start_time": "2023-01-19T15:45:46.206Z"
   },
   {
    "duration": 15,
    "start_time": "2023-01-19T15:45:49.248Z"
   },
   {
    "duration": 12,
    "start_time": "2023-01-19T15:45:52.369Z"
   },
   {
    "duration": 13,
    "start_time": "2023-01-19T15:47:43.494Z"
   },
   {
    "duration": 35,
    "start_time": "2023-01-19T15:54:51.581Z"
   },
   {
    "duration": 29,
    "start_time": "2023-01-19T15:59:06.358Z"
   },
   {
    "duration": 3,
    "start_time": "2023-01-19T15:59:22.657Z"
   },
   {
    "duration": 471,
    "start_time": "2023-01-19T15:59:25.180Z"
   },
   {
    "duration": 456,
    "start_time": "2023-01-19T15:59:29.002Z"
   },
   {
    "duration": 132,
    "start_time": "2023-01-19T15:59:34.009Z"
   },
   {
    "duration": 18,
    "start_time": "2023-01-19T15:59:35.702Z"
   },
   {
    "duration": 28,
    "start_time": "2023-01-19T15:59:37.234Z"
   },
   {
    "duration": 93,
    "start_time": "2023-01-19T15:59:59.830Z"
   },
   {
    "duration": 7,
    "start_time": "2023-01-19T16:00:11.332Z"
   },
   {
    "duration": 1206,
    "start_time": "2023-01-19T16:00:41.476Z"
   },
   {
    "duration": 459,
    "start_time": "2023-01-19T16:00:42.684Z"
   },
   {
    "duration": 165,
    "start_time": "2023-01-19T16:00:43.146Z"
   },
   {
    "duration": 18,
    "start_time": "2023-01-19T16:00:43.314Z"
   },
   {
    "duration": 108,
    "start_time": "2023-01-19T16:00:43.335Z"
   },
   {
    "duration": 111,
    "start_time": "2023-01-19T16:00:43.444Z"
   },
   {
    "duration": 0,
    "start_time": "2023-01-19T16:00:43.557Z"
   },
   {
    "duration": 0,
    "start_time": "2023-01-19T16:00:43.559Z"
   },
   {
    "duration": 1,
    "start_time": "2023-01-19T16:00:43.560Z"
   },
   {
    "duration": 0,
    "start_time": "2023-01-19T16:00:43.562Z"
   },
   {
    "duration": 0,
    "start_time": "2023-01-19T16:00:43.563Z"
   },
   {
    "duration": 7,
    "start_time": "2023-01-19T16:00:55.060Z"
   },
   {
    "duration": 44,
    "start_time": "2023-01-19T16:04:52.449Z"
   },
   {
    "duration": 106,
    "start_time": "2023-01-19T16:06:21.955Z"
   },
   {
    "duration": 115,
    "start_time": "2023-01-19T16:06:50.864Z"
   },
   {
    "duration": 117,
    "start_time": "2023-01-19T16:07:09.442Z"
   },
   {
    "duration": 38,
    "start_time": "2023-01-19T16:08:47.544Z"
   },
   {
    "duration": 53,
    "start_time": "2023-01-19T16:09:07.348Z"
   },
   {
    "duration": 518,
    "start_time": "2023-01-19T16:09:27.871Z"
   },
   {
    "duration": 4,
    "start_time": "2023-01-19T16:10:22.925Z"
   },
   {
    "duration": 566,
    "start_time": "2023-01-19T16:14:15.437Z"
   },
   {
    "duration": 537,
    "start_time": "2023-01-19T16:15:14.649Z"
   },
   {
    "duration": 7,
    "start_time": "2023-01-19T16:15:19.509Z"
   },
   {
    "duration": 4,
    "start_time": "2023-01-19T16:15:21.655Z"
   },
   {
    "duration": 15,
    "start_time": "2023-01-19T16:18:40.448Z"
   },
   {
    "duration": 380,
    "start_time": "2023-01-19T16:19:22.522Z"
   },
   {
    "duration": 13,
    "start_time": "2023-01-19T16:19:26.414Z"
   },
   {
    "duration": 24,
    "start_time": "2023-01-19T16:19:40.380Z"
   },
   {
    "duration": 19,
    "start_time": "2023-01-19T16:23:08.503Z"
   },
   {
    "duration": 17,
    "start_time": "2023-01-19T16:24:08.501Z"
   },
   {
    "duration": 3,
    "start_time": "2023-01-19T16:24:26.814Z"
   },
   {
    "duration": 18,
    "start_time": "2023-01-19T16:24:32.781Z"
   },
   {
    "duration": 28,
    "start_time": "2023-01-19T16:26:16.080Z"
   },
   {
    "duration": 27,
    "start_time": "2023-01-19T16:27:24.576Z"
   },
   {
    "duration": 4256,
    "start_time": "2023-01-19T16:28:22.582Z"
   },
   {
    "duration": 4630,
    "start_time": "2023-01-19T16:28:59.259Z"
   },
   {
    "duration": 48,
    "start_time": "2023-01-20T12:56:49.160Z"
   },
   {
    "duration": 6,
    "start_time": "2023-01-20T12:56:54.453Z"
   },
   {
    "duration": 1107,
    "start_time": "2023-01-20T12:57:20.038Z"
   },
   {
    "duration": 918,
    "start_time": "2023-01-20T12:57:24.274Z"
   },
   {
    "duration": 382,
    "start_time": "2023-01-20T12:58:53.308Z"
   },
   {
    "duration": 5,
    "start_time": "2023-01-20T12:59:59.910Z"
   },
   {
    "duration": 201,
    "start_time": "2023-01-20T13:04:12.567Z"
   },
   {
    "duration": 195,
    "start_time": "2023-01-20T13:04:17.719Z"
   },
   {
    "duration": 3,
    "start_time": "2023-01-20T13:05:23.942Z"
   },
   {
    "duration": 104,
    "start_time": "2023-01-20T13:05:43.779Z"
   },
   {
    "duration": 4,
    "start_time": "2023-01-20T13:06:10.600Z"
   },
   {
    "duration": 37,
    "start_time": "2023-01-20T13:06:12.344Z"
   },
   {
    "duration": 5,
    "start_time": "2023-01-20T13:06:37.485Z"
   },
   {
    "duration": 4,
    "start_time": "2023-01-20T13:06:40.139Z"
   },
   {
    "duration": 30,
    "start_time": "2023-01-20T13:06:45.868Z"
   },
   {
    "duration": 8,
    "start_time": "2023-01-20T13:07:16.657Z"
   },
   {
    "duration": 11,
    "start_time": "2023-01-20T13:07:28.132Z"
   },
   {
    "duration": 7,
    "start_time": "2023-01-20T13:07:43.014Z"
   },
   {
    "duration": 9,
    "start_time": "2023-01-20T13:08:22.362Z"
   },
   {
    "duration": 6,
    "start_time": "2023-01-20T13:08:35.526Z"
   },
   {
    "duration": 10,
    "start_time": "2023-01-20T13:09:35.685Z"
   },
   {
    "duration": 5,
    "start_time": "2023-01-20T13:09:42.892Z"
   },
   {
    "duration": 4,
    "start_time": "2023-01-20T13:10:19.241Z"
   },
   {
    "duration": 393,
    "start_time": "2023-01-20T13:10:22.458Z"
   },
   {
    "duration": 1079,
    "start_time": "2023-01-20T13:10:38.524Z"
   },
   {
    "duration": 381,
    "start_time": "2023-01-20T13:10:39.605Z"
   },
   {
    "duration": 123,
    "start_time": "2023-01-20T13:10:39.987Z"
   },
   {
    "duration": 23,
    "start_time": "2023-01-20T13:10:40.112Z"
   },
   {
    "duration": 16,
    "start_time": "2023-01-20T13:10:40.137Z"
   },
   {
    "duration": 399,
    "start_time": "2023-01-20T13:10:40.155Z"
   },
   {
    "duration": 7,
    "start_time": "2023-01-20T13:10:40.629Z"
   },
   {
    "duration": 102,
    "start_time": "2023-01-20T13:10:40.637Z"
   },
   {
    "duration": 28,
    "start_time": "2023-01-20T13:10:40.741Z"
   },
   {
    "duration": 3934,
    "start_time": "2023-01-20T13:10:40.772Z"
   },
   {
    "duration": 427,
    "start_time": "2023-01-20T13:21:37.110Z"
   },
   {
    "duration": 4,
    "start_time": "2023-01-20T13:22:45.591Z"
   },
   {
    "duration": 421,
    "start_time": "2023-01-20T13:22:47.622Z"
   },
   {
    "duration": 70,
    "start_time": "2023-01-20T13:26:53.168Z"
   },
   {
    "duration": 525,
    "start_time": "2023-01-20T13:27:13.707Z"
   },
   {
    "duration": 441,
    "start_time": "2023-01-20T13:27:34.801Z"
   },
   {
    "duration": 379,
    "start_time": "2023-01-20T13:27:44.056Z"
   },
   {
    "duration": 7,
    "start_time": "2023-01-20T13:29:32.757Z"
   },
   {
    "duration": 7,
    "start_time": "2023-01-20T13:31:33.984Z"
   },
   {
    "duration": 15,
    "start_time": "2023-01-20T13:31:49.523Z"
   },
   {
    "duration": 67,
    "start_time": "2023-01-20T13:36:59.855Z"
   },
   {
    "duration": 19,
    "start_time": "2023-01-20T13:45:41.252Z"
   },
   {
    "duration": 20,
    "start_time": "2023-01-20T13:50:02.598Z"
   },
   {
    "duration": 3833,
    "start_time": "2023-01-20T13:50:46.409Z"
   },
   {
    "duration": 4024,
    "start_time": "2023-01-20T13:52:05.318Z"
   },
   {
    "duration": 4055,
    "start_time": "2023-01-20T13:53:16.937Z"
   },
   {
    "duration": 71,
    "start_time": "2023-01-20T13:55:23.703Z"
   },
   {
    "duration": 3909,
    "start_time": "2023-01-20T13:55:39.147Z"
   },
   {
    "duration": 3930,
    "start_time": "2023-01-20T13:56:26.951Z"
   },
   {
    "duration": 1187,
    "start_time": "2023-01-20T14:03:58.100Z"
   },
   {
    "duration": 398,
    "start_time": "2023-01-20T14:03:59.288Z"
   },
   {
    "duration": 130,
    "start_time": "2023-01-20T14:03:59.687Z"
   },
   {
    "duration": 19,
    "start_time": "2023-01-20T14:03:59.819Z"
   },
   {
    "duration": 11,
    "start_time": "2023-01-20T14:03:59.840Z"
   },
   {
    "duration": 385,
    "start_time": "2023-01-20T14:03:59.853Z"
   },
   {
    "duration": 89,
    "start_time": "2023-01-20T14:04:00.240Z"
   },
   {
    "duration": 122,
    "start_time": "2023-01-20T14:04:00.331Z"
   },
   {
    "duration": 49,
    "start_time": "2023-01-20T14:04:00.465Z"
   },
   {
    "duration": 142,
    "start_time": "2023-01-20T14:04:00.517Z"
   },
   {
    "duration": 4,
    "start_time": "2023-01-20T14:07:50.950Z"
   },
   {
    "duration": 441,
    "start_time": "2023-01-20T14:07:50.956Z"
   },
   {
    "duration": 142,
    "start_time": "2023-01-20T14:07:51.401Z"
   },
   {
    "duration": 15,
    "start_time": "2023-01-20T14:07:51.546Z"
   },
   {
    "duration": 20,
    "start_time": "2023-01-20T14:07:51.563Z"
   },
   {
    "duration": 452,
    "start_time": "2023-01-20T14:07:51.585Z"
   },
   {
    "duration": 98,
    "start_time": "2023-01-20T14:07:52.042Z"
   },
   {
    "duration": 117,
    "start_time": "2023-01-20T14:07:52.142Z"
   },
   {
    "duration": 36,
    "start_time": "2023-01-20T14:07:52.261Z"
   },
   {
    "duration": 17,
    "start_time": "2023-01-20T14:07:52.299Z"
   },
   {
    "duration": 1156,
    "start_time": "2023-01-20T14:09:18.459Z"
   },
   {
    "duration": 404,
    "start_time": "2023-01-20T14:09:19.617Z"
   },
   {
    "duration": 138,
    "start_time": "2023-01-20T14:09:20.023Z"
   },
   {
    "duration": 16,
    "start_time": "2023-01-20T14:09:20.163Z"
   },
   {
    "duration": 16,
    "start_time": "2023-01-20T14:09:20.181Z"
   },
   {
    "duration": 448,
    "start_time": "2023-01-20T14:09:20.199Z"
   },
   {
    "duration": 82,
    "start_time": "2023-01-20T14:09:20.649Z"
   },
   {
    "duration": 107,
    "start_time": "2023-01-20T14:09:20.733Z"
   },
   {
    "duration": 31,
    "start_time": "2023-01-20T14:09:20.842Z"
   },
   {
    "duration": 119,
    "start_time": "2023-01-20T14:09:20.875Z"
   },
   {
    "duration": 1044,
    "start_time": "2023-01-20T14:14:11.757Z"
   },
   {
    "duration": 388,
    "start_time": "2023-01-20T14:14:12.803Z"
   },
   {
    "duration": 135,
    "start_time": "2023-01-20T14:14:13.192Z"
   },
   {
    "duration": 15,
    "start_time": "2023-01-20T14:14:13.329Z"
   },
   {
    "duration": 11,
    "start_time": "2023-01-20T14:14:13.346Z"
   },
   {
    "duration": 377,
    "start_time": "2023-01-20T14:14:13.358Z"
   },
   {
    "duration": 101,
    "start_time": "2023-01-20T14:14:13.826Z"
   },
   {
    "duration": 11,
    "start_time": "2023-01-20T14:14:13.929Z"
   },
   {
    "duration": 43,
    "start_time": "2023-01-20T14:14:13.942Z"
   },
   {
    "duration": 3951,
    "start_time": "2023-01-20T14:14:13.988Z"
   },
   {
    "duration": 3,
    "start_time": "2023-01-20T14:14:26.132Z"
   },
   {
    "duration": 395,
    "start_time": "2023-01-20T14:14:26.137Z"
   },
   {
    "duration": 133,
    "start_time": "2023-01-20T14:14:26.534Z"
   },
   {
    "duration": 17,
    "start_time": "2023-01-20T14:14:26.669Z"
   },
   {
    "duration": 23,
    "start_time": "2023-01-20T14:14:26.688Z"
   },
   {
    "duration": 430,
    "start_time": "2023-01-20T14:14:26.713Z"
   },
   {
    "duration": 86,
    "start_time": "2023-01-20T14:14:27.145Z"
   },
   {
    "duration": 110,
    "start_time": "2023-01-20T14:14:27.233Z"
   },
   {
    "duration": 33,
    "start_time": "2023-01-20T14:14:27.345Z"
   },
   {
    "duration": 3878,
    "start_time": "2023-01-20T14:14:27.380Z"
   },
   {
    "duration": 53,
    "start_time": "2023-01-20T14:55:55.071Z"
   },
   {
    "duration": 1597,
    "start_time": "2023-01-20T14:56:33.399Z"
   },
   {
    "duration": 654,
    "start_time": "2023-01-20T14:56:34.998Z"
   },
   {
    "duration": 151,
    "start_time": "2023-01-20T14:56:35.654Z"
   },
   {
    "duration": 17,
    "start_time": "2023-01-20T14:56:35.807Z"
   },
   {
    "duration": 8,
    "start_time": "2023-01-20T14:56:35.825Z"
   },
   {
    "duration": 447,
    "start_time": "2023-01-20T14:56:35.834Z"
   },
   {
    "duration": 14,
    "start_time": "2023-01-20T14:56:36.348Z"
   },
   {
    "duration": 117,
    "start_time": "2023-01-20T14:56:36.365Z"
   },
   {
    "duration": 28,
    "start_time": "2023-01-20T14:56:36.484Z"
   },
   {
    "duration": 4371,
    "start_time": "2023-01-20T14:56:36.515Z"
   },
   {
    "duration": 10,
    "start_time": "2023-01-20T14:56:40.888Z"
   },
   {
    "duration": 53,
    "start_time": "2023-01-23T10:46:27.131Z"
   },
   {
    "duration": 1016,
    "start_time": "2023-01-23T10:46:32.393Z"
   },
   {
    "duration": 498,
    "start_time": "2023-01-23T10:46:35.481Z"
   },
   {
    "duration": 18,
    "start_time": "2023-01-23T10:46:38.216Z"
   },
   {
    "duration": 190,
    "start_time": "2023-01-23T10:46:40.650Z"
   },
   {
    "duration": 18,
    "start_time": "2023-01-23T10:46:42.559Z"
   },
   {
    "duration": 196,
    "start_time": "2023-01-23T10:46:44.778Z"
   },
   {
    "duration": 49,
    "start_time": "2023-01-23T10:48:58.173Z"
   },
   {
    "duration": 57,
    "start_time": "2023-01-23T10:52:18.231Z"
   },
   {
    "duration": 47,
    "start_time": "2023-01-23T10:52:33.874Z"
   },
   {
    "duration": 52,
    "start_time": "2023-01-23T10:53:24.753Z"
   },
   {
    "duration": 27,
    "start_time": "2023-01-23T10:53:41.986Z"
   },
   {
    "duration": 27,
    "start_time": "2023-01-23T11:06:37.099Z"
   },
   {
    "duration": 23,
    "start_time": "2023-01-23T11:08:01.475Z"
   },
   {
    "duration": 4535,
    "start_time": "2023-01-23T11:17:34.228Z"
   },
   {
    "duration": 4552,
    "start_time": "2023-01-23T11:18:20.799Z"
   },
   {
    "duration": 69,
    "start_time": "2023-01-23T11:22:39.428Z"
   },
   {
    "duration": 4094,
    "start_time": "2023-01-23T11:23:05.783Z"
   },
   {
    "duration": 4167,
    "start_time": "2023-01-23T11:24:07.178Z"
   },
   {
    "duration": 4,
    "start_time": "2023-01-23T11:29:00.309Z"
   },
   {
    "duration": 46,
    "start_time": "2023-01-23T12:08:55.909Z"
   },
   {
    "duration": 1202,
    "start_time": "2023-01-23T12:09:05.191Z"
   },
   {
    "duration": 405,
    "start_time": "2023-01-23T12:09:08.901Z"
   },
   {
    "duration": 22,
    "start_time": "2023-01-23T12:09:10.866Z"
   },
   {
    "duration": 650,
    "start_time": "2023-01-23T12:09:14.866Z"
   },
   {
    "duration": 21,
    "start_time": "2023-01-23T12:09:16.813Z"
   },
   {
    "duration": 588,
    "start_time": "2023-01-23T12:09:18.661Z"
   },
   {
    "duration": 15,
    "start_time": "2023-01-23T12:09:22.307Z"
   },
   {
    "duration": 39,
    "start_time": "2023-01-23T12:09:25.223Z"
   },
   {
    "duration": 39,
    "start_time": "2023-01-23T12:09:28.043Z"
   },
   {
    "duration": 21,
    "start_time": "2023-01-23T12:10:41.721Z"
   },
   {
    "duration": 6023,
    "start_time": "2023-01-23T12:10:46.765Z"
   },
   {
    "duration": 4871,
    "start_time": "2023-01-23T12:10:52.789Z"
   },
   {
    "duration": 5492,
    "start_time": "2023-01-23T12:10:57.981Z"
   },
   {
    "duration": 13,
    "start_time": "2023-01-23T12:11:03.476Z"
   },
   {
    "duration": 125,
    "start_time": "2023-01-23T12:14:36.473Z"
   },
   {
    "duration": 103,
    "start_time": "2023-01-23T12:15:33.894Z"
   },
   {
    "duration": 6,
    "start_time": "2023-01-23T12:15:44.786Z"
   },
   {
    "duration": 120,
    "start_time": "2023-01-23T12:15:54.217Z"
   },
   {
    "duration": 94,
    "start_time": "2023-01-23T12:18:43.607Z"
   },
   {
    "duration": 10,
    "start_time": "2023-01-23T12:19:03.144Z"
   },
   {
    "duration": 50,
    "start_time": "2023-01-23T12:20:34.640Z"
   },
   {
    "duration": 40,
    "start_time": "2023-01-23T12:20:43.846Z"
   },
   {
    "duration": 6,
    "start_time": "2023-01-23T12:23:20.755Z"
   },
   {
    "duration": 5,
    "start_time": "2023-01-23T12:25:13.304Z"
   },
   {
    "duration": 38,
    "start_time": "2023-01-23T12:25:16.913Z"
   },
   {
    "duration": 52,
    "start_time": "2023-01-23T12:25:35.410Z"
   },
   {
    "duration": 47,
    "start_time": "2023-01-23T12:25:44.346Z"
   },
   {
    "duration": 4,
    "start_time": "2023-01-23T12:26:01.763Z"
   },
   {
    "duration": 3,
    "start_time": "2023-01-23T12:31:09.224Z"
   },
   {
    "duration": 3,
    "start_time": "2023-01-23T12:32:06.523Z"
   },
   {
    "duration": 15,
    "start_time": "2023-01-23T12:32:28.365Z"
   },
   {
    "duration": 5,
    "start_time": "2023-01-23T12:32:41.859Z"
   },
   {
    "duration": 5,
    "start_time": "2023-01-23T12:33:24.896Z"
   },
   {
    "duration": 4,
    "start_time": "2023-01-23T12:33:51.729Z"
   },
   {
    "duration": 18,
    "start_time": "2023-01-23T12:34:17.473Z"
   },
   {
    "duration": 470,
    "start_time": "2023-01-23T12:34:29.943Z"
   },
   {
    "duration": 7,
    "start_time": "2023-01-23T12:34:38.743Z"
   },
   {
    "duration": 4,
    "start_time": "2023-01-23T12:34:43.835Z"
   },
   {
    "duration": 23,
    "start_time": "2023-01-23T12:34:46.828Z"
   },
   {
    "duration": 20,
    "start_time": "2023-01-23T12:35:06.216Z"
   },
   {
    "duration": 31,
    "start_time": "2023-01-23T12:35:13.751Z"
   },
   {
    "duration": 21,
    "start_time": "2023-01-23T12:35:27.117Z"
   },
   {
    "duration": 28,
    "start_time": "2023-01-23T12:35:34.098Z"
   },
   {
    "duration": 25,
    "start_time": "2023-01-23T12:36:06.833Z"
   },
   {
    "duration": 27,
    "start_time": "2023-01-23T12:36:10.901Z"
   },
   {
    "duration": 5001,
    "start_time": "2023-01-23T12:36:29.544Z"
   },
   {
    "duration": 4630,
    "start_time": "2023-01-23T12:37:50.130Z"
   },
   {
    "duration": 120,
    "start_time": "2023-01-23T12:44:47.518Z"
   },
   {
    "duration": 16,
    "start_time": "2023-01-23T12:51:27.521Z"
   },
   {
    "duration": 15,
    "start_time": "2023-01-23T12:51:32.648Z"
   },
   {
    "duration": 478,
    "start_time": "2023-01-23T12:56:55.640Z"
   },
   {
    "duration": 1198,
    "start_time": "2023-01-23T12:57:20.148Z"
   },
   {
    "duration": 52,
    "start_time": "2023-01-23T12:59:07.414Z"
   },
   {
    "duration": 866,
    "start_time": "2023-01-23T12:59:39.436Z"
   },
   {
    "duration": 213,
    "start_time": "2023-01-23T13:00:23.000Z"
   },
   {
    "duration": 298,
    "start_time": "2023-01-23T13:00:46.600Z"
   },
   {
    "duration": 175,
    "start_time": "2023-01-23T13:00:49.118Z"
   },
   {
    "duration": 162,
    "start_time": "2023-01-23T13:00:53.344Z"
   },
   {
    "duration": 3,
    "start_time": "2023-01-23T13:02:03.302Z"
   },
   {
    "duration": 78,
    "start_time": "2023-01-23T13:02:08.452Z"
   },
   {
    "duration": 4,
    "start_time": "2023-01-23T13:02:13.619Z"
   },
   {
    "duration": 2,
    "start_time": "2023-01-23T13:02:15.853Z"
   },
   {
    "duration": 8,
    "start_time": "2023-01-23T13:03:31.138Z"
   },
   {
    "duration": 11,
    "start_time": "2023-01-23T13:03:44.520Z"
   },
   {
    "duration": 3,
    "start_time": "2023-01-23T13:05:26.230Z"
   },
   {
    "duration": 1137,
    "start_time": "2023-01-23T13:05:31.903Z"
   },
   {
    "duration": 1503,
    "start_time": "2023-01-23T13:09:49.397Z"
   },
   {
    "duration": 3,
    "start_time": "2023-01-23T13:09:50.902Z"
   },
   {
    "duration": 178,
    "start_time": "2023-01-23T13:09:50.907Z"
   },
   {
    "duration": 26,
    "start_time": "2023-01-23T13:09:51.092Z"
   },
   {
    "duration": 166,
    "start_time": "2023-01-23T13:09:51.120Z"
   },
   {
    "duration": 23,
    "start_time": "2023-01-23T13:09:51.292Z"
   },
   {
    "duration": 180,
    "start_time": "2023-01-23T13:09:51.317Z"
   },
   {
    "duration": 23,
    "start_time": "2023-01-23T13:09:51.503Z"
   },
   {
    "duration": 67,
    "start_time": "2023-01-23T13:09:51.528Z"
   },
   {
    "duration": 42,
    "start_time": "2023-01-23T13:09:51.605Z"
   },
   {
    "duration": 34,
    "start_time": "2023-01-23T13:09:51.649Z"
   },
   {
    "duration": 222,
    "start_time": "2023-01-23T13:09:51.685Z"
   },
   {
    "duration": 181,
    "start_time": "2023-01-23T13:09:51.908Z"
   },
   {
    "duration": 172,
    "start_time": "2023-01-23T13:09:52.091Z"
   },
   {
    "duration": 5313,
    "start_time": "2023-01-23T13:09:52.265Z"
   },
   {
    "duration": 5425,
    "start_time": "2023-01-23T13:09:57.580Z"
   },
   {
    "duration": 5500,
    "start_time": "2023-01-23T13:10:03.007Z"
   },
   {
    "duration": 8,
    "start_time": "2023-01-23T13:10:08.509Z"
   },
   {
    "duration": 18,
    "start_time": "2023-01-23T13:10:08.519Z"
   },
   {
    "duration": 48,
    "start_time": "2023-01-23T13:10:08.539Z"
   },
   {
    "duration": 44,
    "start_time": "2023-01-23T13:10:08.588Z"
   },
   {
    "duration": 56,
    "start_time": "2023-01-23T13:10:08.634Z"
   },
   {
    "duration": 414,
    "start_time": "2023-01-23T13:10:08.693Z"
   },
   {
    "duration": 62,
    "start_time": "2023-01-23T13:10:09.112Z"
   },
   {
    "duration": 134,
    "start_time": "2023-01-23T13:10:09.176Z"
   },
   {
    "duration": 24,
    "start_time": "2023-01-23T13:10:09.312Z"
   },
   {
    "duration": 4419,
    "start_time": "2023-01-23T13:10:09.337Z"
   },
   {
    "duration": 9,
    "start_time": "2023-01-23T13:10:13.759Z"
   },
   {
    "duration": 1630,
    "start_time": "2023-01-23T13:11:45.856Z"
   },
   {
    "duration": 8,
    "start_time": "2023-01-23T13:11:47.500Z"
   },
   {
    "duration": 200,
    "start_time": "2023-01-23T13:11:47.511Z"
   },
   {
    "duration": 28,
    "start_time": "2023-01-23T13:11:47.717Z"
   },
   {
    "duration": 174,
    "start_time": "2023-01-23T13:11:47.748Z"
   },
   {
    "duration": 27,
    "start_time": "2023-01-23T13:11:47.924Z"
   },
   {
    "duration": 174,
    "start_time": "2023-01-23T13:11:47.953Z"
   },
   {
    "duration": 29,
    "start_time": "2023-01-23T13:11:48.129Z"
   },
   {
    "duration": 67,
    "start_time": "2023-01-23T13:11:48.160Z"
   },
   {
    "duration": 58,
    "start_time": "2023-01-23T13:11:48.231Z"
   },
   {
    "duration": 21,
    "start_time": "2023-01-23T13:11:48.297Z"
   },
   {
    "duration": 218,
    "start_time": "2023-01-23T13:11:48.319Z"
   },
   {
    "duration": 206,
    "start_time": "2023-01-23T13:11:48.538Z"
   },
   {
    "duration": 177,
    "start_time": "2023-01-23T13:11:48.745Z"
   },
   {
    "duration": 5696,
    "start_time": "2023-01-23T13:11:48.925Z"
   },
   {
    "duration": 5575,
    "start_time": "2023-01-23T13:11:54.623Z"
   },
   {
    "duration": 5686,
    "start_time": "2023-01-23T13:12:00.204Z"
   },
   {
    "duration": 8,
    "start_time": "2023-01-23T13:12:05.892Z"
   },
   {
    "duration": 55,
    "start_time": "2023-01-23T13:12:05.904Z"
   },
   {
    "duration": 46,
    "start_time": "2023-01-23T13:12:05.961Z"
   },
   {
    "duration": 51,
    "start_time": "2023-01-23T13:12:06.010Z"
   },
   {
    "duration": 440,
    "start_time": "2023-01-23T13:12:06.063Z"
   },
   {
    "duration": 77,
    "start_time": "2023-01-23T13:12:06.505Z"
   },
   {
    "duration": 82,
    "start_time": "2023-01-23T13:12:06.593Z"
   },
   {
    "duration": 53,
    "start_time": "2023-01-23T13:12:06.681Z"
   },
   {
    "duration": 4561,
    "start_time": "2023-01-23T13:12:06.735Z"
   },
   {
    "duration": 8,
    "start_time": "2023-01-23T13:12:11.302Z"
   },
   {
    "duration": 18,
    "start_time": "2023-01-23T13:15:03.865Z"
   },
   {
    "duration": 1526,
    "start_time": "2023-01-23T13:15:14.508Z"
   },
   {
    "duration": 3,
    "start_time": "2023-01-23T13:15:16.036Z"
   },
   {
    "duration": 197,
    "start_time": "2023-01-23T13:15:16.041Z"
   },
   {
    "duration": 30,
    "start_time": "2023-01-23T13:15:16.240Z"
   },
   {
    "duration": 141,
    "start_time": "2023-01-23T13:15:16.280Z"
   },
   {
    "duration": 19,
    "start_time": "2023-01-23T13:15:16.423Z"
   },
   {
    "duration": 161,
    "start_time": "2023-01-23T13:15:16.444Z"
   },
   {
    "duration": 16,
    "start_time": "2023-01-23T13:15:16.609Z"
   },
   {
    "duration": 49,
    "start_time": "2023-01-23T13:15:16.627Z"
   },
   {
    "duration": 38,
    "start_time": "2023-01-23T13:15:16.678Z"
   },
   {
    "duration": 24,
    "start_time": "2023-01-23T13:15:16.718Z"
   },
   {
    "duration": 199,
    "start_time": "2023-01-23T13:15:16.744Z"
   },
   {
    "duration": 181,
    "start_time": "2023-01-23T13:15:16.945Z"
   },
   {
    "duration": 173,
    "start_time": "2023-01-23T13:15:17.128Z"
   },
   {
    "duration": 5653,
    "start_time": "2023-01-23T13:15:17.308Z"
   },
   {
    "duration": 5621,
    "start_time": "2023-01-23T13:15:22.963Z"
   },
   {
    "duration": 5814,
    "start_time": "2023-01-23T13:15:28.592Z"
   },
   {
    "duration": 4,
    "start_time": "2023-01-23T13:15:34.411Z"
   },
   {
    "duration": 41,
    "start_time": "2023-01-23T13:15:34.417Z"
   },
   {
    "duration": 50,
    "start_time": "2023-01-23T13:15:34.460Z"
   },
   {
    "duration": 31,
    "start_time": "2023-01-23T13:15:34.512Z"
   },
   {
    "duration": 445,
    "start_time": "2023-01-23T13:15:34.545Z"
   },
   {
    "duration": 81,
    "start_time": "2023-01-23T13:15:35.003Z"
   },
   {
    "duration": 6,
    "start_time": "2023-01-23T13:15:35.109Z"
   },
   {
    "duration": 31,
    "start_time": "2023-01-23T13:15:35.168Z"
   },
   {
    "duration": 4656,
    "start_time": "2023-01-23T13:15:35.202Z"
   },
   {
    "duration": 24,
    "start_time": "2023-01-23T13:15:39.860Z"
   },
   {
    "duration": 2441,
    "start_time": "2023-01-23T13:48:48.844Z"
   },
   {
    "duration": 3,
    "start_time": "2023-01-23T13:48:51.287Z"
   },
   {
    "duration": 577,
    "start_time": "2023-01-23T13:48:51.292Z"
   },
   {
    "duration": 23,
    "start_time": "2023-01-23T13:48:51.871Z"
   },
   {
    "duration": 234,
    "start_time": "2023-01-23T13:48:51.896Z"
   },
   {
    "duration": 19,
    "start_time": "2023-01-23T13:48:52.132Z"
   },
   {
    "duration": 232,
    "start_time": "2023-01-23T13:48:52.153Z"
   },
   {
    "duration": 19,
    "start_time": "2023-01-23T13:48:52.387Z"
   },
   {
    "duration": 56,
    "start_time": "2023-01-23T13:48:52.408Z"
   },
   {
    "duration": 34,
    "start_time": "2023-01-23T13:48:52.485Z"
   },
   {
    "duration": 19,
    "start_time": "2023-01-23T13:48:52.521Z"
   },
   {
    "duration": 198,
    "start_time": "2023-01-23T13:48:52.542Z"
   },
   {
    "duration": 181,
    "start_time": "2023-01-23T13:48:52.742Z"
   },
   {
    "duration": 164,
    "start_time": "2023-01-23T13:48:52.925Z"
   },
   {
    "duration": 5124,
    "start_time": "2023-01-23T13:48:53.091Z"
   },
   {
    "duration": 5115,
    "start_time": "2023-01-23T13:48:58.217Z"
   },
   {
    "duration": 5003,
    "start_time": "2023-01-23T13:49:03.334Z"
   },
   {
    "duration": 6,
    "start_time": "2023-01-23T13:49:08.339Z"
   },
   {
    "duration": 54,
    "start_time": "2023-01-23T13:49:08.347Z"
   },
   {
    "duration": 39,
    "start_time": "2023-01-23T13:49:08.403Z"
   },
   {
    "duration": 63,
    "start_time": "2023-01-23T13:49:08.443Z"
   },
   {
    "duration": 405,
    "start_time": "2023-01-23T13:49:08.507Z"
   },
   {
    "duration": 79,
    "start_time": "2023-01-23T13:49:08.915Z"
   },
   {
    "duration": 4,
    "start_time": "2023-01-23T13:49:09.085Z"
   },
   {
    "duration": 48,
    "start_time": "2023-01-23T13:49:09.091Z"
   },
   {
    "duration": 4450,
    "start_time": "2023-01-23T13:49:09.141Z"
   },
   {
    "duration": 13,
    "start_time": "2023-01-23T13:49:13.593Z"
   },
   {
    "duration": 17,
    "start_time": "2023-01-23T13:50:56.928Z"
   },
   {
    "duration": 12,
    "start_time": "2023-01-23T13:51:06.387Z"
   }
  ],
  "kernelspec": {
   "display_name": "Python 3 (ipykernel)",
   "language": "python",
   "name": "python3"
  },
  "language_info": {
   "codemirror_mode": {
    "name": "ipython",
    "version": 3
   },
   "file_extension": ".py",
   "mimetype": "text/x-python",
   "name": "python",
   "nbconvert_exporter": "python",
   "pygments_lexer": "ipython3",
   "version": "3.9.5"
  },
  "toc": {
   "base_numbering": 1,
   "nav_menu": {},
   "number_sections": true,
   "sideBar": true,
   "skip_h1_title": true,
   "title_cell": "Table of Contents",
   "title_sidebar": "Contents",
   "toc_cell": false,
   "toc_position": {},
   "toc_section_display": true,
   "toc_window_display": true
  }
 },
 "nbformat": 4,
 "nbformat_minor": 2
}
