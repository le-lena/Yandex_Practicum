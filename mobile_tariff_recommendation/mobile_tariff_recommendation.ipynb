{
 "cells": [
  {
   "cell_type": "markdown",
   "metadata": {},
   "source": [
    "# Рекомендация тарифов"
   ]
  },
  {
   "cell_type": "markdown",
   "metadata": {},
   "source": [
    "В вашем распоряжении данные о поведении клиентов, которые уже перешли на эти тарифы (из проекта курса «Статистический анализ данных»). Нужно построить модель для задачи классификации, которая выберет подходящий тариф. Предобработка данных не понадобится — вы её уже сделали.\n",
    "\n",
    "Постройте модель с максимально большим значением *accuracy*. Чтобы сдать проект успешно, нужно довести долю правильных ответов по крайней мере до 0.75. Проверьте *accuracy* на тестовой выборке самостоятельно."
   ]
  },
  {
   "cell_type": "markdown",
   "metadata": {},
   "source": [
    "### Описание данных\n",
    "Каждый объект в наборе данных — это информация о поведении одного пользователя за месяц.  \n",
    "Известно:  \n",
    "сalls — количество звонков,    \n",
    "minutes — суммарная длительность звонков в минутах,  \n",
    "messages — количество sms-сообщений,  \n",
    "mb_used — израсходованный интернет-трафик в Мб,  \n",
    "is_ultra — каким тарифом пользовался в течение месяца («Ультра» — 1, «Смарт» — 0).  "
   ]
  },
  {
   "cell_type": "markdown",
   "metadata": {},
   "source": [
    "## Откройте и изучите файл"
   ]
  },
  {
   "cell_type": "code",
   "execution_count": 123,
   "metadata": {},
   "outputs": [],
   "source": [
    "import pandas as pd\n",
    "import random\n",
    "from sklearn.utils import shuffle\n",
    "from sklearn.model_selection import train_test_split\n",
    "from sklearn.tree import DecisionTreeClassifier\n",
    "from sklearn.metrics import accuracy_score\n",
    "from sklearn.ensemble import RandomForestClassifier\n",
    "from sklearn.linear_model import LogisticRegression \n",
    "from sklearn.dummy import DummyClassifier"
   ]
  },
  {
   "cell_type": "code",
   "execution_count": 124,
   "metadata": {},
   "outputs": [
    {
     "name": "stdout",
     "output_type": "stream",
     "text": [
      "Размер исходной выборки: (3214, 5)\n",
      "Посмотрим первые 5 строк датасета:\n",
      "    calls  minutes  messages   mb_used  is_ultra\n",
      "0   40.0   311.90      83.0  19915.42         0\n",
      "1   85.0   516.75      56.0  22696.96         0\n",
      "2   77.0   467.66      86.0  21060.45         0\n",
      "3  106.0   745.53      81.0   8437.39         1\n",
      "4   66.0   418.74       1.0  14502.75         0\n",
      "<class 'pandas.core.frame.DataFrame'>\n",
      "RangeIndex: 3214 entries, 0 to 3213\n",
      "Data columns (total 5 columns):\n",
      " #   Column    Non-Null Count  Dtype  \n",
      "---  ------    --------------  -----  \n",
      " 0   calls     3214 non-null   float64\n",
      " 1   minutes   3214 non-null   float64\n",
      " 2   messages  3214 non-null   float64\n",
      " 3   mb_used   3214 non-null   float64\n",
      " 4   is_ultra  3214 non-null   int64  \n",
      "dtypes: float64(4), int64(1)\n",
      "memory usage: 125.7 KB\n",
      "Информация о датасете:\n",
      " None\n",
      "Число дубликатов: 0\n",
      "Сколько человек имеют тот или иной тариф:\n",
      " 0    2229\n",
      "1     985\n",
      "Name: is_ultra, dtype: int64\n"
     ]
    }
   ],
   "source": [
    "df = pd.read_csv('/datasets/users_behavior.csv')\n",
    "print(\"Размер исходной выборки:\",df.shape)\n",
    "print(\"Посмотрим первые 5 строк датасета:\\n\",df.head())\n",
    "print(\"Информация о датасете:\\n\",df.info())\n",
    "print(\"Число дубликатов:\",df.duplicated().sum())\n",
    "print(\"Сколько человек имеют тот или иной тариф:\\n\",df['is_ultra'].value_counts())"
   ]
  },
  {
   "cell_type": "markdown",
   "metadata": {},
   "source": [
    "Количество смс и звонков - целые числа.\n",
    "В данных отсутвуют пропуски и дубликаты, так как нам был предоставлен преобработанный датасет."
   ]
  },
  {
   "cell_type": "code",
   "execution_count": 125,
   "metadata": {},
   "outputs": [
    {
     "name": "stdout",
     "output_type": "stream",
     "text": [
      "<class 'pandas.core.frame.DataFrame'>\n",
      "RangeIndex: 3214 entries, 0 to 3213\n",
      "Data columns (total 5 columns):\n",
      " #   Column    Non-Null Count  Dtype  \n",
      "---  ------    --------------  -----  \n",
      " 0   calls     3214 non-null   int64  \n",
      " 1   minutes   3214 non-null   float64\n",
      " 2   messages  3214 non-null   int64  \n",
      " 3   mb_used   3214 non-null   float64\n",
      " 4   is_ultra  3214 non-null   int64  \n",
      "dtypes: float64(2), int64(3)\n",
      "memory usage: 125.7 KB\n"
     ]
    }
   ],
   "source": [
    "try:\n",
    "    df[['calls','messages']] = df[['calls','messages']].astype('int64')\n",
    "except:\n",
    "    display('Не удалось  изменить тип данных столбцов calls,messages')\n",
    "df.info()"
   ]
  },
  {
   "cell_type": "markdown",
   "metadata": {},
   "source": [
    "## Разбейте данные на выборки"
   ]
  },
  {
   "cell_type": "code",
   "execution_count": 126,
   "metadata": {},
   "outputs": [
    {
     "name": "stdout",
     "output_type": "stream",
     "text": [
      "(1928, 4)\n",
      "(643, 4)\n",
      "(643, 4)\n"
     ]
    }
   ],
   "source": [
    "features =  df.drop(['is_ultra'], axis=1)\n",
    "target = df['is_ultra'] \n",
    "\n",
    "features_train, features_valid, target_train, target_valid = train_test_split(\n",
    "    features, target, test_size=0.4, random_state=12345)\n",
    "features_test, features_valid, target_test, target_valid = train_test_split(\n",
    "    features_valid, target_valid, test_size=0.5, random_state=12345)\n",
    "print(features_train.shape)\n",
    "print(features_valid.shape)\n",
    "print(features_test.shape)"
   ]
  },
  {
   "cell_type": "markdown",
   "metadata": {},
   "source": [
    "## Исследуйте модели"
   ]
  },
  {
   "cell_type": "markdown",
   "metadata": {},
   "source": [
    "### Решающее дерево"
   ]
  },
  {
   "cell_type": "code",
   "execution_count": 127,
   "metadata": {},
   "outputs": [
    {
     "name": "stdout",
     "output_type": "stream",
     "text": [
      "Решающее дерево\n",
      "Accuracy лучшей модели на валидационной выборке: 0.807\n",
      "Максимальная глубина: 8\n"
     ]
    }
   ],
   "source": [
    "best_model = None\n",
    "best_result = 0\n",
    "best_depth = 0\n",
    "for depth in range(1, 15):\n",
    "    model = DecisionTreeClassifier(random_state=12345, max_depth=depth,min_samples_split=80) \n",
    "    model.fit(features_train, target_train) \n",
    "    predictions_valid = model.predict(features_valid) \n",
    "    result = accuracy_score(target_valid, predictions_valid)\n",
    "    if result > best_result:\n",
    "        best_model = model\n",
    "        best_result = result\n",
    "        best_depth = depth\n",
    "print('Решающее дерево')\n",
    "print(\"Accuracy лучшей модели на валидационной выборке:\", round(best_result,3))\n",
    "print('Максимальная глубина:', best_depth)"
   ]
  },
  {
   "cell_type": "markdown",
   "metadata": {},
   "source": [
    "Решающее дерево показало достаточно хорошую точность прогноза (0.807) на валидационной выборке при максимальной глубине дерева, равной 8. "
   ]
  },
  {
   "cell_type": "markdown",
   "metadata": {},
   "source": [
    "### Cлучайный лес"
   ]
  },
  {
   "cell_type": "code",
   "execution_count": 128,
   "metadata": {},
   "outputs": [
    {
     "name": "stdout",
     "output_type": "stream",
     "text": [
      "Cлучайный лес\n",
      "Accuracy лучшей модели на валидационной выборке: 0.796\n",
      "Максимальная глубина: 1\n",
      "Количество деревьев: 80\n"
     ]
    }
   ],
   "source": [
    "best_model = None\n",
    "best_est = 0\n",
    "best_depth = 0\n",
    "best_result=0\n",
    "for est in range(50, 201, 10):\n",
    "    for depth in range (1, 11):\n",
    "        model = RandomForestClassifier(random_state=12345, n_estimators=est)\n",
    "        model.fit(features_train, target_train) \n",
    "        predictions_valid = model.predict(features_valid) \n",
    "        result = accuracy_score(target_valid, predictions_valid)\n",
    "        #result = model.score(features_valid, target_valid)\n",
    "        if result > best_result:\n",
    "            best_model = model\n",
    "            #best_result = model.score(features_valid, target_valid)\n",
    "            best_result = result\n",
    "            best_depth=depth\n",
    "            best_est = est\n",
    "print('Cлучайный лес')\n",
    "print(\"Accuracy лучшей модели на валидационной выборке:\", round(best_result,3))\n",
    "print('Максимальная глубина:', best_depth)\n",
    "print(\"Количество деревьев:\", best_est)\n",
    "\n"
   ]
  },
  {
   "cell_type": "markdown",
   "metadata": {},
   "source": [
    "Cлучайный лес показал достаточно хорошую точность прогноза (0.796) на валидационной выборке при максимальной глубине дерева, равной 1.Количество деревьев - 80. "
   ]
  },
  {
   "cell_type": "markdown",
   "metadata": {},
   "source": [
    "### Логистическая регрессия"
   ]
  },
  {
   "cell_type": "code",
   "execution_count": 129,
   "metadata": {},
   "outputs": [
    {
     "name": "stdout",
     "output_type": "stream",
     "text": [
      "Логистическая регрессия\n",
      "Accuracy модели на валидационной выборке: 0.739\n"
     ]
    }
   ],
   "source": [
    "model = LogisticRegression(random_state=12345, solver='lbfgs', max_iter=3000,C=10) \n",
    "model.fit(features_train, target_train) \n",
    "model.predict(features_valid) \n",
    "predictions_valid = model.predict(features_valid) \n",
    "result=model.score(features_valid, target_valid) \n",
    "print('Логистическая регрессия')\n",
    "print(\"Accuracy модели на валидационной выборке:\", round(result,3))"
   ]
  },
  {
   "cell_type": "markdown",
   "metadata": {},
   "source": [
    " Логистическая регрессия показала точность прогноза (0.739) на валидационной выборке."
   ]
  },
  {
   "cell_type": "markdown",
   "metadata": {},
   "source": [
    "Промежуточный вывод:   \n",
    "По результатам проверки 3 моделей, пришла к выводу, что в данном случае решающее дерево имеет наибольшую точность и скорость работы. "
   ]
  },
  {
   "cell_type": "markdown",
   "metadata": {},
   "source": [
    "## (бонус) Проверьте модели на адекватность"
   ]
  },
  {
   "cell_type": "code",
   "execution_count": 130,
   "metadata": {},
   "outputs": [
    {
     "name": "stdout",
     "output_type": "stream",
     "text": [
      "Решающее дерево предсказало тариф на тестовой выборке с точностью  0.784\n"
     ]
    }
   ],
   "source": [
    "model = DecisionTreeClassifier(random_state=12345, max_depth=9,min_samples_split=80) \n",
    "model.fit(features_train, target_train) \n",
    "predictions_test = model.predict(features_test) \n",
    "result = accuracy_score(target_test, predictions_test)\n",
    "print(\"Решающее дерево предсказало тариф на тестовой выборке с точностью \",round(result,3))"
   ]
  },
  {
   "cell_type": "code",
   "execution_count": 131,
   "metadata": {},
   "outputs": [
    {
     "name": "stdout",
     "output_type": "stream",
     "text": [
      "Dummy модель предсказала тариф на тестовой выборке с точностью 0.706\n"
     ]
    }
   ],
   "source": [
    "clf_dummy = DummyClassifier(random_state=12345) \n",
    "clf_dummy.fit(features_train, target_train) \n",
    "predictions_valid = clf_dummy.predict(features_valid) \n",
    "predictions_test = clf_dummy.predict(features_test) \n",
    "result_valid = accuracy_score(target_valid, predictions_valid)\n",
    "result_test = accuracy_score(target_test, predictions_test)\n",
    "print(\"Dummy модель предсказала тариф на тестовой выборке с точностью\",round(result_test,3))"
   ]
  },
  {
   "cell_type": "markdown",
   "metadata": {},
   "source": [
    "## Вывод:  \n",
    "Для исследования нам была предложен преобработанный датасет с информацией о пользователях тарифов Смарт и Ультра. Мы изучили данные.   \n",
    "Целью исследования было выявить модель классификации, которая максимально точно предскажет тариф клиента.  \n",
    "Мы рассмотрели модели \"Решающее дерево\", \"Случайный лес\" и \"Логистичная регрессия\".   \n",
    "Попытались подобрать оптимальные гиперпараметры с целью улучшить качество модели.   \n",
    "В нашем случае решающее дерево показало высокую точность и скорость работы.     \n",
    "Точность предсказаний на тестовой выборке равна 0.784.     \n",
    "Сделали проверку модели на адекватность. Точность предсказания dummy моделью равна 0.706.   \n",
    "То есть наша модель прошла проверку на адекватность. "
   ]
  },
  {
   "cell_type": "markdown",
   "metadata": {},
   "source": [
    "## Чек-лист готовности проекта"
   ]
  },
  {
   "cell_type": "markdown",
   "metadata": {},
   "source": [
    "Поставьте 'x' в выполненных пунктах. Далее нажмите Shift+Enter."
   ]
  },
  {
   "cell_type": "markdown",
   "metadata": {},
   "source": [
    "- [x] Jupyter Notebook открыт\n",
    "- [x] Весь код исполняется без ошибок\n",
    "- [x] Ячейки с кодом расположены в порядке исполнения\n",
    "- [x] Выполнено задание 1: данные загружены и изучены\n",
    "- [x] Выполнено задание 2: данные разбиты на три выборки\n",
    "- [x] Выполнено задание 3: проведено исследование моделей\n",
    "    - [x] Рассмотрено больше одной модели\n",
    "    - [x] Рассмотрено хотя бы 3 значения гипепараметров для какой-нибудь модели\n",
    "    - [x] Написаны выводы по результатам исследования\n",
    "- [x] Выполнено задание 3: Проведено тестирование\n",
    "- [x] Удалось достичь accuracy не меньше 0.75\n"
   ]
  },
  {
   "cell_type": "code",
   "execution_count": null,
   "metadata": {},
   "outputs": [],
   "source": []
  }
 ],
 "metadata": {
  "ExecuteTimeLog": [
   {
    "duration": 75,
    "start_time": "2022-12-21T16:36:31.102Z"
   },
   {
    "duration": 1173,
    "start_time": "2022-12-21T16:36:47.742Z"
   },
   {
    "duration": 127,
    "start_time": "2022-12-21T16:36:48.991Z"
   },
   {
    "duration": 74,
    "start_time": "2022-12-21T16:36:50.672Z"
   },
   {
    "duration": 16,
    "start_time": "2022-12-21T16:38:29.441Z"
   },
   {
    "duration": 17,
    "start_time": "2022-12-21T16:47:08.359Z"
   },
   {
    "duration": 10,
    "start_time": "2022-12-21T16:47:17.811Z"
   },
   {
    "duration": 9,
    "start_time": "2022-12-21T16:47:34.789Z"
   },
   {
    "duration": 10,
    "start_time": "2022-12-21T16:47:48.399Z"
   },
   {
    "duration": 32,
    "start_time": "2022-12-21T16:48:14.259Z"
   },
   {
    "duration": 13,
    "start_time": "2022-12-21T16:53:06.188Z"
   },
   {
    "duration": 32,
    "start_time": "2022-12-21T16:53:09.244Z"
   },
   {
    "duration": 7,
    "start_time": "2022-12-21T16:53:11.369Z"
   },
   {
    "duration": 6,
    "start_time": "2022-12-21T16:54:42.519Z"
   },
   {
    "duration": 12,
    "start_time": "2022-12-21T16:55:12.330Z"
   },
   {
    "duration": 36,
    "start_time": "2022-12-21T16:55:17.498Z"
   },
   {
    "duration": 8,
    "start_time": "2022-12-21T16:55:20.367Z"
   },
   {
    "duration": 9,
    "start_time": "2022-12-21T16:56:26.319Z"
   },
   {
    "duration": 48,
    "start_time": "2022-12-22T09:33:21.693Z"
   },
   {
    "duration": 1115,
    "start_time": "2022-12-22T09:33:23.461Z"
   },
   {
    "duration": 117,
    "start_time": "2022-12-22T09:33:24.606Z"
   },
   {
    "duration": 33,
    "start_time": "2022-12-22T09:33:33.157Z"
   },
   {
    "duration": 8,
    "start_time": "2022-12-22T09:33:37.167Z"
   },
   {
    "duration": 7,
    "start_time": "2022-12-22T09:33:50.485Z"
   },
   {
    "duration": 8,
    "start_time": "2022-12-22T09:34:16.158Z"
   },
   {
    "duration": 8,
    "start_time": "2022-12-22T09:34:32.012Z"
   },
   {
    "duration": 72,
    "start_time": "2022-12-22T09:52:31.785Z"
   },
   {
    "duration": 49,
    "start_time": "2022-12-22T09:53:10.217Z"
   },
   {
    "duration": 74,
    "start_time": "2022-12-22T09:53:50.880Z"
   },
   {
    "duration": 3,
    "start_time": "2022-12-22T09:54:56.272Z"
   },
   {
    "duration": 34,
    "start_time": "2022-12-22T09:54:57.864Z"
   },
   {
    "duration": 10,
    "start_time": "2022-12-22T09:55:00.179Z"
   },
   {
    "duration": 9,
    "start_time": "2022-12-22T09:55:01.978Z"
   },
   {
    "duration": 21,
    "start_time": "2022-12-22T09:55:04.067Z"
   },
   {
    "duration": 34,
    "start_time": "2022-12-22T09:55:43.402Z"
   },
   {
    "duration": 63,
    "start_time": "2022-12-22T09:55:56.229Z"
   },
   {
    "duration": 171,
    "start_time": "2022-12-22T09:56:03.057Z"
   },
   {
    "duration": 299,
    "start_time": "2022-12-22T09:56:09.450Z"
   },
   {
    "duration": 382,
    "start_time": "2022-12-22T09:57:01.330Z"
   },
   {
    "duration": 345,
    "start_time": "2022-12-22T09:59:13.748Z"
   },
   {
    "duration": 622,
    "start_time": "2022-12-22T09:59:35.688Z"
   },
   {
    "duration": 929,
    "start_time": "2022-12-22T09:59:47.264Z"
   },
   {
    "duration": 367,
    "start_time": "2022-12-22T10:00:02.395Z"
   },
   {
    "duration": 207,
    "start_time": "2022-12-22T10:00:12.957Z"
   },
   {
    "duration": 376,
    "start_time": "2022-12-22T10:00:21.035Z"
   },
   {
    "duration": 607,
    "start_time": "2022-12-22T10:00:40.404Z"
   },
   {
    "duration": 32,
    "start_time": "2022-12-22T10:00:48.864Z"
   },
   {
    "duration": 40,
    "start_time": "2022-12-22T10:00:55.344Z"
   },
   {
    "duration": 49,
    "start_time": "2022-12-22T10:01:03.684Z"
   },
   {
    "duration": 77,
    "start_time": "2022-12-22T10:01:11.578Z"
   },
   {
    "duration": 133,
    "start_time": "2022-12-22T10:01:19.931Z"
   },
   {
    "duration": 251,
    "start_time": "2022-12-22T10:01:26.721Z"
   },
   {
    "duration": 433,
    "start_time": "2022-12-22T10:01:38.377Z"
   },
   {
    "duration": 323,
    "start_time": "2022-12-22T10:01:51.777Z"
   },
   {
    "duration": 299,
    "start_time": "2022-12-22T10:01:59.955Z"
   },
   {
    "duration": 317,
    "start_time": "2022-12-22T10:02:10.436Z"
   },
   {
    "duration": 284,
    "start_time": "2022-12-22T10:05:11.769Z"
   },
   {
    "duration": 8,
    "start_time": "2022-12-22T10:05:20.514Z"
   },
   {
    "duration": 280,
    "start_time": "2022-12-22T10:05:22.155Z"
   },
   {
    "duration": 1071,
    "start_time": "2022-12-22T10:05:34.538Z"
   },
   {
    "duration": 39,
    "start_time": "2022-12-22T10:05:35.611Z"
   },
   {
    "duration": 8,
    "start_time": "2022-12-22T10:05:35.652Z"
   },
   {
    "duration": 10,
    "start_time": "2022-12-22T10:05:35.662Z"
   },
   {
    "duration": 313,
    "start_time": "2022-12-22T10:05:35.674Z"
   },
   {
    "duration": 47,
    "start_time": "2022-12-22T10:05:35.989Z"
   },
   {
    "duration": 0,
    "start_time": "2022-12-22T10:05:36.038Z"
   },
   {
    "duration": 0,
    "start_time": "2022-12-22T10:05:36.039Z"
   },
   {
    "duration": 273,
    "start_time": "2022-12-22T10:05:49.641Z"
   },
   {
    "duration": 253,
    "start_time": "2022-12-22T10:06:43.008Z"
   },
   {
    "duration": 1152,
    "start_time": "2022-12-22T10:07:04.159Z"
   },
   {
    "duration": 37,
    "start_time": "2022-12-22T10:07:05.314Z"
   },
   {
    "duration": 8,
    "start_time": "2022-12-22T10:07:05.353Z"
   },
   {
    "duration": 8,
    "start_time": "2022-12-22T10:07:05.363Z"
   },
   {
    "duration": 272,
    "start_time": "2022-12-22T10:07:05.372Z"
   },
   {
    "duration": 113,
    "start_time": "2022-12-22T10:07:05.646Z"
   },
   {
    "duration": 0,
    "start_time": "2022-12-22T10:07:05.760Z"
   },
   {
    "duration": 265,
    "start_time": "2022-12-22T10:07:12.621Z"
   },
   {
    "duration": 283,
    "start_time": "2022-12-22T10:07:31.944Z"
   },
   {
    "duration": 264,
    "start_time": "2022-12-22T10:08:12.894Z"
   },
   {
    "duration": 1131,
    "start_time": "2022-12-22T10:08:20.193Z"
   },
   {
    "duration": 41,
    "start_time": "2022-12-22T10:08:21.326Z"
   },
   {
    "duration": 9,
    "start_time": "2022-12-22T10:08:21.370Z"
   },
   {
    "duration": 28,
    "start_time": "2022-12-22T10:08:21.381Z"
   },
   {
    "duration": 342,
    "start_time": "2022-12-22T10:08:21.412Z"
   },
   {
    "duration": 122,
    "start_time": "2022-12-22T10:08:21.756Z"
   },
   {
    "duration": 0,
    "start_time": "2022-12-22T10:08:21.880Z"
   },
   {
    "duration": 276,
    "start_time": "2022-12-22T10:09:45.091Z"
   },
   {
    "duration": 286,
    "start_time": "2022-12-22T10:11:35.479Z"
   },
   {
    "duration": 290,
    "start_time": "2022-12-22T10:12:33.452Z"
   },
   {
    "duration": 147,
    "start_time": "2022-12-22T10:12:55.176Z"
   },
   {
    "duration": 121,
    "start_time": "2022-12-22T10:13:16.242Z"
   },
   {
    "duration": 125,
    "start_time": "2022-12-22T10:13:27.601Z"
   },
   {
    "duration": 17,
    "start_time": "2022-12-22T10:21:42.001Z"
   },
   {
    "duration": 3,
    "start_time": "2022-12-22T10:22:05.338Z"
   },
   {
    "duration": 39,
    "start_time": "2022-12-22T10:22:07.074Z"
   },
   {
    "duration": 11,
    "start_time": "2022-12-22T10:22:09.206Z"
   },
   {
    "duration": 11,
    "start_time": "2022-12-22T10:22:10.905Z"
   },
   {
    "duration": 127,
    "start_time": "2022-12-22T10:22:13.700Z"
   },
   {
    "duration": 132,
    "start_time": "2022-12-22T10:25:46.696Z"
   },
   {
    "duration": 160,
    "start_time": "2022-12-22T10:26:35.823Z"
   },
   {
    "duration": 202,
    "start_time": "2022-12-22T10:26:51.930Z"
   },
   {
    "duration": 327,
    "start_time": "2022-12-22T10:27:20.393Z"
   },
   {
    "duration": 340,
    "start_time": "2022-12-22T10:27:47.695Z"
   },
   {
    "duration": 129,
    "start_time": "2022-12-22T10:27:54.249Z"
   },
   {
    "duration": 132,
    "start_time": "2022-12-22T10:28:43.759Z"
   },
   {
    "duration": 11,
    "start_time": "2022-12-22T10:41:29.026Z"
   },
   {
    "duration": 118,
    "start_time": "2022-12-22T10:56:47.830Z"
   },
   {
    "duration": 106,
    "start_time": "2022-12-22T10:57:06.495Z"
   },
   {
    "duration": 12,
    "start_time": "2022-12-22T10:57:23.153Z"
   },
   {
    "duration": 15,
    "start_time": "2022-12-22T10:57:42.533Z"
   },
   {
    "duration": 6289,
    "start_time": "2022-12-22T10:57:45.878Z"
   },
   {
    "duration": 11422,
    "start_time": "2022-12-22T10:58:11.135Z"
   },
   {
    "duration": 8747,
    "start_time": "2022-12-22T10:58:36.295Z"
   },
   {
    "duration": 6292,
    "start_time": "2022-12-22T10:58:54.158Z"
   },
   {
    "duration": 6315,
    "start_time": "2022-12-22T11:00:23.181Z"
   },
   {
    "duration": 6226,
    "start_time": "2022-12-22T11:01:46.996Z"
   },
   {
    "duration": 6345,
    "start_time": "2022-12-22T11:03:25.193Z"
   },
   {
    "duration": 6316,
    "start_time": "2022-12-22T11:04:17.861Z"
   },
   {
    "duration": 6302,
    "start_time": "2022-12-22T11:07:23.709Z"
   },
   {
    "duration": 6311,
    "start_time": "2022-12-22T11:08:44.041Z"
   },
   {
    "duration": 9253,
    "start_time": "2022-12-22T11:09:21.497Z"
   },
   {
    "duration": 6163,
    "start_time": "2022-12-22T11:09:39.982Z"
   },
   {
    "duration": 1136,
    "start_time": "2022-12-22T11:09:54.402Z"
   },
   {
    "duration": 36,
    "start_time": "2022-12-22T11:09:55.540Z"
   },
   {
    "duration": 10,
    "start_time": "2022-12-22T11:09:55.577Z"
   },
   {
    "duration": 35,
    "start_time": "2022-12-22T11:09:55.589Z"
   },
   {
    "duration": 132,
    "start_time": "2022-12-22T11:09:55.626Z"
   },
   {
    "duration": 18,
    "start_time": "2022-12-22T11:09:55.760Z"
   },
   {
    "duration": 110,
    "start_time": "2022-12-22T11:10:02.106Z"
   },
   {
    "duration": 0,
    "start_time": "2022-12-22T11:10:02.218Z"
   },
   {
    "duration": 6495,
    "start_time": "2022-12-22T11:10:14.263Z"
   },
   {
    "duration": 1141,
    "start_time": "2022-12-22T11:10:46.359Z"
   },
   {
    "duration": 36,
    "start_time": "2022-12-22T11:10:47.502Z"
   },
   {
    "duration": 8,
    "start_time": "2022-12-22T11:10:47.540Z"
   },
   {
    "duration": 24,
    "start_time": "2022-12-22T11:10:47.549Z"
   },
   {
    "duration": 132,
    "start_time": "2022-12-22T11:10:47.574Z"
   },
   {
    "duration": 7,
    "start_time": "2022-12-22T11:10:47.708Z"
   },
   {
    "duration": 6277,
    "start_time": "2022-12-22T11:10:47.716Z"
   },
   {
    "duration": 168,
    "start_time": "2022-12-22T11:10:53.995Z"
   },
   {
    "duration": 6602,
    "start_time": "2022-12-22T11:10:59.212Z"
   },
   {
    "duration": 6168,
    "start_time": "2022-12-22T11:11:52.467Z"
   },
   {
    "duration": 114,
    "start_time": "2022-12-22T11:20:23.974Z"
   },
   {
    "duration": 11397,
    "start_time": "2022-12-22T11:20:54.319Z"
   },
   {
    "duration": 6438,
    "start_time": "2022-12-22T11:21:17.296Z"
   },
   {
    "duration": 6074,
    "start_time": "2022-12-22T11:24:28.789Z"
   },
   {
    "duration": 10,
    "start_time": "2022-12-22T11:27:28.285Z"
   },
   {
    "duration": 113,
    "start_time": "2022-12-22T11:41:01.188Z"
   },
   {
    "duration": 67,
    "start_time": "2022-12-22T11:46:02.099Z"
   },
   {
    "duration": 66,
    "start_time": "2022-12-22T11:47:34.457Z"
   },
   {
    "duration": 6534,
    "start_time": "2022-12-22T11:47:44.816Z"
   },
   {
    "duration": 67,
    "start_time": "2022-12-22T11:48:59.125Z"
   },
   {
    "duration": 6444,
    "start_time": "2022-12-22T11:49:47.613Z"
   },
   {
    "duration": 70,
    "start_time": "2022-12-22T11:50:38.843Z"
   },
   {
    "duration": 6364,
    "start_time": "2022-12-22T11:50:57.865Z"
   },
   {
    "duration": 6568,
    "start_time": "2022-12-22T11:55:38.827Z"
   },
   {
    "duration": 6805,
    "start_time": "2022-12-22T11:57:00.245Z"
   },
   {
    "duration": 9,
    "start_time": "2022-12-22T11:58:16.781Z"
   },
   {
    "duration": 6262,
    "start_time": "2022-12-22T12:03:28.183Z"
   },
   {
    "duration": 23,
    "start_time": "2022-12-22T12:05:42.677Z"
   },
   {
    "duration": 6431,
    "start_time": "2022-12-22T12:08:28.229Z"
   },
   {
    "duration": 19,
    "start_time": "2022-12-22T12:09:45.463Z"
   },
   {
    "duration": 32,
    "start_time": "2022-12-22T12:10:41.860Z"
   },
   {
    "duration": 10,
    "start_time": "2022-12-22T12:11:33.066Z"
   },
   {
    "duration": 10,
    "start_time": "2022-12-22T12:11:37.798Z"
   },
   {
    "duration": 6566,
    "start_time": "2022-12-22T12:11:40.854Z"
   },
   {
    "duration": 14,
    "start_time": "2022-12-22T12:11:49.743Z"
   },
   {
    "duration": 7492,
    "start_time": "2022-12-22T12:14:22.639Z"
   },
   {
    "duration": 7339,
    "start_time": "2022-12-22T12:14:40.667Z"
   },
   {
    "duration": 7408,
    "start_time": "2022-12-22T12:15:04.920Z"
   },
   {
    "duration": 14,
    "start_time": "2022-12-22T12:15:34.899Z"
   },
   {
    "duration": 7076,
    "start_time": "2022-12-22T12:15:57.554Z"
   },
   {
    "duration": 21,
    "start_time": "2022-12-22T12:16:17.772Z"
   },
   {
    "duration": 13,
    "start_time": "2022-12-22T12:16:42.286Z"
   },
   {
    "duration": 11,
    "start_time": "2022-12-22T12:17:37.745Z"
   },
   {
    "duration": 4,
    "start_time": "2022-12-22T12:18:05.451Z"
   },
   {
    "duration": 3,
    "start_time": "2022-12-22T12:18:24.463Z"
   },
   {
    "duration": 4,
    "start_time": "2022-12-22T12:18:32.120Z"
   },
   {
    "duration": 38,
    "start_time": "2022-12-22T12:18:36.938Z"
   },
   {
    "duration": 32,
    "start_time": "2022-12-22T12:19:39.928Z"
   },
   {
    "duration": 25,
    "start_time": "2022-12-22T12:19:46.296Z"
   },
   {
    "duration": 121,
    "start_time": "2022-12-22T12:21:00.088Z"
   },
   {
    "duration": 8,
    "start_time": "2022-12-22T12:21:01.648Z"
   },
   {
    "duration": 27,
    "start_time": "2022-12-22T12:23:02.408Z"
   },
   {
    "duration": 28,
    "start_time": "2022-12-22T12:23:20.371Z"
   },
   {
    "duration": 27,
    "start_time": "2022-12-22T12:23:29.581Z"
   },
   {
    "duration": 7,
    "start_time": "2022-12-22T12:25:22.323Z"
   },
   {
    "duration": 3,
    "start_time": "2022-12-22T12:27:31.912Z"
   },
   {
    "duration": 54,
    "start_time": "2022-12-22T12:27:31.917Z"
   },
   {
    "duration": 24,
    "start_time": "2022-12-22T12:27:31.973Z"
   },
   {
    "duration": 28,
    "start_time": "2022-12-22T12:27:32.001Z"
   },
   {
    "duration": 114,
    "start_time": "2022-12-22T12:27:32.032Z"
   },
   {
    "duration": 7,
    "start_time": "2022-12-22T12:27:32.148Z"
   },
   {
    "duration": 6481,
    "start_time": "2022-12-22T12:27:32.157Z"
   },
   {
    "duration": 8,
    "start_time": "2022-12-22T12:27:38.640Z"
   },
   {
    "duration": 47,
    "start_time": "2022-12-22T12:27:38.650Z"
   },
   {
    "duration": 6,
    "start_time": "2022-12-22T12:27:38.698Z"
   },
   {
    "duration": 4,
    "start_time": "2022-12-22T12:39:18.226Z"
   },
   {
    "duration": 5,
    "start_time": "2022-12-22T12:39:30.709Z"
   },
   {
    "duration": 5,
    "start_time": "2022-12-22T12:39:33.224Z"
   },
   {
    "duration": 6637,
    "start_time": "2022-12-22T12:42:06.521Z"
   },
   {
    "duration": 24,
    "start_time": "2022-12-22T12:42:18.193Z"
   },
   {
    "duration": 6,
    "start_time": "2022-12-22T12:42:22.139Z"
   },
   {
    "duration": 49,
    "start_time": "2022-12-22T12:50:22.526Z"
   },
   {
    "duration": 96,
    "start_time": "2022-12-22T12:50:27.271Z"
   },
   {
    "duration": 22,
    "start_time": "2022-12-22T12:53:35.816Z"
   },
   {
    "duration": 19,
    "start_time": "2022-12-22T12:53:40.348Z"
   },
   {
    "duration": 15,
    "start_time": "2022-12-22T12:54:40.842Z"
   },
   {
    "duration": 17,
    "start_time": "2022-12-22T12:54:50.073Z"
   },
   {
    "duration": 38,
    "start_time": "2022-12-22T12:55:05.651Z"
   },
   {
    "duration": 5,
    "start_time": "2022-12-22T12:55:07.792Z"
   },
   {
    "duration": 9,
    "start_time": "2022-12-22T12:55:10.717Z"
   },
   {
    "duration": 18,
    "start_time": "2022-12-22T13:05:26.166Z"
   },
   {
    "duration": 21,
    "start_time": "2022-12-22T13:06:55.708Z"
   },
   {
    "duration": 61,
    "start_time": "2022-12-22T13:07:11.138Z"
   },
   {
    "duration": 14,
    "start_time": "2022-12-22T13:09:30.844Z"
   },
   {
    "duration": 17,
    "start_time": "2022-12-22T13:10:34.679Z"
   },
   {
    "duration": 22,
    "start_time": "2022-12-22T13:10:53.494Z"
   },
   {
    "duration": 22,
    "start_time": "2022-12-22T13:10:57.328Z"
   },
   {
    "duration": 18,
    "start_time": "2022-12-22T13:11:09.811Z"
   },
   {
    "duration": 17,
    "start_time": "2022-12-22T13:14:00.580Z"
   },
   {
    "duration": 17,
    "start_time": "2022-12-22T13:18:59.791Z"
   },
   {
    "duration": 41,
    "start_time": "2022-12-22T13:23:33.769Z"
   },
   {
    "duration": 35,
    "start_time": "2022-12-22T13:23:42.334Z"
   },
   {
    "duration": 32,
    "start_time": "2022-12-22T13:24:14.646Z"
   },
   {
    "duration": 31,
    "start_time": "2022-12-22T13:25:01.388Z"
   },
   {
    "duration": 8,
    "start_time": "2022-12-22T13:25:08.656Z"
   },
   {
    "duration": 3,
    "start_time": "2022-12-22T13:27:05.346Z"
   },
   {
    "duration": 4,
    "start_time": "2022-12-22T13:27:13.352Z"
   },
   {
    "duration": 4,
    "start_time": "2022-12-22T13:27:37.972Z"
   },
   {
    "duration": 5,
    "start_time": "2022-12-22T13:28:22.664Z"
   },
   {
    "duration": 4,
    "start_time": "2022-12-22T13:28:35.698Z"
   },
   {
    "duration": 4,
    "start_time": "2022-12-22T13:28:44.290Z"
   },
   {
    "duration": 15,
    "start_time": "2022-12-22T13:29:48.067Z"
   },
   {
    "duration": 17,
    "start_time": "2022-12-22T13:30:46.783Z"
   },
   {
    "duration": 17,
    "start_time": "2022-12-22T13:31:32.669Z"
   },
   {
    "duration": 18,
    "start_time": "2022-12-22T13:31:42.803Z"
   },
   {
    "duration": 14,
    "start_time": "2022-12-22T13:31:49.346Z"
   },
   {
    "duration": 17,
    "start_time": "2022-12-22T13:32:48.027Z"
   },
   {
    "duration": 6,
    "start_time": "2022-12-22T13:33:19.645Z"
   },
   {
    "duration": 10,
    "start_time": "2022-12-22T13:33:44.144Z"
   },
   {
    "duration": 8,
    "start_time": "2022-12-22T13:33:51.959Z"
   },
   {
    "duration": 18,
    "start_time": "2022-12-22T13:39:59.979Z"
   },
   {
    "duration": 4,
    "start_time": "2022-12-22T13:44:23.598Z"
   },
   {
    "duration": 36,
    "start_time": "2022-12-22T13:44:23.604Z"
   },
   {
    "duration": 9,
    "start_time": "2022-12-22T13:44:23.643Z"
   },
   {
    "duration": 8,
    "start_time": "2022-12-22T13:44:23.653Z"
   },
   {
    "duration": 111,
    "start_time": "2022-12-22T13:44:23.664Z"
   },
   {
    "duration": 6,
    "start_time": "2022-12-22T13:44:23.777Z"
   },
   {
    "duration": 6299,
    "start_time": "2022-12-22T13:44:23.785Z"
   },
   {
    "duration": 10,
    "start_time": "2022-12-22T13:44:30.086Z"
   },
   {
    "duration": 279,
    "start_time": "2022-12-22T13:44:30.098Z"
   },
   {
    "duration": 257,
    "start_time": "2022-12-22T13:44:30.379Z"
   },
   {
    "duration": 168,
    "start_time": "2022-12-22T13:44:30.639Z"
   },
   {
    "duration": 239,
    "start_time": "2022-12-22T13:44:30.809Z"
   },
   {
    "duration": 4,
    "start_time": "2022-12-22T13:45:14.903Z"
   },
   {
    "duration": 34,
    "start_time": "2022-12-22T13:45:14.909Z"
   },
   {
    "duration": 9,
    "start_time": "2022-12-22T13:45:14.945Z"
   },
   {
    "duration": 14,
    "start_time": "2022-12-22T13:45:14.957Z"
   },
   {
    "duration": 127,
    "start_time": "2022-12-22T13:45:14.973Z"
   },
   {
    "duration": 7,
    "start_time": "2022-12-22T13:45:15.103Z"
   },
   {
    "duration": 6842,
    "start_time": "2022-12-22T13:45:15.111Z"
   },
   {
    "duration": 10,
    "start_time": "2022-12-22T13:45:21.955Z"
   },
   {
    "duration": 162,
    "start_time": "2022-12-22T13:45:21.968Z"
   },
   {
    "duration": 56,
    "start_time": "2022-12-22T13:45:22.132Z"
   },
   {
    "duration": 114,
    "start_time": "2022-12-22T13:45:22.190Z"
   },
   {
    "duration": 101,
    "start_time": "2022-12-22T13:45:22.306Z"
   },
   {
    "duration": 56,
    "start_time": "2022-12-22T13:47:11.962Z"
   },
   {
    "duration": 5,
    "start_time": "2022-12-22T13:47:40.247Z"
   },
   {
    "duration": 54,
    "start_time": "2022-12-22T13:47:40.254Z"
   },
   {
    "duration": 7,
    "start_time": "2022-12-22T13:47:40.310Z"
   },
   {
    "duration": 15,
    "start_time": "2022-12-22T13:47:40.319Z"
   },
   {
    "duration": 124,
    "start_time": "2022-12-22T13:47:40.336Z"
   },
   {
    "duration": 8,
    "start_time": "2022-12-22T13:47:40.462Z"
   },
   {
    "duration": 6546,
    "start_time": "2022-12-22T13:47:40.478Z"
   },
   {
    "duration": 10,
    "start_time": "2022-12-22T13:47:47.026Z"
   },
   {
    "duration": 40,
    "start_time": "2022-12-22T13:47:47.038Z"
   },
   {
    "duration": 7,
    "start_time": "2022-12-22T13:47:47.082Z"
   },
   {
    "duration": 32,
    "start_time": "2022-12-22T13:47:47.091Z"
   },
   {
    "duration": 8,
    "start_time": "2022-12-22T13:47:47.125Z"
   },
   {
    "duration": 8,
    "start_time": "2022-12-22T13:50:12.174Z"
   },
   {
    "duration": 18,
    "start_time": "2022-12-22T13:50:17.741Z"
   },
   {
    "duration": 8,
    "start_time": "2022-12-22T13:50:19.966Z"
   },
   {
    "duration": 3,
    "start_time": "2022-12-22T13:50:26.629Z"
   },
   {
    "duration": 42,
    "start_time": "2022-12-22T13:50:26.634Z"
   },
   {
    "duration": 11,
    "start_time": "2022-12-22T13:50:26.678Z"
   },
   {
    "duration": 7,
    "start_time": "2022-12-22T13:50:26.692Z"
   },
   {
    "duration": 129,
    "start_time": "2022-12-22T13:50:26.701Z"
   },
   {
    "duration": 8,
    "start_time": "2022-12-22T13:50:26.832Z"
   },
   {
    "duration": 6446,
    "start_time": "2022-12-22T13:50:26.843Z"
   },
   {
    "duration": 9,
    "start_time": "2022-12-22T13:50:33.291Z"
   },
   {
    "duration": 24,
    "start_time": "2022-12-22T13:50:33.303Z"
   },
   {
    "duration": 5,
    "start_time": "2022-12-22T13:50:33.328Z"
   },
   {
    "duration": 47,
    "start_time": "2022-12-22T13:50:33.335Z"
   },
   {
    "duration": 8,
    "start_time": "2022-12-22T13:50:33.384Z"
   },
   {
    "duration": 4,
    "start_time": "2022-12-22T13:52:37.844Z"
   },
   {
    "duration": 50,
    "start_time": "2022-12-22T13:52:37.851Z"
   },
   {
    "duration": 8,
    "start_time": "2022-12-22T13:52:37.903Z"
   },
   {
    "duration": 11,
    "start_time": "2022-12-22T13:52:37.913Z"
   },
   {
    "duration": 103,
    "start_time": "2022-12-22T13:52:37.926Z"
   },
   {
    "duration": 8,
    "start_time": "2022-12-22T13:52:38.031Z"
   },
   {
    "duration": 6325,
    "start_time": "2022-12-22T13:52:38.041Z"
   },
   {
    "duration": 10,
    "start_time": "2022-12-22T13:52:44.367Z"
   },
   {
    "duration": 25,
    "start_time": "2022-12-22T13:52:44.380Z"
   },
   {
    "duration": 6,
    "start_time": "2022-12-22T13:52:44.407Z"
   },
   {
    "duration": 17,
    "start_time": "2022-12-22T13:52:44.414Z"
   },
   {
    "duration": 9,
    "start_time": "2022-12-22T13:52:44.432Z"
   },
   {
    "duration": 46,
    "start_time": "2022-12-24T13:04:54.870Z"
   },
   {
    "duration": 1078,
    "start_time": "2022-12-24T13:04:59.472Z"
   },
   {
    "duration": 73,
    "start_time": "2022-12-24T13:05:02.267Z"
   },
   {
    "duration": 88,
    "start_time": "2022-12-24T13:05:18.624Z"
   },
   {
    "duration": 38,
    "start_time": "2022-12-24T13:05:23.968Z"
   },
   {
    "duration": 6,
    "start_time": "2022-12-24T13:11:52.853Z"
   },
   {
    "duration": 44,
    "start_time": "2022-12-24T13:12:02.376Z"
   },
   {
    "duration": 43,
    "start_time": "2022-12-24T13:14:12.361Z"
   },
   {
    "duration": 71,
    "start_time": "2022-12-24T13:14:32.255Z"
   },
   {
    "duration": 50,
    "start_time": "2022-12-24T13:14:41.845Z"
   },
   {
    "duration": 44,
    "start_time": "2022-12-24T13:15:16.167Z"
   },
   {
    "duration": 49,
    "start_time": "2022-12-24T13:15:38.159Z"
   },
   {
    "duration": 47,
    "start_time": "2022-12-24T13:16:43.424Z"
   },
   {
    "duration": 42,
    "start_time": "2022-12-24T13:16:58.756Z"
   },
   {
    "duration": 49,
    "start_time": "2022-12-24T13:17:27.186Z"
   },
   {
    "duration": 42,
    "start_time": "2022-12-24T13:17:37.238Z"
   },
   {
    "duration": 50,
    "start_time": "2022-12-24T13:18:09.255Z"
   },
   {
    "duration": 12,
    "start_time": "2022-12-24T13:21:45.705Z"
   },
   {
    "duration": 12,
    "start_time": "2022-12-24T13:22:14.014Z"
   },
   {
    "duration": 12,
    "start_time": "2022-12-24T13:22:22.948Z"
   },
   {
    "duration": 41,
    "start_time": "2022-12-24T13:23:44.443Z"
   },
   {
    "duration": 39,
    "start_time": "2022-12-24T13:24:29.210Z"
   },
   {
    "duration": 12,
    "start_time": "2022-12-24T13:24:55.281Z"
   },
   {
    "duration": 105,
    "start_time": "2022-12-24T13:25:56.661Z"
   },
   {
    "duration": 8,
    "start_time": "2022-12-24T13:31:47.234Z"
   },
   {
    "duration": 9,
    "start_time": "2022-12-24T13:33:13.002Z"
   },
   {
    "duration": 9,
    "start_time": "2022-12-24T13:36:04.429Z"
   },
   {
    "duration": 10,
    "start_time": "2022-12-24T13:37:01.838Z"
   },
   {
    "duration": 59,
    "start_time": "2022-12-24T13:38:15.097Z"
   },
   {
    "duration": 61,
    "start_time": "2022-12-24T13:38:36.331Z"
   },
   {
    "duration": 1045,
    "start_time": "2022-12-24T13:38:46.171Z"
   },
   {
    "duration": 43,
    "start_time": "2022-12-24T13:38:47.218Z"
   },
   {
    "duration": 13,
    "start_time": "2022-12-24T13:38:47.262Z"
   },
   {
    "duration": 11,
    "start_time": "2022-12-24T13:38:47.277Z"
   },
   {
    "duration": 66,
    "start_time": "2022-12-24T13:38:47.289Z"
   },
   {
    "duration": 103,
    "start_time": "2022-12-24T13:38:47.357Z"
   },
   {
    "duration": 0,
    "start_time": "2022-12-24T13:38:47.462Z"
   },
   {
    "duration": 0,
    "start_time": "2022-12-24T13:38:47.463Z"
   },
   {
    "duration": 0,
    "start_time": "2022-12-24T13:38:47.464Z"
   },
   {
    "duration": 0,
    "start_time": "2022-12-24T13:38:47.465Z"
   },
   {
    "duration": 1,
    "start_time": "2022-12-24T13:38:47.466Z"
   },
   {
    "duration": 0,
    "start_time": "2022-12-24T13:38:47.467Z"
   },
   {
    "duration": 15,
    "start_time": "2022-12-24T13:39:59.391Z"
   },
   {
    "duration": 14,
    "start_time": "2022-12-24T13:40:17.523Z"
   },
   {
    "duration": 13,
    "start_time": "2022-12-24T13:40:22.063Z"
   },
   {
    "duration": 15,
    "start_time": "2022-12-24T13:40:45.236Z"
   },
   {
    "duration": 8,
    "start_time": "2022-12-24T13:40:50.835Z"
   },
   {
    "duration": 3,
    "start_time": "2022-12-24T13:41:52.867Z"
   },
   {
    "duration": 44,
    "start_time": "2022-12-24T13:41:52.872Z"
   },
   {
    "duration": 13,
    "start_time": "2022-12-24T13:41:52.918Z"
   },
   {
    "duration": 10,
    "start_time": "2022-12-24T13:41:52.932Z"
   },
   {
    "duration": 73,
    "start_time": "2022-12-24T13:42:59.505Z"
   },
   {
    "duration": 79,
    "start_time": "2022-12-24T13:43:51.523Z"
   },
   {
    "duration": 71,
    "start_time": "2022-12-24T13:44:35.338Z"
   },
   {
    "duration": 95,
    "start_time": "2022-12-24T13:44:51.051Z"
   },
   {
    "duration": 17,
    "start_time": "2022-12-24T13:45:30.695Z"
   },
   {
    "duration": 11,
    "start_time": "2022-12-24T13:45:33.482Z"
   },
   {
    "duration": 93,
    "start_time": "2022-12-24T13:45:37.215Z"
   },
   {
    "duration": 213,
    "start_time": "2022-12-24T13:46:06.338Z"
   },
   {
    "duration": 1075,
    "start_time": "2022-12-24T13:46:29.559Z"
   },
   {
    "duration": 44,
    "start_time": "2022-12-24T13:46:30.637Z"
   },
   {
    "duration": 18,
    "start_time": "2022-12-24T13:46:30.683Z"
   },
   {
    "duration": 12,
    "start_time": "2022-12-24T13:46:30.704Z"
   },
   {
    "duration": 441,
    "start_time": "2022-12-24T13:46:30.718Z"
   },
   {
    "duration": 170,
    "start_time": "2022-12-24T13:46:31.160Z"
   },
   {
    "duration": 0,
    "start_time": "2022-12-24T13:46:31.332Z"
   },
   {
    "duration": 0,
    "start_time": "2022-12-24T13:46:31.334Z"
   },
   {
    "duration": 0,
    "start_time": "2022-12-24T13:46:31.335Z"
   },
   {
    "duration": 0,
    "start_time": "2022-12-24T13:46:31.336Z"
   },
   {
    "duration": 0,
    "start_time": "2022-12-24T13:46:31.337Z"
   },
   {
    "duration": 0,
    "start_time": "2022-12-24T13:46:31.338Z"
   },
   {
    "duration": 139,
    "start_time": "2022-12-24T13:46:56.391Z"
   },
   {
    "duration": 123,
    "start_time": "2022-12-24T13:47:22.772Z"
   },
   {
    "duration": 122,
    "start_time": "2022-12-24T13:47:31.970Z"
   },
   {
    "duration": 74,
    "start_time": "2022-12-24T13:47:45.629Z"
   },
   {
    "duration": 14,
    "start_time": "2022-12-24T13:47:54.546Z"
   },
   {
    "duration": 6,
    "start_time": "2022-12-24T13:48:00.944Z"
   },
   {
    "duration": 73,
    "start_time": "2022-12-24T13:48:00.952Z"
   },
   {
    "duration": 17,
    "start_time": "2022-12-24T13:48:01.027Z"
   },
   {
    "duration": 39,
    "start_time": "2022-12-24T13:48:01.046Z"
   },
   {
    "duration": 111,
    "start_time": "2022-12-24T13:48:01.088Z"
   },
   {
    "duration": 11,
    "start_time": "2022-12-24T13:48:01.201Z"
   },
   {
    "duration": 0,
    "start_time": "2022-12-24T13:48:01.214Z"
   },
   {
    "duration": 0,
    "start_time": "2022-12-24T13:48:01.222Z"
   },
   {
    "duration": 0,
    "start_time": "2022-12-24T13:48:01.223Z"
   },
   {
    "duration": 0,
    "start_time": "2022-12-24T13:48:01.224Z"
   },
   {
    "duration": 0,
    "start_time": "2022-12-24T13:48:01.225Z"
   },
   {
    "duration": 0,
    "start_time": "2022-12-24T13:48:01.227Z"
   },
   {
    "duration": 1129,
    "start_time": "2022-12-24T13:48:18.539Z"
   },
   {
    "duration": 44,
    "start_time": "2022-12-24T13:48:19.670Z"
   },
   {
    "duration": 14,
    "start_time": "2022-12-24T13:48:19.715Z"
   },
   {
    "duration": 9,
    "start_time": "2022-12-24T13:48:19.731Z"
   },
   {
    "duration": 81,
    "start_time": "2022-12-24T13:48:19.742Z"
   },
   {
    "duration": 111,
    "start_time": "2022-12-24T13:48:19.825Z"
   },
   {
    "duration": 0,
    "start_time": "2022-12-24T13:48:19.938Z"
   },
   {
    "duration": 0,
    "start_time": "2022-12-24T13:48:19.939Z"
   },
   {
    "duration": 0,
    "start_time": "2022-12-24T13:48:19.940Z"
   },
   {
    "duration": 0,
    "start_time": "2022-12-24T13:48:19.941Z"
   },
   {
    "duration": 0,
    "start_time": "2022-12-24T13:48:19.942Z"
   },
   {
    "duration": 0,
    "start_time": "2022-12-24T13:48:19.943Z"
   },
   {
    "duration": 3,
    "start_time": "2022-12-24T13:49:06.252Z"
   },
   {
    "duration": 63,
    "start_time": "2022-12-24T13:49:06.257Z"
   },
   {
    "duration": 17,
    "start_time": "2022-12-24T13:49:06.322Z"
   },
   {
    "duration": 35,
    "start_time": "2022-12-24T13:49:06.341Z"
   },
   {
    "duration": 82,
    "start_time": "2022-12-24T13:49:06.378Z"
   },
   {
    "duration": 10,
    "start_time": "2022-12-24T13:49:06.462Z"
   },
   {
    "duration": 0,
    "start_time": "2022-12-24T13:49:06.473Z"
   },
   {
    "duration": 0,
    "start_time": "2022-12-24T13:49:06.474Z"
   },
   {
    "duration": 0,
    "start_time": "2022-12-24T13:49:06.475Z"
   },
   {
    "duration": 0,
    "start_time": "2022-12-24T13:49:06.476Z"
   },
   {
    "duration": 0,
    "start_time": "2022-12-24T13:49:06.477Z"
   },
   {
    "duration": 0,
    "start_time": "2022-12-24T13:49:06.478Z"
   },
   {
    "duration": 1116,
    "start_time": "2022-12-24T13:49:16.952Z"
   },
   {
    "duration": 46,
    "start_time": "2022-12-24T13:49:18.070Z"
   },
   {
    "duration": 16,
    "start_time": "2022-12-24T13:49:18.118Z"
   },
   {
    "duration": 10,
    "start_time": "2022-12-24T13:49:18.136Z"
   },
   {
    "duration": 80,
    "start_time": "2022-12-24T13:49:18.149Z"
   },
   {
    "duration": 120,
    "start_time": "2022-12-24T13:49:18.232Z"
   },
   {
    "duration": 0,
    "start_time": "2022-12-24T13:49:18.354Z"
   },
   {
    "duration": 0,
    "start_time": "2022-12-24T13:49:18.355Z"
   },
   {
    "duration": 0,
    "start_time": "2022-12-24T13:49:18.357Z"
   },
   {
    "duration": 0,
    "start_time": "2022-12-24T13:49:18.358Z"
   },
   {
    "duration": 0,
    "start_time": "2022-12-24T13:49:18.360Z"
   },
   {
    "duration": 0,
    "start_time": "2022-12-24T13:49:18.361Z"
   },
   {
    "duration": 2612,
    "start_time": "2022-12-24T13:49:35.157Z"
   },
   {
    "duration": 4,
    "start_time": "2022-12-24T13:49:46.450Z"
   },
   {
    "duration": 75,
    "start_time": "2022-12-24T13:49:46.456Z"
   },
   {
    "duration": 13,
    "start_time": "2022-12-24T13:49:46.533Z"
   },
   {
    "duration": 43,
    "start_time": "2022-12-24T13:49:46.548Z"
   },
   {
    "duration": 66,
    "start_time": "2022-12-24T13:49:46.594Z"
   },
   {
    "duration": 10,
    "start_time": "2022-12-24T13:49:46.662Z"
   },
   {
    "duration": 0,
    "start_time": "2022-12-24T13:49:46.674Z"
   },
   {
    "duration": 0,
    "start_time": "2022-12-24T13:49:46.675Z"
   },
   {
    "duration": 0,
    "start_time": "2022-12-24T13:49:46.676Z"
   },
   {
    "duration": 0,
    "start_time": "2022-12-24T13:49:46.677Z"
   },
   {
    "duration": 0,
    "start_time": "2022-12-24T13:49:46.678Z"
   },
   {
    "duration": 0,
    "start_time": "2022-12-24T13:49:46.680Z"
   },
   {
    "duration": 1080,
    "start_time": "2022-12-24T13:50:08.175Z"
   },
   {
    "duration": 46,
    "start_time": "2022-12-24T13:50:09.256Z"
   },
   {
    "duration": 12,
    "start_time": "2022-12-24T13:50:09.304Z"
   },
   {
    "duration": 11,
    "start_time": "2022-12-24T13:50:09.319Z"
   },
   {
    "duration": 113,
    "start_time": "2022-12-24T13:50:09.332Z"
   },
   {
    "duration": 107,
    "start_time": "2022-12-24T13:50:09.447Z"
   },
   {
    "duration": 0,
    "start_time": "2022-12-24T13:50:09.556Z"
   },
   {
    "duration": 0,
    "start_time": "2022-12-24T13:50:09.558Z"
   },
   {
    "duration": 0,
    "start_time": "2022-12-24T13:50:09.559Z"
   },
   {
    "duration": 0,
    "start_time": "2022-12-24T13:50:09.560Z"
   },
   {
    "duration": 0,
    "start_time": "2022-12-24T13:50:09.561Z"
   },
   {
    "duration": 0,
    "start_time": "2022-12-24T13:50:09.562Z"
   },
   {
    "duration": 6210,
    "start_time": "2022-12-24T13:51:05.872Z"
   },
   {
    "duration": 80464,
    "start_time": "2022-12-24T13:55:34.257Z"
   },
   {
    "duration": 78,
    "start_time": "2022-12-24T13:57:18.241Z"
   },
   {
    "duration": 72,
    "start_time": "2022-12-24T14:00:51.482Z"
   },
   {
    "duration": 91,
    "start_time": "2022-12-24T14:01:07.092Z"
   },
   {
    "duration": 54,
    "start_time": "2022-12-24T14:03:20.072Z"
   },
   {
    "duration": 114,
    "start_time": "2022-12-24T15:05:13.219Z"
   },
   {
    "duration": 117,
    "start_time": "2022-12-24T15:05:20.519Z"
   },
   {
    "duration": 96,
    "start_time": "2022-12-24T15:05:29.218Z"
   },
   {
    "duration": 103,
    "start_time": "2022-12-24T15:05:34.996Z"
   },
   {
    "duration": 115,
    "start_time": "2022-12-24T15:05:47.525Z"
   },
   {
    "duration": 101,
    "start_time": "2022-12-24T15:05:58.582Z"
   },
   {
    "duration": 94,
    "start_time": "2022-12-24T15:06:03.655Z"
   },
   {
    "duration": 94,
    "start_time": "2022-12-24T15:06:14.740Z"
   },
   {
    "duration": 103,
    "start_time": "2022-12-24T15:06:20.011Z"
   },
   {
    "duration": 98,
    "start_time": "2022-12-24T15:06:30.790Z"
   },
   {
    "duration": 92,
    "start_time": "2022-12-24T15:06:35.037Z"
   },
   {
    "duration": 108,
    "start_time": "2022-12-24T15:06:39.123Z"
   },
   {
    "duration": 144,
    "start_time": "2022-12-24T15:06:43.430Z"
   },
   {
    "duration": 140,
    "start_time": "2022-12-24T15:06:51.082Z"
   },
   {
    "duration": 109,
    "start_time": "2022-12-24T15:07:00.277Z"
   },
   {
    "duration": 103,
    "start_time": "2022-12-24T15:07:04.619Z"
   },
   {
    "duration": 124,
    "start_time": "2022-12-24T15:07:11.038Z"
   },
   {
    "duration": 118,
    "start_time": "2022-12-24T15:07:17.878Z"
   },
   {
    "duration": 135,
    "start_time": "2022-12-24T15:07:22.351Z"
   },
   {
    "duration": 120,
    "start_time": "2022-12-24T15:07:27.822Z"
   },
   {
    "duration": 110,
    "start_time": "2022-12-24T15:07:31.949Z"
   },
   {
    "duration": 105,
    "start_time": "2022-12-24T15:07:56.055Z"
   },
   {
    "duration": 11,
    "start_time": "2022-12-24T15:08:07.631Z"
   },
   {
    "duration": 8,
    "start_time": "2022-12-24T15:08:14.443Z"
   },
   {
    "duration": 96,
    "start_time": "2022-12-24T15:08:18.035Z"
   },
   {
    "duration": 76731,
    "start_time": "2022-12-24T15:08:35.656Z"
   },
   {
    "duration": 60,
    "start_time": "2022-12-24T15:17:38.586Z"
   },
   {
    "duration": 69,
    "start_time": "2022-12-24T15:17:46.018Z"
   },
   {
    "duration": 43,
    "start_time": "2022-12-24T15:17:52.777Z"
   },
   {
    "duration": 47,
    "start_time": "2022-12-24T15:18:00.051Z"
   },
   {
    "duration": 58,
    "start_time": "2022-12-24T15:18:03.915Z"
   },
   {
    "duration": 43,
    "start_time": "2022-12-24T15:18:11.943Z"
   },
   {
    "duration": 49,
    "start_time": "2022-12-24T15:18:21.131Z"
   },
   {
    "duration": 43,
    "start_time": "2022-12-24T15:18:25.330Z"
   },
   {
    "duration": 40,
    "start_time": "2022-12-24T15:18:29.163Z"
   },
   {
    "duration": 38,
    "start_time": "2022-12-24T15:18:33.171Z"
   },
   {
    "duration": 27,
    "start_time": "2022-12-24T15:18:38.056Z"
   },
   {
    "duration": 30,
    "start_time": "2022-12-24T15:18:46.683Z"
   },
   {
    "duration": 40,
    "start_time": "2022-12-24T15:18:50.376Z"
   },
   {
    "duration": 47,
    "start_time": "2022-12-24T15:18:56.742Z"
   },
   {
    "duration": 39,
    "start_time": "2022-12-24T15:19:01.360Z"
   },
   {
    "duration": 45,
    "start_time": "2022-12-24T15:19:05.873Z"
   },
   {
    "duration": 60,
    "start_time": "2022-12-24T15:19:14.342Z"
   },
   {
    "duration": 46,
    "start_time": "2022-12-24T15:19:20.756Z"
   },
   {
    "duration": 38,
    "start_time": "2022-12-24T15:19:28.974Z"
   },
   {
    "duration": 41,
    "start_time": "2022-12-24T15:19:34.649Z"
   },
   {
    "duration": 4,
    "start_time": "2022-12-24T15:26:11.145Z"
   },
   {
    "duration": 94,
    "start_time": "2022-12-24T15:26:34.792Z"
   },
   {
    "duration": 521,
    "start_time": "2022-12-24T15:26:47.661Z"
   },
   {
    "duration": 153,
    "start_time": "2022-12-24T15:27:23.771Z"
   },
   {
    "duration": 186,
    "start_time": "2022-12-24T15:27:35.865Z"
   },
   {
    "duration": 23,
    "start_time": "2022-12-24T15:28:37.185Z"
   },
   {
    "duration": 19,
    "start_time": "2022-12-24T15:28:50.876Z"
   },
   {
    "duration": 18,
    "start_time": "2022-12-24T16:13:14.829Z"
   },
   {
    "duration": 19,
    "start_time": "2022-12-24T16:16:47.808Z"
   },
   {
    "duration": 17,
    "start_time": "2022-12-24T16:18:48.760Z"
   },
   {
    "duration": 15,
    "start_time": "2022-12-24T16:19:06.737Z"
   },
   {
    "duration": 7,
    "start_time": "2022-12-24T16:19:22.054Z"
   },
   {
    "duration": 14,
    "start_time": "2022-12-24T16:19:55.784Z"
   },
   {
    "duration": 6,
    "start_time": "2022-12-24T16:33:39.266Z"
   },
   {
    "duration": 6,
    "start_time": "2022-12-24T16:33:50.081Z"
   },
   {
    "duration": 3,
    "start_time": "2022-12-24T16:34:35.364Z"
   },
   {
    "duration": 12,
    "start_time": "2022-12-24T16:35:07.520Z"
   },
   {
    "duration": 37,
    "start_time": "2022-12-24T16:38:19.871Z"
   },
   {
    "duration": 40,
    "start_time": "2022-12-24T16:38:41.246Z"
   },
   {
    "duration": 7,
    "start_time": "2022-12-24T16:38:55.209Z"
   },
   {
    "duration": 13,
    "start_time": "2022-12-24T16:39:24.948Z"
   },
   {
    "duration": 6,
    "start_time": "2022-12-24T16:40:45.315Z"
   },
   {
    "duration": 7,
    "start_time": "2022-12-24T16:41:06.512Z"
   },
   {
    "duration": 14,
    "start_time": "2022-12-24T16:42:28.403Z"
   },
   {
    "duration": 15,
    "start_time": "2022-12-24T16:42:45.860Z"
   },
   {
    "duration": 13,
    "start_time": "2022-12-24T16:42:56.180Z"
   },
   {
    "duration": 40,
    "start_time": "2022-12-24T16:43:37.002Z"
   },
   {
    "duration": 14,
    "start_time": "2022-12-24T16:43:40.722Z"
   },
   {
    "duration": 9,
    "start_time": "2022-12-24T16:43:52.147Z"
   },
   {
    "duration": 104,
    "start_time": "2022-12-24T16:43:54.926Z"
   },
   {
    "duration": 93,
    "start_time": "2022-12-24T16:44:13.621Z"
   },
   {
    "duration": 73076,
    "start_time": "2022-12-24T16:44:43.268Z"
   },
   {
    "duration": 37,
    "start_time": "2022-12-24T16:47:09.790Z"
   },
   {
    "duration": 103,
    "start_time": "2022-12-24T16:48:31.646Z"
   },
   {
    "duration": 96,
    "start_time": "2022-12-24T16:48:45.290Z"
   },
   {
    "duration": 101,
    "start_time": "2022-12-24T16:49:00.255Z"
   },
   {
    "duration": 13,
    "start_time": "2022-12-24T16:49:23.312Z"
   },
   {
    "duration": 12,
    "start_time": "2022-12-24T16:49:35.557Z"
   },
   {
    "duration": 7,
    "start_time": "2022-12-24T16:49:39.560Z"
   },
   {
    "duration": 6,
    "start_time": "2022-12-24T16:51:23.272Z"
   },
   {
    "duration": 6,
    "start_time": "2022-12-24T16:52:01.053Z"
   },
   {
    "duration": 14,
    "start_time": "2022-12-24T16:57:37.555Z"
   },
   {
    "duration": 12,
    "start_time": "2022-12-24T16:57:45.980Z"
   },
   {
    "duration": 78474,
    "start_time": "2022-12-24T17:04:27.965Z"
   },
   {
    "duration": 16,
    "start_time": "2022-12-24T17:05:46.463Z"
   },
   {
    "duration": 5,
    "start_time": "2022-12-24T17:05:46.480Z"
   },
   {
    "duration": 82,
    "start_time": "2022-12-24T17:05:46.487Z"
   },
   {
    "duration": 20,
    "start_time": "2022-12-24T17:06:03.713Z"
   },
   {
    "duration": 12,
    "start_time": "2022-12-24T17:07:16.070Z"
   },
   {
    "duration": 6,
    "start_time": "2022-12-24T17:07:18.697Z"
   },
   {
    "duration": 4,
    "start_time": "2022-12-24T17:12:44.656Z"
   },
   {
    "duration": 45,
    "start_time": "2022-12-24T17:12:44.661Z"
   },
   {
    "duration": 10,
    "start_time": "2022-12-24T17:12:44.708Z"
   },
   {
    "duration": 21,
    "start_time": "2022-12-24T17:12:44.719Z"
   },
   {
    "duration": 98,
    "start_time": "2022-12-24T17:12:44.742Z"
   },
   {
    "duration": 76619,
    "start_time": "2022-12-24T17:12:44.841Z"
   },
   {
    "duration": 35,
    "start_time": "2022-12-24T17:14:01.462Z"
   },
   {
    "duration": 28,
    "start_time": "2022-12-24T17:14:01.499Z"
   },
   {
    "duration": 13,
    "start_time": "2022-12-24T17:14:01.530Z"
   },
   {
    "duration": 53,
    "start_time": "2022-12-24T17:14:01.545Z"
   },
   {
    "duration": 3,
    "start_time": "2022-12-24T17:14:06.809Z"
   },
   {
    "duration": 44,
    "start_time": "2022-12-24T17:14:08.732Z"
   },
   {
    "duration": 12,
    "start_time": "2022-12-24T17:14:16.738Z"
   },
   {
    "duration": 9,
    "start_time": "2022-12-24T17:14:27.097Z"
   },
   {
    "duration": 94,
    "start_time": "2022-12-24T17:14:38.208Z"
   },
   {
    "duration": 77085,
    "start_time": "2022-12-24T17:14:47.598Z"
   },
   {
    "duration": 36,
    "start_time": "2022-12-24T17:16:36.965Z"
   },
   {
    "duration": 13,
    "start_time": "2022-12-24T17:17:30.538Z"
   },
   {
    "duration": 8,
    "start_time": "2022-12-24T17:17:57.321Z"
   }
  ],
  "kernelspec": {
   "display_name": "Python 3 (ipykernel)",
   "language": "python",
   "name": "python3"
  },
  "language_info": {
   "codemirror_mode": {
    "name": "ipython",
    "version": 3
   },
   "file_extension": ".py",
   "mimetype": "text/x-python",
   "name": "python",
   "nbconvert_exporter": "python",
   "pygments_lexer": "ipython3",
   "version": "3.9.13"
  },
  "toc": {
   "base_numbering": 1,
   "nav_menu": {},
   "number_sections": true,
   "sideBar": true,
   "skip_h1_title": true,
   "title_cell": "Table of Contents",
   "title_sidebar": "Contents",
   "toc_cell": false,
   "toc_position": {
    "height": "calc(100% - 180px)",
    "left": "10px",
    "top": "150px",
    "width": "323.865px"
   },
   "toc_section_display": true,
   "toc_window_display": true
  }
 },
 "nbformat": 4,
 "nbformat_minor": 2
}
