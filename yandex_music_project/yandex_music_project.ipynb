{
 "cells": [
  {
   "cell_type": "markdown",
   "metadata": {
    "deletable": false,
    "editable": false,
    "id": "E0vqbgi9ay0H",
    "pycharm": {
     "name": "#%% md\n"
    }
   },
   "source": [
    "# Яндекс Музыка"
   ]
  },
  {
   "cell_type": "markdown",
   "metadata": {
    "deletable": false,
    "editable": false,
    "id": "VUC88oWjTJw2",
    "pycharm": {
     "name": "#%% md\n"
    }
   },
   "source": [
    "Сравнение Москвы и Петербурга окружено мифами. Например:\n",
    " * Москва — мегаполис, подчинённый жёсткому ритму рабочей недели;\n",
    " * Петербург — культурная столица, со своими вкусами.\n",
    "\n",
    "На данных Яндекс Музыки вы сравните поведение пользователей двух столиц.\n",
    "\n",
    "**Цель исследования** — проверьте три гипотезы:\n",
    "1. Активность пользователей зависит от дня недели. Причём в Москве и Петербурге это проявляется по-разному.\n",
    "2. В понедельник утром в Москве преобладают одни жанры, а в Петербурге — другие. Так же и вечером пятницы преобладают разные жанры — в зависимости от города. \n",
    "3. Москва и Петербург предпочитают разные жанры музыки. В Москве чаще слушают поп-музыку, в Петербурге — русский рэп.\n",
    "\n",
    "**Ход исследования**\n",
    "\n",
    "Данные о поведении пользователей вы получите из файла `yandex_music_project.csv`. О качестве данных ничего не известно. Поэтому перед проверкой гипотез понадобится обзор данных. \n",
    "\n",
    "Вы проверите данные на ошибки и оцените их влияние на исследование. Затем, на этапе предобработки вы поищете возможность исправить самые критичные ошибки данных.\n",
    " \n",
    "Таким образом, исследование пройдёт в три этапа:\n",
    " 1. Обзор данных.\n",
    " 2. Предобработка данных.\n",
    " 3. Проверка гипотез.\n",
    "\n"
   ]
  },
  {
   "cell_type": "markdown",
   "metadata": {
    "deletable": false,
    "editable": false,
    "id": "Ml1hmfXC_Zcs",
    "pycharm": {
     "name": "#%% md\n"
    }
   },
   "source": [
    "## Обзор данных\n",
    "\n",
    "Составьте первое представление о данных Яндекс Музыки.\n",
    "\n",
    "\n"
   ]
  },
  {
   "cell_type": "markdown",
   "metadata": {
    "deletable": false,
    "editable": false,
    "id": "57eAOGIz_Zcs",
    "tags": [
     "start_task"
    ],
    "pycharm": {
     "name": "#%% md\n"
    }
   },
   "source": [
    "**Задание 1**\n",
    "\n",
    "Основной инструмент аналитика — `pandas`. Импортируйте эту библиотеку."
   ]
  },
  {
   "cell_type": "code",
   "execution_count": null,
   "metadata": {
    "deletable": false,
    "id": "AXN7PHPN_Zcs",
    "pycharm": {
     "name": "#%%\n",
     "is_executing": true
    }
   },
   "outputs": [],
   "source": [
    "# импорт библиотеки pandas\n",
    "import pandas as pd"
   ]
  },
  {
   "cell_type": "markdown",
   "metadata": {
    "deletable": false,
    "editable": false,
    "id": "SG23P8tt_Zcs",
    "tags": [
     "start_task"
    ],
    "pycharm": {
     "name": "#%% md\n"
    }
   },
   "source": [
    "**Задание 2**\n",
    "\n",
    "Прочитайте файл `yandex_music_project.csv` из папки `/datasets` и сохраните его в переменной `df`:"
   ]
  },
  {
   "cell_type": "code",
   "execution_count": 8,
   "metadata": {
    "deletable": false,
    "id": "fFVu7vqh_Zct",
    "pycharm": {
     "name": "#%%\n"
    }
   },
   "outputs": [],
   "source": [
    "# чтение файла с данными и сохранение в df\n",
    "df=pd.read_csv('/datasets/yandex_music_project.csv')"
   ]
  },
  {
   "cell_type": "markdown",
   "metadata": {
    "deletable": false,
    "editable": false,
    "id": "rDoOMd3uTqnZ",
    "tags": [
     "start_task"
    ],
    "pycharm": {
     "name": "#%% md\n"
    }
   },
   "source": [
    "**Задание 3**\n",
    "\n",
    "\n",
    "Выведите на экран первые десять строк таблицы:"
   ]
  },
  {
   "cell_type": "code",
   "execution_count": 9,
   "metadata": {
    "deletable": false,
    "id": "oWTVX3gW_Zct",
    "pycharm": {
     "name": "#%%\n"
    }
   },
   "outputs": [
    {
     "name": "stdout",
     "output_type": "stream",
     "text": [
      "     userID                        Track            artist   genre  \\\n",
      "0  FFB692EC            Kamigata To Boots  The Mass Missile    rock   \n",
      "1  55204538  Delayed Because of Accident  Andreas Rönnberg    rock   \n",
      "2    20EC38            Funiculì funiculà       Mario Lanza     pop   \n",
      "3  A3DD03C9        Dragons in the Sunset        Fire + Ice    folk   \n",
      "4  E2DC1FAE                  Soul People        Space Echo   dance   \n",
      "5  842029A1                    Преданная         IMPERVTOR  rusrap   \n",
      "6  4CB90AA5                         True      Roman Messer   dance   \n",
      "7  F03E1C1F             Feeling This Way   Polina Griffith   dance   \n",
      "8  8FA1D3BE     И вновь продолжается бой               NaN  ruspop   \n",
      "9  E772D5C0                    Pessimist               NaN   dance   \n",
      "\n",
      "             City        time        Day  \n",
      "0  Saint-Petersburg  20:28:33  Wednesday  \n",
      "1            Moscow  14:07:09     Friday  \n",
      "2  Saint-Petersburg  20:58:07  Wednesday  \n",
      "3  Saint-Petersburg  08:37:09     Monday  \n",
      "4            Moscow  08:34:34     Monday  \n",
      "5  Saint-Petersburg  13:09:41     Friday  \n",
      "6            Moscow  13:00:07  Wednesday  \n",
      "7            Moscow  20:47:49  Wednesday  \n",
      "8            Moscow  09:17:40     Friday  \n",
      "9  Saint-Petersburg  21:20:49  Wednesday  \n"
     ]
    }
   ],
   "source": [
    "# получение первых 10 строк таблицы df\n",
    "print(df.head(10))"
   ]
  },
  {
   "cell_type": "markdown",
   "metadata": {
    "deletable": false,
    "editable": false,
    "id": "EO73Kwic_Zct",
    "tags": [
     "start_task"
    ],
    "pycharm": {
     "name": "#%% md\n"
    }
   },
   "source": [
    "**Задание 4**\n",
    "\n",
    "\n",
    "Одной командой получить общую информацию о таблице c помощью метода `info()`:"
   ]
  },
  {
   "cell_type": "code",
   "execution_count": 10,
   "metadata": {
    "deletable": false,
    "id": "DSf2kIb-_Zct",
    "pycharm": {
     "name": "#%%\n"
    }
   },
   "outputs": [
    {
     "name": "stdout",
     "output_type": "stream",
     "text": [
      "<class 'pandas.core.frame.DataFrame'>\n",
      "RangeIndex: 65079 entries, 0 to 65078\n",
      "Data columns (total 7 columns):\n",
      " #   Column    Non-Null Count  Dtype \n",
      "---  ------    --------------  ----- \n",
      " 0     userID  65079 non-null  object\n",
      " 1   Track     63848 non-null  object\n",
      " 2   artist    57876 non-null  object\n",
      " 3   genre     63881 non-null  object\n",
      " 4     City    65079 non-null  object\n",
      " 5   time      65079 non-null  object\n",
      " 6   Day       65079 non-null  object\n",
      "dtypes: object(7)\n",
      "memory usage: 3.5+ MB\n"
     ]
    }
   ],
   "source": [
    "# получение общей информации о данных в таблице df\n",
    "df.info()"
   ]
  },
  {
   "cell_type": "markdown",
   "metadata": {
    "deletable": false,
    "editable": false,
    "id": "TaQ2Iwbr_Zct",
    "pycharm": {
     "name": "#%% md\n"
    }
   },
   "source": [
    "Итак, в таблице семь столбцов. Тип данных во всех столбцах — `object`.\n",
    "\n",
    "Согласно документации к данным:\n",
    "* `userID` — идентификатор пользователя;\n",
    "* `Track` — название трека;  \n",
    "* `artist` — имя исполнителя;\n",
    "* `genre` — название жанра;\n",
    "* `City` — город пользователя;\n",
    "* `time` — время начала прослушивания;\n",
    "* `Day` — день недели.\n",
    "\n",
    "Количество значений в столбцах различается. Значит, в данных есть пропущенные значения."
   ]
  },
  {
   "cell_type": "markdown",
   "metadata": {
    "deletable": false,
    "editable": false,
    "id": "rAfziTBDmf2h",
    "tags": [
     "start_task"
    ],
    "pycharm": {
     "name": "#%% md\n"
    }
   },
   "source": [
    "**Задание 5**\n",
    "\n",
    "**Вопрос со свободной формой ответа**\n",
    "\n",
    "В названиях колонок видны нарушения стиля:\n",
    "* Строчные буквы сочетаются с прописными.\n",
    "* Встречаются пробелы.\n",
    "\n",
    "Какое третье нарушение?"
   ]
  },
  {
   "cell_type": "code",
   "execution_count": 11,
   "metadata": {
    "id": "jD8EXEIvmf2h",
    "pycharm": {
     "name": "#%%\n"
    }
   },
   "outputs": [],
   "source": [
    "# Напишите ваш ответ здесь комментарием. Не удаляйте символ #. Не меняйте тип этой ячейки на Markdown\n",
    "#В названиях нет нижних подчеркиваний"
   ]
  },
  {
   "cell_type": "markdown",
   "metadata": {
    "deletable": false,
    "editable": false,
    "id": "MCB6-dXG_Zct",
    "pycharm": {
     "name": "#%% md\n"
    }
   },
   "source": [
    "**Выводы**\n",
    "\n",
    "В каждой строке таблицы — данные о прослушанном треке. Часть колонок описывает саму композицию: название, исполнителя и жанр. Остальные данные рассказывают о пользователе: из какого он города, когда он слушал музыку. \n",
    "\n",
    "Предварительно можно утверждать, что данных достаточно для проверки гипотез. Но встречаются пропуски в данных, а в названиях колонок — расхождения с хорошим стилем.\n",
    "\n",
    "Чтобы двигаться дальше, нужно устранить проблемы в данных."
   ]
  },
  {
   "cell_type": "markdown",
   "metadata": {
    "deletable": false,
    "editable": false,
    "id": "SjYF6Ub9_Zct",
    "pycharm": {
     "name": "#%% md\n"
    }
   },
   "source": [
    "## Предобработка данных\n",
    "Исправьте стиль в заголовках столбцов, исключите пропуски. Затем проверьте данные на дубликаты."
   ]
  },
  {
   "cell_type": "markdown",
   "metadata": {
    "deletable": false,
    "editable": false,
    "id": "dIaKXr29_Zct",
    "tags": [
     "start_task"
    ],
    "pycharm": {
     "name": "#%% md\n"
    }
   },
   "source": [
    "### Стиль заголовков\n",
    "\n",
    "**Задание 6**\n",
    "\n",
    "Выведите на экран названия столбцов:"
   ]
  },
  {
   "cell_type": "code",
   "execution_count": 12,
   "metadata": {
    "deletable": false,
    "id": "oKOTdF_Q_Zct",
    "pycharm": {
     "name": "#%%\n"
    }
   },
   "outputs": [
    {
     "data": {
      "text/plain": [
       "Index(['  userID', 'Track', 'artist', 'genre', '  City  ', 'time', 'Day'], dtype='object')"
      ]
     },
     "execution_count": 12,
     "metadata": {},
     "output_type": "execute_result"
    }
   ],
   "source": [
    "# перечень названий столбцов таблицы df\n",
    "df.columns"
   ]
  },
  {
   "cell_type": "markdown",
   "metadata": {
    "deletable": false,
    "editable": false,
    "id": "zj5534cv_Zct",
    "tags": [
     "start_task"
    ],
    "pycharm": {
     "name": "#%% md\n"
    }
   },
   "source": [
    "**Задание 7**\n",
    "\n",
    "\n",
    "Приведите названия в соответствие с хорошим стилем:\n",
    "* несколько слов в названии запишите в «змеином_регистре»,\n",
    "* все символы сделайте строчными,\n",
    "* устраните пробелы.\n",
    "\n",
    "Для этого переименуйте колонки так:\n",
    "* `'  userID'` → `'user_id'`;\n",
    "* `'Track'` → `'track'`;\n",
    "* `'  City  '` → `'city'`;\n",
    "* `'Day'` → `'day'`."
   ]
  },
  {
   "cell_type": "code",
   "execution_count": 13,
   "metadata": {
    "deletable": false,
    "id": "ISlFqs5y_Zct",
    "pycharm": {
     "name": "#%%\n"
    }
   },
   "outputs": [],
   "source": [
    "# переименование столбцов\n",
    "df=df.rename(columns={ '  userID': 'user_id', 'Track': 'track','  City  ': 'city','Day': 'day'})"
   ]
  },
  {
   "cell_type": "markdown",
   "metadata": {
    "deletable": false,
    "editable": false,
    "id": "1dqbh00J_Zct",
    "tags": [
     "start_task"
    ],
    "pycharm": {
     "name": "#%% md\n"
    }
   },
   "source": [
    "**Задание 8**\n",
    "\n",
    "\n",
    "Проверьте результат. Для этого ещё раз выведите на экран названия столбцов:"
   ]
  },
  {
   "cell_type": "code",
   "execution_count": 14,
   "metadata": {
    "deletable": false,
    "id": "d4NOAmTW_Zct",
    "pycharm": {
     "name": "#%%\n"
    }
   },
   "outputs": [
    {
     "data": {
      "text/plain": [
       "Index(['user_id', 'track', 'artist', 'genre', 'city', 'time', 'day'], dtype='object')"
      ]
     },
     "execution_count": 14,
     "metadata": {},
     "output_type": "execute_result"
    }
   ],
   "source": [
    "# проверка результатов - перечень названий столбцов\n",
    "df.columns"
   ]
  },
  {
   "cell_type": "markdown",
   "metadata": {
    "deletable": false,
    "editable": false,
    "id": "5ISfbcfY_Zct",
    "tags": [
     "start_task"
    ],
    "pycharm": {
     "name": "#%% md\n"
    }
   },
   "source": [
    "### Пропуски значений\n",
    "\n",
    "**Задание 9**\n",
    "\n",
    "Сначала посчитайте, сколько в таблице пропущенных значений. Для этого достаточно двух методов `pandas`:"
   ]
  },
  {
   "cell_type": "code",
   "execution_count": 15,
   "metadata": {
    "deletable": false,
    "id": "RskX29qr_Zct",
    "pycharm": {
     "name": "#%%\n"
    }
   },
   "outputs": [
    {
     "data": {
      "text/plain": [
       "user_id       0\n",
       "track      1231\n",
       "artist     7203\n",
       "genre      1198\n",
       "city          0\n",
       "time          0\n",
       "day           0\n",
       "dtype: int64"
      ]
     },
     "execution_count": 15,
     "metadata": {},
     "output_type": "execute_result"
    }
   ],
   "source": [
    "# подсчёт пропусков\n",
    "df.isna().sum()"
   ]
  },
  {
   "cell_type": "markdown",
   "metadata": {
    "deletable": false,
    "editable": false,
    "id": "qubhgnlO_Zct",
    "pycharm": {
     "name": "#%% md\n"
    }
   },
   "source": [
    "Не все пропущенные значения влияют на исследование. Так в `track` и `artist` пропуски не важны для вашей работы. Достаточно заменить их явными обозначениями.\n",
    "\n",
    "Но пропуски в `genre` могут помешать сравнению музыкальных вкусов в Москве и Санкт-Петербурге. На практике было бы правильно установить причину пропусков и восстановить данные. Такой возможности нет в учебном проекте. Придётся:\n",
    "* заполнить и эти пропуски явными обозначениями;\n",
    "* оценить, насколько они повредят расчётам. "
   ]
  },
  {
   "cell_type": "markdown",
   "metadata": {
    "deletable": false,
    "editable": false,
    "id": "fSv2laPA_Zct",
    "tags": [
     "start_task"
    ],
    "pycharm": {
     "name": "#%% md\n"
    }
   },
   "source": [
    "**Задание 10**\n",
    "\n",
    "Замените пропущенные значения в столбцах `track`, `artist` и `genre` на строку `'unknown'`. Для этого создайте список `columns_to_replace`, переберите его элементы циклом `for` и для каждого столбца выполните замену пропущенных значений:"
   ]
  },
  {
   "cell_type": "code",
   "execution_count": 16,
   "metadata": {
    "deletable": false,
    "id": "KplB5qWs_Zct",
    "pycharm": {
     "name": "#%%\n"
    }
   },
   "outputs": [],
   "source": [
    "# перебор названий столбцов в цикле и замена пропущенных значений на 'unknown'\n",
    "columns_to_replace=['track', 'artist' ,'genre']\n",
    "for column in columns_to_replace:\n",
    "    df[column] = df[column].fillna('unknown')"
   ]
  },
  {
   "cell_type": "markdown",
   "metadata": {
    "deletable": false,
    "editable": false,
    "id": "Ilsm-MZo_Zct",
    "tags": [
     "start_task"
    ],
    "pycharm": {
     "name": "#%% md\n"
    }
   },
   "source": [
    "**Задание 11**\n",
    "\n",
    "Убедитесь, что в таблице не осталось пропусков. Для этого ещё раз посчитайте пропущенные значения."
   ]
  },
  {
   "cell_type": "code",
   "execution_count": 17,
   "metadata": {
    "deletable": false,
    "id": "Tq4nYRX4_Zct",
    "pycharm": {
     "name": "#%%\n"
    }
   },
   "outputs": [
    {
     "data": {
      "text/plain": [
       "user_id    0\n",
       "track      0\n",
       "artist     0\n",
       "genre      0\n",
       "city       0\n",
       "time       0\n",
       "day        0\n",
       "dtype: int64"
      ]
     },
     "execution_count": 17,
     "metadata": {},
     "output_type": "execute_result"
    }
   ],
   "source": [
    "# подсчёт пропусков\n",
    "df.isna().sum()"
   ]
  },
  {
   "cell_type": "markdown",
   "metadata": {
    "deletable": false,
    "editable": false,
    "id": "BWKRtBJ3_Zct",
    "tags": [
     "start_task"
    ],
    "pycharm": {
     "name": "#%% md\n"
    }
   },
   "source": [
    "### Дубликаты\n",
    "\n",
    "**Задание 12**\n",
    "\n",
    "Посчитайте явные дубликаты в таблице одной командой:"
   ]
  },
  {
   "cell_type": "code",
   "execution_count": 18,
   "metadata": {
    "deletable": false,
    "id": "36eES_S0_Zct",
    "pycharm": {
     "name": "#%%\n"
    }
   },
   "outputs": [
    {
     "data": {
      "text/plain": [
       "3826"
      ]
     },
     "execution_count": 18,
     "metadata": {},
     "output_type": "execute_result"
    }
   ],
   "source": [
    "# подсчёт явных дубликатов\n",
    "df.duplicated().sum()"
   ]
  },
  {
   "cell_type": "markdown",
   "metadata": {
    "deletable": false,
    "editable": false,
    "id": "Ot25h6XR_Zct",
    "tags": [
     "start_task"
    ],
    "pycharm": {
     "name": "#%% md\n"
    }
   },
   "source": [
    "**Задание 13**\n",
    "\n",
    "Вызовите специальный метод `pandas`, чтобы удалить явные дубликаты:"
   ]
  },
  {
   "cell_type": "code",
   "execution_count": 19,
   "metadata": {
    "deletable": false,
    "id": "exFHq6tt_Zct",
    "pycharm": {
     "name": "#%%\n"
    }
   },
   "outputs": [],
   "source": [
    "# удаление явных дубликатов\n",
    "df = df.drop_duplicates().reset_index(drop=True)"
   ]
  },
  {
   "cell_type": "markdown",
   "metadata": {
    "deletable": false,
    "editable": false,
    "id": "Im2YwBEG_Zct",
    "tags": [
     "start_task"
    ],
    "pycharm": {
     "name": "#%% md\n"
    }
   },
   "source": [
    "**Задание 14**\n",
    "\n",
    "Ещё раз посчитайте явные дубликаты в таблице — убедитесь, что полностью от них избавились:"
   ]
  },
  {
   "cell_type": "code",
   "execution_count": 20,
   "metadata": {
    "deletable": false,
    "id": "-8PuNWQ0_Zct",
    "pycharm": {
     "name": "#%%\n"
    }
   },
   "outputs": [
    {
     "data": {
      "text/plain": [
       "0"
      ]
     },
     "execution_count": 20,
     "metadata": {},
     "output_type": "execute_result"
    }
   ],
   "source": [
    "# проверка на отсутствие дубликатов\n",
    "df.duplicated().sum()"
   ]
  },
  {
   "cell_type": "markdown",
   "metadata": {
    "deletable": false,
    "editable": false,
    "id": "QlFBsxAr_Zct",
    "pycharm": {
     "name": "#%% md\n"
    }
   },
   "source": [
    "Теперь избавьтесь от неявных дубликатов в колонке `genre`. Например, название одного и того же жанра может быть записано немного по-разному. Такие ошибки тоже повлияют на результат исследования."
   ]
  },
  {
   "cell_type": "markdown",
   "metadata": {
    "deletable": false,
    "editable": false,
    "id": "eSjWwsOh_Zct",
    "tags": [
     "start_task"
    ],
    "pycharm": {
     "name": "#%% md\n"
    }
   },
   "source": [
    "**Задание 15**\n",
    "\n",
    "Выведите на экран список уникальных названий жанров, отсортированный в алфавитном порядке. Для этого:\n",
    "1. извлеките нужный столбец датафрейма; \n",
    "2. примените к нему метод сортировки;\n",
    "3. для отсортированного столбца вызовите метод, который вернёт уникальные значения из столбца."
   ]
  },
  {
   "cell_type": "code",
   "execution_count": 21,
   "metadata": {
    "deletable": false,
    "id": "JIUcqzZN_Zct",
    "pycharm": {
     "name": "#%%\n"
    }
   },
   "outputs": [
    {
     "data": {
      "text/plain": [
       "array(['acid', 'acoustic', 'action', 'adult', 'africa', 'afrikaans',\n",
       "       'alternative', 'alternativepunk', 'ambient', 'americana',\n",
       "       'animated', 'anime', 'arabesk', 'arabic', 'arena',\n",
       "       'argentinetango', 'art', 'audiobook', 'author', 'avantgarde',\n",
       "       'axé', 'baile', 'balkan', 'beats', 'bigroom', 'black', 'bluegrass',\n",
       "       'blues', 'bollywood', 'bossa', 'brazilian', 'breakbeat', 'breaks',\n",
       "       'broadway', 'cantautori', 'cantopop', 'canzone', 'caribbean',\n",
       "       'caucasian', 'celtic', 'chamber', 'chanson', 'children', 'chill',\n",
       "       'chinese', 'choral', 'christian', 'christmas', 'classical',\n",
       "       'classicmetal', 'club', 'colombian', 'comedy', 'conjazz',\n",
       "       'contemporary', 'country', 'cuban', 'dance', 'dancehall',\n",
       "       'dancepop', 'dark', 'death', 'deep', 'deutschrock', 'deutschspr',\n",
       "       'dirty', 'disco', 'dnb', 'documentary', 'downbeat', 'downtempo',\n",
       "       'drum', 'dub', 'dubstep', 'eastern', 'easy', 'electronic',\n",
       "       'electropop', 'emo', 'entehno', 'epicmetal', 'estrada', 'ethnic',\n",
       "       'eurofolk', 'european', 'experimental', 'extrememetal', 'fado',\n",
       "       'fairytail', 'film', 'fitness', 'flamenco', 'folk', 'folklore',\n",
       "       'folkmetal', 'folkrock', 'folktronica', 'forró', 'frankreich',\n",
       "       'französisch', 'french', 'funk', 'future', 'gangsta', 'garage',\n",
       "       'german', 'ghazal', 'gitarre', 'glitch', 'gospel', 'gothic',\n",
       "       'grime', 'grunge', 'gypsy', 'handsup', \"hard'n'heavy\", 'hardcore',\n",
       "       'hardstyle', 'hardtechno', 'hip', 'hip-hop', 'hiphop',\n",
       "       'historisch', 'holiday', 'hop', 'horror', 'house', 'hymn', 'idm',\n",
       "       'independent', 'indian', 'indie', 'indipop', 'industrial',\n",
       "       'inspirational', 'instrumental', 'international', 'irish', 'jam',\n",
       "       'japanese', 'jazz', 'jewish', 'jpop', 'jungle', 'k-pop',\n",
       "       'karadeniz', 'karaoke', 'kayokyoku', 'korean', 'laiko', 'latin',\n",
       "       'latino', 'leftfield', 'local', 'lounge', 'loungeelectronic',\n",
       "       'lovers', 'malaysian', 'mandopop', 'marschmusik', 'meditative',\n",
       "       'mediterranean', 'melodic', 'metal', 'metalcore', 'mexican',\n",
       "       'middle', 'minimal', 'miscellaneous', 'modern', 'mood', 'mpb',\n",
       "       'muslim', 'native', 'neoklassik', 'neue', 'new', 'newage',\n",
       "       'newwave', 'nu', 'nujazz', 'numetal', 'oceania', 'old', 'opera',\n",
       "       'orchestral', 'other', 'piano', 'podcasts', 'pop', 'popdance',\n",
       "       'popelectronic', 'popeurodance', 'poprussian', 'post',\n",
       "       'posthardcore', 'postrock', 'power', 'progmetal', 'progressive',\n",
       "       'psychedelic', 'punjabi', 'punk', 'quebecois', 'ragga', 'ram',\n",
       "       'rancheras', 'rap', 'rave', 'reggae', 'reggaeton', 'regional',\n",
       "       'relax', 'religious', 'retro', 'rhythm', 'rnb', 'rnr', 'rock',\n",
       "       'rockabilly', 'rockalternative', 'rockindie', 'rockother',\n",
       "       'romance', 'roots', 'ruspop', 'rusrap', 'rusrock', 'russian',\n",
       "       'salsa', 'samba', 'scenic', 'schlager', 'self', 'sertanejo',\n",
       "       'shanson', 'shoegazing', 'showtunes', 'singer', 'ska', 'skarock',\n",
       "       'slow', 'smooth', 'soft', 'soul', 'soulful', 'sound', 'soundtrack',\n",
       "       'southern', 'specialty', 'speech', 'spiritual', 'sport',\n",
       "       'stonerrock', 'surf', 'swing', 'synthpop', 'synthrock',\n",
       "       'sängerportrait', 'tango', 'tanzorchester', 'taraftar', 'tatar',\n",
       "       'tech', 'techno', 'teen', 'thrash', 'top', 'traditional',\n",
       "       'tradjazz', 'trance', 'tribal', 'trip', 'triphop', 'tropical',\n",
       "       'türk', 'türkçe', 'ukrrock', 'unknown', 'urban', 'uzbek',\n",
       "       'variété', 'vi', 'videogame', 'vocal', 'western', 'world',\n",
       "       'worldbeat', 'ïîï', 'электроника'], dtype=object)"
      ]
     },
     "execution_count": 21,
     "metadata": {},
     "output_type": "execute_result"
    }
   ],
   "source": [
    "# Просмотр уникальных названий жанров\n",
    "sorted_series = df['genre'].sort_values()\n",
    "sorted_series.unique() "
   ]
  },
  {
   "cell_type": "markdown",
   "metadata": {
    "deletable": false,
    "editable": false,
    "id": "qej-Qmuo_Zct",
    "tags": [
     "start_task"
    ],
    "pycharm": {
     "name": "#%% md\n"
    }
   },
   "source": [
    "**Задание 16**\n",
    "\n",
    "Просмотрите список и найдите неявные дубликаты названия `hiphop`. Это могут быть названия с ошибками или альтернативные названия того же жанра.\n",
    "\n",
    "Вы увидите следующие неявные дубликаты:\n",
    "* *hip*,\n",
    "* *hop*,\n",
    "* *hip-hop*.\n",
    "\n",
    "Чтобы очистить от них таблицу используйте метод `replace()` с двумя аргументами: списком строк-дубликатов (включащий *hip*, *hop* и *hip-hop*) и строкой с правильным значением. Вам нужно исправить колонку `genre` в таблице `df`: заменить каждое значение из списка дубликатов на верное. Вместо `hip`, `hop` и `hip-hop` в таблице должно быть значение `hiphop`:"
   ]
  },
  {
   "cell_type": "code",
   "execution_count": 22,
   "metadata": {
    "deletable": false,
    "id": "ErNDkmns_Zct",
    "pycharm": {
     "name": "#%%\n"
    }
   },
   "outputs": [
    {
     "data": {
      "text/plain": [
       "array(['acid', 'acoustic', 'action', 'adult', 'africa', 'afrikaans',\n",
       "       'alternative', 'alternativepunk', 'ambient', 'americana',\n",
       "       'animated', 'anime', 'arabesk', 'arabic', 'arena',\n",
       "       'argentinetango', 'art', 'audiobook', 'author', 'avantgarde',\n",
       "       'axé', 'baile', 'balkan', 'beats', 'bigroom', 'black', 'bluegrass',\n",
       "       'blues', 'bollywood', 'bossa', 'brazilian', 'breakbeat', 'breaks',\n",
       "       'broadway', 'cantautori', 'cantopop', 'canzone', 'caribbean',\n",
       "       'caucasian', 'celtic', 'chamber', 'chanson', 'children', 'chill',\n",
       "       'chinese', 'choral', 'christian', 'christmas', 'classical',\n",
       "       'classicmetal', 'club', 'colombian', 'comedy', 'conjazz',\n",
       "       'contemporary', 'country', 'cuban', 'dance', 'dancehall',\n",
       "       'dancepop', 'dark', 'death', 'deep', 'deutschrock', 'deutschspr',\n",
       "       'dirty', 'disco', 'dnb', 'documentary', 'downbeat', 'downtempo',\n",
       "       'drum', 'dub', 'dubstep', 'eastern', 'easy', 'electronic',\n",
       "       'electropop', 'emo', 'entehno', 'epicmetal', 'estrada', 'ethnic',\n",
       "       'eurofolk', 'european', 'experimental', 'extrememetal', 'fado',\n",
       "       'fairytail', 'film', 'fitness', 'flamenco', 'folk', 'folklore',\n",
       "       'folkmetal', 'folkrock', 'folktronica', 'forró', 'frankreich',\n",
       "       'französisch', 'french', 'funk', 'future', 'gangsta', 'garage',\n",
       "       'german', 'ghazal', 'gitarre', 'glitch', 'gospel', 'gothic',\n",
       "       'grime', 'grunge', 'gypsy', 'handsup', \"hard'n'heavy\", 'hardcore',\n",
       "       'hardstyle', 'hardtechno', 'hiphop', 'historisch', 'holiday',\n",
       "       'horror', 'house', 'hymn', 'idm', 'independent', 'indian', 'indie',\n",
       "       'indipop', 'industrial', 'inspirational', 'instrumental',\n",
       "       'international', 'irish', 'jam', 'japanese', 'jazz', 'jewish',\n",
       "       'jpop', 'jungle', 'k-pop', 'karadeniz', 'karaoke', 'kayokyoku',\n",
       "       'korean', 'laiko', 'latin', 'latino', 'leftfield', 'local',\n",
       "       'lounge', 'loungeelectronic', 'lovers', 'malaysian', 'mandopop',\n",
       "       'marschmusik', 'meditative', 'mediterranean', 'melodic', 'metal',\n",
       "       'metalcore', 'mexican', 'middle', 'minimal', 'miscellaneous',\n",
       "       'modern', 'mood', 'mpb', 'muslim', 'native', 'neoklassik', 'neue',\n",
       "       'new', 'newage', 'newwave', 'nu', 'nujazz', 'numetal', 'oceania',\n",
       "       'old', 'opera', 'orchestral', 'other', 'piano', 'podcasts', 'pop',\n",
       "       'popdance', 'popelectronic', 'popeurodance', 'poprussian', 'post',\n",
       "       'posthardcore', 'postrock', 'power', 'progmetal', 'progressive',\n",
       "       'psychedelic', 'punjabi', 'punk', 'quebecois', 'ragga', 'ram',\n",
       "       'rancheras', 'rap', 'rave', 'reggae', 'reggaeton', 'regional',\n",
       "       'relax', 'religious', 'retro', 'rhythm', 'rnb', 'rnr', 'rock',\n",
       "       'rockabilly', 'rockalternative', 'rockindie', 'rockother',\n",
       "       'romance', 'roots', 'ruspop', 'rusrap', 'rusrock', 'russian',\n",
       "       'salsa', 'samba', 'scenic', 'schlager', 'self', 'sertanejo',\n",
       "       'shanson', 'shoegazing', 'showtunes', 'singer', 'ska', 'skarock',\n",
       "       'slow', 'smooth', 'soft', 'soul', 'soulful', 'sound', 'soundtrack',\n",
       "       'southern', 'specialty', 'speech', 'spiritual', 'sport',\n",
       "       'stonerrock', 'surf', 'swing', 'synthpop', 'synthrock',\n",
       "       'sängerportrait', 'tango', 'tanzorchester', 'taraftar', 'tatar',\n",
       "       'tech', 'techno', 'teen', 'thrash', 'top', 'traditional',\n",
       "       'tradjazz', 'trance', 'tribal', 'trip', 'triphop', 'tropical',\n",
       "       'türk', 'türkçe', 'ukrrock', 'unknown', 'urban', 'uzbek',\n",
       "       'variété', 'vi', 'videogame', 'vocal', 'western', 'world',\n",
       "       'worldbeat', 'ïîï', 'электроника'], dtype=object)"
      ]
     },
     "execution_count": 22,
     "metadata": {},
     "output_type": "execute_result"
    }
   ],
   "source": [
    "# Устранение неявных дубликатов\n",
    "value_to_replace=['hip', 'hop' ,'hip-hop']\n",
    "df['genre'] = df['genre'].replace(value_to_replace, 'hiphop')\n",
    "sorted_series = df['genre'].sort_values()\n",
    "sorted_series.unique() "
   ]
  },
  {
   "cell_type": "markdown",
   "metadata": {
    "deletable": false,
    "editable": false,
    "id": "zQKF16_RG15m",
    "tags": [
     "start_task"
    ],
    "pycharm": {
     "name": "#%% md\n"
    }
   },
   "source": [
    "**Задание 17**\n",
    "\n",
    "Проверьте, что заменили неправильные названия:\n",
    "\n",
    "*   hip,\n",
    "*   hop,\n",
    "*   hip-hop.\n",
    "\n",
    "Выведите отсортированный список уникальных значений столбца `genre`:"
   ]
  },
  {
   "cell_type": "code",
   "execution_count": 23,
   "metadata": {
    "deletable": false,
    "id": "wvixALnFG15m",
    "pycharm": {
     "name": "#%%\n"
    }
   },
   "outputs": [
    {
     "data": {
      "text/plain": [
       "array(['acid', 'acoustic', 'action', 'adult', 'africa', 'afrikaans',\n",
       "       'alternative', 'alternativepunk', 'ambient', 'americana',\n",
       "       'animated', 'anime', 'arabesk', 'arabic', 'arena',\n",
       "       'argentinetango', 'art', 'audiobook', 'author', 'avantgarde',\n",
       "       'axé', 'baile', 'balkan', 'beats', 'bigroom', 'black', 'bluegrass',\n",
       "       'blues', 'bollywood', 'bossa', 'brazilian', 'breakbeat', 'breaks',\n",
       "       'broadway', 'cantautori', 'cantopop', 'canzone', 'caribbean',\n",
       "       'caucasian', 'celtic', 'chamber', 'chanson', 'children', 'chill',\n",
       "       'chinese', 'choral', 'christian', 'christmas', 'classical',\n",
       "       'classicmetal', 'club', 'colombian', 'comedy', 'conjazz',\n",
       "       'contemporary', 'country', 'cuban', 'dance', 'dancehall',\n",
       "       'dancepop', 'dark', 'death', 'deep', 'deutschrock', 'deutschspr',\n",
       "       'dirty', 'disco', 'dnb', 'documentary', 'downbeat', 'downtempo',\n",
       "       'drum', 'dub', 'dubstep', 'eastern', 'easy', 'electronic',\n",
       "       'electropop', 'emo', 'entehno', 'epicmetal', 'estrada', 'ethnic',\n",
       "       'eurofolk', 'european', 'experimental', 'extrememetal', 'fado',\n",
       "       'fairytail', 'film', 'fitness', 'flamenco', 'folk', 'folklore',\n",
       "       'folkmetal', 'folkrock', 'folktronica', 'forró', 'frankreich',\n",
       "       'französisch', 'french', 'funk', 'future', 'gangsta', 'garage',\n",
       "       'german', 'ghazal', 'gitarre', 'glitch', 'gospel', 'gothic',\n",
       "       'grime', 'grunge', 'gypsy', 'handsup', \"hard'n'heavy\", 'hardcore',\n",
       "       'hardstyle', 'hardtechno', 'hiphop', 'historisch', 'holiday',\n",
       "       'horror', 'house', 'hymn', 'idm', 'independent', 'indian', 'indie',\n",
       "       'indipop', 'industrial', 'inspirational', 'instrumental',\n",
       "       'international', 'irish', 'jam', 'japanese', 'jazz', 'jewish',\n",
       "       'jpop', 'jungle', 'k-pop', 'karadeniz', 'karaoke', 'kayokyoku',\n",
       "       'korean', 'laiko', 'latin', 'latino', 'leftfield', 'local',\n",
       "       'lounge', 'loungeelectronic', 'lovers', 'malaysian', 'mandopop',\n",
       "       'marschmusik', 'meditative', 'mediterranean', 'melodic', 'metal',\n",
       "       'metalcore', 'mexican', 'middle', 'minimal', 'miscellaneous',\n",
       "       'modern', 'mood', 'mpb', 'muslim', 'native', 'neoklassik', 'neue',\n",
       "       'new', 'newage', 'newwave', 'nu', 'nujazz', 'numetal', 'oceania',\n",
       "       'old', 'opera', 'orchestral', 'other', 'piano', 'podcasts', 'pop',\n",
       "       'popdance', 'popelectronic', 'popeurodance', 'poprussian', 'post',\n",
       "       'posthardcore', 'postrock', 'power', 'progmetal', 'progressive',\n",
       "       'psychedelic', 'punjabi', 'punk', 'quebecois', 'ragga', 'ram',\n",
       "       'rancheras', 'rap', 'rave', 'reggae', 'reggaeton', 'regional',\n",
       "       'relax', 'religious', 'retro', 'rhythm', 'rnb', 'rnr', 'rock',\n",
       "       'rockabilly', 'rockalternative', 'rockindie', 'rockother',\n",
       "       'romance', 'roots', 'ruspop', 'rusrap', 'rusrock', 'russian',\n",
       "       'salsa', 'samba', 'scenic', 'schlager', 'self', 'sertanejo',\n",
       "       'shanson', 'shoegazing', 'showtunes', 'singer', 'ska', 'skarock',\n",
       "       'slow', 'smooth', 'soft', 'soul', 'soulful', 'sound', 'soundtrack',\n",
       "       'southern', 'specialty', 'speech', 'spiritual', 'sport',\n",
       "       'stonerrock', 'surf', 'swing', 'synthpop', 'synthrock',\n",
       "       'sängerportrait', 'tango', 'tanzorchester', 'taraftar', 'tatar',\n",
       "       'tech', 'techno', 'teen', 'thrash', 'top', 'traditional',\n",
       "       'tradjazz', 'trance', 'tribal', 'trip', 'triphop', 'tropical',\n",
       "       'türk', 'türkçe', 'ukrrock', 'unknown', 'urban', 'uzbek',\n",
       "       'variété', 'vi', 'videogame', 'vocal', 'western', 'world',\n",
       "       'worldbeat', 'ïîï', 'электроника'], dtype=object)"
      ]
     },
     "execution_count": 23,
     "metadata": {},
     "output_type": "execute_result"
    }
   ],
   "source": [
    "# Проверка на неявные дубликаты\n",
    "sorted_series = df['genre'].sort_values()\n",
    "sorted_series.unique() "
   ]
  },
  {
   "cell_type": "markdown",
   "metadata": {
    "deletable": false,
    "editable": false,
    "id": "jz6a9-7HQUDd",
    "pycharm": {
     "name": "#%% md\n"
    }
   },
   "source": [
    "**Выводы**\n",
    "\n",
    "Предобработка обнаружила три проблемы в данных:\n",
    "\n",
    "- нарушения в стиле заголовков,\n",
    "- пропущенные значения,\n",
    "- дубликаты — явные и неявные.\n",
    "\n",
    "Вы исправили заголовки, чтобы упростить работу с таблицей. Без дубликатов исследование станет более точным.\n",
    "\n",
    "Пропущенные значения вы заменили на `'unknown'`. Ещё предстоит увидеть, не повредят ли исследованию пропуски в колонке `genre`.\n",
    "\n",
    "Теперь можно перейти к проверке гипотез. "
   ]
  },
  {
   "cell_type": "markdown",
   "metadata": {
    "deletable": false,
    "editable": false,
    "id": "WttZHXH0SqKk",
    "pycharm": {
     "name": "#%% md\n"
    }
   },
   "source": [
    "## Проверка гипотез"
   ]
  },
  {
   "cell_type": "markdown",
   "metadata": {
    "deletable": false,
    "editable": false,
    "id": "Im936VVi_Zcu",
    "pycharm": {
     "name": "#%% md\n"
    }
   },
   "source": [
    "### Сравнение поведения пользователей двух столиц"
   ]
  },
  {
   "cell_type": "markdown",
   "metadata": {
    "deletable": false,
    "editable": false,
    "id": "nwt_MuaL_Zcu",
    "pycharm": {
     "name": "#%% md\n"
    }
   },
   "source": [
    "Первая гипотеза утверждает, что пользователи по-разному слушают музыку в Москве и Санкт-Петербурге. Проверьте это предположение по данным о трёх днях недели — понедельнике, среде и пятнице. Для этого:\n",
    "\n",
    "* Разделите пользователей Москвы и Санкт-Петербурга.\n",
    "* Сравните, сколько треков послушала каждая группа пользователей в понедельник, среду и пятницу.\n"
   ]
  },
  {
   "cell_type": "markdown",
   "metadata": {
    "deletable": false,
    "editable": false,
    "id": "8Dw_YMmT_Zcu",
    "tags": [
     "start_task"
    ],
    "pycharm": {
     "name": "#%% md\n"
    }
   },
   "source": [
    "**Задание 18**\n",
    "\n",
    "Для тренировки сначала выполните каждый из расчётов по отдельности. \n",
    "\n",
    "Оцените активность пользователей в каждом городе. Сгруппируйте данные по городу и посчитайте прослушивания в каждой группе.\n",
    "\n"
   ]
  },
  {
   "cell_type": "code",
   "execution_count": 24,
   "metadata": {
    "deletable": false,
    "id": "0_Qs96oh_Zcu",
    "pycharm": {
     "name": "#%%\n"
    }
   },
   "outputs": [
    {
     "name": "stdout",
     "output_type": "stream",
     "text": [
      "city\n",
      "Moscow              42741\n",
      "Saint-Petersburg    18512\n",
      "Name: track, dtype: int64\n"
     ]
    }
   ],
   "source": [
    "# Подсчёт прослушиваний в каждом городе\n",
    "col = df.groupby('city')['track'].count()\n",
    "print(col)"
   ]
  },
  {
   "cell_type": "markdown",
   "metadata": {
    "deletable": false,
    "editable": false,
    "id": "dzli3w8o_Zcu",
    "tags": [
     "start_task"
    ],
    "pycharm": {
     "name": "#%% md\n"
    }
   },
   "source": [
    "В Москве прослушиваний больше, чем в Петербурге. Из этого не следует, что московские пользователи чаще слушают музыку. Просто самих пользователей в Москве больше.\n",
    "\n",
    "**Задание 19**\n",
    "\n",
    "Теперь сгруппируйте данные по дню недели и посчитайте прослушивания в понедельник, среду и пятницу. Учтите, что в данных есть информация о прослушиваниях только за эти дни.\n"
   ]
  },
  {
   "cell_type": "code",
   "execution_count": 25,
   "metadata": {
    "deletable": false,
    "id": "uZMKjiJz_Zcu",
    "pycharm": {
     "name": "#%%\n"
    }
   },
   "outputs": [
    {
     "name": "stdout",
     "output_type": "stream",
     "text": [
      "day\n",
      "Friday       21840\n",
      "Monday       21354\n",
      "Wednesday    18059\n",
      "Name: track, dtype: int64\n"
     ]
    }
   ],
   "source": [
    "# Подсчёт прослушиваний в каждый из трёх дней\n",
    "col = df.groupby('day')['track'].count()\n",
    "print(col)"
   ]
  },
  {
   "cell_type": "markdown",
   "metadata": {
    "deletable": false,
    "editable": false,
    "id": "cC2tNrlL_Zcu",
    "pycharm": {
     "name": "#%% md\n"
    }
   },
   "source": [
    "В среднем пользователи из двух городов менее активны по средам. Но картина может измениться, если рассмотреть каждый город в отдельности."
   ]
  },
  {
   "cell_type": "markdown",
   "metadata": {
    "deletable": false,
    "editable": false,
    "id": "POzs8bGa_Zcu",
    "tags": [
     "start_task"
    ],
    "pycharm": {
     "name": "#%% md\n"
    }
   },
   "source": [
    "**Задание 20**\n",
    "\n",
    "\n",
    "Вы видели, как работает группировка по городу и по дням недели. Теперь напишите функцию, которая объединит два эти расчёта.\n",
    "\n",
    "Создайте функцию `number_tracks()`, которая посчитает прослушивания для заданного дня и города. Ей понадобятся два параметра:\n",
    "* день недели,\n",
    "* название города.\n",
    "\n",
    "В функции сохраните в переменную строки исходной таблицы, у которых значение:\n",
    "  * в колонке `day` равно параметру `day`,\n",
    "  * в колонке `city` равно параметру `city`.\n",
    "\n",
    "Для этого примените последовательную фильтрацию с логической индексацией (или сложные логические выражения в одну строку, если вы уже знакомы с ними).\n",
    "\n",
    "Затем посчитайте значения в столбце `user_id` получившейся таблицы. Результат сохраните в новую переменную. Верните эту переменную из функции."
   ]
  },
  {
   "cell_type": "code",
   "execution_count": 26,
   "metadata": {
    "deletable": false,
    "id": "Nz3GdQB1_Zcu",
    "pycharm": {
     "name": "#%%\n"
    }
   },
   "outputs": [
    {
     "data": {
      "text/plain": [
       "11056"
      ]
     },
     "execution_count": 26,
     "metadata": {},
     "output_type": "execute_result"
    }
   ],
   "source": [
    "# <создание функции number_tracks()>\n",
    "def number_tracks(day, city):\n",
    "# Объявляется функция с двумя параметрами: day, city.\n",
    "# В переменной track_list сохраняются те строки таблицы df, для которых \n",
    "# значение в столбце 'day' равно параметру day и одновременно значение\n",
    "    track_list=df[(df['day']==day)]\n",
    "    track_list=track_list[(track_list['city']==city)]\n",
    "    track_list_count = track_list['user_id'].count()\n",
    "    return track_list_count\n",
    "number_tracks('Wednesday','Moscow')\n",
    "#day='Wednesday'\n",
    "#city='Moscow'\n",
    "#print(track_list)\n",
    "# в столбце 'city' равно параметру city (используйте последовательную фильтрацию\n",
    "# с помощью логической индексации или сложные логические выражения в одну строку, если вы уже знакомы с ними).\n",
    "# В переменной track_list_count сохраняется число значений столбца 'user_id',\n",
    "# рассчитанное методом count() для таблицы track_list.\n",
    "# Функция возвращает число - значение track_list_count.\n",
    "\n",
    "# Функция для подсчёта прослушиваний для конкретного города и дня.\n",
    "# С помощью последовательной фильтрации с логической индексацией она \n",
    "# сначала получит из исходной таблицы строки с нужным днём,\n",
    "# затем из результата отфильтрует строки с нужным городом,\n",
    "# методом count() посчитает количество значений в колонке user_id. \n",
    "# Это количество функция вернёт в качестве результата"
   ]
  },
  {
   "cell_type": "markdown",
   "metadata": {
    "deletable": false,
    "editable": false,
    "id": "ytf7xFrFJQ2r",
    "tags": [
     "start_task"
    ],
    "pycharm": {
     "name": "#%% md\n"
    }
   },
   "source": [
    "**Задание 21**\n",
    "\n",
    "Вызовите `number_tracks()` шесть раз, меняя значение параметров — так, чтобы получить данные для каждого города в каждый из трёх дней."
   ]
  },
  {
   "cell_type": "code",
   "execution_count": 27,
   "metadata": {
    "deletable": false,
    "id": "rJcRATNQ_Zcu",
    "pycharm": {
     "name": "#%%\n"
    }
   },
   "outputs": [
    {
     "data": {
      "text/plain": [
       "15740"
      ]
     },
     "execution_count": 27,
     "metadata": {},
     "output_type": "execute_result"
    }
   ],
   "source": [
    "# количество прослушиваний в Москве по понедельникам\n",
    "number_tracks('Monday','Moscow')"
   ]
  },
  {
   "cell_type": "code",
   "execution_count": 28,
   "metadata": {
    "deletable": false,
    "id": "hq_ncZ5T_Zcu",
    "pycharm": {
     "name": "#%%\n"
    }
   },
   "outputs": [
    {
     "data": {
      "text/plain": [
       "5614"
      ]
     },
     "execution_count": 28,
     "metadata": {},
     "output_type": "execute_result"
    }
   ],
   "source": [
    "# количество прослушиваний в Санкт-Петербурге по понедельникам\n",
    "number_tracks('Monday','Saint-Petersburg')"
   ]
  },
  {
   "cell_type": "code",
   "execution_count": 29,
   "metadata": {
    "deletable": false,
    "id": "_NTy2VPU_Zcu",
    "pycharm": {
     "name": "#%%\n"
    }
   },
   "outputs": [
    {
     "data": {
      "text/plain": [
       "11056"
      ]
     },
     "execution_count": 29,
     "metadata": {},
     "output_type": "execute_result"
    }
   ],
   "source": [
    "# количество прослушиваний в Москве по средам\n",
    "number_tracks('Wednesday','Moscow')"
   ]
  },
  {
   "cell_type": "code",
   "execution_count": 30,
   "metadata": {
    "deletable": false,
    "id": "j2y3TAwo_Zcu",
    "pycharm": {
     "name": "#%%\n"
    }
   },
   "outputs": [
    {
     "data": {
      "text/plain": [
       "7003"
      ]
     },
     "execution_count": 30,
     "metadata": {},
     "output_type": "execute_result"
    }
   ],
   "source": [
    "# количество прослушиваний в Санкт-Петербурге по средам\n",
    "number_tracks('Wednesday','Saint-Petersburg')"
   ]
  },
  {
   "cell_type": "code",
   "execution_count": 31,
   "metadata": {
    "deletable": false,
    "id": "vYDw5u_K_Zcu",
    "pycharm": {
     "name": "#%%\n"
    }
   },
   "outputs": [
    {
     "data": {
      "text/plain": [
       "15945"
      ]
     },
     "execution_count": 31,
     "metadata": {},
     "output_type": "execute_result"
    }
   ],
   "source": [
    "# количество прослушиваний в Москве по пятницам\n",
    "number_tracks('Friday','Moscow')"
   ]
  },
  {
   "cell_type": "code",
   "execution_count": 32,
   "metadata": {
    "deletable": false,
    "id": "8_yzFtW3_Zcu",
    "pycharm": {
     "name": "#%%\n"
    }
   },
   "outputs": [
    {
     "data": {
      "text/plain": [
       "5895"
      ]
     },
     "execution_count": 32,
     "metadata": {},
     "output_type": "execute_result"
    }
   ],
   "source": [
    "# количество прослушиваний в Санкт-Петербурге по пятницам\n",
    "number_tracks('Friday','Saint-Petersburg')"
   ]
  },
  {
   "cell_type": "markdown",
   "metadata": {
    "deletable": false,
    "editable": false,
    "id": "7QXffbO-_Zcu",
    "tags": [
     "start_task"
    ],
    "pycharm": {
     "name": "#%% md\n"
    }
   },
   "source": [
    "**Задание 22**\n",
    "\n",
    "Создайте c помощью конструктора `pd.DataFrame` таблицу, где\n",
    "* названия колонок — `['city', 'monday', 'wednesday', 'friday']`;\n",
    "* данные — результаты, которые вы получили с помощью `number_tracks`."
   ]
  },
  {
   "cell_type": "code",
   "execution_count": 33,
   "metadata": {
    "deletable": false,
    "id": "APAcLpOr_Zcu",
    "pycharm": {
     "name": "#%%\n"
    }
   },
   "outputs": [
    {
     "data": {
      "text/html": [
       "<div>\n",
       "<style scoped>\n",
       "    .dataframe tbody tr th:only-of-type {\n",
       "        vertical-align: middle;\n",
       "    }\n",
       "\n",
       "    .dataframe tbody tr th {\n",
       "        vertical-align: top;\n",
       "    }\n",
       "\n",
       "    .dataframe thead th {\n",
       "        text-align: right;\n",
       "    }\n",
       "</style>\n",
       "<table border=\"1\" class=\"dataframe\">\n",
       "  <thead>\n",
       "    <tr style=\"text-align: right;\">\n",
       "      <th></th>\n",
       "      <th>city</th>\n",
       "      <th>monday</th>\n",
       "      <th>wednesday</th>\n",
       "      <th>friday</th>\n",
       "    </tr>\n",
       "  </thead>\n",
       "  <tbody>\n",
       "    <tr>\n",
       "      <th>0</th>\n",
       "      <td>Moscow</td>\n",
       "      <td>15740</td>\n",
       "      <td>11056</td>\n",
       "      <td>15945</td>\n",
       "    </tr>\n",
       "    <tr>\n",
       "      <th>1</th>\n",
       "      <td>Saint-Petersburg</td>\n",
       "      <td>5614</td>\n",
       "      <td>7003</td>\n",
       "      <td>5895</td>\n",
       "    </tr>\n",
       "  </tbody>\n",
       "</table>\n",
       "</div>"
      ],
      "text/plain": [
       "               city  monday  wednesday  friday\n",
       "0            Moscow   15740      11056   15945\n",
       "1  Saint-Petersburg    5614       7003    5895"
      ]
     },
     "execution_count": 33,
     "metadata": {},
     "output_type": "execute_result"
    }
   ],
   "source": [
    "# Таблица с результатами\n",
    "columns=['city', 'monday', 'wednesday', 'friday']\n",
    "data=[['Moscow',number_tracks('Monday','Moscow'), number_tracks('Wednesday','Moscow'), number_tracks('Friday','Moscow')],\n",
    "      ['Saint-Petersburg',number_tracks('Monday','Saint-Petersburg'), number_tracks('Wednesday','Saint-Petersburg'), number_tracks('Friday','Saint-Petersburg')]]\n",
    "pd.DataFrame(data=data, columns=columns)"
   ]
  },
  {
   "cell_type": "markdown",
   "metadata": {
    "deletable": false,
    "editable": false,
    "id": "-EgPIHYu_Zcu",
    "pycharm": {
     "name": "#%% md\n"
    }
   },
   "source": [
    "**Выводы**\n",
    "\n",
    "Данные показывают разницу поведения пользователей:\n",
    "\n",
    "- В Москве пик прослушиваний приходится на понедельник и пятницу, а в среду заметен спад.\n",
    "- В Петербурге, наоборот, больше слушают музыку по средам. Активность в понедельник и пятницу здесь почти в равной мере уступает среде.\n",
    "\n",
    "Значит, данные говорят в пользу первой гипотезы."
   ]
  },
  {
   "cell_type": "markdown",
   "metadata": {
    "deletable": false,
    "editable": false,
    "id": "atZAxtq4_Zcu",
    "pycharm": {
     "name": "#%% md\n"
    }
   },
   "source": [
    "### Музыка в начале и в конце недели"
   ]
  },
  {
   "cell_type": "markdown",
   "metadata": {
    "deletable": false,
    "editable": false,
    "id": "eXrQqXFH_Zcu",
    "pycharm": {
     "name": "#%% md\n"
    }
   },
   "source": [
    "Согласно второй гипотезе, утром в понедельник в Москве преобладают одни жанры, а в Петербурге — другие. Так же и вечером пятницы преобладают разные жанры — в зависимости от города."
   ]
  },
  {
   "cell_type": "markdown",
   "metadata": {
    "deletable": false,
    "editable": false,
    "id": "S8UcW6Hw_Zcu",
    "tags": [
     "start_task"
    ],
    "pycharm": {
     "name": "#%% md\n"
    }
   },
   "source": [
    "**Задание 23**\n",
    "\n",
    "Сохраните таблицы с данными в две переменные:\n",
    "* по Москве — в `moscow_general`;\n",
    "* по Санкт-Петербургу — в `spb_general`."
   ]
  },
  {
   "cell_type": "code",
   "execution_count": 34,
   "metadata": {
    "deletable": false,
    "id": "qeaFfM_P_Zcu",
    "pycharm": {
     "name": "#%%\n"
    }
   },
   "outputs": [],
   "source": [
    "# получение таблицы moscow_general из тех строк таблицы df, \n",
    "# для которых значение в столбце 'city' равно 'Moscow'\n",
    "moscow_general=df[df['city']=='Moscow']\n"
   ]
  },
  {
   "cell_type": "code",
   "execution_count": 35,
   "metadata": {
    "deletable": false,
    "id": "ORaVRKto_Zcu",
    "pycharm": {
     "name": "#%%\n"
    }
   },
   "outputs": [],
   "source": [
    "# получение таблицы spb_general из тех строк таблицы df,\n",
    "# для которых значение в столбце 'city' равно 'Saint-Petersburg'\n",
    "spb_general=df[df['city']=='Saint-Petersburg']"
   ]
  },
  {
   "cell_type": "markdown",
   "metadata": {
    "deletable": false,
    "editable": false,
    "id": "MEJV-CX2_Zcu",
    "tags": [
     "start_task"
    ],
    "pycharm": {
     "name": "#%% md\n"
    }
   },
   "source": [
    "**Задание 24**\n",
    "\n",
    "Создайте функцию `genre_weekday()` с четырьмя параметрами:\n",
    "* таблица (датафрейм) с данными,\n",
    "* день недели,\n",
    "* начальная временная метка в формате 'hh:mm', \n",
    "* последняя временная метка в формате 'hh:mm'.\n",
    "\n",
    "Функция должна вернуть информацию о топ-10 жанров тех треков, которые прослушивали в указанный день, в промежутке между двумя отметками времени."
   ]
  },
  {
   "cell_type": "code",
   "execution_count": 36,
   "metadata": {
    "deletable": false,
    "id": "laJT9BYl_Zcu",
    "pycharm": {
     "name": "#%%\n"
    }
   },
   "outputs": [],
   "source": [
    "# Объявление функции genre_weekday() с параметрами table, day, time1, time2,\n",
    "# которая возвращает информацию о самых популярных жанрах в указанный день в\n",
    "# заданное время:\n",
    "# 1) в переменную genre_df сохраняются те строки переданного датафрейма table, для\n",
    "#    которых одновременно:\n",
    "#    - значение в столбце day равно значению аргумента day\n",
    "#    - значение в столбце time больше значения аргумента time1\n",
    "#    - значение в столбце time меньше значения аргумента time2\n",
    "#    Используйте последовательную фильтрацию с помощью логической индексации.\n",
    "# 2) сгруппировать датафрейм genre_df по столбцу genre, взять один из его\n",
    "#    столбцов и посчитать методом count() количество записей для каждого из\n",
    "#    присутствующих жанров, получившийся Series записать в переменную\n",
    "#    genre_df_count\n",
    "# 3) отсортировать genre_df_count по убыванию встречаемости и сохранить\n",
    "#    в переменную genre_df_sorted\n",
    "# 4) вернуть Series из 10 первых значений genre_df_sorted, это будут топ-10\n",
    "#    популярных жанров (в указанный день, в заданное время)\n",
    "#print(df)\n",
    "def genre_weekday(df, day, time1, time2):\n",
    "    # последовательная фильтрация\n",
    "    #day='Monday'\n",
    "    #time1=12:02\n",
    "    # оставляем в genre_df только те строки df, у которых день равен day\n",
    "    genre_df = df[df['day'] == day] # ваш код здесь\n",
    "    # оставляем в genre_df только те строки genre_df, у которых время меньше time2\n",
    "    genre_df = genre_df [genre_df ['time'] < time2]  # ваш код здесь\n",
    "    # оставляем в genre_df только те строки genre_df, у которых время больше time1\n",
    "    genre_df = genre_df [genre_df ['time'] > time1] # ваш код здесь\n",
    "    # сгруппируем отфильтрованный датафрейм по столбцу с названиями жанров, возьмём столбец genre и посчитаем кол-во строк для каждого жанра методом count()\n",
    "    genre_df_grouped = genre_df.groupby('genre')['genre'].count() \n",
    "    #print( genre_df_grouped) # ваш код здесь\n",
    "    # отсортируем результат по убыванию (чтобы в начале Series оказались самые популярные жанры)\n",
    "    genre_df_sorted =  genre_df_grouped.sort_values(ascending=False) # ваш код здесь\n",
    "    # вернём Series с 10 самыми популярными жанрами в указанный отрезок времени заданного дня\n",
    "    return genre_df_sorted[:10]\n",
    "#genre_weekday(df, 'Monday', '17:00', '23:00')"
   ]
  },
  {
   "cell_type": "markdown",
   "metadata": {
    "deletable": false,
    "editable": false,
    "id": "la2s2_PF_Zcu",
    "tags": [
     "start_task"
    ],
    "pycharm": {
     "name": "#%% md\n"
    }
   },
   "source": [
    "**Задание 25**\n",
    "\n",
    "\n",
    "Cравните результаты функции `genre_weekday()` для Москвы и Санкт-Петербурга в понедельник утром (с 7:00 до 11:00) и в пятницу вечером (с 17:00 до 23:00):"
   ]
  },
  {
   "cell_type": "code",
   "execution_count": 37,
   "metadata": {
    "deletable": false,
    "id": "yz7itPUQ_Zcu",
    "pycharm": {
     "name": "#%%\n"
    }
   },
   "outputs": [
    {
     "data": {
      "text/plain": [
       "genre\n",
       "pop            781\n",
       "dance          549\n",
       "electronic     480\n",
       "rock           474\n",
       "hiphop         286\n",
       "ruspop         186\n",
       "world          181\n",
       "rusrap         175\n",
       "alternative    164\n",
       "unknown        161\n",
       "Name: genre, dtype: int64"
      ]
     },
     "execution_count": 37,
     "metadata": {},
     "output_type": "execute_result"
    }
   ],
   "source": [
    "# вызов функции для утра понедельника в Москве (вместо df — таблица moscow_general)\n",
    "# объекты, хранящие время, являются строками и сравниваются как строки\n",
    "# пример вызова: \n",
    "genre_weekday(moscow_general, 'Monday', '07:00', '11:00')"
   ]
  },
  {
   "cell_type": "code",
   "execution_count": 38,
   "metadata": {
    "deletable": false,
    "id": "kwUcHPdy_Zcu",
    "pycharm": {
     "name": "#%%\n"
    }
   },
   "outputs": [
    {
     "data": {
      "text/plain": [
       "genre\n",
       "pop            218\n",
       "dance          182\n",
       "rock           162\n",
       "electronic     147\n",
       "hiphop          80\n",
       "ruspop          64\n",
       "alternative     58\n",
       "rusrap          55\n",
       "jazz            44\n",
       "classical       40\n",
       "Name: genre, dtype: int64"
      ]
     },
     "execution_count": 38,
     "metadata": {},
     "output_type": "execute_result"
    }
   ],
   "source": [
    "# вызов функции для утра понедельника в Петербурге (вместо df — таблица spb_general)\n",
    "genre_weekday(spb_general, 'Monday', '07:00', '11:00')"
   ]
  },
  {
   "cell_type": "code",
   "execution_count": 39,
   "metadata": {
    "deletable": false,
    "id": "EzXVRE1o_Zcu",
    "pycharm": {
     "name": "#%%\n"
    }
   },
   "outputs": [
    {
     "data": {
      "text/plain": [
       "genre\n",
       "pop            713\n",
       "rock           517\n",
       "dance          495\n",
       "electronic     482\n",
       "hiphop         273\n",
       "world          208\n",
       "ruspop         170\n",
       "alternative    163\n",
       "classical      163\n",
       "rusrap         142\n",
       "Name: genre, dtype: int64"
      ]
     },
     "execution_count": 39,
     "metadata": {},
     "output_type": "execute_result"
    }
   ],
   "source": [
    "# вызов функции для вечера пятницы в Москве\n",
    "genre_weekday(moscow_general, 'Friday', '17:00', '23:00')"
   ]
  },
  {
   "cell_type": "code",
   "execution_count": 40,
   "metadata": {
    "deletable": false,
    "id": "JZaEKu5v_Zcu",
    "pycharm": {
     "name": "#%%\n"
    }
   },
   "outputs": [
    {
     "data": {
      "text/plain": [
       "genre\n",
       "pop            256\n",
       "electronic     216\n",
       "rock           216\n",
       "dance          210\n",
       "hiphop          97\n",
       "alternative     63\n",
       "jazz            61\n",
       "classical       60\n",
       "rusrap          59\n",
       "world           54\n",
       "Name: genre, dtype: int64"
      ]
     },
     "execution_count": 40,
     "metadata": {},
     "output_type": "execute_result"
    }
   ],
   "source": [
    "# вызов функции для вечера пятницы в Петербурге\n",
    "genre_weekday(spb_general, 'Friday', '17:00', '23:00')"
   ]
  },
  {
   "cell_type": "markdown",
   "metadata": {
    "deletable": false,
    "editable": false,
    "id": "wrCe4MNX_Zcu",
    "pycharm": {
     "name": "#%% md\n"
    }
   },
   "source": [
    "**Выводы**\n",
    "\n",
    "Если сравнить топ-10 жанров в понедельник утром, можно сделать такие выводы:\n",
    "\n",
    "1. В Москве и Петербурге слушают похожую музыку. Единственное отличие — в московский рейтинг вошёл жанр “world”, а в петербургский — джаз и классика.\n",
    "\n",
    "2. В Москве пропущенных значений оказалось так много, что значение `'unknown'` заняло десятое место среди самых популярных жанров. Значит, пропущенные значения занимают существенную долю в данных и угрожают достоверности исследования.\n",
    "\n",
    "Вечер пятницы не меняет эту картину. Некоторые жанры поднимаются немного выше, другие спускаются, но в целом топ-10 остаётся тем же самым.\n",
    "\n",
    "Таким образом, вторая гипотеза подтвердилась лишь частично:\n",
    "* Пользователи слушают похожую музыку в начале недели и в конце.\n",
    "* Разница между Москвой и Петербургом не слишком выражена. В Москве чаще слушают русскую популярную музыку, в Петербурге — джаз.\n",
    "\n",
    "Однако пропуски в данных ставят под сомнение этот результат. В Москве их так много, что рейтинг топ-10 мог бы выглядеть иначе, если бы не утерянные  данные о жанрах."
   ]
  },
  {
   "cell_type": "markdown",
   "metadata": {
    "deletable": false,
    "editable": false,
    "id": "JolODAqr_Zcu",
    "pycharm": {
     "name": "#%% md\n"
    }
   },
   "source": [
    "### Жанровые предпочтения в Москве и Петербурге\n",
    "\n",
    "Гипотеза: Петербург — столица рэпа, музыку этого жанра там слушают чаще, чем в Москве.  А Москва — город контрастов, в котором, тем не менее, преобладает поп-музыка."
   ]
  },
  {
   "cell_type": "markdown",
   "metadata": {
    "deletable": false,
    "editable": false,
    "id": "DlegSvaT_Zcu",
    "tags": [
     "start_task"
    ],
    "pycharm": {
     "name": "#%% md\n"
    }
   },
   "source": [
    "**Задание 26**\n",
    "\n",
    "Сгруппируйте таблицу `moscow_general` по жанру и посчитайте прослушивания треков каждого жанра методом `count()`. Затем отсортируйте результат в порядке убывания и сохраните его в таблице `moscow_genres`."
   ]
  },
  {
   "cell_type": "code",
   "execution_count": 41,
   "metadata": {
    "deletable": false,
    "id": "r19lIPke_Zcu",
    "pycharm": {
     "name": "#%%\n"
    }
   },
   "outputs": [],
   "source": [
    "# одной строкой: группировка таблицы moscow_general по столбцу 'genre', \n",
    "moscow_genres=moscow_general.groupby('genre')['genre'].count().sort_values(ascending=False)\n",
    "#print(moscow_genres)\n",
    "#.sort_values(ascending=False)\n",
    "# подсчёт числа значений 'genre' в этой группировке методом count(), \n",
    "# сортировка получившегося Series в порядке убывания и сохранение в moscow_genres"
   ]
  },
  {
   "cell_type": "markdown",
   "metadata": {
    "deletable": false,
    "editable": false,
    "id": "6kMuomxTiIr8",
    "tags": [
     "start_task"
    ],
    "pycharm": {
     "name": "#%% md\n"
    }
   },
   "source": [
    "**Задание 27**\n",
    "\n",
    "Выведите на экран первые десять строк `moscow_genres`:"
   ]
  },
  {
   "cell_type": "code",
   "execution_count": 42,
   "metadata": {
    "deletable": false,
    "id": "WhCSooF8_Zcv",
    "pycharm": {
     "name": "#%%\n"
    }
   },
   "outputs": [
    {
     "data": {
      "text/plain": [
       "genre\n",
       "pop            5892\n",
       "dance          4435\n",
       "rock           3965\n",
       "electronic     3786\n",
       "hiphop         2096\n",
       "classical      1616\n",
       "world          1432\n",
       "alternative    1379\n",
       "ruspop         1372\n",
       "rusrap         1161\n",
       "Name: genre, dtype: int64"
      ]
     },
     "execution_count": 42,
     "metadata": {},
     "output_type": "execute_result"
    }
   ],
   "source": [
    "# просмотр первых 10 строк moscow_genres\n",
    "moscow_genres[:10]"
   ]
  },
  {
   "cell_type": "markdown",
   "metadata": {
    "deletable": false,
    "editable": false,
    "id": "cnPG2vnN_Zcv",
    "tags": [
     "start_task"
    ],
    "pycharm": {
     "name": "#%% md\n"
    }
   },
   "source": [
    "**Задание 28**\n",
    "\n",
    "\n",
    "Теперь повторите то же и для Петербурга.\n",
    "\n",
    "Сгруппируйте таблицу `spb_general` по жанру. Посчитайте прослушивания треков каждого жанра. Результат отсортируйте в порядке убывания и сохраните в таблице `spb_genres`:\n"
   ]
  },
  {
   "cell_type": "code",
   "execution_count": 43,
   "metadata": {
    "deletable": false,
    "id": "gluLIpE7_Zcv",
    "pycharm": {
     "name": "#%%\n"
    }
   },
   "outputs": [],
   "source": [
    "# одной строкой: группировка таблицы spb_general по столбцу 'genre', \n",
    "# подсчёт числа значений 'genre' в этой группировке методом count(), \n",
    "# сортировка получившегося Series в порядке убывания и сохранение в spb_genres\n",
    "spb_genres=spb_general.groupby('genre')['genre'].count().sort_values(ascending=False)"
   ]
  },
  {
   "cell_type": "markdown",
   "metadata": {
    "deletable": false,
    "editable": false,
    "id": "5Doha_ODgyQ8",
    "tags": [
     "start_task"
    ],
    "pycharm": {
     "name": "#%% md\n"
    }
   },
   "source": [
    "**Задание 29**\n",
    "\n",
    "Выведите на экран первые десять строк `spb_genres`:"
   ]
  },
  {
   "cell_type": "code",
   "execution_count": 44,
   "metadata": {
    "deletable": false,
    "id": "uaGJHjVU_Zcv",
    "pycharm": {
     "name": "#%%\n"
    }
   },
   "outputs": [
    {
     "data": {
      "text/html": [
       "<div>\n",
       "<style scoped>\n",
       "    .dataframe tbody tr th:only-of-type {\n",
       "        vertical-align: middle;\n",
       "    }\n",
       "\n",
       "    .dataframe tbody tr th {\n",
       "        vertical-align: top;\n",
       "    }\n",
       "\n",
       "    .dataframe thead th {\n",
       "        text-align: right;\n",
       "    }\n",
       "</style>\n",
       "<table border=\"1\" class=\"dataframe\">\n",
       "  <thead>\n",
       "    <tr style=\"text-align: right;\">\n",
       "      <th></th>\n",
       "      <th>user_id</th>\n",
       "      <th>track</th>\n",
       "      <th>artist</th>\n",
       "      <th>genre</th>\n",
       "      <th>city</th>\n",
       "      <th>time</th>\n",
       "      <th>day</th>\n",
       "    </tr>\n",
       "  </thead>\n",
       "  <tbody>\n",
       "    <tr>\n",
       "      <th>0</th>\n",
       "      <td>FFB692EC</td>\n",
       "      <td>Kamigata To Boots</td>\n",
       "      <td>The Mass Missile</td>\n",
       "      <td>rock</td>\n",
       "      <td>Saint-Petersburg</td>\n",
       "      <td>20:28:33</td>\n",
       "      <td>Wednesday</td>\n",
       "    </tr>\n",
       "    <tr>\n",
       "      <th>2</th>\n",
       "      <td>20EC38</td>\n",
       "      <td>Funiculì funiculà</td>\n",
       "      <td>Mario Lanza</td>\n",
       "      <td>pop</td>\n",
       "      <td>Saint-Petersburg</td>\n",
       "      <td>20:58:07</td>\n",
       "      <td>Wednesday</td>\n",
       "    </tr>\n",
       "    <tr>\n",
       "      <th>3</th>\n",
       "      <td>A3DD03C9</td>\n",
       "      <td>Dragons in the Sunset</td>\n",
       "      <td>Fire + Ice</td>\n",
       "      <td>folk</td>\n",
       "      <td>Saint-Petersburg</td>\n",
       "      <td>08:37:09</td>\n",
       "      <td>Monday</td>\n",
       "    </tr>\n",
       "    <tr>\n",
       "      <th>5</th>\n",
       "      <td>842029A1</td>\n",
       "      <td>Преданная</td>\n",
       "      <td>IMPERVTOR</td>\n",
       "      <td>rusrap</td>\n",
       "      <td>Saint-Petersburg</td>\n",
       "      <td>13:09:41</td>\n",
       "      <td>Friday</td>\n",
       "    </tr>\n",
       "    <tr>\n",
       "      <th>9</th>\n",
       "      <td>E772D5C0</td>\n",
       "      <td>Pessimist</td>\n",
       "      <td>unknown</td>\n",
       "      <td>dance</td>\n",
       "      <td>Saint-Petersburg</td>\n",
       "      <td>21:20:49</td>\n",
       "      <td>Wednesday</td>\n",
       "    </tr>\n",
       "    <tr>\n",
       "      <th>14</th>\n",
       "      <td>94EB25C2</td>\n",
       "      <td>Make Love Whenever You Can</td>\n",
       "      <td>Arabesque</td>\n",
       "      <td>pop</td>\n",
       "      <td>Saint-Petersburg</td>\n",
       "      <td>13:22:08</td>\n",
       "      <td>Wednesday</td>\n",
       "    </tr>\n",
       "    <tr>\n",
       "      <th>16</th>\n",
       "      <td>81D05C7D</td>\n",
       "      <td>SLAVES OF FEAR</td>\n",
       "      <td>HEALTH</td>\n",
       "      <td>alternative</td>\n",
       "      <td>Saint-Petersburg</td>\n",
       "      <td>20:54:48</td>\n",
       "      <td>Monday</td>\n",
       "    </tr>\n",
       "    <tr>\n",
       "      <th>17</th>\n",
       "      <td>39DE290E</td>\n",
       "      <td>Веснянка</td>\n",
       "      <td>Веданъ Колодъ</td>\n",
       "      <td>folk</td>\n",
       "      <td>Saint-Petersburg</td>\n",
       "      <td>14:36:47</td>\n",
       "      <td>Monday</td>\n",
       "    </tr>\n",
       "    <tr>\n",
       "      <th>18</th>\n",
       "      <td>58AE138A</td>\n",
       "      <td>Pat-a-Cake</td>\n",
       "      <td>Mother Goose Club</td>\n",
       "      <td>children</td>\n",
       "      <td>Saint-Petersburg</td>\n",
       "      <td>20:04:56</td>\n",
       "      <td>Monday</td>\n",
       "    </tr>\n",
       "    <tr>\n",
       "      <th>22</th>\n",
       "      <td>B8E29C9C</td>\n",
       "      <td>Самота</td>\n",
       "      <td>unknown</td>\n",
       "      <td>folk</td>\n",
       "      <td>Saint-Petersburg</td>\n",
       "      <td>20:20:49</td>\n",
       "      <td>Wednesday</td>\n",
       "    </tr>\n",
       "  </tbody>\n",
       "</table>\n",
       "</div>"
      ],
      "text/plain": [
       "     user_id                       track             artist        genre  \\\n",
       "0   FFB692EC           Kamigata To Boots   The Mass Missile         rock   \n",
       "2     20EC38           Funiculì funiculà        Mario Lanza          pop   \n",
       "3   A3DD03C9       Dragons in the Sunset         Fire + Ice         folk   \n",
       "5   842029A1                   Преданная          IMPERVTOR       rusrap   \n",
       "9   E772D5C0                   Pessimist            unknown        dance   \n",
       "14  94EB25C2  Make Love Whenever You Can          Arabesque          pop   \n",
       "16  81D05C7D              SLAVES OF FEAR             HEALTH  alternative   \n",
       "17  39DE290E                    Веснянка      Веданъ Колодъ         folk   \n",
       "18  58AE138A                  Pat-a-Cake  Mother Goose Club     children   \n",
       "22  B8E29C9C                      Самота            unknown         folk   \n",
       "\n",
       "                city      time        day  \n",
       "0   Saint-Petersburg  20:28:33  Wednesday  \n",
       "2   Saint-Petersburg  20:58:07  Wednesday  \n",
       "3   Saint-Petersburg  08:37:09     Monday  \n",
       "5   Saint-Petersburg  13:09:41     Friday  \n",
       "9   Saint-Petersburg  21:20:49  Wednesday  \n",
       "14  Saint-Petersburg  13:22:08  Wednesday  \n",
       "16  Saint-Petersburg  20:54:48     Monday  \n",
       "17  Saint-Petersburg  14:36:47     Monday  \n",
       "18  Saint-Petersburg  20:04:56     Monday  \n",
       "22  Saint-Petersburg  20:20:49  Wednesday  "
      ]
     },
     "execution_count": 44,
     "metadata": {},
     "output_type": "execute_result"
    }
   ],
   "source": [
    "# просмотр первых 10 строк spb_genres\n",
    "spb_general[:10]"
   ]
  },
  {
   "cell_type": "markdown",
   "metadata": {
    "deletable": false,
    "editable": false,
    "id": "RY51YJYu_Zcv",
    "pycharm": {
     "name": "#%% md\n"
    }
   },
   "source": [
    "**Выводы**"
   ]
  },
  {
   "cell_type": "markdown",
   "metadata": {
    "deletable": false,
    "editable": false,
    "id": "nVhnJEm__Zcv",
    "pycharm": {
     "name": "#%% md\n"
    }
   },
   "source": [
    "Гипотеза частично подтвердилась:\n",
    "* Поп-музыка — самый популярный жанр в Москве, как и предполагала гипотеза. Более того, в топ-10 жанров встречается близкий жанр — русская популярная музыка.\n",
    "* Вопреки ожиданиям, рэп одинаково популярен в Москве и Петербурге. \n"
   ]
  },
  {
   "cell_type": "markdown",
   "metadata": {
    "deletable": false,
    "editable": false,
    "id": "ykKQ0N65_Zcv",
    "pycharm": {
     "name": "#%% md\n"
    }
   },
   "source": [
    "## Итоги исследования"
   ]
  },
  {
   "cell_type": "markdown",
   "metadata": {
    "deletable": false,
    "editable": false,
    "id": "tjUwbHb3_Zcv",
    "pycharm": {
     "name": "#%% md\n"
    }
   },
   "source": [
    "Вы проверили три гипотезы и установили:\n",
    "\n",
    "1. День недели по-разному влияет на активность пользователей в Москве и Петербурге. \n",
    "\n",
    "Первая гипотеза полностью подтвердилась.\n",
    "\n",
    "2. Музыкальные предпочтения не сильно меняются в течение недели — будь то Москва или Петербург. Небольшие различия заметны в начале недели, по понедельникам:\n",
    "* в Москве слушают музыку жанра “world”,\n",
    "* в Петербурге — джаз и классику.\n",
    "\n",
    "Таким образом, вторая гипотеза подтвердилась лишь отчасти. Этот результат мог оказаться иным, если бы не пропуски в данных.\n",
    "\n",
    "3. Во вкусах пользователей Москвы и Петербурга больше общего чем различий. Вопреки ожиданиям, предпочтения жанров в Петербурге напоминают московские.\n",
    "\n",
    "Третья гипотеза не подтвердилась. Если различия в предпочтениях и существуют, на основной массе пользователей они незаметны.\n",
    "\n",
    "**На практике исследования содержат проверки статистических гипотез.**\n",
    "Из данных одного сервиса не всегда можно сделать вывод о всех жителях города.\n",
    "Проверки статистических гипотез покажут, насколько они достоверны, исходя из имеющихся данных. \n",
    "С методами проверок гипотез вы ещё познакомитесь в следующих темах."
   ]
  }
 ],
 "metadata": {
  "ExecuteTimeLog": [
   {
    "duration": 374,
    "start_time": "2022-09-23T15:27:39.211Z"
   },
   {
    "duration": 63,
    "start_time": "2022-09-23T15:33:43.710Z"
   },
   {
    "duration": 3,
    "start_time": "2022-09-23T15:33:51.964Z"
   },
   {
    "duration": 246,
    "start_time": "2022-09-23T15:33:51.969Z"
   },
   {
    "duration": 8,
    "start_time": "2022-09-23T15:33:52.217Z"
   },
   {
    "duration": 30,
    "start_time": "2022-09-23T15:33:52.227Z"
   },
   {
    "duration": 3,
    "start_time": "2022-09-23T15:33:52.259Z"
   },
   {
    "duration": 8,
    "start_time": "2022-09-23T15:33:52.264Z"
   },
   {
    "duration": 5,
    "start_time": "2022-09-23T15:33:52.277Z"
   },
   {
    "duration": 4,
    "start_time": "2022-09-23T15:33:52.284Z"
   },
   {
    "duration": 5,
    "start_time": "2022-09-23T15:33:52.290Z"
   },
   {
    "duration": 5,
    "start_time": "2022-09-23T15:33:52.297Z"
   },
   {
    "duration": 8,
    "start_time": "2022-09-23T15:33:52.305Z"
   },
   {
    "duration": 19,
    "start_time": "2022-09-23T15:33:52.315Z"
   },
   {
    "duration": 17,
    "start_time": "2022-09-23T15:33:52.336Z"
   },
   {
    "duration": 21,
    "start_time": "2022-09-23T15:33:52.355Z"
   },
   {
    "duration": 15,
    "start_time": "2022-09-23T15:33:52.378Z"
   },
   {
    "duration": 4,
    "start_time": "2022-09-23T15:33:52.396Z"
   },
   {
    "duration": 7,
    "start_time": "2022-09-23T15:33:52.401Z"
   },
   {
    "duration": 5,
    "start_time": "2022-09-23T15:33:52.410Z"
   },
   {
    "duration": 23,
    "start_time": "2022-09-23T15:33:52.416Z"
   },
   {
    "duration": 7,
    "start_time": "2022-09-23T15:33:52.441Z"
   },
   {
    "duration": 14,
    "start_time": "2022-09-23T15:33:52.450Z"
   },
   {
    "duration": 6,
    "start_time": "2022-09-23T15:33:52.466Z"
   },
   {
    "duration": 6,
    "start_time": "2022-09-23T15:33:52.474Z"
   },
   {
    "duration": 5,
    "start_time": "2022-09-23T15:33:52.482Z"
   },
   {
    "duration": 7,
    "start_time": "2022-09-23T15:33:52.489Z"
   },
   {
    "duration": 5,
    "start_time": "2022-09-23T15:33:52.497Z"
   },
   {
    "duration": 5,
    "start_time": "2022-09-23T15:33:52.503Z"
   },
   {
    "duration": 5,
    "start_time": "2022-09-23T15:33:52.509Z"
   },
   {
    "duration": 4,
    "start_time": "2022-09-23T15:33:52.518Z"
   },
   {
    "duration": 51,
    "start_time": "2022-09-23T15:33:52.523Z"
   },
   {
    "duration": 0,
    "start_time": "2022-09-23T15:33:52.576Z"
   },
   {
    "duration": 0,
    "start_time": "2022-09-23T15:33:52.577Z"
   },
   {
    "duration": 0,
    "start_time": "2022-09-23T15:33:52.579Z"
   },
   {
    "duration": 0,
    "start_time": "2022-09-23T15:33:52.580Z"
   },
   {
    "duration": 0,
    "start_time": "2022-09-23T15:33:52.581Z"
   },
   {
    "duration": 1,
    "start_time": "2022-09-23T15:33:52.582Z"
   },
   {
    "duration": 0,
    "start_time": "2022-09-23T15:33:52.584Z"
   },
   {
    "duration": 0,
    "start_time": "2022-09-23T15:33:52.585Z"
   },
   {
    "duration": 355,
    "start_time": "2022-09-26T09:27:47.589Z"
   },
   {
    "duration": 221,
    "start_time": "2022-09-26T09:27:47.946Z"
   },
   {
    "duration": 8,
    "start_time": "2022-09-26T09:27:48.168Z"
   },
   {
    "duration": 35,
    "start_time": "2022-09-26T09:27:48.178Z"
   },
   {
    "duration": 2,
    "start_time": "2022-09-26T09:27:48.215Z"
   },
   {
    "duration": 65,
    "start_time": "2022-09-26T09:27:48.218Z"
   },
   {
    "duration": 0,
    "start_time": "2022-09-26T09:27:48.285Z"
   },
   {
    "duration": 0,
    "start_time": "2022-09-26T09:27:48.286Z"
   },
   {
    "duration": 0,
    "start_time": "2022-09-26T09:27:48.287Z"
   },
   {
    "duration": 0,
    "start_time": "2022-09-26T09:27:48.288Z"
   },
   {
    "duration": 0,
    "start_time": "2022-09-26T09:27:48.289Z"
   },
   {
    "duration": 0,
    "start_time": "2022-09-26T09:27:48.290Z"
   },
   {
    "duration": 0,
    "start_time": "2022-09-26T09:27:48.291Z"
   },
   {
    "duration": 0,
    "start_time": "2022-09-26T09:27:48.292Z"
   },
   {
    "duration": 0,
    "start_time": "2022-09-26T09:27:48.293Z"
   },
   {
    "duration": 0,
    "start_time": "2022-09-26T09:27:48.294Z"
   },
   {
    "duration": 0,
    "start_time": "2022-09-26T09:27:48.295Z"
   },
   {
    "duration": 0,
    "start_time": "2022-09-26T09:27:48.296Z"
   },
   {
    "duration": 0,
    "start_time": "2022-09-26T09:27:48.296Z"
   },
   {
    "duration": 0,
    "start_time": "2022-09-26T09:27:48.297Z"
   },
   {
    "duration": 0,
    "start_time": "2022-09-26T09:27:48.298Z"
   },
   {
    "duration": 0,
    "start_time": "2022-09-26T09:27:48.299Z"
   },
   {
    "duration": 0,
    "start_time": "2022-09-26T09:27:48.300Z"
   },
   {
    "duration": 0,
    "start_time": "2022-09-26T09:27:48.301Z"
   },
   {
    "duration": 0,
    "start_time": "2022-09-26T09:27:48.302Z"
   },
   {
    "duration": 0,
    "start_time": "2022-09-26T09:27:48.334Z"
   },
   {
    "duration": 0,
    "start_time": "2022-09-26T09:27:48.336Z"
   },
   {
    "duration": 0,
    "start_time": "2022-09-26T09:27:48.336Z"
   },
   {
    "duration": 0,
    "start_time": "2022-09-26T09:27:48.337Z"
   },
   {
    "duration": 0,
    "start_time": "2022-09-26T09:27:48.338Z"
   },
   {
    "duration": 0,
    "start_time": "2022-09-26T09:27:48.339Z"
   },
   {
    "duration": 0,
    "start_time": "2022-09-26T09:27:48.340Z"
   },
   {
    "duration": 0,
    "start_time": "2022-09-26T09:27:48.341Z"
   },
   {
    "duration": 0,
    "start_time": "2022-09-26T09:27:48.342Z"
   },
   {
    "duration": 0,
    "start_time": "2022-09-26T09:27:48.343Z"
   },
   {
    "duration": 0,
    "start_time": "2022-09-26T09:27:48.344Z"
   },
   {
    "duration": 0,
    "start_time": "2022-09-26T09:27:48.345Z"
   },
   {
    "duration": 0,
    "start_time": "2022-09-26T09:27:48.346Z"
   },
   {
    "duration": 9,
    "start_time": "2022-09-26T09:35:22.381Z"
   },
   {
    "duration": 3,
    "start_time": "2022-09-26T09:35:29.523Z"
   },
   {
    "duration": 182,
    "start_time": "2022-09-26T09:35:29.527Z"
   },
   {
    "duration": 7,
    "start_time": "2022-09-26T09:35:29.711Z"
   },
   {
    "duration": 44,
    "start_time": "2022-09-26T09:35:29.734Z"
   },
   {
    "duration": 3,
    "start_time": "2022-09-26T09:35:29.779Z"
   },
   {
    "duration": 13,
    "start_time": "2022-09-26T09:35:29.783Z"
   },
   {
    "duration": 17,
    "start_time": "2022-09-26T09:35:29.797Z"
   },
   {
    "duration": 4,
    "start_time": "2022-09-26T09:35:29.815Z"
   },
   {
    "duration": 2,
    "start_time": "2022-09-26T09:35:29.834Z"
   },
   {
    "duration": 10,
    "start_time": "2022-09-26T09:35:29.838Z"
   },
   {
    "duration": 5,
    "start_time": "2022-09-26T09:35:29.849Z"
   },
   {
    "duration": 9,
    "start_time": "2022-09-26T09:35:29.856Z"
   },
   {
    "duration": 4,
    "start_time": "2022-09-26T09:35:29.867Z"
   },
   {
    "duration": 5,
    "start_time": "2022-09-26T09:35:29.872Z"
   },
   {
    "duration": 9,
    "start_time": "2022-09-26T09:35:29.878Z"
   },
   {
    "duration": 5,
    "start_time": "2022-09-26T09:35:29.888Z"
   },
   {
    "duration": 19,
    "start_time": "2022-09-26T09:35:29.894Z"
   },
   {
    "duration": 21,
    "start_time": "2022-09-26T09:35:29.914Z"
   },
   {
    "duration": 13,
    "start_time": "2022-09-26T09:35:29.936Z"
   },
   {
    "duration": 7,
    "start_time": "2022-09-26T09:35:29.952Z"
   },
   {
    "duration": 10,
    "start_time": "2022-09-26T09:35:29.961Z"
   },
   {
    "duration": 7,
    "start_time": "2022-09-26T09:35:29.972Z"
   },
   {
    "duration": 5,
    "start_time": "2022-09-26T09:35:29.980Z"
   },
   {
    "duration": 6,
    "start_time": "2022-09-26T09:35:29.986Z"
   },
   {
    "duration": 24,
    "start_time": "2022-09-26T09:35:29.993Z"
   },
   {
    "duration": 33,
    "start_time": "2022-09-26T09:35:30.018Z"
   },
   {
    "duration": 15,
    "start_time": "2022-09-26T09:35:30.053Z"
   },
   {
    "duration": 7,
    "start_time": "2022-09-26T09:35:30.069Z"
   },
   {
    "duration": 11,
    "start_time": "2022-09-26T09:35:30.078Z"
   },
   {
    "duration": 77,
    "start_time": "2022-09-26T09:35:30.091Z"
   },
   {
    "duration": 0,
    "start_time": "2022-09-26T09:35:30.170Z"
   },
   {
    "duration": 0,
    "start_time": "2022-09-26T09:35:30.171Z"
   },
   {
    "duration": 0,
    "start_time": "2022-09-26T09:35:30.172Z"
   },
   {
    "duration": 0,
    "start_time": "2022-09-26T09:35:30.174Z"
   },
   {
    "duration": 0,
    "start_time": "2022-09-26T09:35:30.175Z"
   },
   {
    "duration": 0,
    "start_time": "2022-09-26T09:35:30.176Z"
   },
   {
    "duration": 0,
    "start_time": "2022-09-26T09:35:30.177Z"
   },
   {
    "duration": 0,
    "start_time": "2022-09-26T09:35:30.178Z"
   },
   {
    "duration": 3,
    "start_time": "2022-09-26T09:37:35.233Z"
   },
   {
    "duration": 169,
    "start_time": "2022-09-26T09:37:35.237Z"
   },
   {
    "duration": 6,
    "start_time": "2022-09-26T09:37:35.408Z"
   },
   {
    "duration": 46,
    "start_time": "2022-09-26T09:37:35.416Z"
   },
   {
    "duration": 7,
    "start_time": "2022-09-26T09:37:35.464Z"
   },
   {
    "duration": 13,
    "start_time": "2022-09-26T09:37:35.472Z"
   },
   {
    "duration": 14,
    "start_time": "2022-09-26T09:37:35.487Z"
   },
   {
    "duration": 6,
    "start_time": "2022-09-26T09:37:35.502Z"
   },
   {
    "duration": 30,
    "start_time": "2022-09-26T09:37:35.509Z"
   },
   {
    "duration": 10,
    "start_time": "2022-09-26T09:37:35.541Z"
   },
   {
    "duration": 12,
    "start_time": "2022-09-26T09:37:35.552Z"
   },
   {
    "duration": 13,
    "start_time": "2022-09-26T09:37:35.565Z"
   },
   {
    "duration": 12,
    "start_time": "2022-09-26T09:37:35.579Z"
   },
   {
    "duration": 10,
    "start_time": "2022-09-26T09:37:35.594Z"
   },
   {
    "duration": 13,
    "start_time": "2022-09-26T09:37:35.606Z"
   },
   {
    "duration": 7,
    "start_time": "2022-09-26T09:37:35.621Z"
   },
   {
    "duration": 26,
    "start_time": "2022-09-26T09:37:35.629Z"
   },
   {
    "duration": 28,
    "start_time": "2022-09-26T09:37:35.657Z"
   },
   {
    "duration": 15,
    "start_time": "2022-09-26T09:37:35.687Z"
   },
   {
    "duration": 8,
    "start_time": "2022-09-26T09:37:35.704Z"
   },
   {
    "duration": 11,
    "start_time": "2022-09-26T09:37:35.714Z"
   },
   {
    "duration": 10,
    "start_time": "2022-09-26T09:37:35.727Z"
   },
   {
    "duration": 8,
    "start_time": "2022-09-26T09:37:35.739Z"
   },
   {
    "duration": 8,
    "start_time": "2022-09-26T09:37:35.748Z"
   },
   {
    "duration": 8,
    "start_time": "2022-09-26T09:37:35.757Z"
   },
   {
    "duration": 6,
    "start_time": "2022-09-26T09:37:35.766Z"
   },
   {
    "duration": 8,
    "start_time": "2022-09-26T09:37:35.774Z"
   },
   {
    "duration": 5,
    "start_time": "2022-09-26T09:37:35.784Z"
   },
   {
    "duration": 6,
    "start_time": "2022-09-26T09:37:35.791Z"
   },
   {
    "duration": 123,
    "start_time": "2022-09-26T09:37:35.798Z"
   },
   {
    "duration": 0,
    "start_time": "2022-09-26T09:37:35.922Z"
   },
   {
    "duration": 0,
    "start_time": "2022-09-26T09:37:35.923Z"
   },
   {
    "duration": 0,
    "start_time": "2022-09-26T09:37:35.924Z"
   },
   {
    "duration": 0,
    "start_time": "2022-09-26T09:37:35.925Z"
   },
   {
    "duration": 0,
    "start_time": "2022-09-26T09:37:35.926Z"
   },
   {
    "duration": 0,
    "start_time": "2022-09-26T09:37:35.927Z"
   },
   {
    "duration": 0,
    "start_time": "2022-09-26T09:37:35.928Z"
   },
   {
    "duration": 0,
    "start_time": "2022-09-26T09:37:35.929Z"
   },
   {
    "duration": 29,
    "start_time": "2022-09-26T09:42:21.493Z"
   },
   {
    "duration": 61,
    "start_time": "2022-09-26T09:42:51.153Z"
   },
   {
    "duration": 86,
    "start_time": "2022-09-26T09:43:50.562Z"
   },
   {
    "duration": 57,
    "start_time": "2022-09-26T09:44:31.537Z"
   },
   {
    "duration": 2,
    "start_time": "2022-09-26T09:44:47.057Z"
   },
   {
    "duration": 162,
    "start_time": "2022-09-26T09:44:47.072Z"
   },
   {
    "duration": 5,
    "start_time": "2022-09-26T09:44:47.236Z"
   },
   {
    "duration": 31,
    "start_time": "2022-09-26T09:44:47.243Z"
   },
   {
    "duration": 2,
    "start_time": "2022-09-26T09:44:47.276Z"
   },
   {
    "duration": 9,
    "start_time": "2022-09-26T09:44:47.280Z"
   },
   {
    "duration": 13,
    "start_time": "2022-09-26T09:44:47.290Z"
   },
   {
    "duration": 29,
    "start_time": "2022-09-26T09:44:47.305Z"
   },
   {
    "duration": 33,
    "start_time": "2022-09-26T09:44:47.335Z"
   },
   {
    "duration": 7,
    "start_time": "2022-09-26T09:44:47.369Z"
   },
   {
    "duration": 0,
    "start_time": "2022-09-26T09:44:47.379Z"
   },
   {
    "duration": 0,
    "start_time": "2022-09-26T09:44:47.380Z"
   },
   {
    "duration": 0,
    "start_time": "2022-09-26T09:44:47.381Z"
   },
   {
    "duration": 0,
    "start_time": "2022-09-26T09:44:47.382Z"
   },
   {
    "duration": 0,
    "start_time": "2022-09-26T09:44:47.383Z"
   },
   {
    "duration": 0,
    "start_time": "2022-09-26T09:44:47.384Z"
   },
   {
    "duration": 0,
    "start_time": "2022-09-26T09:44:47.385Z"
   },
   {
    "duration": 0,
    "start_time": "2022-09-26T09:44:47.386Z"
   },
   {
    "duration": 0,
    "start_time": "2022-09-26T09:44:47.387Z"
   },
   {
    "duration": 0,
    "start_time": "2022-09-26T09:44:47.388Z"
   },
   {
    "duration": 0,
    "start_time": "2022-09-26T09:44:47.388Z"
   },
   {
    "duration": 0,
    "start_time": "2022-09-26T09:44:47.389Z"
   },
   {
    "duration": 0,
    "start_time": "2022-09-26T09:44:47.390Z"
   },
   {
    "duration": 0,
    "start_time": "2022-09-26T09:44:47.391Z"
   },
   {
    "duration": 0,
    "start_time": "2022-09-26T09:44:47.392Z"
   },
   {
    "duration": 0,
    "start_time": "2022-09-26T09:44:47.394Z"
   },
   {
    "duration": 0,
    "start_time": "2022-09-26T09:44:47.394Z"
   },
   {
    "duration": 0,
    "start_time": "2022-09-26T09:44:47.396Z"
   },
   {
    "duration": 0,
    "start_time": "2022-09-26T09:44:47.397Z"
   },
   {
    "duration": 0,
    "start_time": "2022-09-26T09:44:47.398Z"
   },
   {
    "duration": 0,
    "start_time": "2022-09-26T09:44:47.399Z"
   },
   {
    "duration": 0,
    "start_time": "2022-09-26T09:44:47.433Z"
   },
   {
    "duration": 0,
    "start_time": "2022-09-26T09:44:47.434Z"
   },
   {
    "duration": 0,
    "start_time": "2022-09-26T09:44:47.435Z"
   },
   {
    "duration": 0,
    "start_time": "2022-09-26T09:44:47.437Z"
   },
   {
    "duration": 0,
    "start_time": "2022-09-26T09:44:47.437Z"
   },
   {
    "duration": 0,
    "start_time": "2022-09-26T09:44:47.438Z"
   },
   {
    "duration": 0,
    "start_time": "2022-09-26T09:44:47.440Z"
   },
   {
    "duration": 1388,
    "start_time": "2022-09-26T09:45:51.591Z"
   },
   {
    "duration": 3,
    "start_time": "2022-09-26T09:45:57.954Z"
   },
   {
    "duration": 157,
    "start_time": "2022-09-26T09:45:57.959Z"
   },
   {
    "duration": 20,
    "start_time": "2022-09-26T09:45:58.118Z"
   },
   {
    "duration": 39,
    "start_time": "2022-09-26T09:45:58.140Z"
   },
   {
    "duration": 3,
    "start_time": "2022-09-26T09:45:58.181Z"
   },
   {
    "duration": 20,
    "start_time": "2022-09-26T09:45:58.186Z"
   },
   {
    "duration": 15,
    "start_time": "2022-09-26T09:45:58.208Z"
   },
   {
    "duration": 9,
    "start_time": "2022-09-26T09:45:58.225Z"
   },
   {
    "duration": 31,
    "start_time": "2022-09-26T09:45:58.237Z"
   },
   {
    "duration": 863,
    "start_time": "2022-09-26T09:45:58.269Z"
   },
   {
    "duration": 0,
    "start_time": "2022-09-26T09:45:59.141Z"
   },
   {
    "duration": 0,
    "start_time": "2022-09-26T09:45:59.142Z"
   },
   {
    "duration": 0,
    "start_time": "2022-09-26T09:45:59.143Z"
   },
   {
    "duration": 0,
    "start_time": "2022-09-26T09:45:59.145Z"
   },
   {
    "duration": 0,
    "start_time": "2022-09-26T09:45:59.147Z"
   },
   {
    "duration": 0,
    "start_time": "2022-09-26T09:45:59.148Z"
   },
   {
    "duration": 0,
    "start_time": "2022-09-26T09:45:59.149Z"
   },
   {
    "duration": 0,
    "start_time": "2022-09-26T09:45:59.150Z"
   },
   {
    "duration": 0,
    "start_time": "2022-09-26T09:45:59.152Z"
   },
   {
    "duration": 0,
    "start_time": "2022-09-26T09:45:59.154Z"
   },
   {
    "duration": 0,
    "start_time": "2022-09-26T09:45:59.155Z"
   },
   {
    "duration": 0,
    "start_time": "2022-09-26T09:45:59.156Z"
   },
   {
    "duration": 0,
    "start_time": "2022-09-26T09:45:59.158Z"
   },
   {
    "duration": 1,
    "start_time": "2022-09-26T09:45:59.159Z"
   },
   {
    "duration": 0,
    "start_time": "2022-09-26T09:45:59.161Z"
   },
   {
    "duration": 0,
    "start_time": "2022-09-26T09:45:59.162Z"
   },
   {
    "duration": 0,
    "start_time": "2022-09-26T09:45:59.164Z"
   },
   {
    "duration": 0,
    "start_time": "2022-09-26T09:45:59.165Z"
   },
   {
    "duration": 0,
    "start_time": "2022-09-26T09:45:59.166Z"
   },
   {
    "duration": 0,
    "start_time": "2022-09-26T09:45:59.168Z"
   },
   {
    "duration": 0,
    "start_time": "2022-09-26T09:45:59.169Z"
   },
   {
    "duration": 0,
    "start_time": "2022-09-26T09:45:59.170Z"
   },
   {
    "duration": 0,
    "start_time": "2022-09-26T09:45:59.172Z"
   },
   {
    "duration": 0,
    "start_time": "2022-09-26T09:45:59.173Z"
   },
   {
    "duration": 0,
    "start_time": "2022-09-26T09:45:59.175Z"
   },
   {
    "duration": 0,
    "start_time": "2022-09-26T09:45:59.233Z"
   },
   {
    "duration": 0,
    "start_time": "2022-09-26T09:45:59.234Z"
   },
   {
    "duration": 0,
    "start_time": "2022-09-26T09:45:59.235Z"
   },
   {
    "duration": 2,
    "start_time": "2022-09-26T09:46:11.525Z"
   },
   {
    "duration": 174,
    "start_time": "2022-09-26T09:46:11.533Z"
   },
   {
    "duration": 9,
    "start_time": "2022-09-26T09:46:11.709Z"
   },
   {
    "duration": 46,
    "start_time": "2022-09-26T09:46:11.720Z"
   },
   {
    "duration": 5,
    "start_time": "2022-09-26T09:46:11.768Z"
   },
   {
    "duration": 9,
    "start_time": "2022-09-26T09:46:11.775Z"
   },
   {
    "duration": 18,
    "start_time": "2022-09-26T09:46:11.786Z"
   },
   {
    "duration": 5,
    "start_time": "2022-09-26T09:46:11.805Z"
   },
   {
    "duration": 44,
    "start_time": "2022-09-26T09:46:11.811Z"
   },
   {
    "duration": 1343,
    "start_time": "2022-09-26T09:46:11.857Z"
   },
   {
    "duration": 0,
    "start_time": "2022-09-26T09:46:13.202Z"
   },
   {
    "duration": 0,
    "start_time": "2022-09-26T09:46:13.203Z"
   },
   {
    "duration": 0,
    "start_time": "2022-09-26T09:46:13.204Z"
   },
   {
    "duration": 0,
    "start_time": "2022-09-26T09:46:13.205Z"
   },
   {
    "duration": 0,
    "start_time": "2022-09-26T09:46:13.206Z"
   },
   {
    "duration": 0,
    "start_time": "2022-09-26T09:46:13.206Z"
   },
   {
    "duration": 0,
    "start_time": "2022-09-26T09:46:13.207Z"
   },
   {
    "duration": 0,
    "start_time": "2022-09-26T09:46:13.208Z"
   },
   {
    "duration": 0,
    "start_time": "2022-09-26T09:46:13.209Z"
   },
   {
    "duration": 0,
    "start_time": "2022-09-26T09:46:13.211Z"
   },
   {
    "duration": 0,
    "start_time": "2022-09-26T09:46:13.212Z"
   },
   {
    "duration": 0,
    "start_time": "2022-09-26T09:46:13.213Z"
   },
   {
    "duration": 0,
    "start_time": "2022-09-26T09:46:13.214Z"
   },
   {
    "duration": 0,
    "start_time": "2022-09-26T09:46:13.215Z"
   },
   {
    "duration": 0,
    "start_time": "2022-09-26T09:46:13.216Z"
   },
   {
    "duration": 0,
    "start_time": "2022-09-26T09:46:13.217Z"
   },
   {
    "duration": 0,
    "start_time": "2022-09-26T09:46:13.218Z"
   },
   {
    "duration": 0,
    "start_time": "2022-09-26T09:46:13.218Z"
   },
   {
    "duration": 0,
    "start_time": "2022-09-26T09:46:13.220Z"
   },
   {
    "duration": 0,
    "start_time": "2022-09-26T09:46:13.221Z"
   },
   {
    "duration": 0,
    "start_time": "2022-09-26T09:46:13.222Z"
   },
   {
    "duration": 0,
    "start_time": "2022-09-26T09:46:13.223Z"
   },
   {
    "duration": 0,
    "start_time": "2022-09-26T09:46:13.224Z"
   },
   {
    "duration": 0,
    "start_time": "2022-09-26T09:46:13.225Z"
   },
   {
    "duration": 0,
    "start_time": "2022-09-26T09:46:13.226Z"
   },
   {
    "duration": 0,
    "start_time": "2022-09-26T09:46:13.227Z"
   },
   {
    "duration": 0,
    "start_time": "2022-09-26T09:46:13.228Z"
   },
   {
    "duration": 0,
    "start_time": "2022-09-26T09:46:13.229Z"
   },
   {
    "duration": 19,
    "start_time": "2022-09-26T09:46:32.119Z"
   },
   {
    "duration": 2,
    "start_time": "2022-09-26T09:46:39.453Z"
   },
   {
    "duration": 194,
    "start_time": "2022-09-26T09:46:39.460Z"
   },
   {
    "duration": 7,
    "start_time": "2022-09-26T09:46:39.656Z"
   },
   {
    "duration": 33,
    "start_time": "2022-09-26T09:46:39.665Z"
   },
   {
    "duration": 16,
    "start_time": "2022-09-26T09:46:39.700Z"
   },
   {
    "duration": 10,
    "start_time": "2022-09-26T09:46:39.719Z"
   },
   {
    "duration": 11,
    "start_time": "2022-09-26T09:46:39.734Z"
   },
   {
    "duration": 5,
    "start_time": "2022-09-26T09:46:39.746Z"
   },
   {
    "duration": 38,
    "start_time": "2022-09-26T09:46:39.753Z"
   },
   {
    "duration": 18,
    "start_time": "2022-09-26T09:46:39.793Z"
   },
   {
    "duration": 40,
    "start_time": "2022-09-26T09:46:39.812Z"
   },
   {
    "duration": 61,
    "start_time": "2022-09-26T09:46:39.853Z"
   },
   {
    "duration": 82,
    "start_time": "2022-09-26T09:46:39.915Z"
   },
   {
    "duration": 78,
    "start_time": "2022-09-26T09:46:39.999Z"
   },
   {
    "duration": 2,
    "start_time": "2022-09-26T09:46:40.080Z"
   },
   {
    "duration": 7,
    "start_time": "2022-09-26T09:46:40.083Z"
   },
   {
    "duration": 6,
    "start_time": "2022-09-26T09:46:40.091Z"
   },
   {
    "duration": 6,
    "start_time": "2022-09-26T09:46:40.098Z"
   },
   {
    "duration": 7,
    "start_time": "2022-09-26T09:46:40.105Z"
   },
   {
    "duration": 5,
    "start_time": "2022-09-26T09:46:40.114Z"
   },
   {
    "duration": 2,
    "start_time": "2022-09-26T09:46:40.133Z"
   },
   {
    "duration": 5,
    "start_time": "2022-09-26T09:46:40.137Z"
   },
   {
    "duration": 6,
    "start_time": "2022-09-26T09:46:40.143Z"
   },
   {
    "duration": 7,
    "start_time": "2022-09-26T09:46:40.151Z"
   },
   {
    "duration": 9,
    "start_time": "2022-09-26T09:46:40.160Z"
   },
   {
    "duration": 10,
    "start_time": "2022-09-26T09:46:40.171Z"
   },
   {
    "duration": 6,
    "start_time": "2022-09-26T09:46:40.183Z"
   },
   {
    "duration": 5,
    "start_time": "2022-09-26T09:46:40.191Z"
   },
   {
    "duration": 5,
    "start_time": "2022-09-26T09:46:40.198Z"
   },
   {
    "duration": 83,
    "start_time": "2022-09-26T09:46:40.205Z"
   },
   {
    "duration": 0,
    "start_time": "2022-09-26T09:46:40.290Z"
   },
   {
    "duration": 0,
    "start_time": "2022-09-26T09:46:40.292Z"
   },
   {
    "duration": 0,
    "start_time": "2022-09-26T09:46:40.293Z"
   },
   {
    "duration": 0,
    "start_time": "2022-09-26T09:46:40.295Z"
   },
   {
    "duration": 0,
    "start_time": "2022-09-26T09:46:40.296Z"
   },
   {
    "duration": 0,
    "start_time": "2022-09-26T09:46:40.297Z"
   },
   {
    "duration": 0,
    "start_time": "2022-09-26T09:46:40.299Z"
   },
   {
    "duration": 0,
    "start_time": "2022-09-26T09:46:40.300Z"
   },
   {
    "duration": 8,
    "start_time": "2022-09-26T09:52:24.085Z"
   },
   {
    "duration": 49,
    "start_time": "2022-09-26T09:53:42.775Z"
   },
   {
    "duration": 53,
    "start_time": "2022-09-26T09:54:30.392Z"
   },
   {
    "duration": 55,
    "start_time": "2022-09-26T09:59:45.839Z"
   },
   {
    "duration": 42,
    "start_time": "2022-09-26T10:00:05.535Z"
   },
   {
    "duration": 84,
    "start_time": "2022-09-26T10:00:34.544Z"
   },
   {
    "duration": 58,
    "start_time": "2022-09-26T10:01:45.555Z"
   },
   {
    "duration": 4,
    "start_time": "2022-09-26T10:02:53.701Z"
   },
   {
    "duration": 171,
    "start_time": "2022-09-26T10:02:53.707Z"
   },
   {
    "duration": 12,
    "start_time": "2022-09-26T10:02:53.880Z"
   },
   {
    "duration": 65,
    "start_time": "2022-09-26T10:02:53.894Z"
   },
   {
    "duration": 3,
    "start_time": "2022-09-26T10:02:53.962Z"
   },
   {
    "duration": 11,
    "start_time": "2022-09-26T10:02:53.966Z"
   },
   {
    "duration": 11,
    "start_time": "2022-09-26T10:02:53.979Z"
   },
   {
    "duration": 4,
    "start_time": "2022-09-26T10:02:53.992Z"
   },
   {
    "duration": 69,
    "start_time": "2022-09-26T10:02:53.998Z"
   },
   {
    "duration": 18,
    "start_time": "2022-09-26T10:02:54.068Z"
   },
   {
    "duration": 24,
    "start_time": "2022-09-26T10:02:54.089Z"
   },
   {
    "duration": 88,
    "start_time": "2022-09-26T10:02:54.115Z"
   },
   {
    "duration": 90,
    "start_time": "2022-09-26T10:02:54.205Z"
   },
   {
    "duration": 64,
    "start_time": "2022-09-26T10:02:54.297Z"
   },
   {
    "duration": 51,
    "start_time": "2022-09-26T10:02:54.363Z"
   },
   {
    "duration": 71,
    "start_time": "2022-09-26T10:02:54.416Z"
   },
   {
    "duration": 2,
    "start_time": "2022-09-26T10:02:54.489Z"
   },
   {
    "duration": 6,
    "start_time": "2022-09-26T10:02:54.493Z"
   },
   {
    "duration": 6,
    "start_time": "2022-09-26T10:02:54.500Z"
   },
   {
    "duration": 7,
    "start_time": "2022-09-26T10:02:54.507Z"
   },
   {
    "duration": 2,
    "start_time": "2022-09-26T10:02:54.534Z"
   },
   {
    "duration": 7,
    "start_time": "2022-09-26T10:02:54.538Z"
   },
   {
    "duration": 7,
    "start_time": "2022-09-26T10:02:54.547Z"
   },
   {
    "duration": 8,
    "start_time": "2022-09-26T10:02:54.556Z"
   },
   {
    "duration": 11,
    "start_time": "2022-09-26T10:02:54.566Z"
   },
   {
    "duration": 5,
    "start_time": "2022-09-26T10:02:54.578Z"
   },
   {
    "duration": 7,
    "start_time": "2022-09-26T10:02:54.585Z"
   },
   {
    "duration": 6,
    "start_time": "2022-09-26T10:02:54.593Z"
   },
   {
    "duration": 6,
    "start_time": "2022-09-26T10:02:54.602Z"
   },
   {
    "duration": 340,
    "start_time": "2022-09-26T10:02:54.609Z"
   },
   {
    "duration": 0,
    "start_time": "2022-09-26T10:02:54.951Z"
   },
   {
    "duration": 0,
    "start_time": "2022-09-26T10:02:54.952Z"
   },
   {
    "duration": 0,
    "start_time": "2022-09-26T10:02:54.953Z"
   },
   {
    "duration": 0,
    "start_time": "2022-09-26T10:02:54.955Z"
   },
   {
    "duration": 0,
    "start_time": "2022-09-26T10:02:54.956Z"
   },
   {
    "duration": 0,
    "start_time": "2022-09-26T10:02:54.957Z"
   },
   {
    "duration": 0,
    "start_time": "2022-09-26T10:02:54.958Z"
   },
   {
    "duration": 0,
    "start_time": "2022-09-26T10:02:54.959Z"
   },
   {
    "duration": 49,
    "start_time": "2022-09-26T10:03:35.154Z"
   },
   {
    "duration": 51,
    "start_time": "2022-09-26T10:03:53.383Z"
   },
   {
    "duration": 49,
    "start_time": "2022-09-26T10:04:17.462Z"
   },
   {
    "duration": 3,
    "start_time": "2022-09-26T10:04:26.991Z"
   },
   {
    "duration": 171,
    "start_time": "2022-09-26T10:04:26.996Z"
   },
   {
    "duration": 6,
    "start_time": "2022-09-26T10:04:27.169Z"
   },
   {
    "duration": 53,
    "start_time": "2022-09-26T10:04:27.177Z"
   },
   {
    "duration": 14,
    "start_time": "2022-09-26T10:04:27.232Z"
   },
   {
    "duration": 25,
    "start_time": "2022-09-26T10:04:27.248Z"
   },
   {
    "duration": 28,
    "start_time": "2022-09-26T10:04:27.275Z"
   },
   {
    "duration": 17,
    "start_time": "2022-09-26T10:04:27.305Z"
   },
   {
    "duration": 50,
    "start_time": "2022-09-26T10:04:27.324Z"
   },
   {
    "duration": 48,
    "start_time": "2022-09-26T10:04:27.376Z"
   },
   {
    "duration": 33,
    "start_time": "2022-09-26T10:04:27.426Z"
   },
   {
    "duration": 87,
    "start_time": "2022-09-26T10:04:27.461Z"
   },
   {
    "duration": 66,
    "start_time": "2022-09-26T10:04:27.550Z"
   },
   {
    "duration": 57,
    "start_time": "2022-09-26T10:04:27.620Z"
   },
   {
    "duration": 64,
    "start_time": "2022-09-26T10:04:27.679Z"
   },
   {
    "duration": 58,
    "start_time": "2022-09-26T10:04:27.745Z"
   },
   {
    "duration": 2,
    "start_time": "2022-09-26T10:04:27.805Z"
   },
   {
    "duration": 30,
    "start_time": "2022-09-26T10:04:27.809Z"
   },
   {
    "duration": 32,
    "start_time": "2022-09-26T10:04:27.841Z"
   },
   {
    "duration": 14,
    "start_time": "2022-09-26T10:04:27.875Z"
   },
   {
    "duration": 37,
    "start_time": "2022-09-26T10:04:27.891Z"
   },
   {
    "duration": 13,
    "start_time": "2022-09-26T10:04:27.929Z"
   },
   {
    "duration": 14,
    "start_time": "2022-09-26T10:04:27.943Z"
   },
   {
    "duration": 37,
    "start_time": "2022-09-26T10:04:27.958Z"
   },
   {
    "duration": 29,
    "start_time": "2022-09-26T10:04:27.996Z"
   },
   {
    "duration": 24,
    "start_time": "2022-09-26T10:04:28.027Z"
   },
   {
    "duration": 18,
    "start_time": "2022-09-26T10:04:28.053Z"
   },
   {
    "duration": 10,
    "start_time": "2022-09-26T10:04:28.073Z"
   },
   {
    "duration": 34,
    "start_time": "2022-09-26T10:04:28.085Z"
   },
   {
    "duration": 174,
    "start_time": "2022-09-26T10:04:28.121Z"
   },
   {
    "duration": 0,
    "start_time": "2022-09-26T10:04:28.297Z"
   },
   {
    "duration": 0,
    "start_time": "2022-09-26T10:04:28.298Z"
   },
   {
    "duration": 0,
    "start_time": "2022-09-26T10:04:28.299Z"
   },
   {
    "duration": 0,
    "start_time": "2022-09-26T10:04:28.300Z"
   },
   {
    "duration": 0,
    "start_time": "2022-09-26T10:04:28.302Z"
   },
   {
    "duration": 0,
    "start_time": "2022-09-26T10:04:28.303Z"
   },
   {
    "duration": 0,
    "start_time": "2022-09-26T10:04:28.304Z"
   },
   {
    "duration": 0,
    "start_time": "2022-09-26T10:04:28.305Z"
   },
   {
    "duration": 49,
    "start_time": "2022-09-26T10:04:43.630Z"
   },
   {
    "duration": 49,
    "start_time": "2022-09-26T10:05:02.321Z"
   },
   {
    "duration": 12,
    "start_time": "2022-09-26T10:06:07.584Z"
   },
   {
    "duration": 9,
    "start_time": "2022-09-26T10:06:15.900Z"
   },
   {
    "duration": 3,
    "start_time": "2022-09-26T10:06:21.703Z"
   },
   {
    "duration": 168,
    "start_time": "2022-09-26T10:06:21.708Z"
   },
   {
    "duration": 7,
    "start_time": "2022-09-26T10:06:21.877Z"
   },
   {
    "duration": 31,
    "start_time": "2022-09-26T10:06:21.885Z"
   },
   {
    "duration": 16,
    "start_time": "2022-09-26T10:06:21.918Z"
   },
   {
    "duration": 17,
    "start_time": "2022-09-26T10:06:21.935Z"
   },
   {
    "duration": 12,
    "start_time": "2022-09-26T10:06:21.954Z"
   },
   {
    "duration": 8,
    "start_time": "2022-09-26T10:06:21.968Z"
   },
   {
    "duration": 33,
    "start_time": "2022-09-26T10:06:21.978Z"
   },
   {
    "duration": 25,
    "start_time": "2022-09-26T10:06:22.013Z"
   },
   {
    "duration": 26,
    "start_time": "2022-09-26T10:06:22.039Z"
   },
   {
    "duration": 85,
    "start_time": "2022-09-26T10:06:22.067Z"
   },
   {
    "duration": 94,
    "start_time": "2022-09-26T10:06:22.170Z"
   },
   {
    "duration": 51,
    "start_time": "2022-09-26T10:06:22.265Z"
   },
   {
    "duration": 59,
    "start_time": "2022-09-26T10:06:22.318Z"
   },
   {
    "duration": 11,
    "start_time": "2022-09-26T10:06:22.378Z"
   },
   {
    "duration": 4,
    "start_time": "2022-09-26T10:06:22.390Z"
   },
   {
    "duration": 7,
    "start_time": "2022-09-26T10:06:22.396Z"
   },
   {
    "duration": 6,
    "start_time": "2022-09-26T10:06:22.404Z"
   },
   {
    "duration": 22,
    "start_time": "2022-09-26T10:06:22.411Z"
   },
   {
    "duration": 2,
    "start_time": "2022-09-26T10:06:22.435Z"
   },
   {
    "duration": 7,
    "start_time": "2022-09-26T10:06:22.438Z"
   },
   {
    "duration": 6,
    "start_time": "2022-09-26T10:06:22.446Z"
   },
   {
    "duration": 5,
    "start_time": "2022-09-26T10:06:22.453Z"
   },
   {
    "duration": 7,
    "start_time": "2022-09-26T10:06:22.460Z"
   },
   {
    "duration": 8,
    "start_time": "2022-09-26T10:06:22.468Z"
   },
   {
    "duration": 8,
    "start_time": "2022-09-26T10:06:22.478Z"
   },
   {
    "duration": 8,
    "start_time": "2022-09-26T10:06:22.488Z"
   },
   {
    "duration": 8,
    "start_time": "2022-09-26T10:06:22.497Z"
   },
   {
    "duration": 76,
    "start_time": "2022-09-26T10:06:22.506Z"
   },
   {
    "duration": 0,
    "start_time": "2022-09-26T10:06:22.584Z"
   },
   {
    "duration": 0,
    "start_time": "2022-09-26T10:06:22.585Z"
   },
   {
    "duration": 0,
    "start_time": "2022-09-26T10:06:22.586Z"
   },
   {
    "duration": 0,
    "start_time": "2022-09-26T10:06:22.587Z"
   },
   {
    "duration": 0,
    "start_time": "2022-09-26T10:06:22.588Z"
   },
   {
    "duration": 0,
    "start_time": "2022-09-26T10:06:22.590Z"
   },
   {
    "duration": 0,
    "start_time": "2022-09-26T10:06:22.590Z"
   },
   {
    "duration": 0,
    "start_time": "2022-09-26T10:06:22.622Z"
   },
   {
    "duration": 50,
    "start_time": "2022-09-26T10:07:31.835Z"
   },
   {
    "duration": 61,
    "start_time": "2022-09-26T10:15:13.274Z"
   },
   {
    "duration": 76,
    "start_time": "2022-09-26T10:15:32.223Z"
   },
   {
    "duration": 59,
    "start_time": "2022-09-26T10:19:31.203Z"
   },
   {
    "duration": 2,
    "start_time": "2022-09-26T10:19:38.578Z"
   },
   {
    "duration": 159,
    "start_time": "2022-09-26T10:19:38.582Z"
   },
   {
    "duration": 6,
    "start_time": "2022-09-26T10:19:38.743Z"
   },
   {
    "duration": 46,
    "start_time": "2022-09-26T10:19:38.751Z"
   },
   {
    "duration": 3,
    "start_time": "2022-09-26T10:19:38.799Z"
   },
   {
    "duration": 8,
    "start_time": "2022-09-26T10:19:38.803Z"
   },
   {
    "duration": 22,
    "start_time": "2022-09-26T10:19:38.812Z"
   },
   {
    "duration": 4,
    "start_time": "2022-09-26T10:19:38.835Z"
   },
   {
    "duration": 27,
    "start_time": "2022-09-26T10:19:38.840Z"
   },
   {
    "duration": 21,
    "start_time": "2022-09-26T10:19:38.868Z"
   },
   {
    "duration": 24,
    "start_time": "2022-09-26T10:19:38.891Z"
   },
   {
    "duration": 59,
    "start_time": "2022-09-26T10:19:38.933Z"
   },
   {
    "duration": 80,
    "start_time": "2022-09-26T10:19:38.994Z"
   },
   {
    "duration": 63,
    "start_time": "2022-09-26T10:19:39.075Z"
   },
   {
    "duration": 48,
    "start_time": "2022-09-26T10:19:39.140Z"
   },
   {
    "duration": 10,
    "start_time": "2022-09-26T10:19:39.189Z"
   },
   {
    "duration": 9,
    "start_time": "2022-09-26T10:19:39.201Z"
   },
   {
    "duration": 11,
    "start_time": "2022-09-26T10:19:39.211Z"
   },
   {
    "duration": 16,
    "start_time": "2022-09-26T10:19:39.224Z"
   },
   {
    "duration": 31,
    "start_time": "2022-09-26T10:19:39.241Z"
   },
   {
    "duration": 13,
    "start_time": "2022-09-26T10:19:39.274Z"
   },
   {
    "duration": 9,
    "start_time": "2022-09-26T10:19:39.288Z"
   },
   {
    "duration": 5,
    "start_time": "2022-09-26T10:19:39.298Z"
   },
   {
    "duration": 5,
    "start_time": "2022-09-26T10:19:39.305Z"
   },
   {
    "duration": 9,
    "start_time": "2022-09-26T10:19:39.311Z"
   },
   {
    "duration": 7,
    "start_time": "2022-09-26T10:19:39.321Z"
   },
   {
    "duration": 6,
    "start_time": "2022-09-26T10:19:39.330Z"
   },
   {
    "duration": 5,
    "start_time": "2022-09-26T10:19:39.337Z"
   },
   {
    "duration": 6,
    "start_time": "2022-09-26T10:19:39.345Z"
   },
   {
    "duration": 46,
    "start_time": "2022-09-26T10:19:39.352Z"
   },
   {
    "duration": 0,
    "start_time": "2022-09-26T10:19:39.400Z"
   },
   {
    "duration": 0,
    "start_time": "2022-09-26T10:19:39.401Z"
   },
   {
    "duration": 0,
    "start_time": "2022-09-26T10:19:39.402Z"
   },
   {
    "duration": 0,
    "start_time": "2022-09-26T10:19:39.403Z"
   },
   {
    "duration": 0,
    "start_time": "2022-09-26T10:19:39.404Z"
   },
   {
    "duration": 0,
    "start_time": "2022-09-26T10:19:39.405Z"
   },
   {
    "duration": 0,
    "start_time": "2022-09-26T10:19:39.405Z"
   },
   {
    "duration": 0,
    "start_time": "2022-09-26T10:19:39.407Z"
   },
   {
    "duration": 52,
    "start_time": "2022-09-26T10:20:57.850Z"
   },
   {
    "duration": 39,
    "start_time": "2022-09-26T10:22:33.480Z"
   },
   {
    "duration": 3,
    "start_time": "2022-09-26T10:26:08.527Z"
   },
   {
    "duration": 2063,
    "start_time": "2022-09-26T10:27:18.640Z"
   },
   {
    "duration": 15,
    "start_time": "2022-09-26T10:29:27.387Z"
   },
   {
    "duration": 12,
    "start_time": "2022-09-26T10:29:32.481Z"
   },
   {
    "duration": 12,
    "start_time": "2022-09-26T10:31:59.509Z"
   },
   {
    "duration": 170,
    "start_time": "2022-09-26T10:46:31.898Z"
   },
   {
    "duration": 1450,
    "start_time": "2022-09-26T10:46:41.427Z"
   },
   {
    "duration": 506,
    "start_time": "2022-09-26T10:47:28.401Z"
   },
   {
    "duration": 574,
    "start_time": "2022-09-26T10:49:06.246Z"
   },
   {
    "duration": 967,
    "start_time": "2022-09-26T10:49:36.977Z"
   },
   {
    "duration": 8,
    "start_time": "2022-09-26T10:50:22.471Z"
   },
   {
    "duration": 713,
    "start_time": "2022-09-26T10:51:09.274Z"
   },
   {
    "duration": 286,
    "start_time": "2022-09-26T10:53:25.486Z"
   },
   {
    "duration": 15,
    "start_time": "2022-09-26T10:53:58.508Z"
   },
   {
    "duration": 55,
    "start_time": "2022-09-26T10:54:34.827Z"
   },
   {
    "duration": 441,
    "start_time": "2022-09-26T10:54:43.280Z"
   },
   {
    "duration": 11,
    "start_time": "2022-09-26T10:54:54.788Z"
   },
   {
    "duration": 14,
    "start_time": "2022-09-26T10:55:58.731Z"
   },
   {
    "duration": 14,
    "start_time": "2022-09-26T11:14:42.794Z"
   },
   {
    "duration": 20,
    "start_time": "2022-09-26T11:15:22.091Z"
   },
   {
    "duration": 17,
    "start_time": "2022-09-26T11:16:09.657Z"
   },
   {
    "duration": 23,
    "start_time": "2022-09-26T11:17:01.104Z"
   },
   {
    "duration": 17,
    "start_time": "2022-09-26T11:17:57.594Z"
   },
   {
    "duration": 20,
    "start_time": "2022-09-26T11:18:33.081Z"
   },
   {
    "duration": 16,
    "start_time": "2022-09-26T11:18:52.672Z"
   },
   {
    "duration": 8,
    "start_time": "2022-09-26T11:28:02.800Z"
   },
   {
    "duration": 66,
    "start_time": "2022-09-26T11:31:49.012Z"
   },
   {
    "duration": 12,
    "start_time": "2022-09-26T11:33:54.752Z"
   },
   {
    "duration": 11,
    "start_time": "2022-09-26T11:34:10.749Z"
   },
   {
    "duration": 9,
    "start_time": "2022-09-26T11:34:29.320Z"
   },
   {
    "duration": 6,
    "start_time": "2022-09-26T13:07:29.964Z"
   },
   {
    "duration": 4,
    "start_time": "2022-09-26T13:08:42.750Z"
   },
   {
    "duration": 5,
    "start_time": "2022-09-26T13:11:36.902Z"
   },
   {
    "duration": 7,
    "start_time": "2022-09-26T13:13:31.930Z"
   },
   {
    "duration": 13,
    "start_time": "2022-09-26T13:14:37.830Z"
   },
   {
    "duration": 6,
    "start_time": "2022-09-26T13:15:12.429Z"
   },
   {
    "duration": 36,
    "start_time": "2022-09-26T13:16:55.175Z"
   },
   {
    "duration": 5,
    "start_time": "2022-09-26T13:18:38.295Z"
   },
   {
    "duration": 14,
    "start_time": "2022-09-26T13:21:51.883Z"
   },
   {
    "duration": 2,
    "start_time": "2022-09-26T13:22:00.657Z"
   },
   {
    "duration": 17,
    "start_time": "2022-09-26T13:22:02.005Z"
   },
   {
    "duration": 15,
    "start_time": "2022-09-26T13:22:06.680Z"
   },
   {
    "duration": 12,
    "start_time": "2022-09-26T13:25:25.318Z"
   },
   {
    "duration": 5,
    "start_time": "2022-09-26T13:29:48.486Z"
   },
   {
    "duration": 12,
    "start_time": "2022-09-26T13:30:25.016Z"
   },
   {
    "duration": 19,
    "start_time": "2022-09-26T13:30:28.686Z"
   },
   {
    "duration": 12,
    "start_time": "2022-09-26T13:30:32.236Z"
   },
   {
    "duration": 14,
    "start_time": "2022-09-26T13:30:35.431Z"
   },
   {
    "duration": 18,
    "start_time": "2022-09-26T13:35:40.580Z"
   },
   {
    "duration": 18,
    "start_time": "2022-09-26T13:36:20.123Z"
   },
   {
    "duration": 18,
    "start_time": "2022-09-26T13:36:33.212Z"
   },
   {
    "duration": 6,
    "start_time": "2022-09-26T13:38:10.972Z"
   },
   {
    "duration": 7,
    "start_time": "2022-09-26T13:38:25.915Z"
   },
   {
    "duration": 6,
    "start_time": "2022-09-26T13:39:08.371Z"
   },
   {
    "duration": 82,
    "start_time": "2022-09-26T13:39:27.481Z"
   },
   {
    "duration": 61,
    "start_time": "2022-09-26T13:39:48.022Z"
   },
   {
    "duration": 5,
    "start_time": "2022-09-26T13:39:53.971Z"
   },
   {
    "duration": 8,
    "start_time": "2022-09-26T13:40:37.115Z"
   },
   {
    "duration": 77,
    "start_time": "2022-09-26T13:41:18.170Z"
   },
   {
    "duration": 13,
    "start_time": "2022-09-26T13:41:31.920Z"
   },
   {
    "duration": 2,
    "start_time": "2023-09-15T15:35:31.119Z"
   },
   {
    "duration": 420,
    "start_time": "2023-09-15T15:35:31.125Z"
   },
   {
    "duration": 86,
    "start_time": "2023-09-15T15:35:31.547Z"
   },
   {
    "duration": 231,
    "start_time": "2023-09-15T15:35:31.635Z"
   },
   {
    "duration": 56,
    "start_time": "2023-09-15T15:35:31.869Z"
   },
   {
    "duration": 31,
    "start_time": "2023-09-15T15:35:31.927Z"
   },
   {
    "duration": 29,
    "start_time": "2023-09-15T15:35:31.960Z"
   },
   {
    "duration": 28,
    "start_time": "2023-09-15T15:35:31.991Z"
   },
   {
    "duration": 81,
    "start_time": "2023-09-15T15:35:32.021Z"
   },
   {
    "duration": 32,
    "start_time": "2023-09-15T15:35:32.104Z"
   },
   {
    "duration": 49,
    "start_time": "2023-09-15T15:35:32.139Z"
   },
   {
    "duration": 92,
    "start_time": "2023-09-15T15:35:32.190Z"
   },
   {
    "duration": 106,
    "start_time": "2023-09-15T15:35:32.284Z"
   },
   {
    "duration": 81,
    "start_time": "2023-09-15T15:35:32.392Z"
   },
   {
    "duration": 57,
    "start_time": "2023-09-15T15:35:32.475Z"
   },
   {
    "duration": 69,
    "start_time": "2023-09-15T15:35:32.534Z"
   },
   {
    "duration": 41,
    "start_time": "2023-09-15T15:35:32.605Z"
   },
   {
    "duration": 12,
    "start_time": "2023-09-15T15:35:32.648Z"
   },
   {
    "duration": 25,
    "start_time": "2023-09-15T15:35:32.661Z"
   },
   {
    "duration": 37,
    "start_time": "2023-09-15T15:35:32.688Z"
   },
   {
    "duration": 303,
    "start_time": "2023-09-15T15:35:32.726Z"
   },
   {
    "duration": 83,
    "start_time": "2023-09-15T15:35:33.031Z"
   },
   {
    "duration": 104,
    "start_time": "2023-09-15T15:35:33.116Z"
   },
   {
    "duration": 30,
    "start_time": "2023-09-15T15:35:33.222Z"
   },
   {
    "duration": 100,
    "start_time": "2023-09-15T15:35:33.254Z"
   },
   {
    "duration": 44,
    "start_time": "2023-09-15T15:35:33.355Z"
   },
   {
    "duration": 88,
    "start_time": "2023-09-15T15:35:33.400Z"
   },
   {
    "duration": 16,
    "start_time": "2023-09-15T15:35:33.490Z"
   },
   {
    "duration": 24,
    "start_time": "2023-09-15T15:35:33.509Z"
   },
   {
    "duration": 35,
    "start_time": "2023-09-15T15:35:33.534Z"
   },
   {
    "duration": 63,
    "start_time": "2023-09-15T15:35:33.570Z"
   },
   {
    "duration": 16,
    "start_time": "2023-09-15T15:35:33.635Z"
   },
   {
    "duration": 30,
    "start_time": "2023-09-15T15:35:33.652Z"
   },
   {
    "duration": 13,
    "start_time": "2023-09-15T15:35:33.684Z"
   },
   {
    "duration": 27,
    "start_time": "2023-09-15T15:35:33.698Z"
   },
   {
    "duration": 10,
    "start_time": "2023-09-15T15:35:33.726Z"
   },
   {
    "duration": 31,
    "start_time": "2023-09-15T15:35:33.737Z"
   },
   {
    "duration": 32,
    "start_time": "2023-09-15T15:35:33.770Z"
   }
  ],
  "colab": {
   "collapsed_sections": [
    "E0vqbgi9ay0H",
    "VUC88oWjTJw2"
   ],
   "name": "automatization_template_upd4.ipynb",
   "provenance": []
  },
  "kernelspec": {
   "display_name": "Python 3 (ipykernel)",
   "language": "python",
   "name": "python3"
  },
  "language_info": {
   "codemirror_mode": {
    "name": "ipython",
    "version": 3
   },
   "file_extension": ".py",
   "mimetype": "text/x-python",
   "name": "python",
   "nbconvert_exporter": "python",
   "pygments_lexer": "ipython3",
   "version": "3.9.5"
  },
  "toc": {
   "base_numbering": 1,
   "nav_menu": {
    "height": "215px",
    "width": "403px"
   },
   "number_sections": true,
   "sideBar": true,
   "skip_h1_title": true,
   "title_cell": "Table of Contents",
   "title_sidebar": "Contents",
   "toc_cell": false,
   "toc_position": {
    "height": "calc(100% - 180px)",
    "left": "10px",
    "top": "150px",
    "width": "285.825px"
   },
   "toc_section_display": true,
   "toc_window_display": false
  }
 },
 "nbformat": 4,
 "nbformat_minor": 1
}