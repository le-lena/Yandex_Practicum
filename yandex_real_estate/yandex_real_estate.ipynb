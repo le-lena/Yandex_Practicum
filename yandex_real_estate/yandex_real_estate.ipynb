{
 "cells": [
  {
   "cell_type": "markdown",
   "metadata": {},
   "source": [
    "## Описание задачи и данных\n",
    "\n",
    "В вашем распоряжении данные сервиса Яндекс.Недвижимость — архив объявлений о продаже квартир в Санкт-Петербурге и соседних населённых пунктов за несколько лет. Нужно научиться определять рыночную стоимость объектов недвижимости. Ваша задача — установить параметры. Это позволит построить автоматизированную систему: она отследит аномалии и мошенническую деятельность. \n",
    "\n",
    "По каждой квартире на продажу доступны два вида данных. Первые вписаны пользователем, вторые — получены автоматически на основе картографических данных. Например, расстояние до центра, аэропорта, ближайшего парка и водоёма. \n",
    "\n",
    "Описание данных  \n",
    "\n",
    "airports_nearest — расстояние до ближайшего аэропорта в метрах (м)  \n",
    "balcony — число балконов  \n",
    "ceiling_height — высота потолков (м)  \n",
    "cityCenters_nearest — расстояние до центра города (м)  \n",
    "days_exposition — сколько дней было размещено объявление (от публикации до снятия)  \n",
    "first_day_exposition — дата публикации  \n",
    "floor — этаж  \n",
    "floors_total — всего этажей в доме  \n",
    "is_apartment — апартаменты (булев тип)  \n",
    "kitchen_area — площадь кухни в квадратных метрах (м²)  \n",
    "last_price — цена на момент снятия с публикации  \n",
    "living_area — жилая площадь в квадратных метрах (м²)  \n",
    "locality_name — название населённого пункта  \n",
    "open_plan — свободная планировка (булев тип)  \n",
    "parks_around3000 — число парков в радиусе 3 км  \n",
    "parks_nearest — расстояние до ближайшего парка (м)  \n",
    "ponds_around3000 — число водоёмов в радиусе 3 км  \n",
    "ponds_nearest — расстояние до ближайшего водоёма (м)  \n",
    "rooms — число комнат  \n",
    "studio — квартира-студия (булев тип)  \n",
    "total_area — общая площадь квартиры в квадратных метрах (м²)  \n",
    "total_images — число фотографий квартиры в объявлении  \n",
    "airports_nearest — расстояние до ближайшего аэропорта в метрах (м)  \n",
    "balcony — число балконов  \n",
    "ceiling_height — высота потолков (м)  \n",
    "cityCenters_nearest — расстояние до центра города (м)  \n",
    "days_exposition — сколько дней было размещено объявление (от публикации до снятия)  \n",
    "first_day_exposition — дата публикации  \n",
    "floor — этаж  \n",
    "floors_total — всего этажей в доме  \n",
    "is_apartment — апартаменты (булев тип)  \n",
    "kitchen_area — площадь кухни в квадратных метрах (м²)  \n",
    "last_price — цена на момент снятия с публикации  \n",
    "living_area — жилая площадь в квадратных метрах (м²)  \n",
    "locality_name — название населённого пункта  \n",
    "open_plan — свободная планировка (булев тип)  \n",
    "parks_around3000 — число парков в радиусе 3 км  \n",
    "parks_nearest — расстояние до ближайшего парка (м)  \n",
    "ponds_around3000 — число водоёмов в радиусе 3 км  \n",
    "ponds_nearest — расстояние до ближайшего водоёма (м)  \n",
    "rooms — число комнат  \n",
    "studio — квартира-студия (булев тип)  \n",
    "total_area — общая площадь квартиры в квадратных метрах (м²)  \n",
    "total_images — число фотографий квартиры в объявлении\n"
   ]
  },
  {
   "cell_type": "markdown",
   "metadata": {},
   "source": [
    "## Изучение данных"
   ]
  },
  {
   "cell_type": "code",
   "execution_count": 1,
   "metadata": {
    "scrolled": true
   },
   "outputs": [],
   "source": [
    "# Сброс ограничений на количество выводимых данных\n",
    "import pandas as pd\n",
    "import numpy as np\n",
    "import matplotlib.pyplot as plt\n",
    "pd.set_option('display.max_rows', None)\n",
    "pd.set_option('display.max_columns', None)\n",
    "pd.set_option('display.width', None)\n",
    "pd.set_option('display.max_colwidth', None)"
   ]
  },
  {
   "cell_type": "code",
   "execution_count": 2,
   "metadata": {},
   "outputs": [],
   "source": [
    "\n",
    "data = pd.read_csv('/datasets/real_estate_data.csv',sep ='\\t')"
   ]
  },
  {
   "cell_type": "code",
   "execution_count": 3,
   "metadata": {},
   "outputs": [
    {
     "name": "stdout",
     "output_type": "stream",
     "text": [
      "<class 'pandas.core.frame.DataFrame'>\n",
      "RangeIndex: 23699 entries, 0 to 23698\n",
      "Data columns (total 22 columns):\n",
      " #   Column                Non-Null Count  Dtype  \n",
      "---  ------                --------------  -----  \n",
      " 0   total_images          23699 non-null  int64  \n",
      " 1   last_price            23699 non-null  float64\n",
      " 2   total_area            23699 non-null  float64\n",
      " 3   first_day_exposition  23699 non-null  object \n",
      " 4   rooms                 23699 non-null  int64  \n",
      " 5   ceiling_height        14504 non-null  float64\n",
      " 6   floors_total          23613 non-null  float64\n",
      " 7   living_area           21796 non-null  float64\n",
      " 8   floor                 23699 non-null  int64  \n",
      " 9   is_apartment          2775 non-null   object \n",
      " 10  studio                23699 non-null  bool   \n",
      " 11  open_plan             23699 non-null  bool   \n",
      " 12  kitchen_area          21421 non-null  float64\n",
      " 13  balcony               12180 non-null  float64\n",
      " 14  locality_name         23650 non-null  object \n",
      " 15  airports_nearest      18157 non-null  float64\n",
      " 16  cityCenters_nearest   18180 non-null  float64\n",
      " 17  parks_around3000      18181 non-null  float64\n",
      " 18  parks_nearest         8079 non-null   float64\n",
      " 19  ponds_around3000      18181 non-null  float64\n",
      " 20  ponds_nearest         9110 non-null   float64\n",
      " 21  days_exposition       20518 non-null  float64\n",
      "dtypes: bool(2), float64(14), int64(3), object(3)\n",
      "memory usage: 3.7+ MB\n"
     ]
    }
   ],
   "source": [
    "data.info()"
   ]
  },
  {
   "cell_type": "code",
   "execution_count": 4,
   "metadata": {},
   "outputs": [
    {
     "data": {
      "text/html": [
       "<div>\n",
       "<style scoped>\n",
       "    .dataframe tbody tr th:only-of-type {\n",
       "        vertical-align: middle;\n",
       "    }\n",
       "\n",
       "    .dataframe tbody tr th {\n",
       "        vertical-align: top;\n",
       "    }\n",
       "\n",
       "    .dataframe thead th {\n",
       "        text-align: right;\n",
       "    }\n",
       "</style>\n",
       "<table border=\"1\" class=\"dataframe\">\n",
       "  <thead>\n",
       "    <tr style=\"text-align: right;\">\n",
       "      <th></th>\n",
       "      <th>total_images</th>\n",
       "      <th>last_price</th>\n",
       "      <th>total_area</th>\n",
       "      <th>first_day_exposition</th>\n",
       "      <th>rooms</th>\n",
       "      <th>ceiling_height</th>\n",
       "      <th>floors_total</th>\n",
       "      <th>living_area</th>\n",
       "      <th>floor</th>\n",
       "      <th>is_apartment</th>\n",
       "      <th>studio</th>\n",
       "      <th>open_plan</th>\n",
       "      <th>kitchen_area</th>\n",
       "      <th>balcony</th>\n",
       "      <th>locality_name</th>\n",
       "      <th>airports_nearest</th>\n",
       "      <th>cityCenters_nearest</th>\n",
       "      <th>parks_around3000</th>\n",
       "      <th>parks_nearest</th>\n",
       "      <th>ponds_around3000</th>\n",
       "      <th>ponds_nearest</th>\n",
       "      <th>days_exposition</th>\n",
       "    </tr>\n",
       "  </thead>\n",
       "  <tbody>\n",
       "    <tr>\n",
       "      <th>0</th>\n",
       "      <td>20</td>\n",
       "      <td>13000000.0</td>\n",
       "      <td>108.00</td>\n",
       "      <td>2019-03-07T00:00:00</td>\n",
       "      <td>3</td>\n",
       "      <td>2.70</td>\n",
       "      <td>16.0</td>\n",
       "      <td>51.00</td>\n",
       "      <td>8</td>\n",
       "      <td>NaN</td>\n",
       "      <td>False</td>\n",
       "      <td>False</td>\n",
       "      <td>25.00</td>\n",
       "      <td>NaN</td>\n",
       "      <td>Санкт-Петербург</td>\n",
       "      <td>18863.0</td>\n",
       "      <td>16028.0</td>\n",
       "      <td>1.0</td>\n",
       "      <td>482.0</td>\n",
       "      <td>2.0</td>\n",
       "      <td>755.0</td>\n",
       "      <td>NaN</td>\n",
       "    </tr>\n",
       "    <tr>\n",
       "      <th>1</th>\n",
       "      <td>7</td>\n",
       "      <td>3350000.0</td>\n",
       "      <td>40.40</td>\n",
       "      <td>2018-12-04T00:00:00</td>\n",
       "      <td>1</td>\n",
       "      <td>NaN</td>\n",
       "      <td>11.0</td>\n",
       "      <td>18.60</td>\n",
       "      <td>1</td>\n",
       "      <td>NaN</td>\n",
       "      <td>False</td>\n",
       "      <td>False</td>\n",
       "      <td>11.00</td>\n",
       "      <td>2.0</td>\n",
       "      <td>посёлок Шушары</td>\n",
       "      <td>12817.0</td>\n",
       "      <td>18603.0</td>\n",
       "      <td>0.0</td>\n",
       "      <td>NaN</td>\n",
       "      <td>0.0</td>\n",
       "      <td>NaN</td>\n",
       "      <td>81.0</td>\n",
       "    </tr>\n",
       "    <tr>\n",
       "      <th>2</th>\n",
       "      <td>10</td>\n",
       "      <td>5196000.0</td>\n",
       "      <td>56.00</td>\n",
       "      <td>2015-08-20T00:00:00</td>\n",
       "      <td>2</td>\n",
       "      <td>NaN</td>\n",
       "      <td>5.0</td>\n",
       "      <td>34.30</td>\n",
       "      <td>4</td>\n",
       "      <td>NaN</td>\n",
       "      <td>False</td>\n",
       "      <td>False</td>\n",
       "      <td>8.30</td>\n",
       "      <td>0.0</td>\n",
       "      <td>Санкт-Петербург</td>\n",
       "      <td>21741.0</td>\n",
       "      <td>13933.0</td>\n",
       "      <td>1.0</td>\n",
       "      <td>90.0</td>\n",
       "      <td>2.0</td>\n",
       "      <td>574.0</td>\n",
       "      <td>558.0</td>\n",
       "    </tr>\n",
       "    <tr>\n",
       "      <th>3</th>\n",
       "      <td>0</td>\n",
       "      <td>64900000.0</td>\n",
       "      <td>159.00</td>\n",
       "      <td>2015-07-24T00:00:00</td>\n",
       "      <td>3</td>\n",
       "      <td>NaN</td>\n",
       "      <td>14.0</td>\n",
       "      <td>NaN</td>\n",
       "      <td>9</td>\n",
       "      <td>NaN</td>\n",
       "      <td>False</td>\n",
       "      <td>False</td>\n",
       "      <td>NaN</td>\n",
       "      <td>0.0</td>\n",
       "      <td>Санкт-Петербург</td>\n",
       "      <td>28098.0</td>\n",
       "      <td>6800.0</td>\n",
       "      <td>2.0</td>\n",
       "      <td>84.0</td>\n",
       "      <td>3.0</td>\n",
       "      <td>234.0</td>\n",
       "      <td>424.0</td>\n",
       "    </tr>\n",
       "    <tr>\n",
       "      <th>4</th>\n",
       "      <td>2</td>\n",
       "      <td>10000000.0</td>\n",
       "      <td>100.00</td>\n",
       "      <td>2018-06-19T00:00:00</td>\n",
       "      <td>2</td>\n",
       "      <td>3.03</td>\n",
       "      <td>14.0</td>\n",
       "      <td>32.00</td>\n",
       "      <td>13</td>\n",
       "      <td>NaN</td>\n",
       "      <td>False</td>\n",
       "      <td>False</td>\n",
       "      <td>41.00</td>\n",
       "      <td>NaN</td>\n",
       "      <td>Санкт-Петербург</td>\n",
       "      <td>31856.0</td>\n",
       "      <td>8098.0</td>\n",
       "      <td>2.0</td>\n",
       "      <td>112.0</td>\n",
       "      <td>1.0</td>\n",
       "      <td>48.0</td>\n",
       "      <td>121.0</td>\n",
       "    </tr>\n",
       "    <tr>\n",
       "      <th>5</th>\n",
       "      <td>10</td>\n",
       "      <td>2890000.0</td>\n",
       "      <td>30.40</td>\n",
       "      <td>2018-09-10T00:00:00</td>\n",
       "      <td>1</td>\n",
       "      <td>NaN</td>\n",
       "      <td>12.0</td>\n",
       "      <td>14.40</td>\n",
       "      <td>5</td>\n",
       "      <td>NaN</td>\n",
       "      <td>False</td>\n",
       "      <td>False</td>\n",
       "      <td>9.10</td>\n",
       "      <td>NaN</td>\n",
       "      <td>городской посёлок Янино-1</td>\n",
       "      <td>NaN</td>\n",
       "      <td>NaN</td>\n",
       "      <td>NaN</td>\n",
       "      <td>NaN</td>\n",
       "      <td>NaN</td>\n",
       "      <td>NaN</td>\n",
       "      <td>55.0</td>\n",
       "    </tr>\n",
       "    <tr>\n",
       "      <th>6</th>\n",
       "      <td>6</td>\n",
       "      <td>3700000.0</td>\n",
       "      <td>37.30</td>\n",
       "      <td>2017-11-02T00:00:00</td>\n",
       "      <td>1</td>\n",
       "      <td>NaN</td>\n",
       "      <td>26.0</td>\n",
       "      <td>10.60</td>\n",
       "      <td>6</td>\n",
       "      <td>NaN</td>\n",
       "      <td>False</td>\n",
       "      <td>False</td>\n",
       "      <td>14.40</td>\n",
       "      <td>1.0</td>\n",
       "      <td>посёлок Парголово</td>\n",
       "      <td>52996.0</td>\n",
       "      <td>19143.0</td>\n",
       "      <td>0.0</td>\n",
       "      <td>NaN</td>\n",
       "      <td>0.0</td>\n",
       "      <td>NaN</td>\n",
       "      <td>155.0</td>\n",
       "    </tr>\n",
       "    <tr>\n",
       "      <th>7</th>\n",
       "      <td>5</td>\n",
       "      <td>7915000.0</td>\n",
       "      <td>71.60</td>\n",
       "      <td>2019-04-18T00:00:00</td>\n",
       "      <td>2</td>\n",
       "      <td>NaN</td>\n",
       "      <td>24.0</td>\n",
       "      <td>NaN</td>\n",
       "      <td>22</td>\n",
       "      <td>NaN</td>\n",
       "      <td>False</td>\n",
       "      <td>False</td>\n",
       "      <td>18.90</td>\n",
       "      <td>2.0</td>\n",
       "      <td>Санкт-Петербург</td>\n",
       "      <td>23982.0</td>\n",
       "      <td>11634.0</td>\n",
       "      <td>0.0</td>\n",
       "      <td>NaN</td>\n",
       "      <td>0.0</td>\n",
       "      <td>NaN</td>\n",
       "      <td>NaN</td>\n",
       "    </tr>\n",
       "    <tr>\n",
       "      <th>8</th>\n",
       "      <td>20</td>\n",
       "      <td>2900000.0</td>\n",
       "      <td>33.16</td>\n",
       "      <td>2018-05-23T00:00:00</td>\n",
       "      <td>1</td>\n",
       "      <td>NaN</td>\n",
       "      <td>27.0</td>\n",
       "      <td>15.43</td>\n",
       "      <td>26</td>\n",
       "      <td>NaN</td>\n",
       "      <td>False</td>\n",
       "      <td>False</td>\n",
       "      <td>8.81</td>\n",
       "      <td>NaN</td>\n",
       "      <td>посёлок Мурино</td>\n",
       "      <td>NaN</td>\n",
       "      <td>NaN</td>\n",
       "      <td>NaN</td>\n",
       "      <td>NaN</td>\n",
       "      <td>NaN</td>\n",
       "      <td>NaN</td>\n",
       "      <td>189.0</td>\n",
       "    </tr>\n",
       "    <tr>\n",
       "      <th>9</th>\n",
       "      <td>18</td>\n",
       "      <td>5400000.0</td>\n",
       "      <td>61.00</td>\n",
       "      <td>2017-02-26T00:00:00</td>\n",
       "      <td>3</td>\n",
       "      <td>2.50</td>\n",
       "      <td>9.0</td>\n",
       "      <td>43.60</td>\n",
       "      <td>7</td>\n",
       "      <td>NaN</td>\n",
       "      <td>False</td>\n",
       "      <td>False</td>\n",
       "      <td>6.50</td>\n",
       "      <td>2.0</td>\n",
       "      <td>Санкт-Петербург</td>\n",
       "      <td>50898.0</td>\n",
       "      <td>15008.0</td>\n",
       "      <td>0.0</td>\n",
       "      <td>NaN</td>\n",
       "      <td>0.0</td>\n",
       "      <td>NaN</td>\n",
       "      <td>289.0</td>\n",
       "    </tr>\n",
       "    <tr>\n",
       "      <th>10</th>\n",
       "      <td>5</td>\n",
       "      <td>5050000.0</td>\n",
       "      <td>39.60</td>\n",
       "      <td>2017-11-16T00:00:00</td>\n",
       "      <td>1</td>\n",
       "      <td>2.67</td>\n",
       "      <td>12.0</td>\n",
       "      <td>20.30</td>\n",
       "      <td>3</td>\n",
       "      <td>NaN</td>\n",
       "      <td>False</td>\n",
       "      <td>False</td>\n",
       "      <td>8.50</td>\n",
       "      <td>NaN</td>\n",
       "      <td>Санкт-Петербург</td>\n",
       "      <td>38357.0</td>\n",
       "      <td>13878.0</td>\n",
       "      <td>1.0</td>\n",
       "      <td>310.0</td>\n",
       "      <td>2.0</td>\n",
       "      <td>553.0</td>\n",
       "      <td>137.0</td>\n",
       "    </tr>\n",
       "    <tr>\n",
       "      <th>11</th>\n",
       "      <td>9</td>\n",
       "      <td>3300000.0</td>\n",
       "      <td>44.00</td>\n",
       "      <td>2018-08-27T00:00:00</td>\n",
       "      <td>2</td>\n",
       "      <td>NaN</td>\n",
       "      <td>5.0</td>\n",
       "      <td>31.00</td>\n",
       "      <td>4</td>\n",
       "      <td>False</td>\n",
       "      <td>False</td>\n",
       "      <td>False</td>\n",
       "      <td>6.00</td>\n",
       "      <td>1.0</td>\n",
       "      <td>Ломоносов</td>\n",
       "      <td>48252.0</td>\n",
       "      <td>51677.0</td>\n",
       "      <td>0.0</td>\n",
       "      <td>NaN</td>\n",
       "      <td>0.0</td>\n",
       "      <td>NaN</td>\n",
       "      <td>7.0</td>\n",
       "    </tr>\n",
       "    <tr>\n",
       "      <th>12</th>\n",
       "      <td>10</td>\n",
       "      <td>3890000.0</td>\n",
       "      <td>54.00</td>\n",
       "      <td>2016-06-30T00:00:00</td>\n",
       "      <td>2</td>\n",
       "      <td>NaN</td>\n",
       "      <td>5.0</td>\n",
       "      <td>30.00</td>\n",
       "      <td>5</td>\n",
       "      <td>NaN</td>\n",
       "      <td>False</td>\n",
       "      <td>False</td>\n",
       "      <td>9.00</td>\n",
       "      <td>0.0</td>\n",
       "      <td>Сертолово</td>\n",
       "      <td>NaN</td>\n",
       "      <td>NaN</td>\n",
       "      <td>NaN</td>\n",
       "      <td>NaN</td>\n",
       "      <td>NaN</td>\n",
       "      <td>NaN</td>\n",
       "      <td>90.0</td>\n",
       "    </tr>\n",
       "    <tr>\n",
       "      <th>13</th>\n",
       "      <td>20</td>\n",
       "      <td>3550000.0</td>\n",
       "      <td>42.80</td>\n",
       "      <td>2017-07-01T00:00:00</td>\n",
       "      <td>2</td>\n",
       "      <td>2.56</td>\n",
       "      <td>5.0</td>\n",
       "      <td>27.00</td>\n",
       "      <td>5</td>\n",
       "      <td>NaN</td>\n",
       "      <td>False</td>\n",
       "      <td>False</td>\n",
       "      <td>5.20</td>\n",
       "      <td>1.0</td>\n",
       "      <td>Петергоф</td>\n",
       "      <td>37868.0</td>\n",
       "      <td>33058.0</td>\n",
       "      <td>1.0</td>\n",
       "      <td>294.0</td>\n",
       "      <td>3.0</td>\n",
       "      <td>298.0</td>\n",
       "      <td>366.0</td>\n",
       "    </tr>\n",
       "    <tr>\n",
       "      <th>14</th>\n",
       "      <td>1</td>\n",
       "      <td>4400000.0</td>\n",
       "      <td>36.00</td>\n",
       "      <td>2016-06-23T00:00:00</td>\n",
       "      <td>1</td>\n",
       "      <td>NaN</td>\n",
       "      <td>6.0</td>\n",
       "      <td>17.00</td>\n",
       "      <td>1</td>\n",
       "      <td>NaN</td>\n",
       "      <td>False</td>\n",
       "      <td>False</td>\n",
       "      <td>8.00</td>\n",
       "      <td>0.0</td>\n",
       "      <td>Пушкин</td>\n",
       "      <td>20782.0</td>\n",
       "      <td>30759.0</td>\n",
       "      <td>0.0</td>\n",
       "      <td>NaN</td>\n",
       "      <td>1.0</td>\n",
       "      <td>96.0</td>\n",
       "      <td>203.0</td>\n",
       "    </tr>\n",
       "    <tr>\n",
       "      <th>15</th>\n",
       "      <td>16</td>\n",
       "      <td>4650000.0</td>\n",
       "      <td>39.00</td>\n",
       "      <td>2017-11-18T00:00:00</td>\n",
       "      <td>1</td>\n",
       "      <td>NaN</td>\n",
       "      <td>14.0</td>\n",
       "      <td>20.50</td>\n",
       "      <td>5</td>\n",
       "      <td>NaN</td>\n",
       "      <td>False</td>\n",
       "      <td>False</td>\n",
       "      <td>7.60</td>\n",
       "      <td>1.0</td>\n",
       "      <td>Санкт-Петербург</td>\n",
       "      <td>12900.0</td>\n",
       "      <td>14259.0</td>\n",
       "      <td>1.0</td>\n",
       "      <td>590.0</td>\n",
       "      <td>1.0</td>\n",
       "      <td>296.0</td>\n",
       "      <td>19.0</td>\n",
       "    </tr>\n",
       "    <tr>\n",
       "      <th>16</th>\n",
       "      <td>11</td>\n",
       "      <td>6700000.0</td>\n",
       "      <td>82.00</td>\n",
       "      <td>2017-11-23T00:00:00</td>\n",
       "      <td>3</td>\n",
       "      <td>3.05</td>\n",
       "      <td>5.0</td>\n",
       "      <td>55.60</td>\n",
       "      <td>1</td>\n",
       "      <td>NaN</td>\n",
       "      <td>False</td>\n",
       "      <td>False</td>\n",
       "      <td>9.00</td>\n",
       "      <td>NaN</td>\n",
       "      <td>Санкт-Петербург</td>\n",
       "      <td>22108.0</td>\n",
       "      <td>10698.0</td>\n",
       "      <td>3.0</td>\n",
       "      <td>420.0</td>\n",
       "      <td>0.0</td>\n",
       "      <td>NaN</td>\n",
       "      <td>397.0</td>\n",
       "    </tr>\n",
       "    <tr>\n",
       "      <th>17</th>\n",
       "      <td>6</td>\n",
       "      <td>4180000.0</td>\n",
       "      <td>36.00</td>\n",
       "      <td>2016-09-09T00:00:00</td>\n",
       "      <td>1</td>\n",
       "      <td>NaN</td>\n",
       "      <td>17.0</td>\n",
       "      <td>16.50</td>\n",
       "      <td>7</td>\n",
       "      <td>NaN</td>\n",
       "      <td>False</td>\n",
       "      <td>False</td>\n",
       "      <td>11.00</td>\n",
       "      <td>1.0</td>\n",
       "      <td>Санкт-Петербург</td>\n",
       "      <td>33564.0</td>\n",
       "      <td>14616.0</td>\n",
       "      <td>0.0</td>\n",
       "      <td>NaN</td>\n",
       "      <td>1.0</td>\n",
       "      <td>859.0</td>\n",
       "      <td>571.0</td>\n",
       "    </tr>\n",
       "    <tr>\n",
       "      <th>18</th>\n",
       "      <td>8</td>\n",
       "      <td>3250000.0</td>\n",
       "      <td>31.00</td>\n",
       "      <td>2017-01-27T00:00:00</td>\n",
       "      <td>1</td>\n",
       "      <td>2.50</td>\n",
       "      <td>5.0</td>\n",
       "      <td>19.40</td>\n",
       "      <td>2</td>\n",
       "      <td>NaN</td>\n",
       "      <td>False</td>\n",
       "      <td>False</td>\n",
       "      <td>5.60</td>\n",
       "      <td>1.0</td>\n",
       "      <td>Санкт-Петербург</td>\n",
       "      <td>44060.0</td>\n",
       "      <td>10842.0</td>\n",
       "      <td>1.0</td>\n",
       "      <td>759.0</td>\n",
       "      <td>0.0</td>\n",
       "      <td>NaN</td>\n",
       "      <td>168.0</td>\n",
       "    </tr>\n",
       "    <tr>\n",
       "      <th>19</th>\n",
       "      <td>16</td>\n",
       "      <td>14200000.0</td>\n",
       "      <td>121.00</td>\n",
       "      <td>2019-01-09T00:00:00</td>\n",
       "      <td>3</td>\n",
       "      <td>2.75</td>\n",
       "      <td>16.0</td>\n",
       "      <td>76.00</td>\n",
       "      <td>8</td>\n",
       "      <td>NaN</td>\n",
       "      <td>False</td>\n",
       "      <td>False</td>\n",
       "      <td>12.00</td>\n",
       "      <td>NaN</td>\n",
       "      <td>Санкт-Петербург</td>\n",
       "      <td>38900.0</td>\n",
       "      <td>12843.0</td>\n",
       "      <td>0.0</td>\n",
       "      <td>NaN</td>\n",
       "      <td>0.0</td>\n",
       "      <td>NaN</td>\n",
       "      <td>97.0</td>\n",
       "    </tr>\n",
       "  </tbody>\n",
       "</table>\n",
       "</div>"
      ],
      "text/plain": [
       "    total_images  last_price  total_area first_day_exposition  rooms  \\\n",
       "0             20  13000000.0      108.00  2019-03-07T00:00:00      3   \n",
       "1              7   3350000.0       40.40  2018-12-04T00:00:00      1   \n",
       "2             10   5196000.0       56.00  2015-08-20T00:00:00      2   \n",
       "3              0  64900000.0      159.00  2015-07-24T00:00:00      3   \n",
       "4              2  10000000.0      100.00  2018-06-19T00:00:00      2   \n",
       "5             10   2890000.0       30.40  2018-09-10T00:00:00      1   \n",
       "6              6   3700000.0       37.30  2017-11-02T00:00:00      1   \n",
       "7              5   7915000.0       71.60  2019-04-18T00:00:00      2   \n",
       "8             20   2900000.0       33.16  2018-05-23T00:00:00      1   \n",
       "9             18   5400000.0       61.00  2017-02-26T00:00:00      3   \n",
       "10             5   5050000.0       39.60  2017-11-16T00:00:00      1   \n",
       "11             9   3300000.0       44.00  2018-08-27T00:00:00      2   \n",
       "12            10   3890000.0       54.00  2016-06-30T00:00:00      2   \n",
       "13            20   3550000.0       42.80  2017-07-01T00:00:00      2   \n",
       "14             1   4400000.0       36.00  2016-06-23T00:00:00      1   \n",
       "15            16   4650000.0       39.00  2017-11-18T00:00:00      1   \n",
       "16            11   6700000.0       82.00  2017-11-23T00:00:00      3   \n",
       "17             6   4180000.0       36.00  2016-09-09T00:00:00      1   \n",
       "18             8   3250000.0       31.00  2017-01-27T00:00:00      1   \n",
       "19            16  14200000.0      121.00  2019-01-09T00:00:00      3   \n",
       "\n",
       "    ceiling_height  floors_total  living_area  floor is_apartment  studio  \\\n",
       "0             2.70          16.0        51.00      8          NaN   False   \n",
       "1              NaN          11.0        18.60      1          NaN   False   \n",
       "2              NaN           5.0        34.30      4          NaN   False   \n",
       "3              NaN          14.0          NaN      9          NaN   False   \n",
       "4             3.03          14.0        32.00     13          NaN   False   \n",
       "5              NaN          12.0        14.40      5          NaN   False   \n",
       "6              NaN          26.0        10.60      6          NaN   False   \n",
       "7              NaN          24.0          NaN     22          NaN   False   \n",
       "8              NaN          27.0        15.43     26          NaN   False   \n",
       "9             2.50           9.0        43.60      7          NaN   False   \n",
       "10            2.67          12.0        20.30      3          NaN   False   \n",
       "11             NaN           5.0        31.00      4        False   False   \n",
       "12             NaN           5.0        30.00      5          NaN   False   \n",
       "13            2.56           5.0        27.00      5          NaN   False   \n",
       "14             NaN           6.0        17.00      1          NaN   False   \n",
       "15             NaN          14.0        20.50      5          NaN   False   \n",
       "16            3.05           5.0        55.60      1          NaN   False   \n",
       "17             NaN          17.0        16.50      7          NaN   False   \n",
       "18            2.50           5.0        19.40      2          NaN   False   \n",
       "19            2.75          16.0        76.00      8          NaN   False   \n",
       "\n",
       "    open_plan  kitchen_area  balcony              locality_name  \\\n",
       "0       False         25.00      NaN            Санкт-Петербург   \n",
       "1       False         11.00      2.0             посёлок Шушары   \n",
       "2       False          8.30      0.0            Санкт-Петербург   \n",
       "3       False           NaN      0.0            Санкт-Петербург   \n",
       "4       False         41.00      NaN            Санкт-Петербург   \n",
       "5       False          9.10      NaN  городской посёлок Янино-1   \n",
       "6       False         14.40      1.0          посёлок Парголово   \n",
       "7       False         18.90      2.0            Санкт-Петербург   \n",
       "8       False          8.81      NaN             посёлок Мурино   \n",
       "9       False          6.50      2.0            Санкт-Петербург   \n",
       "10      False          8.50      NaN            Санкт-Петербург   \n",
       "11      False          6.00      1.0                  Ломоносов   \n",
       "12      False          9.00      0.0                  Сертолово   \n",
       "13      False          5.20      1.0                   Петергоф   \n",
       "14      False          8.00      0.0                     Пушкин   \n",
       "15      False          7.60      1.0            Санкт-Петербург   \n",
       "16      False          9.00      NaN            Санкт-Петербург   \n",
       "17      False         11.00      1.0            Санкт-Петербург   \n",
       "18      False          5.60      1.0            Санкт-Петербург   \n",
       "19      False         12.00      NaN            Санкт-Петербург   \n",
       "\n",
       "    airports_nearest  cityCenters_nearest  parks_around3000  parks_nearest  \\\n",
       "0            18863.0              16028.0               1.0          482.0   \n",
       "1            12817.0              18603.0               0.0            NaN   \n",
       "2            21741.0              13933.0               1.0           90.0   \n",
       "3            28098.0               6800.0               2.0           84.0   \n",
       "4            31856.0               8098.0               2.0          112.0   \n",
       "5                NaN                  NaN               NaN            NaN   \n",
       "6            52996.0              19143.0               0.0            NaN   \n",
       "7            23982.0              11634.0               0.0            NaN   \n",
       "8                NaN                  NaN               NaN            NaN   \n",
       "9            50898.0              15008.0               0.0            NaN   \n",
       "10           38357.0              13878.0               1.0          310.0   \n",
       "11           48252.0              51677.0               0.0            NaN   \n",
       "12               NaN                  NaN               NaN            NaN   \n",
       "13           37868.0              33058.0               1.0          294.0   \n",
       "14           20782.0              30759.0               0.0            NaN   \n",
       "15           12900.0              14259.0               1.0          590.0   \n",
       "16           22108.0              10698.0               3.0          420.0   \n",
       "17           33564.0              14616.0               0.0            NaN   \n",
       "18           44060.0              10842.0               1.0          759.0   \n",
       "19           38900.0              12843.0               0.0            NaN   \n",
       "\n",
       "    ponds_around3000  ponds_nearest  days_exposition  \n",
       "0                2.0          755.0              NaN  \n",
       "1                0.0            NaN             81.0  \n",
       "2                2.0          574.0            558.0  \n",
       "3                3.0          234.0            424.0  \n",
       "4                1.0           48.0            121.0  \n",
       "5                NaN            NaN             55.0  \n",
       "6                0.0            NaN            155.0  \n",
       "7                0.0            NaN              NaN  \n",
       "8                NaN            NaN            189.0  \n",
       "9                0.0            NaN            289.0  \n",
       "10               2.0          553.0            137.0  \n",
       "11               0.0            NaN              7.0  \n",
       "12               NaN            NaN             90.0  \n",
       "13               3.0          298.0            366.0  \n",
       "14               1.0           96.0            203.0  \n",
       "15               1.0          296.0             19.0  \n",
       "16               0.0            NaN            397.0  \n",
       "17               1.0          859.0            571.0  \n",
       "18               0.0            NaN            168.0  \n",
       "19               0.0            NaN             97.0  "
      ]
     },
     "execution_count": 4,
     "metadata": {},
     "output_type": "execute_result"
    }
   ],
   "source": [
    "data.head(20)"
   ]
  },
  {
   "cell_type": "code",
   "execution_count": 5,
   "metadata": {},
   "outputs": [
    {
     "data": {
      "text/plain": [
       "array([[<AxesSubplot:title={'center':'total_images'}>,\n",
       "        <AxesSubplot:title={'center':'last_price'}>,\n",
       "        <AxesSubplot:title={'center':'total_area'}>,\n",
       "        <AxesSubplot:title={'center':'rooms'}>],\n",
       "       [<AxesSubplot:title={'center':'ceiling_height'}>,\n",
       "        <AxesSubplot:title={'center':'floors_total'}>,\n",
       "        <AxesSubplot:title={'center':'living_area'}>,\n",
       "        <AxesSubplot:title={'center':'floor'}>],\n",
       "       [<AxesSubplot:title={'center':'kitchen_area'}>,\n",
       "        <AxesSubplot:title={'center':'balcony'}>,\n",
       "        <AxesSubplot:title={'center':'airports_nearest'}>,\n",
       "        <AxesSubplot:title={'center':'cityCenters_nearest'}>],\n",
       "       [<AxesSubplot:title={'center':'parks_around3000'}>,\n",
       "        <AxesSubplot:title={'center':'parks_nearest'}>,\n",
       "        <AxesSubplot:title={'center':'ponds_around3000'}>,\n",
       "        <AxesSubplot:title={'center':'ponds_nearest'}>],\n",
       "       [<AxesSubplot:title={'center':'days_exposition'}>, <AxesSubplot:>,\n",
       "        <AxesSubplot:>, <AxesSubplot:>]], dtype=object)"
      ]
     },
     "execution_count": 5,
     "metadata": {},
     "output_type": "execute_result"
    },
    {
     "data": {
      "image/png": "[encoded data removed]",
      "text/plain": [
       "<Figure size 1080x1440 with 20 Axes>"
      ]
     },
     "metadata": {
      "needs_background": "light"
     },
     "output_type": "display_data"
    }
   ],
   "source": [
    "data.hist(figsize=(15, 20))"
   ]
  },
  {
   "cell_type": "markdown",
   "metadata": {},
   "source": [
    "Качество и объем данных достаточные для ответа на поставленные вопросы. Как видно из графиков, во многих столбцах есть редкие (выбивающиеся значения), которые необходимо будет обработать на этапе предобработки данных. Также в данных есть столбец, который никак не будет задействован в анализе (total_images), хотя этот параметр может влиять на срок продажи квартиры (days_exposition)."
   ]
  },
  {
   "cell_type": "markdown",
   "metadata": {},
   "source": [
    "## Предобработка данных"
   ]
  },
  {
   "cell_type": "markdown",
   "metadata": {},
   "source": [
    "###   Устранение пропусков и аномальных значений"
   ]
  },
  {
   "cell_type": "code",
   "execution_count": 6,
   "metadata": {},
   "outputs": [
    {
     "data": {
      "text/plain": [
       "total_images                0\n",
       "last_price                  0\n",
       "total_area                  0\n",
       "first_day_exposition        0\n",
       "rooms                       0\n",
       "ceiling_height           9195\n",
       "floors_total               86\n",
       "living_area              1903\n",
       "floor                       0\n",
       "is_apartment            20924\n",
       "studio                      0\n",
       "open_plan                   0\n",
       "kitchen_area             2278\n",
       "balcony                 11519\n",
       "locality_name              49\n",
       "airports_nearest         5542\n",
       "cityCenters_nearest      5519\n",
       "parks_around3000         5518\n",
       "parks_nearest           15620\n",
       "ponds_around3000         5518\n",
       "ponds_nearest           14589\n",
       "days_exposition          3181\n",
       "dtype: int64"
      ]
     },
     "execution_count": 6,
     "metadata": {},
     "output_type": "execute_result"
    }
   ],
   "source": [
    "data.isna().sum()"
   ]
  },
  {
   "cell_type": "markdown",
   "metadata": {},
   "source": [
    "#### Устранение пропусков в столбце balcony"
   ]
  },
  {
   "cell_type": "code",
   "execution_count": 7,
   "metadata": {
    "scrolled": true
   },
   "outputs": [
    {
     "data": {
      "text/plain": [
       "array([nan,  2.,  0.,  1.,  5.,  4.,  3.])"
      ]
     },
     "metadata": {},
     "output_type": "display_data"
    },
    {
     "data": {
      "text/plain": [
       "total_images                0\n",
       "last_price                  0\n",
       "total_area                  0\n",
       "first_day_exposition        0\n",
       "rooms                       0\n",
       "ceiling_height           9195\n",
       "floors_total               86\n",
       "living_area              1903\n",
       "floor                       0\n",
       "is_apartment            20924\n",
       "studio                      0\n",
       "open_plan                   0\n",
       "kitchen_area             2278\n",
       "balcony                     0\n",
       "locality_name              49\n",
       "airports_nearest         5542\n",
       "cityCenters_nearest      5519\n",
       "parks_around3000         5518\n",
       "parks_nearest           15620\n",
       "ponds_around3000         5518\n",
       "ponds_nearest           14589\n",
       "days_exposition          3181\n",
       "dtype: int64"
      ]
     },
     "execution_count": 7,
     "metadata": {},
     "output_type": "execute_result"
    }
   ],
   "source": [
    "display(data['balcony'].unique())\n",
    "data['balcony'].fillna(value=0,inplace=True)\n",
    "data.isna().sum() "
   ]
  },
  {
   "cell_type": "markdown",
   "metadata": {},
   "source": [
    "Пропуски в столбце balcony (число балконов) заполнили нулями"
   ]
  },
  {
   "cell_type": "markdown",
   "metadata": {},
   "source": [
    "#### Устранение пропусков в столбце is_apartment"
   ]
  },
  {
   "cell_type": "code",
   "execution_count": 8,
   "metadata": {},
   "outputs": [
    {
     "data": {
      "text/plain": [
       "array([nan, False, True], dtype=object)"
      ]
     },
     "metadata": {},
     "output_type": "display_data"
    },
    {
     "data": {
      "text/plain": [
       "total_images                0\n",
       "last_price                  0\n",
       "total_area                  0\n",
       "first_day_exposition        0\n",
       "rooms                       0\n",
       "ceiling_height           9195\n",
       "floors_total               86\n",
       "living_area              1903\n",
       "floor                       0\n",
       "is_apartment                0\n",
       "studio                      0\n",
       "open_plan                   0\n",
       "kitchen_area             2278\n",
       "balcony                     0\n",
       "locality_name              49\n",
       "airports_nearest         5542\n",
       "cityCenters_nearest      5519\n",
       "parks_around3000         5518\n",
       "parks_nearest           15620\n",
       "ponds_around3000         5518\n",
       "ponds_nearest           14589\n",
       "days_exposition          3181\n",
       "dtype: int64"
      ]
     },
     "execution_count": 8,
     "metadata": {},
     "output_type": "execute_result"
    }
   ],
   "source": [
    "display(data['is_apartment'].unique())\n",
    "data['is_apartment'].fillna(value=False,inplace=True)\n",
    "data.isna().sum()"
   ]
  },
  {
   "cell_type": "markdown",
   "metadata": {},
   "source": [
    "Пропуски в стоблце is_apartment заменили на False, так как если человек не указывает, является ли помещение апартаментом, то скорее всего это помещение не является апартаментом. "
   ]
  },
  {
   "cell_type": "markdown",
   "metadata": {},
   "source": [
    "#### Устранение аномальных значений и пропусков в столбце ceiling_height"
   ]
  },
  {
   "cell_type": "code",
   "execution_count": 9,
   "metadata": {},
   "outputs": [
    {
     "data": {
      "text/plain": [
       "count    14504.000000\n",
       "mean         2.771499\n",
       "std          1.261056\n",
       "min          1.000000\n",
       "25%          2.520000\n",
       "50%          2.650000\n",
       "75%          2.800000\n",
       "max        100.000000\n",
       "Name: ceiling_height, dtype: float64"
      ]
     },
     "metadata": {},
     "output_type": "display_data"
    },
    {
     "data": {
      "text/html": [
       "<div>\n",
       "<style scoped>\n",
       "    .dataframe tbody tr th:only-of-type {\n",
       "        vertical-align: middle;\n",
       "    }\n",
       "\n",
       "    .dataframe tbody tr th {\n",
       "        vertical-align: top;\n",
       "    }\n",
       "\n",
       "    .dataframe thead th {\n",
       "        text-align: right;\n",
       "    }\n",
       "</style>\n",
       "<table border=\"1\" class=\"dataframe\">\n",
       "  <thead>\n",
       "    <tr style=\"text-align: right;\">\n",
       "      <th></th>\n",
       "      <th>total_images</th>\n",
       "      <th>last_price</th>\n",
       "      <th>total_area</th>\n",
       "      <th>first_day_exposition</th>\n",
       "      <th>rooms</th>\n",
       "      <th>ceiling_height</th>\n",
       "      <th>floors_total</th>\n",
       "      <th>living_area</th>\n",
       "      <th>floor</th>\n",
       "      <th>is_apartment</th>\n",
       "      <th>studio</th>\n",
       "      <th>open_plan</th>\n",
       "      <th>kitchen_area</th>\n",
       "      <th>balcony</th>\n",
       "      <th>locality_name</th>\n",
       "      <th>airports_nearest</th>\n",
       "      <th>cityCenters_nearest</th>\n",
       "      <th>parks_around3000</th>\n",
       "      <th>parks_nearest</th>\n",
       "      <th>ponds_around3000</th>\n",
       "      <th>ponds_nearest</th>\n",
       "      <th>days_exposition</th>\n",
       "    </tr>\n",
       "  </thead>\n",
       "  <tbody>\n",
       "    <tr>\n",
       "      <th>355</th>\n",
       "      <td>17</td>\n",
       "      <td>3600000.0</td>\n",
       "      <td>55.2</td>\n",
       "      <td>2018-07-12T00:00:00</td>\n",
       "      <td>2</td>\n",
       "      <td>25.0</td>\n",
       "      <td>5.0</td>\n",
       "      <td>32.0</td>\n",
       "      <td>2</td>\n",
       "      <td>False</td>\n",
       "      <td>False</td>\n",
       "      <td>False</td>\n",
       "      <td>NaN</td>\n",
       "      <td>2.0</td>\n",
       "      <td>Гатчина</td>\n",
       "      <td>NaN</td>\n",
       "      <td>NaN</td>\n",
       "      <td>NaN</td>\n",
       "      <td>NaN</td>\n",
       "      <td>NaN</td>\n",
       "      <td>NaN</td>\n",
       "      <td>259.0</td>\n",
       "    </tr>\n",
       "    <tr>\n",
       "      <th>3148</th>\n",
       "      <td>14</td>\n",
       "      <td>2900000.0</td>\n",
       "      <td>75.0</td>\n",
       "      <td>2018-11-12T00:00:00</td>\n",
       "      <td>3</td>\n",
       "      <td>32.0</td>\n",
       "      <td>3.0</td>\n",
       "      <td>53.0</td>\n",
       "      <td>2</td>\n",
       "      <td>False</td>\n",
       "      <td>False</td>\n",
       "      <td>False</td>\n",
       "      <td>8.0</td>\n",
       "      <td>0.0</td>\n",
       "      <td>Волхов</td>\n",
       "      <td>NaN</td>\n",
       "      <td>NaN</td>\n",
       "      <td>NaN</td>\n",
       "      <td>NaN</td>\n",
       "      <td>NaN</td>\n",
       "      <td>NaN</td>\n",
       "      <td>NaN</td>\n",
       "    </tr>\n",
       "    <tr>\n",
       "      <th>4643</th>\n",
       "      <td>0</td>\n",
       "      <td>4300000.0</td>\n",
       "      <td>45.0</td>\n",
       "      <td>2018-02-01T00:00:00</td>\n",
       "      <td>2</td>\n",
       "      <td>25.0</td>\n",
       "      <td>9.0</td>\n",
       "      <td>30.0</td>\n",
       "      <td>2</td>\n",
       "      <td>False</td>\n",
       "      <td>False</td>\n",
       "      <td>False</td>\n",
       "      <td>7.0</td>\n",
       "      <td>1.0</td>\n",
       "      <td>Санкт-Петербург</td>\n",
       "      <td>12016.0</td>\n",
       "      <td>13256.0</td>\n",
       "      <td>1.0</td>\n",
       "      <td>658.0</td>\n",
       "      <td>1.0</td>\n",
       "      <td>331.0</td>\n",
       "      <td>181.0</td>\n",
       "    </tr>\n",
       "    <tr>\n",
       "      <th>4876</th>\n",
       "      <td>7</td>\n",
       "      <td>3000000.0</td>\n",
       "      <td>25.0</td>\n",
       "      <td>2017-09-27T00:00:00</td>\n",
       "      <td>0</td>\n",
       "      <td>27.0</td>\n",
       "      <td>25.0</td>\n",
       "      <td>17.0</td>\n",
       "      <td>17</td>\n",
       "      <td>False</td>\n",
       "      <td>False</td>\n",
       "      <td>True</td>\n",
       "      <td>NaN</td>\n",
       "      <td>2.0</td>\n",
       "      <td>посёлок Мурино</td>\n",
       "      <td>NaN</td>\n",
       "      <td>NaN</td>\n",
       "      <td>NaN</td>\n",
       "      <td>NaN</td>\n",
       "      <td>NaN</td>\n",
       "      <td>NaN</td>\n",
       "      <td>28.0</td>\n",
       "    </tr>\n",
       "    <tr>\n",
       "      <th>5076</th>\n",
       "      <td>0</td>\n",
       "      <td>3850000.0</td>\n",
       "      <td>30.5</td>\n",
       "      <td>2018-10-03T00:00:00</td>\n",
       "      <td>1</td>\n",
       "      <td>24.0</td>\n",
       "      <td>5.0</td>\n",
       "      <td>19.5</td>\n",
       "      <td>1</td>\n",
       "      <td>True</td>\n",
       "      <td>False</td>\n",
       "      <td>False</td>\n",
       "      <td>5.5</td>\n",
       "      <td>0.0</td>\n",
       "      <td>Санкт-Петербург</td>\n",
       "      <td>29686.0</td>\n",
       "      <td>8389.0</td>\n",
       "      <td>3.0</td>\n",
       "      <td>397.0</td>\n",
       "      <td>1.0</td>\n",
       "      <td>578.0</td>\n",
       "      <td>7.0</td>\n",
       "    </tr>\n",
       "    <tr>\n",
       "      <th>5246</th>\n",
       "      <td>0</td>\n",
       "      <td>2500000.0</td>\n",
       "      <td>54.0</td>\n",
       "      <td>2017-10-13T00:00:00</td>\n",
       "      <td>2</td>\n",
       "      <td>27.0</td>\n",
       "      <td>5.0</td>\n",
       "      <td>30.0</td>\n",
       "      <td>3</td>\n",
       "      <td>False</td>\n",
       "      <td>False</td>\n",
       "      <td>False</td>\n",
       "      <td>9.0</td>\n",
       "      <td>2.0</td>\n",
       "      <td>деревня Мины</td>\n",
       "      <td>NaN</td>\n",
       "      <td>NaN</td>\n",
       "      <td>NaN</td>\n",
       "      <td>NaN</td>\n",
       "      <td>NaN</td>\n",
       "      <td>NaN</td>\n",
       "      <td>540.0</td>\n",
       "    </tr>\n",
       "    <tr>\n",
       "      <th>5669</th>\n",
       "      <td>4</td>\n",
       "      <td>4400000.0</td>\n",
       "      <td>50.0</td>\n",
       "      <td>2017-08-08T00:00:00</td>\n",
       "      <td>2</td>\n",
       "      <td>26.0</td>\n",
       "      <td>9.0</td>\n",
       "      <td>21.3</td>\n",
       "      <td>3</td>\n",
       "      <td>False</td>\n",
       "      <td>False</td>\n",
       "      <td>False</td>\n",
       "      <td>7.0</td>\n",
       "      <td>2.0</td>\n",
       "      <td>Санкт-Петербург</td>\n",
       "      <td>28981.0</td>\n",
       "      <td>10912.0</td>\n",
       "      <td>1.0</td>\n",
       "      <td>305.0</td>\n",
       "      <td>0.0</td>\n",
       "      <td>NaN</td>\n",
       "      <td>267.0</td>\n",
       "    </tr>\n",
       "    <tr>\n",
       "      <th>5807</th>\n",
       "      <td>17</td>\n",
       "      <td>8150000.0</td>\n",
       "      <td>80.0</td>\n",
       "      <td>2019-01-09T00:00:00</td>\n",
       "      <td>2</td>\n",
       "      <td>27.0</td>\n",
       "      <td>36.0</td>\n",
       "      <td>41.0</td>\n",
       "      <td>13</td>\n",
       "      <td>False</td>\n",
       "      <td>False</td>\n",
       "      <td>False</td>\n",
       "      <td>12.0</td>\n",
       "      <td>5.0</td>\n",
       "      <td>Санкт-Петербург</td>\n",
       "      <td>18732.0</td>\n",
       "      <td>20444.0</td>\n",
       "      <td>0.0</td>\n",
       "      <td>NaN</td>\n",
       "      <td>3.0</td>\n",
       "      <td>80.0</td>\n",
       "      <td>38.0</td>\n",
       "    </tr>\n",
       "    <tr>\n",
       "      <th>6246</th>\n",
       "      <td>6</td>\n",
       "      <td>3300000.0</td>\n",
       "      <td>44.4</td>\n",
       "      <td>2019-03-25T00:00:00</td>\n",
       "      <td>2</td>\n",
       "      <td>25.0</td>\n",
       "      <td>5.0</td>\n",
       "      <td>31.3</td>\n",
       "      <td>5</td>\n",
       "      <td>False</td>\n",
       "      <td>False</td>\n",
       "      <td>False</td>\n",
       "      <td>5.7</td>\n",
       "      <td>0.0</td>\n",
       "      <td>Кронштадт</td>\n",
       "      <td>68923.0</td>\n",
       "      <td>50649.0</td>\n",
       "      <td>1.0</td>\n",
       "      <td>417.0</td>\n",
       "      <td>2.0</td>\n",
       "      <td>73.0</td>\n",
       "      <td>NaN</td>\n",
       "    </tr>\n",
       "    <tr>\n",
       "      <th>9379</th>\n",
       "      <td>5</td>\n",
       "      <td>3950000.0</td>\n",
       "      <td>42.0</td>\n",
       "      <td>2017-03-26T00:00:00</td>\n",
       "      <td>3</td>\n",
       "      <td>25.0</td>\n",
       "      <td>5.0</td>\n",
       "      <td>30.0</td>\n",
       "      <td>2</td>\n",
       "      <td>False</td>\n",
       "      <td>False</td>\n",
       "      <td>False</td>\n",
       "      <td>5.2</td>\n",
       "      <td>0.0</td>\n",
       "      <td>Санкт-Петербург</td>\n",
       "      <td>11647.0</td>\n",
       "      <td>13581.0</td>\n",
       "      <td>0.0</td>\n",
       "      <td>NaN</td>\n",
       "      <td>0.0</td>\n",
       "      <td>NaN</td>\n",
       "      <td>NaN</td>\n",
       "    </tr>\n",
       "    <tr>\n",
       "      <th>10773</th>\n",
       "      <td>8</td>\n",
       "      <td>3800000.0</td>\n",
       "      <td>58.0</td>\n",
       "      <td>2017-10-13T00:00:00</td>\n",
       "      <td>2</td>\n",
       "      <td>27.0</td>\n",
       "      <td>10.0</td>\n",
       "      <td>30.1</td>\n",
       "      <td>3</td>\n",
       "      <td>False</td>\n",
       "      <td>False</td>\n",
       "      <td>False</td>\n",
       "      <td>8.1</td>\n",
       "      <td>2.0</td>\n",
       "      <td>посёлок Мурино</td>\n",
       "      <td>NaN</td>\n",
       "      <td>NaN</td>\n",
       "      <td>NaN</td>\n",
       "      <td>NaN</td>\n",
       "      <td>NaN</td>\n",
       "      <td>NaN</td>\n",
       "      <td>71.0</td>\n",
       "    </tr>\n",
       "    <tr>\n",
       "      <th>11285</th>\n",
       "      <td>0</td>\n",
       "      <td>1950000.0</td>\n",
       "      <td>37.0</td>\n",
       "      <td>2019-03-20T00:00:00</td>\n",
       "      <td>1</td>\n",
       "      <td>25.0</td>\n",
       "      <td>5.0</td>\n",
       "      <td>17.0</td>\n",
       "      <td>4</td>\n",
       "      <td>False</td>\n",
       "      <td>False</td>\n",
       "      <td>False</td>\n",
       "      <td>9.0</td>\n",
       "      <td>2.0</td>\n",
       "      <td>Луга</td>\n",
       "      <td>NaN</td>\n",
       "      <td>NaN</td>\n",
       "      <td>NaN</td>\n",
       "      <td>NaN</td>\n",
       "      <td>NaN</td>\n",
       "      <td>NaN</td>\n",
       "      <td>18.0</td>\n",
       "    </tr>\n",
       "    <tr>\n",
       "      <th>14382</th>\n",
       "      <td>9</td>\n",
       "      <td>1700000.0</td>\n",
       "      <td>35.0</td>\n",
       "      <td>2015-12-04T00:00:00</td>\n",
       "      <td>1</td>\n",
       "      <td>25.0</td>\n",
       "      <td>5.0</td>\n",
       "      <td>20.0</td>\n",
       "      <td>2</td>\n",
       "      <td>False</td>\n",
       "      <td>False</td>\n",
       "      <td>False</td>\n",
       "      <td>8.0</td>\n",
       "      <td>1.0</td>\n",
       "      <td>поселок Новый Свет</td>\n",
       "      <td>NaN</td>\n",
       "      <td>NaN</td>\n",
       "      <td>NaN</td>\n",
       "      <td>NaN</td>\n",
       "      <td>NaN</td>\n",
       "      <td>NaN</td>\n",
       "      <td>206.0</td>\n",
       "    </tr>\n",
       "    <tr>\n",
       "      <th>17857</th>\n",
       "      <td>1</td>\n",
       "      <td>3900000.0</td>\n",
       "      <td>56.0</td>\n",
       "      <td>2017-12-22T00:00:00</td>\n",
       "      <td>3</td>\n",
       "      <td>27.0</td>\n",
       "      <td>5.0</td>\n",
       "      <td>33.0</td>\n",
       "      <td>4</td>\n",
       "      <td>False</td>\n",
       "      <td>False</td>\n",
       "      <td>False</td>\n",
       "      <td>NaN</td>\n",
       "      <td>0.0</td>\n",
       "      <td>Санкт-Петербург</td>\n",
       "      <td>41030.0</td>\n",
       "      <td>15543.0</td>\n",
       "      <td>0.0</td>\n",
       "      <td>NaN</td>\n",
       "      <td>0.0</td>\n",
       "      <td>NaN</td>\n",
       "      <td>73.0</td>\n",
       "    </tr>\n",
       "    <tr>\n",
       "      <th>18545</th>\n",
       "      <td>6</td>\n",
       "      <td>3750000.0</td>\n",
       "      <td>43.0</td>\n",
       "      <td>2019-03-18T00:00:00</td>\n",
       "      <td>2</td>\n",
       "      <td>25.0</td>\n",
       "      <td>5.0</td>\n",
       "      <td>29.0</td>\n",
       "      <td>3</td>\n",
       "      <td>False</td>\n",
       "      <td>False</td>\n",
       "      <td>False</td>\n",
       "      <td>NaN</td>\n",
       "      <td>0.0</td>\n",
       "      <td>Санкт-Петербург</td>\n",
       "      <td>27054.0</td>\n",
       "      <td>8033.0</td>\n",
       "      <td>1.0</td>\n",
       "      <td>540.0</td>\n",
       "      <td>0.0</td>\n",
       "      <td>NaN</td>\n",
       "      <td>12.0</td>\n",
       "    </tr>\n",
       "    <tr>\n",
       "      <th>20478</th>\n",
       "      <td>11</td>\n",
       "      <td>8000000.0</td>\n",
       "      <td>45.0</td>\n",
       "      <td>2017-07-18T00:00:00</td>\n",
       "      <td>1</td>\n",
       "      <td>27.0</td>\n",
       "      <td>4.0</td>\n",
       "      <td>22.0</td>\n",
       "      <td>2</td>\n",
       "      <td>False</td>\n",
       "      <td>False</td>\n",
       "      <td>False</td>\n",
       "      <td>10.0</td>\n",
       "      <td>1.0</td>\n",
       "      <td>Санкт-Петербург</td>\n",
       "      <td>18975.0</td>\n",
       "      <td>3246.0</td>\n",
       "      <td>0.0</td>\n",
       "      <td>NaN</td>\n",
       "      <td>3.0</td>\n",
       "      <td>449.0</td>\n",
       "      <td>429.0</td>\n",
       "    </tr>\n",
       "    <tr>\n",
       "      <th>20507</th>\n",
       "      <td>12</td>\n",
       "      <td>5950000.0</td>\n",
       "      <td>60.0</td>\n",
       "      <td>2018-02-19T00:00:00</td>\n",
       "      <td>2</td>\n",
       "      <td>22.6</td>\n",
       "      <td>14.0</td>\n",
       "      <td>35.0</td>\n",
       "      <td>11</td>\n",
       "      <td>False</td>\n",
       "      <td>False</td>\n",
       "      <td>False</td>\n",
       "      <td>13.0</td>\n",
       "      <td>1.0</td>\n",
       "      <td>Санкт-Петербург</td>\n",
       "      <td>27028.0</td>\n",
       "      <td>12570.0</td>\n",
       "      <td>0.0</td>\n",
       "      <td>NaN</td>\n",
       "      <td>0.0</td>\n",
       "      <td>NaN</td>\n",
       "      <td>40.0</td>\n",
       "    </tr>\n",
       "    <tr>\n",
       "      <th>21377</th>\n",
       "      <td>19</td>\n",
       "      <td>4900000.0</td>\n",
       "      <td>42.0</td>\n",
       "      <td>2017-04-18T00:00:00</td>\n",
       "      <td>1</td>\n",
       "      <td>27.5</td>\n",
       "      <td>24.0</td>\n",
       "      <td>37.7</td>\n",
       "      <td>19</td>\n",
       "      <td>False</td>\n",
       "      <td>False</td>\n",
       "      <td>False</td>\n",
       "      <td>11.0</td>\n",
       "      <td>2.0</td>\n",
       "      <td>Санкт-Петербург</td>\n",
       "      <td>42742.0</td>\n",
       "      <td>9760.0</td>\n",
       "      <td>0.0</td>\n",
       "      <td>NaN</td>\n",
       "      <td>0.0</td>\n",
       "      <td>NaN</td>\n",
       "      <td>61.0</td>\n",
       "    </tr>\n",
       "    <tr>\n",
       "      <th>21824</th>\n",
       "      <td>20</td>\n",
       "      <td>2450000.0</td>\n",
       "      <td>44.0</td>\n",
       "      <td>2019-02-12T00:00:00</td>\n",
       "      <td>2</td>\n",
       "      <td>27.0</td>\n",
       "      <td>2.0</td>\n",
       "      <td>38.0</td>\n",
       "      <td>2</td>\n",
       "      <td>False</td>\n",
       "      <td>False</td>\n",
       "      <td>False</td>\n",
       "      <td>8.6</td>\n",
       "      <td>2.0</td>\n",
       "      <td>городской поселок Большая Ижора</td>\n",
       "      <td>NaN</td>\n",
       "      <td>NaN</td>\n",
       "      <td>NaN</td>\n",
       "      <td>NaN</td>\n",
       "      <td>NaN</td>\n",
       "      <td>NaN</td>\n",
       "      <td>NaN</td>\n",
       "    </tr>\n",
       "    <tr>\n",
       "      <th>22336</th>\n",
       "      <td>19</td>\n",
       "      <td>9999000.0</td>\n",
       "      <td>92.4</td>\n",
       "      <td>2019-04-05T00:00:00</td>\n",
       "      <td>2</td>\n",
       "      <td>32.0</td>\n",
       "      <td>6.0</td>\n",
       "      <td>55.5</td>\n",
       "      <td>5</td>\n",
       "      <td>False</td>\n",
       "      <td>False</td>\n",
       "      <td>False</td>\n",
       "      <td>16.5</td>\n",
       "      <td>4.0</td>\n",
       "      <td>Санкт-Петербург</td>\n",
       "      <td>18838.0</td>\n",
       "      <td>3506.0</td>\n",
       "      <td>0.0</td>\n",
       "      <td>NaN</td>\n",
       "      <td>3.0</td>\n",
       "      <td>511.0</td>\n",
       "      <td>NaN</td>\n",
       "    </tr>\n",
       "    <tr>\n",
       "      <th>22869</th>\n",
       "      <td>0</td>\n",
       "      <td>15000000.0</td>\n",
       "      <td>25.0</td>\n",
       "      <td>2018-07-25T00:00:00</td>\n",
       "      <td>1</td>\n",
       "      <td>100.0</td>\n",
       "      <td>5.0</td>\n",
       "      <td>14.0</td>\n",
       "      <td>5</td>\n",
       "      <td>True</td>\n",
       "      <td>False</td>\n",
       "      <td>False</td>\n",
       "      <td>11.0</td>\n",
       "      <td>5.0</td>\n",
       "      <td>Санкт-Петербург</td>\n",
       "      <td>34963.0</td>\n",
       "      <td>8283.0</td>\n",
       "      <td>1.0</td>\n",
       "      <td>223.0</td>\n",
       "      <td>3.0</td>\n",
       "      <td>30.0</td>\n",
       "      <td>19.0</td>\n",
       "    </tr>\n",
       "    <tr>\n",
       "      <th>22938</th>\n",
       "      <td>14</td>\n",
       "      <td>4000000.0</td>\n",
       "      <td>98.0</td>\n",
       "      <td>2018-03-15T00:00:00</td>\n",
       "      <td>4</td>\n",
       "      <td>27.0</td>\n",
       "      <td>2.0</td>\n",
       "      <td>73.0</td>\n",
       "      <td>2</td>\n",
       "      <td>True</td>\n",
       "      <td>False</td>\n",
       "      <td>False</td>\n",
       "      <td>9.0</td>\n",
       "      <td>1.0</td>\n",
       "      <td>деревня Нижняя</td>\n",
       "      <td>NaN</td>\n",
       "      <td>NaN</td>\n",
       "      <td>NaN</td>\n",
       "      <td>NaN</td>\n",
       "      <td>NaN</td>\n",
       "      <td>NaN</td>\n",
       "      <td>27.0</td>\n",
       "    </tr>\n",
       "  </tbody>\n",
       "</table>\n",
       "</div>"
      ],
      "text/plain": [
       "       total_images  last_price  total_area first_day_exposition  rooms  \\\n",
       "355              17   3600000.0        55.2  2018-07-12T00:00:00      2   \n",
       "3148             14   2900000.0        75.0  2018-11-12T00:00:00      3   \n",
       "4643              0   4300000.0        45.0  2018-02-01T00:00:00      2   \n",
       "4876              7   3000000.0        25.0  2017-09-27T00:00:00      0   \n",
       "5076              0   3850000.0        30.5  2018-10-03T00:00:00      1   \n",
       "5246              0   2500000.0        54.0  2017-10-13T00:00:00      2   \n",
       "5669              4   4400000.0        50.0  2017-08-08T00:00:00      2   \n",
       "5807             17   8150000.0        80.0  2019-01-09T00:00:00      2   \n",
       "6246              6   3300000.0        44.4  2019-03-25T00:00:00      2   \n",
       "9379              5   3950000.0        42.0  2017-03-26T00:00:00      3   \n",
       "10773             8   3800000.0        58.0  2017-10-13T00:00:00      2   \n",
       "11285             0   1950000.0        37.0  2019-03-20T00:00:00      1   \n",
       "14382             9   1700000.0        35.0  2015-12-04T00:00:00      1   \n",
       "17857             1   3900000.0        56.0  2017-12-22T00:00:00      3   \n",
       "18545             6   3750000.0        43.0  2019-03-18T00:00:00      2   \n",
       "20478            11   8000000.0        45.0  2017-07-18T00:00:00      1   \n",
       "20507            12   5950000.0        60.0  2018-02-19T00:00:00      2   \n",
       "21377            19   4900000.0        42.0  2017-04-18T00:00:00      1   \n",
       "21824            20   2450000.0        44.0  2019-02-12T00:00:00      2   \n",
       "22336            19   9999000.0        92.4  2019-04-05T00:00:00      2   \n",
       "22869             0  15000000.0        25.0  2018-07-25T00:00:00      1   \n",
       "22938            14   4000000.0        98.0  2018-03-15T00:00:00      4   \n",
       "\n",
       "       ceiling_height  floors_total  living_area  floor  is_apartment  studio  \\\n",
       "355              25.0           5.0         32.0      2         False   False   \n",
       "3148             32.0           3.0         53.0      2         False   False   \n",
       "4643             25.0           9.0         30.0      2         False   False   \n",
       "4876             27.0          25.0         17.0     17         False   False   \n",
       "5076             24.0           5.0         19.5      1          True   False   \n",
       "5246             27.0           5.0         30.0      3         False   False   \n",
       "5669             26.0           9.0         21.3      3         False   False   \n",
       "5807             27.0          36.0         41.0     13         False   False   \n",
       "6246             25.0           5.0         31.3      5         False   False   \n",
       "9379             25.0           5.0         30.0      2         False   False   \n",
       "10773            27.0          10.0         30.1      3         False   False   \n",
       "11285            25.0           5.0         17.0      4         False   False   \n",
       "14382            25.0           5.0         20.0      2         False   False   \n",
       "17857            27.0           5.0         33.0      4         False   False   \n",
       "18545            25.0           5.0         29.0      3         False   False   \n",
       "20478            27.0           4.0         22.0      2         False   False   \n",
       "20507            22.6          14.0         35.0     11         False   False   \n",
       "21377            27.5          24.0         37.7     19         False   False   \n",
       "21824            27.0           2.0         38.0      2         False   False   \n",
       "22336            32.0           6.0         55.5      5         False   False   \n",
       "22869           100.0           5.0         14.0      5          True   False   \n",
       "22938            27.0           2.0         73.0      2          True   False   \n",
       "\n",
       "       open_plan  kitchen_area  balcony                    locality_name  \\\n",
       "355        False           NaN      2.0                          Гатчина   \n",
       "3148       False           8.0      0.0                           Волхов   \n",
       "4643       False           7.0      1.0                  Санкт-Петербург   \n",
       "4876        True           NaN      2.0                   посёлок Мурино   \n",
       "5076       False           5.5      0.0                  Санкт-Петербург   \n",
       "5246       False           9.0      2.0                     деревня Мины   \n",
       "5669       False           7.0      2.0                  Санкт-Петербург   \n",
       "5807       False          12.0      5.0                  Санкт-Петербург   \n",
       "6246       False           5.7      0.0                        Кронштадт   \n",
       "9379       False           5.2      0.0                  Санкт-Петербург   \n",
       "10773      False           8.1      2.0                   посёлок Мурино   \n",
       "11285      False           9.0      2.0                             Луга   \n",
       "14382      False           8.0      1.0               поселок Новый Свет   \n",
       "17857      False           NaN      0.0                  Санкт-Петербург   \n",
       "18545      False           NaN      0.0                  Санкт-Петербург   \n",
       "20478      False          10.0      1.0                  Санкт-Петербург   \n",
       "20507      False          13.0      1.0                  Санкт-Петербург   \n",
       "21377      False          11.0      2.0                  Санкт-Петербург   \n",
       "21824      False           8.6      2.0  городской поселок Большая Ижора   \n",
       "22336      False          16.5      4.0                  Санкт-Петербург   \n",
       "22869      False          11.0      5.0                  Санкт-Петербург   \n",
       "22938      False           9.0      1.0                   деревня Нижняя   \n",
       "\n",
       "       airports_nearest  cityCenters_nearest  parks_around3000  parks_nearest  \\\n",
       "355                 NaN                  NaN               NaN            NaN   \n",
       "3148                NaN                  NaN               NaN            NaN   \n",
       "4643            12016.0              13256.0               1.0          658.0   \n",
       "4876                NaN                  NaN               NaN            NaN   \n",
       "5076            29686.0               8389.0               3.0          397.0   \n",
       "5246                NaN                  NaN               NaN            NaN   \n",
       "5669            28981.0              10912.0               1.0          305.0   \n",
       "5807            18732.0              20444.0               0.0            NaN   \n",
       "6246            68923.0              50649.0               1.0          417.0   \n",
       "9379            11647.0              13581.0               0.0            NaN   \n",
       "10773               NaN                  NaN               NaN            NaN   \n",
       "11285               NaN                  NaN               NaN            NaN   \n",
       "14382               NaN                  NaN               NaN            NaN   \n",
       "17857           41030.0              15543.0               0.0            NaN   \n",
       "18545           27054.0               8033.0               1.0          540.0   \n",
       "20478           18975.0               3246.0               0.0            NaN   \n",
       "20507           27028.0              12570.0               0.0            NaN   \n",
       "21377           42742.0               9760.0               0.0            NaN   \n",
       "21824               NaN                  NaN               NaN            NaN   \n",
       "22336           18838.0               3506.0               0.0            NaN   \n",
       "22869           34963.0               8283.0               1.0          223.0   \n",
       "22938               NaN                  NaN               NaN            NaN   \n",
       "\n",
       "       ponds_around3000  ponds_nearest  days_exposition  \n",
       "355                 NaN            NaN            259.0  \n",
       "3148                NaN            NaN              NaN  \n",
       "4643                1.0          331.0            181.0  \n",
       "4876                NaN            NaN             28.0  \n",
       "5076                1.0          578.0              7.0  \n",
       "5246                NaN            NaN            540.0  \n",
       "5669                0.0            NaN            267.0  \n",
       "5807                3.0           80.0             38.0  \n",
       "6246                2.0           73.0              NaN  \n",
       "9379                0.0            NaN              NaN  \n",
       "10773               NaN            NaN             71.0  \n",
       "11285               NaN            NaN             18.0  \n",
       "14382               NaN            NaN            206.0  \n",
       "17857               0.0            NaN             73.0  \n",
       "18545               0.0            NaN             12.0  \n",
       "20478               3.0          449.0            429.0  \n",
       "20507               0.0            NaN             40.0  \n",
       "21377               0.0            NaN             61.0  \n",
       "21824               NaN            NaN              NaN  \n",
       "22336               3.0          511.0              NaN  \n",
       "22869               3.0           30.0             19.0  \n",
       "22938               NaN            NaN             27.0  "
      ]
     },
     "metadata": {},
     "output_type": "display_data"
    },
    {
     "data": {
      "text/plain": [
       "count    14504.000000\n",
       "mean         2.730849\n",
       "std          0.350473\n",
       "min          1.000000\n",
       "25%          2.510000\n",
       "50%          2.650000\n",
       "75%          2.800000\n",
       "max         20.000000\n",
       "Name: ceiling_height, dtype: float64"
      ]
     },
     "metadata": {},
     "output_type": "display_data"
    },
    {
     "data": {
      "text/plain": [
       "total_images                0\n",
       "last_price                  0\n",
       "total_area                  0\n",
       "first_day_exposition        0\n",
       "rooms                       0\n",
       "ceiling_height              0\n",
       "floors_total               86\n",
       "living_area              1903\n",
       "floor                       0\n",
       "is_apartment                0\n",
       "studio                      0\n",
       "open_plan                   0\n",
       "kitchen_area             2278\n",
       "balcony                     0\n",
       "locality_name              49\n",
       "airports_nearest         5542\n",
       "cityCenters_nearest      5519\n",
       "parks_around3000         5518\n",
       "parks_nearest           15620\n",
       "ponds_around3000         5518\n",
       "ponds_nearest           14589\n",
       "days_exposition          3181\n",
       "dtype: int64"
      ]
     },
     "execution_count": 9,
     "metadata": {},
     "output_type": "execute_result"
    }
   ],
   "source": [
    "\n",
    "display(data['ceiling_height'].describe())\n",
    "display(data.query('ceiling_height>20'))\n",
    "data['ceiling_height'] = np.where(data['ceiling_height']>20 , data['ceiling_height']*0.1, data['ceiling_height'])\n",
    "display(data['ceiling_height'].describe())\n",
    "data['ceiling_height'] = data['ceiling_height'].fillna(data['ceiling_height'].median())\n",
    "data.isna().sum()"
   ]
  },
  {
   "cell_type": "markdown",
   "metadata": {},
   "source": [
    "Высота потолка больше 20 метров является аномальной, скорее всего запятая стоит не там, где должна, поэтому значения больше 20 уменьшили в 10 раз. А пропуски заменили на медианное значение. "
   ]
  },
  {
   "cell_type": "markdown",
   "metadata": {},
   "source": [
    "#### Устранение пропусков в столбце floors_total"
   ]
  },
  {
   "cell_type": "code",
   "execution_count": 10,
   "metadata": {},
   "outputs": [
    {
     "data": {
      "text/plain": [
       "array([16., 11.,  5., 14., 12., 26., 24., 27.,  9.,  6., 17., 25.,  3.,\n",
       "       23., 19., 18.,  4., 22.,  8.,  2., 10.,  7., 13., 15., nan, 20.,\n",
       "       28., 36., 21., 35., 34., 60.,  1., 29., 33., 52., 37.])"
      ]
     },
     "metadata": {},
     "output_type": "display_data"
    },
    {
     "data": {
      "text/plain": [
       "count    23613.000000\n",
       "mean        10.673824\n",
       "std          6.597173\n",
       "min          1.000000\n",
       "25%          5.000000\n",
       "50%          9.000000\n",
       "75%         16.000000\n",
       "max         60.000000\n",
       "Name: floors_total, dtype: float64"
      ]
     },
     "metadata": {},
     "output_type": "display_data"
    },
    {
     "data": {
      "text/plain": [
       "0.0036288450989493226"
      ]
     },
     "metadata": {},
     "output_type": "display_data"
    },
    {
     "data": {
      "text/plain": [
       "total_images                0\n",
       "last_price                  0\n",
       "total_area                  0\n",
       "first_day_exposition        0\n",
       "rooms                       0\n",
       "ceiling_height              0\n",
       "floors_total                0\n",
       "living_area              1870\n",
       "floor                       0\n",
       "is_apartment                0\n",
       "studio                      0\n",
       "open_plan                   0\n",
       "kitchen_area             2231\n",
       "balcony                     0\n",
       "locality_name              48\n",
       "airports_nearest         5532\n",
       "cityCenters_nearest      5509\n",
       "parks_around3000         5508\n",
       "parks_nearest           15568\n",
       "ponds_around3000         5508\n",
       "ponds_nearest           14552\n",
       "days_exposition          3172\n",
       "dtype: int64"
      ]
     },
     "execution_count": 10,
     "metadata": {},
     "output_type": "execute_result"
    }
   ],
   "source": [
    "display(data['floors_total'].unique())\n",
    "display(data['floors_total'].describe())\n",
    "display(data['floors_total'].isna().mean())\n",
    "data = data.dropna(subset=['floors_total'])\n",
    "data.isna().sum()"
   ]
  },
  {
   "cell_type": "markdown",
   "metadata": {},
   "source": [
    "Строки, где отсутвует значение в столбце floors_total было решено удалить, так как они составляют меньше 1% от объема выборки."
   ]
  },
  {
   "cell_type": "markdown",
   "metadata": {},
   "source": [
    "#### Изучение пропусков в столбце kitchen_area"
   ]
  },
  {
   "cell_type": "code",
   "execution_count": 11,
   "metadata": {},
   "outputs": [
    {
     "data": {
      "text/plain": [
       "count    21382.000000\n",
       "mean        10.564128\n",
       "std          5.904316\n",
       "min          1.300000\n",
       "25%          7.000000\n",
       "50%          9.100000\n",
       "75%         12.000000\n",
       "max        112.000000\n",
       "Name: kitchen_area, dtype: float64"
      ]
     },
     "metadata": {},
     "output_type": "display_data"
    },
    {
     "data": {
      "text/plain": [
       "total_images            972\n",
       "last_price              972\n",
       "total_area              972\n",
       "first_day_exposition    972\n",
       "rooms                   972\n",
       "ceiling_height          972\n",
       "floors_total            972\n",
       "living_area             925\n",
       "floor                   972\n",
       "is_apartment            972\n",
       "studio                  972\n",
       "open_plan               972\n",
       "kitchen_area            972\n",
       "balcony                 972\n",
       "locality_name           967\n",
       "airports_nearest        892\n",
       "cityCenters_nearest     895\n",
       "parks_around3000        895\n",
       "parks_nearest           546\n",
       "ponds_around3000        895\n",
       "ponds_nearest           587\n",
       "days_exposition         738\n",
       "dtype: int64"
      ]
     },
     "metadata": {},
     "output_type": "display_data"
    },
    {
     "data": {
      "text/plain": [
       "total_images            1020\n",
       "last_price              1020\n",
       "total_area              1020\n",
       "first_day_exposition    1020\n",
       "rooms                   1020\n",
       "ceiling_height          1020\n",
       "floors_total            1020\n",
       "living_area              972\n",
       "floor                   1020\n",
       "is_apartment            1020\n",
       "studio                  1020\n",
       "open_plan               1020\n",
       "kitchen_area            1020\n",
       "balcony                 1020\n",
       "locality_name           1015\n",
       "airports_nearest         929\n",
       "cityCenters_nearest      932\n",
       "parks_around3000         932\n",
       "parks_nearest            565\n",
       "ponds_around3000         932\n",
       "ponds_nearest            609\n",
       "days_exposition          781\n",
       "dtype: int64"
      ]
     },
     "metadata": {},
     "output_type": "display_data"
    },
    {
     "data": {
      "text/plain": [
       "<AxesSubplot:>"
      ]
     },
     "metadata": {},
     "output_type": "display_data"
    },
    {
     "data": {
      "image/png": "[encoded data removed]",
      "text/plain": [
       "<Figure size 432x288 with 1 Axes>"
      ]
     },
     "metadata": {
      "needs_background": "light"
     },
     "output_type": "display_data"
    }
   ],
   "source": [
    "display(data['kitchen_area'].describe())\n",
    "display(data.query('kitchen_area>20 & total_area>50').count())\n",
    "display(data.query('kitchen_area>20').count())\n",
    "display(data['kitchen_area'].hist())"
   ]
  },
  {
   "cell_type": "markdown",
   "metadata": {},
   "source": [
    "Наличие большой кухни (больше 15 кв м ) нормально для больших квартир, поэтому не будем убирать эти записи из выборки. "
   ]
  },
  {
   "cell_type": "markdown",
   "metadata": {},
   "source": [
    "#### Устранение пропусков в столбцах living_area и kitchen_area"
   ]
  },
  {
   "cell_type": "code",
   "execution_count": 12,
   "metadata": {
    "scrolled": false
   },
   "outputs": [
    {
     "data": {
      "text/html": [
       "<div>\n",
       "<style scoped>\n",
       "    .dataframe tbody tr th:only-of-type {\n",
       "        vertical-align: middle;\n",
       "    }\n",
       "\n",
       "    .dataframe tbody tr th {\n",
       "        vertical-align: top;\n",
       "    }\n",
       "\n",
       "    .dataframe thead th {\n",
       "        text-align: right;\n",
       "    }\n",
       "</style>\n",
       "<table border=\"1\" class=\"dataframe\">\n",
       "  <thead>\n",
       "    <tr style=\"text-align: right;\">\n",
       "      <th></th>\n",
       "      <th>total_images</th>\n",
       "      <th>last_price</th>\n",
       "      <th>total_area</th>\n",
       "      <th>first_day_exposition</th>\n",
       "      <th>rooms</th>\n",
       "      <th>ceiling_height</th>\n",
       "      <th>floors_total</th>\n",
       "      <th>living_area</th>\n",
       "      <th>floor</th>\n",
       "      <th>is_apartment</th>\n",
       "      <th>studio</th>\n",
       "      <th>open_plan</th>\n",
       "      <th>kitchen_area</th>\n",
       "      <th>balcony</th>\n",
       "      <th>locality_name</th>\n",
       "      <th>airports_nearest</th>\n",
       "      <th>cityCenters_nearest</th>\n",
       "      <th>parks_around3000</th>\n",
       "      <th>parks_nearest</th>\n",
       "      <th>ponds_around3000</th>\n",
       "      <th>ponds_nearest</th>\n",
       "      <th>days_exposition</th>\n",
       "      <th>living_area_perc</th>\n",
       "    </tr>\n",
       "  </thead>\n",
       "  <tbody>\n",
       "  </tbody>\n",
       "</table>\n",
       "</div>"
      ],
      "text/plain": [
       "Empty DataFrame\n",
       "Columns: [total_images, last_price, total_area, first_day_exposition, rooms, ceiling_height, floors_total, living_area, floor, is_apartment, studio, open_plan, kitchen_area, balcony, locality_name, airports_nearest, cityCenters_nearest, parks_around3000, parks_nearest, ponds_around3000, ponds_nearest, days_exposition, living_area_perc]\n",
       "Index: []"
      ]
     },
     "metadata": {},
     "output_type": "display_data"
    },
    {
     "name": "stderr",
     "output_type": "stream",
     "text": [
      "/opt/conda/lib/python3.9/site-packages/numpy/lib/nanfunctions.py:1117: RuntimeWarning: Mean of empty slice\n",
      "  return np.nanmean(a, axis, out=out, keepdims=keepdims)\n"
     ]
    },
    {
     "data": {
      "text/html": [
       "<div>\n",
       "<style scoped>\n",
       "    .dataframe tbody tr th:only-of-type {\n",
       "        vertical-align: middle;\n",
       "    }\n",
       "\n",
       "    .dataframe tbody tr th {\n",
       "        vertical-align: top;\n",
       "    }\n",
       "\n",
       "    .dataframe thead th {\n",
       "        text-align: right;\n",
       "    }\n",
       "</style>\n",
       "<table border=\"1\" class=\"dataframe\">\n",
       "  <thead>\n",
       "    <tr style=\"text-align: right;\">\n",
       "      <th></th>\n",
       "      <th>total_images</th>\n",
       "      <th>last_price</th>\n",
       "      <th>total_area</th>\n",
       "      <th>first_day_exposition</th>\n",
       "      <th>rooms</th>\n",
       "      <th>ceiling_height</th>\n",
       "      <th>floors_total</th>\n",
       "      <th>living_area</th>\n",
       "      <th>floor</th>\n",
       "      <th>is_apartment</th>\n",
       "      <th>studio</th>\n",
       "      <th>open_plan</th>\n",
       "      <th>kitchen_area</th>\n",
       "      <th>balcony</th>\n",
       "      <th>locality_name</th>\n",
       "      <th>airports_nearest</th>\n",
       "      <th>cityCenters_nearest</th>\n",
       "      <th>parks_around3000</th>\n",
       "      <th>parks_nearest</th>\n",
       "      <th>ponds_around3000</th>\n",
       "      <th>ponds_nearest</th>\n",
       "      <th>days_exposition</th>\n",
       "      <th>living_area_perc</th>\n",
       "      <th>kitchen_area_perc</th>\n",
       "    </tr>\n",
       "  </thead>\n",
       "  <tbody>\n",
       "  </tbody>\n",
       "</table>\n",
       "</div>"
      ],
      "text/plain": [
       "Empty DataFrame\n",
       "Columns: [total_images, last_price, total_area, first_day_exposition, rooms, ceiling_height, floors_total, living_area, floor, is_apartment, studio, open_plan, kitchen_area, balcony, locality_name, airports_nearest, cityCenters_nearest, parks_around3000, parks_nearest, ponds_around3000, ponds_nearest, days_exposition, living_area_perc, kitchen_area_perc]\n",
       "Index: []"
      ]
     },
     "metadata": {},
     "output_type": "display_data"
    }
   ],
   "source": [
    "# заполняем пропуски в столбце living_area\n",
    "\n",
    "data['living_area_perc']=data['living_area']/data['total_area']\n",
    "\n",
    "for value in data['rooms'].unique():\n",
    "    data.loc[(data['rooms'] == value),'living_area_perc'] = \\\n",
    "    data.loc[(data['rooms'] == value), 'living_area_perc'].median()\n",
    "\n",
    "data['living_area'] = data['living_area'].fillna(data['living_area_perc']*data['total_area'])\n",
    "\n",
    "display(data.query('living_area>total_area'))\n",
    "\n",
    "# заполняем пропуски в столбце kitchen_area\n",
    "\n",
    "data['kitchen_area_perc']=data['kitchen_area']/data['total_area']\n",
    "\n",
    "for value in data['rooms'].unique():\n",
    "    data.loc[(data['rooms'] == value),'kitchen_area_perc'] = \\\n",
    "    data.loc[(data['rooms'] == value), 'kitchen_area_perc'].median()\n",
    "\n",
    "data['kitchen_area'] = data['kitchen_area'].fillna(data['kitchen_area_perc']*data['total_area'])\n",
    "\n",
    "\n",
    "display(data.query('kitchen_area>total_area'))\n",
    "\n"
   ]
  },
  {
   "cell_type": "markdown",
   "metadata": {},
   "source": [
    "Проверили данные на нестыковки:есть ли в выборке квартиры, где кухня или жилая площадь больше общей площади.Таких объявлений нет.\n",
    "Пропуски в столбце living_area решили заполнить следующим образом.\n",
    "Берем среднее для данного типа квартир отношение жилой площади к общей площади, таким образам получаем коэффициент, этот коэффициент умножаем на общую площадь квартиры. Аналогично решила заполнить пропуски в столбце с прощадью кухни. \n"
   ]
  },
  {
   "cell_type": "markdown",
   "metadata": {},
   "source": [
    "#### Анализ пропусков в столбце days_exposition"
   ]
  },
  {
   "cell_type": "code",
   "execution_count": 13,
   "metadata": {},
   "outputs": [
    {
     "data": {
      "text/plain": [
       "<AxesSubplot:>"
      ]
     },
     "metadata": {},
     "output_type": "display_data"
    },
    {
     "data": {
      "text/plain": [
       "count    20441.000000\n",
       "mean       180.884839\n",
       "std        219.685543\n",
       "min          1.000000\n",
       "25%         45.000000\n",
       "50%         95.000000\n",
       "75%        232.000000\n",
       "max       1580.000000\n",
       "Name: days_exposition, dtype: float64"
      ]
     },
     "metadata": {},
     "output_type": "display_data"
    },
    {
     "data": {
      "text/plain": [
       "<AxesSubplot:>"
      ]
     },
     "execution_count": 13,
     "metadata": {},
     "output_type": "execute_result"
    },
    {
     "data": {
      "image/png": "[encoded data removed]",
      "text/plain": [
       "<Figure size 432x288 with 1 Axes>"
      ]
     },
     "metadata": {
      "needs_background": "light"
     },
     "output_type": "display_data"
    }
   ],
   "source": [
    "display(data['days_exposition'].hist())\n",
    "display(data['days_exposition'].describe())\n",
    "data_without_days_exposition=data.loc[(data['days_exposition'].isna())]\n",
    "data_without_days_exposition['days_exposition'].hist()\n"
   ]
  },
  {
   "cell_type": "markdown",
   "metadata": {},
   "source": [
    "Заполнять пропуски в  days_exposition не будем, так как скорее всего они соответствуют активным объявлениям (еще не снятым с публикации). "
   ]
  },
  {
   "cell_type": "markdown",
   "metadata": {},
   "source": [
    "### Изменение типов данных"
   ]
  },
  {
   "cell_type": "markdown",
   "metadata": {},
   "source": [
    "#### Изменение типа данных столбца is_apartment"
   ]
  },
  {
   "cell_type": "code",
   "execution_count": 14,
   "metadata": {},
   "outputs": [
    {
     "name": "stdout",
     "output_type": "stream",
     "text": [
      "<class 'pandas.core.frame.DataFrame'>\n",
      "Int64Index: 23613 entries, 0 to 23698\n",
      "Data columns (total 24 columns):\n",
      " #   Column                Non-Null Count  Dtype  \n",
      "---  ------                --------------  -----  \n",
      " 0   total_images          23613 non-null  int64  \n",
      " 1   last_price            23613 non-null  float64\n",
      " 2   total_area            23613 non-null  float64\n",
      " 3   first_day_exposition  23613 non-null  object \n",
      " 4   rooms                 23613 non-null  int64  \n",
      " 5   ceiling_height        23613 non-null  float64\n",
      " 6   floors_total          23613 non-null  float64\n",
      " 7   living_area           23613 non-null  float64\n",
      " 8   floor                 23613 non-null  int64  \n",
      " 9   is_apartment          23613 non-null  bool   \n",
      " 10  studio                23613 non-null  bool   \n",
      " 11  open_plan             23613 non-null  bool   \n",
      " 12  kitchen_area          23419 non-null  float64\n",
      " 13  balcony               23613 non-null  float64\n",
      " 14  locality_name         23565 non-null  object \n",
      " 15  airports_nearest      18081 non-null  float64\n",
      " 16  cityCenters_nearest   18104 non-null  float64\n",
      " 17  parks_around3000      18105 non-null  float64\n",
      " 18  parks_nearest         8045 non-null   float64\n",
      " 19  ponds_around3000      18105 non-null  float64\n",
      " 20  ponds_nearest         9061 non-null   float64\n",
      " 21  days_exposition       20441 non-null  float64\n",
      " 22  living_area_perc      23613 non-null  float64\n",
      " 23  kitchen_area_perc     23419 non-null  float64\n",
      "dtypes: bool(3), float64(16), int64(3), object(2)\n",
      "memory usage: 4.0+ MB\n"
     ]
    }
   ],
   "source": [
    "try:\n",
    "    data['is_apartment'] = data['is_apartment'].astype('bool')\n",
    "except:\n",
    "    display('Не удалось  изменить тип данных столбца is_apartment')\n",
    "data.info()\n"
   ]
  },
  {
   "cell_type": "markdown",
   "metadata": {},
   "source": [
    "#### Изменение типа данных столбцов floors_total,days_exposition,balcony"
   ]
  },
  {
   "cell_type": "code",
   "execution_count": 15,
   "metadata": {},
   "outputs": [
    {
     "data": {
      "text/plain": [
       "'Не удалось  изменить тип данных столбца'"
      ]
     },
     "metadata": {},
     "output_type": "display_data"
    },
    {
     "name": "stdout",
     "output_type": "stream",
     "text": [
      "<class 'pandas.core.frame.DataFrame'>\n",
      "Int64Index: 23613 entries, 0 to 23698\n",
      "Data columns (total 24 columns):\n",
      " #   Column                Non-Null Count  Dtype  \n",
      "---  ------                --------------  -----  \n",
      " 0   total_images          23613 non-null  int64  \n",
      " 1   last_price            23613 non-null  float64\n",
      " 2   total_area            23613 non-null  float64\n",
      " 3   first_day_exposition  23613 non-null  object \n",
      " 4   rooms                 23613 non-null  int64  \n",
      " 5   ceiling_height        23613 non-null  float64\n",
      " 6   floors_total          23613 non-null  float64\n",
      " 7   living_area           23613 non-null  float64\n",
      " 8   floor                 23613 non-null  int64  \n",
      " 9   is_apartment          23613 non-null  bool   \n",
      " 10  studio                23613 non-null  bool   \n",
      " 11  open_plan             23613 non-null  bool   \n",
      " 12  kitchen_area          23419 non-null  float64\n",
      " 13  balcony               23613 non-null  float64\n",
      " 14  locality_name         23565 non-null  object \n",
      " 15  airports_nearest      18081 non-null  float64\n",
      " 16  cityCenters_nearest   18104 non-null  float64\n",
      " 17  parks_around3000      18105 non-null  float64\n",
      " 18  parks_nearest         8045 non-null   float64\n",
      " 19  ponds_around3000      18105 non-null  float64\n",
      " 20  ponds_nearest         9061 non-null   float64\n",
      " 21  days_exposition       20441 non-null  float64\n",
      " 22  living_area_perc      23613 non-null  float64\n",
      " 23  kitchen_area_perc     23419 non-null  float64\n",
      "dtypes: bool(3), float64(16), int64(3), object(2)\n",
      "memory usage: 4.0+ MB\n"
     ]
    }
   ],
   "source": [
    "try:\n",
    "    data[['floors_total', 'days_exposition','balcony']]=data[['floors_total', 'days_exposition','balcony']].astype('int64')\n",
    "except:\n",
    "    display('Не удалось  изменить тип данных столбца')\n",
    "data.info()"
   ]
  },
  {
   "cell_type": "markdown",
   "metadata": {},
   "source": [
    "#### Изменение типа данных столбца first_day_exposition"
   ]
  },
  {
   "cell_type": "code",
   "execution_count": 16,
   "metadata": {},
   "outputs": [
    {
     "name": "stdout",
     "output_type": "stream",
     "text": [
      "<class 'pandas.core.frame.DataFrame'>\n",
      "Int64Index: 23613 entries, 0 to 23698\n",
      "Data columns (total 24 columns):\n",
      " #   Column                Non-Null Count  Dtype         \n",
      "---  ------                --------------  -----         \n",
      " 0   total_images          23613 non-null  int64         \n",
      " 1   last_price            23613 non-null  float64       \n",
      " 2   total_area            23613 non-null  float64       \n",
      " 3   first_day_exposition  23613 non-null  datetime64[ns]\n",
      " 4   rooms                 23613 non-null  int64         \n",
      " 5   ceiling_height        23613 non-null  float64       \n",
      " 6   floors_total          23613 non-null  float64       \n",
      " 7   living_area           23613 non-null  float64       \n",
      " 8   floor                 23613 non-null  int64         \n",
      " 9   is_apartment          23613 non-null  bool          \n",
      " 10  studio                23613 non-null  bool          \n",
      " 11  open_plan             23613 non-null  bool          \n",
      " 12  kitchen_area          23419 non-null  float64       \n",
      " 13  balcony               23613 non-null  float64       \n",
      " 14  locality_name         23565 non-null  object        \n",
      " 15  airports_nearest      18081 non-null  float64       \n",
      " 16  cityCenters_nearest   18104 non-null  float64       \n",
      " 17  parks_around3000      18105 non-null  float64       \n",
      " 18  parks_nearest         8045 non-null   float64       \n",
      " 19  ponds_around3000      18105 non-null  float64       \n",
      " 20  ponds_nearest         9061 non-null   float64       \n",
      " 21  days_exposition       20441 non-null  float64       \n",
      " 22  living_area_perc      23613 non-null  float64       \n",
      " 23  kitchen_area_perc     23419 non-null  float64       \n",
      "dtypes: bool(3), datetime64[ns](1), float64(16), int64(3), object(1)\n",
      "memory usage: 4.0+ MB\n"
     ]
    }
   ],
   "source": [
    "try:\n",
    "    data['first_day_exposition']=pd.to_datetime(data['first_day_exposition'], format='%Y-%m-%dT%H:%M:%S')\n",
    "except:\n",
    "    display('Не удалось  изменить тип данных столбца first_day_exposition')\n",
    "data.info() "
   ]
  },
  {
   "cell_type": "markdown",
   "metadata": {},
   "source": [
    "Столбец is_apartment в описании был задан как столбец булев тип. Количество этажей, количество балконов и количество дней публикации объявления являются целым числом.Изменили тип данных столбца first_day_exposition на datetime."
   ]
  },
  {
   "cell_type": "markdown",
   "metadata": {},
   "source": [
    "### Устранение выбросов"
   ]
  },
  {
   "cell_type": "code",
   "execution_count": 17,
   "metadata": {},
   "outputs": [
    {
     "data": {
      "text/plain": [
       "count    23613.000000\n",
       "mean         2.699612\n",
       "std          0.277470\n",
       "min          1.000000\n",
       "25%          2.600000\n",
       "50%          2.650000\n",
       "75%          2.700000\n",
       "max         20.000000\n",
       "Name: ceiling_height, dtype: float64"
      ]
     },
     "metadata": {},
     "output_type": "display_data"
    },
    {
     "data": {
      "image/png": "[encoded data removed]",
      "text/plain": [
       "<Figure size 432x288 with 1 Axes>"
      ]
     },
     "metadata": {
      "needs_background": "light"
     },
     "output_type": "display_data"
    }
   ],
   "source": [
    "data.boxplot(column=['ceiling_height'])\n",
    "display(data['ceiling_height'].describe())\n",
    "plt.ylim(0,10)\n",
    "plt.show()"
   ]
  },
  {
   "cell_type": "code",
   "execution_count": 18,
   "metadata": {},
   "outputs": [
    {
     "data": {
      "text/plain": [
       "count    23613.000000\n",
       "mean         2.071147\n",
       "std          1.078380\n",
       "min          0.000000\n",
       "25%          1.000000\n",
       "50%          2.000000\n",
       "75%          3.000000\n",
       "max         19.000000\n",
       "Name: rooms, dtype: float64"
      ]
     },
     "metadata": {},
     "output_type": "display_data"
    },
    {
     "data": {
      "image/png": "[encoded data removed]",
      "text/plain": [
       "<Figure size 432x288 with 1 Axes>"
      ]
     },
     "metadata": {
      "needs_background": "light"
     },
     "output_type": "display_data"
    }
   ],
   "source": [
    "data.boxplot(column=['rooms'])\n",
    "display(data['rooms'].describe())\n",
    "plt.show()"
   ]
  },
  {
   "cell_type": "code",
   "execution_count": 19,
   "metadata": {},
   "outputs": [
    {
     "data": {
      "text/plain": [
       "count    23613.000000\n",
       "mean        60.340678\n",
       "std         35.648988\n",
       "min         12.000000\n",
       "25%         40.000000\n",
       "50%         52.000000\n",
       "75%         69.800000\n",
       "max        900.000000\n",
       "Name: total_area, dtype: float64"
      ]
     },
     "metadata": {},
     "output_type": "display_data"
    },
    {
     "data": {
      "image/png": "[encoded data removed]",
      "text/plain": [
       "<Figure size 432x288 with 1 Axes>"
      ]
     },
     "metadata": {
      "needs_background": "light"
     },
     "output_type": "display_data"
    }
   ],
   "source": [
    "data.boxplot(column=['total_area'])\n",
    "display(data['total_area'].describe())\n",
    "plt.show()"
   ]
  },
  {
   "cell_type": "code",
   "execution_count": 20,
   "metadata": {},
   "outputs": [
    {
     "data": {
      "image/png": "[encoded data removed]",
      "text/plain": [
       "<Figure size 432x288 with 1 Axes>"
      ]
     },
     "metadata": {
      "needs_background": "light"
     },
     "output_type": "display_data"
    },
    {
     "data": {
      "text/plain": [
       "count    23613.000000\n",
       "mean         6.540555\n",
       "std         10.901723\n",
       "min          0.012190\n",
       "25%          3.400000\n",
       "50%          4.650000\n",
       "75%          6.799000\n",
       "max        763.000000\n",
       "Name: last_price_mln, dtype: float64"
      ]
     },
     "metadata": {},
     "output_type": "display_data"
    }
   ],
   "source": [
    "data['last_price_mln']=data['last_price']*0.000001\n",
    "data.boxplot(column=['last_price_mln'])\n",
    "plt.ylim(0,20)\n",
    "plt.show()\n",
    "display(data['last_price_mln'].describe())"
   ]
  },
  {
   "cell_type": "code",
   "execution_count": 21,
   "metadata": {},
   "outputs": [
    {
     "data": {
      "text/plain": [
       "count    20441.000000\n",
       "mean       180.884839\n",
       "std        219.685543\n",
       "min          1.000000\n",
       "25%         45.000000\n",
       "50%         95.000000\n",
       "75%        232.000000\n",
       "max       1580.000000\n",
       "Name: days_exposition, dtype: float64"
      ]
     },
     "metadata": {},
     "output_type": "display_data"
    },
    {
     "data": {
      "image/png": "[encoded data removed]",
      "text/plain": [
       "<Figure size 432x288 with 1 Axes>"
      ]
     },
     "metadata": {
      "needs_background": "light"
     },
     "output_type": "display_data"
    }
   ],
   "source": [
    "data.boxplot(column=['days_exposition'])\n",
    "display(data['days_exposition'].describe())\n",
    "plt.show()"
   ]
  },
  {
   "cell_type": "code",
   "execution_count": 22,
   "metadata": {},
   "outputs": [],
   "source": [
    "data=data.query('rooms<7 & total_area<120  & ceiling_height<6 & last_price_mln<12')"
   ]
  },
  {
   "cell_type": "markdown",
   "metadata": {},
   "source": [
    "В результате анализа выбросов было решено оставить в выборке квартиры со следующими параметрами:  \n",
    "количество комнат меньше 7  \n",
    "общая площадь меньше 120   \n",
    "высота потолка меньше 6  \n",
    "цена меньше 12 млн  "
   ]
  },
  {
   "cell_type": "markdown",
   "metadata": {},
   "source": [
    "### Создание новых столбцов"
   ]
  },
  {
   "cell_type": "markdown",
   "metadata": {},
   "source": [
    "#### Создание столбца с кратким наименованием населенного пункта"
   ]
  },
  {
   "cell_type": "code",
   "execution_count": 23,
   "metadata": {},
   "outputs": [
    {
     "data": {
      "text/plain": [
       "санкт-петербург               13630\n",
       "мурино                          586\n",
       "кудрово                         468\n",
       "шушары                          438\n",
       "всеволожск                      394\n",
       "пушкин                          338\n",
       "колпино                         335\n",
       "парголово                       326\n",
       "гатчина                         303\n",
       "выборг                          232\n",
       "петергоф                        195\n",
       "красное село                    173\n",
       "сестрорецк                      165\n",
       "сертолово                       141\n",
       "новое девяткино                 141\n",
       "ломоносов                       129\n",
       "кириши                          125\n",
       "бугры                           113\n",
       "сланцы                          112\n",
       "волхов                          111\n",
       "кингисепп                       104\n",
       "тосно                           103\n",
       "кронштадт                        94\n",
       "никольское                       94\n",
       "коммунар                         89\n",
       "сосновый бор                     86\n",
       "кировск                          84\n",
       "отрадное                         80\n",
       "янино-1                          68\n",
       "приозерск                        66\n",
       "металлострой                     65\n",
       "старая                           64\n",
       "шлиссельбург                     57\n",
       "луга                             56\n",
       "тихвин                           49\n",
       "тельмана                         41\n",
       "стрельна                         40\n",
       "рощино                           39\n",
       "имени свердлова                  36\n",
       "волосово                         36\n",
       "романовка                        36\n",
       "павловск                         36\n",
       "кузьмоловский                    35\n",
       "мга                              33\n",
       "сиверский                        29\n",
       "ивангород                        28\n",
       "новоселье                        27\n",
       "сясьстрой                        24\n",
       "щеглово                          23\n",
       "вырица                           22\n",
       "новый свет                       22\n",
       "зеленогорск                      21\n",
       "вартемяги                        20\n",
       "новогорелово                     20\n",
       "синявино                         20\n",
       "понтонный                        20\n",
       "лодейное поле                    20\n",
       "лесколово                        20\n",
       "подпорожье                       19\n",
       "токсово                          19\n",
       "пикалёво                         18\n",
       "павлово                          18\n",
       "большая ижора                    17\n",
       "имени морозова                   17\n",
       "гарболово                        17\n",
       "назия                            17\n",
       "бегуницы                         17\n",
       "сосново                          17\n",
       "большие колпаны                  16\n",
       "бокситогорск                     16\n",
       "рахья                            16\n",
       "аннино                           16\n",
       "дубровка                         15\n",
       "горбунки                         15\n",
       "лебяжье                          15\n",
       "фёдоровское                      15\n",
       "новая ладога                     14\n",
       "ульяновка                        13\n",
       "елизаветино                      13\n",
       "кузнечное                        13\n",
       "каменногорск                     13\n",
       "малое верево                     11\n",
       "советский                        11\n",
       "мичуринское                      11\n",
       "белогорка                        11\n",
       "светогорск                       11\n",
       "мистолово                        11\n",
       "колтуши                          11\n",
       "любань                           11\n",
       "гостилицы                        11\n",
       "низино                           10\n",
       "лаголово                         10\n",
       "сяськелево                       10\n",
       "нурма                            10\n",
       "приладожский                     10\n",
       "войсковицы                       10\n",
       "молодцово                         9\n",
       "сельцо                            9\n",
       "малое карлино                     9\n",
       "кобралово                         9\n",
       "русско-высоцкое                   9\n",
       "пудость                           9\n",
       "оржицы                            9\n",
       "батово                            9\n",
       "стеклянный                        8\n",
       "приморск                          8\n",
       "первомайское                      8\n",
       "калитино                          8\n",
       "запорожское                       8\n",
       "красный бор                       8\n",
       "суходолье                         8\n",
       "ильичёво                          8\n",
       "малые колпаны                     7\n",
       "никольский                        7\n",
       "извара                            7\n",
       "кипень                            7\n",
       "кузьмолово                        7\n",
       "углово                            7\n",
       "куттузи                           7\n",
       "сапёрный                          6\n",
       "победа                            6\n",
       "ушаки                             6\n",
       "лампово                           6\n",
       "терволово                         6\n",
       "пудомяги                          6\n",
       "лопухинка                         6\n",
       "поляны                            6\n",
       "форносово                         6\n",
       "яльгелево                         6\n",
       "громово                           6\n",
       "важины                            6\n",
       "заневка                           6\n",
       "кальтино                          6\n",
       "пеники                            6\n",
       "кобринское                        6\n",
       "новый учхоз                       6\n",
       "тайцы                             6\n",
       "селезнёво                         5\n",
       "дружная горка                     5\n",
       "молодёжное                        5\n",
       "глажево                           5\n",
       "войскорово                        5\n",
       "юкки                              5\n",
       "гаврилово                         5\n",
       "мельниково                        5\n",
       "копорье                           5\n",
       "усть-луга                         5\n",
       "петровское                        5\n",
       "плодовое                          5\n",
       "семрино                           5\n",
       "лесогорский                       5\n",
       "вещево                            5\n",
       "келози                            4\n",
       "разметелево                       4\n",
       "агалатово                         4\n",
       "разбегаево                        4\n",
       "песочный                          4\n",
       "торфяное                          4\n",
       "цвелодубово                       4\n",
       "зимитицы                          4\n",
       "суйда                             4\n",
       "парицы                            4\n",
       "старая малукса                    4\n",
       "рябово                            4\n",
       "перово                            4\n",
       "большая вруда                     4\n",
       "высоцк                            4\n",
       "кикерино                          4\n",
       "будогощь                          4\n",
       "заводской                         3\n",
       "котельский                        3\n",
       "жилгородок                        3\n",
       "рождествено                       3\n",
       "аро                               3\n",
       "старосиверская                    3\n",
       "торосово                          3\n",
       "лукаши                            3\n",
       "виллози                           3\n",
       "возрождение                       3\n",
       "ваганово                          3\n",
       "торошковичи                       3\n",
       "пригородный                       3\n",
       "старополье                        3\n",
       "приветнинское                     3\n",
       "красная долина                    3\n",
       "глебычево                         3\n",
       "рабитицы                          3\n",
       "лисий нос                         3\n",
       "оредеж                            3\n",
       "торковичи                         3\n",
       "ефимовский                        3\n",
       "заклинье                          3\n",
       "лесное                            2\n",
       "житково                           2\n",
       "совхозный                         2\n",
       "старая пустошь                    2\n",
       "сумино                            2\n",
       "старая ладога                     2\n",
       "суоранда                          2\n",
       "ям-тесово                         2\n",
       "старые бегуницы                   2\n",
       "мины                              2\n",
       "вознесенье                        2\n",
       "коркино                           2\n",
       "репино                            2\n",
       "коробицыно                        2\n",
       "барышево                          2\n",
       "камышовка                         2\n",
       "глинка                            2\n",
       "зелёный бор                       2\n",
       "фалилеево                         2\n",
       "усть-ижора                        2\n",
       "сапёрное                          2\n",
       "тарасово                          2\n",
       "пушное                            2\n",
       "паша                              2\n",
       "выскатка                          2\n",
       "свирь                             2\n",
       "серебрянский                      2\n",
       "починок                           2\n",
       "кингисеппский                     2\n",
       "путилово                          2\n",
       "ненимяки                          2\n",
       "ленинское                         2\n",
       "коттеджный кивеннапа север        1\n",
       "лесная поляна                     1\n",
       "гладкое                           1\n",
       "старое хинколово                  1\n",
       "кирпичное                         1\n",
       "ялгино                            1\n",
       "реброво                           1\n",
       "курковицы                         1\n",
       "снегирёвка                        1\n",
       "почап                             1\n",
       "вахнова кара                      1\n",
       "жилпосёлок                        1\n",
       "севастьяново                      1\n",
       "семиозерье                        1\n",
       "новолисино                        1\n",
       "кондратьево                       1\n",
       "красносельское                    1\n",
       "александровская                   1\n",
       "володарское                       1\n",
       "пчева                             1\n",
       "мануйлово                         1\n",
       "69-й километр                     1\n",
       "шпаньково                         1\n",
       "корнево                           1\n",
       "тёсово-4                          1\n",
       "свирьстрой                        1\n",
       "большое рейзино                   1\n",
       "пчевжа                            1\n",
       "сижно                             1\n",
       "пустынка                          1\n",
       "русско                            1\n",
       "чудской бор                       1\n",
       "высокоключевой                    1\n",
       "нижние осельки                    1\n",
       "каськово                          1\n",
       "нижняя                            1\n",
       "пикколово                         1\n",
       "белоостров                        1\n",
       "кривко                            1\n",
       "новая ропша                       1\n",
       "терпилицы                         1\n",
       "ропша                             1\n",
       "шугозеро                          1\n",
       "левашово                          1\n",
       "каложицы                          1\n",
       "пельгора                          1\n",
       "цвылёво                           1\n",
       "коттеджный лесное                 1\n",
       "ромашки                           1\n",
       "кисельня                          1\n",
       "рапполово                         1\n",
       "хапо-ое                           1\n",
       "садко                             1\n",
       "плоское                           1\n",
       "гончарово                         1\n",
       "тойворово                         1\n",
       "мыза-ивановка                     1\n",
       "дружноселье                       1\n",
       "раздолье                          1\n",
       "дзержинского                      1\n",
       "котлы                             1\n",
       "меньково                          1\n",
       "куровицы                          1\n",
       "тихковицы                         1\n",
       "большая пустомержа                1\n",
       "петро-славянка                    1\n",
       "коттеджный счастье                1\n",
       "лупполово                         1\n",
       "форт красная горка                1\n",
       "большой сабск                     1\n",
       "борисова грива                    1\n",
       "коммунары                         1\n",
       "малая романовка                   1\n",
       "шум                               1\n",
       "иссад                             1\n",
       "лужайка                           1\n",
       "алексеевка                        1\n",
       "пижма                             1\n",
       "лаврики                           1\n",
       "трубников бор                     1\n",
       "бор                               1\n",
       "Name: short_locality_name, dtype: int64"
      ]
     },
     "metadata": {},
     "output_type": "display_data"
    }
   ],
   "source": [
    "\n",
    "data['locality_name'] = data['locality_name'].str.lower()\n",
    "\n",
    "\n",
    "data['short_locality_name']=data['locality_name']\n",
    "\n",
    "s = ['посёлок городского типа ',\n",
    "               'посёлок ', 'городской посёлок ',\n",
    "               'деревня ','поселок ',\n",
    "               'городского типа ',\n",
    "               'станции ',\n",
    "               'пансионат ',\n",
    "               'садовое товарищество ',\n",
    "               'городской ',\n",
    "               'садоводческое некоммерческое товарищество ',\n",
    "               'село ',\n",
    "               'посёлок при железнодорожной станции ',\n",
    "               'при железнодорожной ',\n",
    "               'платформа ']\n",
    "data['short_locality_name']=data['short_locality_name'].replace(s, '',regex=True)\n",
    "\n",
    "display(data['short_locality_name'].value_counts()) "
   ]
  },
  {
   "cell_type": "markdown",
   "metadata": {},
   "source": [
    "#### Создание столбца с ценой одного квадратного метра"
   ]
  },
  {
   "cell_type": "code",
   "execution_count": 24,
   "metadata": {},
   "outputs": [
    {
     "data": {
      "text/html": [
       "<div>\n",
       "<style scoped>\n",
       "    .dataframe tbody tr th:only-of-type {\n",
       "        vertical-align: middle;\n",
       "    }\n",
       "\n",
       "    .dataframe tbody tr th {\n",
       "        vertical-align: top;\n",
       "    }\n",
       "\n",
       "    .dataframe thead th {\n",
       "        text-align: right;\n",
       "    }\n",
       "</style>\n",
       "<table border=\"1\" class=\"dataframe\">\n",
       "  <thead>\n",
       "    <tr style=\"text-align: right;\">\n",
       "      <th></th>\n",
       "      <th>total_images</th>\n",
       "      <th>last_price</th>\n",
       "      <th>total_area</th>\n",
       "      <th>first_day_exposition</th>\n",
       "      <th>rooms</th>\n",
       "      <th>ceiling_height</th>\n",
       "      <th>floors_total</th>\n",
       "      <th>living_area</th>\n",
       "      <th>floor</th>\n",
       "      <th>is_apartment</th>\n",
       "      <th>studio</th>\n",
       "      <th>open_plan</th>\n",
       "      <th>kitchen_area</th>\n",
       "      <th>balcony</th>\n",
       "      <th>locality_name</th>\n",
       "      <th>airports_nearest</th>\n",
       "      <th>cityCenters_nearest</th>\n",
       "      <th>parks_around3000</th>\n",
       "      <th>parks_nearest</th>\n",
       "      <th>ponds_around3000</th>\n",
       "      <th>ponds_nearest</th>\n",
       "      <th>days_exposition</th>\n",
       "      <th>living_area_perc</th>\n",
       "      <th>kitchen_area_perc</th>\n",
       "      <th>last_price_mln</th>\n",
       "      <th>short_locality_name</th>\n",
       "      <th>price_per_meter</th>\n",
       "    </tr>\n",
       "  </thead>\n",
       "  <tbody>\n",
       "    <tr>\n",
       "      <th>1</th>\n",
       "      <td>7</td>\n",
       "      <td>3350000.0</td>\n",
       "      <td>40.4</td>\n",
       "      <td>2018-12-04</td>\n",
       "      <td>1</td>\n",
       "      <td>2.65</td>\n",
       "      <td>11.0</td>\n",
       "      <td>18.6</td>\n",
       "      <td>1</td>\n",
       "      <td>False</td>\n",
       "      <td>False</td>\n",
       "      <td>False</td>\n",
       "      <td>11.0</td>\n",
       "      <td>2.0</td>\n",
       "      <td>посёлок шушары</td>\n",
       "      <td>12817.0</td>\n",
       "      <td>18603.0</td>\n",
       "      <td>0.0</td>\n",
       "      <td>NaN</td>\n",
       "      <td>0.0</td>\n",
       "      <td>NaN</td>\n",
       "      <td>81.0</td>\n",
       "      <td>0.482638</td>\n",
       "      <td>0.247788</td>\n",
       "      <td>3.350</td>\n",
       "      <td>шушары</td>\n",
       "      <td>82920.792079</td>\n",
       "    </tr>\n",
       "    <tr>\n",
       "      <th>2</th>\n",
       "      <td>10</td>\n",
       "      <td>5196000.0</td>\n",
       "      <td>56.0</td>\n",
       "      <td>2015-08-20</td>\n",
       "      <td>2</td>\n",
       "      <td>2.65</td>\n",
       "      <td>5.0</td>\n",
       "      <td>34.3</td>\n",
       "      <td>4</td>\n",
       "      <td>False</td>\n",
       "      <td>False</td>\n",
       "      <td>False</td>\n",
       "      <td>8.3</td>\n",
       "      <td>0.0</td>\n",
       "      <td>санкт-петербург</td>\n",
       "      <td>21741.0</td>\n",
       "      <td>13933.0</td>\n",
       "      <td>1.0</td>\n",
       "      <td>90.0</td>\n",
       "      <td>2.0</td>\n",
       "      <td>574.0</td>\n",
       "      <td>558.0</td>\n",
       "      <td>0.585366</td>\n",
       "      <td>0.161050</td>\n",
       "      <td>5.196</td>\n",
       "      <td>санкт-петербург</td>\n",
       "      <td>92785.714286</td>\n",
       "    </tr>\n",
       "    <tr>\n",
       "      <th>4</th>\n",
       "      <td>2</td>\n",
       "      <td>10000000.0</td>\n",
       "      <td>100.0</td>\n",
       "      <td>2018-06-19</td>\n",
       "      <td>2</td>\n",
       "      <td>3.03</td>\n",
       "      <td>14.0</td>\n",
       "      <td>32.0</td>\n",
       "      <td>13</td>\n",
       "      <td>False</td>\n",
       "      <td>False</td>\n",
       "      <td>False</td>\n",
       "      <td>41.0</td>\n",
       "      <td>0.0</td>\n",
       "      <td>санкт-петербург</td>\n",
       "      <td>31856.0</td>\n",
       "      <td>8098.0</td>\n",
       "      <td>2.0</td>\n",
       "      <td>112.0</td>\n",
       "      <td>1.0</td>\n",
       "      <td>48.0</td>\n",
       "      <td>121.0</td>\n",
       "      <td>0.585366</td>\n",
       "      <td>0.161050</td>\n",
       "      <td>10.000</td>\n",
       "      <td>санкт-петербург</td>\n",
       "      <td>100000.000000</td>\n",
       "    </tr>\n",
       "    <tr>\n",
       "      <th>5</th>\n",
       "      <td>10</td>\n",
       "      <td>2890000.0</td>\n",
       "      <td>30.4</td>\n",
       "      <td>2018-09-10</td>\n",
       "      <td>1</td>\n",
       "      <td>2.65</td>\n",
       "      <td>12.0</td>\n",
       "      <td>14.4</td>\n",
       "      <td>5</td>\n",
       "      <td>False</td>\n",
       "      <td>False</td>\n",
       "      <td>False</td>\n",
       "      <td>9.1</td>\n",
       "      <td>0.0</td>\n",
       "      <td>городской посёлок янино-1</td>\n",
       "      <td>NaN</td>\n",
       "      <td>NaN</td>\n",
       "      <td>NaN</td>\n",
       "      <td>NaN</td>\n",
       "      <td>NaN</td>\n",
       "      <td>NaN</td>\n",
       "      <td>55.0</td>\n",
       "      <td>0.482638</td>\n",
       "      <td>0.247788</td>\n",
       "      <td>2.890</td>\n",
       "      <td>янино-1</td>\n",
       "      <td>95065.789474</td>\n",
       "    </tr>\n",
       "    <tr>\n",
       "      <th>6</th>\n",
       "      <td>6</td>\n",
       "      <td>3700000.0</td>\n",
       "      <td>37.3</td>\n",
       "      <td>2017-11-02</td>\n",
       "      <td>1</td>\n",
       "      <td>2.65</td>\n",
       "      <td>26.0</td>\n",
       "      <td>10.6</td>\n",
       "      <td>6</td>\n",
       "      <td>False</td>\n",
       "      <td>False</td>\n",
       "      <td>False</td>\n",
       "      <td>14.4</td>\n",
       "      <td>1.0</td>\n",
       "      <td>посёлок парголово</td>\n",
       "      <td>52996.0</td>\n",
       "      <td>19143.0</td>\n",
       "      <td>0.0</td>\n",
       "      <td>NaN</td>\n",
       "      <td>0.0</td>\n",
       "      <td>NaN</td>\n",
       "      <td>155.0</td>\n",
       "      <td>0.482638</td>\n",
       "      <td>0.247788</td>\n",
       "      <td>3.700</td>\n",
       "      <td>парголово</td>\n",
       "      <td>99195.710456</td>\n",
       "    </tr>\n",
       "  </tbody>\n",
       "</table>\n",
       "</div>"
      ],
      "text/plain": [
       "   total_images  last_price  total_area first_day_exposition  rooms  \\\n",
       "1             7   3350000.0        40.4           2018-12-04      1   \n",
       "2            10   5196000.0        56.0           2015-08-20      2   \n",
       "4             2  10000000.0       100.0           2018-06-19      2   \n",
       "5            10   2890000.0        30.4           2018-09-10      1   \n",
       "6             6   3700000.0        37.3           2017-11-02      1   \n",
       "\n",
       "   ceiling_height  floors_total  living_area  floor  is_apartment  studio  \\\n",
       "1            2.65          11.0         18.6      1         False   False   \n",
       "2            2.65           5.0         34.3      4         False   False   \n",
       "4            3.03          14.0         32.0     13         False   False   \n",
       "5            2.65          12.0         14.4      5         False   False   \n",
       "6            2.65          26.0         10.6      6         False   False   \n",
       "\n",
       "   open_plan  kitchen_area  balcony              locality_name  \\\n",
       "1      False          11.0      2.0             посёлок шушары   \n",
       "2      False           8.3      0.0            санкт-петербург   \n",
       "4      False          41.0      0.0            санкт-петербург   \n",
       "5      False           9.1      0.0  городской посёлок янино-1   \n",
       "6      False          14.4      1.0          посёлок парголово   \n",
       "\n",
       "   airports_nearest  cityCenters_nearest  parks_around3000  parks_nearest  \\\n",
       "1           12817.0              18603.0               0.0            NaN   \n",
       "2           21741.0              13933.0               1.0           90.0   \n",
       "4           31856.0               8098.0               2.0          112.0   \n",
       "5               NaN                  NaN               NaN            NaN   \n",
       "6           52996.0              19143.0               0.0            NaN   \n",
       "\n",
       "   ponds_around3000  ponds_nearest  days_exposition  living_area_perc  \\\n",
       "1               0.0            NaN             81.0          0.482638   \n",
       "2               2.0          574.0            558.0          0.585366   \n",
       "4               1.0           48.0            121.0          0.585366   \n",
       "5               NaN            NaN             55.0          0.482638   \n",
       "6               0.0            NaN            155.0          0.482638   \n",
       "\n",
       "   kitchen_area_perc  last_price_mln short_locality_name  price_per_meter  \n",
       "1           0.247788           3.350              шушары     82920.792079  \n",
       "2           0.161050           5.196     санкт-петербург     92785.714286  \n",
       "4           0.161050          10.000     санкт-петербург    100000.000000  \n",
       "5           0.247788           2.890             янино-1     95065.789474  \n",
       "6           0.247788           3.700           парголово     99195.710456  "
      ]
     },
     "metadata": {},
     "output_type": "display_data"
    }
   ],
   "source": [
    "data['price_per_meter']=data['last_price']/data['total_area']\n",
    "display(data.head())"
   ]
  },
  {
   "cell_type": "markdown",
   "metadata": {},
   "source": [
    "#### Создание столбца с днем недели, месяцем и годом даты подачи объявления"
   ]
  },
  {
   "cell_type": "code",
   "execution_count": 25,
   "metadata": {},
   "outputs": [
    {
     "data": {
      "text/html": [
       "<div>\n",
       "<style scoped>\n",
       "    .dataframe tbody tr th:only-of-type {\n",
       "        vertical-align: middle;\n",
       "    }\n",
       "\n",
       "    .dataframe tbody tr th {\n",
       "        vertical-align: top;\n",
       "    }\n",
       "\n",
       "    .dataframe thead th {\n",
       "        text-align: right;\n",
       "    }\n",
       "</style>\n",
       "<table border=\"1\" class=\"dataframe\">\n",
       "  <thead>\n",
       "    <tr style=\"text-align: right;\">\n",
       "      <th></th>\n",
       "      <th>total_images</th>\n",
       "      <th>last_price</th>\n",
       "      <th>total_area</th>\n",
       "      <th>first_day_exposition</th>\n",
       "      <th>rooms</th>\n",
       "      <th>ceiling_height</th>\n",
       "      <th>floors_total</th>\n",
       "      <th>living_area</th>\n",
       "      <th>floor</th>\n",
       "      <th>is_apartment</th>\n",
       "      <th>studio</th>\n",
       "      <th>open_plan</th>\n",
       "      <th>kitchen_area</th>\n",
       "      <th>balcony</th>\n",
       "      <th>locality_name</th>\n",
       "      <th>airports_nearest</th>\n",
       "      <th>cityCenters_nearest</th>\n",
       "      <th>parks_around3000</th>\n",
       "      <th>parks_nearest</th>\n",
       "      <th>ponds_around3000</th>\n",
       "      <th>ponds_nearest</th>\n",
       "      <th>days_exposition</th>\n",
       "      <th>living_area_perc</th>\n",
       "      <th>kitchen_area_perc</th>\n",
       "      <th>last_price_mln</th>\n",
       "      <th>short_locality_name</th>\n",
       "      <th>price_per_meter</th>\n",
       "      <th>weekday_exposition</th>\n",
       "      <th>month_exposition</th>\n",
       "      <th>year_exposition</th>\n",
       "    </tr>\n",
       "  </thead>\n",
       "  <tbody>\n",
       "    <tr>\n",
       "      <th>1</th>\n",
       "      <td>7</td>\n",
       "      <td>3350000.0</td>\n",
       "      <td>40.4</td>\n",
       "      <td>2018-12-04</td>\n",
       "      <td>1</td>\n",
       "      <td>2.65</td>\n",
       "      <td>11.0</td>\n",
       "      <td>18.6</td>\n",
       "      <td>1</td>\n",
       "      <td>False</td>\n",
       "      <td>False</td>\n",
       "      <td>False</td>\n",
       "      <td>11.0</td>\n",
       "      <td>2.0</td>\n",
       "      <td>посёлок шушары</td>\n",
       "      <td>12817.0</td>\n",
       "      <td>18603.0</td>\n",
       "      <td>0.0</td>\n",
       "      <td>NaN</td>\n",
       "      <td>0.0</td>\n",
       "      <td>NaN</td>\n",
       "      <td>81.0</td>\n",
       "      <td>0.482638</td>\n",
       "      <td>0.247788</td>\n",
       "      <td>3.350</td>\n",
       "      <td>шушары</td>\n",
       "      <td>82920.792079</td>\n",
       "      <td>1</td>\n",
       "      <td>12</td>\n",
       "      <td>2018</td>\n",
       "    </tr>\n",
       "    <tr>\n",
       "      <th>2</th>\n",
       "      <td>10</td>\n",
       "      <td>5196000.0</td>\n",
       "      <td>56.0</td>\n",
       "      <td>2015-08-20</td>\n",
       "      <td>2</td>\n",
       "      <td>2.65</td>\n",
       "      <td>5.0</td>\n",
       "      <td>34.3</td>\n",
       "      <td>4</td>\n",
       "      <td>False</td>\n",
       "      <td>False</td>\n",
       "      <td>False</td>\n",
       "      <td>8.3</td>\n",
       "      <td>0.0</td>\n",
       "      <td>санкт-петербург</td>\n",
       "      <td>21741.0</td>\n",
       "      <td>13933.0</td>\n",
       "      <td>1.0</td>\n",
       "      <td>90.0</td>\n",
       "      <td>2.0</td>\n",
       "      <td>574.0</td>\n",
       "      <td>558.0</td>\n",
       "      <td>0.585366</td>\n",
       "      <td>0.161050</td>\n",
       "      <td>5.196</td>\n",
       "      <td>санкт-петербург</td>\n",
       "      <td>92785.714286</td>\n",
       "      <td>3</td>\n",
       "      <td>8</td>\n",
       "      <td>2015</td>\n",
       "    </tr>\n",
       "    <tr>\n",
       "      <th>4</th>\n",
       "      <td>2</td>\n",
       "      <td>10000000.0</td>\n",
       "      <td>100.0</td>\n",
       "      <td>2018-06-19</td>\n",
       "      <td>2</td>\n",
       "      <td>3.03</td>\n",
       "      <td>14.0</td>\n",
       "      <td>32.0</td>\n",
       "      <td>13</td>\n",
       "      <td>False</td>\n",
       "      <td>False</td>\n",
       "      <td>False</td>\n",
       "      <td>41.0</td>\n",
       "      <td>0.0</td>\n",
       "      <td>санкт-петербург</td>\n",
       "      <td>31856.0</td>\n",
       "      <td>8098.0</td>\n",
       "      <td>2.0</td>\n",
       "      <td>112.0</td>\n",
       "      <td>1.0</td>\n",
       "      <td>48.0</td>\n",
       "      <td>121.0</td>\n",
       "      <td>0.585366</td>\n",
       "      <td>0.161050</td>\n",
       "      <td>10.000</td>\n",
       "      <td>санкт-петербург</td>\n",
       "      <td>100000.000000</td>\n",
       "      <td>1</td>\n",
       "      <td>6</td>\n",
       "      <td>2018</td>\n",
       "    </tr>\n",
       "    <tr>\n",
       "      <th>5</th>\n",
       "      <td>10</td>\n",
       "      <td>2890000.0</td>\n",
       "      <td>30.4</td>\n",
       "      <td>2018-09-10</td>\n",
       "      <td>1</td>\n",
       "      <td>2.65</td>\n",
       "      <td>12.0</td>\n",
       "      <td>14.4</td>\n",
       "      <td>5</td>\n",
       "      <td>False</td>\n",
       "      <td>False</td>\n",
       "      <td>False</td>\n",
       "      <td>9.1</td>\n",
       "      <td>0.0</td>\n",
       "      <td>городской посёлок янино-1</td>\n",
       "      <td>NaN</td>\n",
       "      <td>NaN</td>\n",
       "      <td>NaN</td>\n",
       "      <td>NaN</td>\n",
       "      <td>NaN</td>\n",
       "      <td>NaN</td>\n",
       "      <td>55.0</td>\n",
       "      <td>0.482638</td>\n",
       "      <td>0.247788</td>\n",
       "      <td>2.890</td>\n",
       "      <td>янино-1</td>\n",
       "      <td>95065.789474</td>\n",
       "      <td>0</td>\n",
       "      <td>9</td>\n",
       "      <td>2018</td>\n",
       "    </tr>\n",
       "    <tr>\n",
       "      <th>6</th>\n",
       "      <td>6</td>\n",
       "      <td>3700000.0</td>\n",
       "      <td>37.3</td>\n",
       "      <td>2017-11-02</td>\n",
       "      <td>1</td>\n",
       "      <td>2.65</td>\n",
       "      <td>26.0</td>\n",
       "      <td>10.6</td>\n",
       "      <td>6</td>\n",
       "      <td>False</td>\n",
       "      <td>False</td>\n",
       "      <td>False</td>\n",
       "      <td>14.4</td>\n",
       "      <td>1.0</td>\n",
       "      <td>посёлок парголово</td>\n",
       "      <td>52996.0</td>\n",
       "      <td>19143.0</td>\n",
       "      <td>0.0</td>\n",
       "      <td>NaN</td>\n",
       "      <td>0.0</td>\n",
       "      <td>NaN</td>\n",
       "      <td>155.0</td>\n",
       "      <td>0.482638</td>\n",
       "      <td>0.247788</td>\n",
       "      <td>3.700</td>\n",
       "      <td>парголово</td>\n",
       "      <td>99195.710456</td>\n",
       "      <td>3</td>\n",
       "      <td>11</td>\n",
       "      <td>2017</td>\n",
       "    </tr>\n",
       "  </tbody>\n",
       "</table>\n",
       "</div>"
      ],
      "text/plain": [
       "   total_images  last_price  total_area first_day_exposition  rooms  \\\n",
       "1             7   3350000.0        40.4           2018-12-04      1   \n",
       "2            10   5196000.0        56.0           2015-08-20      2   \n",
       "4             2  10000000.0       100.0           2018-06-19      2   \n",
       "5            10   2890000.0        30.4           2018-09-10      1   \n",
       "6             6   3700000.0        37.3           2017-11-02      1   \n",
       "\n",
       "   ceiling_height  floors_total  living_area  floor  is_apartment  studio  \\\n",
       "1            2.65          11.0         18.6      1         False   False   \n",
       "2            2.65           5.0         34.3      4         False   False   \n",
       "4            3.03          14.0         32.0     13         False   False   \n",
       "5            2.65          12.0         14.4      5         False   False   \n",
       "6            2.65          26.0         10.6      6         False   False   \n",
       "\n",
       "   open_plan  kitchen_area  balcony              locality_name  \\\n",
       "1      False          11.0      2.0             посёлок шушары   \n",
       "2      False           8.3      0.0            санкт-петербург   \n",
       "4      False          41.0      0.0            санкт-петербург   \n",
       "5      False           9.1      0.0  городской посёлок янино-1   \n",
       "6      False          14.4      1.0          посёлок парголово   \n",
       "\n",
       "   airports_nearest  cityCenters_nearest  parks_around3000  parks_nearest  \\\n",
       "1           12817.0              18603.0               0.0            NaN   \n",
       "2           21741.0              13933.0               1.0           90.0   \n",
       "4           31856.0               8098.0               2.0          112.0   \n",
       "5               NaN                  NaN               NaN            NaN   \n",
       "6           52996.0              19143.0               0.0            NaN   \n",
       "\n",
       "   ponds_around3000  ponds_nearest  days_exposition  living_area_perc  \\\n",
       "1               0.0            NaN             81.0          0.482638   \n",
       "2               2.0          574.0            558.0          0.585366   \n",
       "4               1.0           48.0            121.0          0.585366   \n",
       "5               NaN            NaN             55.0          0.482638   \n",
       "6               0.0            NaN            155.0          0.482638   \n",
       "\n",
       "   kitchen_area_perc  last_price_mln short_locality_name  price_per_meter  \\\n",
       "1           0.247788           3.350              шушары     82920.792079   \n",
       "2           0.161050           5.196     санкт-петербург     92785.714286   \n",
       "4           0.161050          10.000     санкт-петербург    100000.000000   \n",
       "5           0.247788           2.890             янино-1     95065.789474   \n",
       "6           0.247788           3.700           парголово     99195.710456   \n",
       "\n",
       "   weekday_exposition  month_exposition  year_exposition  \n",
       "1                   1                12             2018  \n",
       "2                   3                 8             2015  \n",
       "4                   1                 6             2018  \n",
       "5                   0                 9             2018  \n",
       "6                   3                11             2017  "
      ]
     },
     "metadata": {},
     "output_type": "display_data"
    }
   ],
   "source": [
    "data['weekday_exposition']=pd.DatetimeIndex(data['first_day_exposition']).weekday\n",
    "data['month_exposition']=pd.DatetimeIndex(data['first_day_exposition']).month\n",
    "data['year_exposition']=pd.DatetimeIndex(data['first_day_exposition']).year\n",
    "display(data.head())"
   ]
  },
  {
   "cell_type": "markdown",
   "metadata": {},
   "source": [
    "#### Создание столбца с типом этажа"
   ]
  },
  {
   "cell_type": "code",
   "execution_count": 26,
   "metadata": {},
   "outputs": [
    {
     "data": {
      "text/html": [
       "<div>\n",
       "<style scoped>\n",
       "    .dataframe tbody tr th:only-of-type {\n",
       "        vertical-align: middle;\n",
       "    }\n",
       "\n",
       "    .dataframe tbody tr th {\n",
       "        vertical-align: top;\n",
       "    }\n",
       "\n",
       "    .dataframe thead th {\n",
       "        text-align: right;\n",
       "    }\n",
       "</style>\n",
       "<table border=\"1\" class=\"dataframe\">\n",
       "  <thead>\n",
       "    <tr style=\"text-align: right;\">\n",
       "      <th></th>\n",
       "      <th>total_images</th>\n",
       "      <th>last_price</th>\n",
       "      <th>total_area</th>\n",
       "      <th>first_day_exposition</th>\n",
       "      <th>rooms</th>\n",
       "      <th>ceiling_height</th>\n",
       "      <th>floors_total</th>\n",
       "      <th>living_area</th>\n",
       "      <th>floor</th>\n",
       "      <th>is_apartment</th>\n",
       "      <th>studio</th>\n",
       "      <th>open_plan</th>\n",
       "      <th>kitchen_area</th>\n",
       "      <th>balcony</th>\n",
       "      <th>locality_name</th>\n",
       "      <th>airports_nearest</th>\n",
       "      <th>cityCenters_nearest</th>\n",
       "      <th>parks_around3000</th>\n",
       "      <th>parks_nearest</th>\n",
       "      <th>ponds_around3000</th>\n",
       "      <th>ponds_nearest</th>\n",
       "      <th>days_exposition</th>\n",
       "      <th>living_area_perc</th>\n",
       "      <th>kitchen_area_perc</th>\n",
       "      <th>last_price_mln</th>\n",
       "      <th>short_locality_name</th>\n",
       "      <th>price_per_meter</th>\n",
       "      <th>weekday_exposition</th>\n",
       "      <th>month_exposition</th>\n",
       "      <th>year_exposition</th>\n",
       "      <th>floor_type</th>\n",
       "    </tr>\n",
       "  </thead>\n",
       "  <tbody>\n",
       "    <tr>\n",
       "      <th>1</th>\n",
       "      <td>7</td>\n",
       "      <td>3350000.0</td>\n",
       "      <td>40.4</td>\n",
       "      <td>2018-12-04</td>\n",
       "      <td>1</td>\n",
       "      <td>2.65</td>\n",
       "      <td>11.0</td>\n",
       "      <td>18.6</td>\n",
       "      <td>1</td>\n",
       "      <td>False</td>\n",
       "      <td>False</td>\n",
       "      <td>False</td>\n",
       "      <td>11.0</td>\n",
       "      <td>2.0</td>\n",
       "      <td>посёлок шушары</td>\n",
       "      <td>12817.0</td>\n",
       "      <td>18603.0</td>\n",
       "      <td>0.0</td>\n",
       "      <td>NaN</td>\n",
       "      <td>0.0</td>\n",
       "      <td>NaN</td>\n",
       "      <td>81.0</td>\n",
       "      <td>0.482638</td>\n",
       "      <td>0.247788</td>\n",
       "      <td>3.350</td>\n",
       "      <td>шушары</td>\n",
       "      <td>82920.792079</td>\n",
       "      <td>1</td>\n",
       "      <td>12</td>\n",
       "      <td>2018</td>\n",
       "      <td>первый</td>\n",
       "    </tr>\n",
       "    <tr>\n",
       "      <th>2</th>\n",
       "      <td>10</td>\n",
       "      <td>5196000.0</td>\n",
       "      <td>56.0</td>\n",
       "      <td>2015-08-20</td>\n",
       "      <td>2</td>\n",
       "      <td>2.65</td>\n",
       "      <td>5.0</td>\n",
       "      <td>34.3</td>\n",
       "      <td>4</td>\n",
       "      <td>False</td>\n",
       "      <td>False</td>\n",
       "      <td>False</td>\n",
       "      <td>8.3</td>\n",
       "      <td>0.0</td>\n",
       "      <td>санкт-петербург</td>\n",
       "      <td>21741.0</td>\n",
       "      <td>13933.0</td>\n",
       "      <td>1.0</td>\n",
       "      <td>90.0</td>\n",
       "      <td>2.0</td>\n",
       "      <td>574.0</td>\n",
       "      <td>558.0</td>\n",
       "      <td>0.585366</td>\n",
       "      <td>0.161050</td>\n",
       "      <td>5.196</td>\n",
       "      <td>санкт-петербург</td>\n",
       "      <td>92785.714286</td>\n",
       "      <td>3</td>\n",
       "      <td>8</td>\n",
       "      <td>2015</td>\n",
       "      <td>другой</td>\n",
       "    </tr>\n",
       "    <tr>\n",
       "      <th>4</th>\n",
       "      <td>2</td>\n",
       "      <td>10000000.0</td>\n",
       "      <td>100.0</td>\n",
       "      <td>2018-06-19</td>\n",
       "      <td>2</td>\n",
       "      <td>3.03</td>\n",
       "      <td>14.0</td>\n",
       "      <td>32.0</td>\n",
       "      <td>13</td>\n",
       "      <td>False</td>\n",
       "      <td>False</td>\n",
       "      <td>False</td>\n",
       "      <td>41.0</td>\n",
       "      <td>0.0</td>\n",
       "      <td>санкт-петербург</td>\n",
       "      <td>31856.0</td>\n",
       "      <td>8098.0</td>\n",
       "      <td>2.0</td>\n",
       "      <td>112.0</td>\n",
       "      <td>1.0</td>\n",
       "      <td>48.0</td>\n",
       "      <td>121.0</td>\n",
       "      <td>0.585366</td>\n",
       "      <td>0.161050</td>\n",
       "      <td>10.000</td>\n",
       "      <td>санкт-петербург</td>\n",
       "      <td>100000.000000</td>\n",
       "      <td>1</td>\n",
       "      <td>6</td>\n",
       "      <td>2018</td>\n",
       "      <td>другой</td>\n",
       "    </tr>\n",
       "    <tr>\n",
       "      <th>5</th>\n",
       "      <td>10</td>\n",
       "      <td>2890000.0</td>\n",
       "      <td>30.4</td>\n",
       "      <td>2018-09-10</td>\n",
       "      <td>1</td>\n",
       "      <td>2.65</td>\n",
       "      <td>12.0</td>\n",
       "      <td>14.4</td>\n",
       "      <td>5</td>\n",
       "      <td>False</td>\n",
       "      <td>False</td>\n",
       "      <td>False</td>\n",
       "      <td>9.1</td>\n",
       "      <td>0.0</td>\n",
       "      <td>городской посёлок янино-1</td>\n",
       "      <td>NaN</td>\n",
       "      <td>NaN</td>\n",
       "      <td>NaN</td>\n",
       "      <td>NaN</td>\n",
       "      <td>NaN</td>\n",
       "      <td>NaN</td>\n",
       "      <td>55.0</td>\n",
       "      <td>0.482638</td>\n",
       "      <td>0.247788</td>\n",
       "      <td>2.890</td>\n",
       "      <td>янино-1</td>\n",
       "      <td>95065.789474</td>\n",
       "      <td>0</td>\n",
       "      <td>9</td>\n",
       "      <td>2018</td>\n",
       "      <td>другой</td>\n",
       "    </tr>\n",
       "    <tr>\n",
       "      <th>6</th>\n",
       "      <td>6</td>\n",
       "      <td>3700000.0</td>\n",
       "      <td>37.3</td>\n",
       "      <td>2017-11-02</td>\n",
       "      <td>1</td>\n",
       "      <td>2.65</td>\n",
       "      <td>26.0</td>\n",
       "      <td>10.6</td>\n",
       "      <td>6</td>\n",
       "      <td>False</td>\n",
       "      <td>False</td>\n",
       "      <td>False</td>\n",
       "      <td>14.4</td>\n",
       "      <td>1.0</td>\n",
       "      <td>посёлок парголово</td>\n",
       "      <td>52996.0</td>\n",
       "      <td>19143.0</td>\n",
       "      <td>0.0</td>\n",
       "      <td>NaN</td>\n",
       "      <td>0.0</td>\n",
       "      <td>NaN</td>\n",
       "      <td>155.0</td>\n",
       "      <td>0.482638</td>\n",
       "      <td>0.247788</td>\n",
       "      <td>3.700</td>\n",
       "      <td>парголово</td>\n",
       "      <td>99195.710456</td>\n",
       "      <td>3</td>\n",
       "      <td>11</td>\n",
       "      <td>2017</td>\n",
       "      <td>другой</td>\n",
       "    </tr>\n",
       "  </tbody>\n",
       "</table>\n",
       "</div>"
      ],
      "text/plain": [
       "   total_images  last_price  total_area first_day_exposition  rooms  \\\n",
       "1             7   3350000.0        40.4           2018-12-04      1   \n",
       "2            10   5196000.0        56.0           2015-08-20      2   \n",
       "4             2  10000000.0       100.0           2018-06-19      2   \n",
       "5            10   2890000.0        30.4           2018-09-10      1   \n",
       "6             6   3700000.0        37.3           2017-11-02      1   \n",
       "\n",
       "   ceiling_height  floors_total  living_area  floor  is_apartment  studio  \\\n",
       "1            2.65          11.0         18.6      1         False   False   \n",
       "2            2.65           5.0         34.3      4         False   False   \n",
       "4            3.03          14.0         32.0     13         False   False   \n",
       "5            2.65          12.0         14.4      5         False   False   \n",
       "6            2.65          26.0         10.6      6         False   False   \n",
       "\n",
       "   open_plan  kitchen_area  balcony              locality_name  \\\n",
       "1      False          11.0      2.0             посёлок шушары   \n",
       "2      False           8.3      0.0            санкт-петербург   \n",
       "4      False          41.0      0.0            санкт-петербург   \n",
       "5      False           9.1      0.0  городской посёлок янино-1   \n",
       "6      False          14.4      1.0          посёлок парголово   \n",
       "\n",
       "   airports_nearest  cityCenters_nearest  parks_around3000  parks_nearest  \\\n",
       "1           12817.0              18603.0               0.0            NaN   \n",
       "2           21741.0              13933.0               1.0           90.0   \n",
       "4           31856.0               8098.0               2.0          112.0   \n",
       "5               NaN                  NaN               NaN            NaN   \n",
       "6           52996.0              19143.0               0.0            NaN   \n",
       "\n",
       "   ponds_around3000  ponds_nearest  days_exposition  living_area_perc  \\\n",
       "1               0.0            NaN             81.0          0.482638   \n",
       "2               2.0          574.0            558.0          0.585366   \n",
       "4               1.0           48.0            121.0          0.585366   \n",
       "5               NaN            NaN             55.0          0.482638   \n",
       "6               0.0            NaN            155.0          0.482638   \n",
       "\n",
       "   kitchen_area_perc  last_price_mln short_locality_name  price_per_meter  \\\n",
       "1           0.247788           3.350              шушары     82920.792079   \n",
       "2           0.161050           5.196     санкт-петербург     92785.714286   \n",
       "4           0.161050          10.000     санкт-петербург    100000.000000   \n",
       "5           0.247788           2.890             янино-1     95065.789474   \n",
       "6           0.247788           3.700           парголово     99195.710456   \n",
       "\n",
       "   weekday_exposition  month_exposition  year_exposition floor_type  \n",
       "1                   1                12             2018     первый  \n",
       "2                   3                 8             2015     другой  \n",
       "4                   1                 6             2018     другой  \n",
       "5                   0                 9             2018     другой  \n",
       "6                   3                11             2017     другой  "
      ]
     },
     "metadata": {},
     "output_type": "display_data"
    }
   ],
   "source": [
    "def floor_type(row):\n",
    "    if row['floor']==1:\n",
    "        return 'первый'\n",
    "    if row['floor']==row['floors_total']:\n",
    "        return 'последний'\n",
    "    else:\n",
    "        return 'другой'\n",
    "data['floor_type']=data.apply(floor_type,axis=1)\n",
    "display(data.head())\n",
    "    "
   ]
  },
  {
   "cell_type": "markdown",
   "metadata": {},
   "source": [
    "#### Создание столбца с расстоянием до центра города в км"
   ]
  },
  {
   "cell_type": "code",
   "execution_count": 27,
   "metadata": {},
   "outputs": [
    {
     "data": {
      "text/html": [
       "<div>\n",
       "<style scoped>\n",
       "    .dataframe tbody tr th:only-of-type {\n",
       "        vertical-align: middle;\n",
       "    }\n",
       "\n",
       "    .dataframe tbody tr th {\n",
       "        vertical-align: top;\n",
       "    }\n",
       "\n",
       "    .dataframe thead th {\n",
       "        text-align: right;\n",
       "    }\n",
       "</style>\n",
       "<table border=\"1\" class=\"dataframe\">\n",
       "  <thead>\n",
       "    <tr style=\"text-align: right;\">\n",
       "      <th></th>\n",
       "      <th>total_images</th>\n",
       "      <th>last_price</th>\n",
       "      <th>total_area</th>\n",
       "      <th>first_day_exposition</th>\n",
       "      <th>rooms</th>\n",
       "      <th>ceiling_height</th>\n",
       "      <th>floors_total</th>\n",
       "      <th>living_area</th>\n",
       "      <th>floor</th>\n",
       "      <th>is_apartment</th>\n",
       "      <th>studio</th>\n",
       "      <th>open_plan</th>\n",
       "      <th>kitchen_area</th>\n",
       "      <th>balcony</th>\n",
       "      <th>locality_name</th>\n",
       "      <th>airports_nearest</th>\n",
       "      <th>cityCenters_nearest</th>\n",
       "      <th>parks_around3000</th>\n",
       "      <th>parks_nearest</th>\n",
       "      <th>ponds_around3000</th>\n",
       "      <th>ponds_nearest</th>\n",
       "      <th>days_exposition</th>\n",
       "      <th>living_area_perc</th>\n",
       "      <th>kitchen_area_perc</th>\n",
       "      <th>last_price_mln</th>\n",
       "      <th>short_locality_name</th>\n",
       "      <th>price_per_meter</th>\n",
       "      <th>weekday_exposition</th>\n",
       "      <th>month_exposition</th>\n",
       "      <th>year_exposition</th>\n",
       "      <th>floor_type</th>\n",
       "      <th>cityCenters_nearest_km</th>\n",
       "    </tr>\n",
       "  </thead>\n",
       "  <tbody>\n",
       "    <tr>\n",
       "      <th>1</th>\n",
       "      <td>7</td>\n",
       "      <td>3350000.0</td>\n",
       "      <td>40.4</td>\n",
       "      <td>2018-12-04</td>\n",
       "      <td>1</td>\n",
       "      <td>2.65</td>\n",
       "      <td>11.0</td>\n",
       "      <td>18.6</td>\n",
       "      <td>1</td>\n",
       "      <td>False</td>\n",
       "      <td>False</td>\n",
       "      <td>False</td>\n",
       "      <td>11.0</td>\n",
       "      <td>2.0</td>\n",
       "      <td>посёлок шушары</td>\n",
       "      <td>12817.0</td>\n",
       "      <td>18603.0</td>\n",
       "      <td>0.0</td>\n",
       "      <td>NaN</td>\n",
       "      <td>0.0</td>\n",
       "      <td>NaN</td>\n",
       "      <td>81.0</td>\n",
       "      <td>0.482638</td>\n",
       "      <td>0.247788</td>\n",
       "      <td>3.350</td>\n",
       "      <td>шушары</td>\n",
       "      <td>82920.792079</td>\n",
       "      <td>1</td>\n",
       "      <td>12</td>\n",
       "      <td>2018</td>\n",
       "      <td>первый</td>\n",
       "      <td>19.0</td>\n",
       "    </tr>\n",
       "    <tr>\n",
       "      <th>2</th>\n",
       "      <td>10</td>\n",
       "      <td>5196000.0</td>\n",
       "      <td>56.0</td>\n",
       "      <td>2015-08-20</td>\n",
       "      <td>2</td>\n",
       "      <td>2.65</td>\n",
       "      <td>5.0</td>\n",
       "      <td>34.3</td>\n",
       "      <td>4</td>\n",
       "      <td>False</td>\n",
       "      <td>False</td>\n",
       "      <td>False</td>\n",
       "      <td>8.3</td>\n",
       "      <td>0.0</td>\n",
       "      <td>санкт-петербург</td>\n",
       "      <td>21741.0</td>\n",
       "      <td>13933.0</td>\n",
       "      <td>1.0</td>\n",
       "      <td>90.0</td>\n",
       "      <td>2.0</td>\n",
       "      <td>574.0</td>\n",
       "      <td>558.0</td>\n",
       "      <td>0.585366</td>\n",
       "      <td>0.161050</td>\n",
       "      <td>5.196</td>\n",
       "      <td>санкт-петербург</td>\n",
       "      <td>92785.714286</td>\n",
       "      <td>3</td>\n",
       "      <td>8</td>\n",
       "      <td>2015</td>\n",
       "      <td>другой</td>\n",
       "      <td>14.0</td>\n",
       "    </tr>\n",
       "    <tr>\n",
       "      <th>4</th>\n",
       "      <td>2</td>\n",
       "      <td>10000000.0</td>\n",
       "      <td>100.0</td>\n",
       "      <td>2018-06-19</td>\n",
       "      <td>2</td>\n",
       "      <td>3.03</td>\n",
       "      <td>14.0</td>\n",
       "      <td>32.0</td>\n",
       "      <td>13</td>\n",
       "      <td>False</td>\n",
       "      <td>False</td>\n",
       "      <td>False</td>\n",
       "      <td>41.0</td>\n",
       "      <td>0.0</td>\n",
       "      <td>санкт-петербург</td>\n",
       "      <td>31856.0</td>\n",
       "      <td>8098.0</td>\n",
       "      <td>2.0</td>\n",
       "      <td>112.0</td>\n",
       "      <td>1.0</td>\n",
       "      <td>48.0</td>\n",
       "      <td>121.0</td>\n",
       "      <td>0.585366</td>\n",
       "      <td>0.161050</td>\n",
       "      <td>10.000</td>\n",
       "      <td>санкт-петербург</td>\n",
       "      <td>100000.000000</td>\n",
       "      <td>1</td>\n",
       "      <td>6</td>\n",
       "      <td>2018</td>\n",
       "      <td>другой</td>\n",
       "      <td>8.0</td>\n",
       "    </tr>\n",
       "    <tr>\n",
       "      <th>5</th>\n",
       "      <td>10</td>\n",
       "      <td>2890000.0</td>\n",
       "      <td>30.4</td>\n",
       "      <td>2018-09-10</td>\n",
       "      <td>1</td>\n",
       "      <td>2.65</td>\n",
       "      <td>12.0</td>\n",
       "      <td>14.4</td>\n",
       "      <td>5</td>\n",
       "      <td>False</td>\n",
       "      <td>False</td>\n",
       "      <td>False</td>\n",
       "      <td>9.1</td>\n",
       "      <td>0.0</td>\n",
       "      <td>городской посёлок янино-1</td>\n",
       "      <td>NaN</td>\n",
       "      <td>NaN</td>\n",
       "      <td>NaN</td>\n",
       "      <td>NaN</td>\n",
       "      <td>NaN</td>\n",
       "      <td>NaN</td>\n",
       "      <td>55.0</td>\n",
       "      <td>0.482638</td>\n",
       "      <td>0.247788</td>\n",
       "      <td>2.890</td>\n",
       "      <td>янино-1</td>\n",
       "      <td>95065.789474</td>\n",
       "      <td>0</td>\n",
       "      <td>9</td>\n",
       "      <td>2018</td>\n",
       "      <td>другой</td>\n",
       "      <td>NaN</td>\n",
       "    </tr>\n",
       "    <tr>\n",
       "      <th>6</th>\n",
       "      <td>6</td>\n",
       "      <td>3700000.0</td>\n",
       "      <td>37.3</td>\n",
       "      <td>2017-11-02</td>\n",
       "      <td>1</td>\n",
       "      <td>2.65</td>\n",
       "      <td>26.0</td>\n",
       "      <td>10.6</td>\n",
       "      <td>6</td>\n",
       "      <td>False</td>\n",
       "      <td>False</td>\n",
       "      <td>False</td>\n",
       "      <td>14.4</td>\n",
       "      <td>1.0</td>\n",
       "      <td>посёлок парголово</td>\n",
       "      <td>52996.0</td>\n",
       "      <td>19143.0</td>\n",
       "      <td>0.0</td>\n",
       "      <td>NaN</td>\n",
       "      <td>0.0</td>\n",
       "      <td>NaN</td>\n",
       "      <td>155.0</td>\n",
       "      <td>0.482638</td>\n",
       "      <td>0.247788</td>\n",
       "      <td>3.700</td>\n",
       "      <td>парголово</td>\n",
       "      <td>99195.710456</td>\n",
       "      <td>3</td>\n",
       "      <td>11</td>\n",
       "      <td>2017</td>\n",
       "      <td>другой</td>\n",
       "      <td>19.0</td>\n",
       "    </tr>\n",
       "  </tbody>\n",
       "</table>\n",
       "</div>"
      ],
      "text/plain": [
       "   total_images  last_price  total_area first_day_exposition  rooms  \\\n",
       "1             7   3350000.0        40.4           2018-12-04      1   \n",
       "2            10   5196000.0        56.0           2015-08-20      2   \n",
       "4             2  10000000.0       100.0           2018-06-19      2   \n",
       "5            10   2890000.0        30.4           2018-09-10      1   \n",
       "6             6   3700000.0        37.3           2017-11-02      1   \n",
       "\n",
       "   ceiling_height  floors_total  living_area  floor  is_apartment  studio  \\\n",
       "1            2.65          11.0         18.6      1         False   False   \n",
       "2            2.65           5.0         34.3      4         False   False   \n",
       "4            3.03          14.0         32.0     13         False   False   \n",
       "5            2.65          12.0         14.4      5         False   False   \n",
       "6            2.65          26.0         10.6      6         False   False   \n",
       "\n",
       "   open_plan  kitchen_area  balcony              locality_name  \\\n",
       "1      False          11.0      2.0             посёлок шушары   \n",
       "2      False           8.3      0.0            санкт-петербург   \n",
       "4      False          41.0      0.0            санкт-петербург   \n",
       "5      False           9.1      0.0  городской посёлок янино-1   \n",
       "6      False          14.4      1.0          посёлок парголово   \n",
       "\n",
       "   airports_nearest  cityCenters_nearest  parks_around3000  parks_nearest  \\\n",
       "1           12817.0              18603.0               0.0            NaN   \n",
       "2           21741.0              13933.0               1.0           90.0   \n",
       "4           31856.0               8098.0               2.0          112.0   \n",
       "5               NaN                  NaN               NaN            NaN   \n",
       "6           52996.0              19143.0               0.0            NaN   \n",
       "\n",
       "   ponds_around3000  ponds_nearest  days_exposition  living_area_perc  \\\n",
       "1               0.0            NaN             81.0          0.482638   \n",
       "2               2.0          574.0            558.0          0.585366   \n",
       "4               1.0           48.0            121.0          0.585366   \n",
       "5               NaN            NaN             55.0          0.482638   \n",
       "6               0.0            NaN            155.0          0.482638   \n",
       "\n",
       "   kitchen_area_perc  last_price_mln short_locality_name  price_per_meter  \\\n",
       "1           0.247788           3.350              шушары     82920.792079   \n",
       "2           0.161050           5.196     санкт-петербург     92785.714286   \n",
       "4           0.161050          10.000     санкт-петербург    100000.000000   \n",
       "5           0.247788           2.890             янино-1     95065.789474   \n",
       "6           0.247788           3.700           парголово     99195.710456   \n",
       "\n",
       "   weekday_exposition  month_exposition  year_exposition floor_type  \\\n",
       "1                   1                12             2018     первый   \n",
       "2                   3                 8             2015     другой   \n",
       "4                   1                 6             2018     другой   \n",
       "5                   0                 9             2018     другой   \n",
       "6                   3                11             2017     другой   \n",
       "\n",
       "   cityCenters_nearest_km  \n",
       "1                    19.0  \n",
       "2                    14.0  \n",
       "4                     8.0  \n",
       "5                     NaN  \n",
       "6                    19.0  "
      ]
     },
     "metadata": {},
     "output_type": "display_data"
    }
   ],
   "source": [
    "data['cityCenters_nearest_km']=(data['cityCenters_nearest']*0.001).round()\n",
    "display(data.head())"
   ]
  },
  {
   "cell_type": "markdown",
   "metadata": {},
   "source": [
    "## Исследовательский анализ данных"
   ]
  },
  {
   "cell_type": "markdown",
   "metadata": {},
   "source": [
    "### Построение гистограмм"
   ]
  },
  {
   "cell_type": "code",
   "execution_count": 28,
   "metadata": {},
   "outputs": [
    {
     "data": {
      "text/plain": [
       "<AxesSubplot:>"
      ]
     },
     "metadata": {},
     "output_type": "display_data"
    },
    {
     "data": {
      "image/png": "[encoded data removed]",
      "text/plain": [
       "<Figure size 432x288 with 1 Axes>"
      ]
     },
     "metadata": {
      "needs_background": "light"
     },
     "output_type": "display_data"
    }
   ],
   "source": [
    "display(data['total_area'].hist())\n",
    "#figsize=(15, 20)"
   ]
  },
  {
   "cell_type": "code",
   "execution_count": 29,
   "metadata": {},
   "outputs": [
    {
     "data": {
      "text/plain": [
       "<AxesSubplot:>"
      ]
     },
     "metadata": {},
     "output_type": "display_data"
    },
    {
     "data": {
      "image/png": "[encoded data removed]",
      "text/plain": [
       "<Figure size 432x288 with 1 Axes>"
      ]
     },
     "metadata": {
      "needs_background": "light"
     },
     "output_type": "display_data"
    }
   ],
   "source": [
    "display(data['living_area'].hist())"
   ]
  },
  {
   "cell_type": "code",
   "execution_count": 30,
   "metadata": {},
   "outputs": [
    {
     "data": {
      "text/plain": [
       "<AxesSubplot:>"
      ]
     },
     "metadata": {},
     "output_type": "display_data"
    },
    {
     "data": {
      "image/png": "[encoded data removed]",
      "text/plain": [
       "<Figure size 432x288 with 1 Axes>"
      ]
     },
     "metadata": {
      "needs_background": "light"
     },
     "output_type": "display_data"
    }
   ],
   "source": [
    "display(data['kitchen_area'].hist())"
   ]
  },
  {
   "cell_type": "markdown",
   "metadata": {},
   "source": [
    "Площадь кухни больше 15 кв метров является редкостью и свойственно большим квартирам"
   ]
  },
  {
   "cell_type": "code",
   "execution_count": 31,
   "metadata": {},
   "outputs": [
    {
     "data": {
      "text/plain": [
       "<AxesSubplot:>"
      ]
     },
     "metadata": {},
     "output_type": "display_data"
    },
    {
     "data": {
      "image/png": "[encoded data removed]",
      "text/plain": [
       "<Figure size 432x288 with 1 Axes>"
      ]
     },
     "metadata": {
      "needs_background": "light"
     },
     "output_type": "display_data"
    }
   ],
   "source": [
    "display(data['last_price'].hist())"
   ]
  },
  {
   "cell_type": "code",
   "execution_count": 32,
   "metadata": {},
   "outputs": [
    {
     "data": {
      "text/plain": [
       "<AxesSubplot:>"
      ]
     },
     "metadata": {},
     "output_type": "display_data"
    },
    {
     "data": {
      "image/png": "[encoded data removed]",
      "text/plain": [
       "<Figure size 432x288 with 1 Axes>"
      ]
     },
     "metadata": {
      "needs_background": "light"
     },
     "output_type": "display_data"
    }
   ],
   "source": [
    "display(data['rooms'].hist())"
   ]
  },
  {
   "cell_type": "markdown",
   "metadata": {},
   "source": [
    "Больше всего объявлений о продаже однокомнатных квартир"
   ]
  },
  {
   "cell_type": "code",
   "execution_count": 33,
   "metadata": {},
   "outputs": [
    {
     "data": {
      "text/plain": [
       "<AxesSubplot:>"
      ]
     },
     "metadata": {},
     "output_type": "display_data"
    },
    {
     "data": {
      "image/png": "[encoded data removed]",
      "text/plain": [
       "<Figure size 432x288 with 1 Axes>"
      ]
     },
     "metadata": {
      "needs_background": "light"
     },
     "output_type": "display_data"
    }
   ],
   "source": [
    "display(data['ceiling_height'].hist())"
   ]
  },
  {
   "cell_type": "markdown",
   "metadata": {},
   "source": [
    "У большинства квартир высота потолка не превышает 3 метров "
   ]
  },
  {
   "cell_type": "code",
   "execution_count": 34,
   "metadata": {},
   "outputs": [
    {
     "data": {
      "text/plain": [
       "<AxesSubplot:>"
      ]
     },
     "metadata": {},
     "output_type": "display_data"
    },
    {
     "data": {
      "text/plain": [
       "count    21480.000000\n",
       "mean        10.784823\n",
       "std          6.643676\n",
       "min          1.000000\n",
       "25%          5.000000\n",
       "50%          9.000000\n",
       "75%         16.000000\n",
       "max         60.000000\n",
       "Name: floors_total, dtype: float64"
      ]
     },
     "metadata": {},
     "output_type": "display_data"
    },
    {
     "data": {
      "image/png": "[encoded data removed]",
      "text/plain": [
       "<Figure size 432x288 with 1 Axes>"
      ]
     },
     "metadata": {
      "needs_background": "light"
     },
     "output_type": "display_data"
    }
   ],
   "source": [
    "display(data['floors_total'].hist())\n",
    "display(data['floors_total'].describe())"
   ]
  },
  {
   "cell_type": "markdown",
   "metadata": {},
   "source": [
    "Большинство домов имеют высоту не более 16 этажей"
   ]
  },
  {
   "cell_type": "code",
   "execution_count": 35,
   "metadata": {},
   "outputs": [
    {
     "data": {
      "text/plain": [
       "<AxesSubplot:>"
      ]
     },
     "metadata": {},
     "output_type": "display_data"
    },
    {
     "data": {
      "image/png": "[encoded data removed]",
      "text/plain": [
       "<Figure size 432x288 with 1 Axes>"
      ]
     },
     "metadata": {
      "needs_background": "light"
     },
     "output_type": "display_data"
    }
   ],
   "source": [
    "display(data['floor'].hist())"
   ]
  },
  {
   "cell_type": "markdown",
   "metadata": {},
   "source": [
    "Больше всего квартир с 1 по 5 этаж"
   ]
  },
  {
   "cell_type": "code",
   "execution_count": 36,
   "metadata": {},
   "outputs": [
    {
     "data": {
      "text/plain": [
       "<AxesSubplot:>"
      ]
     },
     "metadata": {},
     "output_type": "display_data"
    },
    {
     "data": {
      "image/png": "[encoded data removed]",
      "text/plain": [
       "<Figure size 432x288 with 1 Axes>"
      ]
     },
     "metadata": {
      "needs_background": "light"
     },
     "output_type": "display_data"
    }
   ],
   "source": [
    "display(data['floor_type'].hist())"
   ]
  },
  {
   "cell_type": "markdown",
   "metadata": {},
   "source": [
    "В выборке меньше всего квартир на первом и последнем этажах, что логично, ведь в домах больше этажей с типом \"Другой\" (не первый и не последний). "
   ]
  },
  {
   "cell_type": "code",
   "execution_count": 37,
   "metadata": {},
   "outputs": [
    {
     "data": {
      "text/plain": [
       "<AxesSubplot:>"
      ]
     },
     "metadata": {},
     "output_type": "display_data"
    },
    {
     "name": "stdout",
     "output_type": "stream",
     "text": [
      "<class 'pandas.core.frame.DataFrame'>\n",
      "Int64Index: 21480 entries, 1 to 23698\n",
      "Data columns (total 32 columns):\n",
      " #   Column                  Non-Null Count  Dtype         \n",
      "---  ------                  --------------  -----         \n",
      " 0   total_images            21480 non-null  int64         \n",
      " 1   last_price              21480 non-null  float64       \n",
      " 2   total_area              21480 non-null  float64       \n",
      " 3   first_day_exposition    21480 non-null  datetime64[ns]\n",
      " 4   rooms                   21480 non-null  int64         \n",
      " 5   ceiling_height          21480 non-null  float64       \n",
      " 6   floors_total            21480 non-null  float64       \n",
      " 7   living_area             21480 non-null  float64       \n",
      " 8   floor                   21480 non-null  int64         \n",
      " 9   is_apartment            21480 non-null  bool          \n",
      " 10  studio                  21480 non-null  bool          \n",
      " 11  open_plan               21480 non-null  bool          \n",
      " 12  kitchen_area            21288 non-null  float64       \n",
      " 13  balcony                 21480 non-null  float64       \n",
      " 14  locality_name           21437 non-null  object        \n",
      " 15  airports_nearest        16005 non-null  float64       \n",
      " 16  cityCenters_nearest     16017 non-null  float64       \n",
      " 17  parks_around3000        16018 non-null  float64       \n",
      " 18  parks_nearest           6659 non-null   float64       \n",
      " 19  ponds_around3000        16018 non-null  float64       \n",
      " 20  ponds_nearest           7694 non-null   float64       \n",
      " 21  days_exposition         18865 non-null  float64       \n",
      " 22  living_area_perc        21480 non-null  float64       \n",
      " 23  kitchen_area_perc       21288 non-null  float64       \n",
      " 24  last_price_mln          21480 non-null  float64       \n",
      " 25  short_locality_name     21437 non-null  object        \n",
      " 26  price_per_meter         21480 non-null  float64       \n",
      " 27  weekday_exposition      21480 non-null  int64         \n",
      " 28  month_exposition        21480 non-null  int64         \n",
      " 29  year_exposition         21480 non-null  int64         \n",
      " 30  floor_type              21480 non-null  object        \n",
      " 31  cityCenters_nearest_km  16017 non-null  float64       \n",
      "dtypes: bool(3), datetime64[ns](1), float64(19), int64(6), object(3)\n",
      "memory usage: 5.0+ MB\n"
     ]
    },
    {
     "data": {
      "text/plain": [
       "None"
      ]
     },
     "metadata": {},
     "output_type": "display_data"
    },
    {
     "data": {
      "image/png": "[encoded data removed]",
      "text/plain": [
       "<Figure size 432x288 with 1 Axes>"
      ]
     },
     "metadata": {
      "needs_background": "light"
     },
     "output_type": "display_data"
    }
   ],
   "source": [
    "display(data['cityCenters_nearest'].hist())\n",
    "display(data.info())"
   ]
  },
  {
   "cell_type": "markdown",
   "metadata": {},
   "source": [
    "В выборке больше всего квартир, расположенных на расстоянии до 20 кв от центра города"
   ]
  },
  {
   "cell_type": "code",
   "execution_count": 38,
   "metadata": {},
   "outputs": [
    {
     "data": {
      "text/plain": [
       "<AxesSubplot:>"
      ]
     },
     "metadata": {},
     "output_type": "display_data"
    },
    {
     "data": {
      "text/plain": [
       "count    16005.000000\n",
       "mean     28894.690097\n",
       "std      12981.354666\n",
       "min          0.000000\n",
       "25%      18041.000000\n",
       "50%      27056.000000\n",
       "75%      37625.000000\n",
       "max      84869.000000\n",
       "Name: airports_nearest, dtype: float64"
      ]
     },
     "metadata": {},
     "output_type": "display_data"
    },
    {
     "data": {
      "image/png": "[encoded data removed]",
      "text/plain": [
       "<Figure size 432x288 with 1 Axes>"
      ]
     },
     "metadata": {
      "needs_background": "light"
     },
     "output_type": "display_data"
    }
   ],
   "source": [
    "display(data['airports_nearest'].hist())\n",
    "display(data['airports_nearest'].describe())"
   ]
  },
  {
   "cell_type": "markdown",
   "metadata": {},
   "source": [
    "В выборке больше всего квартир в пределах 20 км от аэропорта"
   ]
  },
  {
   "cell_type": "code",
   "execution_count": 39,
   "metadata": {},
   "outputs": [
    {
     "data": {
      "text/plain": [
       "<AxesSubplot:>"
      ]
     },
     "metadata": {},
     "output_type": "display_data"
    },
    {
     "data": {
      "text/plain": [
       "count    6659.000000\n",
       "mean      489.785253\n",
       "std       329.983070\n",
       "min         1.000000\n",
       "25%       289.000000\n",
       "50%       456.000000\n",
       "75%       614.000000\n",
       "max      3190.000000\n",
       "Name: parks_nearest, dtype: float64"
      ]
     },
     "metadata": {},
     "output_type": "display_data"
    },
    {
     "data": {
      "image/png": "[encoded data removed]",
      "text/plain": [
       "<Figure size 432x288 with 1 Axes>"
      ]
     },
     "metadata": {
      "needs_background": "light"
     },
     "output_type": "display_data"
    }
   ],
   "source": [
    "display(data['parks_nearest'].hist())\n",
    "display(data['parks_nearest'].describe())"
   ]
  },
  {
   "cell_type": "markdown",
   "metadata": {},
   "source": [
    "Большинство квартир расположены менее чем в 500 м от парка"
   ]
  },
  {
   "cell_type": "code",
   "execution_count": 40,
   "metadata": {},
   "outputs": [
    {
     "data": {
      "text/plain": [
       "<AxesSubplot:>"
      ]
     },
     "metadata": {},
     "output_type": "display_data"
    },
    {
     "data": {
      "image/png": "[encoded data removed]",
      "text/plain": [
       "<Figure size 432x288 with 1 Axes>"
      ]
     },
     "metadata": {
      "needs_background": "light"
     },
     "output_type": "display_data"
    }
   ],
   "source": [
    "display(data['weekday_exposition'].hist())\n"
   ]
  },
  {
   "cell_type": "markdown",
   "metadata": {},
   "source": [
    "В выходные число поданных объявлений меньше чем в другие дни."
   ]
  },
  {
   "cell_type": "code",
   "execution_count": 41,
   "metadata": {},
   "outputs": [
    {
     "data": {
      "text/plain": [
       "<AxesSubplot:>"
      ]
     },
     "metadata": {},
     "output_type": "display_data"
    },
    {
     "data": {
      "text/plain": [
       "count    21480.000000\n",
       "mean         6.398836\n",
       "std          3.492292\n",
       "min          1.000000\n",
       "25%          3.000000\n",
       "50%          6.000000\n",
       "75%         10.000000\n",
       "max         12.000000\n",
       "Name: month_exposition, dtype: float64"
      ]
     },
     "metadata": {},
     "output_type": "display_data"
    },
    {
     "data": {
      "image/png": "[encoded data removed]",
      "text/plain": [
       "<Figure size 432x288 with 1 Axes>"
      ]
     },
     "metadata": {
      "needs_background": "light"
     },
     "output_type": "display_data"
    }
   ],
   "source": [
    "display(data['month_exposition'].hist(bins=12))\n",
    "display(data['month_exposition'].describe())"
   ]
  },
  {
   "cell_type": "markdown",
   "metadata": {},
   "source": [
    "В мае число поданных объявлений ниже чем в другие месяцы. "
   ]
  },
  {
   "cell_type": "code",
   "execution_count": 42,
   "metadata": {},
   "outputs": [
    {
     "data": {
      "text/plain": [
       "<AxesSubplot:>"
      ]
     },
     "metadata": {},
     "output_type": "display_data"
    },
    {
     "data": {
      "image/png": "[encoded data removed]",
      "text/plain": [
       "<Figure size 432x288 with 1 Axes>"
      ]
     },
     "metadata": {
      "needs_background": "light"
     },
     "output_type": "display_data"
    }
   ],
   "source": [
    "display(data['year_exposition'].hist(bins=3))"
   ]
  },
  {
   "cell_type": "markdown",
   "metadata": {},
   "source": [
    "С годами число поданных объвлений росло. "
   ]
  },
  {
   "cell_type": "markdown",
   "metadata": {},
   "source": [
    "### Исследование срока размещения объявления"
   ]
  },
  {
   "cell_type": "code",
   "execution_count": 43,
   "metadata": {},
   "outputs": [
    {
     "data": {
      "text/plain": [
       "<AxesSubplot:>"
      ]
     },
     "metadata": {},
     "output_type": "display_data"
    },
    {
     "data": {
      "text/plain": [
       "count    18865.000000\n",
       "mean       172.454545\n",
       "std        210.516014\n",
       "min          1.000000\n",
       "25%         44.000000\n",
       "50%         91.000000\n",
       "75%        218.000000\n",
       "max       1580.000000\n",
       "Name: days_exposition, dtype: float64"
      ]
     },
     "metadata": {},
     "output_type": "display_data"
    },
    {
     "data": {
      "image/png": "[encoded data removed]",
      "text/plain": [
       "<Figure size 432x288 with 1 Axes>"
      ]
     },
     "metadata": {
      "needs_background": "light"
     },
     "output_type": "display_data"
    }
   ],
   "source": [
    "display(data['days_exposition'].hist(range=(0,100)))\n",
    "display(data['days_exposition'].describe())"
   ]
  },
  {
   "cell_type": "markdown",
   "metadata": {},
   "source": [
    "Средним значением времени размещения объявления является 172 дня, медианным -  91 дней. Есть очень маленькие значения (всего 1 день) и большие (больше года).Есть 2 пика на 40 и 60 день, возможно некоторые публикации были платными и закончился срок размещения объявления. "
   ]
  },
  {
   "cell_type": "markdown",
   "metadata": {},
   "source": [
    "### Исследование зависимости цены от различных параметров"
   ]
  },
  {
   "cell_type": "code",
   "execution_count": 44,
   "metadata": {},
   "outputs": [
    {
     "data": {
      "text/plain": [
       "0.6995862150918758"
      ]
     },
     "metadata": {},
     "output_type": "display_data"
    },
    {
     "data": {
      "text/plain": [
       "<AxesSubplot:xlabel='total_area', ylabel='last_price'>"
      ]
     },
     "execution_count": 44,
     "metadata": {},
     "output_type": "execute_result"
    },
    {
     "data": {
      "image/png": "[encoded data removed]",
      "text/plain": [
       "<Figure size 432x288 with 1 Axes>"
      ]
     },
     "metadata": {
      "needs_background": "light"
     },
     "output_type": "display_data"
    }
   ],
   "source": [
    "display(data['last_price'].corr(data['total_area']))\n",
    "data.plot(x='total_area', y='last_price', kind='scatter', sharex=False, grid=True)"
   ]
  },
  {
   "cell_type": "markdown",
   "metadata": {},
   "source": [
    "Есть корреляция между общей площадью квартиры и ценой, что подтвердается наличием тренда на графике и коэффициентом Пирсона(0.7).С увеличением площади растет и цена."
   ]
  },
  {
   "cell_type": "code",
   "execution_count": 45,
   "metadata": {},
   "outputs": [
    {
     "data": {
      "text/plain": [
       "0.5730675692294979"
      ]
     },
     "metadata": {},
     "output_type": "display_data"
    },
    {
     "data": {
      "text/plain": [
       "<AxesSubplot:xlabel='living_area', ylabel='last_price'>"
      ]
     },
     "execution_count": 45,
     "metadata": {},
     "output_type": "execute_result"
    },
    {
     "data": {
      "image/png": "[encoded data removed]",
      "text/plain": [
       "<Figure size 432x288 with 1 Axes>"
      ]
     },
     "metadata": {
      "needs_background": "light"
     },
     "output_type": "display_data"
    }
   ],
   "source": [
    "display(data['last_price'].corr(data['living_area']))\n",
    "data.plot(x='living_area', y='last_price', kind='scatter', sharex=False, grid=True)"
   ]
  },
  {
   "cell_type": "markdown",
   "metadata": {},
   "source": [
    "Прослеживается прямая корреляция между ценой и жилой площадью, но уже слабее чем взаимосвязь цены с общей площадью."
   ]
  },
  {
   "cell_type": "code",
   "execution_count": 46,
   "metadata": {},
   "outputs": [
    {
     "data": {
      "text/plain": [
       "0.48344792568660916"
      ]
     },
     "metadata": {},
     "output_type": "display_data"
    },
    {
     "data": {
      "text/plain": [
       "<AxesSubplot:xlabel='kitchen_area', ylabel='last_price'>"
      ]
     },
     "execution_count": 46,
     "metadata": {},
     "output_type": "execute_result"
    },
    {
     "data": {
      "image/png": "[encoded data removed]",
      "text/plain": [
       "<Figure size 432x288 with 1 Axes>"
      ]
     },
     "metadata": {
      "needs_background": "light"
     },
     "output_type": "display_data"
    }
   ],
   "source": [
    "display(data['last_price'].corr(data['kitchen_area']))\n",
    "data.plot(x='kitchen_area', y='last_price', kind='scatter', sharex=False, grid=True)"
   ]
  },
  {
   "cell_type": "markdown",
   "metadata": {},
   "source": [
    "Есть слабая корреляция между площадью кухни и ценой квартиры. "
   ]
  },
  {
   "cell_type": "code",
   "execution_count": 47,
   "metadata": {},
   "outputs": [
    {
     "data": {
      "text/html": [
       "<div>\n",
       "<style scoped>\n",
       "    .dataframe tbody tr th:only-of-type {\n",
       "        vertical-align: middle;\n",
       "    }\n",
       "\n",
       "    .dataframe tbody tr th {\n",
       "        vertical-align: top;\n",
       "    }\n",
       "\n",
       "    .dataframe thead th {\n",
       "        text-align: right;\n",
       "    }\n",
       "</style>\n",
       "<table border=\"1\" class=\"dataframe\">\n",
       "  <thead>\n",
       "    <tr style=\"text-align: right;\">\n",
       "      <th></th>\n",
       "      <th>last_price</th>\n",
       "    </tr>\n",
       "    <tr>\n",
       "      <th>rooms</th>\n",
       "      <th></th>\n",
       "    </tr>\n",
       "  </thead>\n",
       "  <tbody>\n",
       "    <tr>\n",
       "      <th>0</th>\n",
       "      <td>2700000.0</td>\n",
       "    </tr>\n",
       "    <tr>\n",
       "      <th>1</th>\n",
       "      <td>3600000.0</td>\n",
       "    </tr>\n",
       "    <tr>\n",
       "      <th>2</th>\n",
       "      <td>4650000.0</td>\n",
       "    </tr>\n",
       "    <tr>\n",
       "      <th>3</th>\n",
       "      <td>5700000.0</td>\n",
       "    </tr>\n",
       "    <tr>\n",
       "      <th>4</th>\n",
       "      <td>6845000.0</td>\n",
       "    </tr>\n",
       "    <tr>\n",
       "      <th>5</th>\n",
       "      <td>8100000.0</td>\n",
       "    </tr>\n",
       "    <tr>\n",
       "      <th>6</th>\n",
       "      <td>9100000.0</td>\n",
       "    </tr>\n",
       "  </tbody>\n",
       "</table>\n",
       "</div>"
      ],
      "text/plain": [
       "       last_price\n",
       "rooms            \n",
       "0       2700000.0\n",
       "1       3600000.0\n",
       "2       4650000.0\n",
       "3       5700000.0\n",
       "4       6845000.0\n",
       "5       8100000.0\n",
       "6       9100000.0"
      ]
     },
     "metadata": {},
     "output_type": "display_data"
    },
    {
     "data": {
      "image/png": "[encoded data removed]",
      "text/plain": [
       "<Figure size 432x288 with 1 Axes>"
      ]
     },
     "metadata": {
      "needs_background": "light"
     },
     "output_type": "display_data"
    }
   ],
   "source": [
    "def barplot(param1,param2='last_price'):\n",
    "    data_new = data.pivot_table(index=[param1], values=param2,  aggfunc=['median'])\n",
    "    data_new.columns = [param2]\n",
    "    data_new.plot(y=param2, kind='bar')\n",
    "    display(data_new)\n",
    "barplot('rooms')"
   ]
  },
  {
   "cell_type": "markdown",
   "metadata": {},
   "source": [
    "С увеличением числа комнат цена растет."
   ]
  },
  {
   "cell_type": "code",
   "execution_count": 48,
   "metadata": {},
   "outputs": [
    {
     "data": {
      "text/html": [
       "<div>\n",
       "<style scoped>\n",
       "    .dataframe tbody tr th:only-of-type {\n",
       "        vertical-align: middle;\n",
       "    }\n",
       "\n",
       "    .dataframe tbody tr th {\n",
       "        vertical-align: top;\n",
       "    }\n",
       "\n",
       "    .dataframe thead th {\n",
       "        text-align: right;\n",
       "    }\n",
       "</style>\n",
       "<table border=\"1\" class=\"dataframe\">\n",
       "  <thead>\n",
       "    <tr style=\"text-align: right;\">\n",
       "      <th></th>\n",
       "      <th>last_price</th>\n",
       "    </tr>\n",
       "    <tr>\n",
       "      <th>floor_type</th>\n",
       "      <th></th>\n",
       "    </tr>\n",
       "  </thead>\n",
       "  <tbody>\n",
       "    <tr>\n",
       "      <th>другой</th>\n",
       "      <td>4580000.0</td>\n",
       "    </tr>\n",
       "    <tr>\n",
       "      <th>первый</th>\n",
       "      <td>3800000.0</td>\n",
       "    </tr>\n",
       "    <tr>\n",
       "      <th>последний</th>\n",
       "      <td>4000000.0</td>\n",
       "    </tr>\n",
       "  </tbody>\n",
       "</table>\n",
       "</div>"
      ],
      "text/plain": [
       "            last_price\n",
       "floor_type            \n",
       "другой       4580000.0\n",
       "первый       3800000.0\n",
       "последний    4000000.0"
      ]
     },
     "metadata": {},
     "output_type": "display_data"
    },
    {
     "data": {
      "image/png": "[encoded data removed]",
      "text/plain": [
       "<Figure size 432x288 with 1 Axes>"
      ]
     },
     "metadata": {
      "needs_background": "light"
     },
     "output_type": "display_data"
    }
   ],
   "source": [
    "barplot('floor_type')"
   ]
  },
  {
   "cell_type": "markdown",
   "metadata": {},
   "source": [
    "Цена ниже на квартиры первом этаже, на втором месте по цене - последний этаж."
   ]
  },
  {
   "cell_type": "code",
   "execution_count": 49,
   "metadata": {},
   "outputs": [
    {
     "data": {
      "text/html": [
       "<div>\n",
       "<style scoped>\n",
       "    .dataframe tbody tr th:only-of-type {\n",
       "        vertical-align: middle;\n",
       "    }\n",
       "\n",
       "    .dataframe tbody tr th {\n",
       "        vertical-align: top;\n",
       "    }\n",
       "\n",
       "    .dataframe thead th {\n",
       "        text-align: right;\n",
       "    }\n",
       "</style>\n",
       "<table border=\"1\" class=\"dataframe\">\n",
       "  <thead>\n",
       "    <tr style=\"text-align: right;\">\n",
       "      <th></th>\n",
       "      <th>last_price</th>\n",
       "    </tr>\n",
       "    <tr>\n",
       "      <th>weekday_exposition</th>\n",
       "      <th></th>\n",
       "    </tr>\n",
       "  </thead>\n",
       "  <tbody>\n",
       "    <tr>\n",
       "      <th>0</th>\n",
       "      <td>4400000.0</td>\n",
       "    </tr>\n",
       "    <tr>\n",
       "      <th>1</th>\n",
       "      <td>4455000.0</td>\n",
       "    </tr>\n",
       "    <tr>\n",
       "      <th>2</th>\n",
       "      <td>4450000.0</td>\n",
       "    </tr>\n",
       "    <tr>\n",
       "      <th>3</th>\n",
       "      <td>4400000.0</td>\n",
       "    </tr>\n",
       "    <tr>\n",
       "      <th>4</th>\n",
       "      <td>4350000.0</td>\n",
       "    </tr>\n",
       "    <tr>\n",
       "      <th>5</th>\n",
       "      <td>4400000.0</td>\n",
       "    </tr>\n",
       "    <tr>\n",
       "      <th>6</th>\n",
       "      <td>4350000.0</td>\n",
       "    </tr>\n",
       "  </tbody>\n",
       "</table>\n",
       "</div>"
      ],
      "text/plain": [
       "                    last_price\n",
       "weekday_exposition            \n",
       "0                    4400000.0\n",
       "1                    4455000.0\n",
       "2                    4450000.0\n",
       "3                    4400000.0\n",
       "4                    4350000.0\n",
       "5                    4400000.0\n",
       "6                    4350000.0"
      ]
     },
     "metadata": {},
     "output_type": "display_data"
    },
    {
     "data": {
      "text/html": [
       "<div>\n",
       "<style scoped>\n",
       "    .dataframe tbody tr th:only-of-type {\n",
       "        vertical-align: middle;\n",
       "    }\n",
       "\n",
       "    .dataframe tbody tr th {\n",
       "        vertical-align: top;\n",
       "    }\n",
       "\n",
       "    .dataframe thead th {\n",
       "        text-align: right;\n",
       "    }\n",
       "</style>\n",
       "<table border=\"1\" class=\"dataframe\">\n",
       "  <thead>\n",
       "    <tr style=\"text-align: right;\">\n",
       "      <th></th>\n",
       "      <th>last_price</th>\n",
       "    </tr>\n",
       "    <tr>\n",
       "      <th>month_exposition</th>\n",
       "      <th></th>\n",
       "    </tr>\n",
       "  </thead>\n",
       "  <tbody>\n",
       "    <tr>\n",
       "      <th>1</th>\n",
       "      <td>4400000.0</td>\n",
       "    </tr>\n",
       "    <tr>\n",
       "      <th>2</th>\n",
       "      <td>4400000.0</td>\n",
       "    </tr>\n",
       "    <tr>\n",
       "      <th>3</th>\n",
       "      <td>4400000.0</td>\n",
       "    </tr>\n",
       "    <tr>\n",
       "      <th>4</th>\n",
       "      <td>4550000.0</td>\n",
       "    </tr>\n",
       "    <tr>\n",
       "      <th>5</th>\n",
       "      <td>4300000.0</td>\n",
       "    </tr>\n",
       "    <tr>\n",
       "      <th>6</th>\n",
       "      <td>4200000.0</td>\n",
       "    </tr>\n",
       "    <tr>\n",
       "      <th>7</th>\n",
       "      <td>4350000.0</td>\n",
       "    </tr>\n",
       "    <tr>\n",
       "      <th>8</th>\n",
       "      <td>4350000.0</td>\n",
       "    </tr>\n",
       "    <tr>\n",
       "      <th>9</th>\n",
       "      <td>4400000.0</td>\n",
       "    </tr>\n",
       "    <tr>\n",
       "      <th>10</th>\n",
       "      <td>4400000.0</td>\n",
       "    </tr>\n",
       "    <tr>\n",
       "      <th>11</th>\n",
       "      <td>4450000.0</td>\n",
       "    </tr>\n",
       "    <tr>\n",
       "      <th>12</th>\n",
       "      <td>4470000.0</td>\n",
       "    </tr>\n",
       "  </tbody>\n",
       "</table>\n",
       "</div>"
      ],
      "text/plain": [
       "                  last_price\n",
       "month_exposition            \n",
       "1                  4400000.0\n",
       "2                  4400000.0\n",
       "3                  4400000.0\n",
       "4                  4550000.0\n",
       "5                  4300000.0\n",
       "6                  4200000.0\n",
       "7                  4350000.0\n",
       "8                  4350000.0\n",
       "9                  4400000.0\n",
       "10                 4400000.0\n",
       "11                 4450000.0\n",
       "12                 4470000.0"
      ]
     },
     "metadata": {},
     "output_type": "display_data"
    },
    {
     "data": {
      "text/html": [
       "<div>\n",
       "<style scoped>\n",
       "    .dataframe tbody tr th:only-of-type {\n",
       "        vertical-align: middle;\n",
       "    }\n",
       "\n",
       "    .dataframe tbody tr th {\n",
       "        vertical-align: top;\n",
       "    }\n",
       "\n",
       "    .dataframe thead th {\n",
       "        text-align: right;\n",
       "    }\n",
       "</style>\n",
       "<table border=\"1\" class=\"dataframe\">\n",
       "  <thead>\n",
       "    <tr style=\"text-align: right;\">\n",
       "      <th></th>\n",
       "      <th>last_price</th>\n",
       "    </tr>\n",
       "    <tr>\n",
       "      <th>year_exposition</th>\n",
       "      <th></th>\n",
       "    </tr>\n",
       "  </thead>\n",
       "  <tbody>\n",
       "    <tr>\n",
       "      <th>2014</th>\n",
       "      <td>5450000.0</td>\n",
       "    </tr>\n",
       "    <tr>\n",
       "      <th>2015</th>\n",
       "      <td>4855500.0</td>\n",
       "    </tr>\n",
       "    <tr>\n",
       "      <th>2016</th>\n",
       "      <td>4300000.0</td>\n",
       "    </tr>\n",
       "    <tr>\n",
       "      <th>2017</th>\n",
       "      <td>4290000.0</td>\n",
       "    </tr>\n",
       "    <tr>\n",
       "      <th>2018</th>\n",
       "      <td>4390000.0</td>\n",
       "    </tr>\n",
       "    <tr>\n",
       "      <th>2019</th>\n",
       "      <td>4800000.0</td>\n",
       "    </tr>\n",
       "  </tbody>\n",
       "</table>\n",
       "</div>"
      ],
      "text/plain": [
       "                 last_price\n",
       "year_exposition            \n",
       "2014              5450000.0\n",
       "2015              4855500.0\n",
       "2016              4300000.0\n",
       "2017              4290000.0\n",
       "2018              4390000.0\n",
       "2019              4800000.0"
      ]
     },
     "metadata": {},
     "output_type": "display_data"
    },
    {
     "data": {
      "image/png": "[encoded data removed]",
      "text/plain": [
       "<Figure size 432x288 with 1 Axes>"
      ]
     },
     "metadata": {
      "needs_background": "light"
     },
     "output_type": "display_data"
    },
    {
     "data": {
      "image/png": "[encoded data removed]",
      "text/plain": [
       "<Figure size 432x288 with 1 Axes>"
      ]
     },
     "metadata": {
      "needs_background": "light"
     },
     "output_type": "display_data"
    },
    {
     "data": {
      "image/png": "[encoded data removed]",
      "text/plain": [
       "<Figure size 432x288 with 1 Axes>"
      ]
     },
     "metadata": {
      "needs_background": "light"
     },
     "output_type": "display_data"
    }
   ],
   "source": [
    "barplot('weekday_exposition')\n",
    "barplot('month_exposition')\n",
    "barplot('year_exposition')"
   ]
  },
  {
   "cell_type": "markdown",
   "metadata": {},
   "source": [
    "Цена не зависит от дня недели, цена на квартиры чуть ниже в июне по сравнению с другими месяцами.\n",
    "Цены на квартиры были примерно на одном уровне в период с 2016 по 2018 год, в 2019 году наблюдается рост цен. "
   ]
  },
  {
   "cell_type": "code",
   "execution_count": 50,
   "metadata": {},
   "outputs": [
    {
     "data": {
      "text/html": [
       "<div>\n",
       "<style scoped>\n",
       "    .dataframe tbody tr th:only-of-type {\n",
       "        vertical-align: middle;\n",
       "    }\n",
       "\n",
       "    .dataframe tbody tr th {\n",
       "        vertical-align: top;\n",
       "    }\n",
       "\n",
       "    .dataframe thead th {\n",
       "        text-align: right;\n",
       "    }\n",
       "</style>\n",
       "<table border=\"1\" class=\"dataframe\">\n",
       "  <thead>\n",
       "    <tr style=\"text-align: right;\">\n",
       "      <th></th>\n",
       "      <th>price_per_meter</th>\n",
       "    </tr>\n",
       "    <tr>\n",
       "      <th>rooms</th>\n",
       "      <th></th>\n",
       "    </tr>\n",
       "  </thead>\n",
       "  <tbody>\n",
       "    <tr>\n",
       "      <th>0</th>\n",
       "      <td>105078.202487</td>\n",
       "    </tr>\n",
       "    <tr>\n",
       "      <th>1</th>\n",
       "      <td>100000.000000</td>\n",
       "    </tr>\n",
       "    <tr>\n",
       "      <th>2</th>\n",
       "      <td>91402.570983</td>\n",
       "    </tr>\n",
       "    <tr>\n",
       "      <th>3</th>\n",
       "      <td>85087.719298</td>\n",
       "    </tr>\n",
       "    <tr>\n",
       "      <th>4</th>\n",
       "      <td>82000.000000</td>\n",
       "    </tr>\n",
       "    <tr>\n",
       "      <th>5</th>\n",
       "      <td>79227.053140</td>\n",
       "    </tr>\n",
       "    <tr>\n",
       "      <th>6</th>\n",
       "      <td>81981.981982</td>\n",
       "    </tr>\n",
       "  </tbody>\n",
       "</table>\n",
       "</div>"
      ],
      "text/plain": [
       "       price_per_meter\n",
       "rooms                 \n",
       "0        105078.202487\n",
       "1        100000.000000\n",
       "2         91402.570983\n",
       "3         85087.719298\n",
       "4         82000.000000\n",
       "5         79227.053140\n",
       "6         81981.981982"
      ]
     },
     "metadata": {},
     "output_type": "display_data"
    },
    {
     "data": {
      "image/png": "[encoded data removed]",
      "text/plain": [
       "<Figure size 432x288 with 1 Axes>"
      ]
     },
     "metadata": {
      "needs_background": "light"
     },
     "output_type": "display_data"
    }
   ],
   "source": [
    "barplot('rooms','price_per_meter')"
   ]
  },
  {
   "cell_type": "markdown",
   "metadata": {},
   "source": [
    "C увеличением площади (количества комнат в квартире) снижается цена за квадратный метр."
   ]
  },
  {
   "cell_type": "markdown",
   "metadata": {},
   "source": [
    "### Топ 10 самых дорогих населенных пунктов"
   ]
  },
  {
   "cell_type": "code",
   "execution_count": 51,
   "metadata": {
    "scrolled": true
   },
   "outputs": [
    {
     "data": {
      "text/html": [
       "<div>\n",
       "<style scoped>\n",
       "    .dataframe tbody tr th:only-of-type {\n",
       "        vertical-align: middle;\n",
       "    }\n",
       "\n",
       "    .dataframe tbody tr th {\n",
       "        vertical-align: top;\n",
       "    }\n",
       "\n",
       "    .dataframe thead th {\n",
       "        text-align: right;\n",
       "    }\n",
       "</style>\n",
       "<table border=\"1\" class=\"dataframe\">\n",
       "  <thead>\n",
       "    <tr style=\"text-align: right;\">\n",
       "      <th></th>\n",
       "      <th>price_per_meter</th>\n",
       "      <th>count</th>\n",
       "    </tr>\n",
       "    <tr>\n",
       "      <th>short_locality_name</th>\n",
       "      <th></th>\n",
       "      <th></th>\n",
       "    </tr>\n",
       "  </thead>\n",
       "  <tbody>\n",
       "    <tr>\n",
       "      <th>санкт-петербург</th>\n",
       "      <td>102083.333333</td>\n",
       "      <td>13630</td>\n",
       "    </tr>\n",
       "    <tr>\n",
       "      <th>мурино</th>\n",
       "      <td>86250.377687</td>\n",
       "      <td>586</td>\n",
       "    </tr>\n",
       "    <tr>\n",
       "      <th>кудрово</th>\n",
       "      <td>95435.612635</td>\n",
       "      <td>468</td>\n",
       "    </tr>\n",
       "    <tr>\n",
       "      <th>шушары</th>\n",
       "      <td>76747.967480</td>\n",
       "      <td>438</td>\n",
       "    </tr>\n",
       "    <tr>\n",
       "      <th>всеволожск</th>\n",
       "      <td>65789.473684</td>\n",
       "      <td>394</td>\n",
       "    </tr>\n",
       "    <tr>\n",
       "      <th>пушкин</th>\n",
       "      <td>98454.743209</td>\n",
       "      <td>338</td>\n",
       "    </tr>\n",
       "    <tr>\n",
       "      <th>колпино</th>\n",
       "      <td>74722.222222</td>\n",
       "      <td>335</td>\n",
       "    </tr>\n",
       "    <tr>\n",
       "      <th>парголово</th>\n",
       "      <td>91780.224134</td>\n",
       "      <td>326</td>\n",
       "    </tr>\n",
       "    <tr>\n",
       "      <th>гатчина</th>\n",
       "      <td>67796.610169</td>\n",
       "      <td>303</td>\n",
       "    </tr>\n",
       "    <tr>\n",
       "      <th>выборг</th>\n",
       "      <td>58233.006089</td>\n",
       "      <td>232</td>\n",
       "    </tr>\n",
       "  </tbody>\n",
       "</table>\n",
       "</div>"
      ],
      "text/plain": [
       "                     price_per_meter  count\n",
       "short_locality_name                        \n",
       "санкт-петербург        102083.333333  13630\n",
       "мурино                  86250.377687    586\n",
       "кудрово                 95435.612635    468\n",
       "шушары                  76747.967480    438\n",
       "всеволожск              65789.473684    394\n",
       "пушкин                  98454.743209    338\n",
       "колпино                 74722.222222    335\n",
       "парголово               91780.224134    326\n",
       "гатчина                 67796.610169    303\n",
       "выборг                  58233.006089    232"
      ]
     },
     "metadata": {},
     "output_type": "display_data"
    },
    {
     "data": {
      "text/html": [
       "<div>\n",
       "<style scoped>\n",
       "    .dataframe tbody tr th:only-of-type {\n",
       "        vertical-align: middle;\n",
       "    }\n",
       "\n",
       "    .dataframe tbody tr th {\n",
       "        vertical-align: top;\n",
       "    }\n",
       "\n",
       "    .dataframe thead th {\n",
       "        text-align: right;\n",
       "    }\n",
       "</style>\n",
       "<table border=\"1\" class=\"dataframe\">\n",
       "  <thead>\n",
       "    <tr style=\"text-align: right;\">\n",
       "      <th></th>\n",
       "      <th>price_per_meter</th>\n",
       "      <th>count</th>\n",
       "    </tr>\n",
       "    <tr>\n",
       "      <th>short_locality_name</th>\n",
       "      <th></th>\n",
       "      <th></th>\n",
       "    </tr>\n",
       "  </thead>\n",
       "  <tbody>\n",
       "    <tr>\n",
       "      <th>санкт-петербург</th>\n",
       "      <td>102083.333333</td>\n",
       "      <td>13630</td>\n",
       "    </tr>\n",
       "  </tbody>\n",
       "</table>\n",
       "</div>"
      ],
      "text/plain": [
       "                     price_per_meter  count\n",
       "short_locality_name                        \n",
       "санкт-петербург        102083.333333  13630"
      ]
     },
     "metadata": {},
     "output_type": "display_data"
    },
    {
     "data": {
      "text/html": [
       "<div>\n",
       "<style scoped>\n",
       "    .dataframe tbody tr th:only-of-type {\n",
       "        vertical-align: middle;\n",
       "    }\n",
       "\n",
       "    .dataframe tbody tr th {\n",
       "        vertical-align: top;\n",
       "    }\n",
       "\n",
       "    .dataframe thead th {\n",
       "        text-align: right;\n",
       "    }\n",
       "</style>\n",
       "<table border=\"1\" class=\"dataframe\">\n",
       "  <thead>\n",
       "    <tr style=\"text-align: right;\">\n",
       "      <th></th>\n",
       "      <th>price_per_meter</th>\n",
       "      <th>count</th>\n",
       "    </tr>\n",
       "    <tr>\n",
       "      <th>short_locality_name</th>\n",
       "      <th></th>\n",
       "      <th></th>\n",
       "    </tr>\n",
       "  </thead>\n",
       "  <tbody>\n",
       "    <tr>\n",
       "      <th>выборг</th>\n",
       "      <td>58233.006089</td>\n",
       "      <td>232</td>\n",
       "    </tr>\n",
       "  </tbody>\n",
       "</table>\n",
       "</div>"
      ],
      "text/plain": [
       "                     price_per_meter  count\n",
       "short_locality_name                        \n",
       "выборг                  58233.006089    232"
      ]
     },
     "metadata": {},
     "output_type": "display_data"
    }
   ],
   "source": [
    "locality_stat = data.pivot_table(index='short_locality_name', values='price_per_meter',  aggfunc=['median', 'count'])\n",
    "locality_stat.columns = ['price_per_meter', 'count']\n",
    "\n",
    "top10=locality_stat.sort_values(by=['count'], ascending=False).head(10)\n",
    "\n",
    "display(top10)\n",
    "\n",
    "display(top10.sort_values(by=['price_per_meter'], ascending=False).head(1))\n",
    "display(top10.sort_values(by=['price_per_meter'], ascending=False).tail(1))\n",
    "\n"
   ]
  },
  {
   "cell_type": "markdown",
   "metadata": {},
   "source": [
    "В десятке населенных пунктов с наибольшим числом объявлений самая высокая цена квадратного метра в санкт-петербурге, а самая низкая в выборге"
   ]
  },
  {
   "cell_type": "markdown",
   "metadata": {},
   "source": [
    "###  Цена каждого километра"
   ]
  },
  {
   "cell_type": "code",
   "execution_count": 52,
   "metadata": {},
   "outputs": [
    {
     "data": {
      "text/html": [
       "<div>\n",
       "<style scoped>\n",
       "    .dataframe tbody tr th:only-of-type {\n",
       "        vertical-align: middle;\n",
       "    }\n",
       "\n",
       "    .dataframe tbody tr th {\n",
       "        vertical-align: top;\n",
       "    }\n",
       "\n",
       "    .dataframe thead th {\n",
       "        text-align: right;\n",
       "    }\n",
       "</style>\n",
       "<table border=\"1\" class=\"dataframe\">\n",
       "  <thead>\n",
       "    <tr style=\"text-align: right;\">\n",
       "      <th></th>\n",
       "      <th>last_price</th>\n",
       "    </tr>\n",
       "    <tr>\n",
       "      <th>cityCenters_nearest_km</th>\n",
       "      <th></th>\n",
       "    </tr>\n",
       "  </thead>\n",
       "  <tbody>\n",
       "    <tr>\n",
       "      <th>0.0</th>\n",
       "      <td>7600000.0</td>\n",
       "    </tr>\n",
       "    <tr>\n",
       "      <th>1.0</th>\n",
       "      <td>8380000.0</td>\n",
       "    </tr>\n",
       "    <tr>\n",
       "      <th>2.0</th>\n",
       "      <td>8200000.0</td>\n",
       "    </tr>\n",
       "    <tr>\n",
       "      <th>3.0</th>\n",
       "      <td>7300000.0</td>\n",
       "    </tr>\n",
       "    <tr>\n",
       "      <th>4.0</th>\n",
       "      <td>7500000.0</td>\n",
       "    </tr>\n",
       "    <tr>\n",
       "      <th>5.0</th>\n",
       "      <td>7499000.0</td>\n",
       "    </tr>\n",
       "    <tr>\n",
       "      <th>6.0</th>\n",
       "      <td>6799500.0</td>\n",
       "    </tr>\n",
       "    <tr>\n",
       "      <th>7.0</th>\n",
       "      <td>6300000.0</td>\n",
       "    </tr>\n",
       "    <tr>\n",
       "      <th>8.0</th>\n",
       "      <td>6282000.0</td>\n",
       "    </tr>\n",
       "    <tr>\n",
       "      <th>9.0</th>\n",
       "      <td>5000000.0</td>\n",
       "    </tr>\n",
       "    <tr>\n",
       "      <th>10.0</th>\n",
       "      <td>4850000.0</td>\n",
       "    </tr>\n",
       "    <tr>\n",
       "      <th>11.0</th>\n",
       "      <td>4880000.0</td>\n",
       "    </tr>\n",
       "    <tr>\n",
       "      <th>12.0</th>\n",
       "      <td>4850000.0</td>\n",
       "    </tr>\n",
       "    <tr>\n",
       "      <th>13.0</th>\n",
       "      <td>5100000.0</td>\n",
       "    </tr>\n",
       "    <tr>\n",
       "      <th>14.0</th>\n",
       "      <td>4794000.0</td>\n",
       "    </tr>\n",
       "    <tr>\n",
       "      <th>15.0</th>\n",
       "      <td>4785000.0</td>\n",
       "    </tr>\n",
       "    <tr>\n",
       "      <th>16.0</th>\n",
       "      <td>4700000.0</td>\n",
       "    </tr>\n",
       "    <tr>\n",
       "      <th>17.0</th>\n",
       "      <td>4500000.0</td>\n",
       "    </tr>\n",
       "    <tr>\n",
       "      <th>18.0</th>\n",
       "      <td>4225000.0</td>\n",
       "    </tr>\n",
       "    <tr>\n",
       "      <th>19.0</th>\n",
       "      <td>4500000.0</td>\n",
       "    </tr>\n",
       "  </tbody>\n",
       "</table>\n",
       "</div>"
      ],
      "text/plain": [
       "                        last_price\n",
       "cityCenters_nearest_km            \n",
       "0.0                      7600000.0\n",
       "1.0                      8380000.0\n",
       "2.0                      8200000.0\n",
       "3.0                      7300000.0\n",
       "4.0                      7500000.0\n",
       "5.0                      7499000.0\n",
       "6.0                      6799500.0\n",
       "7.0                      6300000.0\n",
       "8.0                      6282000.0\n",
       "9.0                      5000000.0\n",
       "10.0                     4850000.0\n",
       "11.0                     4880000.0\n",
       "12.0                     4850000.0\n",
       "13.0                     5100000.0\n",
       "14.0                     4794000.0\n",
       "15.0                     4785000.0\n",
       "16.0                     4700000.0\n",
       "17.0                     4500000.0\n",
       "18.0                     4225000.0\n",
       "19.0                     4500000.0"
      ]
     },
     "metadata": {},
     "output_type": "display_data"
    },
    {
     "data": {
      "text/plain": [
       "<AxesSubplot:xlabel='cityCenters_nearest_km'>"
      ]
     },
     "execution_count": 52,
     "metadata": {},
     "output_type": "execute_result"
    },
    {
     "data": {
      "image/png": "[encoded data removed]",
      "text/plain": [
       "<Figure size 432x288 with 1 Axes>"
      ]
     },
     "metadata": {
      "needs_background": "light"
     },
     "output_type": "display_data"
    }
   ],
   "source": [
    "km_stat=data.query(\"short_locality_name=='санкт-петербург'\")\n",
    "km_stat = km_stat.pivot_table(index='cityCenters_nearest_km', values='last_price',  aggfunc=['median'])\n",
    "km_stat.columns = ['last_price']\n",
    "\n",
    "display(km_stat.head(20))\n",
    "km_stat.plot(y='last_price', kind='line', sharex=False, grid=True,use_index=True)\n"
   ]
  },
  {
   "cell_type": "markdown",
   "metadata": {},
   "source": [
    "Наблюдается динамика снижения цены при удалении объкта от центра города "
   ]
  },
  {
   "cell_type": "markdown",
   "metadata": {},
   "source": [
    "## Общий вывод"
   ]
  },
  {
   "cell_type": "markdown",
   "metadata": {},
   "source": [
    "В результате исследования данных были выявлены следующие закомерности:  \n",
    "    1. В среднем продажа квартиры занимает  91 дней (медиана)  \n",
    "    2. Чем дальше квартира находится от центра Петербурга, тем ниже ее цена   \n",
    "    3. Самая высокая цена квадратного метра в Петербурге, а самая низкая в Выборге (если брать топ10 по количеству объявлений)  \n",
    "    4. В Петербурге больше всего объявлений, вторая по величине средняя цена квадратного метра  \n",
    "    5. С увеличением площади (жилой, общей) растет цена  \n",
    "    6. С увеличением числа комнат (а как правило и площади) растет цена  \n",
    "    7. Цена ниже на квартиры на первом этаже, на втором месте по цене - последний этаж  \n",
    "    8. В 2019 году наблюдался рост цен на квартиры  \n",
    "    9.С увеличением площади (количества комнат в квартире) снижается цена за квадратный метр  \n",
    "    10. Количество объявлений, поданных в мае, ниже по сравнению с другими месяцами   \n",
    "    11. Число объявлений, поданных в выходные дни, ниже чем в другие дни недели.  \n",
    "    12. С годами число объявлений в продаже квартир растет(с 2015 по 2019 год).  \n",
    "    Это может говорить о росте популярности сервиса Яндекс Недвижимость. "
   ]
  },
  {
   "cell_type": "markdown",
   "metadata": {},
   "source": [
    "**Чек-лист готовности проекта**\n",
    "\n",
    "Поставьте 'x' в выполненных пунктах. Далее нажмите Shift+Enter."
   ]
  },
  {
   "cell_type": "markdown",
   "metadata": {},
   "source": [
    "- [x]  открыт файл\n",
    "- [X]  файлы изучены (выведены первые строки, метод `info()`, гистограммы и т.д.)\n",
    "- [X]  определены пропущенные значения\n",
    "- [X]  заполнены пропущенные значения там, где это возможно\n",
    "- [X]  есть пояснение, какие пропущенные значения обнаружены\n",
    "- [X]  изменены типы данных\n",
    "- [X]  есть пояснение, в каких столбцах изменены типы и почему\n",
    "- [X]  устранены неявные дубликаты в названиях населённых пунктов\n",
    "- [X]  устранены редкие и выбивающиеся значения (аномалии) во всех столбцах\n",
    "- [X]  посчитано и добавлено в таблицу: цена одного квадратного метра\n",
    "- [X]  посчитано и добавлено в таблицу: день публикации объявления (0 - понедельник, 1 - вторник и т.д.)\n",
    "- [X]  посчитано и добавлено в таблицу: месяц публикации объявления\n",
    "- [X]  посчитано и добавлено в таблицу: год публикации объявления\n",
    "- [X]  посчитано и добавлено в таблицу: тип этажа квартиры (значения — «первый», «последний», «другой»)\n",
    "- [X]  посчитано и добавлено в таблицу: расстояние в км до центра города\n",
    "- [X]  изучены и описаны следующие параметры:\n",
    "        - общая площадь;\n",
    "        - жилая площадь;\n",
    "        - площадь кухни;\n",
    "        - цена объекта;\n",
    "        - количество комнат;\n",
    "        - высота потолков;\n",
    "        - этаж квартиры;\n",
    "        - тип этажа квартиры («первый», «последний», «другой»);\n",
    "        - общее количество этажей в доме;\n",
    "        - расстояние до центра города в метрах;\n",
    "        - расстояние до ближайшего аэропорта;\n",
    "        - расстояние до ближайшего парка;\n",
    "        - день и месяц публикации объявления\n",
    "- [X]  построены гистограммы для каждого параметра\n",
    "- [X]  выполнено задание: \"Изучите, как быстро продавались квартиры (столбец days_exposition). Этот параметр показывает, сколько дней «висело» каждое объявление.\n",
    "    - Постройте гистограмму.\n",
    "    - Посчитайте среднее и медиану.\n",
    "    - В ячейке типа markdown опишите, сколько обычно занимает продажа. Какие продажи можно считать быстрыми, а какие — необычно долгими?\"\n",
    "- [x]  выполнено задание: \"Какие факторы больше всего влияют на общую (полную) стоимость объекта? Постройте графики, которые покажут зависимость цены от указанных ниже параметров. Для подготовки данных перед визуализацией вы можете использовать сводные таблицы.\"\n",
    "        - общей площади;\n",
    "        - жилой площади;\n",
    "        - площади кухни;\n",
    "        - количество комнат;\n",
    "        - типа этажа, на котором расположена квартира (первый, последний, другой);\n",
    "        - даты размещения (день недели, месяц, год);\n",
    "- [X]  выполнено задание: \"Посчитайте среднюю цену одного квадратного метра в 10 населённых пунктах с наибольшим числом объявлений. Выделите населённые пункты с самой высокой и низкой стоимостью квадратного метра. Эти данные можно найти по имени в столбце `locality_name`.\"\n",
    "- [X]  выполнено задание: \"Ранее вы посчитали расстояние до центра в километрах. Теперь выделите квартиры в Санкт-Петербурге с помощью столбца `locality_name` и вычислите среднюю цену каждого километра. Опишите, как стоимость объектов зависит от расстояния до центра города.\"\n",
    "- [X]  в каждом этапе есть промежуточные выводы\n",
    "- [X]  есть общий вывод"
   ]
  }
 ],
 "metadata": {
  "ExecuteTimeLog": [
   {
    "duration": 46,
    "start_time": "2022-11-30T13:01:45.032Z"
   },
   {
    "duration": 506,
    "start_time": "2022-11-30T13:02:16.453Z"
   },
   {
    "duration": 82,
    "start_time": "2022-11-30T13:02:18.908Z"
   },
   {
    "duration": 92,
    "start_time": "2022-11-30T13:02:52.373Z"
   },
   {
    "duration": 97,
    "start_time": "2022-11-30T13:03:53.280Z"
   },
   {
    "duration": 101,
    "start_time": "2022-11-30T13:06:27.490Z"
   },
   {
    "duration": 121,
    "start_time": "2022-11-30T13:06:54.042Z"
   },
   {
    "duration": 94,
    "start_time": "2022-11-30T13:07:12.369Z"
   },
   {
    "duration": 115,
    "start_time": "2022-11-30T13:07:27.910Z"
   },
   {
    "duration": 35,
    "start_time": "2022-11-30T13:08:05.908Z"
   },
   {
    "duration": 13,
    "start_time": "2022-11-30T13:08:20.908Z"
   },
   {
    "duration": 86,
    "start_time": "2022-11-30T13:08:23.345Z"
   },
   {
    "duration": 2359,
    "start_time": "2022-11-30T13:15:44.910Z"
   },
   {
    "duration": 16,
    "start_time": "2022-11-30T13:19:14.548Z"
   },
   {
    "duration": 9,
    "start_time": "2022-11-30T13:21:43.349Z"
   },
   {
    "duration": 5,
    "start_time": "2022-11-30T13:26:18.129Z"
   },
   {
    "duration": 10,
    "start_time": "2022-11-30T13:31:15.581Z"
   },
   {
    "duration": 10,
    "start_time": "2022-11-30T13:31:43.172Z"
   },
   {
    "duration": 10,
    "start_time": "2022-11-30T13:32:01.273Z"
   },
   {
    "duration": 4,
    "start_time": "2022-11-30T13:32:47.911Z"
   },
   {
    "duration": 6,
    "start_time": "2022-11-30T13:32:51.049Z"
   },
   {
    "duration": 5,
    "start_time": "2022-11-30T13:33:00.159Z"
   },
   {
    "duration": 9,
    "start_time": "2022-11-30T13:33:06.529Z"
   },
   {
    "duration": 5,
    "start_time": "2022-11-30T13:34:29.470Z"
   },
   {
    "duration": 3,
    "start_time": "2022-11-30T13:34:31.880Z"
   },
   {
    "duration": 3,
    "start_time": "2022-11-30T13:34:38.159Z"
   },
   {
    "duration": 6,
    "start_time": "2022-11-30T13:34:40.209Z"
   },
   {
    "duration": 8,
    "start_time": "2022-11-30T13:34:43.801Z"
   },
   {
    "duration": 7,
    "start_time": "2022-11-30T13:38:22.271Z"
   },
   {
    "duration": 4,
    "start_time": "2022-11-30T13:44:27.055Z"
   },
   {
    "duration": 9,
    "start_time": "2022-11-30T13:44:29.259Z"
   },
   {
    "duration": 7,
    "start_time": "2022-11-30T13:44:44.886Z"
   },
   {
    "duration": 10,
    "start_time": "2022-11-30T13:45:09.032Z"
   },
   {
    "duration": 5,
    "start_time": "2022-11-30T13:45:27.588Z"
   },
   {
    "duration": 6,
    "start_time": "2022-11-30T13:45:37.984Z"
   },
   {
    "duration": 6,
    "start_time": "2022-11-30T13:45:48.440Z"
   },
   {
    "duration": 4,
    "start_time": "2022-11-30T13:45:57.570Z"
   },
   {
    "duration": 7,
    "start_time": "2022-11-30T13:47:22.249Z"
   },
   {
    "duration": 132,
    "start_time": "2022-11-30T13:48:01.190Z"
   },
   {
    "duration": 136,
    "start_time": "2022-11-30T13:48:23.662Z"
   },
   {
    "duration": 151,
    "start_time": "2022-11-30T13:51:43.420Z"
   },
   {
    "duration": 151,
    "start_time": "2022-11-30T13:52:24.792Z"
   },
   {
    "duration": 142,
    "start_time": "2022-11-30T13:53:19.141Z"
   },
   {
    "duration": 6,
    "start_time": "2022-11-30T13:53:27.182Z"
   },
   {
    "duration": 35,
    "start_time": "2022-11-30T13:53:53.512Z"
   },
   {
    "duration": 9,
    "start_time": "2022-11-30T13:54:55.438Z"
   },
   {
    "duration": 69,
    "start_time": "2022-11-30T13:55:51.653Z"
   },
   {
    "duration": 72,
    "start_time": "2022-11-30T13:55:59.483Z"
   },
   {
    "duration": 124,
    "start_time": "2022-11-30T13:56:10.402Z"
   },
   {
    "duration": 97,
    "start_time": "2022-11-30T13:56:25.153Z"
   },
   {
    "duration": 82,
    "start_time": "2022-11-30T13:57:27.358Z"
   },
   {
    "duration": 72,
    "start_time": "2022-11-30T13:57:33.623Z"
   },
   {
    "duration": 0,
    "start_time": "2022-11-30T13:57:51.462Z"
   },
   {
    "duration": 0,
    "start_time": "2022-11-30T13:57:51.464Z"
   },
   {
    "duration": 0,
    "start_time": "2022-11-30T13:57:51.465Z"
   },
   {
    "duration": 0,
    "start_time": "2022-11-30T13:57:51.466Z"
   },
   {
    "duration": 0,
    "start_time": "2022-11-30T13:57:51.468Z"
   },
   {
    "duration": 0,
    "start_time": "2022-11-30T13:57:51.469Z"
   },
   {
    "duration": 0,
    "start_time": "2022-11-30T13:57:51.470Z"
   },
   {
    "duration": 0,
    "start_time": "2022-11-30T13:57:51.472Z"
   },
   {
    "duration": 0,
    "start_time": "2022-11-30T13:57:51.473Z"
   },
   {
    "duration": 0,
    "start_time": "2022-11-30T13:57:51.474Z"
   },
   {
    "duration": 0,
    "start_time": "2022-11-30T13:57:51.475Z"
   },
   {
    "duration": 0,
    "start_time": "2022-11-30T13:57:51.477Z"
   },
   {
    "duration": 105,
    "start_time": "2022-11-30T13:58:00.327Z"
   },
   {
    "duration": 153,
    "start_time": "2022-11-30T13:59:16.951Z"
   },
   {
    "duration": 143,
    "start_time": "2022-11-30T13:59:30.640Z"
   },
   {
    "duration": 183,
    "start_time": "2022-11-30T13:59:36.158Z"
   },
   {
    "duration": 151,
    "start_time": "2022-11-30T13:59:48.559Z"
   },
   {
    "duration": 152,
    "start_time": "2022-11-30T14:01:15.701Z"
   },
   {
    "duration": 158,
    "start_time": "2022-11-30T14:01:36.684Z"
   },
   {
    "duration": 310,
    "start_time": "2022-11-30T14:02:01.848Z"
   },
   {
    "duration": 153,
    "start_time": "2022-11-30T14:02:47.770Z"
   },
   {
    "duration": 156,
    "start_time": "2022-11-30T14:03:26.502Z"
   },
   {
    "duration": 190,
    "start_time": "2022-11-30T14:03:41.641Z"
   },
   {
    "duration": 13,
    "start_time": "2022-11-30T14:04:13.100Z"
   },
   {
    "duration": 85,
    "start_time": "2022-11-30T14:04:51.510Z"
   },
   {
    "duration": 57,
    "start_time": "2022-11-30T14:04:59.833Z"
   },
   {
    "duration": 52,
    "start_time": "2022-11-30T14:06:29.930Z"
   },
   {
    "duration": 46,
    "start_time": "2022-11-30T14:06:33.952Z"
   },
   {
    "duration": 47,
    "start_time": "2022-11-30T14:06:49.720Z"
   },
   {
    "duration": 48,
    "start_time": "2022-11-30T14:07:04.481Z"
   },
   {
    "duration": 71,
    "start_time": "2022-11-30T14:10:12.581Z"
   },
   {
    "duration": 96,
    "start_time": "2022-11-30T14:11:11.402Z"
   },
   {
    "duration": 51,
    "start_time": "2022-11-30T14:11:23.593Z"
   },
   {
    "duration": 89,
    "start_time": "2022-11-30T14:21:55.238Z"
   },
   {
    "duration": 47,
    "start_time": "2022-11-30T14:22:33.516Z"
   },
   {
    "duration": 98,
    "start_time": "2022-11-30T14:22:56.900Z"
   },
   {
    "duration": 56,
    "start_time": "2022-11-30T14:23:55.630Z"
   },
   {
    "duration": 33,
    "start_time": "2022-11-30T14:24:19.540Z"
   },
   {
    "duration": 83,
    "start_time": "2022-11-30T14:24:37.975Z"
   },
   {
    "duration": 14,
    "start_time": "2022-11-30T14:24:38.060Z"
   },
   {
    "duration": 50,
    "start_time": "2022-11-30T14:24:38.076Z"
   },
   {
    "duration": 2019,
    "start_time": "2022-11-30T14:24:38.127Z"
   },
   {
    "duration": 9,
    "start_time": "2022-11-30T14:24:40.148Z"
   },
   {
    "duration": 6,
    "start_time": "2022-11-30T14:24:40.158Z"
   },
   {
    "duration": 4,
    "start_time": "2022-11-30T14:24:40.166Z"
   },
   {
    "duration": 10,
    "start_time": "2022-11-30T14:24:40.172Z"
   },
   {
    "duration": 6,
    "start_time": "2022-11-30T14:24:40.184Z"
   },
   {
    "duration": 31,
    "start_time": "2022-11-30T14:24:40.191Z"
   },
   {
    "duration": 16,
    "start_time": "2022-11-30T14:24:40.225Z"
   },
   {
    "duration": 54,
    "start_time": "2022-11-30T14:24:46.230Z"
   },
   {
    "duration": 25,
    "start_time": "2022-11-30T14:25:12.520Z"
   },
   {
    "duration": 188,
    "start_time": "2022-11-30T14:25:27.517Z"
   },
   {
    "duration": 201,
    "start_time": "2022-11-30T14:25:49.080Z"
   },
   {
    "duration": 184,
    "start_time": "2022-11-30T14:26:44.109Z"
   },
   {
    "duration": 216,
    "start_time": "2022-11-30T14:41:49.151Z"
   },
   {
    "duration": 196,
    "start_time": "2022-11-30T14:42:44.667Z"
   },
   {
    "duration": 5,
    "start_time": "2022-11-30T14:43:40.789Z"
   },
   {
    "duration": 9,
    "start_time": "2022-11-30T14:44:14.981Z"
   },
   {
    "duration": 12,
    "start_time": "2022-11-30T14:44:51.358Z"
   },
   {
    "duration": 14,
    "start_time": "2022-11-30T14:46:55.952Z"
   },
   {
    "duration": 14,
    "start_time": "2022-11-30T14:47:06.069Z"
   },
   {
    "duration": 10,
    "start_time": "2022-11-30T14:47:43.224Z"
   },
   {
    "duration": 12,
    "start_time": "2022-11-30T15:00:29.432Z"
   },
   {
    "duration": 13,
    "start_time": "2022-11-30T15:01:04.999Z"
   },
   {
    "duration": 10,
    "start_time": "2022-11-30T15:02:57.760Z"
   },
   {
    "duration": 7,
    "start_time": "2022-11-30T15:03:32.300Z"
   },
   {
    "duration": 8,
    "start_time": "2022-11-30T15:04:23.002Z"
   },
   {
    "duration": 9,
    "start_time": "2022-11-30T15:04:29.096Z"
   },
   {
    "duration": 6,
    "start_time": "2022-11-30T15:05:27.390Z"
   },
   {
    "duration": 93,
    "start_time": "2022-11-30T15:14:10.601Z"
   },
   {
    "duration": 128,
    "start_time": "2022-11-30T15:14:33.514Z"
   },
   {
    "duration": 72,
    "start_time": "2022-11-30T15:27:42.390Z"
   },
   {
    "duration": 5,
    "start_time": "2022-11-30T15:27:50.829Z"
   },
   {
    "duration": 71,
    "start_time": "2022-11-30T15:30:52.908Z"
   },
   {
    "duration": 110,
    "start_time": "2022-11-30T15:31:04.423Z"
   },
   {
    "duration": 71,
    "start_time": "2022-11-30T15:31:13.260Z"
   },
   {
    "duration": 13,
    "start_time": "2022-11-30T15:31:19.192Z"
   },
   {
    "duration": 74,
    "start_time": "2022-11-30T15:34:22.462Z"
   },
   {
    "duration": 88,
    "start_time": "2022-11-30T15:34:40.389Z"
   },
   {
    "duration": 17,
    "start_time": "2022-11-30T15:36:26.044Z"
   },
   {
    "duration": 3,
    "start_time": "2022-11-30T15:38:41.840Z"
   },
   {
    "duration": 298,
    "start_time": "2022-11-30T15:39:15.677Z"
   },
   {
    "duration": 326,
    "start_time": "2022-11-30T15:39:31.148Z"
   },
   {
    "duration": 12,
    "start_time": "2022-11-30T15:40:09.629Z"
   },
   {
    "duration": 12,
    "start_time": "2022-11-30T15:40:23.929Z"
   },
   {
    "duration": 12,
    "start_time": "2022-11-30T15:40:45.249Z"
   },
   {
    "duration": 10,
    "start_time": "2022-11-30T15:41:20.870Z"
   },
   {
    "duration": 11,
    "start_time": "2022-11-30T15:42:31.468Z"
   },
   {
    "duration": 488,
    "start_time": "2022-11-30T15:42:46.721Z"
   },
   {
    "duration": 15,
    "start_time": "2022-11-30T15:42:47.211Z"
   },
   {
    "duration": 40,
    "start_time": "2022-11-30T15:42:47.228Z"
   },
   {
    "duration": 2175,
    "start_time": "2022-11-30T15:42:47.270Z"
   },
   {
    "duration": 10,
    "start_time": "2022-11-30T15:42:49.448Z"
   },
   {
    "duration": 5,
    "start_time": "2022-11-30T15:42:49.459Z"
   },
   {
    "duration": 5,
    "start_time": "2022-11-30T15:42:49.466Z"
   },
   {
    "duration": 6,
    "start_time": "2022-11-30T15:42:49.473Z"
   },
   {
    "duration": 6,
    "start_time": "2022-11-30T15:42:49.481Z"
   },
   {
    "duration": 12,
    "start_time": "2022-11-30T15:42:49.489Z"
   },
   {
    "duration": 14,
    "start_time": "2022-11-30T15:42:49.502Z"
   },
   {
    "duration": 205,
    "start_time": "2022-11-30T15:42:49.518Z"
   },
   {
    "duration": 12,
    "start_time": "2022-11-30T15:42:49.725Z"
   },
   {
    "duration": 9,
    "start_time": "2022-11-30T15:42:49.739Z"
   },
   {
    "duration": 102,
    "start_time": "2022-11-30T15:42:49.749Z"
   },
   {
    "duration": 12,
    "start_time": "2022-11-30T15:44:55.930Z"
   },
   {
    "duration": 499,
    "start_time": "2022-11-30T15:45:54.807Z"
   },
   {
    "duration": 15,
    "start_time": "2022-11-30T15:45:55.308Z"
   },
   {
    "duration": 44,
    "start_time": "2022-11-30T15:45:55.324Z"
   },
   {
    "duration": 2152,
    "start_time": "2022-11-30T15:45:55.369Z"
   },
   {
    "duration": 9,
    "start_time": "2022-11-30T15:45:57.523Z"
   },
   {
    "duration": 5,
    "start_time": "2022-11-30T15:45:57.534Z"
   },
   {
    "duration": 3,
    "start_time": "2022-11-30T15:45:57.540Z"
   },
   {
    "duration": 5,
    "start_time": "2022-11-30T15:45:57.545Z"
   },
   {
    "duration": 6,
    "start_time": "2022-11-30T15:45:57.551Z"
   },
   {
    "duration": 8,
    "start_time": "2022-11-30T15:45:57.558Z"
   },
   {
    "duration": 7,
    "start_time": "2022-11-30T15:45:57.567Z"
   },
   {
    "duration": 221,
    "start_time": "2022-11-30T15:45:57.576Z"
   },
   {
    "duration": 18,
    "start_time": "2022-11-30T15:45:57.798Z"
   },
   {
    "duration": 10,
    "start_time": "2022-11-30T15:45:57.818Z"
   },
   {
    "duration": 88,
    "start_time": "2022-11-30T15:45:57.830Z"
   },
   {
    "duration": 11,
    "start_time": "2022-11-30T15:47:08.282Z"
   },
   {
    "duration": 32,
    "start_time": "2022-11-30T15:47:14.110Z"
   },
   {
    "duration": 18,
    "start_time": "2022-11-30T15:48:12.549Z"
   },
   {
    "duration": 281,
    "start_time": "2022-11-30T15:57:39.910Z"
   },
   {
    "duration": 1656,
    "start_time": "2022-11-30T15:58:15.712Z"
   },
   {
    "duration": 26,
    "start_time": "2022-11-30T15:58:37.419Z"
   },
   {
    "duration": 1099,
    "start_time": "2022-11-30T16:06:25.968Z"
   },
   {
    "duration": 2778,
    "start_time": "2022-11-30T16:06:51.250Z"
   },
   {
    "duration": 4,
    "start_time": "2022-11-30T16:14:29.430Z"
   },
   {
    "duration": 4,
    "start_time": "2022-11-30T16:14:31.572Z"
   },
   {
    "duration": 16,
    "start_time": "2022-11-30T17:07:46.102Z"
   },
   {
    "duration": 13,
    "start_time": "2022-11-30T17:08:10.282Z"
   },
   {
    "duration": 11,
    "start_time": "2022-11-30T17:13:19.851Z"
   },
   {
    "duration": 15,
    "start_time": "2022-11-30T17:14:49.799Z"
   },
   {
    "duration": 19,
    "start_time": "2022-11-30T17:15:27.194Z"
   },
   {
    "duration": 16,
    "start_time": "2022-11-30T17:16:57.151Z"
   },
   {
    "duration": 506,
    "start_time": "2022-11-30T17:17:42.408Z"
   },
   {
    "duration": 18,
    "start_time": "2022-11-30T17:17:42.916Z"
   },
   {
    "duration": 79,
    "start_time": "2022-11-30T17:17:42.936Z"
   },
   {
    "duration": 2373,
    "start_time": "2022-11-30T17:17:43.017Z"
   },
   {
    "duration": 14,
    "start_time": "2022-11-30T17:17:45.393Z"
   },
   {
    "duration": 18,
    "start_time": "2022-11-30T17:17:45.409Z"
   },
   {
    "duration": 11,
    "start_time": "2022-11-30T17:17:45.429Z"
   },
   {
    "duration": 9,
    "start_time": "2022-11-30T17:17:45.442Z"
   },
   {
    "duration": 11,
    "start_time": "2022-11-30T17:17:45.453Z"
   },
   {
    "duration": 12,
    "start_time": "2022-11-30T17:17:45.466Z"
   },
   {
    "duration": 10,
    "start_time": "2022-11-30T17:17:45.480Z"
   },
   {
    "duration": 221,
    "start_time": "2022-11-30T17:17:45.492Z"
   },
   {
    "duration": 16,
    "start_time": "2022-11-30T17:17:45.714Z"
   },
   {
    "duration": 11,
    "start_time": "2022-11-30T17:17:45.733Z"
   },
   {
    "duration": 105,
    "start_time": "2022-11-30T17:17:45.746Z"
   },
   {
    "duration": 59,
    "start_time": "2022-11-30T17:18:45.499Z"
   },
   {
    "duration": 17,
    "start_time": "2022-11-30T18:03:46.034Z"
   },
   {
    "duration": 13,
    "start_time": "2022-11-30T18:04:03.113Z"
   },
   {
    "duration": 520,
    "start_time": "2022-11-30T18:04:49.604Z"
   },
   {
    "duration": 16,
    "start_time": "2022-11-30T18:04:50.126Z"
   },
   {
    "duration": 43,
    "start_time": "2022-11-30T18:04:50.144Z"
   },
   {
    "duration": 2320,
    "start_time": "2022-11-30T18:04:50.189Z"
   },
   {
    "duration": 9,
    "start_time": "2022-11-30T18:04:52.512Z"
   },
   {
    "duration": 31,
    "start_time": "2022-11-30T18:04:52.522Z"
   },
   {
    "duration": 13,
    "start_time": "2022-11-30T18:04:52.554Z"
   },
   {
    "duration": 8,
    "start_time": "2022-11-30T18:04:52.569Z"
   },
   {
    "duration": 9,
    "start_time": "2022-11-30T18:04:52.578Z"
   },
   {
    "duration": 11,
    "start_time": "2022-11-30T18:04:52.588Z"
   },
   {
    "duration": 9,
    "start_time": "2022-11-30T18:04:52.600Z"
   },
   {
    "duration": 195,
    "start_time": "2022-11-30T18:04:52.610Z"
   },
   {
    "duration": 17,
    "start_time": "2022-11-30T18:04:52.806Z"
   },
   {
    "duration": 10,
    "start_time": "2022-11-30T18:04:52.826Z"
   },
   {
    "duration": 12,
    "start_time": "2022-11-30T18:04:52.838Z"
   },
   {
    "duration": 106,
    "start_time": "2022-11-30T18:07:47.322Z"
   },
   {
    "duration": 19,
    "start_time": "2022-11-30T18:08:19.441Z"
   },
   {
    "duration": 15,
    "start_time": "2022-11-30T18:09:13.059Z"
   },
   {
    "duration": 15,
    "start_time": "2022-11-30T18:10:02.351Z"
   },
   {
    "duration": 13,
    "start_time": "2022-11-30T18:13:07.547Z"
   },
   {
    "duration": 47,
    "start_time": "2022-11-30T18:14:25.601Z"
   },
   {
    "duration": 56,
    "start_time": "2022-11-30T18:19:47.191Z"
   },
   {
    "duration": 87,
    "start_time": "2022-11-30T18:20:17.191Z"
   },
   {
    "duration": 524,
    "start_time": "2022-11-30T18:21:36.791Z"
   },
   {
    "duration": 15,
    "start_time": "2022-11-30T18:21:37.317Z"
   },
   {
    "duration": 52,
    "start_time": "2022-11-30T18:21:37.334Z"
   },
   {
    "duration": 2225,
    "start_time": "2022-11-30T18:21:37.388Z"
   },
   {
    "duration": 9,
    "start_time": "2022-11-30T18:21:39.616Z"
   },
   {
    "duration": 19,
    "start_time": "2022-11-30T18:21:39.627Z"
   },
   {
    "duration": 13,
    "start_time": "2022-11-30T18:21:39.648Z"
   },
   {
    "duration": 10,
    "start_time": "2022-11-30T18:21:39.662Z"
   },
   {
    "duration": 11,
    "start_time": "2022-11-30T18:21:39.674Z"
   },
   {
    "duration": 9,
    "start_time": "2022-11-30T18:21:39.687Z"
   },
   {
    "duration": 5,
    "start_time": "2022-11-30T18:21:39.713Z"
   },
   {
    "duration": 217,
    "start_time": "2022-11-30T18:21:39.720Z"
   },
   {
    "duration": 13,
    "start_time": "2022-11-30T18:21:39.939Z"
   },
   {
    "duration": 9,
    "start_time": "2022-11-30T18:21:39.954Z"
   },
   {
    "duration": 143,
    "start_time": "2022-11-30T18:21:39.965Z"
   },
   {
    "duration": 110,
    "start_time": "2022-11-30T18:23:50.430Z"
   },
   {
    "duration": 49,
    "start_time": "2022-11-30T18:24:04.193Z"
   },
   {
    "duration": 44,
    "start_time": "2022-11-30T18:24:39.634Z"
   },
   {
    "duration": 20,
    "start_time": "2022-11-30T18:25:34.894Z"
   },
   {
    "duration": 11,
    "start_time": "2022-11-30T18:27:11.848Z"
   },
   {
    "duration": 76,
    "start_time": "2022-11-30T18:27:57.896Z"
   },
   {
    "duration": 12,
    "start_time": "2022-11-30T18:28:06.206Z"
   },
   {
    "duration": 20,
    "start_time": "2022-11-30T18:28:36.209Z"
   },
   {
    "duration": 50,
    "start_time": "2022-11-30T18:29:33.920Z"
   },
   {
    "duration": 66,
    "start_time": "2022-11-30T18:30:10.117Z"
   },
   {
    "duration": 11,
    "start_time": "2022-11-30T18:31:47.579Z"
   },
   {
    "duration": 62,
    "start_time": "2022-11-30T18:31:58.527Z"
   },
   {
    "duration": 25,
    "start_time": "2022-11-30T18:41:02.514Z"
   },
   {
    "duration": 79,
    "start_time": "2022-11-30T18:43:23.994Z"
   },
   {
    "duration": 21,
    "start_time": "2022-11-30T18:43:33.153Z"
   },
   {
    "duration": 18,
    "start_time": "2022-11-30T18:44:39.014Z"
   },
   {
    "duration": 17,
    "start_time": "2022-11-30T18:45:02.563Z"
   },
   {
    "duration": 445,
    "start_time": "2022-11-30T18:45:59.260Z"
   },
   {
    "duration": 14,
    "start_time": "2022-11-30T18:45:59.708Z"
   },
   {
    "duration": 41,
    "start_time": "2022-11-30T18:45:59.724Z"
   },
   {
    "duration": 2305,
    "start_time": "2022-11-30T18:45:59.768Z"
   },
   {
    "duration": 10,
    "start_time": "2022-11-30T18:46:02.076Z"
   },
   {
    "duration": 24,
    "start_time": "2022-11-30T18:46:02.088Z"
   },
   {
    "duration": 37,
    "start_time": "2022-11-30T18:46:02.114Z"
   },
   {
    "duration": 15,
    "start_time": "2022-11-30T18:46:02.153Z"
   },
   {
    "duration": 12,
    "start_time": "2022-11-30T18:46:02.170Z"
   },
   {
    "duration": 11,
    "start_time": "2022-11-30T18:46:02.184Z"
   },
   {
    "duration": 11,
    "start_time": "2022-11-30T18:46:02.197Z"
   },
   {
    "duration": 200,
    "start_time": "2022-11-30T18:46:02.210Z"
   },
   {
    "duration": 13,
    "start_time": "2022-11-30T18:46:02.413Z"
   },
   {
    "duration": 10,
    "start_time": "2022-11-30T18:46:02.429Z"
   },
   {
    "duration": 18,
    "start_time": "2022-11-30T18:46:02.441Z"
   },
   {
    "duration": 17,
    "start_time": "2022-11-30T18:47:43.542Z"
   },
   {
    "duration": 528,
    "start_time": "2022-11-30T18:48:44.344Z"
   },
   {
    "duration": 21,
    "start_time": "2022-11-30T18:48:44.875Z"
   },
   {
    "duration": 63,
    "start_time": "2022-11-30T18:48:44.898Z"
   },
   {
    "duration": 2182,
    "start_time": "2022-11-30T18:48:44.963Z"
   },
   {
    "duration": 9,
    "start_time": "2022-11-30T18:48:47.147Z"
   },
   {
    "duration": 5,
    "start_time": "2022-11-30T18:48:47.158Z"
   },
   {
    "duration": 5,
    "start_time": "2022-11-30T18:48:47.166Z"
   },
   {
    "duration": 8,
    "start_time": "2022-11-30T18:48:47.173Z"
   },
   {
    "duration": 10,
    "start_time": "2022-11-30T18:48:47.183Z"
   },
   {
    "duration": 21,
    "start_time": "2022-11-30T18:48:47.196Z"
   },
   {
    "duration": 7,
    "start_time": "2022-11-30T18:48:47.219Z"
   },
   {
    "duration": 218,
    "start_time": "2022-11-30T18:48:47.229Z"
   },
   {
    "duration": 14,
    "start_time": "2022-11-30T18:48:47.449Z"
   },
   {
    "duration": 9,
    "start_time": "2022-11-30T18:48:47.464Z"
   },
   {
    "duration": 48,
    "start_time": "2022-11-30T18:48:47.475Z"
   },
   {
    "duration": 456,
    "start_time": "2022-11-30T18:50:07.271Z"
   },
   {
    "duration": 16,
    "start_time": "2022-11-30T18:50:07.729Z"
   },
   {
    "duration": 44,
    "start_time": "2022-11-30T18:50:07.746Z"
   },
   {
    "duration": 2270,
    "start_time": "2022-11-30T18:50:07.791Z"
   },
   {
    "duration": 9,
    "start_time": "2022-11-30T18:50:10.064Z"
   },
   {
    "duration": 5,
    "start_time": "2022-11-30T18:50:10.074Z"
   },
   {
    "duration": 4,
    "start_time": "2022-11-30T18:50:10.081Z"
   },
   {
    "duration": 7,
    "start_time": "2022-11-30T18:50:10.087Z"
   },
   {
    "duration": 8,
    "start_time": "2022-11-30T18:50:10.096Z"
   },
   {
    "duration": 10,
    "start_time": "2022-11-30T18:50:10.105Z"
   },
   {
    "duration": 7,
    "start_time": "2022-11-30T18:50:10.117Z"
   },
   {
    "duration": 245,
    "start_time": "2022-11-30T18:50:10.126Z"
   },
   {
    "duration": 18,
    "start_time": "2022-11-30T18:50:10.373Z"
   },
   {
    "duration": 32,
    "start_time": "2022-11-30T18:50:10.394Z"
   },
   {
    "duration": 99,
    "start_time": "2022-11-30T18:50:10.428Z"
   },
   {
    "duration": 45,
    "start_time": "2022-11-30T18:50:56.434Z"
   },
   {
    "duration": 48,
    "start_time": "2022-11-30T18:56:07.391Z"
   },
   {
    "duration": 14,
    "start_time": "2022-11-30T19:34:37.265Z"
   },
   {
    "duration": 21,
    "start_time": "2022-11-30T19:36:27.963Z"
   },
   {
    "duration": 5,
    "start_time": "2022-11-30T19:38:16.476Z"
   },
   {
    "duration": 18,
    "start_time": "2022-11-30T19:39:06.437Z"
   },
   {
    "duration": 16,
    "start_time": "2022-11-30T19:39:27.668Z"
   },
   {
    "duration": 7,
    "start_time": "2022-11-30T19:40:20.359Z"
   },
   {
    "duration": 5,
    "start_time": "2022-11-30T19:41:38.838Z"
   },
   {
    "duration": 17,
    "start_time": "2022-11-30T19:43:06.155Z"
   },
   {
    "duration": 5,
    "start_time": "2022-11-30T19:43:28.508Z"
   },
   {
    "duration": 142,
    "start_time": "2022-11-30T19:44:06.276Z"
   },
   {
    "duration": 152,
    "start_time": "2022-11-30T19:44:21.116Z"
   },
   {
    "duration": 152,
    "start_time": "2022-11-30T19:45:50.877Z"
   },
   {
    "duration": 70,
    "start_time": "2022-11-30T19:47:04.508Z"
   },
   {
    "duration": 116,
    "start_time": "2022-11-30T19:47:08.955Z"
   },
   {
    "duration": 156,
    "start_time": "2022-11-30T19:49:24.298Z"
   },
   {
    "duration": 227,
    "start_time": "2022-11-30T19:49:39.868Z"
   },
   {
    "duration": 152,
    "start_time": "2022-11-30T19:49:46.218Z"
   },
   {
    "duration": 137,
    "start_time": "2022-11-30T19:49:55.096Z"
   },
   {
    "duration": 144,
    "start_time": "2022-11-30T19:50:11.018Z"
   },
   {
    "duration": 133,
    "start_time": "2022-11-30T19:50:34.040Z"
   },
   {
    "duration": 142,
    "start_time": "2022-11-30T19:56:46.568Z"
   },
   {
    "duration": 235,
    "start_time": "2022-11-30T19:57:09.459Z"
   },
   {
    "duration": 501,
    "start_time": "2022-11-30T19:57:32.116Z"
   },
   {
    "duration": 16,
    "start_time": "2022-11-30T19:57:32.619Z"
   },
   {
    "duration": 44,
    "start_time": "2022-11-30T19:57:32.637Z"
   },
   {
    "duration": 2459,
    "start_time": "2022-11-30T19:57:32.682Z"
   },
   {
    "duration": 10,
    "start_time": "2022-11-30T19:57:35.143Z"
   },
   {
    "duration": 8,
    "start_time": "2022-11-30T19:57:35.154Z"
   },
   {
    "duration": 7,
    "start_time": "2022-11-30T19:57:35.164Z"
   },
   {
    "duration": 10,
    "start_time": "2022-11-30T19:57:35.213Z"
   },
   {
    "duration": 7,
    "start_time": "2022-11-30T19:57:35.224Z"
   },
   {
    "duration": 10,
    "start_time": "2022-11-30T19:57:35.233Z"
   },
   {
    "duration": 8,
    "start_time": "2022-11-30T19:57:35.245Z"
   },
   {
    "duration": 480,
    "start_time": "2022-11-30T19:57:35.255Z"
   },
   {
    "duration": 14,
    "start_time": "2022-11-30T19:57:35.737Z"
   },
   {
    "duration": 63,
    "start_time": "2022-11-30T19:57:35.754Z"
   },
   {
    "duration": 97,
    "start_time": "2022-11-30T19:57:35.819Z"
   },
   {
    "duration": 15,
    "start_time": "2022-11-30T19:57:35.917Z"
   },
   {
    "duration": 25,
    "start_time": "2022-11-30T19:57:35.933Z"
   },
   {
    "duration": 363,
    "start_time": "2022-11-30T19:57:35.959Z"
   },
   {
    "duration": 519,
    "start_time": "2022-11-30T20:02:14.291Z"
   },
   {
    "duration": 14,
    "start_time": "2022-11-30T20:02:14.812Z"
   },
   {
    "duration": 50,
    "start_time": "2022-11-30T20:02:14.828Z"
   },
   {
    "duration": 3487,
    "start_time": "2022-11-30T20:02:14.882Z"
   },
   {
    "duration": 43,
    "start_time": "2022-11-30T20:02:18.371Z"
   },
   {
    "duration": 5,
    "start_time": "2022-11-30T20:02:18.415Z"
   },
   {
    "duration": 7,
    "start_time": "2022-11-30T20:02:18.421Z"
   },
   {
    "duration": 6,
    "start_time": "2022-11-30T20:02:18.430Z"
   },
   {
    "duration": 9,
    "start_time": "2022-11-30T20:02:18.438Z"
   },
   {
    "duration": 7,
    "start_time": "2022-11-30T20:02:18.449Z"
   },
   {
    "duration": 55,
    "start_time": "2022-11-30T20:02:18.458Z"
   },
   {
    "duration": 348,
    "start_time": "2022-11-30T20:02:18.514Z"
   },
   {
    "duration": 15,
    "start_time": "2022-11-30T20:02:18.914Z"
   },
   {
    "duration": 11,
    "start_time": "2022-11-30T20:02:18.931Z"
   },
   {
    "duration": 99,
    "start_time": "2022-11-30T20:02:18.944Z"
   },
   {
    "duration": 68,
    "start_time": "2022-11-30T20:02:19.044Z"
   },
   {
    "duration": 26,
    "start_time": "2022-11-30T20:02:19.115Z"
   },
   {
    "duration": 390,
    "start_time": "2022-11-30T20:02:19.143Z"
   },
   {
    "duration": 148,
    "start_time": "2022-11-30T20:04:10.359Z"
   },
   {
    "duration": 69,
    "start_time": "2022-11-30T20:05:35.439Z"
   },
   {
    "duration": 138,
    "start_time": "2022-11-30T20:05:44.388Z"
   },
   {
    "duration": 150,
    "start_time": "2022-11-30T20:06:05.289Z"
   },
   {
    "duration": 159,
    "start_time": "2022-11-30T20:06:21.256Z"
   },
   {
    "duration": 219,
    "start_time": "2022-11-30T20:06:35.299Z"
   },
   {
    "duration": 141,
    "start_time": "2022-11-30T20:08:04.871Z"
   },
   {
    "duration": 142,
    "start_time": "2022-11-30T20:08:33.969Z"
   },
   {
    "duration": 508,
    "start_time": "2022-11-30T20:08:49.516Z"
   },
   {
    "duration": 21,
    "start_time": "2022-11-30T20:08:50.026Z"
   },
   {
    "duration": 74,
    "start_time": "2022-11-30T20:08:50.049Z"
   },
   {
    "duration": 3348,
    "start_time": "2022-11-30T20:08:50.125Z"
   },
   {
    "duration": 10,
    "start_time": "2022-11-30T20:08:53.515Z"
   },
   {
    "duration": 28,
    "start_time": "2022-11-30T20:08:53.526Z"
   },
   {
    "duration": 59,
    "start_time": "2022-11-30T20:08:53.555Z"
   },
   {
    "duration": 7,
    "start_time": "2022-11-30T20:08:53.616Z"
   },
   {
    "duration": 22,
    "start_time": "2022-11-30T20:08:53.625Z"
   },
   {
    "duration": 65,
    "start_time": "2022-11-30T20:08:53.649Z"
   },
   {
    "duration": 26,
    "start_time": "2022-11-30T20:08:53.716Z"
   },
   {
    "duration": 414,
    "start_time": "2022-11-30T20:08:53.744Z"
   },
   {
    "duration": 67,
    "start_time": "2022-11-30T20:08:54.159Z"
   },
   {
    "duration": 20,
    "start_time": "2022-11-30T20:08:54.228Z"
   },
   {
    "duration": 100,
    "start_time": "2022-11-30T20:08:54.251Z"
   },
   {
    "duration": 68,
    "start_time": "2022-11-30T20:08:54.352Z"
   },
   {
    "duration": 23,
    "start_time": "2022-11-30T20:08:54.421Z"
   },
   {
    "duration": 394,
    "start_time": "2022-11-30T20:08:54.446Z"
   },
   {
    "duration": 253,
    "start_time": "2022-11-30T20:08:54.842Z"
   },
   {
    "duration": 167,
    "start_time": "2022-11-30T20:09:14.575Z"
   },
   {
    "duration": 521,
    "start_time": "2022-11-30T20:09:52.399Z"
   },
   {
    "duration": 18,
    "start_time": "2022-11-30T20:09:52.922Z"
   },
   {
    "duration": 50,
    "start_time": "2022-11-30T20:09:52.941Z"
   },
   {
    "duration": 2330,
    "start_time": "2022-11-30T20:09:52.992Z"
   },
   {
    "duration": 13,
    "start_time": "2022-11-30T20:09:55.325Z"
   },
   {
    "duration": 21,
    "start_time": "2022-11-30T20:09:55.340Z"
   },
   {
    "duration": 17,
    "start_time": "2022-11-30T20:09:55.364Z"
   },
   {
    "duration": 15,
    "start_time": "2022-11-30T20:09:55.383Z"
   },
   {
    "duration": 30,
    "start_time": "2022-11-30T20:09:55.400Z"
   },
   {
    "duration": 18,
    "start_time": "2022-11-30T20:09:55.432Z"
   },
   {
    "duration": 11,
    "start_time": "2022-11-30T20:09:55.452Z"
   },
   {
    "duration": 227,
    "start_time": "2022-11-30T20:09:55.465Z"
   },
   {
    "duration": 24,
    "start_time": "2022-11-30T20:09:55.694Z"
   },
   {
    "duration": 11,
    "start_time": "2022-11-30T20:09:55.720Z"
   },
   {
    "duration": 46,
    "start_time": "2022-11-30T20:09:55.733Z"
   },
   {
    "duration": 45,
    "start_time": "2022-11-30T20:09:55.781Z"
   },
   {
    "duration": 16,
    "start_time": "2022-11-30T20:09:55.828Z"
   },
   {
    "duration": 202,
    "start_time": "2022-11-30T20:09:55.846Z"
   },
   {
    "duration": 164,
    "start_time": "2022-11-30T20:09:56.050Z"
   },
   {
    "duration": 13,
    "start_time": "2022-11-30T20:12:18.908Z"
   },
   {
    "duration": 11,
    "start_time": "2022-11-30T20:13:05.937Z"
   },
   {
    "duration": 173,
    "start_time": "2022-11-30T20:13:54.897Z"
   },
   {
    "duration": 123,
    "start_time": "2022-11-30T20:14:25.937Z"
   },
   {
    "duration": 135,
    "start_time": "2022-11-30T20:14:36.546Z"
   },
   {
    "duration": 223,
    "start_time": "2022-11-30T20:14:49.748Z"
   },
   {
    "duration": 137,
    "start_time": "2022-11-30T20:15:12.446Z"
   },
   {
    "duration": 15,
    "start_time": "2022-11-30T20:20:00.873Z"
   },
   {
    "duration": 13,
    "start_time": "2022-11-30T20:20:38.225Z"
   },
   {
    "duration": 27,
    "start_time": "2022-11-30T20:24:23.753Z"
   },
   {
    "duration": 28,
    "start_time": "2022-11-30T20:25:59.150Z"
   },
   {
    "duration": 29,
    "start_time": "2022-11-30T20:26:39.652Z"
   },
   {
    "duration": 28,
    "start_time": "2022-11-30T20:27:46.143Z"
   },
   {
    "duration": 144,
    "start_time": "2022-12-01T08:47:53.739Z"
   },
   {
    "duration": 142,
    "start_time": "2022-12-01T08:48:26.152Z"
   },
   {
    "duration": 151,
    "start_time": "2022-12-01T08:49:59.398Z"
   },
   {
    "duration": 30,
    "start_time": "2022-12-01T08:51:49.809Z"
   },
   {
    "duration": 33,
    "start_time": "2022-12-01T08:53:01.711Z"
   },
   {
    "duration": 30,
    "start_time": "2022-12-01T08:53:15.228Z"
   },
   {
    "duration": 478,
    "start_time": "2022-12-01T08:53:37.421Z"
   },
   {
    "duration": 16,
    "start_time": "2022-12-01T08:53:37.901Z"
   },
   {
    "duration": 44,
    "start_time": "2022-12-01T08:53:37.919Z"
   },
   {
    "duration": 2996,
    "start_time": "2022-12-01T08:53:37.965Z"
   },
   {
    "duration": 50,
    "start_time": "2022-12-01T08:53:40.964Z"
   },
   {
    "duration": 5,
    "start_time": "2022-12-01T08:53:41.016Z"
   },
   {
    "duration": 13,
    "start_time": "2022-12-01T08:53:41.022Z"
   },
   {
    "duration": 15,
    "start_time": "2022-12-01T08:53:41.037Z"
   },
   {
    "duration": 6,
    "start_time": "2022-12-01T08:53:41.054Z"
   },
   {
    "duration": 53,
    "start_time": "2022-12-01T08:53:41.062Z"
   },
   {
    "duration": 4,
    "start_time": "2022-12-01T08:53:41.117Z"
   },
   {
    "duration": 255,
    "start_time": "2022-12-01T08:53:41.123Z"
   },
   {
    "duration": 13,
    "start_time": "2022-12-01T08:53:41.380Z"
   },
   {
    "duration": 26,
    "start_time": "2022-12-01T08:53:41.395Z"
   },
   {
    "duration": 46,
    "start_time": "2022-12-01T08:53:41.422Z"
   },
   {
    "duration": 14,
    "start_time": "2022-12-01T08:53:41.469Z"
   },
   {
    "duration": 44,
    "start_time": "2022-12-01T08:53:41.485Z"
   },
   {
    "duration": 201,
    "start_time": "2022-12-01T08:53:41.531Z"
   },
   {
    "duration": 171,
    "start_time": "2022-12-01T08:53:41.734Z"
   },
   {
    "duration": 159,
    "start_time": "2022-12-01T08:53:41.906Z"
   },
   {
    "duration": 28,
    "start_time": "2022-12-01T08:53:42.067Z"
   },
   {
    "duration": 4,
    "start_time": "2022-12-01T08:53:52.822Z"
   },
   {
    "duration": 20,
    "start_time": "2022-12-01T08:56:51.891Z"
   },
   {
    "duration": 18,
    "start_time": "2022-12-01T08:57:57.011Z"
   },
   {
    "duration": 19,
    "start_time": "2022-12-01T09:00:02.239Z"
   },
   {
    "duration": 20,
    "start_time": "2022-12-01T09:00:31.191Z"
   },
   {
    "duration": 18,
    "start_time": "2022-12-01T09:00:58.079Z"
   },
   {
    "duration": 18,
    "start_time": "2022-12-01T09:02:44.401Z"
   },
   {
    "duration": 20,
    "start_time": "2022-12-01T09:05:27.198Z"
   },
   {
    "duration": 447,
    "start_time": "2022-12-01T09:05:35.871Z"
   },
   {
    "duration": 22,
    "start_time": "2022-12-01T09:05:36.321Z"
   },
   {
    "duration": 42,
    "start_time": "2022-12-01T09:05:36.345Z"
   },
   {
    "duration": 3076,
    "start_time": "2022-12-01T09:05:36.389Z"
   },
   {
    "duration": 9,
    "start_time": "2022-12-01T09:05:39.468Z"
   },
   {
    "duration": 7,
    "start_time": "2022-12-01T09:05:39.478Z"
   },
   {
    "duration": 29,
    "start_time": "2022-12-01T09:05:39.486Z"
   },
   {
    "duration": 7,
    "start_time": "2022-12-01T09:05:39.517Z"
   },
   {
    "duration": 11,
    "start_time": "2022-12-01T09:05:39.526Z"
   },
   {
    "duration": 8,
    "start_time": "2022-12-01T09:05:39.539Z"
   },
   {
    "duration": 7,
    "start_time": "2022-12-01T09:05:39.549Z"
   },
   {
    "duration": 457,
    "start_time": "2022-12-01T09:05:39.558Z"
   },
   {
    "duration": 14,
    "start_time": "2022-12-01T09:05:40.017Z"
   },
   {
    "duration": 10,
    "start_time": "2022-12-01T09:05:40.033Z"
   },
   {
    "duration": 99,
    "start_time": "2022-12-01T09:05:40.045Z"
   },
   {
    "duration": 68,
    "start_time": "2022-12-01T09:05:40.146Z"
   },
   {
    "duration": 22,
    "start_time": "2022-12-01T09:05:40.217Z"
   },
   {
    "duration": 389,
    "start_time": "2022-12-01T09:05:40.241Z"
   },
   {
    "duration": 325,
    "start_time": "2022-12-01T09:05:40.632Z"
   },
   {
    "duration": 239,
    "start_time": "2022-12-01T09:05:41.012Z"
   },
   {
    "duration": 86,
    "start_time": "2022-12-01T09:05:41.253Z"
   },
   {
    "duration": 20,
    "start_time": "2022-12-01T09:05:41.341Z"
   },
   {
    "duration": 91,
    "start_time": "2022-12-01T09:17:15.243Z"
   },
   {
    "duration": 15,
    "start_time": "2022-12-01T09:17:15.336Z"
   },
   {
    "duration": 40,
    "start_time": "2022-12-01T09:17:15.353Z"
   },
   {
    "duration": 1939,
    "start_time": "2022-12-01T09:17:15.394Z"
   },
   {
    "duration": 11,
    "start_time": "2022-12-01T09:17:17.335Z"
   },
   {
    "duration": 9,
    "start_time": "2022-12-01T09:17:17.348Z"
   },
   {
    "duration": 9,
    "start_time": "2022-12-01T09:17:17.359Z"
   },
   {
    "duration": 14,
    "start_time": "2022-12-01T09:17:17.370Z"
   },
   {
    "duration": 28,
    "start_time": "2022-12-01T09:17:17.386Z"
   },
   {
    "duration": 17,
    "start_time": "2022-12-01T09:17:17.416Z"
   },
   {
    "duration": 7,
    "start_time": "2022-12-01T09:17:17.435Z"
   },
   {
    "duration": 214,
    "start_time": "2022-12-01T09:17:17.444Z"
   },
   {
    "duration": 15,
    "start_time": "2022-12-01T09:17:17.660Z"
   },
   {
    "duration": 14,
    "start_time": "2022-12-01T09:17:17.678Z"
   },
   {
    "duration": 47,
    "start_time": "2022-12-01T09:17:17.714Z"
   },
   {
    "duration": 86,
    "start_time": "2022-12-01T09:17:17.763Z"
   },
   {
    "duration": 0,
    "start_time": "2022-12-01T09:17:17.851Z"
   },
   {
    "duration": 0,
    "start_time": "2022-12-01T09:17:17.853Z"
   },
   {
    "duration": 0,
    "start_time": "2022-12-01T09:17:17.854Z"
   },
   {
    "duration": 0,
    "start_time": "2022-12-01T09:17:17.855Z"
   },
   {
    "duration": 0,
    "start_time": "2022-12-01T09:17:17.857Z"
   },
   {
    "duration": 0,
    "start_time": "2022-12-01T09:17:17.858Z"
   },
   {
    "duration": 0,
    "start_time": "2022-12-01T09:17:17.859Z"
   },
   {
    "duration": 21,
    "start_time": "2022-12-01T09:19:01.750Z"
   },
   {
    "duration": 12,
    "start_time": "2022-12-01T09:19:37.695Z"
   },
   {
    "duration": 29,
    "start_time": "2022-12-01T09:19:53.651Z"
   },
   {
    "duration": 5,
    "start_time": "2022-12-01T09:20:49.931Z"
   },
   {
    "duration": 11,
    "start_time": "2022-12-01T09:35:14.919Z"
   },
   {
    "duration": 7,
    "start_time": "2022-12-01T10:22:14.527Z"
   },
   {
    "duration": 20,
    "start_time": "2022-12-01T10:22:34.642Z"
   },
   {
    "duration": 18,
    "start_time": "2022-12-01T10:23:15.638Z"
   },
   {
    "duration": 147,
    "start_time": "2022-12-01T10:27:03.336Z"
   },
   {
    "duration": 139,
    "start_time": "2022-12-01T10:27:14.849Z"
   },
   {
    "duration": 156,
    "start_time": "2022-12-01T10:29:10.260Z"
   },
   {
    "duration": 18,
    "start_time": "2022-12-01T10:29:48.752Z"
   },
   {
    "duration": 27,
    "start_time": "2022-12-01T10:33:14.258Z"
   },
   {
    "duration": 69,
    "start_time": "2022-12-01T10:40:35.989Z"
   },
   {
    "duration": 25,
    "start_time": "2022-12-01T10:48:47.540Z"
   },
   {
    "duration": 21,
    "start_time": "2022-12-01T10:49:09.498Z"
   },
   {
    "duration": 23,
    "start_time": "2022-12-01T10:49:25.502Z"
   },
   {
    "duration": 22,
    "start_time": "2022-12-01T10:49:31.982Z"
   },
   {
    "duration": 23,
    "start_time": "2022-12-01T10:49:43.163Z"
   },
   {
    "duration": 23,
    "start_time": "2022-12-01T10:49:57.369Z"
   },
   {
    "duration": 26,
    "start_time": "2022-12-01T10:50:19.476Z"
   },
   {
    "duration": 510,
    "start_time": "2022-12-01T10:50:36.900Z"
   },
   {
    "duration": 16,
    "start_time": "2022-12-01T10:50:37.412Z"
   },
   {
    "duration": 43,
    "start_time": "2022-12-01T10:50:37.429Z"
   },
   {
    "duration": 2215,
    "start_time": "2022-12-01T10:50:37.474Z"
   },
   {
    "duration": 9,
    "start_time": "2022-12-01T10:50:39.691Z"
   },
   {
    "duration": 12,
    "start_time": "2022-12-01T10:50:39.702Z"
   },
   {
    "duration": 17,
    "start_time": "2022-12-01T10:50:39.716Z"
   },
   {
    "duration": 23,
    "start_time": "2022-12-01T10:50:39.734Z"
   },
   {
    "duration": 20,
    "start_time": "2022-12-01T10:50:39.758Z"
   },
   {
    "duration": 10,
    "start_time": "2022-12-01T10:50:39.780Z"
   },
   {
    "duration": 21,
    "start_time": "2022-12-01T10:50:39.792Z"
   },
   {
    "duration": 203,
    "start_time": "2022-12-01T10:50:39.815Z"
   },
   {
    "duration": 12,
    "start_time": "2022-12-01T10:50:40.020Z"
   },
   {
    "duration": 11,
    "start_time": "2022-12-01T10:50:40.034Z"
   },
   {
    "duration": 73,
    "start_time": "2022-12-01T10:50:40.046Z"
   },
   {
    "duration": 10,
    "start_time": "2022-12-01T10:50:40.120Z"
   },
   {
    "duration": 28,
    "start_time": "2022-12-01T10:50:40.132Z"
   },
   {
    "duration": 22,
    "start_time": "2022-12-01T10:50:40.162Z"
   },
   {
    "duration": 246,
    "start_time": "2022-12-01T10:50:40.186Z"
   },
   {
    "duration": 186,
    "start_time": "2022-12-01T10:50:40.434Z"
   },
   {
    "duration": 153,
    "start_time": "2022-12-01T10:50:40.621Z"
   },
   {
    "duration": 48,
    "start_time": "2022-12-01T10:50:40.776Z"
   },
   {
    "duration": 20,
    "start_time": "2022-12-01T10:50:40.825Z"
   },
   {
    "duration": 11,
    "start_time": "2022-12-01T10:50:40.847Z"
   },
   {
    "duration": 57,
    "start_time": "2022-12-01T10:50:40.859Z"
   },
   {
    "duration": 43,
    "start_time": "2022-12-01T10:51:10.207Z"
   },
   {
    "duration": 29,
    "start_time": "2022-12-01T11:04:03.312Z"
   },
   {
    "duration": 27,
    "start_time": "2022-12-01T11:04:43.213Z"
   },
   {
    "duration": 90,
    "start_time": "2022-12-01T11:05:00.063Z"
   },
   {
    "duration": 28,
    "start_time": "2022-12-01T11:06:01.466Z"
   },
   {
    "duration": 20,
    "start_time": "2022-12-01T11:07:58.535Z"
   },
   {
    "duration": 25,
    "start_time": "2022-12-01T11:08:06.369Z"
   },
   {
    "duration": 508,
    "start_time": "2022-12-01T11:08:16.793Z"
   },
   {
    "duration": 16,
    "start_time": "2022-12-01T11:08:17.303Z"
   },
   {
    "duration": 43,
    "start_time": "2022-12-01T11:08:17.321Z"
   },
   {
    "duration": 2747,
    "start_time": "2022-12-01T11:08:17.366Z"
   },
   {
    "duration": 9,
    "start_time": "2022-12-01T11:08:20.115Z"
   },
   {
    "duration": 11,
    "start_time": "2022-12-01T11:08:20.126Z"
   },
   {
    "duration": 5,
    "start_time": "2022-12-01T11:08:20.139Z"
   },
   {
    "duration": 7,
    "start_time": "2022-12-01T11:08:20.146Z"
   },
   {
    "duration": 10,
    "start_time": "2022-12-01T11:08:20.154Z"
   },
   {
    "duration": 6,
    "start_time": "2022-12-01T11:08:20.215Z"
   },
   {
    "duration": 13,
    "start_time": "2022-12-01T11:08:20.222Z"
   },
   {
    "duration": 481,
    "start_time": "2022-12-01T11:08:20.238Z"
   },
   {
    "duration": 14,
    "start_time": "2022-12-01T11:08:20.721Z"
   },
   {
    "duration": 14,
    "start_time": "2022-12-01T11:08:20.738Z"
   },
   {
    "duration": 161,
    "start_time": "2022-12-01T11:08:20.754Z"
   },
   {
    "duration": 15,
    "start_time": "2022-12-01T11:08:20.917Z"
   },
   {
    "duration": 22,
    "start_time": "2022-12-01T11:08:20.934Z"
   },
   {
    "duration": 71,
    "start_time": "2022-12-01T11:08:20.958Z"
   },
   {
    "duration": 245,
    "start_time": "2022-12-01T11:08:21.030Z"
   },
   {
    "duration": 181,
    "start_time": "2022-12-01T11:08:21.276Z"
   },
   {
    "duration": 156,
    "start_time": "2022-12-01T11:08:21.459Z"
   },
   {
    "duration": 29,
    "start_time": "2022-12-01T11:08:21.617Z"
   },
   {
    "duration": 19,
    "start_time": "2022-12-01T11:08:21.648Z"
   },
   {
    "duration": 48,
    "start_time": "2022-12-01T11:08:21.669Z"
   },
   {
    "duration": 22,
    "start_time": "2022-12-01T11:08:21.719Z"
   },
   {
    "duration": 26,
    "start_time": "2022-12-01T11:08:35.470Z"
   },
   {
    "duration": 101,
    "start_time": "2022-12-01T11:09:25.162Z"
   },
   {
    "duration": 123,
    "start_time": "2022-12-01T11:10:19.500Z"
   },
   {
    "duration": 120,
    "start_time": "2022-12-01T11:10:46.344Z"
   },
   {
    "duration": 114,
    "start_time": "2022-12-01T11:10:55.817Z"
   },
   {
    "duration": 507,
    "start_time": "2022-12-01T11:11:44.232Z"
   },
   {
    "duration": 16,
    "start_time": "2022-12-01T11:11:44.741Z"
   },
   {
    "duration": 62,
    "start_time": "2022-12-01T11:11:44.759Z"
   },
   {
    "duration": 2225,
    "start_time": "2022-12-01T11:11:44.824Z"
   },
   {
    "duration": 10,
    "start_time": "2022-12-01T11:11:47.051Z"
   },
   {
    "duration": 5,
    "start_time": "2022-12-01T11:11:47.063Z"
   },
   {
    "duration": 5,
    "start_time": "2022-12-01T11:11:47.070Z"
   },
   {
    "duration": 36,
    "start_time": "2022-12-01T11:11:47.077Z"
   },
   {
    "duration": 6,
    "start_time": "2022-12-01T11:11:47.115Z"
   },
   {
    "duration": 9,
    "start_time": "2022-12-01T11:11:47.125Z"
   },
   {
    "duration": 8,
    "start_time": "2022-12-01T11:11:47.136Z"
   },
   {
    "duration": 255,
    "start_time": "2022-12-01T11:11:47.146Z"
   },
   {
    "duration": 21,
    "start_time": "2022-12-01T11:11:47.402Z"
   },
   {
    "duration": 10,
    "start_time": "2022-12-01T11:11:47.425Z"
   },
   {
    "duration": 46,
    "start_time": "2022-12-01T11:11:47.437Z"
   },
   {
    "duration": 11,
    "start_time": "2022-12-01T11:11:47.512Z"
   },
   {
    "duration": 18,
    "start_time": "2022-12-01T11:11:47.525Z"
   },
   {
    "duration": 17,
    "start_time": "2022-12-01T11:11:47.544Z"
   },
   {
    "duration": 203,
    "start_time": "2022-12-01T11:11:47.562Z"
   },
   {
    "duration": 183,
    "start_time": "2022-12-01T11:11:47.766Z"
   },
   {
    "duration": 156,
    "start_time": "2022-12-01T11:11:47.951Z"
   },
   {
    "duration": 32,
    "start_time": "2022-12-01T11:11:48.113Z"
   },
   {
    "duration": 26,
    "start_time": "2022-12-01T11:11:48.148Z"
   },
   {
    "duration": 49,
    "start_time": "2022-12-01T11:11:48.176Z"
   },
   {
    "duration": 150,
    "start_time": "2022-12-01T11:11:48.228Z"
   },
   {
    "duration": 145,
    "start_time": "2022-12-01T11:12:04.482Z"
   },
   {
    "duration": 143,
    "start_time": "2022-12-01T11:12:41.582Z"
   },
   {
    "duration": 200,
    "start_time": "2022-12-01T11:13:00.192Z"
   },
   {
    "duration": 185,
    "start_time": "2022-12-01T11:13:21.238Z"
   },
   {
    "duration": 208,
    "start_time": "2022-12-01T11:13:32.126Z"
   },
   {
    "duration": 213,
    "start_time": "2022-12-01T11:14:26.601Z"
   },
   {
    "duration": 239,
    "start_time": "2022-12-01T11:14:54.947Z"
   },
   {
    "duration": 268,
    "start_time": "2022-12-01T11:16:23.702Z"
   },
   {
    "duration": 282,
    "start_time": "2022-12-01T11:16:40.620Z"
   },
   {
    "duration": 292,
    "start_time": "2022-12-01T11:16:53.804Z"
   },
   {
    "duration": 315,
    "start_time": "2022-12-01T11:18:05.459Z"
   },
   {
    "duration": 22,
    "start_time": "2022-12-01T11:23:10.576Z"
   },
   {
    "duration": 47,
    "start_time": "2022-12-01T11:29:09.148Z"
   },
   {
    "duration": 99,
    "start_time": "2022-12-01T11:31:05.134Z"
   },
   {
    "duration": 24,
    "start_time": "2022-12-01T11:31:05.235Z"
   },
   {
    "duration": 55,
    "start_time": "2022-12-01T11:31:05.260Z"
   },
   {
    "duration": 1928,
    "start_time": "2022-12-01T11:31:05.317Z"
   },
   {
    "duration": 9,
    "start_time": "2022-12-01T11:31:07.246Z"
   },
   {
    "duration": 6,
    "start_time": "2022-12-01T11:31:07.257Z"
   },
   {
    "duration": 7,
    "start_time": "2022-12-01T11:31:07.264Z"
   },
   {
    "duration": 7,
    "start_time": "2022-12-01T11:31:07.272Z"
   },
   {
    "duration": 6,
    "start_time": "2022-12-01T11:31:07.281Z"
   },
   {
    "duration": 6,
    "start_time": "2022-12-01T11:31:07.315Z"
   },
   {
    "duration": 7,
    "start_time": "2022-12-01T11:31:07.323Z"
   },
   {
    "duration": 219,
    "start_time": "2022-12-01T11:31:07.331Z"
   },
   {
    "duration": 15,
    "start_time": "2022-12-01T11:31:07.552Z"
   },
   {
    "duration": 11,
    "start_time": "2022-12-01T11:31:07.569Z"
   },
   {
    "duration": 69,
    "start_time": "2022-12-01T11:31:07.582Z"
   },
   {
    "duration": 10,
    "start_time": "2022-12-01T11:31:07.652Z"
   },
   {
    "duration": 14,
    "start_time": "2022-12-01T11:31:07.663Z"
   },
   {
    "duration": 45,
    "start_time": "2022-12-01T11:31:07.678Z"
   },
   {
    "duration": 377,
    "start_time": "2022-12-01T11:31:07.724Z"
   },
   {
    "duration": 598,
    "start_time": "2022-12-01T11:31:08.103Z"
   },
   {
    "duration": 151,
    "start_time": "2022-12-01T11:31:08.702Z"
   },
   {
    "duration": 28,
    "start_time": "2022-12-01T11:31:08.854Z"
   },
   {
    "duration": 35,
    "start_time": "2022-12-01T11:31:08.884Z"
   },
   {
    "duration": 23,
    "start_time": "2022-12-01T11:31:08.921Z"
   },
   {
    "duration": 148,
    "start_time": "2022-12-01T11:31:08.946Z"
   },
   {
    "duration": 300,
    "start_time": "2022-12-01T11:31:09.095Z"
   },
   {
    "duration": 54,
    "start_time": "2022-12-01T11:31:09.397Z"
   },
   {
    "duration": 21,
    "start_time": "2022-12-01T11:31:36.422Z"
   },
   {
    "duration": 506,
    "start_time": "2022-12-01T11:32:03.089Z"
   },
   {
    "duration": 12,
    "start_time": "2022-12-01T11:32:03.597Z"
   },
   {
    "duration": 44,
    "start_time": "2022-12-01T11:32:03.610Z"
   },
   {
    "duration": 3101,
    "start_time": "2022-12-01T11:32:03.656Z"
   },
   {
    "duration": 9,
    "start_time": "2022-12-01T11:32:06.759Z"
   },
   {
    "duration": 45,
    "start_time": "2022-12-01T11:32:06.770Z"
   },
   {
    "duration": 55,
    "start_time": "2022-12-01T11:32:06.817Z"
   },
   {
    "duration": 43,
    "start_time": "2022-12-01T11:32:06.874Z"
   },
   {
    "duration": 64,
    "start_time": "2022-12-01T11:32:06.919Z"
   },
   {
    "duration": 62,
    "start_time": "2022-12-01T11:32:06.986Z"
   },
   {
    "duration": 49,
    "start_time": "2022-12-01T11:32:07.049Z"
   },
   {
    "duration": 228,
    "start_time": "2022-12-01T11:32:07.100Z"
   },
   {
    "duration": 12,
    "start_time": "2022-12-01T11:32:07.330Z"
   },
   {
    "duration": 71,
    "start_time": "2022-12-01T11:32:07.344Z"
   },
   {
    "duration": 45,
    "start_time": "2022-12-01T11:32:07.417Z"
   },
   {
    "duration": 11,
    "start_time": "2022-12-01T11:32:07.464Z"
   },
   {
    "duration": 44,
    "start_time": "2022-12-01T11:32:07.476Z"
   },
   {
    "duration": 17,
    "start_time": "2022-12-01T11:32:07.522Z"
   },
   {
    "duration": 198,
    "start_time": "2022-12-01T11:32:07.540Z"
   },
   {
    "duration": 174,
    "start_time": "2022-12-01T11:32:07.739Z"
   },
   {
    "duration": 161,
    "start_time": "2022-12-01T11:32:07.915Z"
   },
   {
    "duration": 56,
    "start_time": "2022-12-01T11:32:08.078Z"
   },
   {
    "duration": 23,
    "start_time": "2022-12-01T11:32:08.136Z"
   },
   {
    "duration": 52,
    "start_time": "2022-12-01T11:32:08.161Z"
   },
   {
    "duration": 11,
    "start_time": "2022-12-01T11:32:08.215Z"
   },
   {
    "duration": 311,
    "start_time": "2022-12-01T11:32:08.228Z"
   },
   {
    "duration": 40,
    "start_time": "2022-12-01T11:32:08.541Z"
   },
   {
    "duration": 9,
    "start_time": "2022-12-01T11:39:08.739Z"
   },
   {
    "duration": 433,
    "start_time": "2022-12-01T11:39:36.674Z"
   },
   {
    "duration": 414,
    "start_time": "2022-12-01T11:40:12.888Z"
   },
   {
    "duration": 173,
    "start_time": "2022-12-01T11:41:00.413Z"
   },
   {
    "duration": 141,
    "start_time": "2022-12-01T11:41:10.457Z"
   },
   {
    "duration": 213,
    "start_time": "2022-12-01T11:41:30.875Z"
   },
   {
    "duration": 5267,
    "start_time": "2022-12-01T11:41:57.482Z"
   },
   {
    "duration": 5296,
    "start_time": "2022-12-01T11:43:38.455Z"
   },
   {
    "duration": 142,
    "start_time": "2022-12-01T11:44:18.229Z"
   },
   {
    "duration": 1532,
    "start_time": "2022-12-01T11:44:59.037Z"
   },
   {
    "duration": 126,
    "start_time": "2022-12-01T11:45:52.304Z"
   },
   {
    "duration": 130,
    "start_time": "2022-12-01T11:46:05.640Z"
   },
   {
    "duration": 478,
    "start_time": "2022-12-01T11:46:24.744Z"
   },
   {
    "duration": 11,
    "start_time": "2022-12-01T11:46:25.224Z"
   },
   {
    "duration": 53,
    "start_time": "2022-12-01T11:46:25.236Z"
   },
   {
    "duration": 2246,
    "start_time": "2022-12-01T11:46:25.291Z"
   },
   {
    "duration": 10,
    "start_time": "2022-12-01T11:46:27.540Z"
   },
   {
    "duration": 40,
    "start_time": "2022-12-01T11:46:27.552Z"
   },
   {
    "duration": 26,
    "start_time": "2022-12-01T11:46:27.593Z"
   },
   {
    "duration": 32,
    "start_time": "2022-12-01T11:46:27.621Z"
   },
   {
    "duration": 15,
    "start_time": "2022-12-01T11:46:27.655Z"
   },
   {
    "duration": 29,
    "start_time": "2022-12-01T11:46:27.673Z"
   },
   {
    "duration": 38,
    "start_time": "2022-12-01T11:46:27.703Z"
   },
   {
    "duration": 227,
    "start_time": "2022-12-01T11:46:27.742Z"
   },
   {
    "duration": 14,
    "start_time": "2022-12-01T11:46:27.971Z"
   },
   {
    "duration": 34,
    "start_time": "2022-12-01T11:46:27.986Z"
   },
   {
    "duration": 148,
    "start_time": "2022-12-01T11:46:28.022Z"
   },
   {
    "duration": 45,
    "start_time": "2022-12-01T11:46:28.172Z"
   },
   {
    "duration": 10,
    "start_time": "2022-12-01T11:46:28.219Z"
   },
   {
    "duration": 33,
    "start_time": "2022-12-01T11:46:28.231Z"
   },
   {
    "duration": 27,
    "start_time": "2022-12-01T11:46:28.265Z"
   },
   {
    "duration": 188,
    "start_time": "2022-12-01T11:46:28.294Z"
   },
   {
    "duration": 174,
    "start_time": "2022-12-01T11:46:28.484Z"
   },
   {
    "duration": 138,
    "start_time": "2022-12-01T11:46:28.660Z"
   },
   {
    "duration": 35,
    "start_time": "2022-12-01T11:46:28.800Z"
   },
   {
    "duration": 29,
    "start_time": "2022-12-01T11:46:28.837Z"
   },
   {
    "duration": 32,
    "start_time": "2022-12-01T11:46:28.868Z"
   },
   {
    "duration": 28,
    "start_time": "2022-12-01T11:46:28.913Z"
   },
   {
    "duration": 245,
    "start_time": "2022-12-01T11:46:28.942Z"
   },
   {
    "duration": 26,
    "start_time": "2022-12-01T11:46:29.190Z"
   },
   {
    "duration": 168,
    "start_time": "2022-12-01T11:48:56.689Z"
   },
   {
    "duration": 21,
    "start_time": "2022-12-01T11:49:34.794Z"
   },
   {
    "duration": 244,
    "start_time": "2022-12-01T11:52:35.254Z"
   },
   {
    "duration": 10,
    "start_time": "2022-12-01T12:03:35.293Z"
   },
   {
    "duration": 155,
    "start_time": "2022-12-01T12:04:09.314Z"
   },
   {
    "duration": 130,
    "start_time": "2022-12-01T12:04:23.356Z"
   },
   {
    "duration": 124,
    "start_time": "2022-12-01T12:05:05.989Z"
   },
   {
    "duration": 72,
    "start_time": "2022-12-01T12:07:02.525Z"
   },
   {
    "duration": 141,
    "start_time": "2022-12-01T12:07:19.761Z"
   },
   {
    "duration": 139,
    "start_time": "2022-12-01T12:07:39.638Z"
   },
   {
    "duration": 4,
    "start_time": "2022-12-01T12:11:11.741Z"
   },
   {
    "duration": 14,
    "start_time": "2022-12-01T12:11:26.711Z"
   },
   {
    "duration": 5,
    "start_time": "2022-12-01T12:13:41.400Z"
   },
   {
    "duration": 5,
    "start_time": "2022-12-01T12:14:10.466Z"
   },
   {
    "duration": 22,
    "start_time": "2022-12-01T12:15:35.960Z"
   },
   {
    "duration": 39,
    "start_time": "2022-12-01T12:19:40.210Z"
   },
   {
    "duration": 241,
    "start_time": "2022-12-01T12:37:21.993Z"
   },
   {
    "duration": 4,
    "start_time": "2022-12-01T13:16:43.740Z"
   },
   {
    "duration": 8,
    "start_time": "2022-12-01T13:17:19.778Z"
   },
   {
    "duration": 4,
    "start_time": "2022-12-01T13:17:28.726Z"
   },
   {
    "duration": 20,
    "start_time": "2022-12-01T13:17:39.889Z"
   },
   {
    "duration": 2581,
    "start_time": "2022-12-01T13:22:50.973Z"
   },
   {
    "duration": 1943,
    "start_time": "2022-12-01T13:23:09.990Z"
   },
   {
    "duration": 2608,
    "start_time": "2022-12-01T13:23:20.922Z"
   },
   {
    "duration": 2789,
    "start_time": "2022-12-01T13:23:28.634Z"
   },
   {
    "duration": 73,
    "start_time": "2022-12-01T13:34:13.506Z"
   },
   {
    "duration": 101,
    "start_time": "2022-12-01T13:34:34.094Z"
   },
   {
    "duration": 82,
    "start_time": "2022-12-01T13:35:32.567Z"
   },
   {
    "duration": 483,
    "start_time": "2022-12-01T13:36:04.641Z"
   },
   {
    "duration": 17,
    "start_time": "2022-12-01T13:36:05.126Z"
   },
   {
    "duration": 46,
    "start_time": "2022-12-01T13:36:05.144Z"
   },
   {
    "duration": 2333,
    "start_time": "2022-12-01T13:36:05.212Z"
   },
   {
    "duration": 9,
    "start_time": "2022-12-01T13:36:07.547Z"
   },
   {
    "duration": 5,
    "start_time": "2022-12-01T13:36:07.558Z"
   },
   {
    "duration": 4,
    "start_time": "2022-12-01T13:36:07.564Z"
   },
   {
    "duration": 6,
    "start_time": "2022-12-01T13:36:07.570Z"
   },
   {
    "duration": 5,
    "start_time": "2022-12-01T13:36:07.577Z"
   },
   {
    "duration": 6,
    "start_time": "2022-12-01T13:36:07.585Z"
   },
   {
    "duration": 31,
    "start_time": "2022-12-01T13:36:07.593Z"
   },
   {
    "duration": 208,
    "start_time": "2022-12-01T13:36:07.625Z"
   },
   {
    "duration": 14,
    "start_time": "2022-12-01T13:36:07.835Z"
   },
   {
    "duration": 11,
    "start_time": "2022-12-01T13:36:07.851Z"
   },
   {
    "duration": 201,
    "start_time": "2022-12-01T13:36:07.863Z"
   },
   {
    "duration": 49,
    "start_time": "2022-12-01T13:36:08.065Z"
   },
   {
    "duration": 102,
    "start_time": "2022-12-01T13:36:08.116Z"
   },
   {
    "duration": 161,
    "start_time": "2022-12-01T13:36:08.220Z"
   },
   {
    "duration": 13,
    "start_time": "2022-12-01T13:36:08.382Z"
   },
   {
    "duration": 28,
    "start_time": "2022-12-01T13:36:08.397Z"
   },
   {
    "duration": 171,
    "start_time": "2022-12-01T13:36:08.427Z"
   },
   {
    "duration": 159,
    "start_time": "2022-12-01T13:36:08.600Z"
   },
   {
    "duration": 153,
    "start_time": "2022-12-01T13:36:08.760Z"
   },
   {
    "duration": 33,
    "start_time": "2022-12-01T13:36:08.915Z"
   },
   {
    "duration": 126,
    "start_time": "2022-12-01T13:36:08.949Z"
   },
   {
    "duration": 44,
    "start_time": "2022-12-01T13:36:09.077Z"
   },
   {
    "duration": 11,
    "start_time": "2022-12-01T13:36:09.123Z"
   },
   {
    "duration": 203,
    "start_time": "2022-12-01T13:36:09.137Z"
   },
   {
    "duration": 22,
    "start_time": "2022-12-01T13:36:09.341Z"
   },
   {
    "duration": 13,
    "start_time": "2022-12-01T13:36:09.365Z"
   },
   {
    "duration": 57,
    "start_time": "2022-12-01T13:36:09.379Z"
   },
   {
    "duration": 211,
    "start_time": "2022-12-01T13:36:09.437Z"
   },
   {
    "duration": 14,
    "start_time": "2022-12-01T13:36:09.651Z"
   },
   {
    "duration": 2638,
    "start_time": "2022-12-01T13:36:09.667Z"
   },
   {
    "duration": 90,
    "start_time": "2022-12-01T13:37:34.058Z"
   },
   {
    "duration": 3,
    "start_time": "2022-12-01T13:37:34.150Z"
   },
   {
    "duration": 23,
    "start_time": "2022-12-01T13:37:34.155Z"
   },
   {
    "duration": 43,
    "start_time": "2022-12-01T13:37:34.180Z"
   },
   {
    "duration": 2794,
    "start_time": "2022-12-01T13:37:34.226Z"
   },
   {
    "duration": 9,
    "start_time": "2022-12-01T13:37:37.022Z"
   },
   {
    "duration": 6,
    "start_time": "2022-12-01T13:37:37.032Z"
   },
   {
    "duration": 7,
    "start_time": "2022-12-01T13:37:37.039Z"
   },
   {
    "duration": 7,
    "start_time": "2022-12-01T13:37:37.047Z"
   },
   {
    "duration": 6,
    "start_time": "2022-12-01T13:37:37.055Z"
   },
   {
    "duration": 5,
    "start_time": "2022-12-01T13:37:37.114Z"
   },
   {
    "duration": 7,
    "start_time": "2022-12-01T13:37:37.121Z"
   },
   {
    "duration": 393,
    "start_time": "2022-12-01T13:37:37.130Z"
   },
   {
    "duration": 14,
    "start_time": "2022-12-01T13:37:37.526Z"
   },
   {
    "duration": 10,
    "start_time": "2022-12-01T13:37:37.541Z"
   },
   {
    "duration": 187,
    "start_time": "2022-12-01T13:37:37.552Z"
   },
   {
    "duration": 32,
    "start_time": "2022-12-01T13:37:37.741Z"
   },
   {
    "duration": 7551,
    "start_time": "2022-12-01T13:37:37.774Z"
   },
   {
    "duration": 310,
    "start_time": "2022-12-01T13:37:45.326Z"
   },
   {
    "duration": 15,
    "start_time": "2022-12-01T13:37:45.638Z"
   },
   {
    "duration": 73,
    "start_time": "2022-12-01T13:37:45.654Z"
   },
   {
    "duration": 524,
    "start_time": "2022-12-01T13:37:45.728Z"
   },
   {
    "duration": 592,
    "start_time": "2022-12-01T14:28:26.685Z"
   },
   {
    "duration": 2,
    "start_time": "2022-12-01T14:28:27.280Z"
   },
   {
    "duration": 19,
    "start_time": "2022-12-01T14:28:27.284Z"
   },
   {
    "duration": 40,
    "start_time": "2022-12-01T14:28:27.305Z"
   },
   {
    "duration": 2422,
    "start_time": "2022-12-01T14:28:27.347Z"
   },
   {
    "duration": 9,
    "start_time": "2022-12-01T14:28:29.771Z"
   },
   {
    "duration": 4,
    "start_time": "2022-12-01T14:28:29.782Z"
   },
   {
    "duration": 5,
    "start_time": "2022-12-01T14:28:29.787Z"
   },
   {
    "duration": 6,
    "start_time": "2022-12-01T14:28:29.793Z"
   },
   {
    "duration": 6,
    "start_time": "2022-12-01T14:28:29.801Z"
   },
   {
    "duration": 8,
    "start_time": "2022-12-01T14:28:29.808Z"
   },
   {
    "duration": 8,
    "start_time": "2022-12-01T14:28:29.817Z"
   },
   {
    "duration": 186,
    "start_time": "2022-12-01T14:28:29.826Z"
   },
   {
    "duration": 12,
    "start_time": "2022-12-01T14:28:30.015Z"
   },
   {
    "duration": 9,
    "start_time": "2022-12-01T14:28:30.029Z"
   },
   {
    "duration": 163,
    "start_time": "2022-12-01T14:28:30.039Z"
   },
   {
    "duration": 39,
    "start_time": "2022-12-01T14:28:30.203Z"
   },
   {
    "duration": 359,
    "start_time": "2022-12-01T14:28:48.180Z"
   },
   {
    "duration": 17,
    "start_time": "2022-12-01T14:28:48.541Z"
   },
   {
    "duration": 69,
    "start_time": "2022-12-01T14:28:48.560Z"
   },
   {
    "duration": 543,
    "start_time": "2022-12-01T14:28:48.631Z"
   },
   {
    "duration": 446,
    "start_time": "2022-12-01T14:28:49.176Z"
   },
   {
    "duration": 226,
    "start_time": "2022-12-01T14:28:49.624Z"
   },
   {
    "duration": 28,
    "start_time": "2022-12-01T14:28:49.852Z"
   },
   {
    "duration": 43,
    "start_time": "2022-12-01T14:28:49.881Z"
   },
   {
    "duration": 18,
    "start_time": "2022-12-01T14:28:49.926Z"
   },
   {
    "duration": 11,
    "start_time": "2022-12-01T14:28:49.945Z"
   },
   {
    "duration": 214,
    "start_time": "2022-12-01T14:28:49.957Z"
   },
   {
    "duration": 20,
    "start_time": "2022-12-01T14:28:50.173Z"
   },
   {
    "duration": 30,
    "start_time": "2022-12-01T14:28:50.195Z"
   },
   {
    "duration": 43,
    "start_time": "2022-12-01T14:28:50.227Z"
   },
   {
    "duration": 257,
    "start_time": "2022-12-01T14:28:50.272Z"
   },
   {
    "duration": 14,
    "start_time": "2022-12-01T14:28:50.531Z"
   },
   {
    "duration": 2538,
    "start_time": "2022-12-01T14:28:50.547Z"
   },
   {
    "duration": 15402,
    "start_time": "2022-12-01T14:29:23.078Z"
   },
   {
    "duration": 11344,
    "start_time": "2022-12-01T14:29:54.559Z"
   },
   {
    "duration": 465,
    "start_time": "2022-12-01T14:30:21.149Z"
   },
   {
    "duration": 3,
    "start_time": "2022-12-01T14:30:21.616Z"
   },
   {
    "duration": 39,
    "start_time": "2022-12-01T14:30:21.620Z"
   },
   {
    "duration": 42,
    "start_time": "2022-12-01T14:30:21.661Z"
   },
   {
    "duration": 2148,
    "start_time": "2022-12-01T14:30:21.705Z"
   },
   {
    "duration": 10,
    "start_time": "2022-12-01T14:30:23.855Z"
   },
   {
    "duration": 5,
    "start_time": "2022-12-01T14:30:23.867Z"
   },
   {
    "duration": 5,
    "start_time": "2022-12-01T14:30:23.873Z"
   },
   {
    "duration": 7,
    "start_time": "2022-12-01T14:30:23.879Z"
   },
   {
    "duration": 6,
    "start_time": "2022-12-01T14:30:23.889Z"
   },
   {
    "duration": 8,
    "start_time": "2022-12-01T14:30:23.896Z"
   },
   {
    "duration": 9,
    "start_time": "2022-12-01T14:30:23.905Z"
   },
   {
    "duration": 203,
    "start_time": "2022-12-01T14:30:23.915Z"
   },
   {
    "duration": 16,
    "start_time": "2022-12-01T14:30:24.120Z"
   },
   {
    "duration": 12,
    "start_time": "2022-12-01T14:30:24.138Z"
   },
   {
    "duration": 214,
    "start_time": "2022-12-01T14:30:24.152Z"
   },
   {
    "duration": 50,
    "start_time": "2022-12-01T14:30:24.369Z"
   },
   {
    "duration": 163,
    "start_time": "2022-12-01T14:30:24.421Z"
   },
   {
    "duration": 31,
    "start_time": "2022-12-01T14:30:24.586Z"
   },
   {
    "duration": 17,
    "start_time": "2022-12-01T14:30:24.619Z"
   },
   {
    "duration": 317,
    "start_time": "2022-12-01T14:30:24.637Z"
   },
   {
    "duration": 414,
    "start_time": "2022-12-01T14:30:24.956Z"
   },
   {
    "duration": 136,
    "start_time": "2022-12-01T14:30:25.371Z"
   },
   {
    "duration": 29,
    "start_time": "2022-12-01T14:30:25.512Z"
   },
   {
    "duration": 121,
    "start_time": "2022-12-01T14:30:25.542Z"
   },
   {
    "duration": 19,
    "start_time": "2022-12-01T14:30:25.664Z"
   },
   {
    "duration": 35,
    "start_time": "2022-12-01T14:30:25.685Z"
   },
   {
    "duration": 203,
    "start_time": "2022-12-01T14:30:25.724Z"
   },
   {
    "duration": 23,
    "start_time": "2022-12-01T14:30:25.928Z"
   },
   {
    "duration": 14,
    "start_time": "2022-12-01T14:30:25.953Z"
   },
   {
    "duration": 45,
    "start_time": "2022-12-01T14:30:25.969Z"
   },
   {
    "duration": 221,
    "start_time": "2022-12-01T14:30:26.016Z"
   },
   {
    "duration": 15,
    "start_time": "2022-12-01T14:30:26.239Z"
   },
   {
    "duration": 2554,
    "start_time": "2022-12-01T14:30:26.255Z"
   },
   {
    "duration": 120,
    "start_time": "2022-12-01T14:32:22.975Z"
   },
   {
    "duration": 4,
    "start_time": "2022-12-01T14:33:03.928Z"
   },
   {
    "duration": 129,
    "start_time": "2022-12-01T14:33:09.254Z"
   },
   {
    "duration": 535,
    "start_time": "2022-12-01T14:33:46.878Z"
   },
   {
    "duration": 3,
    "start_time": "2022-12-01T14:33:47.415Z"
   },
   {
    "duration": 71,
    "start_time": "2022-12-01T14:33:47.420Z"
   },
   {
    "duration": 0,
    "start_time": "2022-12-01T14:33:47.494Z"
   },
   {
    "duration": 0,
    "start_time": "2022-12-01T14:33:47.496Z"
   },
   {
    "duration": 0,
    "start_time": "2022-12-01T14:33:47.497Z"
   },
   {
    "duration": 0,
    "start_time": "2022-12-01T14:33:47.499Z"
   },
   {
    "duration": 0,
    "start_time": "2022-12-01T14:33:47.500Z"
   },
   {
    "duration": 0,
    "start_time": "2022-12-01T14:33:47.501Z"
   },
   {
    "duration": 0,
    "start_time": "2022-12-01T14:33:47.502Z"
   },
   {
    "duration": 0,
    "start_time": "2022-12-01T14:33:47.503Z"
   },
   {
    "duration": 0,
    "start_time": "2022-12-01T14:33:47.504Z"
   },
   {
    "duration": 0,
    "start_time": "2022-12-01T14:33:47.505Z"
   },
   {
    "duration": 0,
    "start_time": "2022-12-01T14:33:47.507Z"
   },
   {
    "duration": 0,
    "start_time": "2022-12-01T14:33:47.508Z"
   },
   {
    "duration": 0,
    "start_time": "2022-12-01T14:33:47.509Z"
   },
   {
    "duration": 0,
    "start_time": "2022-12-01T14:33:47.510Z"
   },
   {
    "duration": 0,
    "start_time": "2022-12-01T14:33:47.511Z"
   },
   {
    "duration": 0,
    "start_time": "2022-12-01T14:33:47.512Z"
   },
   {
    "duration": 0,
    "start_time": "2022-12-01T14:33:47.513Z"
   },
   {
    "duration": 0,
    "start_time": "2022-12-01T14:33:47.514Z"
   },
   {
    "duration": 0,
    "start_time": "2022-12-01T14:33:47.515Z"
   },
   {
    "duration": 0,
    "start_time": "2022-12-01T14:33:47.516Z"
   },
   {
    "duration": 0,
    "start_time": "2022-12-01T14:33:47.517Z"
   },
   {
    "duration": 0,
    "start_time": "2022-12-01T14:33:47.518Z"
   },
   {
    "duration": 0,
    "start_time": "2022-12-01T14:33:47.519Z"
   },
   {
    "duration": 0,
    "start_time": "2022-12-01T14:33:47.520Z"
   },
   {
    "duration": 0,
    "start_time": "2022-12-01T14:33:47.521Z"
   },
   {
    "duration": 0,
    "start_time": "2022-12-01T14:33:47.522Z"
   },
   {
    "duration": 0,
    "start_time": "2022-12-01T14:33:47.523Z"
   },
   {
    "duration": 0,
    "start_time": "2022-12-01T14:33:47.524Z"
   },
   {
    "duration": 0,
    "start_time": "2022-12-01T14:33:47.525Z"
   },
   {
    "duration": 0,
    "start_time": "2022-12-01T14:33:47.526Z"
   },
   {
    "duration": 0,
    "start_time": "2022-12-01T14:33:47.527Z"
   },
   {
    "duration": 0,
    "start_time": "2022-12-01T14:33:47.528Z"
   },
   {
    "duration": 519,
    "start_time": "2022-12-01T14:34:01.498Z"
   },
   {
    "duration": 4,
    "start_time": "2022-12-01T14:34:02.018Z"
   },
   {
    "duration": 74,
    "start_time": "2022-12-01T14:34:02.023Z"
   },
   {
    "duration": 0,
    "start_time": "2022-12-01T14:34:02.099Z"
   },
   {
    "duration": 0,
    "start_time": "2022-12-01T14:34:02.101Z"
   },
   {
    "duration": 0,
    "start_time": "2022-12-01T14:34:02.102Z"
   },
   {
    "duration": 0,
    "start_time": "2022-12-01T14:34:02.103Z"
   },
   {
    "duration": 0,
    "start_time": "2022-12-01T14:34:02.104Z"
   },
   {
    "duration": 0,
    "start_time": "2022-12-01T14:34:02.105Z"
   },
   {
    "duration": 0,
    "start_time": "2022-12-01T14:34:02.106Z"
   },
   {
    "duration": 0,
    "start_time": "2022-12-01T14:34:02.107Z"
   },
   {
    "duration": 0,
    "start_time": "2022-12-01T14:34:02.108Z"
   },
   {
    "duration": 0,
    "start_time": "2022-12-01T14:34:02.110Z"
   },
   {
    "duration": 0,
    "start_time": "2022-12-01T14:34:02.111Z"
   },
   {
    "duration": 0,
    "start_time": "2022-12-01T14:34:02.112Z"
   },
   {
    "duration": 1,
    "start_time": "2022-12-01T14:34:02.113Z"
   },
   {
    "duration": 0,
    "start_time": "2022-12-01T14:34:02.115Z"
   },
   {
    "duration": 0,
    "start_time": "2022-12-01T14:34:02.116Z"
   },
   {
    "duration": 0,
    "start_time": "2022-12-01T14:34:02.118Z"
   },
   {
    "duration": 0,
    "start_time": "2022-12-01T14:34:02.119Z"
   },
   {
    "duration": 0,
    "start_time": "2022-12-01T14:34:02.121Z"
   },
   {
    "duration": 0,
    "start_time": "2022-12-01T14:34:02.122Z"
   },
   {
    "duration": 0,
    "start_time": "2022-12-01T14:34:02.123Z"
   },
   {
    "duration": 0,
    "start_time": "2022-12-01T14:34:02.125Z"
   },
   {
    "duration": 0,
    "start_time": "2022-12-01T14:34:02.126Z"
   },
   {
    "duration": 0,
    "start_time": "2022-12-01T14:34:02.128Z"
   },
   {
    "duration": 0,
    "start_time": "2022-12-01T14:34:02.129Z"
   },
   {
    "duration": 0,
    "start_time": "2022-12-01T14:34:02.131Z"
   },
   {
    "duration": 0,
    "start_time": "2022-12-01T14:34:02.132Z"
   },
   {
    "duration": 0,
    "start_time": "2022-12-01T14:34:02.133Z"
   },
   {
    "duration": 0,
    "start_time": "2022-12-01T14:34:02.135Z"
   },
   {
    "duration": 0,
    "start_time": "2022-12-01T14:34:02.136Z"
   },
   {
    "duration": 0,
    "start_time": "2022-12-01T14:34:02.138Z"
   },
   {
    "duration": 0,
    "start_time": "2022-12-01T14:34:02.139Z"
   },
   {
    "duration": 0,
    "start_time": "2022-12-01T14:34:02.140Z"
   },
   {
    "duration": 71,
    "start_time": "2022-12-01T14:34:10.393Z"
   },
   {
    "duration": 28,
    "start_time": "2022-12-01T14:34:18.654Z"
   },
   {
    "duration": 391,
    "start_time": "2022-12-01T14:34:43.477Z"
   },
   {
    "duration": 127,
    "start_time": "2022-12-01T14:38:02.576Z"
   },
   {
    "duration": 147,
    "start_time": "2022-12-01T14:38:30.730Z"
   },
   {
    "duration": 173,
    "start_time": "2022-12-01T14:38:42.854Z"
   },
   {
    "duration": 174,
    "start_time": "2022-12-01T14:39:10.849Z"
   },
   {
    "duration": 202,
    "start_time": "2022-12-01T14:39:18.711Z"
   },
   {
    "duration": 158,
    "start_time": "2022-12-01T14:39:33.661Z"
   },
   {
    "duration": 15727,
    "start_time": "2022-12-01T14:45:56.462Z"
   },
   {
    "duration": 485,
    "start_time": "2022-12-01T14:47:16.645Z"
   },
   {
    "duration": 3,
    "start_time": "2022-12-01T14:47:17.132Z"
   },
   {
    "duration": 19,
    "start_time": "2022-12-01T14:47:17.136Z"
   },
   {
    "duration": 55,
    "start_time": "2022-12-01T14:47:17.158Z"
   },
   {
    "duration": 2210,
    "start_time": "2022-12-01T14:47:17.215Z"
   },
   {
    "duration": 10,
    "start_time": "2022-12-01T14:47:19.427Z"
   },
   {
    "duration": 4,
    "start_time": "2022-12-01T14:47:19.439Z"
   },
   {
    "duration": 7,
    "start_time": "2022-12-01T14:47:19.445Z"
   },
   {
    "duration": 9,
    "start_time": "2022-12-01T14:47:19.453Z"
   },
   {
    "duration": 5,
    "start_time": "2022-12-01T14:47:19.464Z"
   },
   {
    "duration": 7,
    "start_time": "2022-12-01T14:47:19.471Z"
   },
   {
    "duration": 10,
    "start_time": "2022-12-01T14:47:19.480Z"
   },
   {
    "duration": 217,
    "start_time": "2022-12-01T14:47:19.492Z"
   },
   {
    "duration": 14,
    "start_time": "2022-12-01T14:47:19.713Z"
   },
   {
    "duration": 11,
    "start_time": "2022-12-01T14:47:19.729Z"
   },
   {
    "duration": 199,
    "start_time": "2022-12-01T14:47:19.742Z"
   },
   {
    "duration": 34,
    "start_time": "2022-12-01T14:47:19.943Z"
   },
   {
    "duration": 156,
    "start_time": "2022-12-01T14:47:19.978Z"
   },
   {
    "duration": 16,
    "start_time": "2022-12-01T14:47:20.135Z"
   },
   {
    "duration": 16,
    "start_time": "2022-12-01T14:47:20.153Z"
   },
   {
    "duration": 357,
    "start_time": "2022-12-01T14:47:20.171Z"
   },
   {
    "duration": 427,
    "start_time": "2022-12-01T14:47:20.529Z"
   },
   {
    "duration": 156,
    "start_time": "2022-12-01T14:47:20.958Z"
   },
   {
    "duration": 29,
    "start_time": "2022-12-01T14:47:21.116Z"
   },
   {
    "duration": 125,
    "start_time": "2022-12-01T14:47:21.146Z"
   },
   {
    "duration": 19,
    "start_time": "2022-12-01T14:47:21.273Z"
   },
   {
    "duration": 10,
    "start_time": "2022-12-01T14:47:21.314Z"
   },
   {
    "duration": 204,
    "start_time": "2022-12-01T14:47:21.327Z"
   },
   {
    "duration": 22,
    "start_time": "2022-12-01T14:47:21.533Z"
   },
   {
    "duration": 14,
    "start_time": "2022-12-01T14:47:21.556Z"
   },
   {
    "duration": 49,
    "start_time": "2022-12-01T14:47:21.572Z"
   },
   {
    "duration": 217,
    "start_time": "2022-12-01T14:47:21.623Z"
   },
   {
    "duration": 15,
    "start_time": "2022-12-01T14:47:21.841Z"
   },
   {
    "duration": 3488,
    "start_time": "2022-12-01T14:47:21.858Z"
   },
   {
    "duration": 172,
    "start_time": "2022-12-01T14:47:25.347Z"
   },
   {
    "duration": 0,
    "start_time": "2022-12-01T14:47:53.299Z"
   },
   {
    "duration": 27476,
    "start_time": "2022-12-01T14:49:00.879Z"
   },
   {
    "duration": 5,
    "start_time": "2022-12-01T14:51:56.296Z"
   },
   {
    "duration": 0,
    "start_time": "2022-12-01T14:53:03.742Z"
   },
   {
    "duration": 11,
    "start_time": "2022-12-01T15:03:19.287Z"
   },
   {
    "duration": 17,
    "start_time": "2022-12-01T15:03:34.272Z"
   },
   {
    "duration": 17,
    "start_time": "2022-12-01T15:04:10.604Z"
   },
   {
    "duration": 1843,
    "start_time": "2022-12-01T15:04:17.452Z"
   },
   {
    "duration": 162,
    "start_time": "2022-12-01T15:05:09.020Z"
   },
   {
    "duration": 163,
    "start_time": "2022-12-01T15:08:53.370Z"
   },
   {
    "duration": 1301,
    "start_time": "2022-12-01T15:11:56.164Z"
   },
   {
    "duration": 24,
    "start_time": "2022-12-01T15:12:52.845Z"
   },
   {
    "duration": 161,
    "start_time": "2022-12-01T15:13:41.789Z"
   },
   {
    "duration": 150,
    "start_time": "2022-12-01T15:14:19.630Z"
   },
   {
    "duration": 1846,
    "start_time": "2022-12-01T15:17:10.399Z"
   },
   {
    "duration": 245,
    "start_time": "2022-12-01T15:17:57.510Z"
   },
   {
    "duration": 228,
    "start_time": "2022-12-01T15:19:28.000Z"
   },
   {
    "duration": 216,
    "start_time": "2022-12-01T15:19:48.909Z"
   },
   {
    "duration": 205,
    "start_time": "2022-12-01T15:20:16.734Z"
   },
   {
    "duration": 180,
    "start_time": "2022-12-01T15:20:27.833Z"
   },
   {
    "duration": 52,
    "start_time": "2022-12-01T18:20:50.839Z"
   },
   {
    "duration": 679,
    "start_time": "2022-12-01T18:21:03.127Z"
   },
   {
    "duration": 3,
    "start_time": "2022-12-01T18:21:03.808Z"
   },
   {
    "duration": 22,
    "start_time": "2022-12-01T18:21:03.812Z"
   },
   {
    "duration": 35,
    "start_time": "2022-12-01T18:21:03.835Z"
   },
   {
    "duration": 2201,
    "start_time": "2022-12-01T18:21:03.873Z"
   },
   {
    "duration": 10,
    "start_time": "2022-12-01T18:21:06.076Z"
   },
   {
    "duration": 12,
    "start_time": "2022-12-01T18:21:06.088Z"
   },
   {
    "duration": 6,
    "start_time": "2022-12-01T18:21:06.101Z"
   },
   {
    "duration": 10,
    "start_time": "2022-12-01T18:21:06.108Z"
   },
   {
    "duration": 8,
    "start_time": "2022-12-01T18:21:06.120Z"
   },
   {
    "duration": 8,
    "start_time": "2022-12-01T18:21:06.130Z"
   },
   {
    "duration": 9,
    "start_time": "2022-12-01T18:21:06.139Z"
   },
   {
    "duration": 196,
    "start_time": "2022-12-01T18:21:06.150Z"
   },
   {
    "duration": 11,
    "start_time": "2022-12-01T18:21:06.349Z"
   },
   {
    "duration": 11,
    "start_time": "2022-12-01T18:21:06.362Z"
   },
   {
    "duration": 210,
    "start_time": "2022-12-01T18:21:06.375Z"
   },
   {
    "duration": 39,
    "start_time": "2022-12-01T18:21:06.586Z"
   },
   {
    "duration": 139,
    "start_time": "2022-12-01T18:21:06.627Z"
   },
   {
    "duration": 14,
    "start_time": "2022-12-01T18:21:06.768Z"
   },
   {
    "duration": 24,
    "start_time": "2022-12-01T18:21:06.784Z"
   },
   {
    "duration": 289,
    "start_time": "2022-12-01T18:21:06.810Z"
   },
   {
    "duration": 389,
    "start_time": "2022-12-01T18:21:07.100Z"
   },
   {
    "duration": 209,
    "start_time": "2022-12-01T18:21:07.497Z"
   },
   {
    "duration": 29,
    "start_time": "2022-12-01T18:21:07.708Z"
   },
   {
    "duration": 22,
    "start_time": "2022-12-01T18:21:07.739Z"
   },
   {
    "duration": 45,
    "start_time": "2022-12-01T18:21:07.762Z"
   },
   {
    "duration": 9,
    "start_time": "2022-12-01T18:21:07.809Z"
   },
   {
    "duration": 216,
    "start_time": "2022-12-01T18:21:07.820Z"
   },
   {
    "duration": 22,
    "start_time": "2022-12-01T18:21:08.037Z"
   },
   {
    "duration": 13,
    "start_time": "2022-12-01T18:21:08.060Z"
   },
   {
    "duration": 46,
    "start_time": "2022-12-01T18:21:08.075Z"
   },
   {
    "duration": 212,
    "start_time": "2022-12-01T18:21:08.122Z"
   },
   {
    "duration": 13,
    "start_time": "2022-12-01T18:21:08.335Z"
   },
   {
    "duration": 0,
    "start_time": "2022-12-01T18:21:38.955Z"
   },
   {
    "duration": 0,
    "start_time": "2022-12-01T18:21:38.956Z"
   },
   {
    "duration": 0,
    "start_time": "2022-12-01T18:21:38.958Z"
   },
   {
    "duration": 532,
    "start_time": "2022-12-01T18:21:47.009Z"
   },
   {
    "duration": 4,
    "start_time": "2022-12-01T18:21:47.542Z"
   },
   {
    "duration": 18,
    "start_time": "2022-12-01T18:21:47.547Z"
   },
   {
    "duration": 57,
    "start_time": "2022-12-01T18:21:47.566Z"
   },
   {
    "duration": 2166,
    "start_time": "2022-12-01T18:21:47.624Z"
   },
   {
    "duration": 12,
    "start_time": "2022-12-01T18:21:49.792Z"
   },
   {
    "duration": 9,
    "start_time": "2022-12-01T18:21:49.806Z"
   },
   {
    "duration": 10,
    "start_time": "2022-12-01T18:21:49.817Z"
   },
   {
    "duration": 8,
    "start_time": "2022-12-01T18:21:49.829Z"
   },
   {
    "duration": 9,
    "start_time": "2022-12-01T18:21:49.841Z"
   },
   {
    "duration": 9,
    "start_time": "2022-12-01T18:21:49.852Z"
   },
   {
    "duration": 8,
    "start_time": "2022-12-01T18:21:49.863Z"
   },
   {
    "duration": 245,
    "start_time": "2022-12-01T18:21:49.873Z"
   },
   {
    "duration": 13,
    "start_time": "2022-12-01T18:21:50.119Z"
   },
   {
    "duration": 9,
    "start_time": "2022-12-01T18:21:50.133Z"
   },
   {
    "duration": 193,
    "start_time": "2022-12-01T18:21:50.144Z"
   },
   {
    "duration": 36,
    "start_time": "2022-12-01T18:21:50.338Z"
   },
   {
    "duration": 158,
    "start_time": "2022-12-01T18:21:50.376Z"
   },
   {
    "duration": 13,
    "start_time": "2022-12-01T18:21:50.536Z"
   },
   {
    "duration": 13,
    "start_time": "2022-12-01T18:21:50.551Z"
   },
   {
    "duration": 310,
    "start_time": "2022-12-01T18:21:50.565Z"
   },
   {
    "duration": 404,
    "start_time": "2022-12-01T18:21:50.876Z"
   },
   {
    "duration": 131,
    "start_time": "2022-12-01T18:21:51.282Z"
   },
   {
    "duration": 28,
    "start_time": "2022-12-01T18:21:51.415Z"
   },
   {
    "duration": 113,
    "start_time": "2022-12-01T18:21:51.444Z"
   },
   {
    "duration": 18,
    "start_time": "2022-12-01T18:21:51.559Z"
   },
   {
    "duration": 25,
    "start_time": "2022-12-01T18:21:51.579Z"
   },
   {
    "duration": 195,
    "start_time": "2022-12-01T18:21:51.607Z"
   },
   {
    "duration": 28,
    "start_time": "2022-12-01T18:21:51.804Z"
   },
   {
    "duration": 13,
    "start_time": "2022-12-01T18:21:51.834Z"
   },
   {
    "duration": 49,
    "start_time": "2022-12-01T18:21:51.849Z"
   },
   {
    "duration": 222,
    "start_time": "2022-12-01T18:21:51.900Z"
   },
   {
    "duration": 13,
    "start_time": "2022-12-01T18:21:52.124Z"
   },
   {
    "duration": 30507,
    "start_time": "2022-12-01T18:21:52.138Z"
   },
   {
    "duration": 0,
    "start_time": "2022-12-01T18:22:22.647Z"
   },
   {
    "duration": 0,
    "start_time": "2022-12-01T18:22:22.648Z"
   },
   {
    "duration": 2504,
    "start_time": "2022-12-01T18:23:43.613Z"
   },
   {
    "duration": 172,
    "start_time": "2022-12-01T18:26:19.201Z"
   },
   {
    "duration": 177,
    "start_time": "2022-12-01T18:27:01.631Z"
   },
   {
    "duration": 176,
    "start_time": "2022-12-01T18:27:13.710Z"
   },
   {
    "duration": 223,
    "start_time": "2022-12-01T18:28:15.122Z"
   },
   {
    "duration": 308,
    "start_time": "2022-12-01T18:29:00.383Z"
   },
   {
    "duration": 277,
    "start_time": "2022-12-01T18:29:35.374Z"
   },
   {
    "duration": 170,
    "start_time": "2022-12-01T18:30:02.138Z"
   },
   {
    "duration": 180,
    "start_time": "2022-12-01T18:30:21.679Z"
   },
   {
    "duration": 226,
    "start_time": "2022-12-01T18:30:36.721Z"
   },
   {
    "duration": 154,
    "start_time": "2022-12-01T18:32:06.134Z"
   },
   {
    "duration": 298,
    "start_time": "2022-12-01T18:35:27.946Z"
   },
   {
    "duration": 494,
    "start_time": "2022-12-01T18:37:40.196Z"
   },
   {
    "duration": 752,
    "start_time": "2022-12-01T18:44:57.850Z"
   },
   {
    "duration": 810,
    "start_time": "2022-12-01T18:46:03.209Z"
   },
   {
    "duration": 489,
    "start_time": "2022-12-01T18:49:22.535Z"
   },
   {
    "duration": 485,
    "start_time": "2022-12-01T18:50:13.737Z"
   },
   {
    "duration": 101,
    "start_time": "2022-12-01T18:51:14.791Z"
   },
   {
    "duration": 154,
    "start_time": "2022-12-01T18:54:14.199Z"
   },
   {
    "duration": 151,
    "start_time": "2022-12-01T18:58:43.453Z"
   },
   {
    "duration": 289,
    "start_time": "2022-12-01T19:02:01.055Z"
   },
   {
    "duration": 351,
    "start_time": "2022-12-01T19:02:52.654Z"
   },
   {
    "duration": 1103,
    "start_time": "2022-12-01T19:10:39.841Z"
   },
   {
    "duration": 175,
    "start_time": "2022-12-01T19:12:13.331Z"
   },
   {
    "duration": 17,
    "start_time": "2022-12-01T19:16:24.005Z"
   },
   {
    "duration": 1148,
    "start_time": "2022-12-01T19:16:44.611Z"
   },
   {
    "duration": 120,
    "start_time": "2022-12-01T19:17:29.744Z"
   },
   {
    "duration": 129,
    "start_time": "2022-12-01T19:17:57.495Z"
   },
   {
    "duration": 124,
    "start_time": "2022-12-01T19:18:05.920Z"
   },
   {
    "duration": 29,
    "start_time": "2022-12-01T19:22:44.650Z"
   },
   {
    "duration": 58,
    "start_time": "2022-12-02T12:55:00.239Z"
   },
   {
    "duration": 46,
    "start_time": "2022-12-02T12:55:47.160Z"
   },
   {
    "duration": 731,
    "start_time": "2022-12-02T12:57:37.188Z"
   },
   {
    "duration": 3,
    "start_time": "2022-12-02T12:57:37.921Z"
   },
   {
    "duration": 19,
    "start_time": "2022-12-02T12:57:37.925Z"
   },
   {
    "duration": 41,
    "start_time": "2022-12-02T12:57:37.946Z"
   },
   {
    "duration": 2405,
    "start_time": "2022-12-02T12:57:37.989Z"
   },
   {
    "duration": 10,
    "start_time": "2022-12-02T12:57:40.396Z"
   },
   {
    "duration": 11,
    "start_time": "2022-12-02T12:57:40.408Z"
   },
   {
    "duration": 14,
    "start_time": "2022-12-02T12:57:40.421Z"
   },
   {
    "duration": 194,
    "start_time": "2022-12-02T12:57:40.437Z"
   },
   {
    "duration": 22,
    "start_time": "2022-12-02T12:57:40.633Z"
   },
   {
    "duration": 10,
    "start_time": "2022-12-02T12:57:40.657Z"
   },
   {
    "duration": 189,
    "start_time": "2022-12-02T12:57:40.668Z"
   },
   {
    "duration": 35,
    "start_time": "2022-12-02T12:57:40.858Z"
   },
   {
    "duration": 170,
    "start_time": "2022-12-02T12:57:40.895Z"
   },
   {
    "duration": 14,
    "start_time": "2022-12-02T12:57:41.067Z"
   },
   {
    "duration": 18,
    "start_time": "2022-12-02T12:57:41.082Z"
   },
   {
    "duration": 325,
    "start_time": "2022-12-02T12:57:41.102Z"
   },
   {
    "duration": 447,
    "start_time": "2022-12-02T12:57:41.429Z"
   },
   {
    "duration": 234,
    "start_time": "2022-12-02T12:57:41.878Z"
   },
   {
    "duration": 43,
    "start_time": "2022-12-02T12:57:42.114Z"
   },
   {
    "duration": 22,
    "start_time": "2022-12-02T12:57:42.158Z"
   },
   {
    "duration": 33,
    "start_time": "2022-12-02T12:57:42.182Z"
   },
   {
    "duration": 11,
    "start_time": "2022-12-02T12:57:42.217Z"
   },
   {
    "duration": 230,
    "start_time": "2022-12-02T12:57:42.230Z"
   },
   {
    "duration": 21,
    "start_time": "2022-12-02T12:57:42.462Z"
   },
   {
    "duration": 25,
    "start_time": "2022-12-02T12:57:42.485Z"
   },
   {
    "duration": 45,
    "start_time": "2022-12-02T12:57:42.511Z"
   },
   {
    "duration": 227,
    "start_time": "2022-12-02T12:57:42.559Z"
   },
   {
    "duration": 15,
    "start_time": "2022-12-02T12:57:42.787Z"
   },
   {
    "duration": 2920,
    "start_time": "2022-12-02T12:57:42.804Z"
   },
   {
    "duration": 186,
    "start_time": "2022-12-02T12:57:45.726Z"
   },
   {
    "duration": 65,
    "start_time": "2022-12-02T12:57:45.913Z"
   },
   {
    "duration": 4,
    "start_time": "2022-12-02T12:59:12.959Z"
   },
   {
    "duration": 103,
    "start_time": "2022-12-02T12:59:12.965Z"
   },
   {
    "duration": 15,
    "start_time": "2022-12-02T12:59:13.070Z"
   },
   {
    "duration": 36,
    "start_time": "2022-12-02T12:59:13.086Z"
   },
   {
    "duration": 2271,
    "start_time": "2022-12-02T12:59:13.124Z"
   },
   {
    "duration": 10,
    "start_time": "2022-12-02T12:59:15.397Z"
   },
   {
    "duration": 9,
    "start_time": "2022-12-02T12:59:15.409Z"
   },
   {
    "duration": 15,
    "start_time": "2022-12-02T12:59:15.420Z"
   },
   {
    "duration": 230,
    "start_time": "2022-12-02T12:59:15.437Z"
   },
   {
    "duration": 13,
    "start_time": "2022-12-02T12:59:15.669Z"
   },
   {
    "duration": 10,
    "start_time": "2022-12-02T12:59:15.685Z"
   },
   {
    "duration": 206,
    "start_time": "2022-12-02T12:59:15.696Z"
   },
   {
    "duration": 36,
    "start_time": "2022-12-02T12:59:15.904Z"
   },
   {
    "duration": 163,
    "start_time": "2022-12-02T12:59:15.942Z"
   },
   {
    "duration": 14,
    "start_time": "2022-12-02T12:59:16.107Z"
   },
   {
    "duration": 32,
    "start_time": "2022-12-02T12:59:16.124Z"
   },
   {
    "duration": 326,
    "start_time": "2022-12-02T12:59:16.158Z"
   },
   {
    "duration": 482,
    "start_time": "2022-12-02T12:59:16.486Z"
   },
   {
    "duration": 162,
    "start_time": "2022-12-02T12:59:16.970Z"
   },
   {
    "duration": 33,
    "start_time": "2022-12-02T12:59:17.134Z"
   },
   {
    "duration": 22,
    "start_time": "2022-12-02T12:59:17.168Z"
   },
   {
    "duration": 18,
    "start_time": "2022-12-02T12:59:17.191Z"
   },
   {
    "duration": 49,
    "start_time": "2022-12-02T12:59:17.210Z"
   },
   {
    "duration": 221,
    "start_time": "2022-12-02T12:59:17.261Z"
   },
   {
    "duration": 22,
    "start_time": "2022-12-02T12:59:17.484Z"
   },
   {
    "duration": 14,
    "start_time": "2022-12-02T12:59:17.508Z"
   },
   {
    "duration": 51,
    "start_time": "2022-12-02T12:59:17.523Z"
   },
   {
    "duration": 244,
    "start_time": "2022-12-02T12:59:17.576Z"
   },
   {
    "duration": 15,
    "start_time": "2022-12-02T12:59:17.824Z"
   },
   {
    "duration": 2792,
    "start_time": "2022-12-02T12:59:17.840Z"
   },
   {
    "duration": 178,
    "start_time": "2022-12-02T12:59:20.634Z"
   },
   {
    "duration": 25,
    "start_time": "2022-12-02T12:59:20.813Z"
   },
   {
    "duration": 6,
    "start_time": "2022-12-02T13:03:45.542Z"
   },
   {
    "duration": 3,
    "start_time": "2022-12-02T13:04:05.162Z"
   },
   {
    "duration": 107,
    "start_time": "2022-12-02T13:04:05.167Z"
   },
   {
    "duration": 17,
    "start_time": "2022-12-02T13:04:05.275Z"
   },
   {
    "duration": 37,
    "start_time": "2022-12-02T13:04:05.294Z"
   },
   {
    "duration": 2344,
    "start_time": "2022-12-02T13:04:05.333Z"
   },
   {
    "duration": 10,
    "start_time": "2022-12-02T13:04:07.679Z"
   },
   {
    "duration": 9,
    "start_time": "2022-12-02T13:04:07.690Z"
   },
   {
    "duration": 9,
    "start_time": "2022-12-02T13:04:07.701Z"
   },
   {
    "duration": 228,
    "start_time": "2022-12-02T13:04:07.712Z"
   },
   {
    "duration": 19,
    "start_time": "2022-12-02T13:04:07.942Z"
   },
   {
    "duration": 12,
    "start_time": "2022-12-02T13:04:07.963Z"
   },
   {
    "duration": 203,
    "start_time": "2022-12-02T13:04:07.977Z"
   },
   {
    "duration": 36,
    "start_time": "2022-12-02T13:04:08.182Z"
   },
   {
    "duration": 161,
    "start_time": "2022-12-02T13:04:08.220Z"
   },
   {
    "duration": 15,
    "start_time": "2022-12-02T13:04:08.383Z"
   },
   {
    "duration": 15,
    "start_time": "2022-12-02T13:04:08.400Z"
   },
   {
    "duration": 351,
    "start_time": "2022-12-02T13:04:08.417Z"
   },
   {
    "duration": 470,
    "start_time": "2022-12-02T13:04:08.770Z"
   },
   {
    "duration": 154,
    "start_time": "2022-12-02T13:04:09.243Z"
   },
   {
    "duration": 31,
    "start_time": "2022-12-02T13:04:09.400Z"
   },
   {
    "duration": 42,
    "start_time": "2022-12-02T13:04:09.433Z"
   },
   {
    "duration": 37,
    "start_time": "2022-12-02T13:04:09.477Z"
   },
   {
    "duration": 10,
    "start_time": "2022-12-02T13:04:09.516Z"
   },
   {
    "duration": 243,
    "start_time": "2022-12-02T13:04:09.529Z"
   },
   {
    "duration": 25,
    "start_time": "2022-12-02T13:04:09.774Z"
   },
   {
    "duration": 15,
    "start_time": "2022-12-02T13:04:09.801Z"
   },
   {
    "duration": 56,
    "start_time": "2022-12-02T13:04:09.818Z"
   },
   {
    "duration": 237,
    "start_time": "2022-12-02T13:04:09.875Z"
   },
   {
    "duration": 15,
    "start_time": "2022-12-02T13:04:10.114Z"
   },
   {
    "duration": 2783,
    "start_time": "2022-12-02T13:04:10.130Z"
   },
   {
    "duration": 181,
    "start_time": "2022-12-02T13:04:12.914Z"
   },
   {
    "duration": 25,
    "start_time": "2022-12-02T13:04:13.097Z"
   },
   {
    "duration": 8,
    "start_time": "2022-12-02T13:04:37.574Z"
   },
   {
    "duration": 8,
    "start_time": "2022-12-02T13:08:11.611Z"
   },
   {
    "duration": 199,
    "start_time": "2022-12-02T13:12:50.478Z"
   },
   {
    "duration": 4,
    "start_time": "2022-12-02T13:16:53.461Z"
   },
   {
    "duration": 99,
    "start_time": "2022-12-02T13:16:53.468Z"
   },
   {
    "duration": 17,
    "start_time": "2022-12-02T13:16:53.570Z"
   },
   {
    "duration": 42,
    "start_time": "2022-12-02T13:16:53.590Z"
   },
   {
    "duration": 2309,
    "start_time": "2022-12-02T13:16:53.634Z"
   },
   {
    "duration": 15,
    "start_time": "2022-12-02T13:16:55.945Z"
   },
   {
    "duration": 13,
    "start_time": "2022-12-02T13:16:55.962Z"
   },
   {
    "duration": 16,
    "start_time": "2022-12-02T13:16:55.978Z"
   },
   {
    "duration": 261,
    "start_time": "2022-12-02T13:16:55.996Z"
   },
   {
    "duration": 13,
    "start_time": "2022-12-02T13:16:56.258Z"
   },
   {
    "duration": 10,
    "start_time": "2022-12-02T13:16:56.272Z"
   },
   {
    "duration": 187,
    "start_time": "2022-12-02T13:16:56.284Z"
   },
   {
    "duration": 35,
    "start_time": "2022-12-02T13:16:56.473Z"
   },
   {
    "duration": 166,
    "start_time": "2022-12-02T13:16:56.509Z"
   },
   {
    "duration": 14,
    "start_time": "2022-12-02T13:16:56.677Z"
   },
   {
    "duration": 16,
    "start_time": "2022-12-02T13:16:56.693Z"
   },
   {
    "duration": 319,
    "start_time": "2022-12-02T13:16:56.711Z"
   },
   {
    "duration": 429,
    "start_time": "2022-12-02T13:16:57.033Z"
   },
   {
    "duration": 143,
    "start_time": "2022-12-02T13:16:57.464Z"
   },
   {
    "duration": 29,
    "start_time": "2022-12-02T13:16:57.608Z"
   },
   {
    "duration": 21,
    "start_time": "2022-12-02T13:16:57.655Z"
   },
   {
    "duration": 17,
    "start_time": "2022-12-02T13:16:57.678Z"
   },
   {
    "duration": 14,
    "start_time": "2022-12-02T13:16:57.696Z"
   },
   {
    "duration": 221,
    "start_time": "2022-12-02T13:16:57.712Z"
   },
   {
    "duration": 28,
    "start_time": "2022-12-02T13:16:57.935Z"
   },
   {
    "duration": 20,
    "start_time": "2022-12-02T13:16:57.964Z"
   },
   {
    "duration": 36,
    "start_time": "2022-12-02T13:16:57.986Z"
   },
   {
    "duration": 231,
    "start_time": "2022-12-02T13:16:58.024Z"
   },
   {
    "duration": 14,
    "start_time": "2022-12-02T13:16:58.257Z"
   },
   {
    "duration": 2452,
    "start_time": "2022-12-02T13:16:58.273Z"
   },
   {
    "duration": 168,
    "start_time": "2022-12-02T13:17:00.727Z"
   },
   {
    "duration": 26,
    "start_time": "2022-12-02T13:17:00.897Z"
   },
   {
    "duration": 214,
    "start_time": "2022-12-02T13:21:25.124Z"
   },
   {
    "duration": 17,
    "start_time": "2022-12-02T13:22:50.217Z"
   },
   {
    "duration": 186,
    "start_time": "2022-12-02T13:29:38.567Z"
   },
   {
    "duration": 224,
    "start_time": "2022-12-02T13:30:19.291Z"
   },
   {
    "duration": 188,
    "start_time": "2022-12-02T13:30:47.703Z"
   },
   {
    "duration": 484,
    "start_time": "2022-12-02T13:31:19.179Z"
   },
   {
    "duration": 195,
    "start_time": "2022-12-02T13:31:44.912Z"
   },
   {
    "duration": 49,
    "start_time": "2022-12-02T13:32:00.242Z"
   },
   {
    "duration": 0,
    "start_time": "2022-12-02T13:32:00.293Z"
   },
   {
    "duration": 0,
    "start_time": "2022-12-02T13:32:00.294Z"
   },
   {
    "duration": 0,
    "start_time": "2022-12-02T13:32:00.295Z"
   },
   {
    "duration": 0,
    "start_time": "2022-12-02T13:32:00.296Z"
   },
   {
    "duration": 0,
    "start_time": "2022-12-02T13:32:00.297Z"
   },
   {
    "duration": 0,
    "start_time": "2022-12-02T13:32:00.298Z"
   },
   {
    "duration": 0,
    "start_time": "2022-12-02T13:32:00.299Z"
   },
   {
    "duration": 0,
    "start_time": "2022-12-02T13:32:00.300Z"
   },
   {
    "duration": 0,
    "start_time": "2022-12-02T13:32:00.301Z"
   },
   {
    "duration": 1,
    "start_time": "2022-12-02T13:32:00.302Z"
   },
   {
    "duration": 0,
    "start_time": "2022-12-02T13:32:00.303Z"
   },
   {
    "duration": 0,
    "start_time": "2022-12-02T13:32:00.304Z"
   },
   {
    "duration": 0,
    "start_time": "2022-12-02T13:32:00.305Z"
   },
   {
    "duration": 0,
    "start_time": "2022-12-02T13:32:00.306Z"
   },
   {
    "duration": 0,
    "start_time": "2022-12-02T13:32:00.307Z"
   },
   {
    "duration": 0,
    "start_time": "2022-12-02T13:32:00.308Z"
   },
   {
    "duration": 0,
    "start_time": "2022-12-02T13:32:00.309Z"
   },
   {
    "duration": 0,
    "start_time": "2022-12-02T13:32:00.310Z"
   },
   {
    "duration": 7,
    "start_time": "2022-12-02T13:32:00.355Z"
   },
   {
    "duration": 0,
    "start_time": "2022-12-02T13:32:00.363Z"
   },
   {
    "duration": 0,
    "start_time": "2022-12-02T13:32:00.364Z"
   },
   {
    "duration": 0,
    "start_time": "2022-12-02T13:32:00.365Z"
   },
   {
    "duration": 0,
    "start_time": "2022-12-02T13:32:00.367Z"
   },
   {
    "duration": 0,
    "start_time": "2022-12-02T13:32:00.368Z"
   },
   {
    "duration": 0,
    "start_time": "2022-12-02T13:32:00.369Z"
   },
   {
    "duration": 0,
    "start_time": "2022-12-02T13:32:00.370Z"
   },
   {
    "duration": 0,
    "start_time": "2022-12-02T13:32:00.371Z"
   },
   {
    "duration": 0,
    "start_time": "2022-12-02T13:32:00.372Z"
   },
   {
    "duration": 0,
    "start_time": "2022-12-02T13:32:00.373Z"
   },
   {
    "duration": 0,
    "start_time": "2022-12-02T13:32:00.374Z"
   },
   {
    "duration": 8,
    "start_time": "2022-12-02T13:32:19.149Z"
   },
   {
    "duration": 7,
    "start_time": "2022-12-02T13:32:30.103Z"
   },
   {
    "duration": 0,
    "start_time": "2022-12-02T13:32:30.111Z"
   },
   {
    "duration": 0,
    "start_time": "2022-12-02T13:32:30.112Z"
   },
   {
    "duration": 0,
    "start_time": "2022-12-02T13:32:30.113Z"
   },
   {
    "duration": 19,
    "start_time": "2022-12-02T13:32:30.115Z"
   },
   {
    "duration": 0,
    "start_time": "2022-12-02T13:32:30.136Z"
   },
   {
    "duration": 0,
    "start_time": "2022-12-02T13:32:30.137Z"
   },
   {
    "duration": 0,
    "start_time": "2022-12-02T13:32:30.138Z"
   },
   {
    "duration": 0,
    "start_time": "2022-12-02T13:32:30.140Z"
   },
   {
    "duration": 0,
    "start_time": "2022-12-02T13:32:30.141Z"
   },
   {
    "duration": 8,
    "start_time": "2022-12-02T13:32:36.797Z"
   },
   {
    "duration": 9,
    "start_time": "2022-12-02T13:33:21.203Z"
   },
   {
    "duration": 7,
    "start_time": "2022-12-02T13:33:35.142Z"
   },
   {
    "duration": 0,
    "start_time": "2022-12-02T13:33:35.150Z"
   },
   {
    "duration": 0,
    "start_time": "2022-12-02T13:33:35.151Z"
   },
   {
    "duration": 0,
    "start_time": "2022-12-02T13:33:35.153Z"
   },
   {
    "duration": 0,
    "start_time": "2022-12-02T13:33:35.154Z"
   },
   {
    "duration": 0,
    "start_time": "2022-12-02T13:33:35.155Z"
   },
   {
    "duration": 6,
    "start_time": "2022-12-02T13:33:35.157Z"
   },
   {
    "duration": 0,
    "start_time": "2022-12-02T13:33:35.164Z"
   },
   {
    "duration": 0,
    "start_time": "2022-12-02T13:33:35.165Z"
   },
   {
    "duration": 0,
    "start_time": "2022-12-02T13:33:35.167Z"
   },
   {
    "duration": 0,
    "start_time": "2022-12-02T13:33:35.168Z"
   },
   {
    "duration": 0,
    "start_time": "2022-12-02T13:33:35.169Z"
   },
   {
    "duration": 0,
    "start_time": "2022-12-02T13:33:35.170Z"
   },
   {
    "duration": 11,
    "start_time": "2022-12-02T13:33:35.173Z"
   },
   {
    "duration": 0,
    "start_time": "2022-12-02T13:33:35.186Z"
   },
   {
    "duration": 0,
    "start_time": "2022-12-02T13:33:35.187Z"
   },
   {
    "duration": 0,
    "start_time": "2022-12-02T13:33:35.189Z"
   },
   {
    "duration": 0,
    "start_time": "2022-12-02T13:33:35.190Z"
   },
   {
    "duration": 0,
    "start_time": "2022-12-02T13:33:35.190Z"
   },
   {
    "duration": 0,
    "start_time": "2022-12-02T13:33:35.191Z"
   },
   {
    "duration": 0,
    "start_time": "2022-12-02T13:33:35.192Z"
   },
   {
    "duration": 0,
    "start_time": "2022-12-02T13:33:35.193Z"
   },
   {
    "duration": 0,
    "start_time": "2022-12-02T13:33:35.194Z"
   },
   {
    "duration": 0,
    "start_time": "2022-12-02T13:33:35.195Z"
   },
   {
    "duration": 0,
    "start_time": "2022-12-02T13:33:35.195Z"
   },
   {
    "duration": 0,
    "start_time": "2022-12-02T13:33:35.197Z"
   },
   {
    "duration": 0,
    "start_time": "2022-12-02T13:33:35.198Z"
   },
   {
    "duration": 0,
    "start_time": "2022-12-02T13:33:35.198Z"
   },
   {
    "duration": 0,
    "start_time": "2022-12-02T13:33:35.199Z"
   },
   {
    "duration": 0,
    "start_time": "2022-12-02T13:33:35.199Z"
   },
   {
    "duration": 0,
    "start_time": "2022-12-02T13:33:35.200Z"
   },
   {
    "duration": 392,
    "start_time": "2022-12-02T13:34:07.982Z"
   },
   {
    "duration": 99,
    "start_time": "2022-12-02T13:34:08.376Z"
   },
   {
    "duration": 15,
    "start_time": "2022-12-02T13:34:08.477Z"
   },
   {
    "duration": 53,
    "start_time": "2022-12-02T13:34:08.494Z"
   },
   {
    "duration": 2353,
    "start_time": "2022-12-02T13:34:08.549Z"
   },
   {
    "duration": 11,
    "start_time": "2022-12-02T13:34:10.904Z"
   },
   {
    "duration": 24,
    "start_time": "2022-12-02T13:34:10.916Z"
   },
   {
    "duration": 30,
    "start_time": "2022-12-02T13:34:10.941Z"
   },
   {
    "duration": 258,
    "start_time": "2022-12-02T13:34:10.973Z"
   },
   {
    "duration": 29,
    "start_time": "2022-12-02T13:34:11.234Z"
   },
   {
    "duration": 2073,
    "start_time": "2022-12-02T13:34:11.265Z"
   },
   {
    "duration": 44,
    "start_time": "2022-12-02T13:34:13.340Z"
   },
   {
    "duration": 155,
    "start_time": "2022-12-02T13:34:13.385Z"
   },
   {
    "duration": 21,
    "start_time": "2022-12-02T13:34:13.542Z"
   },
   {
    "duration": 15,
    "start_time": "2022-12-02T13:34:13.565Z"
   },
   {
    "duration": 339,
    "start_time": "2022-12-02T13:34:13.582Z"
   },
   {
    "duration": 421,
    "start_time": "2022-12-02T13:34:13.922Z"
   },
   {
    "duration": 163,
    "start_time": "2022-12-02T13:34:14.344Z"
   },
   {
    "duration": 54,
    "start_time": "2022-12-02T13:34:14.509Z"
   },
   {
    "duration": 122,
    "start_time": "2022-12-02T13:34:14.565Z"
   },
   {
    "duration": 23,
    "start_time": "2022-12-02T13:34:14.689Z"
   },
   {
    "duration": 44,
    "start_time": "2022-12-02T13:34:14.714Z"
   },
   {
    "duration": 206,
    "start_time": "2022-12-02T13:34:14.761Z"
   },
   {
    "duration": 21,
    "start_time": "2022-12-02T13:34:14.969Z"
   },
   {
    "duration": 14,
    "start_time": "2022-12-02T13:34:14.991Z"
   },
   {
    "duration": 59,
    "start_time": "2022-12-02T13:34:15.006Z"
   },
   {
    "duration": 219,
    "start_time": "2022-12-02T13:34:15.067Z"
   },
   {
    "duration": 15,
    "start_time": "2022-12-02T13:34:15.289Z"
   },
   {
    "duration": 2785,
    "start_time": "2022-12-02T13:34:15.305Z"
   },
   {
    "duration": 200,
    "start_time": "2022-12-02T13:34:18.092Z"
   },
   {
    "duration": 162,
    "start_time": "2022-12-02T13:34:18.294Z"
   },
   {
    "duration": 175,
    "start_time": "2022-12-02T13:35:36.028Z"
   },
   {
    "duration": 169,
    "start_time": "2022-12-02T13:36:32.051Z"
   },
   {
    "duration": 172,
    "start_time": "2022-12-02T13:36:44.421Z"
   },
   {
    "duration": 179,
    "start_time": "2022-12-02T13:36:57.533Z"
   },
   {
    "duration": 155,
    "start_time": "2022-12-02T13:37:09.709Z"
   },
   {
    "duration": 4,
    "start_time": "2022-12-02T13:37:32.915Z"
   },
   {
    "duration": 110,
    "start_time": "2022-12-02T13:37:32.920Z"
   },
   {
    "duration": 14,
    "start_time": "2022-12-02T13:37:33.032Z"
   },
   {
    "duration": 32,
    "start_time": "2022-12-02T13:37:33.056Z"
   },
   {
    "duration": 2099,
    "start_time": "2022-12-02T13:37:33.090Z"
   },
   {
    "duration": 10,
    "start_time": "2022-12-02T13:37:35.190Z"
   },
   {
    "duration": 7,
    "start_time": "2022-12-02T13:37:35.201Z"
   },
   {
    "duration": 9,
    "start_time": "2022-12-02T13:37:35.210Z"
   },
   {
    "duration": 257,
    "start_time": "2022-12-02T13:37:35.221Z"
   },
   {
    "duration": 17,
    "start_time": "2022-12-02T13:37:35.481Z"
   },
   {
    "duration": 165,
    "start_time": "2022-12-02T13:37:35.500Z"
   },
   {
    "duration": 45,
    "start_time": "2022-12-02T13:37:35.666Z"
   },
   {
    "duration": 169,
    "start_time": "2022-12-02T13:37:35.713Z"
   },
   {
    "duration": 14,
    "start_time": "2022-12-02T13:37:35.884Z"
   },
   {
    "duration": 14,
    "start_time": "2022-12-02T13:37:35.899Z"
   },
   {
    "duration": 367,
    "start_time": "2022-12-02T13:37:35.915Z"
   },
   {
    "duration": 537,
    "start_time": "2022-12-02T13:37:36.285Z"
   },
   {
    "duration": 324,
    "start_time": "2022-12-02T13:37:36.824Z"
   },
   {
    "duration": 32,
    "start_time": "2022-12-02T13:37:37.150Z"
   },
   {
    "duration": 20,
    "start_time": "2022-12-02T13:37:37.184Z"
   },
   {
    "duration": 51,
    "start_time": "2022-12-02T13:37:37.206Z"
   },
   {
    "duration": 10,
    "start_time": "2022-12-02T13:37:37.259Z"
   },
   {
    "duration": 263,
    "start_time": "2022-12-02T13:37:37.271Z"
   },
   {
    "duration": 52,
    "start_time": "2022-12-02T13:37:37.537Z"
   },
   {
    "duration": 14,
    "start_time": "2022-12-02T13:37:37.591Z"
   },
   {
    "duration": 48,
    "start_time": "2022-12-02T13:37:37.607Z"
   },
   {
    "duration": 279,
    "start_time": "2022-12-02T13:37:37.657Z"
   },
   {
    "duration": 21,
    "start_time": "2022-12-02T13:37:37.940Z"
   },
   {
    "duration": 3660,
    "start_time": "2022-12-02T13:37:37.963Z"
   },
   {
    "duration": 179,
    "start_time": "2022-12-02T13:37:41.625Z"
   },
   {
    "duration": 29,
    "start_time": "2022-12-02T13:37:41.806Z"
   },
   {
    "duration": 63,
    "start_time": "2022-12-02T13:38:41.765Z"
   },
   {
    "duration": 58,
    "start_time": "2022-12-02T13:39:02.608Z"
   },
   {
    "duration": 157,
    "start_time": "2022-12-02T13:39:21.606Z"
   },
   {
    "duration": 163,
    "start_time": "2022-12-02T13:39:46.633Z"
   },
   {
    "duration": 151,
    "start_time": "2022-12-02T13:40:43.337Z"
   },
   {
    "duration": 143,
    "start_time": "2022-12-02T13:40:49.930Z"
   },
   {
    "duration": 155,
    "start_time": "2022-12-02T13:40:57.963Z"
   },
   {
    "duration": 166,
    "start_time": "2022-12-02T13:41:11.549Z"
   },
   {
    "duration": 164,
    "start_time": "2022-12-02T13:41:27.672Z"
   },
   {
    "duration": 172,
    "start_time": "2022-12-02T13:41:55.459Z"
   },
   {
    "duration": 155,
    "start_time": "2022-12-02T13:41:59.224Z"
   },
   {
    "duration": 169,
    "start_time": "2022-12-02T13:42:03.501Z"
   },
   {
    "duration": 157,
    "start_time": "2022-12-02T13:42:18.638Z"
   },
   {
    "duration": 155,
    "start_time": "2022-12-02T13:42:25.090Z"
   },
   {
    "duration": 186,
    "start_time": "2022-12-02T13:43:47.398Z"
   },
   {
    "duration": 215,
    "start_time": "2022-12-02T13:44:17.624Z"
   },
   {
    "duration": 204,
    "start_time": "2022-12-02T13:45:27.585Z"
   },
   {
    "duration": 171,
    "start_time": "2022-12-02T13:46:33.191Z"
   },
   {
    "duration": 200,
    "start_time": "2022-12-02T13:47:43.425Z"
   },
   {
    "duration": 412,
    "start_time": "2022-12-02T13:50:56.786Z"
   },
   {
    "duration": 3,
    "start_time": "2022-12-02T13:51:15.221Z"
   },
   {
    "duration": 131,
    "start_time": "2022-12-02T13:51:15.227Z"
   },
   {
    "duration": 16,
    "start_time": "2022-12-02T13:51:15.359Z"
   },
   {
    "duration": 35,
    "start_time": "2022-12-02T13:51:15.378Z"
   },
   {
    "duration": 1975,
    "start_time": "2022-12-02T13:51:15.415Z"
   },
   {
    "duration": 10,
    "start_time": "2022-12-02T13:51:17.391Z"
   },
   {
    "duration": 8,
    "start_time": "2022-12-02T13:51:17.403Z"
   },
   {
    "duration": 12,
    "start_time": "2022-12-02T13:51:17.412Z"
   },
   {
    "duration": 275,
    "start_time": "2022-12-02T13:51:17.427Z"
   },
   {
    "duration": 19,
    "start_time": "2022-12-02T13:51:17.704Z"
   },
   {
    "duration": 217,
    "start_time": "2022-12-02T13:51:17.725Z"
   },
   {
    "duration": 52,
    "start_time": "2022-12-02T13:51:17.944Z"
   },
   {
    "duration": 159,
    "start_time": "2022-12-02T13:51:17.998Z"
   },
   {
    "duration": 16,
    "start_time": "2022-12-02T13:51:18.159Z"
   },
   {
    "duration": 21,
    "start_time": "2022-12-02T13:51:18.177Z"
   },
   {
    "duration": 389,
    "start_time": "2022-12-02T13:51:18.199Z"
   },
   {
    "duration": 570,
    "start_time": "2022-12-02T13:51:18.590Z"
   },
   {
    "duration": 169,
    "start_time": "2022-12-02T13:51:19.162Z"
   },
   {
    "duration": 35,
    "start_time": "2022-12-02T13:51:19.333Z"
   },
   {
    "duration": 26,
    "start_time": "2022-12-02T13:51:19.369Z"
   },
   {
    "duration": 21,
    "start_time": "2022-12-02T13:51:19.397Z"
   },
   {
    "duration": 45,
    "start_time": "2022-12-02T13:51:19.419Z"
   },
   {
    "duration": 285,
    "start_time": "2022-12-02T13:51:19.466Z"
   },
   {
    "duration": 45,
    "start_time": "2022-12-02T13:51:19.755Z"
   },
   {
    "duration": 15,
    "start_time": "2022-12-02T13:51:19.803Z"
   },
   {
    "duration": 55,
    "start_time": "2022-12-02T13:51:19.820Z"
   },
   {
    "duration": 486,
    "start_time": "2022-12-02T13:51:19.877Z"
   },
   {
    "duration": 15,
    "start_time": "2022-12-02T13:51:20.365Z"
   },
   {
    "duration": 2662,
    "start_time": "2022-12-02T13:51:20.382Z"
   },
   {
    "duration": 167,
    "start_time": "2022-12-02T13:51:23.046Z"
   },
   {
    "duration": 25,
    "start_time": "2022-12-02T13:51:23.214Z"
   },
   {
    "duration": 180,
    "start_time": "2022-12-02T13:52:59.429Z"
   },
   {
    "duration": 199,
    "start_time": "2022-12-02T13:55:18.180Z"
   },
   {
    "duration": 63,
    "start_time": "2022-12-02T13:55:30.605Z"
   },
   {
    "duration": 193,
    "start_time": "2022-12-02T13:55:41.245Z"
   },
   {
    "duration": 193,
    "start_time": "2022-12-02T13:56:05.026Z"
   },
   {
    "duration": 188,
    "start_time": "2022-12-02T13:56:22.221Z"
   },
   {
    "duration": 42,
    "start_time": "2022-12-02T13:57:00.659Z"
   },
   {
    "duration": 26,
    "start_time": "2022-12-02T13:57:52.863Z"
   },
   {
    "duration": 34,
    "start_time": "2022-12-02T13:58:21.733Z"
   },
   {
    "duration": 8,
    "start_time": "2022-12-02T14:02:29.642Z"
   },
   {
    "duration": 54,
    "start_time": "2022-12-02T14:06:04.783Z"
   },
   {
    "duration": 45,
    "start_time": "2022-12-02T14:06:10.159Z"
   },
   {
    "duration": 4,
    "start_time": "2022-12-02T14:06:19.583Z"
   },
   {
    "duration": 106,
    "start_time": "2022-12-02T14:06:19.589Z"
   },
   {
    "duration": 15,
    "start_time": "2022-12-02T14:06:19.697Z"
   },
   {
    "duration": 50,
    "start_time": "2022-12-02T14:06:19.715Z"
   },
   {
    "duration": 2251,
    "start_time": "2022-12-02T14:06:19.767Z"
   },
   {
    "duration": 11,
    "start_time": "2022-12-02T14:06:22.019Z"
   },
   {
    "duration": 27,
    "start_time": "2022-12-02T14:06:22.031Z"
   },
   {
    "duration": 14,
    "start_time": "2022-12-02T14:06:22.060Z"
   },
   {
    "duration": 82,
    "start_time": "2022-12-02T14:06:22.077Z"
   },
   {
    "duration": 19,
    "start_time": "2022-12-02T14:06:22.160Z"
   },
   {
    "duration": 39,
    "start_time": "2022-12-02T14:06:22.180Z"
   },
   {
    "duration": 69,
    "start_time": "2022-12-02T14:06:22.221Z"
   },
   {
    "duration": 153,
    "start_time": "2022-12-02T14:06:22.291Z"
   },
   {
    "duration": 20,
    "start_time": "2022-12-02T14:06:22.446Z"
   },
   {
    "duration": 15,
    "start_time": "2022-12-02T14:06:22.467Z"
   },
   {
    "duration": 388,
    "start_time": "2022-12-02T14:06:22.484Z"
   },
   {
    "duration": 547,
    "start_time": "2022-12-02T14:06:22.874Z"
   },
   {
    "duration": 154,
    "start_time": "2022-12-02T14:06:23.423Z"
   },
   {
    "duration": 27,
    "start_time": "2022-12-02T14:06:23.579Z"
   },
   {
    "duration": 47,
    "start_time": "2022-12-02T14:06:23.608Z"
   },
   {
    "duration": 20,
    "start_time": "2022-12-02T14:06:23.657Z"
   },
   {
    "duration": 24,
    "start_time": "2022-12-02T14:06:23.679Z"
   },
   {
    "duration": 272,
    "start_time": "2022-12-02T14:06:23.705Z"
   },
   {
    "duration": 41,
    "start_time": "2022-12-02T14:06:23.980Z"
   },
   {
    "duration": 32,
    "start_time": "2022-12-02T14:06:24.023Z"
   },
   {
    "duration": 31,
    "start_time": "2022-12-02T14:06:24.057Z"
   },
   {
    "duration": 283,
    "start_time": "2022-12-02T14:06:24.090Z"
   },
   {
    "duration": 15,
    "start_time": "2022-12-02T14:06:24.375Z"
   },
   {
    "duration": 3004,
    "start_time": "2022-12-02T14:06:24.391Z"
   },
   {
    "duration": 185,
    "start_time": "2022-12-02T14:06:27.397Z"
   },
   {
    "duration": 25,
    "start_time": "2022-12-02T14:06:27.584Z"
   },
   {
    "duration": 68,
    "start_time": "2022-12-02T14:07:24.341Z"
   },
   {
    "duration": 40,
    "start_time": "2022-12-02T14:08:06.144Z"
   },
   {
    "duration": 4,
    "start_time": "2022-12-02T14:08:22.014Z"
   },
   {
    "duration": 103,
    "start_time": "2022-12-02T14:08:22.020Z"
   },
   {
    "duration": 15,
    "start_time": "2022-12-02T14:08:22.125Z"
   },
   {
    "duration": 35,
    "start_time": "2022-12-02T14:08:22.156Z"
   },
   {
    "duration": 1987,
    "start_time": "2022-12-02T14:08:22.193Z"
   },
   {
    "duration": 9,
    "start_time": "2022-12-02T14:08:24.182Z"
   },
   {
    "duration": 12,
    "start_time": "2022-12-02T14:08:24.193Z"
   },
   {
    "duration": 17,
    "start_time": "2022-12-02T14:08:24.207Z"
   },
   {
    "duration": 89,
    "start_time": "2022-12-02T14:08:24.227Z"
   },
   {
    "duration": 39,
    "start_time": "2022-12-02T14:08:24.318Z"
   },
   {
    "duration": 43,
    "start_time": "2022-12-02T14:08:24.359Z"
   },
   {
    "duration": 79,
    "start_time": "2022-12-02T14:08:24.404Z"
   },
   {
    "duration": 162,
    "start_time": "2022-12-02T14:08:24.485Z"
   },
   {
    "duration": 17,
    "start_time": "2022-12-02T14:08:24.648Z"
   },
   {
    "duration": 15,
    "start_time": "2022-12-02T14:08:24.667Z"
   },
   {
    "duration": 450,
    "start_time": "2022-12-02T14:08:24.683Z"
   },
   {
    "duration": 550,
    "start_time": "2022-12-02T14:08:25.134Z"
   },
   {
    "duration": 161,
    "start_time": "2022-12-02T14:08:25.686Z"
   },
   {
    "duration": 34,
    "start_time": "2022-12-02T14:08:25.848Z"
   },
   {
    "duration": 22,
    "start_time": "2022-12-02T14:08:25.884Z"
   },
   {
    "duration": 47,
    "start_time": "2022-12-02T14:08:25.908Z"
   },
   {
    "duration": 12,
    "start_time": "2022-12-02T14:08:25.957Z"
   },
   {
    "duration": 269,
    "start_time": "2022-12-02T14:08:25.971Z"
   },
   {
    "duration": 48,
    "start_time": "2022-12-02T14:08:26.243Z"
   },
   {
    "duration": 15,
    "start_time": "2022-12-02T14:08:26.293Z"
   },
   {
    "duration": 61,
    "start_time": "2022-12-02T14:08:26.309Z"
   },
   {
    "duration": 721,
    "start_time": "2022-12-02T14:08:26.373Z"
   },
   {
    "duration": 73,
    "start_time": "2022-12-02T14:08:27.095Z"
   },
   {
    "duration": 4498,
    "start_time": "2022-12-02T14:08:27.170Z"
   },
   {
    "duration": 174,
    "start_time": "2022-12-02T14:08:31.670Z"
   },
   {
    "duration": 32,
    "start_time": "2022-12-02T14:08:31.847Z"
   },
   {
    "duration": 41,
    "start_time": "2022-12-02T14:08:34.180Z"
   },
   {
    "duration": 3,
    "start_time": "2022-12-02T14:08:53.952Z"
   },
   {
    "duration": 98,
    "start_time": "2022-12-02T14:08:53.956Z"
   },
   {
    "duration": 14,
    "start_time": "2022-12-02T14:08:54.056Z"
   },
   {
    "duration": 34,
    "start_time": "2022-12-02T14:08:54.072Z"
   },
   {
    "duration": 2040,
    "start_time": "2022-12-02T14:08:54.108Z"
   },
   {
    "duration": 13,
    "start_time": "2022-12-02T14:08:56.155Z"
   },
   {
    "duration": 33,
    "start_time": "2022-12-02T14:08:56.170Z"
   },
   {
    "duration": 38,
    "start_time": "2022-12-02T14:08:56.204Z"
   },
   {
    "duration": 75,
    "start_time": "2022-12-02T14:08:56.244Z"
   },
   {
    "duration": 35,
    "start_time": "2022-12-02T14:08:56.321Z"
   },
   {
    "duration": 40,
    "start_time": "2022-12-02T14:09:01.228Z"
   },
   {
    "duration": 409,
    "start_time": "2022-12-02T14:09:13.198Z"
   },
   {
    "duration": 106,
    "start_time": "2022-12-02T14:09:13.609Z"
   },
   {
    "duration": 18,
    "start_time": "2022-12-02T14:09:13.717Z"
   },
   {
    "duration": 64,
    "start_time": "2022-12-02T14:09:13.737Z"
   },
   {
    "duration": 3451,
    "start_time": "2022-12-02T14:09:13.803Z"
   },
   {
    "duration": 10,
    "start_time": "2022-12-02T14:09:17.256Z"
   },
   {
    "duration": 35,
    "start_time": "2022-12-02T14:09:17.268Z"
   },
   {
    "duration": 31,
    "start_time": "2022-12-02T14:09:17.304Z"
   },
   {
    "duration": 70,
    "start_time": "2022-12-02T14:09:17.337Z"
   },
   {
    "duration": 19,
    "start_time": "2022-12-02T14:09:17.410Z"
   },
   {
    "duration": 60,
    "start_time": "2022-12-02T14:09:17.430Z"
   },
   {
    "duration": 65,
    "start_time": "2022-12-02T14:09:17.492Z"
   },
   {
    "duration": 164,
    "start_time": "2022-12-02T14:09:17.559Z"
   },
   {
    "duration": 18,
    "start_time": "2022-12-02T14:09:17.725Z"
   },
   {
    "duration": 25,
    "start_time": "2022-12-02T14:09:17.755Z"
   },
   {
    "duration": 354,
    "start_time": "2022-12-02T14:09:17.782Z"
   },
   {
    "duration": 530,
    "start_time": "2022-12-02T14:09:18.137Z"
   },
   {
    "duration": 155,
    "start_time": "2022-12-02T14:09:18.670Z"
   },
   {
    "duration": 45,
    "start_time": "2022-12-02T14:09:18.828Z"
   },
   {
    "duration": 23,
    "start_time": "2022-12-02T14:09:18.875Z"
   },
   {
    "duration": 18,
    "start_time": "2022-12-02T14:09:18.900Z"
   },
   {
    "duration": 52,
    "start_time": "2022-12-02T14:09:18.920Z"
   },
   {
    "duration": 288,
    "start_time": "2022-12-02T14:09:18.973Z"
   },
   {
    "duration": 43,
    "start_time": "2022-12-02T14:09:19.263Z"
   },
   {
    "duration": 15,
    "start_time": "2022-12-02T14:09:19.308Z"
   },
   {
    "duration": 57,
    "start_time": "2022-12-02T14:09:19.325Z"
   },
   {
    "duration": 372,
    "start_time": "2022-12-02T14:09:19.383Z"
   },
   {
    "duration": 16,
    "start_time": "2022-12-02T14:09:19.758Z"
   },
   {
    "duration": 2849,
    "start_time": "2022-12-02T14:09:19.776Z"
   },
   {
    "duration": 176,
    "start_time": "2022-12-02T14:09:22.627Z"
   },
   {
    "duration": 103,
    "start_time": "2022-12-02T14:09:22.805Z"
   },
   {
    "duration": 72,
    "start_time": "2022-12-02T14:09:25.923Z"
   },
   {
    "duration": 426,
    "start_time": "2022-12-02T14:10:51.412Z"
   },
   {
    "duration": 104,
    "start_time": "2022-12-02T14:10:51.840Z"
   },
   {
    "duration": 17,
    "start_time": "2022-12-02T14:10:51.945Z"
   },
   {
    "duration": 45,
    "start_time": "2022-12-02T14:10:51.964Z"
   },
   {
    "duration": 2368,
    "start_time": "2022-12-02T14:10:52.010Z"
   },
   {
    "duration": 10,
    "start_time": "2022-12-02T14:10:54.380Z"
   },
   {
    "duration": 12,
    "start_time": "2022-12-02T14:10:54.392Z"
   },
   {
    "duration": 14,
    "start_time": "2022-12-02T14:10:54.406Z"
   },
   {
    "duration": 101,
    "start_time": "2022-12-02T14:10:54.422Z"
   },
   {
    "duration": 38,
    "start_time": "2022-12-02T14:10:54.527Z"
   },
   {
    "duration": 48,
    "start_time": "2022-12-02T14:10:54.567Z"
   },
   {
    "duration": 95,
    "start_time": "2022-12-02T14:10:54.617Z"
   },
   {
    "duration": 164,
    "start_time": "2022-12-02T14:10:54.715Z"
   },
   {
    "duration": 14,
    "start_time": "2022-12-02T14:10:54.881Z"
   },
   {
    "duration": 15,
    "start_time": "2022-12-02T14:10:54.897Z"
   },
   {
    "duration": 379,
    "start_time": "2022-12-02T14:10:54.914Z"
   },
   {
    "duration": 513,
    "start_time": "2022-12-02T14:10:55.294Z"
   },
   {
    "duration": 154,
    "start_time": "2022-12-02T14:10:55.809Z"
   },
   {
    "duration": 28,
    "start_time": "2022-12-02T14:10:55.965Z"
   },
   {
    "duration": 22,
    "start_time": "2022-12-02T14:10:55.995Z"
   },
   {
    "duration": 49,
    "start_time": "2022-12-02T14:10:56.018Z"
   },
   {
    "duration": 11,
    "start_time": "2022-12-02T14:10:56.069Z"
   },
   {
    "duration": 282,
    "start_time": "2022-12-02T14:10:56.082Z"
   },
   {
    "duration": 45,
    "start_time": "2022-12-02T14:10:56.365Z"
   },
   {
    "duration": 14,
    "start_time": "2022-12-02T14:10:56.411Z"
   },
   {
    "duration": 55,
    "start_time": "2022-12-02T14:10:56.427Z"
   },
   {
    "duration": 377,
    "start_time": "2022-12-02T14:10:56.484Z"
   },
   {
    "duration": 15,
    "start_time": "2022-12-02T14:10:56.864Z"
   },
   {
    "duration": 3828,
    "start_time": "2022-12-02T14:10:56.881Z"
   },
   {
    "duration": 178,
    "start_time": "2022-12-02T14:11:00.711Z"
   },
   {
    "duration": 108,
    "start_time": "2022-12-02T14:11:00.891Z"
   },
   {
    "duration": 41,
    "start_time": "2022-12-02T14:11:57.254Z"
   },
   {
    "duration": 83,
    "start_time": "2022-12-02T14:21:53.369Z"
   },
   {
    "duration": 388,
    "start_time": "2022-12-02T14:22:12.318Z"
   },
   {
    "duration": 98,
    "start_time": "2022-12-02T14:22:12.708Z"
   },
   {
    "duration": 16,
    "start_time": "2022-12-02T14:22:12.808Z"
   },
   {
    "duration": 50,
    "start_time": "2022-12-02T14:22:12.827Z"
   },
   {
    "duration": 2319,
    "start_time": "2022-12-02T14:22:12.879Z"
   },
   {
    "duration": 10,
    "start_time": "2022-12-02T14:22:15.200Z"
   },
   {
    "duration": 15,
    "start_time": "2022-12-02T14:22:15.211Z"
   },
   {
    "duration": 13,
    "start_time": "2022-12-02T14:22:15.228Z"
   },
   {
    "duration": 64,
    "start_time": "2022-12-02T14:22:15.242Z"
   },
   {
    "duration": 17,
    "start_time": "2022-12-02T14:22:15.309Z"
   },
   {
    "duration": 56,
    "start_time": "2022-12-02T14:22:15.328Z"
   },
   {
    "duration": 90,
    "start_time": "2022-12-02T14:22:15.386Z"
   },
   {
    "duration": 155,
    "start_time": "2022-12-02T14:22:15.478Z"
   },
   {
    "duration": 20,
    "start_time": "2022-12-02T14:22:15.635Z"
   },
   {
    "duration": 15,
    "start_time": "2022-12-02T14:22:15.656Z"
   },
   {
    "duration": 364,
    "start_time": "2022-12-02T14:22:15.673Z"
   },
   {
    "duration": 534,
    "start_time": "2022-12-02T14:22:16.038Z"
   },
   {
    "duration": 150,
    "start_time": "2022-12-02T14:22:16.574Z"
   },
   {
    "duration": 47,
    "start_time": "2022-12-02T14:22:16.727Z"
   },
   {
    "duration": 24,
    "start_time": "2022-12-02T14:22:16.776Z"
   },
   {
    "duration": 20,
    "start_time": "2022-12-02T14:22:16.802Z"
   },
   {
    "duration": 40,
    "start_time": "2022-12-02T14:22:16.824Z"
   },
   {
    "duration": 254,
    "start_time": "2022-12-02T14:22:16.865Z"
   },
   {
    "duration": 46,
    "start_time": "2022-12-02T14:22:17.121Z"
   },
   {
    "duration": 13,
    "start_time": "2022-12-02T14:22:17.168Z"
   },
   {
    "duration": 32,
    "start_time": "2022-12-02T14:22:17.183Z"
   },
   {
    "duration": 360,
    "start_time": "2022-12-02T14:22:17.216Z"
   },
   {
    "duration": 16,
    "start_time": "2022-12-02T14:22:17.581Z"
   },
   {
    "duration": 2699,
    "start_time": "2022-12-02T14:22:17.599Z"
   },
   {
    "duration": 199,
    "start_time": "2022-12-02T14:22:20.300Z"
   },
   {
    "duration": 97,
    "start_time": "2022-12-02T14:22:20.501Z"
   },
   {
    "duration": 84,
    "start_time": "2022-12-02T14:22:37.476Z"
   },
   {
    "duration": 42,
    "start_time": "2022-12-02T14:22:47.237Z"
   },
   {
    "duration": 4,
    "start_time": "2022-12-02T14:23:41.467Z"
   },
   {
    "duration": 105,
    "start_time": "2022-12-02T14:23:41.472Z"
   },
   {
    "duration": 16,
    "start_time": "2022-12-02T14:23:41.579Z"
   },
   {
    "duration": 53,
    "start_time": "2022-12-02T14:23:41.596Z"
   },
   {
    "duration": 2035,
    "start_time": "2022-12-02T14:23:41.652Z"
   },
   {
    "duration": 12,
    "start_time": "2022-12-02T14:23:43.690Z"
   },
   {
    "duration": 43,
    "start_time": "2022-12-02T14:23:43.703Z"
   },
   {
    "duration": 20,
    "start_time": "2022-12-02T14:23:43.748Z"
   },
   {
    "duration": 63,
    "start_time": "2022-12-02T14:23:43.769Z"
   },
   {
    "duration": 37,
    "start_time": "2022-12-02T14:23:43.834Z"
   },
   {
    "duration": 42,
    "start_time": "2022-12-02T14:23:43.872Z"
   },
   {
    "duration": 101,
    "start_time": "2022-12-02T14:23:43.916Z"
   },
   {
    "duration": 169,
    "start_time": "2022-12-02T14:23:44.019Z"
   },
   {
    "duration": 14,
    "start_time": "2022-12-02T14:23:44.192Z"
   },
   {
    "duration": 16,
    "start_time": "2022-12-02T14:23:44.208Z"
   },
   {
    "duration": 365,
    "start_time": "2022-12-02T14:23:44.226Z"
   },
   {
    "duration": 580,
    "start_time": "2022-12-02T14:23:44.593Z"
   },
   {
    "duration": 146,
    "start_time": "2022-12-02T14:23:45.174Z"
   },
   {
    "duration": 47,
    "start_time": "2022-12-02T14:23:45.322Z"
   },
   {
    "duration": 29,
    "start_time": "2022-12-02T14:23:45.371Z"
   },
   {
    "duration": 20,
    "start_time": "2022-12-02T14:23:45.402Z"
   },
   {
    "duration": 43,
    "start_time": "2022-12-02T14:23:45.423Z"
   },
   {
    "duration": 255,
    "start_time": "2022-12-02T14:23:45.468Z"
   },
   {
    "duration": 46,
    "start_time": "2022-12-02T14:23:45.725Z"
   },
   {
    "duration": 25,
    "start_time": "2022-12-02T14:23:45.772Z"
   },
   {
    "duration": 44,
    "start_time": "2022-12-02T14:23:45.799Z"
   },
   {
    "duration": 259,
    "start_time": "2022-12-02T14:23:45.845Z"
   },
   {
    "duration": 15,
    "start_time": "2022-12-02T14:23:46.106Z"
   },
   {
    "duration": 2694,
    "start_time": "2022-12-02T14:23:46.123Z"
   },
   {
    "duration": 178,
    "start_time": "2022-12-02T14:23:48.819Z"
   },
   {
    "duration": 30,
    "start_time": "2022-12-02T14:23:48.999Z"
   },
   {
    "duration": 82,
    "start_time": "2022-12-02T14:24:53.761Z"
   },
   {
    "duration": 45,
    "start_time": "2022-12-02T14:26:31.819Z"
   },
   {
    "duration": 77,
    "start_time": "2022-12-02T14:26:36.446Z"
   },
   {
    "duration": 3,
    "start_time": "2022-12-02T14:26:41.602Z"
   },
   {
    "duration": 107,
    "start_time": "2022-12-02T14:26:41.607Z"
   },
   {
    "duration": 15,
    "start_time": "2022-12-02T14:26:41.716Z"
   },
   {
    "duration": 35,
    "start_time": "2022-12-02T14:26:41.733Z"
   },
   {
    "duration": 2317,
    "start_time": "2022-12-02T14:26:41.770Z"
   },
   {
    "duration": 10,
    "start_time": "2022-12-02T14:26:44.089Z"
   },
   {
    "duration": 15,
    "start_time": "2022-12-02T14:26:44.101Z"
   },
   {
    "duration": 19,
    "start_time": "2022-12-02T14:26:44.118Z"
   },
   {
    "duration": 64,
    "start_time": "2022-12-02T14:26:44.156Z"
   },
   {
    "duration": 39,
    "start_time": "2022-12-02T14:26:44.222Z"
   },
   {
    "duration": 41,
    "start_time": "2022-12-02T14:26:44.263Z"
   },
   {
    "duration": 76,
    "start_time": "2022-12-02T14:26:44.306Z"
   },
   {
    "duration": 149,
    "start_time": "2022-12-02T14:26:44.384Z"
   },
   {
    "duration": 24,
    "start_time": "2022-12-02T14:26:44.535Z"
   },
   {
    "duration": 20,
    "start_time": "2022-12-02T14:26:44.562Z"
   },
   {
    "duration": 386,
    "start_time": "2022-12-02T14:26:44.584Z"
   },
   {
    "duration": 429,
    "start_time": "2022-12-02T14:26:44.972Z"
   },
   {
    "duration": 143,
    "start_time": "2022-12-02T14:26:45.403Z"
   },
   {
    "duration": 27,
    "start_time": "2022-12-02T14:26:45.554Z"
   },
   {
    "duration": 22,
    "start_time": "2022-12-02T14:26:45.582Z"
   },
   {
    "duration": 18,
    "start_time": "2022-12-02T14:26:45.605Z"
   },
   {
    "duration": 10,
    "start_time": "2022-12-02T14:26:45.654Z"
   },
   {
    "duration": 207,
    "start_time": "2022-12-02T14:26:45.666Z"
   },
   {
    "duration": 23,
    "start_time": "2022-12-02T14:26:45.876Z"
   },
   {
    "duration": 14,
    "start_time": "2022-12-02T14:26:45.901Z"
   },
   {
    "duration": 52,
    "start_time": "2022-12-02T14:26:45.916Z"
   },
   {
    "duration": 211,
    "start_time": "2022-12-02T14:26:45.970Z"
   },
   {
    "duration": 15,
    "start_time": "2022-12-02T14:26:46.183Z"
   },
   {
    "duration": 3461,
    "start_time": "2022-12-02T14:26:46.200Z"
   },
   {
    "duration": 309,
    "start_time": "2022-12-02T14:26:49.662Z"
   },
   {
    "duration": 26,
    "start_time": "2022-12-02T14:26:49.972Z"
   },
   {
    "duration": 3,
    "start_time": "2022-12-02T14:27:18.077Z"
   },
   {
    "duration": 97,
    "start_time": "2022-12-02T14:27:18.082Z"
   },
   {
    "duration": 15,
    "start_time": "2022-12-02T14:27:18.181Z"
   },
   {
    "duration": 34,
    "start_time": "2022-12-02T14:27:18.199Z"
   },
   {
    "duration": 1909,
    "start_time": "2022-12-02T14:27:18.235Z"
   },
   {
    "duration": 16,
    "start_time": "2022-12-02T14:27:20.147Z"
   },
   {
    "duration": 24,
    "start_time": "2022-12-02T14:27:20.165Z"
   },
   {
    "duration": 41,
    "start_time": "2022-12-02T14:27:20.191Z"
   },
   {
    "duration": 61,
    "start_time": "2022-12-02T14:27:20.234Z"
   },
   {
    "duration": 19,
    "start_time": "2022-12-02T14:27:20.297Z"
   },
   {
    "duration": 66,
    "start_time": "2022-12-02T14:27:20.318Z"
   },
   {
    "duration": 93,
    "start_time": "2022-12-02T14:27:20.386Z"
   },
   {
    "duration": 159,
    "start_time": "2022-12-02T14:27:20.481Z"
   },
   {
    "duration": 25,
    "start_time": "2022-12-02T14:27:20.641Z"
   },
   {
    "duration": 15,
    "start_time": "2022-12-02T14:27:20.667Z"
   },
   {
    "duration": 386,
    "start_time": "2022-12-02T14:27:20.684Z"
   },
   {
    "duration": 605,
    "start_time": "2022-12-02T14:27:21.072Z"
   },
   {
    "duration": 305,
    "start_time": "2022-12-02T14:27:21.678Z"
   },
   {
    "duration": 98,
    "start_time": "2022-12-02T14:27:21.985Z"
   },
   {
    "duration": 88,
    "start_time": "2022-12-02T14:27:22.085Z"
   },
   {
    "duration": 27,
    "start_time": "2022-12-02T14:27:22.175Z"
   },
   {
    "duration": 15,
    "start_time": "2022-12-02T14:27:22.256Z"
   },
   {
    "duration": 510,
    "start_time": "2022-12-02T14:27:22.273Z"
   },
   {
    "duration": 94,
    "start_time": "2022-12-02T14:27:22.786Z"
   },
   {
    "duration": 16,
    "start_time": "2022-12-02T14:27:22.882Z"
   },
   {
    "duration": 36,
    "start_time": "2022-12-02T14:27:22.955Z"
   },
   {
    "duration": 881,
    "start_time": "2022-12-02T14:27:22.993Z"
   },
   {
    "duration": 15,
    "start_time": "2022-12-02T14:27:23.876Z"
   },
   {
    "duration": 2749,
    "start_time": "2022-12-02T14:27:23.893Z"
   },
   {
    "duration": 176,
    "start_time": "2022-12-02T14:27:26.644Z"
   },
   {
    "duration": 23,
    "start_time": "2022-12-02T14:27:26.822Z"
   },
   {
    "duration": 81,
    "start_time": "2022-12-02T14:27:34.901Z"
   },
   {
    "duration": 4,
    "start_time": "2022-12-02T14:29:44.145Z"
   },
   {
    "duration": 98,
    "start_time": "2022-12-02T14:29:44.151Z"
   },
   {
    "duration": 16,
    "start_time": "2022-12-02T14:29:44.251Z"
   },
   {
    "duration": 37,
    "start_time": "2022-12-02T14:29:44.270Z"
   },
   {
    "duration": 2244,
    "start_time": "2022-12-02T14:29:44.309Z"
   },
   {
    "duration": 8,
    "start_time": "2022-12-02T14:29:46.555Z"
   },
   {
    "duration": 11,
    "start_time": "2022-12-02T14:29:46.565Z"
   },
   {
    "duration": 14,
    "start_time": "2022-12-02T14:29:46.578Z"
   },
   {
    "duration": 94,
    "start_time": "2022-12-02T14:29:46.594Z"
   },
   {
    "duration": 17,
    "start_time": "2022-12-02T14:29:46.689Z"
   },
   {
    "duration": 64,
    "start_time": "2022-12-02T14:29:46.708Z"
   },
   {
    "duration": 48,
    "start_time": "2022-12-02T14:29:46.774Z"
   },
   {
    "duration": 172,
    "start_time": "2022-12-02T14:29:46.824Z"
   },
   {
    "duration": 14,
    "start_time": "2022-12-02T14:29:46.997Z"
   },
   {
    "duration": 15,
    "start_time": "2022-12-02T14:29:47.013Z"
   },
   {
    "duration": 362,
    "start_time": "2022-12-02T14:29:47.030Z"
   },
   {
    "duration": 514,
    "start_time": "2022-12-02T14:29:47.393Z"
   },
   {
    "duration": 151,
    "start_time": "2022-12-02T14:29:47.909Z"
   },
   {
    "duration": 29,
    "start_time": "2022-12-02T14:29:48.062Z"
   },
   {
    "duration": 24,
    "start_time": "2022-12-02T14:29:48.093Z"
   },
   {
    "duration": 51,
    "start_time": "2022-12-02T14:29:48.119Z"
   },
   {
    "duration": 9,
    "start_time": "2022-12-02T14:29:48.171Z"
   },
   {
    "duration": 273,
    "start_time": "2022-12-02T14:29:48.182Z"
   },
   {
    "duration": 97,
    "start_time": "2022-12-02T14:29:48.459Z"
   },
   {
    "duration": 14,
    "start_time": "2022-12-02T14:29:48.558Z"
   },
   {
    "duration": 83,
    "start_time": "2022-12-02T14:29:48.573Z"
   },
   {
    "duration": 529,
    "start_time": "2022-12-02T14:29:48.658Z"
   },
   {
    "duration": 72,
    "start_time": "2022-12-02T14:29:49.189Z"
   },
   {
    "duration": 3050,
    "start_time": "2022-12-02T14:29:49.263Z"
   },
   {
    "duration": 181,
    "start_time": "2022-12-02T14:29:52.314Z"
   },
   {
    "duration": 24,
    "start_time": "2022-12-02T14:29:52.496Z"
   },
   {
    "duration": 77,
    "start_time": "2022-12-02T14:30:21.639Z"
   },
   {
    "duration": 380,
    "start_time": "2022-12-02T14:30:30.507Z"
   },
   {
    "duration": 113,
    "start_time": "2022-12-02T14:30:30.889Z"
   },
   {
    "duration": 18,
    "start_time": "2022-12-02T14:30:31.008Z"
   },
   {
    "duration": 58,
    "start_time": "2022-12-02T14:30:31.028Z"
   },
   {
    "duration": 2278,
    "start_time": "2022-12-02T14:30:31.088Z"
   },
   {
    "duration": 11,
    "start_time": "2022-12-02T14:30:33.369Z"
   },
   {
    "duration": 14,
    "start_time": "2022-12-02T14:30:33.381Z"
   },
   {
    "duration": 16,
    "start_time": "2022-12-02T14:30:33.396Z"
   },
   {
    "duration": 93,
    "start_time": "2022-12-02T14:30:33.415Z"
   },
   {
    "duration": 18,
    "start_time": "2022-12-02T14:30:33.510Z"
   },
   {
    "duration": 58,
    "start_time": "2022-12-02T14:30:33.530Z"
   },
   {
    "duration": 77,
    "start_time": "2022-12-02T14:30:33.590Z"
   },
   {
    "duration": 198,
    "start_time": "2022-12-02T14:30:33.669Z"
   },
   {
    "duration": 16,
    "start_time": "2022-12-02T14:30:33.869Z"
   },
   {
    "duration": 31,
    "start_time": "2022-12-02T14:30:33.887Z"
   },
   {
    "duration": 357,
    "start_time": "2022-12-02T14:30:33.920Z"
   },
   {
    "duration": 580,
    "start_time": "2022-12-02T14:30:34.279Z"
   },
   {
    "duration": 161,
    "start_time": "2022-12-02T14:30:34.861Z"
   },
   {
    "duration": 38,
    "start_time": "2022-12-02T14:30:35.024Z"
   },
   {
    "duration": 22,
    "start_time": "2022-12-02T14:30:35.064Z"
   },
   {
    "duration": 17,
    "start_time": "2022-12-02T14:30:35.088Z"
   },
   {
    "duration": 10,
    "start_time": "2022-12-02T14:30:35.107Z"
   },
   {
    "duration": 245,
    "start_time": "2022-12-02T14:30:35.155Z"
   },
   {
    "duration": 39,
    "start_time": "2022-12-02T14:30:35.402Z"
   },
   {
    "duration": 15,
    "start_time": "2022-12-02T14:30:35.454Z"
   },
   {
    "duration": 38,
    "start_time": "2022-12-02T14:30:35.471Z"
   },
   {
    "duration": 367,
    "start_time": "2022-12-02T14:30:35.512Z"
   },
   {
    "duration": 16,
    "start_time": "2022-12-02T14:30:35.881Z"
   },
   {
    "duration": 2655,
    "start_time": "2022-12-02T14:30:35.899Z"
   },
   {
    "duration": 0,
    "start_time": "2022-12-02T14:30:38.836Z"
   },
   {
    "duration": 0,
    "start_time": "2022-12-02T14:30:38.838Z"
   },
   {
    "duration": 0,
    "start_time": "2022-12-02T14:30:38.855Z"
   },
   {
    "duration": 0,
    "start_time": "2022-12-02T14:30:38.856Z"
   },
   {
    "duration": 0,
    "start_time": "2022-12-02T14:30:38.857Z"
   },
   {
    "duration": 0,
    "start_time": "2022-12-02T14:30:38.858Z"
   },
   {
    "duration": 0,
    "start_time": "2022-12-02T14:30:38.859Z"
   },
   {
    "duration": 0,
    "start_time": "2022-12-02T14:30:38.860Z"
   },
   {
    "duration": 0,
    "start_time": "2022-12-02T14:30:38.861Z"
   },
   {
    "duration": 0,
    "start_time": "2022-12-02T14:30:38.862Z"
   },
   {
    "duration": 0,
    "start_time": "2022-12-02T14:30:38.863Z"
   },
   {
    "duration": 0,
    "start_time": "2022-12-02T14:30:38.864Z"
   },
   {
    "duration": 0,
    "start_time": "2022-12-02T14:30:38.864Z"
   },
   {
    "duration": 0,
    "start_time": "2022-12-02T14:30:38.866Z"
   },
   {
    "duration": 0,
    "start_time": "2022-12-02T14:30:38.867Z"
   },
   {
    "duration": 0,
    "start_time": "2022-12-02T14:30:38.868Z"
   },
   {
    "duration": 0,
    "start_time": "2022-12-02T14:30:38.869Z"
   },
   {
    "duration": 0,
    "start_time": "2022-12-02T14:30:38.870Z"
   },
   {
    "duration": 0,
    "start_time": "2022-12-02T14:30:38.871Z"
   },
   {
    "duration": 0,
    "start_time": "2022-12-02T14:30:38.872Z"
   },
   {
    "duration": 0,
    "start_time": "2022-12-02T14:30:38.873Z"
   },
   {
    "duration": 0,
    "start_time": "2022-12-02T14:30:38.874Z"
   },
   {
    "duration": 0,
    "start_time": "2022-12-02T14:30:38.875Z"
   },
   {
    "duration": 0,
    "start_time": "2022-12-02T14:30:38.876Z"
   },
   {
    "duration": 0,
    "start_time": "2022-12-02T14:30:38.877Z"
   },
   {
    "duration": 0,
    "start_time": "2022-12-02T14:30:38.878Z"
   },
   {
    "duration": 0,
    "start_time": "2022-12-02T14:30:38.879Z"
   },
   {
    "duration": 0,
    "start_time": "2022-12-02T14:30:38.880Z"
   },
   {
    "duration": 0,
    "start_time": "2022-12-02T14:30:38.881Z"
   },
   {
    "duration": 0,
    "start_time": "2022-12-02T14:30:38.882Z"
   },
   {
    "duration": 91,
    "start_time": "2022-12-02T14:30:38.885Z"
   },
   {
    "duration": 4,
    "start_time": "2022-12-02T14:30:53.435Z"
   },
   {
    "duration": 105,
    "start_time": "2022-12-02T14:30:53.441Z"
   },
   {
    "duration": 14,
    "start_time": "2022-12-02T14:30:53.548Z"
   },
   {
    "duration": 32,
    "start_time": "2022-12-02T14:30:53.564Z"
   },
   {
    "duration": 2130,
    "start_time": "2022-12-02T14:30:53.598Z"
   },
   {
    "duration": 10,
    "start_time": "2022-12-02T14:30:55.729Z"
   },
   {
    "duration": 27,
    "start_time": "2022-12-02T14:30:55.741Z"
   },
   {
    "duration": 15,
    "start_time": "2022-12-02T14:30:55.770Z"
   },
   {
    "duration": 76,
    "start_time": "2022-12-02T14:30:55.787Z"
   },
   {
    "duration": 18,
    "start_time": "2022-12-02T14:30:55.865Z"
   },
   {
    "duration": 70,
    "start_time": "2022-12-02T14:30:55.885Z"
   },
   {
    "duration": 51,
    "start_time": "2022-12-02T14:30:55.957Z"
   },
   {
    "duration": 162,
    "start_time": "2022-12-02T14:30:56.010Z"
   },
   {
    "duration": 16,
    "start_time": "2022-12-02T14:30:56.174Z"
   },
   {
    "duration": 13,
    "start_time": "2022-12-02T14:30:56.192Z"
   },
   {
    "duration": 410,
    "start_time": "2022-12-02T14:30:56.207Z"
   },
   {
    "duration": 541,
    "start_time": "2022-12-02T14:30:56.619Z"
   },
   {
    "duration": 151,
    "start_time": "2022-12-02T14:30:57.162Z"
   },
   {
    "duration": 41,
    "start_time": "2022-12-02T14:30:57.315Z"
   },
   {
    "duration": 21,
    "start_time": "2022-12-02T14:30:57.358Z"
   },
   {
    "duration": 17,
    "start_time": "2022-12-02T14:30:57.381Z"
   },
   {
    "duration": 9,
    "start_time": "2022-12-02T14:30:57.400Z"
   },
   {
    "duration": 268,
    "start_time": "2022-12-02T14:30:57.411Z"
   },
   {
    "duration": 39,
    "start_time": "2022-12-02T14:30:57.681Z"
   },
   {
    "duration": 13,
    "start_time": "2022-12-02T14:30:57.722Z"
   },
   {
    "duration": 29,
    "start_time": "2022-12-02T14:30:57.756Z"
   },
   {
    "duration": 275,
    "start_time": "2022-12-02T14:30:57.787Z"
   },
   {
    "duration": 15,
    "start_time": "2022-12-02T14:30:58.065Z"
   },
   {
    "duration": 3710,
    "start_time": "2022-12-02T14:30:58.081Z"
   },
   {
    "duration": 165,
    "start_time": "2022-12-02T14:31:01.792Z"
   },
   {
    "duration": 24,
    "start_time": "2022-12-02T14:31:01.960Z"
   },
   {
    "duration": 160,
    "start_time": "2022-12-02T14:32:57.800Z"
   },
   {
    "duration": 163,
    "start_time": "2022-12-02T14:33:39.717Z"
   },
   {
    "duration": 161,
    "start_time": "2022-12-02T14:34:00.882Z"
   },
   {
    "duration": 3,
    "start_time": "2022-12-02T14:34:13.164Z"
   },
   {
    "duration": 94,
    "start_time": "2022-12-02T14:34:13.169Z"
   },
   {
    "duration": 16,
    "start_time": "2022-12-02T14:34:13.265Z"
   },
   {
    "duration": 38,
    "start_time": "2022-12-02T14:34:13.283Z"
   },
   {
    "duration": 2235,
    "start_time": "2022-12-02T14:34:13.323Z"
   },
   {
    "duration": 9,
    "start_time": "2022-12-02T14:34:15.560Z"
   },
   {
    "duration": 17,
    "start_time": "2022-12-02T14:34:15.571Z"
   },
   {
    "duration": 19,
    "start_time": "2022-12-02T14:34:15.589Z"
   },
   {
    "duration": 82,
    "start_time": "2022-12-02T14:34:15.609Z"
   },
   {
    "duration": 19,
    "start_time": "2022-12-02T14:34:15.693Z"
   },
   {
    "duration": 68,
    "start_time": "2022-12-02T14:34:15.714Z"
   },
   {
    "duration": 71,
    "start_time": "2022-12-02T14:34:15.784Z"
   },
   {
    "duration": 187,
    "start_time": "2022-12-02T14:34:15.857Z"
   },
   {
    "duration": 16,
    "start_time": "2022-12-02T14:34:16.054Z"
   },
   {
    "duration": 16,
    "start_time": "2022-12-02T14:34:16.072Z"
   },
   {
    "duration": 383,
    "start_time": "2022-12-02T14:34:16.090Z"
   },
   {
    "duration": 537,
    "start_time": "2022-12-02T14:34:16.474Z"
   },
   {
    "duration": 160,
    "start_time": "2022-12-02T14:34:17.012Z"
   },
   {
    "duration": 32,
    "start_time": "2022-12-02T14:34:17.174Z"
   },
   {
    "duration": 50,
    "start_time": "2022-12-02T14:34:17.208Z"
   },
   {
    "duration": 19,
    "start_time": "2022-12-02T14:34:17.259Z"
   },
   {
    "duration": 13,
    "start_time": "2022-12-02T14:34:17.280Z"
   },
   {
    "duration": 273,
    "start_time": "2022-12-02T14:34:17.295Z"
   },
   {
    "duration": 43,
    "start_time": "2022-12-02T14:34:17.570Z"
   },
   {
    "duration": 15,
    "start_time": "2022-12-02T14:34:17.615Z"
   },
   {
    "duration": 33,
    "start_time": "2022-12-02T14:34:17.654Z"
   },
   {
    "duration": 292,
    "start_time": "2022-12-02T14:34:17.689Z"
   },
   {
    "duration": 15,
    "start_time": "2022-12-02T14:34:17.982Z"
   },
   {
    "duration": 3628,
    "start_time": "2022-12-02T14:34:18.054Z"
   },
   {
    "duration": 168,
    "start_time": "2022-12-02T14:34:21.684Z"
   },
   {
    "duration": 24,
    "start_time": "2022-12-02T14:34:21.855Z"
   },
   {
    "duration": 170,
    "start_time": "2022-12-02T14:34:34.947Z"
   },
   {
    "duration": 4,
    "start_time": "2022-12-02T14:34:51.293Z"
   },
   {
    "duration": 97,
    "start_time": "2022-12-02T14:34:51.299Z"
   },
   {
    "duration": 17,
    "start_time": "2022-12-02T14:34:51.399Z"
   },
   {
    "duration": 50,
    "start_time": "2022-12-02T14:34:51.418Z"
   },
   {
    "duration": 2134,
    "start_time": "2022-12-02T14:34:51.471Z"
   },
   {
    "duration": 10,
    "start_time": "2022-12-02T14:34:53.606Z"
   },
   {
    "duration": 31,
    "start_time": "2022-12-02T14:34:53.617Z"
   },
   {
    "duration": 14,
    "start_time": "2022-12-02T14:34:53.654Z"
   },
   {
    "duration": 91,
    "start_time": "2022-12-02T14:34:53.670Z"
   },
   {
    "duration": 19,
    "start_time": "2022-12-02T14:34:53.763Z"
   },
   {
    "duration": 37,
    "start_time": "2022-12-02T14:34:53.785Z"
   },
   {
    "duration": 81,
    "start_time": "2022-12-02T14:34:53.823Z"
   },
   {
    "duration": 169,
    "start_time": "2022-12-02T14:34:59.111Z"
   },
   {
    "duration": 426,
    "start_time": "2022-12-02T14:35:23.834Z"
   },
   {
    "duration": 100,
    "start_time": "2022-12-02T14:35:24.262Z"
   },
   {
    "duration": 15,
    "start_time": "2022-12-02T14:35:24.363Z"
   },
   {
    "duration": 40,
    "start_time": "2022-12-02T14:35:24.380Z"
   },
   {
    "duration": 2352,
    "start_time": "2022-12-02T14:35:24.422Z"
   },
   {
    "duration": 10,
    "start_time": "2022-12-02T14:35:26.776Z"
   },
   {
    "duration": 13,
    "start_time": "2022-12-02T14:35:26.787Z"
   },
   {
    "duration": 14,
    "start_time": "2022-12-02T14:35:26.801Z"
   },
   {
    "duration": 81,
    "start_time": "2022-12-02T14:35:26.817Z"
   },
   {
    "duration": 20,
    "start_time": "2022-12-02T14:35:26.901Z"
   },
   {
    "duration": 64,
    "start_time": "2022-12-02T14:35:26.923Z"
   },
   {
    "duration": 47,
    "start_time": "2022-12-02T14:35:26.988Z"
   },
   {
    "duration": 198,
    "start_time": "2022-12-02T14:35:27.037Z"
   },
   {
    "duration": 20,
    "start_time": "2022-12-02T14:35:27.237Z"
   },
   {
    "duration": 15,
    "start_time": "2022-12-02T14:35:27.258Z"
   },
   {
    "duration": 360,
    "start_time": "2022-12-02T14:35:27.275Z"
   },
   {
    "duration": 509,
    "start_time": "2022-12-02T14:35:27.637Z"
   },
   {
    "duration": 142,
    "start_time": "2022-12-02T14:35:28.148Z"
   },
   {
    "duration": 27,
    "start_time": "2022-12-02T14:35:28.292Z"
   },
   {
    "duration": 44,
    "start_time": "2022-12-02T14:35:28.320Z"
   },
   {
    "duration": 17,
    "start_time": "2022-12-02T14:35:28.365Z"
   },
   {
    "duration": 14,
    "start_time": "2022-12-02T14:35:28.383Z"
   },
   {
    "duration": 257,
    "start_time": "2022-12-02T14:35:28.398Z"
   },
   {
    "duration": 41,
    "start_time": "2022-12-02T14:35:28.656Z"
   },
   {
    "duration": 13,
    "start_time": "2022-12-02T14:35:28.698Z"
   },
   {
    "duration": 48,
    "start_time": "2022-12-02T14:35:28.713Z"
   },
   {
    "duration": 353,
    "start_time": "2022-12-02T14:35:28.762Z"
   },
   {
    "duration": 15,
    "start_time": "2022-12-02T14:35:29.118Z"
   },
   {
    "duration": 2730,
    "start_time": "2022-12-02T14:35:29.135Z"
   },
   {
    "duration": 174,
    "start_time": "2022-12-02T14:35:31.867Z"
   },
   {
    "duration": 102,
    "start_time": "2022-12-02T14:35:32.043Z"
   },
   {
    "duration": 196,
    "start_time": "2022-12-02T14:35:39.762Z"
   },
   {
    "duration": 147,
    "start_time": "2022-12-02T14:35:57.484Z"
   },
   {
    "duration": 3,
    "start_time": "2022-12-02T14:36:02.638Z"
   },
   {
    "duration": 103,
    "start_time": "2022-12-02T14:36:02.643Z"
   },
   {
    "duration": 14,
    "start_time": "2022-12-02T14:36:02.748Z"
   },
   {
    "duration": 36,
    "start_time": "2022-12-02T14:36:02.764Z"
   },
   {
    "duration": 2408,
    "start_time": "2022-12-02T14:36:02.802Z"
   },
   {
    "duration": 10,
    "start_time": "2022-12-02T14:36:05.211Z"
   },
   {
    "duration": 33,
    "start_time": "2022-12-02T14:36:05.223Z"
   },
   {
    "duration": 13,
    "start_time": "2022-12-02T14:36:05.257Z"
   },
   {
    "duration": 60,
    "start_time": "2022-12-02T14:36:05.272Z"
   },
   {
    "duration": 37,
    "start_time": "2022-12-02T14:36:05.334Z"
   },
   {
    "duration": 55,
    "start_time": "2022-12-02T14:36:05.372Z"
   },
   {
    "duration": 66,
    "start_time": "2022-12-02T14:36:05.429Z"
   },
   {
    "duration": 173,
    "start_time": "2022-12-02T14:36:05.497Z"
   },
   {
    "duration": 14,
    "start_time": "2022-12-02T14:36:05.672Z"
   },
   {
    "duration": 14,
    "start_time": "2022-12-02T14:36:05.688Z"
   },
   {
    "duration": 389,
    "start_time": "2022-12-02T14:36:05.704Z"
   },
   {
    "duration": 523,
    "start_time": "2022-12-02T14:36:06.096Z"
   },
   {
    "duration": 159,
    "start_time": "2022-12-02T14:36:06.621Z"
   },
   {
    "duration": 29,
    "start_time": "2022-12-02T14:36:06.782Z"
   },
   {
    "duration": 48,
    "start_time": "2022-12-02T14:36:06.813Z"
   },
   {
    "duration": 18,
    "start_time": "2022-12-02T14:36:06.864Z"
   },
   {
    "duration": 12,
    "start_time": "2022-12-02T14:36:06.884Z"
   },
   {
    "duration": 287,
    "start_time": "2022-12-02T14:36:06.898Z"
   },
   {
    "duration": 39,
    "start_time": "2022-12-02T14:36:07.188Z"
   },
   {
    "duration": 28,
    "start_time": "2022-12-02T14:36:07.229Z"
   },
   {
    "duration": 31,
    "start_time": "2022-12-02T14:36:07.259Z"
   },
   {
    "duration": 299,
    "start_time": "2022-12-02T14:36:07.291Z"
   },
   {
    "duration": 16,
    "start_time": "2022-12-02T14:36:07.591Z"
   },
   {
    "duration": 2791,
    "start_time": "2022-12-02T14:36:07.608Z"
   },
   {
    "duration": 166,
    "start_time": "2022-12-02T14:36:10.400Z"
   },
   {
    "duration": 25,
    "start_time": "2022-12-02T14:36:10.568Z"
   },
   {
    "duration": 175,
    "start_time": "2022-12-02T14:36:34.138Z"
   },
   {
    "duration": 5,
    "start_time": "2022-12-02T14:36:41.159Z"
   },
   {
    "duration": 101,
    "start_time": "2022-12-02T14:36:41.166Z"
   },
   {
    "duration": 13,
    "start_time": "2022-12-02T14:36:41.269Z"
   },
   {
    "duration": 47,
    "start_time": "2022-12-02T14:36:41.285Z"
   },
   {
    "duration": 2040,
    "start_time": "2022-12-02T14:36:41.334Z"
   },
   {
    "duration": 9,
    "start_time": "2022-12-02T14:36:43.376Z"
   },
   {
    "duration": 29,
    "start_time": "2022-12-02T14:36:43.386Z"
   },
   {
    "duration": 15,
    "start_time": "2022-12-02T14:36:43.417Z"
   },
   {
    "duration": 86,
    "start_time": "2022-12-02T14:36:43.434Z"
   },
   {
    "duration": 19,
    "start_time": "2022-12-02T14:36:43.522Z"
   },
   {
    "duration": 40,
    "start_time": "2022-12-02T14:36:43.555Z"
   },
   {
    "duration": 79,
    "start_time": "2022-12-02T14:36:43.597Z"
   },
   {
    "duration": 200,
    "start_time": "2022-12-02T14:36:43.678Z"
   },
   {
    "duration": 14,
    "start_time": "2022-12-02T14:36:43.880Z"
   },
   {
    "duration": 29,
    "start_time": "2022-12-02T14:36:43.896Z"
   },
   {
    "duration": 349,
    "start_time": "2022-12-02T14:36:43.926Z"
   },
   {
    "duration": 580,
    "start_time": "2022-12-02T14:36:44.277Z"
   },
   {
    "duration": 160,
    "start_time": "2022-12-02T14:36:44.859Z"
   },
   {
    "duration": 43,
    "start_time": "2022-12-02T14:36:45.021Z"
   },
   {
    "duration": 21,
    "start_time": "2022-12-02T14:36:45.066Z"
   },
   {
    "duration": 18,
    "start_time": "2022-12-02T14:36:45.089Z"
   },
   {
    "duration": 11,
    "start_time": "2022-12-02T14:36:45.109Z"
   },
   {
    "duration": 240,
    "start_time": "2022-12-02T14:36:45.157Z"
   },
   {
    "duration": 40,
    "start_time": "2022-12-02T14:36:45.399Z"
   },
   {
    "duration": 26,
    "start_time": "2022-12-02T14:36:45.442Z"
   },
   {
    "duration": 33,
    "start_time": "2022-12-02T14:36:45.470Z"
   },
   {
    "duration": 284,
    "start_time": "2022-12-02T14:36:45.505Z"
   },
   {
    "duration": 16,
    "start_time": "2022-12-02T14:36:45.793Z"
   },
   {
    "duration": 2775,
    "start_time": "2022-12-02T14:36:45.811Z"
   },
   {
    "duration": 178,
    "start_time": "2022-12-02T14:36:48.589Z"
   },
   {
    "duration": 25,
    "start_time": "2022-12-02T14:36:48.769Z"
   },
   {
    "duration": 200,
    "start_time": "2022-12-02T14:39:34.788Z"
   },
   {
    "duration": 163,
    "start_time": "2022-12-02T14:39:50.825Z"
   },
   {
    "duration": 58,
    "start_time": "2022-12-02T14:40:14.060Z"
   },
   {
    "duration": 136,
    "start_time": "2022-12-02T14:40:27.373Z"
   },
   {
    "duration": 15,
    "start_time": "2022-12-02T14:40:39.143Z"
   },
   {
    "duration": 358,
    "start_time": "2022-12-02T14:48:26.682Z"
   },
   {
    "duration": 69,
    "start_time": "2022-12-02T14:49:20.949Z"
   },
   {
    "duration": 258,
    "start_time": "2022-12-02T14:49:26.240Z"
   },
   {
    "duration": 463,
    "start_time": "2022-12-02T14:50:07.725Z"
   },
   {
    "duration": 104,
    "start_time": "2022-12-02T14:50:08.190Z"
   },
   {
    "duration": 16,
    "start_time": "2022-12-02T14:50:08.295Z"
   },
   {
    "duration": 53,
    "start_time": "2022-12-02T14:50:08.312Z"
   },
   {
    "duration": 2727,
    "start_time": "2022-12-02T14:50:08.367Z"
   },
   {
    "duration": 10,
    "start_time": "2022-12-02T14:50:11.096Z"
   },
   {
    "duration": 57,
    "start_time": "2022-12-02T14:50:11.107Z"
   },
   {
    "duration": 16,
    "start_time": "2022-12-02T14:50:11.166Z"
   },
   {
    "duration": 176,
    "start_time": "2022-12-02T14:50:11.184Z"
   },
   {
    "duration": 19,
    "start_time": "2022-12-02T14:50:11.363Z"
   },
   {
    "duration": 95,
    "start_time": "2022-12-02T14:50:11.384Z"
   },
   {
    "duration": 102,
    "start_time": "2022-12-02T14:50:11.481Z"
   },
   {
    "duration": 378,
    "start_time": "2022-12-02T14:50:11.585Z"
   },
   {
    "duration": 15,
    "start_time": "2022-12-02T14:50:11.965Z"
   },
   {
    "duration": 16,
    "start_time": "2022-12-02T14:50:11.982Z"
   },
   {
    "duration": 247,
    "start_time": "2022-12-02T14:50:12.056Z"
   },
   {
    "duration": 518,
    "start_time": "2022-12-02T14:50:12.305Z"
   },
   {
    "duration": 178,
    "start_time": "2022-12-02T14:50:12.825Z"
   },
   {
    "duration": 51,
    "start_time": "2022-12-02T14:50:13.005Z"
   },
   {
    "duration": 28,
    "start_time": "2022-12-02T14:50:13.058Z"
   },
   {
    "duration": 25,
    "start_time": "2022-12-02T14:50:13.088Z"
   },
   {
    "duration": 45,
    "start_time": "2022-12-02T14:50:13.115Z"
   },
   {
    "duration": 293,
    "start_time": "2022-12-02T14:50:13.162Z"
   },
   {
    "duration": 45,
    "start_time": "2022-12-02T14:50:13.457Z"
   },
   {
    "duration": 14,
    "start_time": "2022-12-02T14:50:13.504Z"
   },
   {
    "duration": 52,
    "start_time": "2022-12-02T14:50:13.520Z"
   },
   {
    "duration": 395,
    "start_time": "2022-12-02T14:50:13.574Z"
   },
   {
    "duration": 16,
    "start_time": "2022-12-02T14:50:13.973Z"
   },
   {
    "duration": 2991,
    "start_time": "2022-12-02T14:50:13.991Z"
   },
   {
    "duration": 204,
    "start_time": "2022-12-02T14:50:16.984Z"
   },
   {
    "duration": 112,
    "start_time": "2022-12-02T14:50:17.190Z"
   },
   {
    "duration": 175,
    "start_time": "2022-12-02T14:50:48.277Z"
   },
   {
    "duration": 207,
    "start_time": "2022-12-02T14:51:27.893Z"
   },
   {
    "duration": 4,
    "start_time": "2022-12-02T14:51:38.743Z"
   },
   {
    "duration": 96,
    "start_time": "2022-12-02T14:51:38.749Z"
   },
   {
    "duration": 15,
    "start_time": "2022-12-02T14:51:38.846Z"
   },
   {
    "duration": 34,
    "start_time": "2022-12-02T14:51:38.862Z"
   },
   {
    "duration": 2047,
    "start_time": "2022-12-02T14:51:38.898Z"
   },
   {
    "duration": 20,
    "start_time": "2022-12-02T14:51:40.947Z"
   },
   {
    "duration": 13,
    "start_time": "2022-12-02T14:51:40.969Z"
   },
   {
    "duration": 16,
    "start_time": "2022-12-02T14:51:40.983Z"
   },
   {
    "duration": 87,
    "start_time": "2022-12-02T14:51:41.002Z"
   },
   {
    "duration": 18,
    "start_time": "2022-12-02T14:51:41.091Z"
   },
   {
    "duration": 61,
    "start_time": "2022-12-02T14:51:41.110Z"
   },
   {
    "duration": 51,
    "start_time": "2022-12-02T14:51:41.173Z"
   },
   {
    "duration": 189,
    "start_time": "2022-12-02T14:51:41.225Z"
   },
   {
    "duration": 16,
    "start_time": "2022-12-02T14:51:41.416Z"
   },
   {
    "duration": 28,
    "start_time": "2022-12-02T14:51:41.434Z"
   },
   {
    "duration": 191,
    "start_time": "2022-12-02T14:51:41.464Z"
   },
   {
    "duration": 517,
    "start_time": "2022-12-02T14:51:41.656Z"
   },
   {
    "duration": 159,
    "start_time": "2022-12-02T14:51:42.175Z"
   },
   {
    "duration": 41,
    "start_time": "2022-12-02T14:51:42.335Z"
   },
   {
    "duration": 22,
    "start_time": "2022-12-02T14:51:42.378Z"
   },
   {
    "duration": 18,
    "start_time": "2022-12-02T14:51:42.402Z"
   },
   {
    "duration": 43,
    "start_time": "2022-12-02T14:51:42.422Z"
   },
   {
    "duration": 394,
    "start_time": "2022-12-02T14:51:42.466Z"
   },
   {
    "duration": 98,
    "start_time": "2022-12-02T14:51:42.863Z"
   },
   {
    "duration": 16,
    "start_time": "2022-12-02T14:51:42.962Z"
   },
   {
    "duration": 94,
    "start_time": "2022-12-02T14:51:42.980Z"
   },
   {
    "duration": 584,
    "start_time": "2022-12-02T14:51:43.076Z"
   },
   {
    "duration": 24,
    "start_time": "2022-12-02T14:51:43.662Z"
   },
   {
    "duration": 5886,
    "start_time": "2022-12-02T14:51:43.689Z"
   },
   {
    "duration": 315,
    "start_time": "2022-12-02T14:51:49.577Z"
   },
   {
    "duration": 76,
    "start_time": "2022-12-02T14:51:49.893Z"
   },
   {
    "duration": 176,
    "start_time": "2022-12-02T14:53:47.755Z"
   },
   {
    "duration": 221,
    "start_time": "2022-12-02T14:54:00.599Z"
   },
   {
    "duration": 4,
    "start_time": "2022-12-02T14:54:05.884Z"
   },
   {
    "duration": 110,
    "start_time": "2022-12-02T14:54:05.890Z"
   },
   {
    "duration": 14,
    "start_time": "2022-12-02T14:54:06.002Z"
   },
   {
    "duration": 34,
    "start_time": "2022-12-02T14:54:06.017Z"
   },
   {
    "duration": 2113,
    "start_time": "2022-12-02T14:54:06.055Z"
   },
   {
    "duration": 9,
    "start_time": "2022-12-02T14:54:08.170Z"
   },
   {
    "duration": 16,
    "start_time": "2022-12-02T14:54:08.180Z"
   },
   {
    "duration": 15,
    "start_time": "2022-12-02T14:54:08.198Z"
   },
   {
    "duration": 91,
    "start_time": "2022-12-02T14:54:08.215Z"
   },
   {
    "duration": 19,
    "start_time": "2022-12-02T14:54:08.308Z"
   },
   {
    "duration": 62,
    "start_time": "2022-12-02T14:54:08.329Z"
   },
   {
    "duration": 81,
    "start_time": "2022-12-02T14:54:08.393Z"
   },
   {
    "duration": 194,
    "start_time": "2022-12-02T14:54:08.476Z"
   },
   {
    "duration": 15,
    "start_time": "2022-12-02T14:54:08.672Z"
   },
   {
    "duration": 14,
    "start_time": "2022-12-02T14:54:08.690Z"
   },
   {
    "duration": 235,
    "start_time": "2022-12-02T14:54:08.706Z"
   },
   {
    "duration": 541,
    "start_time": "2022-12-02T14:54:08.943Z"
   },
   {
    "duration": 154,
    "start_time": "2022-12-02T14:54:09.485Z"
   },
   {
    "duration": 38,
    "start_time": "2022-12-02T14:54:09.640Z"
   },
   {
    "duration": 20,
    "start_time": "2022-12-02T14:54:09.680Z"
   },
   {
    "duration": 18,
    "start_time": "2022-12-02T14:54:09.701Z"
   },
   {
    "duration": 42,
    "start_time": "2022-12-02T14:54:09.721Z"
   },
   {
    "duration": 268,
    "start_time": "2022-12-02T14:54:09.764Z"
   },
   {
    "duration": 51,
    "start_time": "2022-12-02T14:54:10.033Z"
   },
   {
    "duration": 16,
    "start_time": "2022-12-02T14:54:10.086Z"
   },
   {
    "duration": 30,
    "start_time": "2022-12-02T14:54:10.104Z"
   },
   {
    "duration": 454,
    "start_time": "2022-12-02T14:54:10.155Z"
   },
   {
    "duration": 15,
    "start_time": "2022-12-02T14:54:10.611Z"
   },
   {
    "duration": 2687,
    "start_time": "2022-12-02T14:54:10.627Z"
   },
   {
    "duration": 188,
    "start_time": "2022-12-02T14:54:13.316Z"
   },
   {
    "duration": 27,
    "start_time": "2022-12-02T14:54:13.506Z"
   },
   {
    "duration": 596,
    "start_time": "2022-12-02T14:57:54.273Z"
   },
   {
    "duration": 152,
    "start_time": "2022-12-02T14:58:07.540Z"
   },
   {
    "duration": 3,
    "start_time": "2022-12-02T14:58:13.769Z"
   },
   {
    "duration": 123,
    "start_time": "2022-12-02T14:58:13.774Z"
   },
   {
    "duration": 17,
    "start_time": "2022-12-02T14:58:13.898Z"
   },
   {
    "duration": 53,
    "start_time": "2022-12-02T14:58:13.917Z"
   },
   {
    "duration": 2392,
    "start_time": "2022-12-02T14:58:13.972Z"
   },
   {
    "duration": 11,
    "start_time": "2022-12-02T14:58:16.366Z"
   },
   {
    "duration": 27,
    "start_time": "2022-12-02T14:58:16.378Z"
   },
   {
    "duration": 14,
    "start_time": "2022-12-02T14:58:16.407Z"
   },
   {
    "duration": 72,
    "start_time": "2022-12-02T14:58:16.423Z"
   },
   {
    "duration": 17,
    "start_time": "2022-12-02T14:58:16.497Z"
   },
   {
    "duration": 59,
    "start_time": "2022-12-02T14:58:16.516Z"
   },
   {
    "duration": 50,
    "start_time": "2022-12-02T14:58:16.576Z"
   },
   {
    "duration": 195,
    "start_time": "2022-12-02T14:58:16.627Z"
   },
   {
    "duration": 15,
    "start_time": "2022-12-02T14:58:16.823Z"
   },
   {
    "duration": 26,
    "start_time": "2022-12-02T14:58:16.840Z"
   },
   {
    "duration": 168,
    "start_time": "2022-12-02T14:58:16.868Z"
   },
   {
    "duration": 161,
    "start_time": "2022-12-02T14:58:17.039Z"
   },
   {
    "duration": 32,
    "start_time": "2022-12-02T14:58:17.202Z"
   },
   {
    "duration": 33,
    "start_time": "2022-12-02T14:58:17.256Z"
   },
   {
    "duration": 17,
    "start_time": "2022-12-02T14:58:17.290Z"
   },
   {
    "duration": 30,
    "start_time": "2022-12-02T14:58:17.309Z"
   },
   {
    "duration": 258,
    "start_time": "2022-12-02T14:58:17.341Z"
   },
   {
    "duration": 45,
    "start_time": "2022-12-02T14:58:17.601Z"
   },
   {
    "duration": 15,
    "start_time": "2022-12-02T14:58:17.657Z"
   },
   {
    "duration": 34,
    "start_time": "2022-12-02T14:58:17.674Z"
   },
   {
    "duration": 300,
    "start_time": "2022-12-02T14:58:17.710Z"
   },
   {
    "duration": 17,
    "start_time": "2022-12-02T14:58:18.012Z"
   },
   {
    "duration": 2978,
    "start_time": "2022-12-02T14:58:18.030Z"
   },
   {
    "duration": 175,
    "start_time": "2022-12-02T14:58:21.010Z"
   },
   {
    "duration": 23,
    "start_time": "2022-12-02T14:58:21.187Z"
   },
   {
    "duration": 194,
    "start_time": "2022-12-02T14:58:44.952Z"
   },
   {
    "duration": 3,
    "start_time": "2022-12-02T14:58:48.816Z"
   },
   {
    "duration": 103,
    "start_time": "2022-12-02T14:58:48.821Z"
   },
   {
    "duration": 16,
    "start_time": "2022-12-02T14:58:48.926Z"
   },
   {
    "duration": 57,
    "start_time": "2022-12-02T14:58:48.944Z"
   },
   {
    "duration": 1980,
    "start_time": "2022-12-02T14:58:49.003Z"
   },
   {
    "duration": 10,
    "start_time": "2022-12-02T14:58:50.985Z"
   },
   {
    "duration": 22,
    "start_time": "2022-12-02T14:58:50.996Z"
   },
   {
    "duration": 34,
    "start_time": "2022-12-02T14:58:51.020Z"
   },
   {
    "duration": 67,
    "start_time": "2022-12-02T14:58:51.058Z"
   },
   {
    "duration": 44,
    "start_time": "2022-12-02T14:58:51.127Z"
   },
   {
    "duration": 40,
    "start_time": "2022-12-02T14:58:51.173Z"
   },
   {
    "duration": 77,
    "start_time": "2022-12-02T14:58:51.215Z"
   },
   {
    "duration": 195,
    "start_time": "2022-12-02T14:58:51.294Z"
   },
   {
    "duration": 16,
    "start_time": "2022-12-02T14:58:51.491Z"
   },
   {
    "duration": 14,
    "start_time": "2022-12-02T14:58:51.509Z"
   },
   {
    "duration": 176,
    "start_time": "2022-12-02T14:58:51.525Z"
   },
   {
    "duration": 159,
    "start_time": "2022-12-02T14:58:51.702Z"
   },
   {
    "duration": 31,
    "start_time": "2022-12-02T14:58:51.863Z"
   },
   {
    "duration": 27,
    "start_time": "2022-12-02T14:58:51.896Z"
   },
   {
    "duration": 46,
    "start_time": "2022-12-02T14:58:51.925Z"
   },
   {
    "duration": 10,
    "start_time": "2022-12-02T14:58:51.973Z"
   },
   {
    "duration": 289,
    "start_time": "2022-12-02T14:58:51.984Z"
   },
   {
    "duration": 42,
    "start_time": "2022-12-02T14:58:52.275Z"
   },
   {
    "duration": 35,
    "start_time": "2022-12-02T14:58:52.320Z"
   },
   {
    "duration": 31,
    "start_time": "2022-12-02T14:58:52.357Z"
   },
   {
    "duration": 290,
    "start_time": "2022-12-02T14:58:52.390Z"
   },
   {
    "duration": 17,
    "start_time": "2022-12-02T14:58:52.682Z"
   },
   {
    "duration": 3033,
    "start_time": "2022-12-02T14:58:52.701Z"
   },
   {
    "duration": 185,
    "start_time": "2022-12-02T14:58:55.735Z"
   },
   {
    "duration": 34,
    "start_time": "2022-12-02T14:58:55.922Z"
   },
   {
    "duration": 35,
    "start_time": "2022-12-02T15:01:14.269Z"
   },
   {
    "duration": 4,
    "start_time": "2022-12-02T15:01:35.092Z"
   },
   {
    "duration": 128,
    "start_time": "2022-12-02T15:01:35.097Z"
   },
   {
    "duration": 15,
    "start_time": "2022-12-02T15:01:35.227Z"
   },
   {
    "duration": 50,
    "start_time": "2022-12-02T15:01:35.244Z"
   },
   {
    "duration": 1946,
    "start_time": "2022-12-02T15:01:35.295Z"
   },
   {
    "duration": 16,
    "start_time": "2022-12-02T15:01:37.243Z"
   },
   {
    "duration": 33,
    "start_time": "2022-12-02T15:01:37.261Z"
   },
   {
    "duration": 25,
    "start_time": "2022-12-02T15:01:37.295Z"
   },
   {
    "duration": 72,
    "start_time": "2022-12-02T15:01:37.323Z"
   },
   {
    "duration": 19,
    "start_time": "2022-12-02T15:01:37.397Z"
   },
   {
    "duration": 59,
    "start_time": "2022-12-02T15:01:37.417Z"
   },
   {
    "duration": 48,
    "start_time": "2022-12-02T15:01:37.478Z"
   },
   {
    "duration": 193,
    "start_time": "2022-12-02T15:01:37.528Z"
   },
   {
    "duration": 14,
    "start_time": "2022-12-02T15:01:37.722Z"
   },
   {
    "duration": 29,
    "start_time": "2022-12-02T15:01:37.738Z"
   },
   {
    "duration": 46,
    "start_time": "2022-12-02T15:01:37.769Z"
   },
   {
    "duration": 52,
    "start_time": "2022-12-02T15:01:37.817Z"
   },
   {
    "duration": 30,
    "start_time": "2022-12-02T15:01:37.871Z"
   },
   {
    "duration": 21,
    "start_time": "2022-12-02T15:01:37.903Z"
   },
   {
    "duration": 290,
    "start_time": "2022-12-02T15:01:37.926Z"
   },
   {
    "duration": 48,
    "start_time": "2022-12-02T15:01:38.218Z"
   },
   {
    "duration": 13,
    "start_time": "2022-12-02T15:01:38.268Z"
   },
   {
    "duration": 72,
    "start_time": "2022-12-02T15:01:38.283Z"
   },
   {
    "duration": 286,
    "start_time": "2022-12-02T15:01:38.358Z"
   },
   {
    "duration": 20,
    "start_time": "2022-12-02T15:01:38.646Z"
   },
   {
    "duration": 2974,
    "start_time": "2022-12-02T15:01:38.668Z"
   },
   {
    "duration": 186,
    "start_time": "2022-12-02T15:01:41.643Z"
   },
   {
    "duration": 33,
    "start_time": "2022-12-02T15:01:41.831Z"
   },
   {
    "duration": 25,
    "start_time": "2022-12-02T15:03:16.333Z"
   },
   {
    "duration": 18,
    "start_time": "2022-12-02T15:04:20.239Z"
   },
   {
    "duration": 17,
    "start_time": "2022-12-02T15:06:35.492Z"
   },
   {
    "duration": 45,
    "start_time": "2022-12-02T15:10:52.989Z"
   },
   {
    "duration": 25,
    "start_time": "2022-12-02T15:12:08.804Z"
   },
   {
    "duration": 266,
    "start_time": "2022-12-02T15:13:51.546Z"
   },
   {
    "duration": 270,
    "start_time": "2022-12-02T15:16:16.531Z"
   },
   {
    "duration": 47,
    "start_time": "2022-12-02T15:16:44.550Z"
   },
   {
    "duration": 3,
    "start_time": "2022-12-02T15:17:19.677Z"
   },
   {
    "duration": 96,
    "start_time": "2022-12-02T15:17:19.682Z"
   },
   {
    "duration": 20,
    "start_time": "2022-12-02T15:17:19.780Z"
   },
   {
    "duration": 35,
    "start_time": "2022-12-02T15:17:19.803Z"
   },
   {
    "duration": 1906,
    "start_time": "2022-12-02T15:17:19.840Z"
   },
   {
    "duration": 15,
    "start_time": "2022-12-02T15:17:21.748Z"
   },
   {
    "duration": 18,
    "start_time": "2022-12-02T15:17:21.764Z"
   },
   {
    "duration": 14,
    "start_time": "2022-12-02T15:17:21.784Z"
   },
   {
    "duration": 89,
    "start_time": "2022-12-02T15:17:21.800Z"
   },
   {
    "duration": 17,
    "start_time": "2022-12-02T15:17:21.891Z"
   },
   {
    "duration": 60,
    "start_time": "2022-12-02T15:17:21.910Z"
   },
   {
    "duration": 49,
    "start_time": "2022-12-02T15:17:21.972Z"
   },
   {
    "duration": 205,
    "start_time": "2022-12-02T15:17:22.023Z"
   },
   {
    "duration": 13,
    "start_time": "2022-12-02T15:17:22.230Z"
   },
   {
    "duration": 25,
    "start_time": "2022-12-02T15:17:22.245Z"
   },
   {
    "duration": 25,
    "start_time": "2022-12-02T15:17:22.271Z"
   },
   {
    "duration": 14,
    "start_time": "2022-12-02T15:17:22.298Z"
   },
   {
    "duration": 15,
    "start_time": "2022-12-02T15:17:22.314Z"
   },
   {
    "duration": 291,
    "start_time": "2022-12-02T15:17:22.331Z"
   },
   {
    "duration": 53,
    "start_time": "2022-12-02T15:17:22.624Z"
   },
   {
    "duration": 15,
    "start_time": "2022-12-02T15:17:22.679Z"
   },
   {
    "duration": 35,
    "start_time": "2022-12-02T15:17:22.696Z"
   },
   {
    "duration": 339,
    "start_time": "2022-12-02T15:17:22.733Z"
   },
   {
    "duration": 15,
    "start_time": "2022-12-02T15:17:23.075Z"
   },
   {
    "duration": 3998,
    "start_time": "2022-12-02T15:17:23.092Z"
   },
   {
    "duration": 177,
    "start_time": "2022-12-02T15:17:27.091Z"
   },
   {
    "duration": 25,
    "start_time": "2022-12-02T15:17:27.270Z"
   },
   {
    "duration": 87,
    "start_time": "2022-12-02T15:17:51.109Z"
   },
   {
    "duration": 441,
    "start_time": "2022-12-02T15:18:02.932Z"
   },
   {
    "duration": 99,
    "start_time": "2022-12-02T15:18:03.375Z"
   },
   {
    "duration": 15,
    "start_time": "2022-12-02T15:18:03.476Z"
   },
   {
    "duration": 124,
    "start_time": "2022-12-02T15:18:03.493Z"
   },
   {
    "duration": 2368,
    "start_time": "2022-12-02T15:18:03.618Z"
   },
   {
    "duration": 12,
    "start_time": "2022-12-02T15:18:05.988Z"
   },
   {
    "duration": 14,
    "start_time": "2022-12-02T15:18:06.002Z"
   },
   {
    "duration": 16,
    "start_time": "2022-12-02T15:18:06.018Z"
   },
   {
    "duration": 77,
    "start_time": "2022-12-02T15:18:06.037Z"
   },
   {
    "duration": 40,
    "start_time": "2022-12-02T15:18:06.116Z"
   },
   {
    "duration": 37,
    "start_time": "2022-12-02T15:18:06.157Z"
   },
   {
    "duration": 74,
    "start_time": "2022-12-02T15:18:06.195Z"
   },
   {
    "duration": 175,
    "start_time": "2022-12-02T15:18:06.270Z"
   },
   {
    "duration": 20,
    "start_time": "2022-12-02T15:18:06.446Z"
   },
   {
    "duration": 16,
    "start_time": "2022-12-02T15:18:06.468Z"
   },
   {
    "duration": 18,
    "start_time": "2022-12-02T15:18:06.486Z"
   },
   {
    "duration": 14,
    "start_time": "2022-12-02T15:18:06.506Z"
   },
   {
    "duration": 45,
    "start_time": "2022-12-02T15:18:06.522Z"
   },
   {
    "duration": 279,
    "start_time": "2022-12-02T15:18:06.569Z"
   },
   {
    "duration": 44,
    "start_time": "2022-12-02T15:18:06.855Z"
   },
   {
    "duration": 13,
    "start_time": "2022-12-02T15:18:06.901Z"
   },
   {
    "duration": 54,
    "start_time": "2022-12-02T15:18:06.916Z"
   },
   {
    "duration": 277,
    "start_time": "2022-12-02T15:18:06.972Z"
   },
   {
    "duration": 16,
    "start_time": "2022-12-02T15:18:07.251Z"
   },
   {
    "duration": 2734,
    "start_time": "2022-12-02T15:18:07.269Z"
   },
   {
    "duration": 183,
    "start_time": "2022-12-02T15:18:10.005Z"
   },
   {
    "duration": 199,
    "start_time": "2022-12-02T15:18:10.190Z"
   },
   {
    "duration": 128,
    "start_time": "2022-12-02T15:19:18.841Z"
   },
   {
    "duration": 4,
    "start_time": "2022-12-02T15:19:26.410Z"
   },
   {
    "duration": 108,
    "start_time": "2022-12-02T15:19:26.416Z"
   },
   {
    "duration": 16,
    "start_time": "2022-12-02T15:19:26.527Z"
   },
   {
    "duration": 41,
    "start_time": "2022-12-02T15:19:26.545Z"
   },
   {
    "duration": 1821,
    "start_time": "2022-12-02T15:19:26.588Z"
   },
   {
    "duration": 9,
    "start_time": "2022-12-02T15:19:28.411Z"
   },
   {
    "duration": 12,
    "start_time": "2022-12-02T15:19:28.422Z"
   },
   {
    "duration": 16,
    "start_time": "2022-12-02T15:19:28.454Z"
   },
   {
    "duration": 84,
    "start_time": "2022-12-02T15:19:28.472Z"
   },
   {
    "duration": 18,
    "start_time": "2022-12-02T15:19:28.557Z"
   },
   {
    "duration": 36,
    "start_time": "2022-12-02T15:19:28.577Z"
   },
   {
    "duration": 118,
    "start_time": "2022-12-02T15:19:28.615Z"
   },
   {
    "duration": 181,
    "start_time": "2022-12-02T15:19:28.735Z"
   },
   {
    "duration": 14,
    "start_time": "2022-12-02T15:19:28.918Z"
   },
   {
    "duration": 30,
    "start_time": "2022-12-02T15:19:28.934Z"
   },
   {
    "duration": 17,
    "start_time": "2022-12-02T15:19:28.965Z"
   },
   {
    "duration": 15,
    "start_time": "2022-12-02T15:19:28.983Z"
   },
   {
    "duration": 12,
    "start_time": "2022-12-02T15:19:29.000Z"
   },
   {
    "duration": 276,
    "start_time": "2022-12-02T15:19:29.014Z"
   },
   {
    "duration": 43,
    "start_time": "2022-12-02T15:19:29.292Z"
   },
   {
    "duration": 27,
    "start_time": "2022-12-02T15:19:29.336Z"
   },
   {
    "duration": 29,
    "start_time": "2022-12-02T15:19:29.365Z"
   },
   {
    "duration": 424,
    "start_time": "2022-12-02T15:19:29.395Z"
   },
   {
    "duration": 16,
    "start_time": "2022-12-02T15:19:29.823Z"
   },
   {
    "duration": 2738,
    "start_time": "2022-12-02T15:19:29.840Z"
   },
   {
    "duration": 177,
    "start_time": "2022-12-02T15:19:32.580Z"
   },
   {
    "duration": 25,
    "start_time": "2022-12-02T15:19:32.758Z"
   },
   {
    "duration": 32,
    "start_time": "2022-12-02T15:24:44.571Z"
   },
   {
    "duration": 275,
    "start_time": "2022-12-02T15:25:42.650Z"
   },
   {
    "duration": 26,
    "start_time": "2022-12-02T15:25:58.104Z"
   },
   {
    "duration": 246,
    "start_time": "2022-12-02T15:26:10.946Z"
   },
   {
    "duration": 261,
    "start_time": "2022-12-02T15:26:26.007Z"
   },
   {
    "duration": 263,
    "start_time": "2022-12-02T15:26:42.172Z"
   },
   {
    "duration": 357,
    "start_time": "2022-12-02T15:26:54.535Z"
   },
   {
    "duration": 276,
    "start_time": "2022-12-02T15:27:46.579Z"
   },
   {
    "duration": 27,
    "start_time": "2022-12-02T15:29:13.853Z"
   },
   {
    "duration": 173,
    "start_time": "2022-12-02T15:29:56.278Z"
   },
   {
    "duration": 3,
    "start_time": "2022-12-02T15:44:28.993Z"
   },
   {
    "duration": 110,
    "start_time": "2022-12-02T15:44:28.998Z"
   },
   {
    "duration": 14,
    "start_time": "2022-12-02T15:44:29.110Z"
   },
   {
    "duration": 53,
    "start_time": "2022-12-02T15:44:29.126Z"
   },
   {
    "duration": 2107,
    "start_time": "2022-12-02T15:44:29.180Z"
   },
   {
    "duration": 9,
    "start_time": "2022-12-02T15:44:31.289Z"
   },
   {
    "duration": 34,
    "start_time": "2022-12-02T15:44:31.300Z"
   },
   {
    "duration": 19,
    "start_time": "2022-12-02T15:44:31.336Z"
   },
   {
    "duration": 67,
    "start_time": "2022-12-02T15:44:31.358Z"
   },
   {
    "duration": 42,
    "start_time": "2022-12-02T15:44:31.427Z"
   },
   {
    "duration": 37,
    "start_time": "2022-12-02T15:44:31.471Z"
   },
   {
    "duration": 105,
    "start_time": "2022-12-02T15:44:31.510Z"
   },
   {
    "duration": 198,
    "start_time": "2022-12-02T15:44:31.617Z"
   },
   {
    "duration": 8,
    "start_time": "2022-12-02T15:44:31.816Z"
   },
   {
    "duration": 30,
    "start_time": "2022-12-02T15:44:31.826Z"
   },
   {
    "duration": 22,
    "start_time": "2022-12-02T15:44:31.857Z"
   },
   {
    "duration": 18,
    "start_time": "2022-12-02T15:44:31.881Z"
   },
   {
    "duration": 14,
    "start_time": "2022-12-02T15:44:31.901Z"
   },
   {
    "duration": 39,
    "start_time": "2022-12-02T15:44:31.916Z"
   },
   {
    "duration": 296,
    "start_time": "2022-12-02T15:44:31.957Z"
   },
   {
    "duration": 26,
    "start_time": "2022-12-02T15:44:32.255Z"
   },
   {
    "duration": 36,
    "start_time": "2022-12-02T15:44:32.282Z"
   },
   {
    "duration": 304,
    "start_time": "2022-12-02T15:44:32.320Z"
   },
   {
    "duration": 33,
    "start_time": "2022-12-02T15:44:32.627Z"
   },
   {
    "duration": 3854,
    "start_time": "2022-12-02T15:44:32.662Z"
   },
   {
    "duration": 177,
    "start_time": "2022-12-02T15:44:36.518Z"
   },
   {
    "duration": 23,
    "start_time": "2022-12-02T15:44:36.697Z"
   },
   {
    "duration": 4,
    "start_time": "2022-12-02T15:45:12.402Z"
   },
   {
    "duration": 137,
    "start_time": "2022-12-02T15:45:12.409Z"
   },
   {
    "duration": 17,
    "start_time": "2022-12-02T15:45:12.548Z"
   },
   {
    "duration": 43,
    "start_time": "2022-12-02T15:45:12.568Z"
   },
   {
    "duration": 2036,
    "start_time": "2022-12-02T15:45:12.614Z"
   },
   {
    "duration": 14,
    "start_time": "2022-12-02T15:45:14.652Z"
   },
   {
    "duration": 28,
    "start_time": "2022-12-02T15:45:14.669Z"
   },
   {
    "duration": 19,
    "start_time": "2022-12-02T15:45:14.700Z"
   },
   {
    "duration": 89,
    "start_time": "2022-12-02T15:45:14.722Z"
   },
   {
    "duration": 19,
    "start_time": "2022-12-02T15:45:14.812Z"
   },
   {
    "duration": 59,
    "start_time": "2022-12-02T15:45:14.833Z"
   },
   {
    "duration": 118,
    "start_time": "2022-12-02T15:45:14.893Z"
   },
   {
    "duration": 178,
    "start_time": "2022-12-02T15:45:15.013Z"
   },
   {
    "duration": 8,
    "start_time": "2022-12-02T15:45:15.193Z"
   },
   {
    "duration": 35,
    "start_time": "2022-12-02T15:45:15.202Z"
   },
   {
    "duration": 25,
    "start_time": "2022-12-02T15:45:15.238Z"
   },
   {
    "duration": 21,
    "start_time": "2022-12-02T15:45:15.264Z"
   },
   {
    "duration": 37,
    "start_time": "2022-12-02T15:45:15.286Z"
   },
   {
    "duration": 22,
    "start_time": "2022-12-02T15:45:15.324Z"
   },
   {
    "duration": 257,
    "start_time": "2022-12-02T15:45:15.348Z"
   },
   {
    "duration": 25,
    "start_time": "2022-12-02T15:45:15.607Z"
   },
   {
    "duration": 45,
    "start_time": "2022-12-02T15:45:15.633Z"
   },
   {
    "duration": 515,
    "start_time": "2022-12-02T15:45:15.680Z"
   },
   {
    "duration": 26,
    "start_time": "2022-12-02T15:45:16.197Z"
   },
   {
    "duration": 2707,
    "start_time": "2022-12-02T15:45:16.225Z"
   },
   {
    "duration": 196,
    "start_time": "2022-12-02T15:45:18.934Z"
   },
   {
    "duration": 33,
    "start_time": "2022-12-02T15:45:19.131Z"
   },
   {
    "duration": 3,
    "start_time": "2022-12-02T15:47:28.583Z"
   },
   {
    "duration": 145,
    "start_time": "2022-12-02T16:06:40.023Z"
   },
   {
    "duration": 3,
    "start_time": "2022-12-02T16:07:33.311Z"
   },
   {
    "duration": 107,
    "start_time": "2022-12-02T16:07:33.317Z"
   },
   {
    "duration": 30,
    "start_time": "2022-12-02T16:07:33.425Z"
   },
   {
    "duration": 34,
    "start_time": "2022-12-02T16:07:33.457Z"
   },
   {
    "duration": 2318,
    "start_time": "2022-12-02T16:07:33.492Z"
   },
   {
    "duration": 10,
    "start_time": "2022-12-02T16:07:35.812Z"
   },
   {
    "duration": 31,
    "start_time": "2022-12-02T16:07:35.824Z"
   },
   {
    "duration": 15,
    "start_time": "2022-12-02T16:07:35.857Z"
   },
   {
    "duration": 88,
    "start_time": "2022-12-02T16:07:35.874Z"
   },
   {
    "duration": 19,
    "start_time": "2022-12-02T16:07:35.964Z"
   },
   {
    "duration": 70,
    "start_time": "2022-12-02T16:07:35.985Z"
   },
   {
    "duration": 107,
    "start_time": "2022-12-02T16:07:36.057Z"
   },
   {
    "duration": 208,
    "start_time": "2022-12-02T16:07:36.166Z"
   },
   {
    "duration": 15,
    "start_time": "2022-12-02T16:07:36.376Z"
   },
   {
    "duration": 16,
    "start_time": "2022-12-02T16:07:36.392Z"
   },
   {
    "duration": 46,
    "start_time": "2022-12-02T16:07:36.410Z"
   },
   {
    "duration": 15,
    "start_time": "2022-12-02T16:07:36.458Z"
   },
   {
    "duration": 17,
    "start_time": "2022-12-02T16:07:36.475Z"
   },
   {
    "duration": 283,
    "start_time": "2022-12-02T16:07:36.493Z"
   },
   {
    "duration": 29,
    "start_time": "2022-12-02T16:07:36.777Z"
   },
   {
    "duration": 60,
    "start_time": "2022-12-02T16:07:36.808Z"
   },
   {
    "duration": 326,
    "start_time": "2022-12-02T16:07:36.870Z"
   },
   {
    "duration": 33,
    "start_time": "2022-12-02T16:07:37.198Z"
   },
   {
    "duration": 2625,
    "start_time": "2022-12-02T16:07:37.234Z"
   },
   {
    "duration": 163,
    "start_time": "2022-12-02T16:07:39.861Z"
   },
   {
    "duration": 35,
    "start_time": "2022-12-02T16:07:40.026Z"
   },
   {
    "duration": 10,
    "start_time": "2022-12-02T16:13:40.539Z"
   },
   {
    "duration": 4,
    "start_time": "2022-12-02T16:13:44.016Z"
   },
   {
    "duration": 108,
    "start_time": "2022-12-02T16:13:44.022Z"
   },
   {
    "duration": 26,
    "start_time": "2022-12-02T16:13:44.132Z"
   },
   {
    "duration": 41,
    "start_time": "2022-12-02T16:13:44.160Z"
   },
   {
    "duration": 2328,
    "start_time": "2022-12-02T16:13:44.204Z"
   },
   {
    "duration": 10,
    "start_time": "2022-12-02T16:13:46.534Z"
   },
   {
    "duration": 13,
    "start_time": "2022-12-02T16:13:46.546Z"
   },
   {
    "duration": 12,
    "start_time": "2022-12-02T16:13:46.561Z"
   },
   {
    "duration": 14,
    "start_time": "2022-12-02T16:13:46.574Z"
   },
   {
    "duration": 94,
    "start_time": "2022-12-02T16:13:46.589Z"
   },
   {
    "duration": 17,
    "start_time": "2022-12-02T16:13:46.685Z"
   },
   {
    "duration": 66,
    "start_time": "2022-12-02T16:13:46.704Z"
   },
   {
    "duration": 103,
    "start_time": "2022-12-02T16:13:46.772Z"
   },
   {
    "duration": 187,
    "start_time": "2022-12-02T16:13:46.876Z"
   },
   {
    "duration": 15,
    "start_time": "2022-12-02T16:13:47.065Z"
   },
   {
    "duration": 14,
    "start_time": "2022-12-02T16:13:47.082Z"
   },
   {
    "duration": 60,
    "start_time": "2022-12-02T16:13:47.098Z"
   },
   {
    "duration": 15,
    "start_time": "2022-12-02T16:13:47.159Z"
   },
   {
    "duration": 15,
    "start_time": "2022-12-02T16:13:47.175Z"
   },
   {
    "duration": 327,
    "start_time": "2022-12-02T16:13:47.191Z"
   },
   {
    "duration": 23,
    "start_time": "2022-12-02T16:13:47.519Z"
   },
   {
    "duration": 39,
    "start_time": "2022-12-02T16:13:47.543Z"
   },
   {
    "duration": 303,
    "start_time": "2022-12-02T16:13:47.584Z"
   },
   {
    "duration": 25,
    "start_time": "2022-12-02T16:13:47.888Z"
   },
   {
    "duration": 2514,
    "start_time": "2022-12-02T16:13:47.915Z"
   },
   {
    "duration": 151,
    "start_time": "2022-12-02T16:13:50.431Z"
   },
   {
    "duration": 25,
    "start_time": "2022-12-02T16:13:50.584Z"
   },
   {
    "duration": 3,
    "start_time": "2022-12-02T16:16:57.760Z"
   },
   {
    "duration": 109,
    "start_time": "2022-12-02T16:16:57.765Z"
   },
   {
    "duration": 15,
    "start_time": "2022-12-02T16:16:57.876Z"
   },
   {
    "duration": 33,
    "start_time": "2022-12-02T16:16:57.892Z"
   },
   {
    "duration": 2262,
    "start_time": "2022-12-02T16:16:58.015Z"
   },
   {
    "duration": 9,
    "start_time": "2022-12-02T16:17:00.279Z"
   },
   {
    "duration": 47,
    "start_time": "2022-12-02T16:17:00.289Z"
   },
   {
    "duration": 30,
    "start_time": "2022-12-02T16:17:00.338Z"
   },
   {
    "duration": 22,
    "start_time": "2022-12-02T16:17:00.370Z"
   },
   {
    "duration": 84,
    "start_time": "2022-12-02T16:17:00.394Z"
   },
   {
    "duration": 16,
    "start_time": "2022-12-02T16:17:00.480Z"
   },
   {
    "duration": 58,
    "start_time": "2022-12-02T16:17:00.498Z"
   },
   {
    "duration": 50,
    "start_time": "2022-12-02T16:17:00.558Z"
   },
   {
    "duration": 184,
    "start_time": "2022-12-02T16:17:00.610Z"
   },
   {
    "duration": 16,
    "start_time": "2022-12-02T16:17:00.796Z"
   },
   {
    "duration": 57,
    "start_time": "2022-12-02T16:17:00.814Z"
   },
   {
    "duration": 41,
    "start_time": "2022-12-02T16:17:00.872Z"
   },
   {
    "duration": 27,
    "start_time": "2022-12-02T16:17:00.915Z"
   },
   {
    "duration": 53,
    "start_time": "2022-12-02T16:17:00.944Z"
   },
   {
    "duration": 248,
    "start_time": "2022-12-02T16:17:00.998Z"
   },
   {
    "duration": 27,
    "start_time": "2022-12-02T16:17:01.248Z"
   },
   {
    "duration": 54,
    "start_time": "2022-12-02T16:17:01.276Z"
   },
   {
    "duration": 222,
    "start_time": "2022-12-02T16:17:01.332Z"
   },
   {
    "duration": 25,
    "start_time": "2022-12-02T16:17:01.556Z"
   },
   {
    "duration": 3413,
    "start_time": "2022-12-02T16:17:01.582Z"
   },
   {
    "duration": 146,
    "start_time": "2022-12-02T16:17:04.997Z"
   },
   {
    "duration": 29,
    "start_time": "2022-12-02T16:17:05.144Z"
   },
   {
    "duration": 3,
    "start_time": "2022-12-02T16:19:42.739Z"
   },
   {
    "duration": 104,
    "start_time": "2022-12-02T16:19:42.744Z"
   },
   {
    "duration": 16,
    "start_time": "2022-12-02T16:19:42.850Z"
   },
   {
    "duration": 34,
    "start_time": "2022-12-02T16:19:42.868Z"
   },
   {
    "duration": 1932,
    "start_time": "2022-12-02T16:19:42.904Z"
   },
   {
    "duration": 20,
    "start_time": "2022-12-02T16:19:44.838Z"
   },
   {
    "duration": 9,
    "start_time": "2022-12-02T16:19:44.860Z"
   },
   {
    "duration": 28,
    "start_time": "2022-12-02T16:19:44.870Z"
   },
   {
    "duration": 14,
    "start_time": "2022-12-02T16:19:44.899Z"
   },
   {
    "duration": 84,
    "start_time": "2022-12-02T16:19:44.914Z"
   },
   {
    "duration": 18,
    "start_time": "2022-12-02T16:19:45.001Z"
   },
   {
    "duration": 50,
    "start_time": "2022-12-02T16:19:45.021Z"
   },
   {
    "duration": 56,
    "start_time": "2022-12-02T16:19:45.073Z"
   },
   {
    "duration": 180,
    "start_time": "2022-12-02T16:19:45.131Z"
   },
   {
    "duration": 13,
    "start_time": "2022-12-02T16:19:45.312Z"
   },
   {
    "duration": 30,
    "start_time": "2022-12-02T16:19:45.327Z"
   },
   {
    "duration": 16,
    "start_time": "2022-12-02T16:19:45.358Z"
   },
   {
    "duration": 14,
    "start_time": "2022-12-02T16:19:45.376Z"
   },
   {
    "duration": 15,
    "start_time": "2022-12-02T16:19:45.392Z"
   },
   {
    "duration": 227,
    "start_time": "2022-12-02T16:19:45.409Z"
   },
   {
    "duration": 27,
    "start_time": "2022-12-02T16:19:45.638Z"
   },
   {
    "duration": 27,
    "start_time": "2022-12-02T16:19:45.667Z"
   },
   {
    "duration": 243,
    "start_time": "2022-12-02T16:19:45.696Z"
   },
   {
    "duration": 31,
    "start_time": "2022-12-02T16:19:45.940Z"
   },
   {
    "duration": 3885,
    "start_time": "2022-12-02T16:19:45.973Z"
   },
   {
    "duration": 151,
    "start_time": "2022-12-02T16:19:49.860Z"
   },
   {
    "duration": 24,
    "start_time": "2022-12-02T16:19:50.013Z"
   },
   {
    "duration": 4,
    "start_time": "2022-12-02T16:34:00.275Z"
   },
   {
    "duration": 2458,
    "start_time": "2022-12-02T16:36:16.343Z"
   },
   {
    "duration": 161,
    "start_time": "2022-12-02T16:37:52.649Z"
   },
   {
    "duration": 353,
    "start_time": "2022-12-02T16:38:36.452Z"
   },
   {
    "duration": 507,
    "start_time": "2022-12-02T16:39:06.363Z"
   },
   {
    "duration": 765,
    "start_time": "2022-12-02T16:41:00.296Z"
   },
   {
    "duration": 49,
    "start_time": "2022-12-02T16:42:53.394Z"
   },
   {
    "duration": 14,
    "start_time": "2022-12-02T16:43:34.721Z"
   },
   {
    "duration": 62,
    "start_time": "2022-12-02T16:44:14.684Z"
   },
   {
    "duration": 50,
    "start_time": "2022-12-02T16:44:20.557Z"
   },
   {
    "duration": 42,
    "start_time": "2022-12-02T16:45:31.417Z"
   },
   {
    "duration": 54,
    "start_time": "2022-12-02T16:46:51.703Z"
   },
   {
    "duration": 44,
    "start_time": "2022-12-02T16:47:00.577Z"
   },
   {
    "duration": 47,
    "start_time": "2022-12-02T16:47:46.184Z"
   },
   {
    "duration": 728,
    "start_time": "2022-12-02T16:47:55.089Z"
   },
   {
    "duration": 1056,
    "start_time": "2022-12-02T16:50:05.380Z"
   },
   {
    "duration": 1087,
    "start_time": "2022-12-02T16:50:33.424Z"
   },
   {
    "duration": 1037,
    "start_time": "2022-12-02T16:51:09.502Z"
   },
   {
    "duration": 3,
    "start_time": "2022-12-02T16:51:15.592Z"
   },
   {
    "duration": 1061,
    "start_time": "2022-12-02T16:51:52.665Z"
   },
   {
    "duration": 1054,
    "start_time": "2022-12-02T16:52:05.759Z"
   },
   {
    "duration": 1044,
    "start_time": "2022-12-02T16:52:32.913Z"
   },
   {
    "duration": 1028,
    "start_time": "2022-12-02T16:54:00.175Z"
   },
   {
    "duration": 1749,
    "start_time": "2022-12-02T16:54:18.532Z"
   },
   {
    "duration": 51,
    "start_time": "2022-12-02T16:55:32.373Z"
   },
   {
    "duration": 1190,
    "start_time": "2022-12-02T16:57:30.704Z"
   },
   {
    "duration": 1680,
    "start_time": "2022-12-02T17:01:06.845Z"
   },
   {
    "duration": 9,
    "start_time": "2022-12-02T17:06:02.210Z"
   },
   {
    "duration": 42,
    "start_time": "2022-12-02T17:08:41.907Z"
   },
   {
    "duration": 42,
    "start_time": "2022-12-02T17:09:14.912Z"
   },
   {
    "duration": 40,
    "start_time": "2022-12-02T17:17:34.700Z"
   },
   {
    "duration": 30,
    "start_time": "2022-12-02T17:17:41.108Z"
   },
   {
    "duration": 35,
    "start_time": "2022-12-02T17:19:13.269Z"
   },
   {
    "duration": 44,
    "start_time": "2022-12-02T17:20:34.092Z"
   },
   {
    "duration": 31,
    "start_time": "2022-12-02T17:20:50.927Z"
   },
   {
    "duration": 26,
    "start_time": "2022-12-02T17:23:08.565Z"
   },
   {
    "duration": 24,
    "start_time": "2022-12-02T17:32:28.759Z"
   },
   {
    "duration": 26,
    "start_time": "2022-12-02T17:32:57.482Z"
   },
   {
    "duration": 28,
    "start_time": "2022-12-02T17:34:25.173Z"
   },
   {
    "duration": 28,
    "start_time": "2022-12-02T17:35:25.560Z"
   },
   {
    "duration": 32,
    "start_time": "2022-12-02T17:36:12.640Z"
   },
   {
    "duration": 22,
    "start_time": "2022-12-02T17:36:29.040Z"
   },
   {
    "duration": 33,
    "start_time": "2022-12-02T17:36:51.981Z"
   },
   {
    "duration": 35,
    "start_time": "2022-12-02T17:37:16.583Z"
   },
   {
    "duration": 22,
    "start_time": "2022-12-02T17:38:09.924Z"
   },
   {
    "duration": 11,
    "start_time": "2022-12-02T17:38:18.395Z"
   },
   {
    "duration": 11,
    "start_time": "2022-12-02T17:38:28.988Z"
   },
   {
    "duration": 10,
    "start_time": "2022-12-02T17:38:48.484Z"
   },
   {
    "duration": 22,
    "start_time": "2022-12-02T17:39:06.000Z"
   },
   {
    "duration": 22,
    "start_time": "2022-12-02T17:39:20.384Z"
   },
   {
    "duration": 33,
    "start_time": "2022-12-02T17:39:34.573Z"
   },
   {
    "duration": 24,
    "start_time": "2022-12-02T17:39:43.385Z"
   },
   {
    "duration": 11,
    "start_time": "2022-12-02T17:42:46.435Z"
   },
   {
    "duration": 9,
    "start_time": "2022-12-02T17:43:15.070Z"
   },
   {
    "duration": 110,
    "start_time": "2022-12-02T17:43:43.083Z"
   },
   {
    "duration": 1865,
    "start_time": "2022-12-02T17:47:00.062Z"
   },
   {
    "duration": 25,
    "start_time": "2022-12-02T17:51:41.563Z"
   },
   {
    "duration": 2,
    "start_time": "2022-12-02T17:52:40.348Z"
   },
   {
    "duration": 2058,
    "start_time": "2022-12-02T17:54:24.213Z"
   },
   {
    "duration": 28,
    "start_time": "2022-12-02T18:02:01.088Z"
   },
   {
    "duration": 29,
    "start_time": "2022-12-02T18:02:42.913Z"
   },
   {
    "duration": 1062,
    "start_time": "2022-12-02T18:04:21.373Z"
   },
   {
    "duration": 1002,
    "start_time": "2022-12-02T18:05:10.883Z"
   },
   {
    "duration": 202,
    "start_time": "2022-12-02T18:05:27.349Z"
   },
   {
    "duration": 891,
    "start_time": "2022-12-02T18:05:44.126Z"
   },
   {
    "duration": 17,
    "start_time": "2022-12-02T18:06:04.193Z"
   },
   {
    "duration": 17,
    "start_time": "2022-12-02T18:07:29.568Z"
   },
   {
    "duration": 277,
    "start_time": "2022-12-02T18:07:52.111Z"
   },
   {
    "duration": 18,
    "start_time": "2022-12-02T18:08:02.332Z"
   },
   {
    "duration": 136,
    "start_time": "2022-12-02T18:08:31.144Z"
   },
   {
    "duration": 25,
    "start_time": "2022-12-02T18:15:29.973Z"
   },
   {
    "duration": 174,
    "start_time": "2022-12-02T18:16:26.914Z"
   },
   {
    "duration": 1902,
    "start_time": "2022-12-02T18:18:01.430Z"
   },
   {
    "duration": 1899,
    "start_time": "2022-12-02T18:18:15.488Z"
   },
   {
    "duration": 1840,
    "start_time": "2022-12-02T18:18:38.621Z"
   },
   {
    "duration": 1976,
    "start_time": "2022-12-02T18:19:31.259Z"
   },
   {
    "duration": 178,
    "start_time": "2022-12-02T18:22:37.326Z"
   },
   {
    "duration": 212,
    "start_time": "2022-12-02T18:23:14.993Z"
   },
   {
    "duration": 8080,
    "start_time": "2022-12-02T18:23:44.413Z"
   },
   {
    "duration": 186,
    "start_time": "2022-12-02T18:24:36.232Z"
   },
   {
    "duration": 4,
    "start_time": "2022-12-02T18:32:02.593Z"
   },
   {
    "duration": 728,
    "start_time": "2022-12-02T18:32:22.575Z"
   },
   {
    "duration": 727,
    "start_time": "2022-12-02T18:35:26.984Z"
   },
   {
    "duration": 42,
    "start_time": "2022-12-02T18:37:58.518Z"
   },
   {
    "duration": 34,
    "start_time": "2022-12-02T18:38:49.098Z"
   },
   {
    "duration": 51,
    "start_time": "2022-12-02T18:40:22.598Z"
   },
   {
    "duration": 38,
    "start_time": "2022-12-02T18:42:27.508Z"
   },
   {
    "duration": 43,
    "start_time": "2022-12-02T18:42:36.776Z"
   },
   {
    "duration": 401,
    "start_time": "2022-12-02T20:16:15.382Z"
   },
   {
    "duration": 98,
    "start_time": "2022-12-02T20:16:15.785Z"
   },
   {
    "duration": 16,
    "start_time": "2022-12-02T20:16:15.885Z"
   },
   {
    "duration": 80,
    "start_time": "2022-12-02T20:16:15.903Z"
   },
   {
    "duration": 2434,
    "start_time": "2022-12-02T20:16:15.987Z"
   },
   {
    "duration": 11,
    "start_time": "2022-12-02T20:16:18.423Z"
   },
   {
    "duration": 11,
    "start_time": "2022-12-02T20:16:18.436Z"
   },
   {
    "duration": 12,
    "start_time": "2022-12-02T20:16:18.449Z"
   },
   {
    "duration": 15,
    "start_time": "2022-12-02T20:16:18.463Z"
   },
   {
    "duration": 88,
    "start_time": "2022-12-02T20:16:18.480Z"
   },
   {
    "duration": 19,
    "start_time": "2022-12-02T20:16:18.569Z"
   },
   {
    "duration": 69,
    "start_time": "2022-12-02T20:16:18.590Z"
   },
   {
    "duration": 61,
    "start_time": "2022-12-02T20:16:18.660Z"
   },
   {
    "duration": 203,
    "start_time": "2022-12-02T20:16:18.724Z"
   },
   {
    "duration": 30,
    "start_time": "2022-12-02T20:16:18.929Z"
   },
   {
    "duration": 16,
    "start_time": "2022-12-02T20:16:18.961Z"
   },
   {
    "duration": 19,
    "start_time": "2022-12-02T20:16:18.979Z"
   },
   {
    "duration": 16,
    "start_time": "2022-12-02T20:16:19.000Z"
   },
   {
    "duration": 47,
    "start_time": "2022-12-02T20:16:19.018Z"
   },
   {
    "duration": 311,
    "start_time": "2022-12-02T20:16:19.068Z"
   },
   {
    "duration": 23,
    "start_time": "2022-12-02T20:16:19.381Z"
   },
   {
    "duration": 46,
    "start_time": "2022-12-02T20:16:19.406Z"
   },
   {
    "duration": 301,
    "start_time": "2022-12-02T20:16:19.454Z"
   },
   {
    "duration": 32,
    "start_time": "2022-12-02T20:16:19.757Z"
   },
   {
    "duration": 2821,
    "start_time": "2022-12-02T20:16:19.792Z"
   },
   {
    "duration": 164,
    "start_time": "2022-12-02T20:16:22.615Z"
   },
   {
    "duration": 1986,
    "start_time": "2022-12-02T20:16:22.781Z"
   },
   {
    "duration": 34,
    "start_time": "2022-12-02T20:16:24.769Z"
   },
   {
    "duration": 214,
    "start_time": "2022-12-02T20:16:24.805Z"
   },
   {
    "duration": 107,
    "start_time": "2022-12-02T20:16:25.021Z"
   },
   {
    "duration": 51,
    "start_time": "2022-12-02T22:26:45.729Z"
   },
   {
    "duration": 378,
    "start_time": "2022-12-02T22:26:55.755Z"
   },
   {
    "duration": 352,
    "start_time": "2022-12-02T22:26:56.135Z"
   },
   {
    "duration": 15,
    "start_time": "2022-12-02T22:26:56.489Z"
   },
   {
    "duration": 38,
    "start_time": "2022-12-02T22:26:56.506Z"
   },
   {
    "duration": 2253,
    "start_time": "2022-12-02T22:26:56.545Z"
   },
   {
    "duration": 11,
    "start_time": "2022-12-02T22:26:58.799Z"
   },
   {
    "duration": 3,
    "start_time": "2022-12-02T22:26:58.811Z"
   },
   {
    "duration": 15,
    "start_time": "2022-12-02T22:26:58.816Z"
   },
   {
    "duration": 13,
    "start_time": "2022-12-02T22:26:58.833Z"
   },
   {
    "duration": 87,
    "start_time": "2022-12-02T22:26:58.849Z"
   },
   {
    "duration": 19,
    "start_time": "2022-12-02T22:26:58.937Z"
   },
   {
    "duration": 64,
    "start_time": "2022-12-02T22:26:58.957Z"
   },
   {
    "duration": 123,
    "start_time": "2022-12-02T22:26:59.023Z"
   },
   {
    "duration": 178,
    "start_time": "2022-12-02T22:26:59.147Z"
   },
   {
    "duration": 13,
    "start_time": "2022-12-02T22:26:59.327Z"
   },
   {
    "duration": 14,
    "start_time": "2022-12-02T22:26:59.342Z"
   },
   {
    "duration": 15,
    "start_time": "2022-12-02T22:26:59.358Z"
   },
   {
    "duration": 14,
    "start_time": "2022-12-02T22:26:59.397Z"
   },
   {
    "duration": 13,
    "start_time": "2022-12-02T22:26:59.413Z"
   },
   {
    "duration": 253,
    "start_time": "2022-12-02T22:26:59.427Z"
   },
   {
    "duration": 28,
    "start_time": "2022-12-02T22:26:59.682Z"
   },
   {
    "duration": 27,
    "start_time": "2022-12-02T22:26:59.711Z"
   },
   {
    "duration": 312,
    "start_time": "2022-12-02T22:26:59.740Z"
   },
   {
    "duration": 27,
    "start_time": "2022-12-02T22:27:00.054Z"
   },
   {
    "duration": 3488,
    "start_time": "2022-12-02T22:27:00.083Z"
   },
   {
    "duration": 271,
    "start_time": "2022-12-02T22:27:03.572Z"
   },
   {
    "duration": 1951,
    "start_time": "2022-12-02T22:27:03.845Z"
   },
   {
    "duration": 31,
    "start_time": "2022-12-02T22:27:05.799Z"
   },
   {
    "duration": 220,
    "start_time": "2022-12-02T22:27:05.832Z"
   },
   {
    "duration": 3,
    "start_time": "2022-12-02T22:29:41.667Z"
   },
   {
    "duration": 92,
    "start_time": "2022-12-02T22:29:41.672Z"
   },
   {
    "duration": 30,
    "start_time": "2022-12-02T22:29:41.766Z"
   },
   {
    "duration": 34,
    "start_time": "2022-12-02T22:29:41.798Z"
   },
   {
    "duration": 1925,
    "start_time": "2022-12-02T22:29:41.834Z"
   },
   {
    "duration": 9,
    "start_time": "2022-12-02T22:29:43.761Z"
   },
   {
    "duration": 3,
    "start_time": "2022-12-02T22:29:43.772Z"
   },
   {
    "duration": 31,
    "start_time": "2022-12-02T22:29:43.776Z"
   },
   {
    "duration": 17,
    "start_time": "2022-12-02T22:29:43.809Z"
   },
   {
    "duration": 82,
    "start_time": "2022-12-02T22:29:43.827Z"
   },
   {
    "duration": 23,
    "start_time": "2022-12-02T22:29:43.912Z"
   },
   {
    "duration": 74,
    "start_time": "2022-12-02T22:29:43.937Z"
   },
   {
    "duration": 127,
    "start_time": "2022-12-02T22:29:44.013Z"
   },
   {
    "duration": 169,
    "start_time": "2022-12-02T22:29:44.142Z"
   },
   {
    "duration": 15,
    "start_time": "2022-12-02T22:29:44.313Z"
   },
   {
    "duration": 14,
    "start_time": "2022-12-02T22:29:44.330Z"
   },
   {
    "duration": 16,
    "start_time": "2022-12-02T22:29:44.346Z"
   },
   {
    "duration": 44,
    "start_time": "2022-12-02T22:29:44.364Z"
   },
   {
    "duration": 15,
    "start_time": "2022-12-02T22:29:44.410Z"
   },
   {
    "duration": 253,
    "start_time": "2022-12-02T22:29:44.427Z"
   },
   {
    "duration": 32,
    "start_time": "2022-12-02T22:29:44.682Z"
   },
   {
    "duration": 28,
    "start_time": "2022-12-02T22:29:44.715Z"
   },
   {
    "duration": 291,
    "start_time": "2022-12-02T22:29:44.745Z"
   },
   {
    "duration": 26,
    "start_time": "2022-12-02T22:29:45.038Z"
   },
   {
    "duration": 2588,
    "start_time": "2022-12-02T22:29:45.065Z"
   },
   {
    "duration": 150,
    "start_time": "2022-12-02T22:29:47.654Z"
   },
   {
    "duration": 2111,
    "start_time": "2022-12-02T22:29:47.806Z"
   },
   {
    "duration": 87,
    "start_time": "2022-12-02T22:29:49.919Z"
   },
   {
    "duration": 328,
    "start_time": "2022-12-02T22:29:50.009Z"
   },
   {
    "duration": 195,
    "start_time": "2022-12-02T22:33:49.520Z"
   },
   {
    "duration": 149,
    "start_time": "2022-12-02T22:35:50.583Z"
   },
   {
    "duration": 145,
    "start_time": "2022-12-02T22:37:48.762Z"
   },
   {
    "duration": 288,
    "start_time": "2022-12-02T22:40:51.989Z"
   },
   {
    "duration": 274,
    "start_time": "2022-12-02T22:43:16.802Z"
   },
   {
    "duration": 350,
    "start_time": "2022-12-02T22:43:28.154Z"
   },
   {
    "duration": 3,
    "start_time": "2022-12-02T22:46:22.079Z"
   },
   {
    "duration": 92,
    "start_time": "2022-12-02T22:46:22.084Z"
   },
   {
    "duration": 15,
    "start_time": "2022-12-02T22:46:22.177Z"
   },
   {
    "duration": 36,
    "start_time": "2022-12-02T22:46:22.197Z"
   },
   {
    "duration": 1848,
    "start_time": "2022-12-02T22:46:22.234Z"
   },
   {
    "duration": 18,
    "start_time": "2022-12-02T22:46:24.084Z"
   },
   {
    "duration": 2,
    "start_time": "2022-12-02T22:46:24.104Z"
   },
   {
    "duration": 15,
    "start_time": "2022-12-02T22:46:24.108Z"
   },
   {
    "duration": 15,
    "start_time": "2022-12-02T22:46:24.126Z"
   },
   {
    "duration": 86,
    "start_time": "2022-12-02T22:46:24.142Z"
   },
   {
    "duration": 21,
    "start_time": "2022-12-02T22:46:24.229Z"
   },
   {
    "duration": 62,
    "start_time": "2022-12-02T22:46:24.252Z"
   },
   {
    "duration": 281,
    "start_time": "2022-12-02T22:46:24.316Z"
   },
   {
    "duration": 183,
    "start_time": "2022-12-02T22:46:24.599Z"
   },
   {
    "duration": 21,
    "start_time": "2022-12-02T22:46:24.784Z"
   },
   {
    "duration": 15,
    "start_time": "2022-12-02T22:46:24.806Z"
   },
   {
    "duration": 17,
    "start_time": "2022-12-02T22:46:24.823Z"
   },
   {
    "duration": 15,
    "start_time": "2022-12-02T22:46:24.841Z"
   },
   {
    "duration": 40,
    "start_time": "2022-12-02T22:46:24.858Z"
   },
   {
    "duration": 402,
    "start_time": "2022-12-02T22:46:24.900Z"
   },
   {
    "duration": 23,
    "start_time": "2022-12-02T22:46:25.303Z"
   },
   {
    "duration": 32,
    "start_time": "2022-12-02T22:46:25.328Z"
   },
   {
    "duration": 292,
    "start_time": "2022-12-02T22:46:25.362Z"
   },
   {
    "duration": 26,
    "start_time": "2022-12-02T22:46:25.657Z"
   },
   {
    "duration": 3542,
    "start_time": "2022-12-02T22:46:25.696Z"
   },
   {
    "duration": 197,
    "start_time": "2022-12-02T22:46:29.240Z"
   },
   {
    "duration": 1936,
    "start_time": "2022-12-02T22:46:29.439Z"
   },
   {
    "duration": 41,
    "start_time": "2022-12-02T22:46:31.377Z"
   },
   {
    "duration": 191,
    "start_time": "2022-12-02T22:46:31.420Z"
   },
   {
    "duration": 3,
    "start_time": "2022-12-02T22:48:39.644Z"
   },
   {
    "duration": 90,
    "start_time": "2022-12-02T22:48:39.649Z"
   },
   {
    "duration": 14,
    "start_time": "2022-12-02T22:48:39.740Z"
   },
   {
    "duration": 50,
    "start_time": "2022-12-02T22:48:39.755Z"
   },
   {
    "duration": 2053,
    "start_time": "2022-12-02T22:48:39.807Z"
   },
   {
    "duration": 9,
    "start_time": "2022-12-02T22:48:41.862Z"
   },
   {
    "duration": 24,
    "start_time": "2022-12-02T22:48:41.872Z"
   },
   {
    "duration": 12,
    "start_time": "2022-12-02T22:48:41.898Z"
   },
   {
    "duration": 15,
    "start_time": "2022-12-02T22:48:41.912Z"
   },
   {
    "duration": 83,
    "start_time": "2022-12-02T22:48:41.929Z"
   },
   {
    "duration": 22,
    "start_time": "2022-12-02T22:48:42.015Z"
   },
   {
    "duration": 59,
    "start_time": "2022-12-02T22:48:42.038Z"
   },
   {
    "duration": 171,
    "start_time": "2022-12-02T22:48:42.099Z"
   },
   {
    "duration": 172,
    "start_time": "2022-12-02T22:48:42.272Z"
   },
   {
    "duration": 14,
    "start_time": "2022-12-02T22:48:42.445Z"
   },
   {
    "duration": 15,
    "start_time": "2022-12-02T22:48:42.460Z"
   },
   {
    "duration": 16,
    "start_time": "2022-12-02T22:48:42.496Z"
   },
   {
    "duration": 13,
    "start_time": "2022-12-02T22:48:42.514Z"
   },
   {
    "duration": 12,
    "start_time": "2022-12-02T22:48:42.529Z"
   },
   {
    "duration": 215,
    "start_time": "2022-12-02T22:48:42.543Z"
   },
   {
    "duration": 21,
    "start_time": "2022-12-02T22:48:42.760Z"
   },
   {
    "duration": 38,
    "start_time": "2022-12-02T22:48:42.782Z"
   },
   {
    "duration": 233,
    "start_time": "2022-12-02T22:48:42.822Z"
   },
   {
    "duration": 24,
    "start_time": "2022-12-02T22:48:43.056Z"
   },
   {
    "duration": 2521,
    "start_time": "2022-12-02T22:48:43.082Z"
   },
   {
    "duration": 153,
    "start_time": "2022-12-02T22:48:45.604Z"
   },
   {
    "duration": 1686,
    "start_time": "2022-12-02T22:48:45.759Z"
   },
   {
    "duration": 31,
    "start_time": "2022-12-02T22:48:47.447Z"
   },
   {
    "duration": 194,
    "start_time": "2022-12-02T22:48:47.481Z"
   },
   {
    "duration": 293,
    "start_time": "2022-12-02T22:49:19.745Z"
   },
   {
    "duration": 49,
    "start_time": "2022-12-03T12:58:30.624Z"
   },
   {
    "duration": 49,
    "start_time": "2022-12-03T12:58:39.905Z"
   },
   {
    "duration": 806,
    "start_time": "2022-12-03T12:58:45.356Z"
   },
   {
    "duration": 317,
    "start_time": "2022-12-03T12:58:46.164Z"
   },
   {
    "duration": 15,
    "start_time": "2022-12-03T12:58:46.483Z"
   },
   {
    "duration": 36,
    "start_time": "2022-12-03T12:58:46.499Z"
   },
   {
    "duration": 2588,
    "start_time": "2022-12-03T12:58:46.537Z"
   },
   {
    "duration": 9,
    "start_time": "2022-12-03T12:58:49.127Z"
   },
   {
    "duration": 42,
    "start_time": "2022-12-03T12:58:49.138Z"
   },
   {
    "duration": 13,
    "start_time": "2022-12-03T12:58:49.181Z"
   },
   {
    "duration": 14,
    "start_time": "2022-12-03T12:58:49.196Z"
   },
   {
    "duration": 166,
    "start_time": "2022-12-03T12:58:49.211Z"
   },
   {
    "duration": 23,
    "start_time": "2022-12-03T12:58:49.378Z"
   },
   {
    "duration": 39,
    "start_time": "2022-12-03T12:58:49.403Z"
   },
   {
    "duration": 765,
    "start_time": "2022-12-03T12:58:49.476Z"
   },
   {
    "duration": 0,
    "start_time": "2022-12-03T12:58:50.243Z"
   },
   {
    "duration": 0,
    "start_time": "2022-12-03T12:58:50.245Z"
   },
   {
    "duration": 0,
    "start_time": "2022-12-03T12:58:50.246Z"
   },
   {
    "duration": 0,
    "start_time": "2022-12-03T12:58:50.248Z"
   },
   {
    "duration": 0,
    "start_time": "2022-12-03T12:58:50.249Z"
   },
   {
    "duration": 0,
    "start_time": "2022-12-03T12:58:50.251Z"
   },
   {
    "duration": 0,
    "start_time": "2022-12-03T12:58:50.252Z"
   },
   {
    "duration": 0,
    "start_time": "2022-12-03T12:58:50.254Z"
   },
   {
    "duration": 0,
    "start_time": "2022-12-03T12:58:50.255Z"
   },
   {
    "duration": 0,
    "start_time": "2022-12-03T12:58:50.257Z"
   },
   {
    "duration": 0,
    "start_time": "2022-12-03T12:58:50.258Z"
   },
   {
    "duration": 0,
    "start_time": "2022-12-03T12:58:50.259Z"
   },
   {
    "duration": 0,
    "start_time": "2022-12-03T12:58:50.260Z"
   },
   {
    "duration": 0,
    "start_time": "2022-12-03T12:58:50.262Z"
   },
   {
    "duration": 0,
    "start_time": "2022-12-03T12:58:50.263Z"
   },
   {
    "duration": 0,
    "start_time": "2022-12-03T12:58:50.264Z"
   },
   {
    "duration": 16,
    "start_time": "2022-12-03T13:01:32.927Z"
   },
   {
    "duration": 19,
    "start_time": "2022-12-03T13:04:28.690Z"
   },
   {
    "duration": 20,
    "start_time": "2022-12-03T13:04:44.194Z"
   },
   {
    "duration": 39,
    "start_time": "2022-12-03T13:05:45.677Z"
   },
   {
    "duration": 17,
    "start_time": "2022-12-03T13:06:08.965Z"
   },
   {
    "duration": 32,
    "start_time": "2022-12-03T13:12:01.678Z"
   },
   {
    "duration": 44,
    "start_time": "2022-12-03T13:12:52.182Z"
   },
   {
    "duration": 5987,
    "start_time": "2022-12-03T13:13:04.111Z"
   },
   {
    "duration": 317,
    "start_time": "2022-12-03T13:13:57.806Z"
   },
   {
    "duration": 336,
    "start_time": "2022-12-03T13:18:58.444Z"
   },
   {
    "duration": 53,
    "start_time": "2022-12-03T13:19:08.990Z"
   },
   {
    "duration": 31,
    "start_time": "2022-12-03T13:26:14.607Z"
   },
   {
    "duration": 48,
    "start_time": "2022-12-03T13:29:26.534Z"
   },
   {
    "duration": 57,
    "start_time": "2022-12-03T13:30:35.956Z"
   },
   {
    "duration": 46,
    "start_time": "2022-12-03T13:30:49.500Z"
   },
   {
    "duration": 71,
    "start_time": "2022-12-03T13:31:37.834Z"
   },
   {
    "duration": 52,
    "start_time": "2022-12-03T13:31:49.887Z"
   },
   {
    "duration": 22,
    "start_time": "2022-12-03T13:32:56.719Z"
   },
   {
    "duration": 16,
    "start_time": "2022-12-03T13:35:40.908Z"
   },
   {
    "duration": 22,
    "start_time": "2022-12-03T13:36:16.548Z"
   },
   {
    "duration": 23,
    "start_time": "2022-12-03T13:38:49.094Z"
   },
   {
    "duration": 25,
    "start_time": "2022-12-03T13:40:05.590Z"
   },
   {
    "duration": 28,
    "start_time": "2022-12-03T13:46:06.467Z"
   },
   {
    "duration": 17,
    "start_time": "2022-12-03T13:48:17.623Z"
   },
   {
    "duration": 31,
    "start_time": "2022-12-03T13:48:56.511Z"
   },
   {
    "duration": 52,
    "start_time": "2022-12-03T13:50:07.866Z"
   },
   {
    "duration": 68,
    "start_time": "2022-12-03T13:50:21.030Z"
   },
   {
    "duration": 3,
    "start_time": "2022-12-03T13:50:24.396Z"
   },
   {
    "duration": 94,
    "start_time": "2022-12-03T13:50:24.400Z"
   },
   {
    "duration": 13,
    "start_time": "2022-12-03T13:50:24.496Z"
   },
   {
    "duration": 28,
    "start_time": "2022-12-03T13:50:24.510Z"
   },
   {
    "duration": 1847,
    "start_time": "2022-12-03T13:50:24.540Z"
   },
   {
    "duration": 10,
    "start_time": "2022-12-03T13:50:26.389Z"
   },
   {
    "duration": 17,
    "start_time": "2022-12-03T13:50:26.400Z"
   },
   {
    "duration": 12,
    "start_time": "2022-12-03T13:50:26.419Z"
   },
   {
    "duration": 11,
    "start_time": "2022-12-03T13:50:26.433Z"
   },
   {
    "duration": 60,
    "start_time": "2022-12-03T13:50:26.445Z"
   },
   {
    "duration": 18,
    "start_time": "2022-12-03T13:50:26.507Z"
   },
   {
    "duration": 59,
    "start_time": "2022-12-03T13:50:26.526Z"
   },
   {
    "duration": 86,
    "start_time": "2022-12-03T13:50:26.587Z"
   },
   {
    "duration": 0,
    "start_time": "2022-12-03T13:50:26.675Z"
   },
   {
    "duration": 0,
    "start_time": "2022-12-03T13:50:26.680Z"
   },
   {
    "duration": 0,
    "start_time": "2022-12-03T13:50:26.681Z"
   },
   {
    "duration": 0,
    "start_time": "2022-12-03T13:50:26.681Z"
   },
   {
    "duration": 0,
    "start_time": "2022-12-03T13:50:26.682Z"
   },
   {
    "duration": 0,
    "start_time": "2022-12-03T13:50:26.683Z"
   },
   {
    "duration": 0,
    "start_time": "2022-12-03T13:50:26.683Z"
   },
   {
    "duration": 0,
    "start_time": "2022-12-03T13:50:26.685Z"
   },
   {
    "duration": 0,
    "start_time": "2022-12-03T13:50:26.686Z"
   },
   {
    "duration": 0,
    "start_time": "2022-12-03T13:50:26.687Z"
   },
   {
    "duration": 0,
    "start_time": "2022-12-03T13:50:26.688Z"
   },
   {
    "duration": 0,
    "start_time": "2022-12-03T13:50:26.689Z"
   },
   {
    "duration": 0,
    "start_time": "2022-12-03T13:50:26.690Z"
   },
   {
    "duration": 0,
    "start_time": "2022-12-03T13:50:26.691Z"
   },
   {
    "duration": 0,
    "start_time": "2022-12-03T13:50:26.692Z"
   },
   {
    "duration": 0,
    "start_time": "2022-12-03T13:50:26.693Z"
   },
   {
    "duration": 56,
    "start_time": "2022-12-03T13:51:16.651Z"
   },
   {
    "duration": 553,
    "start_time": "2022-12-03T13:51:27.813Z"
   },
   {
    "duration": 94,
    "start_time": "2022-12-03T13:51:28.368Z"
   },
   {
    "duration": 25,
    "start_time": "2022-12-03T13:51:28.463Z"
   },
   {
    "duration": 32,
    "start_time": "2022-12-03T13:51:28.491Z"
   },
   {
    "duration": 1797,
    "start_time": "2022-12-03T13:51:28.524Z"
   },
   {
    "duration": 10,
    "start_time": "2022-12-03T13:51:30.323Z"
   },
   {
    "duration": 23,
    "start_time": "2022-12-03T13:51:30.335Z"
   },
   {
    "duration": 48,
    "start_time": "2022-12-03T13:51:30.359Z"
   },
   {
    "duration": 29,
    "start_time": "2022-12-03T13:51:30.409Z"
   },
   {
    "duration": 84,
    "start_time": "2022-12-03T13:51:30.440Z"
   },
   {
    "duration": 78,
    "start_time": "2022-12-03T13:51:30.525Z"
   },
   {
    "duration": 93,
    "start_time": "2022-12-03T13:51:30.605Z"
   },
   {
    "duration": 42,
    "start_time": "2022-12-03T13:51:30.699Z"
   },
   {
    "duration": 0,
    "start_time": "2022-12-03T13:51:30.743Z"
   },
   {
    "duration": 0,
    "start_time": "2022-12-03T13:51:30.744Z"
   },
   {
    "duration": 0,
    "start_time": "2022-12-03T13:51:30.745Z"
   },
   {
    "duration": 0,
    "start_time": "2022-12-03T13:51:30.778Z"
   },
   {
    "duration": 0,
    "start_time": "2022-12-03T13:51:30.779Z"
   },
   {
    "duration": 0,
    "start_time": "2022-12-03T13:51:30.779Z"
   },
   {
    "duration": 0,
    "start_time": "2022-12-03T13:51:30.780Z"
   },
   {
    "duration": 0,
    "start_time": "2022-12-03T13:51:30.781Z"
   },
   {
    "duration": 0,
    "start_time": "2022-12-03T13:51:30.782Z"
   },
   {
    "duration": 0,
    "start_time": "2022-12-03T13:51:30.782Z"
   },
   {
    "duration": 0,
    "start_time": "2022-12-03T13:51:30.783Z"
   },
   {
    "duration": 0,
    "start_time": "2022-12-03T13:51:30.784Z"
   },
   {
    "duration": 0,
    "start_time": "2022-12-03T13:51:30.785Z"
   },
   {
    "duration": 0,
    "start_time": "2022-12-03T13:51:30.786Z"
   },
   {
    "duration": 0,
    "start_time": "2022-12-03T13:51:30.790Z"
   },
   {
    "duration": 0,
    "start_time": "2022-12-03T13:51:30.791Z"
   },
   {
    "duration": 38,
    "start_time": "2022-12-03T13:51:46.635Z"
   },
   {
    "duration": 7,
    "start_time": "2022-12-03T13:52:00.276Z"
   },
   {
    "duration": 132,
    "start_time": "2022-12-03T13:52:00.297Z"
   },
   {
    "duration": 14,
    "start_time": "2022-12-03T13:52:00.432Z"
   },
   {
    "duration": 50,
    "start_time": "2022-12-03T13:52:00.448Z"
   },
   {
    "duration": 1915,
    "start_time": "2022-12-03T13:52:00.500Z"
   },
   {
    "duration": 8,
    "start_time": "2022-12-03T13:52:02.417Z"
   },
   {
    "duration": 34,
    "start_time": "2022-12-03T13:52:02.426Z"
   },
   {
    "duration": 11,
    "start_time": "2022-12-03T13:52:02.461Z"
   },
   {
    "duration": 24,
    "start_time": "2022-12-03T13:52:02.473Z"
   },
   {
    "duration": 55,
    "start_time": "2022-12-03T13:52:02.499Z"
   },
   {
    "duration": 30,
    "start_time": "2022-12-03T13:52:02.555Z"
   },
   {
    "duration": 38,
    "start_time": "2022-12-03T13:52:02.587Z"
   },
   {
    "duration": 43,
    "start_time": "2022-12-03T13:52:02.627Z"
   },
   {
    "duration": 0,
    "start_time": "2022-12-03T13:52:02.672Z"
   },
   {
    "duration": 0,
    "start_time": "2022-12-03T13:52:02.673Z"
   },
   {
    "duration": 0,
    "start_time": "2022-12-03T13:52:02.675Z"
   },
   {
    "duration": 0,
    "start_time": "2022-12-03T13:52:02.676Z"
   },
   {
    "duration": 0,
    "start_time": "2022-12-03T13:52:02.678Z"
   },
   {
    "duration": 0,
    "start_time": "2022-12-03T13:52:02.679Z"
   },
   {
    "duration": 0,
    "start_time": "2022-12-03T13:52:02.679Z"
   },
   {
    "duration": 0,
    "start_time": "2022-12-03T13:52:02.680Z"
   },
   {
    "duration": 0,
    "start_time": "2022-12-03T13:52:02.681Z"
   },
   {
    "duration": 0,
    "start_time": "2022-12-03T13:52:02.682Z"
   },
   {
    "duration": 0,
    "start_time": "2022-12-03T13:52:02.682Z"
   },
   {
    "duration": 0,
    "start_time": "2022-12-03T13:52:02.683Z"
   },
   {
    "duration": 0,
    "start_time": "2022-12-03T13:52:02.683Z"
   },
   {
    "duration": 0,
    "start_time": "2022-12-03T13:52:02.684Z"
   },
   {
    "duration": 0,
    "start_time": "2022-12-03T13:52:02.685Z"
   },
   {
    "duration": 0,
    "start_time": "2022-12-03T13:52:02.685Z"
   },
   {
    "duration": 3,
    "start_time": "2022-12-03T13:52:55.856Z"
   },
   {
    "duration": 96,
    "start_time": "2022-12-03T13:52:55.861Z"
   },
   {
    "duration": 13,
    "start_time": "2022-12-03T13:52:55.959Z"
   },
   {
    "duration": 34,
    "start_time": "2022-12-03T13:52:55.973Z"
   },
   {
    "duration": 1815,
    "start_time": "2022-12-03T13:52:56.009Z"
   },
   {
    "duration": 9,
    "start_time": "2022-12-03T13:52:57.826Z"
   },
   {
    "duration": 6,
    "start_time": "2022-12-03T13:52:57.837Z"
   },
   {
    "duration": 44,
    "start_time": "2022-12-03T13:52:57.844Z"
   },
   {
    "duration": 14,
    "start_time": "2022-12-03T13:52:57.890Z"
   },
   {
    "duration": 51,
    "start_time": "2022-12-03T13:52:57.906Z"
   },
   {
    "duration": 44,
    "start_time": "2022-12-03T13:52:57.959Z"
   },
   {
    "duration": 27,
    "start_time": "2022-12-03T13:52:58.004Z"
   },
   {
    "duration": 109,
    "start_time": "2022-12-03T13:52:58.032Z"
   },
   {
    "duration": 0,
    "start_time": "2022-12-03T13:52:58.143Z"
   },
   {
    "duration": 0,
    "start_time": "2022-12-03T13:52:58.144Z"
   },
   {
    "duration": 0,
    "start_time": "2022-12-03T13:52:58.145Z"
   },
   {
    "duration": 0,
    "start_time": "2022-12-03T13:52:58.146Z"
   },
   {
    "duration": 0,
    "start_time": "2022-12-03T13:52:58.147Z"
   },
   {
    "duration": 0,
    "start_time": "2022-12-03T13:52:58.148Z"
   },
   {
    "duration": 0,
    "start_time": "2022-12-03T13:52:58.148Z"
   },
   {
    "duration": 0,
    "start_time": "2022-12-03T13:52:58.149Z"
   },
   {
    "duration": 0,
    "start_time": "2022-12-03T13:52:58.150Z"
   },
   {
    "duration": 0,
    "start_time": "2022-12-03T13:52:58.151Z"
   },
   {
    "duration": 0,
    "start_time": "2022-12-03T13:52:58.151Z"
   },
   {
    "duration": 0,
    "start_time": "2022-12-03T13:52:58.152Z"
   },
   {
    "duration": 0,
    "start_time": "2022-12-03T13:52:58.153Z"
   },
   {
    "duration": 0,
    "start_time": "2022-12-03T13:52:58.154Z"
   },
   {
    "duration": 0,
    "start_time": "2022-12-03T13:52:58.155Z"
   },
   {
    "duration": 0,
    "start_time": "2022-12-03T13:52:58.156Z"
   },
   {
    "duration": 44,
    "start_time": "2022-12-03T13:53:12.196Z"
   },
   {
    "duration": 609,
    "start_time": "2022-12-03T13:53:29.092Z"
   },
   {
    "duration": 99,
    "start_time": "2022-12-03T13:53:29.702Z"
   },
   {
    "duration": 15,
    "start_time": "2022-12-03T13:53:29.802Z"
   },
   {
    "duration": 39,
    "start_time": "2022-12-03T13:53:29.818Z"
   },
   {
    "duration": 1802,
    "start_time": "2022-12-03T13:53:29.859Z"
   },
   {
    "duration": 9,
    "start_time": "2022-12-03T13:53:31.662Z"
   },
   {
    "duration": 36,
    "start_time": "2022-12-03T13:53:31.672Z"
   },
   {
    "duration": 31,
    "start_time": "2022-12-03T13:53:31.710Z"
   },
   {
    "duration": 15,
    "start_time": "2022-12-03T13:53:31.742Z"
   },
   {
    "duration": 53,
    "start_time": "2022-12-03T13:53:31.758Z"
   },
   {
    "duration": 19,
    "start_time": "2022-12-03T13:53:31.813Z"
   },
   {
    "duration": 50,
    "start_time": "2022-12-03T13:53:31.833Z"
   },
   {
    "duration": 55,
    "start_time": "2022-12-03T13:53:31.885Z"
   },
   {
    "duration": 0,
    "start_time": "2022-12-03T13:53:31.942Z"
   },
   {
    "duration": 0,
    "start_time": "2022-12-03T13:53:31.944Z"
   },
   {
    "duration": 0,
    "start_time": "2022-12-03T13:53:31.945Z"
   },
   {
    "duration": 0,
    "start_time": "2022-12-03T13:53:31.946Z"
   },
   {
    "duration": 0,
    "start_time": "2022-12-03T13:53:31.947Z"
   },
   {
    "duration": 0,
    "start_time": "2022-12-03T13:53:31.948Z"
   },
   {
    "duration": 0,
    "start_time": "2022-12-03T13:53:31.949Z"
   },
   {
    "duration": 0,
    "start_time": "2022-12-03T13:53:31.950Z"
   },
   {
    "duration": 0,
    "start_time": "2022-12-03T13:53:31.950Z"
   },
   {
    "duration": 0,
    "start_time": "2022-12-03T13:53:31.951Z"
   },
   {
    "duration": 0,
    "start_time": "2022-12-03T13:53:31.952Z"
   },
   {
    "duration": 0,
    "start_time": "2022-12-03T13:53:31.953Z"
   },
   {
    "duration": 0,
    "start_time": "2022-12-03T13:53:31.954Z"
   },
   {
    "duration": 0,
    "start_time": "2022-12-03T13:53:31.955Z"
   },
   {
    "duration": 0,
    "start_time": "2022-12-03T13:53:31.956Z"
   },
   {
    "duration": 0,
    "start_time": "2022-12-03T13:53:31.957Z"
   },
   {
    "duration": 50,
    "start_time": "2022-12-03T13:54:21.147Z"
   },
   {
    "duration": 20,
    "start_time": "2022-12-03T13:54:55.096Z"
   },
   {
    "duration": 36,
    "start_time": "2022-12-03T13:55:12.012Z"
   },
   {
    "duration": 4,
    "start_time": "2022-12-03T13:56:17.513Z"
   },
   {
    "duration": 107,
    "start_time": "2022-12-03T13:56:17.519Z"
   },
   {
    "duration": 13,
    "start_time": "2022-12-03T13:56:17.628Z"
   },
   {
    "duration": 45,
    "start_time": "2022-12-03T13:56:17.643Z"
   },
   {
    "duration": 1706,
    "start_time": "2022-12-03T13:56:17.690Z"
   },
   {
    "duration": 8,
    "start_time": "2022-12-03T13:56:19.398Z"
   },
   {
    "duration": 6,
    "start_time": "2022-12-03T13:56:19.408Z"
   },
   {
    "duration": 11,
    "start_time": "2022-12-03T13:56:19.415Z"
   },
   {
    "duration": 11,
    "start_time": "2022-12-03T13:56:19.427Z"
   },
   {
    "duration": 82,
    "start_time": "2022-12-03T13:56:19.439Z"
   },
   {
    "duration": 18,
    "start_time": "2022-12-03T13:56:19.524Z"
   },
   {
    "duration": 50,
    "start_time": "2022-12-03T13:56:19.544Z"
   },
   {
    "duration": 36,
    "start_time": "2022-12-03T13:56:19.595Z"
   },
   {
    "duration": 177,
    "start_time": "2022-12-03T13:56:19.633Z"
   },
   {
    "duration": 12,
    "start_time": "2022-12-03T13:56:19.811Z"
   },
   {
    "duration": 12,
    "start_time": "2022-12-03T13:56:19.824Z"
   },
   {
    "duration": 13,
    "start_time": "2022-12-03T13:56:19.837Z"
   },
   {
    "duration": 31,
    "start_time": "2022-12-03T13:56:19.851Z"
   },
   {
    "duration": 11,
    "start_time": "2022-12-03T13:56:19.883Z"
   },
   {
    "duration": 187,
    "start_time": "2022-12-03T13:56:19.896Z"
   },
   {
    "duration": 19,
    "start_time": "2022-12-03T13:56:20.084Z"
   },
   {
    "duration": 38,
    "start_time": "2022-12-03T13:56:20.105Z"
   },
   {
    "duration": 209,
    "start_time": "2022-12-03T13:56:20.144Z"
   },
   {
    "duration": 24,
    "start_time": "2022-12-03T13:56:20.354Z"
   },
   {
    "duration": 3118,
    "start_time": "2022-12-03T13:56:20.379Z"
   },
   {
    "duration": 146,
    "start_time": "2022-12-03T13:56:23.498Z"
   },
   {
    "duration": 1785,
    "start_time": "2022-12-03T13:56:23.645Z"
   },
   {
    "duration": 27,
    "start_time": "2022-12-03T13:56:25.431Z"
   },
   {
    "duration": 165,
    "start_time": "2022-12-03T13:56:25.475Z"
   },
   {
    "duration": 39,
    "start_time": "2022-12-03T13:59:38.194Z"
   },
   {
    "duration": 596,
    "start_time": "2022-12-03T13:59:56.940Z"
   },
   {
    "duration": 99,
    "start_time": "2022-12-03T13:59:57.538Z"
   },
   {
    "duration": 15,
    "start_time": "2022-12-03T13:59:57.638Z"
   },
   {
    "duration": 52,
    "start_time": "2022-12-03T13:59:57.655Z"
   },
   {
    "duration": 2132,
    "start_time": "2022-12-03T13:59:57.709Z"
   },
   {
    "duration": 9,
    "start_time": "2022-12-03T13:59:59.877Z"
   },
   {
    "duration": 11,
    "start_time": "2022-12-03T13:59:59.888Z"
   },
   {
    "duration": 17,
    "start_time": "2022-12-03T13:59:59.900Z"
   },
   {
    "duration": 61,
    "start_time": "2022-12-03T13:59:59.918Z"
   },
   {
    "duration": 105,
    "start_time": "2022-12-03T13:59:59.982Z"
   },
   {
    "duration": 21,
    "start_time": "2022-12-03T14:00:00.088Z"
   },
   {
    "duration": 102,
    "start_time": "2022-12-03T14:00:00.111Z"
   },
   {
    "duration": 99,
    "start_time": "2022-12-03T14:00:00.215Z"
   },
   {
    "duration": 363,
    "start_time": "2022-12-03T14:00:00.315Z"
   },
   {
    "duration": 12,
    "start_time": "2022-12-03T14:00:00.680Z"
   },
   {
    "duration": 18,
    "start_time": "2022-12-03T14:00:00.693Z"
   },
   {
    "duration": 78,
    "start_time": "2022-12-03T14:00:00.713Z"
   },
   {
    "duration": 33,
    "start_time": "2022-12-03T14:00:00.792Z"
   },
   {
    "duration": 57,
    "start_time": "2022-12-03T14:00:00.826Z"
   },
   {
    "duration": 294,
    "start_time": "2022-12-03T14:00:00.885Z"
   },
   {
    "duration": 21,
    "start_time": "2022-12-03T14:00:01.181Z"
   },
   {
    "duration": 97,
    "start_time": "2022-12-03T14:00:01.204Z"
   },
   {
    "duration": 275,
    "start_time": "2022-12-03T14:00:01.303Z"
   },
   {
    "duration": 22,
    "start_time": "2022-12-03T14:00:01.580Z"
   },
   {
    "duration": 2541,
    "start_time": "2022-12-03T14:00:01.604Z"
   },
   {
    "duration": 144,
    "start_time": "2022-12-03T14:00:04.147Z"
   },
   {
    "duration": 1963,
    "start_time": "2022-12-03T14:00:04.293Z"
   },
   {
    "duration": 37,
    "start_time": "2022-12-03T14:00:06.259Z"
   },
   {
    "duration": 182,
    "start_time": "2022-12-03T14:00:06.297Z"
   },
   {
    "duration": 45,
    "start_time": "2022-12-03T14:01:49.931Z"
   },
   {
    "duration": 25,
    "start_time": "2022-12-03T14:01:59.745Z"
   },
   {
    "duration": 4,
    "start_time": "2022-12-03T14:05:06.694Z"
   },
   {
    "duration": 107,
    "start_time": "2022-12-03T14:05:06.699Z"
   },
   {
    "duration": 15,
    "start_time": "2022-12-03T14:05:06.808Z"
   },
   {
    "duration": 54,
    "start_time": "2022-12-03T14:05:06.825Z"
   },
   {
    "duration": 2248,
    "start_time": "2022-12-03T14:05:06.893Z"
   },
   {
    "duration": 10,
    "start_time": "2022-12-03T14:05:09.142Z"
   },
   {
    "duration": 35,
    "start_time": "2022-12-03T14:05:09.154Z"
   },
   {
    "duration": 22,
    "start_time": "2022-12-03T14:05:09.191Z"
   },
   {
    "duration": 20,
    "start_time": "2022-12-03T14:05:09.216Z"
   },
   {
    "duration": 75,
    "start_time": "2022-12-03T14:05:09.237Z"
   },
   {
    "duration": 23,
    "start_time": "2022-12-03T14:05:09.314Z"
   },
   {
    "duration": 67,
    "start_time": "2022-12-03T14:05:09.339Z"
   },
   {
    "duration": 47,
    "start_time": "2022-12-03T14:05:09.407Z"
   },
   {
    "duration": 230,
    "start_time": "2022-12-03T14:05:09.456Z"
   },
   {
    "duration": 15,
    "start_time": "2022-12-03T14:05:09.687Z"
   },
   {
    "duration": 14,
    "start_time": "2022-12-03T14:05:09.704Z"
   },
   {
    "duration": 15,
    "start_time": "2022-12-03T14:05:09.720Z"
   },
   {
    "duration": 18,
    "start_time": "2022-12-03T14:05:09.736Z"
   },
   {
    "duration": 23,
    "start_time": "2022-12-03T14:05:09.776Z"
   },
   {
    "duration": 246,
    "start_time": "2022-12-03T14:05:09.801Z"
   },
   {
    "duration": 45,
    "start_time": "2022-12-03T14:05:10.049Z"
   },
   {
    "duration": 36,
    "start_time": "2022-12-03T14:05:10.096Z"
   },
   {
    "duration": 264,
    "start_time": "2022-12-03T14:05:10.133Z"
   },
   {
    "duration": 26,
    "start_time": "2022-12-03T14:05:10.400Z"
   },
   {
    "duration": 4021,
    "start_time": "2022-12-03T14:05:10.428Z"
   },
   {
    "duration": 145,
    "start_time": "2022-12-03T14:05:14.451Z"
   },
   {
    "duration": 1878,
    "start_time": "2022-12-03T14:05:14.597Z"
   },
   {
    "duration": 43,
    "start_time": "2022-12-03T14:05:16.477Z"
   },
   {
    "duration": 178,
    "start_time": "2022-12-03T14:05:16.522Z"
   },
   {
    "duration": 53,
    "start_time": "2022-12-03T14:05:48.537Z"
   },
   {
    "duration": 58,
    "start_time": "2022-12-03T14:06:19.508Z"
   },
   {
    "duration": 22,
    "start_time": "2022-12-03T14:10:36.614Z"
   },
   {
    "duration": 191,
    "start_time": "2022-12-03T14:11:02.888Z"
   },
   {
    "duration": 4,
    "start_time": "2022-12-03T14:15:23.851Z"
   },
   {
    "duration": 97,
    "start_time": "2022-12-03T14:15:23.856Z"
   },
   {
    "duration": 13,
    "start_time": "2022-12-03T14:15:23.954Z"
   },
   {
    "duration": 30,
    "start_time": "2022-12-03T14:15:23.968Z"
   },
   {
    "duration": 1908,
    "start_time": "2022-12-03T14:15:24.001Z"
   },
   {
    "duration": 10,
    "start_time": "2022-12-03T14:15:25.911Z"
   },
   {
    "duration": 10,
    "start_time": "2022-12-03T14:15:25.922Z"
   },
   {
    "duration": 13,
    "start_time": "2022-12-03T14:15:25.933Z"
   },
   {
    "duration": 28,
    "start_time": "2022-12-03T14:15:25.948Z"
   },
   {
    "duration": 49,
    "start_time": "2022-12-03T14:15:25.977Z"
   },
   {
    "duration": 46,
    "start_time": "2022-12-03T14:15:26.030Z"
   },
   {
    "duration": 150,
    "start_time": "2022-12-03T14:15:26.078Z"
   },
   {
    "duration": 163,
    "start_time": "2022-12-03T14:15:26.230Z"
   },
   {
    "duration": 159,
    "start_time": "2022-12-03T14:15:26.395Z"
   },
   {
    "duration": 20,
    "start_time": "2022-12-03T14:15:26.556Z"
   },
   {
    "duration": 13,
    "start_time": "2022-12-03T14:15:26.577Z"
   },
   {
    "duration": 15,
    "start_time": "2022-12-03T14:15:26.591Z"
   },
   {
    "duration": 12,
    "start_time": "2022-12-03T14:15:26.608Z"
   },
   {
    "duration": 14,
    "start_time": "2022-12-03T14:15:26.621Z"
   },
   {
    "duration": 216,
    "start_time": "2022-12-03T14:15:26.636Z"
   },
   {
    "duration": 25,
    "start_time": "2022-12-03T14:15:26.853Z"
   },
   {
    "duration": 26,
    "start_time": "2022-12-03T14:15:26.880Z"
   },
   {
    "duration": 223,
    "start_time": "2022-12-03T14:15:26.908Z"
   },
   {
    "duration": 23,
    "start_time": "2022-12-03T14:15:27.133Z"
   },
   {
    "duration": 2363,
    "start_time": "2022-12-03T14:15:27.158Z"
   },
   {
    "duration": 239,
    "start_time": "2022-12-03T14:15:29.576Z"
   },
   {
    "duration": 2172,
    "start_time": "2022-12-03T14:15:29.817Z"
   },
   {
    "duration": 30,
    "start_time": "2022-12-03T14:15:31.992Z"
   },
   {
    "duration": 180,
    "start_time": "2022-12-03T14:15:32.026Z"
   },
   {
    "duration": 106,
    "start_time": "2022-12-03T14:18:35.665Z"
   },
   {
    "duration": 181,
    "start_time": "2022-12-03T14:18:47.387Z"
   },
   {
    "duration": 4,
    "start_time": "2022-12-03T14:18:53.643Z"
   },
   {
    "duration": 134,
    "start_time": "2022-12-03T14:18:53.649Z"
   },
   {
    "duration": 15,
    "start_time": "2022-12-03T14:18:53.784Z"
   },
   {
    "duration": 45,
    "start_time": "2022-12-03T14:18:53.800Z"
   },
   {
    "duration": 2961,
    "start_time": "2022-12-03T14:18:53.847Z"
   },
   {
    "duration": 13,
    "start_time": "2022-12-03T14:18:56.810Z"
   },
   {
    "duration": 60,
    "start_time": "2022-12-03T14:18:56.824Z"
   },
   {
    "duration": 16,
    "start_time": "2022-12-03T14:18:56.886Z"
   },
   {
    "duration": 15,
    "start_time": "2022-12-03T14:18:56.904Z"
   },
   {
    "duration": 169,
    "start_time": "2022-12-03T14:18:56.920Z"
   },
   {
    "duration": 21,
    "start_time": "2022-12-03T14:18:57.091Z"
   },
   {
    "duration": 175,
    "start_time": "2022-12-03T14:18:57.114Z"
   },
   {
    "duration": 87,
    "start_time": "2022-12-03T14:18:57.291Z"
   },
   {
    "duration": 182,
    "start_time": "2022-12-03T14:18:57.381Z"
   },
   {
    "duration": 18,
    "start_time": "2022-12-03T14:18:57.565Z"
   },
   {
    "duration": 15,
    "start_time": "2022-12-03T14:18:57.584Z"
   },
   {
    "duration": 18,
    "start_time": "2022-12-03T14:18:57.601Z"
   },
   {
    "duration": 14,
    "start_time": "2022-12-03T14:18:57.621Z"
   },
   {
    "duration": 46,
    "start_time": "2022-12-03T14:18:57.637Z"
   },
   {
    "duration": 218,
    "start_time": "2022-12-03T14:18:57.685Z"
   },
   {
    "duration": 23,
    "start_time": "2022-12-03T14:18:57.905Z"
   },
   {
    "duration": 51,
    "start_time": "2022-12-03T14:18:57.929Z"
   },
   {
    "duration": 235,
    "start_time": "2022-12-03T14:18:57.982Z"
   },
   {
    "duration": 25,
    "start_time": "2022-12-03T14:18:58.219Z"
   },
   {
    "duration": 2939,
    "start_time": "2022-12-03T14:18:58.245Z"
   },
   {
    "duration": 155,
    "start_time": "2022-12-03T14:19:01.186Z"
   },
   {
    "duration": 1944,
    "start_time": "2022-12-03T14:19:01.343Z"
   },
   {
    "duration": 33,
    "start_time": "2022-12-03T14:19:03.289Z"
   },
   {
    "duration": 193,
    "start_time": "2022-12-03T14:19:03.324Z"
   },
   {
    "duration": 52,
    "start_time": "2022-12-03T14:19:08.353Z"
   },
   {
    "duration": 156,
    "start_time": "2022-12-03T14:19:58.491Z"
   },
   {
    "duration": 15,
    "start_time": "2022-12-03T14:27:22.304Z"
   },
   {
    "duration": 21,
    "start_time": "2022-12-03T14:28:34.581Z"
   },
   {
    "duration": 14,
    "start_time": "2022-12-03T14:38:51.830Z"
   },
   {
    "duration": 3,
    "start_time": "2022-12-03T14:38:57.641Z"
   },
   {
    "duration": 105,
    "start_time": "2022-12-03T14:38:57.646Z"
   },
   {
    "duration": 14,
    "start_time": "2022-12-03T14:38:57.752Z"
   },
   {
    "duration": 36,
    "start_time": "2022-12-03T14:38:57.895Z"
   },
   {
    "duration": 1847,
    "start_time": "2022-12-03T14:38:57.933Z"
   },
   {
    "duration": 9,
    "start_time": "2022-12-03T14:38:59.782Z"
   },
   {
    "duration": 11,
    "start_time": "2022-12-03T14:38:59.792Z"
   },
   {
    "duration": 11,
    "start_time": "2022-12-03T14:38:59.805Z"
   },
   {
    "duration": 12,
    "start_time": "2022-12-03T14:38:59.818Z"
   },
   {
    "duration": 85,
    "start_time": "2022-12-03T14:38:59.832Z"
   },
   {
    "duration": 22,
    "start_time": "2022-12-03T14:38:59.919Z"
   },
   {
    "duration": 196,
    "start_time": "2022-12-03T14:38:59.943Z"
   },
   {
    "duration": 62,
    "start_time": "2022-12-03T14:39:00.140Z"
   },
   {
    "duration": 186,
    "start_time": "2022-12-03T14:39:00.204Z"
   },
   {
    "duration": 15,
    "start_time": "2022-12-03T14:39:00.392Z"
   },
   {
    "duration": 40,
    "start_time": "2022-12-03T14:39:00.409Z"
   },
   {
    "duration": 23,
    "start_time": "2022-12-03T14:39:00.452Z"
   },
   {
    "duration": 39,
    "start_time": "2022-12-03T14:39:00.476Z"
   },
   {
    "duration": 21,
    "start_time": "2022-12-03T14:39:00.517Z"
   },
   {
    "duration": 269,
    "start_time": "2022-12-03T14:39:00.540Z"
   },
   {
    "duration": 76,
    "start_time": "2022-12-03T14:39:00.810Z"
   },
   {
    "duration": 91,
    "start_time": "2022-12-03T14:39:00.888Z"
   },
   {
    "duration": 824,
    "start_time": "2022-12-03T14:39:00.981Z"
   },
   {
    "duration": 79,
    "start_time": "2022-12-03T14:39:01.807Z"
   },
   {
    "duration": 3965,
    "start_time": "2022-12-03T14:39:01.888Z"
   },
   {
    "duration": 150,
    "start_time": "2022-12-03T14:39:05.854Z"
   },
   {
    "duration": 1987,
    "start_time": "2022-12-03T14:39:06.006Z"
   },
   {
    "duration": 36,
    "start_time": "2022-12-03T14:39:07.994Z"
   },
   {
    "duration": 210,
    "start_time": "2022-12-03T14:39:08.032Z"
   },
   {
    "duration": 14,
    "start_time": "2022-12-03T14:44:25.372Z"
   },
   {
    "duration": 567,
    "start_time": "2022-12-03T14:44:48.905Z"
   },
   {
    "duration": 92,
    "start_time": "2022-12-03T14:44:49.476Z"
   },
   {
    "duration": 14,
    "start_time": "2022-12-03T14:44:49.572Z"
   },
   {
    "duration": 33,
    "start_time": "2022-12-03T14:44:49.587Z"
   },
   {
    "duration": 2556,
    "start_time": "2022-12-03T14:44:49.621Z"
   },
   {
    "duration": 9,
    "start_time": "2022-12-03T14:44:52.178Z"
   },
   {
    "duration": 47,
    "start_time": "2022-12-03T14:44:52.188Z"
   },
   {
    "duration": 15,
    "start_time": "2022-12-03T14:44:52.236Z"
   },
   {
    "duration": 15,
    "start_time": "2022-12-03T14:44:52.253Z"
   },
   {
    "duration": 49,
    "start_time": "2022-12-03T14:44:52.270Z"
   },
   {
    "duration": 21,
    "start_time": "2022-12-03T14:44:52.321Z"
   },
   {
    "duration": 164,
    "start_time": "2022-12-03T14:44:52.343Z"
   },
   {
    "duration": 50,
    "start_time": "2022-12-03T14:44:52.508Z"
   },
   {
    "duration": 166,
    "start_time": "2022-12-03T14:44:52.559Z"
   },
   {
    "duration": 12,
    "start_time": "2022-12-03T14:44:52.727Z"
   },
   {
    "duration": 26,
    "start_time": "2022-12-03T14:44:52.740Z"
   },
   {
    "duration": 74,
    "start_time": "2022-12-03T14:44:52.768Z"
   },
   {
    "duration": 44,
    "start_time": "2022-12-03T14:44:52.843Z"
   },
   {
    "duration": 38,
    "start_time": "2022-12-03T14:44:52.888Z"
   },
   {
    "duration": 187,
    "start_time": "2022-12-03T14:44:52.928Z"
   },
   {
    "duration": 21,
    "start_time": "2022-12-03T14:44:53.117Z"
   },
   {
    "duration": 42,
    "start_time": "2022-12-03T14:44:53.140Z"
   },
   {
    "duration": 221,
    "start_time": "2022-12-03T14:44:53.184Z"
   },
   {
    "duration": 24,
    "start_time": "2022-12-03T14:44:53.407Z"
   },
   {
    "duration": 2563,
    "start_time": "2022-12-03T14:44:53.432Z"
   },
   {
    "duration": 232,
    "start_time": "2022-12-03T14:44:55.996Z"
   },
   {
    "duration": 1570,
    "start_time": "2022-12-03T14:44:56.232Z"
   },
   {
    "duration": 36,
    "start_time": "2022-12-03T14:44:57.804Z"
   },
   {
    "duration": 181,
    "start_time": "2022-12-03T14:44:57.841Z"
   },
   {
    "duration": 14,
    "start_time": "2022-12-03T14:45:20.140Z"
   },
   {
    "duration": 16,
    "start_time": "2022-12-03T14:45:33.348Z"
   },
   {
    "duration": 17,
    "start_time": "2022-12-03T14:48:46.163Z"
   },
   {
    "duration": 19,
    "start_time": "2022-12-03T14:49:10.593Z"
   },
   {
    "duration": 18,
    "start_time": "2022-12-03T14:49:56.203Z"
   },
   {
    "duration": 17,
    "start_time": "2022-12-03T14:54:09.076Z"
   },
   {
    "duration": 18,
    "start_time": "2022-12-03T14:54:47.648Z"
   },
   {
    "duration": 68,
    "start_time": "2022-12-03T15:07:19.841Z"
   },
   {
    "duration": 619,
    "start_time": "2022-12-03T15:07:32.504Z"
   },
   {
    "duration": 111,
    "start_time": "2022-12-03T15:08:40.953Z"
   },
   {
    "duration": 242,
    "start_time": "2022-12-03T15:10:01.395Z"
   },
   {
    "duration": 144,
    "start_time": "2022-12-03T15:17:37.561Z"
   },
   {
    "duration": 106,
    "start_time": "2022-12-03T15:18:34.652Z"
   },
   {
    "duration": 106,
    "start_time": "2022-12-03T15:18:56.632Z"
   },
   {
    "duration": 94,
    "start_time": "2022-12-03T15:18:59.575Z"
   },
   {
    "duration": 120,
    "start_time": "2022-12-03T15:19:07.340Z"
   },
   {
    "duration": 96,
    "start_time": "2022-12-03T15:20:39.282Z"
   },
   {
    "duration": 120,
    "start_time": "2022-12-03T15:24:14.243Z"
   },
   {
    "duration": 103,
    "start_time": "2022-12-03T15:26:03.196Z"
   },
   {
    "duration": 107,
    "start_time": "2022-12-03T15:30:41.937Z"
   },
   {
    "duration": 101,
    "start_time": "2022-12-03T15:30:49.785Z"
   },
   {
    "duration": 3,
    "start_time": "2022-12-03T15:37:53.876Z"
   },
   {
    "duration": 98,
    "start_time": "2022-12-03T15:37:53.882Z"
   },
   {
    "duration": 15,
    "start_time": "2022-12-03T15:37:53.982Z"
   },
   {
    "duration": 37,
    "start_time": "2022-12-03T15:37:53.998Z"
   },
   {
    "duration": 2164,
    "start_time": "2022-12-03T15:37:54.038Z"
   },
   {
    "duration": 10,
    "start_time": "2022-12-03T15:37:56.203Z"
   },
   {
    "duration": 11,
    "start_time": "2022-12-03T15:37:56.215Z"
   },
   {
    "duration": 15,
    "start_time": "2022-12-03T15:37:56.228Z"
   },
   {
    "duration": 93,
    "start_time": "2022-12-03T15:37:56.244Z"
   },
   {
    "duration": 42,
    "start_time": "2022-12-03T15:37:56.338Z"
   },
   {
    "duration": 172,
    "start_time": "2022-12-03T15:37:56.382Z"
   },
   {
    "duration": 82,
    "start_time": "2022-12-03T15:37:56.556Z"
   },
   {
    "duration": 178,
    "start_time": "2022-12-03T15:37:56.640Z"
   },
   {
    "duration": 14,
    "start_time": "2022-12-03T15:37:56.820Z"
   },
   {
    "duration": 15,
    "start_time": "2022-12-03T15:37:56.836Z"
   },
   {
    "duration": 38,
    "start_time": "2022-12-03T15:37:56.853Z"
   },
   {
    "duration": 129,
    "start_time": "2022-12-03T15:37:56.892Z"
   },
   {
    "duration": 125,
    "start_time": "2022-12-03T15:37:57.023Z"
   },
   {
    "duration": 231,
    "start_time": "2022-12-03T15:37:57.150Z"
   },
   {
    "duration": 120,
    "start_time": "2022-12-03T15:37:57.383Z"
   },
   {
    "duration": 144,
    "start_time": "2022-12-03T15:37:57.505Z"
   },
   {
    "duration": 3,
    "start_time": "2022-12-03T15:37:57.652Z"
   },
   {
    "duration": 338,
    "start_time": "2022-12-03T15:37:57.658Z"
   },
   {
    "duration": 25,
    "start_time": "2022-12-03T15:37:57.998Z"
   },
   {
    "duration": 35,
    "start_time": "2022-12-03T15:37:58.025Z"
   },
   {
    "duration": 362,
    "start_time": "2022-12-03T15:37:58.076Z"
   },
   {
    "duration": 28,
    "start_time": "2022-12-03T15:37:58.440Z"
   },
   {
    "duration": 2737,
    "start_time": "2022-12-03T15:37:58.476Z"
   },
   {
    "duration": 167,
    "start_time": "2022-12-03T15:38:01.216Z"
   },
   {
    "duration": 2183,
    "start_time": "2022-12-03T15:38:01.385Z"
   },
   {
    "duration": 34,
    "start_time": "2022-12-03T15:38:03.570Z"
   },
   {
    "duration": 202,
    "start_time": "2022-12-03T15:38:03.605Z"
   },
   {
    "duration": 128,
    "start_time": "2022-12-03T15:40:54.086Z"
   },
   {
    "duration": 167,
    "start_time": "2022-12-03T15:43:49.063Z"
   },
   {
    "duration": 7,
    "start_time": "2022-12-03T15:52:36.766Z"
   },
   {
    "duration": 758,
    "start_time": "2022-12-03T15:54:02.997Z"
   },
   {
    "duration": 134,
    "start_time": "2022-12-03T15:54:18.716Z"
   },
   {
    "duration": 121,
    "start_time": "2022-12-03T15:54:27.948Z"
   },
   {
    "duration": 137,
    "start_time": "2022-12-03T15:55:11.158Z"
   },
   {
    "duration": 125,
    "start_time": "2022-12-03T15:55:43.557Z"
   },
   {
    "duration": 124,
    "start_time": "2022-12-03T15:56:27.321Z"
   },
   {
    "duration": 135,
    "start_time": "2022-12-03T15:57:16.875Z"
   },
   {
    "duration": 122,
    "start_time": "2022-12-03T15:57:25.786Z"
   },
   {
    "duration": 130,
    "start_time": "2022-12-03T15:57:53.134Z"
   },
   {
    "duration": 4,
    "start_time": "2022-12-03T16:01:20.382Z"
   },
   {
    "duration": 116,
    "start_time": "2022-12-03T16:01:20.388Z"
   },
   {
    "duration": 16,
    "start_time": "2022-12-03T16:01:20.507Z"
   },
   {
    "duration": 53,
    "start_time": "2022-12-03T16:01:20.525Z"
   },
   {
    "duration": 2142,
    "start_time": "2022-12-03T16:01:20.580Z"
   },
   {
    "duration": 10,
    "start_time": "2022-12-03T16:01:22.725Z"
   },
   {
    "duration": 25,
    "start_time": "2022-12-03T16:01:22.737Z"
   },
   {
    "duration": 31,
    "start_time": "2022-12-03T16:01:22.764Z"
   },
   {
    "duration": 60,
    "start_time": "2022-12-03T16:01:22.797Z"
   },
   {
    "duration": 25,
    "start_time": "2022-12-03T16:01:22.875Z"
   },
   {
    "duration": 187,
    "start_time": "2022-12-03T16:01:22.903Z"
   },
   {
    "duration": 85,
    "start_time": "2022-12-03T16:01:23.092Z"
   },
   {
    "duration": 180,
    "start_time": "2022-12-03T16:01:23.179Z"
   },
   {
    "duration": 24,
    "start_time": "2022-12-03T16:01:23.360Z"
   },
   {
    "duration": 16,
    "start_time": "2022-12-03T16:01:23.385Z"
   },
   {
    "duration": 17,
    "start_time": "2022-12-03T16:01:23.402Z"
   },
   {
    "duration": 150,
    "start_time": "2022-12-03T16:01:23.421Z"
   },
   {
    "duration": 122,
    "start_time": "2022-12-03T16:01:23.576Z"
   },
   {
    "duration": 118,
    "start_time": "2022-12-03T16:01:23.700Z"
   },
   {
    "duration": 139,
    "start_time": "2022-12-03T16:01:23.819Z"
   },
   {
    "duration": 144,
    "start_time": "2022-12-03T16:01:23.960Z"
   },
   {
    "duration": 2,
    "start_time": "2022-12-03T16:01:24.106Z"
   },
   {
    "duration": 306,
    "start_time": "2022-12-03T16:01:24.109Z"
   },
   {
    "duration": 25,
    "start_time": "2022-12-03T16:01:24.417Z"
   },
   {
    "duration": 49,
    "start_time": "2022-12-03T16:01:24.444Z"
   },
   {
    "duration": 496,
    "start_time": "2022-12-03T16:01:24.495Z"
   },
   {
    "duration": 36,
    "start_time": "2022-12-03T16:01:24.993Z"
   },
   {
    "duration": 3577,
    "start_time": "2022-12-03T16:01:25.032Z"
   },
   {
    "duration": 158,
    "start_time": "2022-12-03T16:01:28.611Z"
   },
   {
    "duration": 1964,
    "start_time": "2022-12-03T16:01:28.771Z"
   },
   {
    "duration": 43,
    "start_time": "2022-12-03T16:01:30.737Z"
   },
   {
    "duration": 190,
    "start_time": "2022-12-03T16:01:30.782Z"
   },
   {
    "duration": 72,
    "start_time": "2022-12-03T16:01:39.950Z"
   },
   {
    "duration": 556,
    "start_time": "2022-12-03T16:01:50.429Z"
   },
   {
    "duration": 95,
    "start_time": "2022-12-03T16:01:50.986Z"
   },
   {
    "duration": 19,
    "start_time": "2022-12-03T16:01:51.083Z"
   },
   {
    "duration": 40,
    "start_time": "2022-12-03T16:01:51.105Z"
   },
   {
    "duration": 1843,
    "start_time": "2022-12-03T16:01:51.146Z"
   },
   {
    "duration": 9,
    "start_time": "2022-12-03T16:01:52.991Z"
   },
   {
    "duration": 15,
    "start_time": "2022-12-03T16:01:53.002Z"
   },
   {
    "duration": 15,
    "start_time": "2022-12-03T16:01:53.018Z"
   },
   {
    "duration": 76,
    "start_time": "2022-12-03T16:01:53.035Z"
   },
   {
    "duration": 24,
    "start_time": "2022-12-03T16:01:53.113Z"
   },
   {
    "duration": 194,
    "start_time": "2022-12-03T16:01:53.138Z"
   },
   {
    "duration": 85,
    "start_time": "2022-12-03T16:01:53.334Z"
   },
   {
    "duration": 188,
    "start_time": "2022-12-03T16:01:53.420Z"
   },
   {
    "duration": 14,
    "start_time": "2022-12-03T16:01:53.609Z"
   },
   {
    "duration": 19,
    "start_time": "2022-12-03T16:01:53.625Z"
   },
   {
    "duration": 32,
    "start_time": "2022-12-03T16:01:53.646Z"
   },
   {
    "duration": 121,
    "start_time": "2022-12-03T16:01:53.680Z"
   },
   {
    "duration": 122,
    "start_time": "2022-12-03T16:01:53.803Z"
   },
   {
    "duration": 104,
    "start_time": "2022-12-03T16:01:53.927Z"
   },
   {
    "duration": 129,
    "start_time": "2022-12-03T16:01:54.033Z"
   },
   {
    "duration": 195,
    "start_time": "2022-12-03T16:01:54.163Z"
   },
   {
    "duration": 2,
    "start_time": "2022-12-03T16:01:54.359Z"
   },
   {
    "duration": 337,
    "start_time": "2022-12-03T16:01:54.363Z"
   },
   {
    "duration": 75,
    "start_time": "2022-12-03T16:01:54.702Z"
   },
   {
    "duration": 34,
    "start_time": "2022-12-03T16:01:54.779Z"
   },
   {
    "duration": 793,
    "start_time": "2022-12-03T16:01:54.814Z"
   },
   {
    "duration": 80,
    "start_time": "2022-12-03T16:01:55.609Z"
   },
   {
    "duration": 3042,
    "start_time": "2022-12-03T16:01:55.692Z"
   },
   {
    "duration": 160,
    "start_time": "2022-12-03T16:01:58.736Z"
   },
   {
    "duration": 2212,
    "start_time": "2022-12-03T16:01:58.898Z"
   },
   {
    "duration": 33,
    "start_time": "2022-12-03T16:02:01.111Z"
   },
   {
    "duration": 173,
    "start_time": "2022-12-03T16:02:01.145Z"
   },
   {
    "duration": 115,
    "start_time": "2022-12-03T16:03:50.332Z"
   },
   {
    "duration": 96,
    "start_time": "2022-12-03T16:03:57.847Z"
   },
   {
    "duration": 111,
    "start_time": "2022-12-03T16:04:12.884Z"
   },
   {
    "duration": 101,
    "start_time": "2022-12-03T16:04:35.381Z"
   },
   {
    "duration": 114,
    "start_time": "2022-12-03T16:05:47.335Z"
   },
   {
    "duration": 115,
    "start_time": "2022-12-03T16:11:03.588Z"
   },
   {
    "duration": 110,
    "start_time": "2022-12-03T16:12:40.774Z"
   },
   {
    "duration": 225,
    "start_time": "2022-12-03T16:41:39.579Z"
   },
   {
    "duration": 230,
    "start_time": "2022-12-03T16:41:48.364Z"
   },
   {
    "duration": 135,
    "start_time": "2022-12-03T16:42:04.552Z"
   },
   {
    "duration": 250,
    "start_time": "2022-12-03T16:43:32.741Z"
   },
   {
    "duration": 3,
    "start_time": "2022-12-03T16:53:23.218Z"
   },
   {
    "duration": 3,
    "start_time": "2022-12-03T16:53:25.761Z"
   },
   {
    "duration": 12,
    "start_time": "2022-12-03T16:56:42.510Z"
   },
   {
    "duration": 10,
    "start_time": "2022-12-03T16:58:41.150Z"
   },
   {
    "duration": 162,
    "start_time": "2022-12-03T17:05:37.189Z"
   },
   {
    "duration": 4,
    "start_time": "2022-12-03T17:06:32.164Z"
   },
   {
    "duration": 114,
    "start_time": "2022-12-03T17:06:32.169Z"
   },
   {
    "duration": 13,
    "start_time": "2022-12-03T17:06:32.285Z"
   },
   {
    "duration": 38,
    "start_time": "2022-12-03T17:06:32.300Z"
   },
   {
    "duration": 1661,
    "start_time": "2022-12-03T17:06:32.340Z"
   },
   {
    "duration": 11,
    "start_time": "2022-12-03T17:06:34.002Z"
   },
   {
    "duration": 16,
    "start_time": "2022-12-03T17:06:34.015Z"
   },
   {
    "duration": 18,
    "start_time": "2022-12-03T17:06:34.032Z"
   },
   {
    "duration": 63,
    "start_time": "2022-12-03T17:06:34.051Z"
   },
   {
    "duration": 19,
    "start_time": "2022-12-03T17:06:34.115Z"
   },
   {
    "duration": 266,
    "start_time": "2022-12-03T17:06:34.135Z"
   },
   {
    "duration": 80,
    "start_time": "2022-12-03T17:06:34.404Z"
   },
   {
    "duration": 165,
    "start_time": "2022-12-03T17:06:34.485Z"
   },
   {
    "duration": 14,
    "start_time": "2022-12-03T17:06:34.651Z"
   },
   {
    "duration": 22,
    "start_time": "2022-12-03T17:06:34.666Z"
   },
   {
    "duration": 15,
    "start_time": "2022-12-03T17:06:34.690Z"
   },
   {
    "duration": 120,
    "start_time": "2022-12-03T17:06:34.707Z"
   },
   {
    "duration": 123,
    "start_time": "2022-12-03T17:06:34.829Z"
   },
   {
    "duration": 140,
    "start_time": "2022-12-03T17:06:34.954Z"
   },
   {
    "duration": 139,
    "start_time": "2022-12-03T17:06:35.097Z"
   },
   {
    "duration": 169,
    "start_time": "2022-12-03T17:06:35.238Z"
   },
   {
    "duration": 11,
    "start_time": "2022-12-03T17:06:35.409Z"
   },
   {
    "duration": 255,
    "start_time": "2022-12-03T17:06:35.423Z"
   },
   {
    "duration": 26,
    "start_time": "2022-12-03T17:06:35.680Z"
   },
   {
    "duration": 33,
    "start_time": "2022-12-03T17:06:35.708Z"
   },
   {
    "duration": 313,
    "start_time": "2022-12-03T17:06:35.743Z"
   },
   {
    "duration": 39,
    "start_time": "2022-12-03T17:06:36.059Z"
   },
   {
    "duration": 3647,
    "start_time": "2022-12-03T17:06:36.100Z"
   },
   {
    "duration": 139,
    "start_time": "2022-12-03T17:06:39.748Z"
   },
   {
    "duration": 1967,
    "start_time": "2022-12-03T17:06:39.888Z"
   },
   {
    "duration": 38,
    "start_time": "2022-12-03T17:06:41.857Z"
   },
   {
    "duration": 172,
    "start_time": "2022-12-03T17:06:41.897Z"
   },
   {
    "duration": 54,
    "start_time": "2022-12-03T17:07:04.963Z"
   },
   {
    "duration": 3,
    "start_time": "2022-12-03T17:11:20.241Z"
   },
   {
    "duration": 99,
    "start_time": "2022-12-03T17:11:20.246Z"
   },
   {
    "duration": 16,
    "start_time": "2022-12-03T17:11:20.347Z"
   },
   {
    "duration": 39,
    "start_time": "2022-12-03T17:11:20.365Z"
   },
   {
    "duration": 1858,
    "start_time": "2022-12-03T17:11:20.406Z"
   },
   {
    "duration": 17,
    "start_time": "2022-12-03T17:11:22.265Z"
   },
   {
    "duration": 10,
    "start_time": "2022-12-03T17:11:22.284Z"
   },
   {
    "duration": 18,
    "start_time": "2022-12-03T17:11:22.295Z"
   },
   {
    "duration": 69,
    "start_time": "2022-12-03T17:11:22.316Z"
   },
   {
    "duration": 19,
    "start_time": "2022-12-03T17:11:22.387Z"
   },
   {
    "duration": 186,
    "start_time": "2022-12-03T17:11:22.407Z"
   },
   {
    "duration": 84,
    "start_time": "2022-12-03T17:11:22.595Z"
   },
   {
    "duration": 185,
    "start_time": "2022-12-03T17:11:22.680Z"
   },
   {
    "duration": 19,
    "start_time": "2022-12-03T17:11:22.867Z"
   },
   {
    "duration": 17,
    "start_time": "2022-12-03T17:11:22.888Z"
   },
   {
    "duration": 16,
    "start_time": "2022-12-03T17:11:22.906Z"
   },
   {
    "duration": 134,
    "start_time": "2022-12-03T17:11:22.924Z"
   },
   {
    "duration": 121,
    "start_time": "2022-12-03T17:11:23.060Z"
   },
   {
    "duration": 113,
    "start_time": "2022-12-03T17:11:23.183Z"
   },
   {
    "duration": 124,
    "start_time": "2022-12-03T17:11:23.298Z"
   },
   {
    "duration": 127,
    "start_time": "2022-12-03T17:11:23.423Z"
   },
   {
    "duration": 10,
    "start_time": "2022-12-03T17:11:23.552Z"
   },
   {
    "duration": 217,
    "start_time": "2022-12-03T17:11:23.576Z"
   },
   {
    "duration": 24,
    "start_time": "2022-12-03T17:11:23.796Z"
   },
   {
    "duration": 33,
    "start_time": "2022-12-03T17:11:23.821Z"
   },
   {
    "duration": 385,
    "start_time": "2022-12-03T17:11:23.856Z"
   },
   {
    "duration": 39,
    "start_time": "2022-12-03T17:11:24.243Z"
   },
   {
    "duration": 3603,
    "start_time": "2022-12-03T17:11:24.284Z"
   },
   {
    "duration": 136,
    "start_time": "2022-12-03T17:11:27.888Z"
   },
   {
    "duration": 1752,
    "start_time": "2022-12-03T17:11:28.025Z"
   },
   {
    "duration": 31,
    "start_time": "2022-12-03T17:11:29.778Z"
   },
   {
    "duration": 177,
    "start_time": "2022-12-03T17:11:29.811Z"
   },
   {
    "duration": 39,
    "start_time": "2022-12-03T17:13:31.448Z"
   },
   {
    "duration": 129,
    "start_time": "2022-12-03T17:13:38.304Z"
   },
   {
    "duration": 139,
    "start_time": "2022-12-03T17:13:50.541Z"
   },
   {
    "duration": 648,
    "start_time": "2022-12-03T17:15:01.571Z"
   },
   {
    "duration": 89,
    "start_time": "2022-12-03T17:15:02.221Z"
   },
   {
    "duration": 13,
    "start_time": "2022-12-03T17:15:02.313Z"
   },
   {
    "duration": 45,
    "start_time": "2022-12-03T17:15:02.328Z"
   },
   {
    "duration": 1811,
    "start_time": "2022-12-03T17:15:02.374Z"
   },
   {
    "duration": 10,
    "start_time": "2022-12-03T17:15:04.187Z"
   },
   {
    "duration": 14,
    "start_time": "2022-12-03T17:15:04.199Z"
   },
   {
    "duration": 15,
    "start_time": "2022-12-03T17:15:04.214Z"
   },
   {
    "duration": 84,
    "start_time": "2022-12-03T17:15:04.231Z"
   },
   {
    "duration": 23,
    "start_time": "2022-12-03T17:15:04.317Z"
   },
   {
    "duration": 187,
    "start_time": "2022-12-03T17:15:04.342Z"
   },
   {
    "duration": 91,
    "start_time": "2022-12-03T17:15:04.531Z"
   },
   {
    "duration": 189,
    "start_time": "2022-12-03T17:15:04.624Z"
   },
   {
    "duration": 15,
    "start_time": "2022-12-03T17:15:04.814Z"
   },
   {
    "duration": 15,
    "start_time": "2022-12-03T17:15:04.830Z"
   },
   {
    "duration": 37,
    "start_time": "2022-12-03T17:15:04.846Z"
   },
   {
    "duration": 134,
    "start_time": "2022-12-03T17:15:04.884Z"
   },
   {
    "duration": 148,
    "start_time": "2022-12-03T17:15:05.020Z"
   },
   {
    "duration": 111,
    "start_time": "2022-12-03T17:15:05.177Z"
   },
   {
    "duration": 132,
    "start_time": "2022-12-03T17:15:05.289Z"
   },
   {
    "duration": 199,
    "start_time": "2022-12-03T17:15:05.422Z"
   },
   {
    "duration": 10,
    "start_time": "2022-12-03T17:15:05.623Z"
   },
   {
    "duration": 221,
    "start_time": "2022-12-03T17:15:05.634Z"
   },
   {
    "duration": 32,
    "start_time": "2022-12-03T17:15:05.857Z"
   },
   {
    "duration": 31,
    "start_time": "2022-12-03T17:15:05.890Z"
   },
   {
    "duration": 255,
    "start_time": "2022-12-03T17:15:05.923Z"
   },
   {
    "duration": 26,
    "start_time": "2022-12-03T17:15:06.180Z"
   },
   {
    "duration": 3788,
    "start_time": "2022-12-03T17:15:06.207Z"
   },
   {
    "duration": 141,
    "start_time": "2022-12-03T17:15:09.997Z"
   },
   {
    "duration": 1840,
    "start_time": "2022-12-03T17:15:10.139Z"
   },
   {
    "duration": 30,
    "start_time": "2022-12-03T17:15:11.981Z"
   },
   {
    "duration": 166,
    "start_time": "2022-12-03T17:15:12.012Z"
   },
   {
    "duration": 139,
    "start_time": "2022-12-03T17:17:39.191Z"
   },
   {
    "duration": 196,
    "start_time": "2022-12-03T17:17:49.443Z"
   },
   {
    "duration": 190,
    "start_time": "2022-12-03T17:21:29.451Z"
   },
   {
    "duration": 172,
    "start_time": "2022-12-03T17:22:09.542Z"
   },
   {
    "duration": 1525,
    "start_time": "2022-12-03T17:24:00.191Z"
   },
   {
    "duration": 234,
    "start_time": "2022-12-03T17:25:11.162Z"
   },
   {
    "duration": 17,
    "start_time": "2022-12-03T17:37:56.581Z"
   },
   {
    "duration": 13,
    "start_time": "2022-12-03T17:39:17.330Z"
   },
   {
    "duration": 871,
    "start_time": "2022-12-03T17:40:13.336Z"
   },
   {
    "duration": 238,
    "start_time": "2022-12-03T17:40:24.720Z"
   },
   {
    "duration": 116,
    "start_time": "2022-12-03T17:42:56.308Z"
   },
   {
    "duration": 49,
    "start_time": "2022-12-03T17:46:59.000Z"
   },
   {
    "duration": 28,
    "start_time": "2022-12-03T17:47:07.204Z"
   },
   {
    "duration": 9,
    "start_time": "2022-12-03T17:47:25.853Z"
   },
   {
    "duration": 16,
    "start_time": "2022-12-03T17:48:55.603Z"
   },
   {
    "duration": 24,
    "start_time": "2022-12-03T17:49:45.096Z"
   },
   {
    "duration": 8,
    "start_time": "2022-12-03T17:50:09.977Z"
   },
   {
    "duration": 16,
    "start_time": "2022-12-03T17:53:21.318Z"
   },
   {
    "duration": 116,
    "start_time": "2022-12-03T17:53:36.997Z"
   },
   {
    "duration": 126,
    "start_time": "2022-12-03T17:54:00.533Z"
   },
   {
    "duration": 157,
    "start_time": "2022-12-03T17:54:14.876Z"
   },
   {
    "duration": 130,
    "start_time": "2022-12-03T17:55:01.706Z"
   },
   {
    "duration": 122,
    "start_time": "2022-12-03T17:55:49.237Z"
   },
   {
    "duration": 366,
    "start_time": "2022-12-03T17:57:15.751Z"
   },
   {
    "duration": 640,
    "start_time": "2022-12-03T18:03:48.155Z"
   },
   {
    "duration": 186,
    "start_time": "2022-12-03T18:03:48.797Z"
   },
   {
    "duration": 16,
    "start_time": "2022-12-03T18:03:48.985Z"
   },
   {
    "duration": 92,
    "start_time": "2022-12-03T18:03:49.004Z"
   },
   {
    "duration": 2503,
    "start_time": "2022-12-03T18:03:49.098Z"
   },
   {
    "duration": 10,
    "start_time": "2022-12-03T18:03:51.603Z"
   },
   {
    "duration": 21,
    "start_time": "2022-12-03T18:03:51.614Z"
   },
   {
    "duration": 20,
    "start_time": "2022-12-03T18:03:51.636Z"
   },
   {
    "duration": 64,
    "start_time": "2022-12-03T18:03:51.658Z"
   },
   {
    "duration": 22,
    "start_time": "2022-12-03T18:03:51.724Z"
   },
   {
    "duration": 187,
    "start_time": "2022-12-03T18:03:51.747Z"
   },
   {
    "duration": 84,
    "start_time": "2022-12-03T18:03:51.936Z"
   },
   {
    "duration": 173,
    "start_time": "2022-12-03T18:03:52.022Z"
   },
   {
    "duration": 15,
    "start_time": "2022-12-03T18:03:52.197Z"
   },
   {
    "duration": 43,
    "start_time": "2022-12-03T18:03:52.213Z"
   },
   {
    "duration": 25,
    "start_time": "2022-12-03T18:03:52.258Z"
   },
   {
    "duration": 121,
    "start_time": "2022-12-03T18:03:52.285Z"
   },
   {
    "duration": 120,
    "start_time": "2022-12-03T18:03:52.408Z"
   },
   {
    "duration": 108,
    "start_time": "2022-12-03T18:03:52.529Z"
   },
   {
    "duration": 138,
    "start_time": "2022-12-03T18:03:52.639Z"
   },
   {
    "duration": 230,
    "start_time": "2022-12-03T18:03:52.779Z"
   },
   {
    "duration": 11,
    "start_time": "2022-12-03T18:03:53.011Z"
   },
   {
    "duration": 227,
    "start_time": "2022-12-03T18:03:53.024Z"
   },
   {
    "duration": 33,
    "start_time": "2022-12-03T18:03:53.253Z"
   },
   {
    "duration": 35,
    "start_time": "2022-12-03T18:03:53.288Z"
   },
   {
    "duration": 287,
    "start_time": "2022-12-03T18:03:53.324Z"
   },
   {
    "duration": 26,
    "start_time": "2022-12-03T18:03:53.613Z"
   },
   {
    "duration": 2857,
    "start_time": "2022-12-03T18:03:53.642Z"
   },
   {
    "duration": 147,
    "start_time": "2022-12-03T18:03:56.501Z"
   },
   {
    "duration": 169,
    "start_time": "2022-12-03T18:03:56.649Z"
   },
   {
    "duration": 161,
    "start_time": "2022-12-03T18:03:56.819Z"
   },
   {
    "duration": 171,
    "start_time": "2022-12-03T18:03:56.982Z"
   },
   {
    "duration": 82,
    "start_time": "2022-12-03T18:03:57.155Z"
   },
   {
    "duration": 0,
    "start_time": "2022-12-03T18:03:57.238Z"
   },
   {
    "duration": 0,
    "start_time": "2022-12-03T18:03:57.239Z"
   },
   {
    "duration": 0,
    "start_time": "2022-12-03T18:03:57.240Z"
   },
   {
    "duration": 0,
    "start_time": "2022-12-03T18:03:57.242Z"
   },
   {
    "duration": 0,
    "start_time": "2022-12-03T18:03:57.243Z"
   },
   {
    "duration": 219,
    "start_time": "2022-12-03T18:04:09.857Z"
   },
   {
    "duration": 191,
    "start_time": "2022-12-03T18:04:38.514Z"
   },
   {
    "duration": 248,
    "start_time": "2022-12-03T18:04:57.249Z"
   },
   {
    "duration": 120,
    "start_time": "2022-12-03T18:05:06.270Z"
   },
   {
    "duration": 476,
    "start_time": "2022-12-03T18:05:11.230Z"
   },
   {
    "duration": 139,
    "start_time": "2022-12-03T18:06:27.996Z"
   },
   {
    "duration": 42,
    "start_time": "2022-12-03T18:10:39.502Z"
   },
   {
    "duration": 32,
    "start_time": "2022-12-03T18:13:27.794Z"
   },
   {
    "duration": 152,
    "start_time": "2022-12-03T18:14:38.403Z"
   },
   {
    "duration": 235,
    "start_time": "2022-12-03T18:24:12.056Z"
   },
   {
    "duration": 110,
    "start_time": "2022-12-03T18:24:30.418Z"
   },
   {
    "duration": 124,
    "start_time": "2022-12-03T18:29:01.245Z"
   },
   {
    "duration": 105,
    "start_time": "2022-12-03T18:29:37.746Z"
   },
   {
    "duration": 135,
    "start_time": "2022-12-03T18:30:11.370Z"
   },
   {
    "duration": 120,
    "start_time": "2022-12-03T18:31:07.938Z"
   },
   {
    "duration": 3,
    "start_time": "2022-12-03T18:32:47.129Z"
   },
   {
    "duration": 90,
    "start_time": "2022-12-03T18:32:47.134Z"
   },
   {
    "duration": 14,
    "start_time": "2022-12-03T18:32:47.226Z"
   },
   {
    "duration": 51,
    "start_time": "2022-12-03T18:32:47.241Z"
   },
   {
    "duration": 1795,
    "start_time": "2022-12-03T18:32:47.294Z"
   },
   {
    "duration": 9,
    "start_time": "2022-12-03T18:32:49.090Z"
   },
   {
    "duration": 16,
    "start_time": "2022-12-03T18:32:49.101Z"
   },
   {
    "duration": 16,
    "start_time": "2022-12-03T18:32:49.119Z"
   },
   {
    "duration": 78,
    "start_time": "2022-12-03T18:32:49.136Z"
   },
   {
    "duration": 19,
    "start_time": "2022-12-03T18:32:49.216Z"
   },
   {
    "duration": 167,
    "start_time": "2022-12-03T18:32:49.237Z"
   },
   {
    "duration": 76,
    "start_time": "2022-12-03T18:32:49.405Z"
   },
   {
    "duration": 167,
    "start_time": "2022-12-03T18:32:49.482Z"
   },
   {
    "duration": 14,
    "start_time": "2022-12-03T18:32:49.650Z"
   },
   {
    "duration": 15,
    "start_time": "2022-12-03T18:32:49.675Z"
   },
   {
    "duration": 14,
    "start_time": "2022-12-03T18:32:49.691Z"
   },
   {
    "duration": 113,
    "start_time": "2022-12-03T18:32:49.707Z"
   },
   {
    "duration": 208,
    "start_time": "2022-12-03T18:32:49.822Z"
   },
   {
    "duration": 109,
    "start_time": "2022-12-03T18:32:50.032Z"
   },
   {
    "duration": 113,
    "start_time": "2022-12-03T18:32:50.142Z"
   },
   {
    "duration": 121,
    "start_time": "2022-12-03T18:32:50.257Z"
   },
   {
    "duration": 11,
    "start_time": "2022-12-03T18:32:50.379Z"
   },
   {
    "duration": 213,
    "start_time": "2022-12-03T18:32:50.391Z"
   },
   {
    "duration": 25,
    "start_time": "2022-12-03T18:32:50.606Z"
   },
   {
    "duration": 43,
    "start_time": "2022-12-03T18:32:50.633Z"
   },
   {
    "duration": 275,
    "start_time": "2022-12-03T18:32:50.678Z"
   },
   {
    "duration": 31,
    "start_time": "2022-12-03T18:32:50.955Z"
   },
   {
    "duration": 122,
    "start_time": "2022-12-03T18:32:50.988Z"
   },
   {
    "duration": 134,
    "start_time": "2022-12-03T18:32:51.114Z"
   },
   {
    "duration": 117,
    "start_time": "2022-12-03T18:32:51.250Z"
   },
   {
    "duration": 137,
    "start_time": "2022-12-03T18:32:51.368Z"
   },
   {
    "duration": 140,
    "start_time": "2022-12-03T18:32:51.507Z"
   },
   {
    "duration": 129,
    "start_time": "2022-12-03T18:32:51.649Z"
   },
   {
    "duration": 169,
    "start_time": "2022-12-03T18:32:51.779Z"
   },
   {
    "duration": 165,
    "start_time": "2022-12-03T18:32:51.949Z"
   },
   {
    "duration": 173,
    "start_time": "2022-12-03T18:32:52.116Z"
   },
   {
    "duration": 128,
    "start_time": "2022-12-03T18:32:52.291Z"
   },
   {
    "duration": 223,
    "start_time": "2022-12-03T18:32:52.420Z"
   },
   {
    "duration": 383,
    "start_time": "2022-12-03T18:32:52.644Z"
   },
   {
    "duration": 130,
    "start_time": "2022-12-03T18:32:53.029Z"
   },
   {
    "duration": 33,
    "start_time": "2022-12-03T18:32:53.161Z"
   },
   {
    "duration": 159,
    "start_time": "2022-12-03T18:32:53.196Z"
   },
   {
    "duration": 136,
    "start_time": "2022-12-03T18:35:42.969Z"
   },
   {
    "duration": 111,
    "start_time": "2022-12-03T18:37:14.451Z"
   },
   {
    "duration": 143,
    "start_time": "2022-12-03T18:38:36.975Z"
   },
   {
    "duration": 123,
    "start_time": "2022-12-03T18:39:22.541Z"
   },
   {
    "duration": 116,
    "start_time": "2022-12-03T18:39:37.111Z"
   },
   {
    "duration": 168,
    "start_time": "2022-12-03T18:40:00.344Z"
   },
   {
    "duration": 121,
    "start_time": "2022-12-03T18:40:17.357Z"
   },
   {
    "duration": 109,
    "start_time": "2022-12-03T18:41:57.043Z"
   },
   {
    "duration": 112,
    "start_time": "2022-12-03T18:46:44.315Z"
   },
   {
    "duration": 108,
    "start_time": "2022-12-03T18:47:01.076Z"
   },
   {
    "duration": 120,
    "start_time": "2022-12-03T18:47:20.641Z"
   },
   {
    "duration": 155,
    "start_time": "2022-12-03T18:47:55.662Z"
   },
   {
    "duration": 153,
    "start_time": "2022-12-03T18:48:28.736Z"
   },
   {
    "duration": 269,
    "start_time": "2022-12-03T18:50:53.421Z"
   },
   {
    "duration": 156,
    "start_time": "2022-12-03T18:51:46.755Z"
   },
   {
    "duration": 156,
    "start_time": "2022-12-03T18:54:04.663Z"
   },
   {
    "duration": 123,
    "start_time": "2022-12-03T18:56:32.426Z"
   },
   {
    "duration": 124,
    "start_time": "2022-12-03T18:59:08.548Z"
   },
   {
    "duration": 140,
    "start_time": "2022-12-03T18:59:32.254Z"
   },
   {
    "duration": 208,
    "start_time": "2022-12-03T19:00:00.138Z"
   },
   {
    "duration": 166,
    "start_time": "2022-12-03T19:00:08.232Z"
   },
   {
    "duration": 133,
    "start_time": "2022-12-03T19:01:01.536Z"
   },
   {
    "duration": 159,
    "start_time": "2022-12-03T19:01:11.965Z"
   },
   {
    "duration": 148,
    "start_time": "2022-12-03T19:02:04.166Z"
   },
   {
    "duration": 189,
    "start_time": "2022-12-03T19:02:11.987Z"
   },
   {
    "duration": 164,
    "start_time": "2022-12-03T19:02:31.389Z"
   },
   {
    "duration": 181,
    "start_time": "2022-12-03T19:02:37.171Z"
   },
   {
    "duration": 168,
    "start_time": "2022-12-03T19:02:44.786Z"
   },
   {
    "duration": 143,
    "start_time": "2022-12-03T19:03:34.245Z"
   },
   {
    "duration": 152,
    "start_time": "2022-12-03T19:03:41.249Z"
   },
   {
    "duration": 127,
    "start_time": "2022-12-03T19:03:45.790Z"
   },
   {
    "duration": 173,
    "start_time": "2022-12-03T19:04:24.981Z"
   },
   {
    "duration": 321,
    "start_time": "2022-12-03T19:04:43.061Z"
   },
   {
    "duration": 173,
    "start_time": "2022-12-03T19:05:00.356Z"
   },
   {
    "duration": 51,
    "start_time": "2022-12-03T19:05:23.242Z"
   },
   {
    "duration": 203,
    "start_time": "2022-12-03T19:05:33.474Z"
   },
   {
    "duration": 147,
    "start_time": "2022-12-03T19:05:53.204Z"
   },
   {
    "duration": 136,
    "start_time": "2022-12-03T19:06:28.019Z"
   },
   {
    "duration": 133,
    "start_time": "2022-12-03T19:07:01.297Z"
   },
   {
    "duration": 761,
    "start_time": "2022-12-04T14:06:56.584Z"
   },
   {
    "duration": 150,
    "start_time": "2022-12-04T14:06:57.347Z"
   },
   {
    "duration": 17,
    "start_time": "2022-12-04T14:06:57.499Z"
   },
   {
    "duration": 42,
    "start_time": "2022-12-04T14:06:57.518Z"
   },
   {
    "duration": 1837,
    "start_time": "2022-12-04T14:06:57.562Z"
   },
   {
    "duration": 9,
    "start_time": "2022-12-04T14:06:59.401Z"
   },
   {
    "duration": 14,
    "start_time": "2022-12-04T14:06:59.411Z"
   },
   {
    "duration": 13,
    "start_time": "2022-12-04T14:06:59.426Z"
   },
   {
    "duration": 65,
    "start_time": "2022-12-04T14:06:59.440Z"
   },
   {
    "duration": 22,
    "start_time": "2022-12-04T14:06:59.507Z"
   },
   {
    "duration": 162,
    "start_time": "2022-12-04T14:06:59.553Z"
   },
   {
    "duration": 81,
    "start_time": "2022-12-04T14:06:59.716Z"
   },
   {
    "duration": 178,
    "start_time": "2022-12-04T14:06:59.799Z"
   },
   {
    "duration": 13,
    "start_time": "2022-12-04T14:06:59.980Z"
   },
   {
    "duration": 14,
    "start_time": "2022-12-04T14:06:59.994Z"
   },
   {
    "duration": 43,
    "start_time": "2022-12-04T14:07:00.009Z"
   },
   {
    "duration": 120,
    "start_time": "2022-12-04T14:07:00.054Z"
   },
   {
    "duration": 127,
    "start_time": "2022-12-04T14:07:00.175Z"
   },
   {
    "duration": 114,
    "start_time": "2022-12-04T14:07:00.303Z"
   },
   {
    "duration": 144,
    "start_time": "2022-12-04T14:07:00.419Z"
   },
   {
    "duration": 205,
    "start_time": "2022-12-04T14:07:00.565Z"
   },
   {
    "duration": 11,
    "start_time": "2022-12-04T14:07:00.771Z"
   },
   {
    "duration": 241,
    "start_time": "2022-12-04T14:07:00.783Z"
   },
   {
    "duration": 34,
    "start_time": "2022-12-04T14:07:01.025Z"
   },
   {
    "duration": 48,
    "start_time": "2022-12-04T14:07:01.060Z"
   },
   {
    "duration": 261,
    "start_time": "2022-12-04T14:07:01.109Z"
   },
   {
    "duration": 27,
    "start_time": "2022-12-04T14:07:01.372Z"
   },
   {
    "duration": 127,
    "start_time": "2022-12-04T14:07:01.402Z"
   },
   {
    "duration": 138,
    "start_time": "2022-12-04T14:07:01.531Z"
   },
   {
    "duration": 125,
    "start_time": "2022-12-04T14:07:01.671Z"
   },
   {
    "duration": 141,
    "start_time": "2022-12-04T14:07:01.798Z"
   },
   {
    "duration": 140,
    "start_time": "2022-12-04T14:07:01.940Z"
   },
   {
    "duration": 146,
    "start_time": "2022-12-04T14:07:02.082Z"
   },
   {
    "duration": 141,
    "start_time": "2022-12-04T14:07:02.229Z"
   },
   {
    "duration": 162,
    "start_time": "2022-12-04T14:07:02.372Z"
   },
   {
    "duration": 204,
    "start_time": "2022-12-04T14:07:02.536Z"
   },
   {
    "duration": 153,
    "start_time": "2022-12-04T14:07:02.742Z"
   },
   {
    "duration": 132,
    "start_time": "2022-12-04T14:07:02.897Z"
   },
   {
    "duration": 139,
    "start_time": "2022-12-04T14:07:03.030Z"
   },
   {
    "duration": 133,
    "start_time": "2022-12-04T14:07:03.171Z"
   },
   {
    "duration": 151,
    "start_time": "2022-12-04T14:07:03.308Z"
   },
   {
    "duration": 150,
    "start_time": "2022-12-04T14:07:03.460Z"
   },
   {
    "duration": 148,
    "start_time": "2022-12-04T14:07:03.612Z"
   },
   {
    "duration": 191,
    "start_time": "2022-12-04T14:07:03.761Z"
   },
   {
    "duration": 179,
    "start_time": "2022-12-04T14:07:03.954Z"
   },
   {
    "duration": 197,
    "start_time": "2022-12-04T14:07:04.135Z"
   },
   {
    "duration": 150,
    "start_time": "2022-12-04T14:07:04.333Z"
   },
   {
    "duration": 139,
    "start_time": "2022-12-04T14:07:04.485Z"
   },
   {
    "duration": 508,
    "start_time": "2022-12-04T14:07:04.625Z"
   },
   {
    "duration": 140,
    "start_time": "2022-12-04T14:07:05.135Z"
   },
   {
    "duration": 30,
    "start_time": "2022-12-04T14:07:05.276Z"
   },
   {
    "duration": 177,
    "start_time": "2022-12-04T14:07:05.308Z"
   },
   {
    "duration": 13,
    "start_time": "2022-12-04T14:09:19.724Z"
   },
   {
    "duration": 774,
    "start_time": "2022-12-04T15:21:30.991Z"
   },
   {
    "duration": 327,
    "start_time": "2022-12-04T15:21:31.767Z"
   },
   {
    "duration": 15,
    "start_time": "2022-12-04T15:21:32.095Z"
   },
   {
    "duration": 45,
    "start_time": "2022-12-04T15:21:32.112Z"
   },
   {
    "duration": 1842,
    "start_time": "2022-12-04T15:21:32.158Z"
   },
   {
    "duration": 9,
    "start_time": "2022-12-04T15:21:34.001Z"
   },
   {
    "duration": 14,
    "start_time": "2022-12-04T15:21:34.011Z"
   },
   {
    "duration": 13,
    "start_time": "2022-12-04T15:21:34.027Z"
   },
   {
    "duration": 55,
    "start_time": "2022-12-04T15:21:34.041Z"
   },
   {
    "duration": 41,
    "start_time": "2022-12-04T15:21:34.098Z"
   },
   {
    "duration": 171,
    "start_time": "2022-12-04T15:21:34.140Z"
   },
   {
    "duration": 76,
    "start_time": "2022-12-04T15:21:34.314Z"
   },
   {
    "duration": 171,
    "start_time": "2022-12-04T15:21:34.391Z"
   },
   {
    "duration": 14,
    "start_time": "2022-12-04T15:21:34.564Z"
   },
   {
    "duration": 16,
    "start_time": "2022-12-04T15:21:34.580Z"
   },
   {
    "duration": 37,
    "start_time": "2022-12-04T15:21:34.597Z"
   },
   {
    "duration": 120,
    "start_time": "2022-12-04T15:21:34.636Z"
   },
   {
    "duration": 119,
    "start_time": "2022-12-04T15:21:34.758Z"
   },
   {
    "duration": 109,
    "start_time": "2022-12-04T15:21:34.878Z"
   },
   {
    "duration": 127,
    "start_time": "2022-12-04T15:21:34.989Z"
   },
   {
    "duration": 202,
    "start_time": "2022-12-04T15:21:35.121Z"
   },
   {
    "duration": 11,
    "start_time": "2022-12-04T15:21:35.325Z"
   },
   {
    "duration": 317,
    "start_time": "2022-12-04T15:21:35.337Z"
   },
   {
    "duration": 24,
    "start_time": "2022-12-04T15:21:35.656Z"
   },
   {
    "duration": 47,
    "start_time": "2022-12-04T15:21:35.681Z"
   },
   {
    "duration": 305,
    "start_time": "2022-12-04T15:21:35.730Z"
   },
   {
    "duration": 26,
    "start_time": "2022-12-04T15:21:36.037Z"
   },
   {
    "duration": 126,
    "start_time": "2022-12-04T15:21:36.066Z"
   },
   {
    "duration": 139,
    "start_time": "2022-12-04T15:21:36.194Z"
   },
   {
    "duration": 132,
    "start_time": "2022-12-04T15:21:36.335Z"
   },
   {
    "duration": 127,
    "start_time": "2022-12-04T15:21:36.468Z"
   },
   {
    "duration": 136,
    "start_time": "2022-12-04T15:21:36.597Z"
   },
   {
    "duration": 139,
    "start_time": "2022-12-04T15:21:36.734Z"
   },
   {
    "duration": 140,
    "start_time": "2022-12-04T15:21:36.874Z"
   },
   {
    "duration": 190,
    "start_time": "2022-12-04T15:21:37.021Z"
   },
   {
    "duration": 114,
    "start_time": "2022-12-04T15:21:37.220Z"
   },
   {
    "duration": 148,
    "start_time": "2022-12-04T15:21:37.336Z"
   },
   {
    "duration": 136,
    "start_time": "2022-12-04T15:21:37.486Z"
   },
   {
    "duration": 133,
    "start_time": "2022-12-04T15:21:37.624Z"
   },
   {
    "duration": 135,
    "start_time": "2022-12-04T15:21:37.758Z"
   },
   {
    "duration": 138,
    "start_time": "2022-12-04T15:21:37.895Z"
   },
   {
    "duration": 126,
    "start_time": "2022-12-04T15:21:38.035Z"
   },
   {
    "duration": 132,
    "start_time": "2022-12-04T15:21:38.162Z"
   },
   {
    "duration": 185,
    "start_time": "2022-12-04T15:21:38.295Z"
   },
   {
    "duration": 189,
    "start_time": "2022-12-04T15:21:38.482Z"
   },
   {
    "duration": 186,
    "start_time": "2022-12-04T15:21:38.672Z"
   },
   {
    "duration": 134,
    "start_time": "2022-12-04T15:21:38.860Z"
   },
   {
    "duration": 208,
    "start_time": "2022-12-04T15:21:38.995Z"
   },
   {
    "duration": 413,
    "start_time": "2022-12-04T15:21:39.204Z"
   },
   {
    "duration": 135,
    "start_time": "2022-12-04T15:21:39.621Z"
   },
   {
    "duration": 29,
    "start_time": "2022-12-04T15:21:39.758Z"
   },
   {
    "duration": 168,
    "start_time": "2022-12-04T15:21:39.789Z"
   },
   {
    "duration": 678,
    "start_time": "2022-12-04T21:50:36.895Z"
   },
   {
    "duration": 177,
    "start_time": "2022-12-04T21:50:37.575Z"
   },
   {
    "duration": 15,
    "start_time": "2022-12-04T21:50:37.753Z"
   },
   {
    "duration": 42,
    "start_time": "2022-12-04T21:50:37.771Z"
   },
   {
    "duration": 1981,
    "start_time": "2022-12-04T21:50:37.815Z"
   },
   {
    "duration": 9,
    "start_time": "2022-12-04T21:50:39.798Z"
   },
   {
    "duration": 11,
    "start_time": "2022-12-04T21:50:39.809Z"
   },
   {
    "duration": 18,
    "start_time": "2022-12-04T21:50:39.821Z"
   },
   {
    "duration": 79,
    "start_time": "2022-12-04T21:50:39.841Z"
   },
   {
    "duration": 22,
    "start_time": "2022-12-04T21:50:39.923Z"
   },
   {
    "duration": 195,
    "start_time": "2022-12-04T21:50:39.947Z"
   },
   {
    "duration": 92,
    "start_time": "2022-12-04T21:50:40.144Z"
   },
   {
    "duration": 180,
    "start_time": "2022-12-04T21:50:40.238Z"
   },
   {
    "duration": 13,
    "start_time": "2022-12-04T21:50:40.420Z"
   },
   {
    "duration": 15,
    "start_time": "2022-12-04T21:50:40.434Z"
   },
   {
    "duration": 44,
    "start_time": "2022-12-04T21:50:40.450Z"
   },
   {
    "duration": 128,
    "start_time": "2022-12-04T21:50:40.496Z"
   },
   {
    "duration": 137,
    "start_time": "2022-12-04T21:50:40.625Z"
   },
   {
    "duration": 129,
    "start_time": "2022-12-04T21:50:40.763Z"
   },
   {
    "duration": 144,
    "start_time": "2022-12-04T21:50:40.894Z"
   },
   {
    "duration": 209,
    "start_time": "2022-12-04T21:50:41.039Z"
   },
   {
    "duration": 9,
    "start_time": "2022-12-04T21:50:41.250Z"
   },
   {
    "duration": 300,
    "start_time": "2022-12-04T21:50:41.261Z"
   },
   {
    "duration": 43,
    "start_time": "2022-12-04T21:50:41.562Z"
   },
   {
    "duration": 33,
    "start_time": "2022-12-04T21:50:41.606Z"
   },
   {
    "duration": 334,
    "start_time": "2022-12-04T21:50:41.641Z"
   },
   {
    "duration": 31,
    "start_time": "2022-12-04T21:50:41.979Z"
   },
   {
    "duration": 138,
    "start_time": "2022-12-04T21:50:42.013Z"
   },
   {
    "duration": 155,
    "start_time": "2022-12-04T21:50:42.152Z"
   },
   {
    "duration": 145,
    "start_time": "2022-12-04T21:50:42.309Z"
   },
   {
    "duration": 144,
    "start_time": "2022-12-04T21:50:42.456Z"
   },
   {
    "duration": 153,
    "start_time": "2022-12-04T21:50:42.602Z"
   },
   {
    "duration": 170,
    "start_time": "2022-12-04T21:50:42.757Z"
   },
   {
    "duration": 176,
    "start_time": "2022-12-04T21:50:42.929Z"
   },
   {
    "duration": 228,
    "start_time": "2022-12-04T21:50:43.106Z"
   },
   {
    "duration": 133,
    "start_time": "2022-12-04T21:50:43.335Z"
   },
   {
    "duration": 166,
    "start_time": "2022-12-04T21:50:43.470Z"
   },
   {
    "duration": 150,
    "start_time": "2022-12-04T21:50:43.638Z"
   },
   {
    "duration": 155,
    "start_time": "2022-12-04T21:50:43.790Z"
   },
   {
    "duration": 187,
    "start_time": "2022-12-04T21:50:43.947Z"
   },
   {
    "duration": 184,
    "start_time": "2022-12-04T21:50:44.136Z"
   },
   {
    "duration": 118,
    "start_time": "2022-12-04T21:50:44.322Z"
   },
   {
    "duration": 158,
    "start_time": "2022-12-04T21:50:44.441Z"
   },
   {
    "duration": 206,
    "start_time": "2022-12-04T21:50:44.600Z"
   },
   {
    "duration": 212,
    "start_time": "2022-12-04T21:50:44.808Z"
   },
   {
    "duration": 207,
    "start_time": "2022-12-04T21:50:45.022Z"
   },
   {
    "duration": 139,
    "start_time": "2022-12-04T21:50:45.231Z"
   },
   {
    "duration": 227,
    "start_time": "2022-12-04T21:50:45.377Z"
   },
   {
    "duration": 462,
    "start_time": "2022-12-04T21:50:45.607Z"
   },
   {
    "duration": 149,
    "start_time": "2022-12-04T21:50:46.071Z"
   },
   {
    "duration": 32,
    "start_time": "2022-12-04T21:50:46.222Z"
   },
   {
    "duration": 189,
    "start_time": "2022-12-04T21:50:46.256Z"
   }
  ],
  "kernelspec": {
   "display_name": "Python 3 (ipykernel)",
   "language": "python",
   "name": "python3"
  },
  "language_info": {
   "codemirror_mode": {
    "name": "ipython",
    "version": 3
   },
   "file_extension": ".py",
   "mimetype": "text/x-python",
   "name": "python",
   "nbconvert_exporter": "python",
   "pygments_lexer": "ipython3",
   "version": "3.9.13"
  },
  "toc": {
   "base_numbering": 1,
   "nav_menu": {},
   "number_sections": false,
   "sideBar": true,
   "skip_h1_title": false,
   "title_cell": "Исследовательский анализ данных. База квартир сервиса Яндекс Недвижимость",
   "title_sidebar": "Contents",
   "toc_cell": true,
   "toc_position": {
    "height": "calc(100% - 180px)",
    "left": "10px",
    "top": "150px",
    "width": "361.25px"
   },
   "toc_section_display": true,
   "toc_window_display": true
  }
 },
 "nbformat": 4,
 "nbformat_minor": 2
}
