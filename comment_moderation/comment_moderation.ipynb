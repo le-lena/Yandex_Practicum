{
 "cells": [
  {
   "cell_type": "markdown",
   "id": "10672d3c",
   "metadata": {},
   "source": [
    "## Проект для «Викишоп»"
   ]
  },
  {
   "cell_type": "markdown",
   "id": "306af62e",
   "metadata": {},
   "source": [
    "Интернет-магазин «Викишоп» запускает новый сервис. Теперь пользователи могут редактировать и дополнять описания товаров, как в вики-сообществах. То есть клиенты предлагают свои правки и комментируют изменения других. Магазину нужен инструмент, который будет искать токсичные комментарии и отправлять их на модерацию. \n",
    "\n",
    "Обучите модель классифицировать комментарии на позитивные и негативные. В вашем распоряжении набор данных с разметкой о токсичности правок.\n",
    "\n",
    "Постройте модель со значением метрики качества *F1* не меньше 0.75. \n",
    "\n",
    "**Инструкция по выполнению проекта**\n",
    "\n",
    "1. Загрузите и подготовьте данные.\n",
    "2. Обучите разные модели. \n",
    "3. Сделайте выводы.\n",
    "\n",
    "Для выполнения проекта применять *BERT* необязательно, но вы можете попробовать.\n",
    "\n",
    "**Описание данных**\n",
    "\n",
    "Данные находятся в файле `toxic_comments.csv`. Столбец *text* в нём содержит текст комментария, а *toxic* — целевой признак."
   ]
  },
  {
   "cell_type": "markdown",
   "id": "0b780be5",
   "metadata": {},
   "source": [
    "## Подготовка"
   ]
  },
  {
   "cell_type": "code",
   "execution_count": 1,
   "id": "85e8468e",
   "metadata": {},
   "outputs": [],
   "source": [
    "import pandas as pd\n",
    "import numpy as np\n",
    "import re\n",
    "import string\n",
    "import spacy\n",
    "import nltk\n",
    "from nltk.corpus import stopwords as nltk_stopwords\n",
    "\n",
    "from sklearn.model_selection import (train_test_split,GridSearchCV)\n",
    "from sklearn.linear_model import LogisticRegression \n",
    "from sklearn.metrics import f1_score \n",
    "from sklearn.ensemble import RandomForestClassifier\n",
    "from sklearn.tree import DecisionTreeClassifier\n",
    "from sklearn.feature_extraction.text import TfidfVectorizer \n",
    "\n",
    "\n",
    "from ipywidgets import IntProgress\n",
    "from IPython.display import display\n",
    "import time\n",
    "\n"
   ]
  },
  {
   "cell_type": "code",
   "execution_count": 2,
   "id": "d90601c0",
   "metadata": {},
   "outputs": [],
   "source": [
    "pd.set_option('display.max_rows', None)\n",
    "pd.set_option('display.max_columns', None)"
   ]
  },
  {
   "cell_type": "code",
   "execution_count": 3,
   "id": "27cee46d",
   "metadata": {},
   "outputs": [],
   "source": [
    "try:\n",
    "    data=pd.read_csv(r\"C:\\Users\\Admin\\Desktop\\toxic_comments.csv\")\n",
    "except:\n",
    "    data=pd.read_csv('/datasets/toxic_comments.csv')"
   ]
  },
  {
   "cell_type": "code",
   "execution_count": 4,
   "id": "9b04e9a9",
   "metadata": {},
   "outputs": [
    {
     "data": {
      "text/plain": [
       "(159292, 3)"
      ]
     },
     "execution_count": 4,
     "metadata": {},
     "output_type": "execute_result"
    }
   ],
   "source": [
    "data.shape"
   ]
  },
  {
   "cell_type": "code",
   "execution_count": 5,
   "id": "a041c4ed",
   "metadata": {},
   "outputs": [
    {
     "data": {
      "text/html": [
       "<div>\n",
       "<style scoped>\n",
       "    .dataframe tbody tr th:only-of-type {\n",
       "        vertical-align: middle;\n",
       "    }\n",
       "\n",
       "    .dataframe tbody tr th {\n",
       "        vertical-align: top;\n",
       "    }\n",
       "\n",
       "    .dataframe thead th {\n",
       "        text-align: right;\n",
       "    }\n",
       "</style>\n",
       "<table border=\"1\" class=\"dataframe\">\n",
       "  <thead>\n",
       "    <tr style=\"text-align: right;\">\n",
       "      <th></th>\n",
       "      <th>Unnamed: 0</th>\n",
       "      <th>text</th>\n",
       "      <th>toxic</th>\n",
       "    </tr>\n",
       "  </thead>\n",
       "  <tbody>\n",
       "    <tr>\n",
       "      <th>0</th>\n",
       "      <td>0</td>\n",
       "      <td>Explanation\\nWhy the edits made under my usern...</td>\n",
       "      <td>0</td>\n",
       "    </tr>\n",
       "    <tr>\n",
       "      <th>1</th>\n",
       "      <td>1</td>\n",
       "      <td>D'aww! He matches this background colour I'm s...</td>\n",
       "      <td>0</td>\n",
       "    </tr>\n",
       "    <tr>\n",
       "      <th>2</th>\n",
       "      <td>2</td>\n",
       "      <td>Hey man, I'm really not trying to edit war. It...</td>\n",
       "      <td>0</td>\n",
       "    </tr>\n",
       "    <tr>\n",
       "      <th>3</th>\n",
       "      <td>3</td>\n",
       "      <td>\"\\nMore\\nI can't make any real suggestions on ...</td>\n",
       "      <td>0</td>\n",
       "    </tr>\n",
       "    <tr>\n",
       "      <th>4</th>\n",
       "      <td>4</td>\n",
       "      <td>You, sir, are my hero. Any chance you remember...</td>\n",
       "      <td>0</td>\n",
       "    </tr>\n",
       "  </tbody>\n",
       "</table>\n",
       "</div>"
      ],
      "text/plain": [
       "   Unnamed: 0                                               text  toxic\n",
       "0           0  Explanation\\nWhy the edits made under my usern...      0\n",
       "1           1  D'aww! He matches this background colour I'm s...      0\n",
       "2           2  Hey man, I'm really not trying to edit war. It...      0\n",
       "3           3  \"\\nMore\\nI can't make any real suggestions on ...      0\n",
       "4           4  You, sir, are my hero. Any chance you remember...      0"
      ]
     },
     "execution_count": 5,
     "metadata": {},
     "output_type": "execute_result"
    }
   ],
   "source": [
    "data.head()"
   ]
  },
  {
   "cell_type": "code",
   "execution_count": 6,
   "id": "4d453fb2",
   "metadata": {
    "scrolled": true
   },
   "outputs": [
    {
     "name": "stdout",
     "output_type": "stream",
     "text": [
      "<class 'pandas.core.frame.DataFrame'>\n",
      "RangeIndex: 159292 entries, 0 to 159291\n",
      "Data columns (total 3 columns):\n",
      " #   Column      Non-Null Count   Dtype \n",
      "---  ------      --------------   ----- \n",
      " 0   Unnamed: 0  159292 non-null  int64 \n",
      " 1   text        159292 non-null  object\n",
      " 2   toxic       159292 non-null  int64 \n",
      "dtypes: int64(2), object(1)\n",
      "memory usage: 3.6+ MB\n"
     ]
    }
   ],
   "source": [
    "data.info()"
   ]
  },
  {
   "cell_type": "code",
   "execution_count": 7,
   "id": "bb0d390f",
   "metadata": {},
   "outputs": [
    {
     "data": {
      "text/plain": [
       "0"
      ]
     },
     "execution_count": 7,
     "metadata": {},
     "output_type": "execute_result"
    }
   ],
   "source": [
    "data['text'].duplicated().sum()"
   ]
  },
  {
   "cell_type": "code",
   "execution_count": 8,
   "id": "b52ef156",
   "metadata": {},
   "outputs": [
    {
     "data": {
      "text/plain": [
       "0    143106\n",
       "1     16186\n",
       "Name: toxic, dtype: int64"
      ]
     },
     "execution_count": 8,
     "metadata": {},
     "output_type": "execute_result"
    }
   ],
   "source": [
    "data['toxic'].value_counts()"
   ]
  },
  {
   "cell_type": "code",
   "execution_count": 9,
   "id": "adb84b1a",
   "metadata": {},
   "outputs": [],
   "source": [
    "string.punctuation=string.punctuation+'\\n'"
   ]
  },
  {
   "cell_type": "code",
   "execution_count": 10,
   "id": "a485e9b3",
   "metadata": {},
   "outputs": [],
   "source": [
    "def remove_punctuation(text):\n",
    "    no_punct=''.join([c for c in text if c not in string.punctuation])\n",
    "    return no_punct"
   ]
  },
  {
   "cell_type": "code",
   "execution_count": 11,
   "id": "09b94723",
   "metadata": {},
   "outputs": [],
   "source": [
    "data['text'] = data['text'].apply(lambda x: remove_punctuation(x))"
   ]
  },
  {
   "cell_type": "code",
   "execution_count": 12,
   "id": "aaf0759b",
   "metadata": {},
   "outputs": [
    {
     "data": {
      "text/html": [
       "<div>\n",
       "<style scoped>\n",
       "    .dataframe tbody tr th:only-of-type {\n",
       "        vertical-align: middle;\n",
       "    }\n",
       "\n",
       "    .dataframe tbody tr th {\n",
       "        vertical-align: top;\n",
       "    }\n",
       "\n",
       "    .dataframe thead th {\n",
       "        text-align: right;\n",
       "    }\n",
       "</style>\n",
       "<table border=\"1\" class=\"dataframe\">\n",
       "  <thead>\n",
       "    <tr style=\"text-align: right;\">\n",
       "      <th></th>\n",
       "      <th>Unnamed: 0</th>\n",
       "      <th>text</th>\n",
       "      <th>toxic</th>\n",
       "    </tr>\n",
       "  </thead>\n",
       "  <tbody>\n",
       "    <tr>\n",
       "      <th>0</th>\n",
       "      <td>0</td>\n",
       "      <td>ExplanationWhy the edits made under my usernam...</td>\n",
       "      <td>0</td>\n",
       "    </tr>\n",
       "    <tr>\n",
       "      <th>1</th>\n",
       "      <td>1</td>\n",
       "      <td>Daww He matches this background colour Im seem...</td>\n",
       "      <td>0</td>\n",
       "    </tr>\n",
       "    <tr>\n",
       "      <th>2</th>\n",
       "      <td>2</td>\n",
       "      <td>Hey man Im really not trying to edit war Its j...</td>\n",
       "      <td>0</td>\n",
       "    </tr>\n",
       "    <tr>\n",
       "      <th>3</th>\n",
       "      <td>3</td>\n",
       "      <td>MoreI cant make any real suggestions on improv...</td>\n",
       "      <td>0</td>\n",
       "    </tr>\n",
       "    <tr>\n",
       "      <th>4</th>\n",
       "      <td>4</td>\n",
       "      <td>You sir are my hero Any chance you remember wh...</td>\n",
       "      <td>0</td>\n",
       "    </tr>\n",
       "  </tbody>\n",
       "</table>\n",
       "</div>"
      ],
      "text/plain": [
       "   Unnamed: 0                                               text  toxic\n",
       "0           0  ExplanationWhy the edits made under my usernam...      0\n",
       "1           1  Daww He matches this background colour Im seem...      0\n",
       "2           2  Hey man Im really not trying to edit war Its j...      0\n",
       "3           3  MoreI cant make any real suggestions on improv...      0\n",
       "4           4  You sir are my hero Any chance you remember wh...      0"
      ]
     },
     "execution_count": 12,
     "metadata": {},
     "output_type": "execute_result"
    }
   ],
   "source": [
    "data.head()"
   ]
  },
  {
   "cell_type": "code",
   "execution_count": 13,
   "id": "91657562",
   "metadata": {},
   "outputs": [],
   "source": [
    "nlp = spacy.load(\"en_core_web_sm\", disable=['parser', 'ner'])"
   ]
  },
  {
   "cell_type": "code",
   "execution_count": 14,
   "id": "05d3e7c0",
   "metadata": {},
   "outputs": [],
   "source": [
    "\n",
    "prgBar = IntProgress(min = 0, max = data.shape[0]) # Создаем прогрессбар\n"
   ]
  },
  {
   "cell_type": "code",
   "execution_count": 15,
   "id": "e0acd8a4",
   "metadata": {},
   "outputs": [],
   "source": [
    "\n",
    "def lemmatizer_text(text):\n",
    "    doc = nlp(text)\n",
    "    res=\" \".join([token.lemma_ for token in doc])\n",
    "    prgBar.value = prgBar.value + 1 \n",
    "    return res"
   ]
  },
  {
   "cell_type": "code",
   "execution_count": 16,
   "id": "5e2b724b",
   "metadata": {},
   "outputs": [
    {
     "data": {
      "application/vnd.jupyter.widget-view+json": {
       "model_id": "7799ceb56b794e9cb231f5c7ee142aaa",
       "version_major": 2,
       "version_minor": 0
      },
      "text/plain": [
       "IntProgress(value=0, max=159292)"
      ]
     },
     "metadata": {},
     "output_type": "display_data"
    }
   ],
   "source": [
    "display(prgBar) # Выводим прогрессбар на экран"
   ]
  },
  {
   "cell_type": "code",
   "execution_count": 17,
   "id": "964458eb",
   "metadata": {},
   "outputs": [],
   "source": [
    "data['text'] = data['text'].apply(lambda x: lemmatizer_text(x))"
   ]
  },
  {
   "cell_type": "code",
   "execution_count": 18,
   "id": "a402c154",
   "metadata": {},
   "outputs": [],
   "source": [
    "features = data['text']\n",
    "target = data['toxic']"
   ]
  },
  {
   "cell_type": "code",
   "execution_count": 19,
   "id": "44c8b7f3",
   "metadata": {},
   "outputs": [],
   "source": [
    "features_train, features_test, target_train, target_test = train_test_split(\n",
    "    features, target, test_size=0.2, random_state=12345)"
   ]
  },
  {
   "cell_type": "code",
   "execution_count": 20,
   "id": "2590f19d",
   "metadata": {},
   "outputs": [
    {
     "name": "stderr",
     "output_type": "stream",
     "text": [
      "[nltk_data] Downloading package stopwords to /home/jovyan/nltk_data...\n",
      "[nltk_data]   Package stopwords is already up-to-date!\n"
     ]
    }
   ],
   "source": [
    "\n",
    "corpus = features_train\n",
    "nltk.download('stopwords')\n",
    "stopwords = set(nltk_stopwords.words('english'))\n",
    "\n",
    "count_tf_idf = TfidfVectorizer(stop_words=stopwords)\n",
    "tf_idf = count_tf_idf.fit_transform(corpus) "
   ]
  },
  {
   "cell_type": "code",
   "execution_count": 21,
   "id": "5e3addea",
   "metadata": {},
   "outputs": [],
   "source": [
    "\n",
    "corpus_t = features_test\n",
    "tf_idf_t = count_tf_idf.transform(corpus_t) "
   ]
  },
  {
   "cell_type": "markdown",
   "id": "74c120ca",
   "metadata": {},
   "source": [
    "## Обучение"
   ]
  },
  {
   "cell_type": "markdown",
   "id": "1c9da515",
   "metadata": {},
   "source": [
    "## Логистическая регрессия"
   ]
  },
  {
   "cell_type": "code",
   "execution_count": 22,
   "id": "259e962c",
   "metadata": {},
   "outputs": [
    {
     "name": "stdout",
     "output_type": "stream",
     "text": [
      "0.7543057500508175\n"
     ]
    }
   ],
   "source": [
    "\n",
    "model=LogisticRegression(random_state = 12345,solver='liblinear')\n",
    "\n",
    "\n",
    "parametrs = {'penalty': ['l1', 'l2']}\n",
    "grid = GridSearchCV(model, parametrs, cv = 5, verbose = 0, n_jobs = -1, scoring='f1')\n",
    "\n",
    "best_model = grid.fit(tf_idf, target_train)\n",
    "LogisticRegression=best_model\n",
    "print(grid.best_score_)\n",
    "\n"
   ]
  },
  {
   "cell_type": "markdown",
   "id": "e2c1be7a",
   "metadata": {},
   "source": [
    "## Случайный лес"
   ]
  },
  {
   "cell_type": "code",
   "execution_count": 23,
   "id": "cd793bb2",
   "metadata": {},
   "outputs": [
    {
     "name": "stdout",
     "output_type": "stream",
     "text": [
      "0.2745653721241522\n"
     ]
    }
   ],
   "source": [
    "model = RandomForestClassifier(random_state = 12345, verbose = False,class_weight ='balanced')\n",
    "parametrs = {'max_depth' : range(1, 5, 1),\n",
    "                'n_estimators' : range(1, 10, 1)\n",
    "               \n",
    "            }\n",
    "grid = GridSearchCV(model, parametrs, cv=5, scoring='f1')\n",
    "best_model=grid.fit(tf_idf, target_train)\n",
    "\n",
    "print(grid.best_score_)"
   ]
  },
  {
   "cell_type": "markdown",
   "id": "1d124378",
   "metadata": {},
   "source": [
    "## Решающее дерево"
   ]
  },
  {
   "cell_type": "code",
   "execution_count": 24,
   "id": "68e76352",
   "metadata": {},
   "outputs": [
    {
     "name": "stdout",
     "output_type": "stream",
     "text": [
      "0.46496347778132385\n"
     ]
    }
   ],
   "source": [
    "model = DecisionTreeClassifier(random_state = 12345)\n",
    "parametrs = {'max_depth' : range(1, 5, 1)}\n",
    "grid = GridSearchCV(model, parametrs, cv=5, scoring='f1')\n",
    "best_model=grid.fit(tf_idf, target_train)\n",
    "\n",
    "print(grid.best_score_)"
   ]
  },
  {
   "cell_type": "markdown",
   "id": "3bd637f0",
   "metadata": {},
   "source": [
    "## Проверка модели"
   ]
  },
  {
   "cell_type": "code",
   "execution_count": 25,
   "id": "ab3b4c26",
   "metadata": {},
   "outputs": [
    {
     "name": "stdout",
     "output_type": "stream",
     "text": [
      "0.773561811505508\n"
     ]
    }
   ],
   "source": [
    "predicted_test=LogisticRegression.predict(tf_idf_t) \n",
    "f1 = f1_score(target_test,predicted_test)  \n",
    "print(f1)"
   ]
  },
  {
   "cell_type": "markdown",
   "id": "f6a1dc98",
   "metadata": {},
   "source": [
    "## Выводы"
   ]
  },
  {
   "cell_type": "markdown",
   "id": "684af519",
   "metadata": {},
   "source": [
    "Наилучшая модель - логистическая регрессия, работает быстро и метрика f1>0.75. На тестовой выборке метрика равна 0.77."
   ]
  },
  {
   "cell_type": "markdown",
   "id": "0b1a64e0",
   "metadata": {},
   "source": [
    "## Чек-лист проверки"
   ]
  },
  {
   "cell_type": "markdown",
   "id": "263315b9",
   "metadata": {},
   "source": [
    "- [x]  Jupyter Notebook открыт\n",
    "- [X]  Весь код выполняется без ошибок\n",
    "- [X]  Ячейки с кодом расположены в порядке исполнения\n",
    "- [X]  Данные загружены и подготовлены\n",
    "- [X]  Модели обучены\n",
    "- [X]  Значение метрики *F1* не меньше 0.75\n",
    "- [X]  Выводы написаны"
   ]
  }
 ],
 "metadata": {
  "ExecuteTimeLog": [
   {
    "duration": 5226,
    "start_time": "2023-03-30T11:46:17.666Z"
   },
   {
    "duration": 3,
    "start_time": "2023-03-30T11:46:22.894Z"
   },
   {
    "duration": 2457,
    "start_time": "2023-03-30T11:46:22.899Z"
   },
   {
    "duration": 9,
    "start_time": "2023-03-30T11:46:25.358Z"
   },
   {
    "duration": 25,
    "start_time": "2023-03-30T11:46:25.370Z"
   },
   {
    "duration": 31,
    "start_time": "2023-03-30T11:46:25.397Z"
   },
   {
    "duration": 6,
    "start_time": "2023-03-30T11:46:25.431Z"
   },
   {
    "duration": 7,
    "start_time": "2023-03-30T11:46:25.439Z"
   },
   {
    "duration": 4968,
    "start_time": "2023-03-30T11:46:25.447Z"
   },
   {
    "duration": 8,
    "start_time": "2023-03-30T11:46:30.416Z"
   },
   {
    "duration": 4,
    "start_time": "2023-03-30T11:53:40.523Z"
   },
   {
    "duration": 29,
    "start_time": "2023-03-30T11:53:40.919Z"
   },
   {
    "duration": 10433,
    "start_time": "2023-03-30T11:53:41.278Z"
   },
   {
    "duration": 6922,
    "start_time": "2023-03-30T11:54:01.089Z"
   },
   {
    "duration": 1587,
    "start_time": "2023-03-30T11:54:10.379Z"
   },
   {
    "duration": 53502,
    "start_time": "2023-03-30T11:54:18.546Z"
   },
   {
    "duration": 18,
    "start_time": "2023-03-30T11:55:17.721Z"
   },
   {
    "duration": 10879,
    "start_time": "2023-04-01T13:42:06.254Z"
   },
   {
    "duration": 3,
    "start_time": "2023-04-01T13:42:17.135Z"
   },
   {
    "duration": 2437,
    "start_time": "2023-04-01T13:42:17.139Z"
   },
   {
    "duration": 9,
    "start_time": "2023-04-01T13:42:19.577Z"
   },
   {
    "duration": 26,
    "start_time": "2023-04-01T13:42:19.588Z"
   },
   {
    "duration": 32,
    "start_time": "2023-04-01T13:42:19.615Z"
   },
   {
    "duration": 9,
    "start_time": "2023-04-01T13:42:19.649Z"
   },
   {
    "duration": 230,
    "start_time": "2023-04-01T13:42:19.660Z"
   },
   {
    "duration": 113,
    "start_time": "2023-04-01T13:42:19.892Z"
   },
   {
    "duration": 0,
    "start_time": "2023-04-01T13:42:20.007Z"
   },
   {
    "duration": 0,
    "start_time": "2023-04-01T13:42:20.008Z"
   },
   {
    "duration": 0,
    "start_time": "2023-04-01T13:42:20.009Z"
   },
   {
    "duration": 0,
    "start_time": "2023-04-01T13:42:20.010Z"
   },
   {
    "duration": 0,
    "start_time": "2023-04-01T13:42:20.011Z"
   },
   {
    "duration": 0,
    "start_time": "2023-04-01T13:42:20.012Z"
   },
   {
    "duration": 0,
    "start_time": "2023-04-01T13:42:20.014Z"
   },
   {
    "duration": 0,
    "start_time": "2023-04-01T13:42:20.015Z"
   },
   {
    "duration": 0,
    "start_time": "2023-04-01T13:42:20.016Z"
   },
   {
    "duration": 0,
    "start_time": "2023-04-01T13:42:20.017Z"
   },
   {
    "duration": 0,
    "start_time": "2023-04-01T13:42:20.018Z"
   },
   {
    "duration": 74,
    "start_time": "2023-04-01T13:45:35.365Z"
   },
   {
    "duration": 3756,
    "start_time": "2023-04-01T14:03:34.052Z"
   },
   {
    "duration": 3,
    "start_time": "2023-04-01T14:03:37.810Z"
   },
   {
    "duration": 810,
    "start_time": "2023-04-01T14:03:37.817Z"
   },
   {
    "duration": 8,
    "start_time": "2023-04-01T14:03:38.629Z"
   },
   {
    "duration": 19,
    "start_time": "2023-04-01T14:03:38.639Z"
   },
   {
    "duration": 46,
    "start_time": "2023-04-01T14:03:38.659Z"
   },
   {
    "duration": 71,
    "start_time": "2023-04-01T14:03:38.707Z"
   },
   {
    "duration": 13,
    "start_time": "2023-04-01T14:03:38.780Z"
   },
   {
    "duration": 6,
    "start_time": "2023-04-01T14:03:38.794Z"
   },
   {
    "duration": 4810,
    "start_time": "2023-04-01T14:03:38.803Z"
   },
   {
    "duration": 8,
    "start_time": "2023-04-01T14:03:43.615Z"
   },
   {
    "duration": 10,
    "start_time": "2023-04-01T14:03:43.625Z"
   },
   {
    "duration": 37,
    "start_time": "2023-04-01T14:03:43.636Z"
   },
   {
    "duration": 10214,
    "start_time": "2023-04-01T14:03:43.675Z"
   },
   {
    "duration": 2471,
    "start_time": "2023-04-01T14:03:53.891Z"
   },
   {
    "duration": 50564,
    "start_time": "2023-04-01T14:03:56.363Z"
   },
   {
    "duration": 111100,
    "start_time": "2023-04-01T14:04:46.929Z"
   },
   {
    "duration": 281637,
    "start_time": "2023-04-01T14:06:38.031Z"
   },
   {
    "duration": 15,
    "start_time": "2023-04-01T14:11:19.670Z"
   },
   {
    "duration": 94404,
    "start_time": "2023-04-01T14:11:19.689Z"
   },
   {
    "duration": 96382,
    "start_time": "2023-04-01T14:31:28.114Z"
   },
   {
    "duration": 96055,
    "start_time": "2023-04-01T14:33:23.703Z"
   },
   {
    "duration": 52543,
    "start_time": "2023-04-01T14:35:16.103Z"
   },
   {
    "duration": 96365,
    "start_time": "2023-04-01T14:36:31.101Z"
   },
   {
    "duration": 282890,
    "start_time": "2023-04-01T14:40:57.787Z"
   },
   {
    "duration": 4,
    "start_time": "2023-04-01T14:45:40.679Z"
   },
   {
    "duration": 347,
    "start_time": "2023-04-01T14:46:16.454Z"
   },
   {
    "duration": 3941,
    "start_time": "2023-04-01T14:46:39.335Z"
   },
   {
    "duration": 3,
    "start_time": "2023-04-01T14:46:43.279Z"
   },
   {
    "duration": 830,
    "start_time": "2023-04-01T14:46:43.284Z"
   },
   {
    "duration": 9,
    "start_time": "2023-04-01T14:46:44.118Z"
   },
   {
    "duration": 193,
    "start_time": "2023-04-01T14:46:44.128Z"
   },
   {
    "duration": 31,
    "start_time": "2023-04-01T14:46:44.322Z"
   },
   {
    "duration": 85,
    "start_time": "2023-04-01T14:46:44.354Z"
   },
   {
    "duration": 39,
    "start_time": "2023-04-01T14:46:44.441Z"
   },
   {
    "duration": 20,
    "start_time": "2023-04-01T14:46:44.482Z"
   },
   {
    "duration": 23,
    "start_time": "2023-04-01T14:46:44.505Z"
   },
   {
    "duration": 4818,
    "start_time": "2023-04-01T14:46:44.530Z"
   },
   {
    "duration": 8,
    "start_time": "2023-04-01T14:46:49.350Z"
   },
   {
    "duration": 15,
    "start_time": "2023-04-01T14:46:49.360Z"
   },
   {
    "duration": 33,
    "start_time": "2023-04-01T14:46:49.377Z"
   },
   {
    "duration": 555,
    "start_time": "2023-04-01T14:46:49.412Z"
   },
   {
    "duration": 0,
    "start_time": "2023-04-01T14:46:49.969Z"
   },
   {
    "duration": 0,
    "start_time": "2023-04-01T14:46:49.970Z"
   },
   {
    "duration": 0,
    "start_time": "2023-04-01T14:46:49.971Z"
   },
   {
    "duration": 0,
    "start_time": "2023-04-01T14:46:49.972Z"
   },
   {
    "duration": 0,
    "start_time": "2023-04-01T14:46:49.973Z"
   },
   {
    "duration": 21,
    "start_time": "2023-04-01T14:51:07.143Z"
   },
   {
    "duration": 21,
    "start_time": "2023-04-01T14:51:20.184Z"
   },
   {
    "duration": 18,
    "start_time": "2023-04-01T14:51:49.829Z"
   },
   {
    "duration": 19,
    "start_time": "2023-04-01T14:52:41.784Z"
   },
   {
    "duration": 2,
    "start_time": "2023-04-01T14:53:37.835Z"
   },
   {
    "duration": 3,
    "start_time": "2023-04-01T14:53:41.075Z"
   },
   {
    "duration": 4797,
    "start_time": "2023-04-01T14:53:42.585Z"
   },
   {
    "duration": 8,
    "start_time": "2023-04-01T14:53:47.384Z"
   },
   {
    "duration": 532,
    "start_time": "2023-04-01T14:54:15.127Z"
   },
   {
    "duration": 8,
    "start_time": "2023-04-01T14:54:24.579Z"
   },
   {
    "duration": 3,
    "start_time": "2023-04-01T14:55:04.509Z"
   },
   {
    "duration": 5,
    "start_time": "2023-04-01T14:55:14.708Z"
   },
   {
    "duration": 4216,
    "start_time": "2023-04-01T14:56:02.744Z"
   },
   {
    "duration": 3,
    "start_time": "2023-04-01T14:56:06.963Z"
   },
   {
    "duration": 914,
    "start_time": "2023-04-01T14:56:06.967Z"
   },
   {
    "duration": 9,
    "start_time": "2023-04-01T14:56:07.884Z"
   },
   {
    "duration": 189,
    "start_time": "2023-04-01T14:56:07.895Z"
   },
   {
    "duration": 41,
    "start_time": "2023-04-01T14:56:08.086Z"
   },
   {
    "duration": 89,
    "start_time": "2023-04-01T14:56:08.129Z"
   },
   {
    "duration": 11,
    "start_time": "2023-04-01T14:56:08.220Z"
   },
   {
    "duration": 13,
    "start_time": "2023-04-01T14:56:08.233Z"
   },
   {
    "duration": 10,
    "start_time": "2023-04-01T14:56:08.249Z"
   },
   {
    "duration": 5195,
    "start_time": "2023-04-01T14:56:08.261Z"
   },
   {
    "duration": 9,
    "start_time": "2023-04-01T14:56:13.457Z"
   },
   {
    "duration": 539,
    "start_time": "2023-04-01T14:56:13.468Z"
   },
   {
    "duration": 13,
    "start_time": "2023-04-01T14:56:14.009Z"
   },
   {
    "duration": 11,
    "start_time": "2023-04-01T14:56:14.024Z"
   },
   {
    "duration": 23,
    "start_time": "2023-04-01T14:56:14.036Z"
   },
   {
    "duration": 1474473,
    "start_time": "2023-04-01T14:56:14.061Z"
   },
   {
    "duration": 3,
    "start_time": "2023-04-01T15:20:48.536Z"
   },
   {
    "duration": 48,
    "start_time": "2023-04-01T15:20:48.541Z"
   },
   {
    "duration": 507,
    "start_time": "2023-04-01T15:20:48.591Z"
   },
   {
    "duration": 0,
    "start_time": "2023-04-01T15:20:49.100Z"
   },
   {
    "duration": 0,
    "start_time": "2023-04-01T15:20:49.101Z"
   },
   {
    "duration": 0,
    "start_time": "2023-04-01T15:20:49.102Z"
   },
   {
    "duration": 0,
    "start_time": "2023-04-01T15:20:49.104Z"
   },
   {
    "duration": 0,
    "start_time": "2023-04-01T15:20:49.105Z"
   },
   {
    "duration": 4,
    "start_time": "2023-04-01T15:33:39.809Z"
   },
   {
    "duration": 6,
    "start_time": "2023-04-01T15:33:56.205Z"
   },
   {
    "duration": 6687,
    "start_time": "2023-04-01T15:34:03.073Z"
   },
   {
    "duration": 1475,
    "start_time": "2023-04-01T15:34:12.574Z"
   },
   {
    "duration": 52765,
    "start_time": "2023-04-01T15:34:16.965Z"
   },
   {
    "duration": 101132,
    "start_time": "2023-04-01T15:37:03.206Z"
   },
   {
    "duration": 340929,
    "start_time": "2023-04-01T15:51:21.978Z"
   },
   {
    "duration": 17,
    "start_time": "2023-04-01T15:59:18.618Z"
   },
   {
    "duration": 4,
    "start_time": "2023-04-01T16:05:26.425Z"
   },
   {
    "duration": 9,
    "start_time": "2023-04-01T16:05:26.431Z"
   },
   {
    "duration": 867,
    "start_time": "2023-04-01T16:05:26.441Z"
   },
   {
    "duration": 7,
    "start_time": "2023-04-01T16:05:27.311Z"
   },
   {
    "duration": 33,
    "start_time": "2023-04-01T16:05:27.320Z"
   },
   {
    "duration": 42,
    "start_time": "2023-04-01T16:05:27.354Z"
   },
   {
    "duration": 83,
    "start_time": "2023-04-01T16:05:27.398Z"
   },
   {
    "duration": 13,
    "start_time": "2023-04-01T16:05:27.483Z"
   },
   {
    "duration": 3,
    "start_time": "2023-04-01T16:05:27.498Z"
   },
   {
    "duration": 15,
    "start_time": "2023-04-01T16:05:27.504Z"
   },
   {
    "duration": 5072,
    "start_time": "2023-04-01T16:05:27.520Z"
   },
   {
    "duration": 7,
    "start_time": "2023-04-01T16:05:32.593Z"
   },
   {
    "duration": 665,
    "start_time": "2023-04-01T16:05:32.602Z"
   },
   {
    "duration": 7,
    "start_time": "2023-04-01T16:05:33.269Z"
   },
   {
    "duration": 9,
    "start_time": "2023-04-01T16:05:33.277Z"
   },
   {
    "duration": 13,
    "start_time": "2023-04-01T16:05:33.287Z"
   },
   {
    "duration": 3874,
    "start_time": "2023-04-01T16:05:45.201Z"
   },
   {
    "duration": 3,
    "start_time": "2023-04-01T16:05:49.077Z"
   },
   {
    "duration": 884,
    "start_time": "2023-04-01T16:05:49.081Z"
   },
   {
    "duration": 10,
    "start_time": "2023-04-01T16:05:49.967Z"
   },
   {
    "duration": 205,
    "start_time": "2023-04-01T16:05:49.979Z"
   },
   {
    "duration": 44,
    "start_time": "2023-04-01T16:05:50.185Z"
   },
   {
    "duration": 78,
    "start_time": "2023-04-01T16:05:50.231Z"
   },
   {
    "duration": 24,
    "start_time": "2023-04-01T16:05:50.310Z"
   },
   {
    "duration": 20,
    "start_time": "2023-04-01T16:05:50.335Z"
   },
   {
    "duration": 23,
    "start_time": "2023-04-01T16:05:50.356Z"
   },
   {
    "duration": 4940,
    "start_time": "2023-04-01T16:05:50.381Z"
   },
   {
    "duration": 9,
    "start_time": "2023-04-01T16:05:55.322Z"
   },
   {
    "duration": 532,
    "start_time": "2023-04-01T16:05:55.333Z"
   },
   {
    "duration": 8,
    "start_time": "2023-04-01T16:05:55.867Z"
   },
   {
    "duration": 22,
    "start_time": "2023-04-01T16:05:55.877Z"
   },
   {
    "duration": 31,
    "start_time": "2023-04-01T16:05:55.901Z"
   },
   {
    "duration": 3746,
    "start_time": "2023-04-01T16:06:55.147Z"
   },
   {
    "duration": 3,
    "start_time": "2023-04-01T16:06:58.895Z"
   },
   {
    "duration": 832,
    "start_time": "2023-04-01T16:06:58.899Z"
   },
   {
    "duration": 8,
    "start_time": "2023-04-01T16:06:59.733Z"
   },
   {
    "duration": 205,
    "start_time": "2023-04-01T16:06:59.743Z"
   },
   {
    "duration": 49,
    "start_time": "2023-04-01T16:06:59.950Z"
   },
   {
    "duration": 89,
    "start_time": "2023-04-01T16:07:00.000Z"
   },
   {
    "duration": 69,
    "start_time": "2023-04-01T16:07:00.091Z"
   },
   {
    "duration": 50,
    "start_time": "2023-04-01T16:07:00.161Z"
   },
   {
    "duration": 31,
    "start_time": "2023-04-01T16:07:00.214Z"
   },
   {
    "duration": 4904,
    "start_time": "2023-04-01T16:07:00.247Z"
   },
   {
    "duration": 8,
    "start_time": "2023-04-01T16:07:05.153Z"
   },
   {
    "duration": 518,
    "start_time": "2023-04-01T16:07:05.163Z"
   },
   {
    "duration": 3,
    "start_time": "2023-04-01T16:07:05.683Z"
   },
   {
    "duration": 1596,
    "start_time": "2023-04-01T16:07:05.688Z"
   },
   {
    "duration": 0,
    "start_time": "2023-04-01T16:07:07.285Z"
   },
   {
    "duration": 0,
    "start_time": "2023-04-01T16:07:07.287Z"
   },
   {
    "duration": 0,
    "start_time": "2023-04-01T16:07:07.288Z"
   },
   {
    "duration": 0,
    "start_time": "2023-04-01T16:07:07.289Z"
   },
   {
    "duration": 0,
    "start_time": "2023-04-01T16:07:07.290Z"
   },
   {
    "duration": 0,
    "start_time": "2023-04-01T16:07:07.291Z"
   },
   {
    "duration": 0,
    "start_time": "2023-04-01T16:07:07.292Z"
   },
   {
    "duration": 0,
    "start_time": "2023-04-01T16:07:07.293Z"
   },
   {
    "duration": 46,
    "start_time": "2023-04-01T16:08:57.189Z"
   },
   {
    "duration": 3,
    "start_time": "2023-04-01T16:09:00.929Z"
   },
   {
    "duration": 1228,
    "start_time": "2023-04-01T16:09:18.531Z"
   },
   {
    "duration": 17,
    "start_time": "2023-04-01T16:09:39.511Z"
   },
   {
    "duration": 24,
    "start_time": "2023-04-01T16:09:42.723Z"
   },
   {
    "duration": 135,
    "start_time": "2023-04-01T16:09:45.429Z"
   },
   {
    "duration": 4,
    "start_time": "2023-04-01T16:09:57.978Z"
   },
   {
    "duration": 24,
    "start_time": "2023-04-01T16:10:06.239Z"
   },
   {
    "duration": 3833,
    "start_time": "2023-04-01T16:12:18.062Z"
   },
   {
    "duration": 3,
    "start_time": "2023-04-01T16:12:21.898Z"
   },
   {
    "duration": 951,
    "start_time": "2023-04-01T16:12:21.903Z"
   },
   {
    "duration": 8,
    "start_time": "2023-04-01T16:12:22.856Z"
   },
   {
    "duration": 193,
    "start_time": "2023-04-01T16:12:22.865Z"
   },
   {
    "duration": 33,
    "start_time": "2023-04-01T16:12:23.059Z"
   },
   {
    "duration": 94,
    "start_time": "2023-04-01T16:12:23.094Z"
   },
   {
    "duration": 11,
    "start_time": "2023-04-01T16:12:23.190Z"
   },
   {
    "duration": 10,
    "start_time": "2023-04-01T16:12:23.202Z"
   },
   {
    "duration": 6,
    "start_time": "2023-04-01T16:12:23.217Z"
   },
   {
    "duration": 5122,
    "start_time": "2023-04-01T16:12:23.225Z"
   },
   {
    "duration": 7,
    "start_time": "2023-04-01T16:12:28.348Z"
   },
   {
    "duration": 453,
    "start_time": "2023-04-01T16:12:28.357Z"
   },
   {
    "duration": 13,
    "start_time": "2023-04-01T16:12:28.812Z"
   },
   {
    "duration": 26,
    "start_time": "2023-04-01T16:12:28.826Z"
   },
   {
    "duration": 10,
    "start_time": "2023-04-01T16:12:28.854Z"
   },
   {
    "duration": 3962,
    "start_time": "2023-04-01T16:22:16.320Z"
   },
   {
    "duration": 3,
    "start_time": "2023-04-01T16:22:20.284Z"
   },
   {
    "duration": 896,
    "start_time": "2023-04-01T16:22:20.289Z"
   },
   {
    "duration": 12,
    "start_time": "2023-04-01T16:22:21.187Z"
   },
   {
    "duration": 199,
    "start_time": "2023-04-01T16:22:21.202Z"
   },
   {
    "duration": 39,
    "start_time": "2023-04-01T16:22:21.403Z"
   },
   {
    "duration": 85,
    "start_time": "2023-04-01T16:22:21.444Z"
   },
   {
    "duration": 19,
    "start_time": "2023-04-01T16:22:21.530Z"
   },
   {
    "duration": 9,
    "start_time": "2023-04-01T16:22:21.551Z"
   },
   {
    "duration": 11,
    "start_time": "2023-04-01T16:22:21.561Z"
   },
   {
    "duration": 5450,
    "start_time": "2023-04-01T16:22:21.574Z"
   },
   {
    "duration": 8,
    "start_time": "2023-04-01T16:22:27.026Z"
   },
   {
    "duration": 21,
    "start_time": "2023-04-01T16:22:27.036Z"
   },
   {
    "duration": 40,
    "start_time": "2023-04-01T16:22:27.060Z"
   },
   {
    "duration": 552,
    "start_time": "2023-04-01T16:22:27.102Z"
   },
   {
    "duration": 0,
    "start_time": "2023-04-01T16:22:27.656Z"
   },
   {
    "duration": 0,
    "start_time": "2023-04-01T16:22:27.658Z"
   },
   {
    "duration": 0,
    "start_time": "2023-04-01T16:22:27.660Z"
   },
   {
    "duration": 0,
    "start_time": "2023-04-01T16:22:27.661Z"
   },
   {
    "duration": 0,
    "start_time": "2023-04-01T16:22:27.663Z"
   },
   {
    "duration": 0,
    "start_time": "2023-04-01T16:22:27.665Z"
   },
   {
    "duration": 3565,
    "start_time": "2023-04-01T16:26:37.617Z"
   },
   {
    "duration": 3,
    "start_time": "2023-04-01T16:26:41.184Z"
   },
   {
    "duration": 834,
    "start_time": "2023-04-01T16:26:41.188Z"
   },
   {
    "duration": 8,
    "start_time": "2023-04-01T16:26:42.024Z"
   },
   {
    "duration": 185,
    "start_time": "2023-04-01T16:26:42.033Z"
   },
   {
    "duration": 32,
    "start_time": "2023-04-01T16:26:42.219Z"
   },
   {
    "duration": 85,
    "start_time": "2023-04-01T16:26:42.252Z"
   },
   {
    "duration": 25,
    "start_time": "2023-04-01T16:26:42.339Z"
   },
   {
    "duration": 7,
    "start_time": "2023-04-01T16:26:42.366Z"
   },
   {
    "duration": 15,
    "start_time": "2023-04-01T16:26:42.376Z"
   },
   {
    "duration": 4795,
    "start_time": "2023-04-01T16:26:42.392Z"
   },
   {
    "duration": 8,
    "start_time": "2023-04-01T16:26:47.189Z"
   },
   {
    "duration": 489,
    "start_time": "2023-04-01T16:26:47.199Z"
   },
   {
    "duration": 8,
    "start_time": "2023-04-01T16:26:47.689Z"
   },
   {
    "duration": 19,
    "start_time": "2023-04-01T16:26:47.698Z"
   },
   {
    "duration": 12,
    "start_time": "2023-04-01T16:26:47.719Z"
   },
   {
    "duration": 1528299,
    "start_time": "2023-04-01T16:26:47.732Z"
   },
   {
    "duration": 2,
    "start_time": "2023-04-01T16:52:16.033Z"
   },
   {
    "duration": 36,
    "start_time": "2023-04-01T16:52:16.037Z"
   },
   {
    "duration": 6713,
    "start_time": "2023-04-01T16:52:16.074Z"
   },
   {
    "duration": 1422,
    "start_time": "2023-04-01T16:52:22.789Z"
   },
   {
    "duration": 51679,
    "start_time": "2023-04-01T16:52:24.213Z"
   },
   {
    "duration": 102770,
    "start_time": "2023-04-01T16:53:15.894Z"
   },
   {
    "duration": 345119,
    "start_time": "2023-04-01T16:54:58.666Z"
   },
   {
    "duration": 17,
    "start_time": "2023-04-01T17:00:43.787Z"
   }
  ],
  "kernelspec": {
   "display_name": "Python 3 (ipykernel)",
   "language": "python",
   "name": "python3"
  },
  "language_info": {
   "codemirror_mode": {
    "name": "ipython",
    "version": 3
   },
   "file_extension": ".py",
   "mimetype": "text/x-python",
   "name": "python",
   "nbconvert_exporter": "python",
   "pygments_lexer": "ipython3",
   "version": "3.9.13"
  },
  "toc": {
   "base_numbering": 1,
   "nav_menu": {},
   "number_sections": true,
   "sideBar": true,
   "skip_h1_title": true,
   "title_cell": "Table of Contents",
   "title_sidebar": "Contents",
   "toc_cell": false,
   "toc_position": {},
   "toc_section_display": true,
   "toc_window_display": false
  }
 },
 "nbformat": 4,
 "nbformat_minor": 5
}
