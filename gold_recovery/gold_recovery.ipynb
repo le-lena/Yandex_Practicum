{
 "cells": [
  {
   "cell_type": "markdown",
   "id": "3ba25844",
   "metadata": {},
   "source": [
    "## Восстановление золота из руды\n",
    "Подготовьте прототип модели машинного обучения для «Цифры». Компания разрабатывает решения для эффективной работы промышленных предприятий.  \n",
    "\n",
    "Модель должна предсказать коэффициент восстановления золота из золотосодержащей руды. Используйте данные с параметрами добычи и очистки.  \n",
    "\n",
    "Модель поможет оптимизировать производство, чтобы не запускать предприятие с убыточными характеристиками.  \n",
    "\n",
    "Вам нужно:  \n",
    "\n",
    "Подготовить данные;  \n",
    "Провести исследовательский анализ данных;  \n",
    "Построить и обучить модель.  \n",
    "Чтобы выполнить проект, обращайтесь к библиотекам pandas, matplotlib и sklearn. Вам поможет их документация.  "
   ]
  },
  {
   "cell_type": "code",
   "execution_count": 1,
   "id": "348e1e6a",
   "metadata": {},
   "outputs": [],
   "source": [
    "import pandas as pd\n",
    "import numpy as np\n",
    "import matplotlib.pyplot as plt\n",
    "import seaborn as sns\n",
    "\n",
    "from sklearn.model_selection import (cross_val_score,train_test_split)\n",
    "from sklearn.metrics import (make_scorer,mean_absolute_error)\n",
    "\n",
    "from sklearn.preprocessing import StandardScaler\n",
    "from sklearn.tree import DecisionTreeRegressor\n",
    "from sklearn.linear_model import LinearRegression\n",
    "from sklearn.utils import shuffle\n",
    "from sklearn.ensemble import RandomForestRegressor\n",
    "from sklearn.dummy import DummyRegressor\n"
   ]
  },
  {
   "cell_type": "markdown",
   "id": "ac45c0ae",
   "metadata": {},
   "source": [
    "Откроем файлы и изучим данные"
   ]
  },
  {
   "cell_type": "raw",
   "id": "2a3fd9fd",
   "metadata": {},
   "source": [
    "data_full=pd.read_csv(r\"C:\\Users\\Admin\\Desktop\\gold_recovery_full_new.csv\",index_col='date', parse_dates=True)\n",
    "#data_full=pd.read_csv('/datasets/gold_recovery_full_new.csv',index_col='date', parse_dates=True)"
   ]
  },
  {
   "cell_type": "raw",
   "id": "a097303c",
   "metadata": {},
   "source": [
    "data_train=pd.read_csv(r\"C:\\Users\\Admin\\Desktop\\gold_recovery_train_new.csv\",index_col='date', parse_dates=True)\n",
    "#data_train=pd.read_csv('/datasets/gold_recovery_train_new.csv',index_col='date', parse_dates=True)"
   ]
  },
  {
   "cell_type": "raw",
   "id": "c7844267",
   "metadata": {},
   "source": [
    "data_test=pd.read_csv(r\"C:\\Users\\Admin\\Desktop\\gold_recovery_test_new.csv\",index_col='date', parse_dates=True)\n",
    "#data_test=pd.read_csv('/datasets/gold_recovery_test_new.csv',index_col='date', parse_dates=True)"
   ]
  },
  {
   "cell_type": "code",
   "execution_count": 2,
   "id": "661c40d4",
   "metadata": {},
   "outputs": [],
   "source": [
    "data_train = pd.read_csv('https://code.s3.yandex.net/datasets/gold_recovery_train_new.csv',index_col='date', parse_dates=True)\n",
    "data_test = pd.read_csv('https://code.s3.yandex.net/datasets/gold_recovery_test_new.csv',index_col='date', parse_dates=True)\n",
    "data_full = pd.read_csv('https://code.s3.yandex.net/datasets/gold_recovery_full_new.csv',index_col='date', parse_dates=True)"
   ]
  },
  {
   "cell_type": "code",
   "execution_count": 3,
   "id": "d6750335",
   "metadata": {},
   "outputs": [
    {
     "name": "stdout",
     "output_type": "stream",
     "text": [
      "                     final.output.concentrate_ag  final.output.concentrate_pb  \\\n",
      "date                                                                            \n",
      "2016-01-15 00:00:00                     6.055403                     9.889648   \n",
      "2016-01-15 01:00:00                     6.029369                     9.968944   \n",
      "2016-01-15 02:00:00                     6.055926                    10.213995   \n",
      "2016-01-15 03:00:00                     6.047977                     9.977019   \n",
      "2016-01-15 04:00:00                     6.148599                    10.142511   \n",
      "\n",
      "                     final.output.concentrate_sol  \\\n",
      "date                                                \n",
      "2016-01-15 00:00:00                      5.507324   \n",
      "2016-01-15 01:00:00                      5.257781   \n",
      "2016-01-15 02:00:00                      5.383759   \n",
      "2016-01-15 03:00:00                      4.858634   \n",
      "2016-01-15 04:00:00                      4.939416   \n",
      "\n",
      "                     final.output.concentrate_au  final.output.recovery  \\\n",
      "date                                                                      \n",
      "2016-01-15 00:00:00                    42.192020              70.541216   \n",
      "2016-01-15 01:00:00                    42.701629              69.266198   \n",
      "2016-01-15 02:00:00                    42.657501              68.116445   \n",
      "2016-01-15 03:00:00                    42.689819              68.347543   \n",
      "2016-01-15 04:00:00                    42.774141              66.927016   \n",
      "\n",
      "                     final.output.tail_ag  final.output.tail_pb  \\\n",
      "date                                                              \n",
      "2016-01-15 00:00:00             10.411962              0.895447   \n",
      "2016-01-15 01:00:00             10.462676              0.927452   \n",
      "2016-01-15 02:00:00             10.507046              0.953716   \n",
      "2016-01-15 03:00:00             10.422762              0.883763   \n",
      "2016-01-15 04:00:00             10.360302              0.792826   \n",
      "\n",
      "                     final.output.tail_sol  final.output.tail_au  \\\n",
      "date                                                               \n",
      "2016-01-15 00:00:00              16.904297              2.143149   \n",
      "2016-01-15 01:00:00              16.634514              2.224930   \n",
      "2016-01-15 02:00:00              16.208849              2.257889   \n",
      "2016-01-15 03:00:00              16.532835              2.146849   \n",
      "2016-01-15 04:00:00              16.525686              2.055292   \n",
      "\n",
      "                     primary_cleaner.input.sulfate  ...  \\\n",
      "date                                                ...   \n",
      "2016-01-15 00:00:00                     127.092003  ...   \n",
      "2016-01-15 01:00:00                     125.629232  ...   \n",
      "2016-01-15 02:00:00                     123.819808  ...   \n",
      "2016-01-15 03:00:00                     122.270188  ...   \n",
      "2016-01-15 04:00:00                     117.988169  ...   \n",
      "\n",
      "                     secondary_cleaner.state.floatbank4_a_air  \\\n",
      "date                                                            \n",
      "2016-01-15 00:00:00                                 14.016835   \n",
      "2016-01-15 01:00:00                                 13.992281   \n",
      "2016-01-15 02:00:00                                 14.015015   \n",
      "2016-01-15 03:00:00                                 14.036510   \n",
      "2016-01-15 04:00:00                                 14.027298   \n",
      "\n",
      "                     secondary_cleaner.state.floatbank4_a_level  \\\n",
      "date                                                              \n",
      "2016-01-15 00:00:00                                 -502.488007   \n",
      "2016-01-15 01:00:00                                 -505.503262   \n",
      "2016-01-15 02:00:00                                 -502.520901   \n",
      "2016-01-15 03:00:00                                 -500.857308   \n",
      "2016-01-15 04:00:00                                 -499.838632   \n",
      "\n",
      "                     secondary_cleaner.state.floatbank4_b_air  \\\n",
      "date                                                            \n",
      "2016-01-15 00:00:00                                 12.099931   \n",
      "2016-01-15 01:00:00                                 11.950531   \n",
      "2016-01-15 02:00:00                                 11.912783   \n",
      "2016-01-15 03:00:00                                 11.999550   \n",
      "2016-01-15 04:00:00                                 11.953070   \n",
      "\n",
      "                     secondary_cleaner.state.floatbank4_b_level  \\\n",
      "date                                                              \n",
      "2016-01-15 00:00:00                                 -504.715942   \n",
      "2016-01-15 01:00:00                                 -501.331529   \n",
      "2016-01-15 02:00:00                                 -501.133383   \n",
      "2016-01-15 03:00:00                                 -501.193686   \n",
      "2016-01-15 04:00:00                                 -501.053894   \n",
      "\n",
      "                     secondary_cleaner.state.floatbank5_a_air  \\\n",
      "date                                                            \n",
      "2016-01-15 00:00:00                                  9.925633   \n",
      "2016-01-15 01:00:00                                 10.039245   \n",
      "2016-01-15 02:00:00                                 10.070913   \n",
      "2016-01-15 03:00:00                                  9.970366   \n",
      "2016-01-15 04:00:00                                  9.925709   \n",
      "\n",
      "                     secondary_cleaner.state.floatbank5_a_level  \\\n",
      "date                                                              \n",
      "2016-01-15 00:00:00                                 -498.310211   \n",
      "2016-01-15 01:00:00                                 -500.169983   \n",
      "2016-01-15 02:00:00                                 -500.129135   \n",
      "2016-01-15 03:00:00                                 -499.201640   \n",
      "2016-01-15 04:00:00                                 -501.686727   \n",
      "\n",
      "                     secondary_cleaner.state.floatbank5_b_air  \\\n",
      "date                                                            \n",
      "2016-01-15 00:00:00                                  8.079666   \n",
      "2016-01-15 01:00:00                                  7.984757   \n",
      "2016-01-15 02:00:00                                  8.013877   \n",
      "2016-01-15 03:00:00                                  7.977324   \n",
      "2016-01-15 04:00:00                                  7.894242   \n",
      "\n",
      "                     secondary_cleaner.state.floatbank5_b_level  \\\n",
      "date                                                              \n",
      "2016-01-15 00:00:00                                 -500.470978   \n",
      "2016-01-15 01:00:00                                 -500.582168   \n",
      "2016-01-15 02:00:00                                 -500.517572   \n",
      "2016-01-15 03:00:00                                 -500.255908   \n",
      "2016-01-15 04:00:00                                 -500.356035   \n",
      "\n",
      "                     secondary_cleaner.state.floatbank6_a_air  \\\n",
      "date                                                            \n",
      "2016-01-15 00:00:00                                 14.151341   \n",
      "2016-01-15 01:00:00                                 13.998353   \n",
      "2016-01-15 02:00:00                                 14.028663   \n",
      "2016-01-15 03:00:00                                 14.005551   \n",
      "2016-01-15 04:00:00                                 13.996647   \n",
      "\n",
      "                     secondary_cleaner.state.floatbank6_a_level  \n",
      "date                                                             \n",
      "2016-01-15 00:00:00                                 -605.841980  \n",
      "2016-01-15 01:00:00                                 -599.787184  \n",
      "2016-01-15 02:00:00                                 -601.427363  \n",
      "2016-01-15 03:00:00                                 -599.996129  \n",
      "2016-01-15 04:00:00                                 -601.496691  \n",
      "\n",
      "[5 rows x 86 columns]\n"
     ]
    }
   ],
   "source": [
    "print(data_full.head())"
   ]
  },
  {
   "cell_type": "code",
   "execution_count": 4,
   "id": "e704cb59",
   "metadata": {},
   "outputs": [
    {
     "name": "stdout",
     "output_type": "stream",
     "text": [
      "<class 'pandas.core.frame.DataFrame'>\n",
      "DatetimeIndex: 19439 entries, 2016-01-15 00:00:00 to 2018-08-18 10:59:59\n",
      "Data columns (total 86 columns):\n",
      " #   Column                                              Non-Null Count  Dtype  \n",
      "---  ------                                              --------------  -----  \n",
      " 0   final.output.concentrate_ag                         19438 non-null  float64\n",
      " 1   final.output.concentrate_pb                         19438 non-null  float64\n",
      " 2   final.output.concentrate_sol                        19228 non-null  float64\n",
      " 3   final.output.concentrate_au                         19439 non-null  float64\n",
      " 4   final.output.recovery                               19439 non-null  float64\n",
      " 5   final.output.tail_ag                                19438 non-null  float64\n",
      " 6   final.output.tail_pb                                19338 non-null  float64\n",
      " 7   final.output.tail_sol                               19433 non-null  float64\n",
      " 8   final.output.tail_au                                19439 non-null  float64\n",
      " 9   primary_cleaner.input.sulfate                       19415 non-null  float64\n",
      " 10  primary_cleaner.input.depressant                    19402 non-null  float64\n",
      " 11  primary_cleaner.input.feed_size                     19439 non-null  float64\n",
      " 12  primary_cleaner.input.xanthate                      19335 non-null  float64\n",
      " 13  primary_cleaner.output.concentrate_ag               19439 non-null  float64\n",
      " 14  primary_cleaner.output.concentrate_pb               19323 non-null  float64\n",
      " 15  primary_cleaner.output.concentrate_sol              19069 non-null  float64\n",
      " 16  primary_cleaner.output.concentrate_au               19439 non-null  float64\n",
      " 17  primary_cleaner.output.tail_ag                      19435 non-null  float64\n",
      " 18  primary_cleaner.output.tail_pb                      19418 non-null  float64\n",
      " 19  primary_cleaner.output.tail_sol                     19377 non-null  float64\n",
      " 20  primary_cleaner.output.tail_au                      19439 non-null  float64\n",
      " 21  primary_cleaner.state.floatbank8_a_air              19435 non-null  float64\n",
      " 22  primary_cleaner.state.floatbank8_a_level            19438 non-null  float64\n",
      " 23  primary_cleaner.state.floatbank8_b_air              19435 non-null  float64\n",
      " 24  primary_cleaner.state.floatbank8_b_level            19438 non-null  float64\n",
      " 25  primary_cleaner.state.floatbank8_c_air              19437 non-null  float64\n",
      " 26  primary_cleaner.state.floatbank8_c_level            19438 non-null  float64\n",
      " 27  primary_cleaner.state.floatbank8_d_air              19436 non-null  float64\n",
      " 28  primary_cleaner.state.floatbank8_d_level            19438 non-null  float64\n",
      " 29  rougher.calculation.sulfate_to_au_concentrate       19437 non-null  float64\n",
      " 30  rougher.calculation.floatbank10_sulfate_to_au_feed  19437 non-null  float64\n",
      " 31  rougher.calculation.floatbank11_sulfate_to_au_feed  19437 non-null  float64\n",
      " 32  rougher.calculation.au_pb_ratio                     19439 non-null  float64\n",
      " 33  rougher.input.feed_ag                               19439 non-null  float64\n",
      " 34  rougher.input.feed_pb                               19339 non-null  float64\n",
      " 35  rougher.input.feed_rate                             19428 non-null  float64\n",
      " 36  rougher.input.feed_size                             19294 non-null  float64\n",
      " 37  rougher.input.feed_sol                              19340 non-null  float64\n",
      " 38  rougher.input.feed_au                               19439 non-null  float64\n",
      " 39  rougher.input.floatbank10_sulfate                   19405 non-null  float64\n",
      " 40  rougher.input.floatbank10_xanthate                  19431 non-null  float64\n",
      " 41  rougher.input.floatbank11_sulfate                   19395 non-null  float64\n",
      " 42  rougher.input.floatbank11_xanthate                  18986 non-null  float64\n",
      " 43  rougher.output.concentrate_ag                       19439 non-null  float64\n",
      " 44  rougher.output.concentrate_pb                       19439 non-null  float64\n",
      " 45  rougher.output.concentrate_sol                      19416 non-null  float64\n",
      " 46  rougher.output.concentrate_au                       19439 non-null  float64\n",
      " 47  rougher.output.recovery                             19439 non-null  float64\n",
      " 48  rougher.output.tail_ag                              19438 non-null  float64\n",
      " 49  rougher.output.tail_pb                              19439 non-null  float64\n",
      " 50  rougher.output.tail_sol                             19439 non-null  float64\n",
      " 51  rougher.output.tail_au                              19439 non-null  float64\n",
      " 52  rougher.state.floatbank10_a_air                     19438 non-null  float64\n",
      " 53  rougher.state.floatbank10_a_level                   19438 non-null  float64\n",
      " 54  rougher.state.floatbank10_b_air                     19438 non-null  float64\n",
      " 55  rougher.state.floatbank10_b_level                   19438 non-null  float64\n",
      " 56  rougher.state.floatbank10_c_air                     19438 non-null  float64\n",
      " 57  rougher.state.floatbank10_c_level                   19438 non-null  float64\n",
      " 58  rougher.state.floatbank10_d_air                     19439 non-null  float64\n",
      " 59  rougher.state.floatbank10_d_level                   19439 non-null  float64\n",
      " 60  rougher.state.floatbank10_e_air                     19003 non-null  float64\n",
      " 61  rougher.state.floatbank10_e_level                   19439 non-null  float64\n",
      " 62  rougher.state.floatbank10_f_air                     19439 non-null  float64\n",
      " 63  rougher.state.floatbank10_f_level                   19439 non-null  float64\n",
      " 64  secondary_cleaner.output.tail_ag                    19437 non-null  float64\n",
      " 65  secondary_cleaner.output.tail_pb                    19427 non-null  float64\n",
      " 66  secondary_cleaner.output.tail_sol                   17691 non-null  float64\n",
      " 67  secondary_cleaner.output.tail_au                    19439 non-null  float64\n",
      " 68  secondary_cleaner.state.floatbank2_a_air            19219 non-null  float64\n",
      " 69  secondary_cleaner.state.floatbank2_a_level          19438 non-null  float64\n",
      " 70  secondary_cleaner.state.floatbank2_b_air            19416 non-null  float64\n",
      " 71  secondary_cleaner.state.floatbank2_b_level          19438 non-null  float64\n",
      " 72  secondary_cleaner.state.floatbank3_a_air            19426 non-null  float64\n",
      " 73  secondary_cleaner.state.floatbank3_a_level          19438 non-null  float64\n",
      " 74  secondary_cleaner.state.floatbank3_b_air            19438 non-null  float64\n",
      " 75  secondary_cleaner.state.floatbank3_b_level          19438 non-null  float64\n",
      " 76  secondary_cleaner.state.floatbank4_a_air            19433 non-null  float64\n",
      " 77  secondary_cleaner.state.floatbank4_a_level          19438 non-null  float64\n",
      " 78  secondary_cleaner.state.floatbank4_b_air            19438 non-null  float64\n",
      " 79  secondary_cleaner.state.floatbank4_b_level          19438 non-null  float64\n",
      " 80  secondary_cleaner.state.floatbank5_a_air            19438 non-null  float64\n",
      " 81  secondary_cleaner.state.floatbank5_a_level          19438 non-null  float64\n",
      " 82  secondary_cleaner.state.floatbank5_b_air            19438 non-null  float64\n",
      " 83  secondary_cleaner.state.floatbank5_b_level          19438 non-null  float64\n",
      " 84  secondary_cleaner.state.floatbank6_a_air            19437 non-null  float64\n",
      " 85  secondary_cleaner.state.floatbank6_a_level          19438 non-null  float64\n",
      "dtypes: float64(86)\n",
      "memory usage: 12.9 MB\n"
     ]
    }
   ],
   "source": [
    "data_full.info() #есть небольшие по количеству пропуск в данных"
   ]
  },
  {
   "cell_type": "code",
   "execution_count": 5,
   "id": "be712dca",
   "metadata": {},
   "outputs": [
    {
     "name": "stdout",
     "output_type": "stream",
     "text": [
      "<class 'pandas.core.frame.DataFrame'>\n",
      "DatetimeIndex: 5290 entries, 2016-09-01 00:59:59 to 2017-12-31 23:59:59\n",
      "Data columns (total 52 columns):\n",
      " #   Column                                      Non-Null Count  Dtype  \n",
      "---  ------                                      --------------  -----  \n",
      " 0   primary_cleaner.input.sulfate               5286 non-null   float64\n",
      " 1   primary_cleaner.input.depressant            5285 non-null   float64\n",
      " 2   primary_cleaner.input.feed_size             5290 non-null   float64\n",
      " 3   primary_cleaner.input.xanthate              5286 non-null   float64\n",
      " 4   primary_cleaner.state.floatbank8_a_air      5290 non-null   float64\n",
      " 5   primary_cleaner.state.floatbank8_a_level    5290 non-null   float64\n",
      " 6   primary_cleaner.state.floatbank8_b_air      5290 non-null   float64\n",
      " 7   primary_cleaner.state.floatbank8_b_level    5290 non-null   float64\n",
      " 8   primary_cleaner.state.floatbank8_c_air      5290 non-null   float64\n",
      " 9   primary_cleaner.state.floatbank8_c_level    5290 non-null   float64\n",
      " 10  primary_cleaner.state.floatbank8_d_air      5290 non-null   float64\n",
      " 11  primary_cleaner.state.floatbank8_d_level    5290 non-null   float64\n",
      " 12  rougher.input.feed_ag                       5290 non-null   float64\n",
      " 13  rougher.input.feed_pb                       5290 non-null   float64\n",
      " 14  rougher.input.feed_rate                     5287 non-null   float64\n",
      " 15  rougher.input.feed_size                     5289 non-null   float64\n",
      " 16  rougher.input.feed_sol                      5269 non-null   float64\n",
      " 17  rougher.input.feed_au                       5290 non-null   float64\n",
      " 18  rougher.input.floatbank10_sulfate           5285 non-null   float64\n",
      " 19  rougher.input.floatbank10_xanthate          5290 non-null   float64\n",
      " 20  rougher.input.floatbank11_sulfate           5282 non-null   float64\n",
      " 21  rougher.input.floatbank11_xanthate          5265 non-null   float64\n",
      " 22  rougher.state.floatbank10_a_air             5290 non-null   float64\n",
      " 23  rougher.state.floatbank10_a_level           5290 non-null   float64\n",
      " 24  rougher.state.floatbank10_b_air             5290 non-null   float64\n",
      " 25  rougher.state.floatbank10_b_level           5290 non-null   float64\n",
      " 26  rougher.state.floatbank10_c_air             5290 non-null   float64\n",
      " 27  rougher.state.floatbank10_c_level           5290 non-null   float64\n",
      " 28  rougher.state.floatbank10_d_air             5290 non-null   float64\n",
      " 29  rougher.state.floatbank10_d_level           5290 non-null   float64\n",
      " 30  rougher.state.floatbank10_e_air             5290 non-null   float64\n",
      " 31  rougher.state.floatbank10_e_level           5290 non-null   float64\n",
      " 32  rougher.state.floatbank10_f_air             5290 non-null   float64\n",
      " 33  rougher.state.floatbank10_f_level           5290 non-null   float64\n",
      " 34  secondary_cleaner.state.floatbank2_a_air    5287 non-null   float64\n",
      " 35  secondary_cleaner.state.floatbank2_a_level  5290 non-null   float64\n",
      " 36  secondary_cleaner.state.floatbank2_b_air    5288 non-null   float64\n",
      " 37  secondary_cleaner.state.floatbank2_b_level  5290 non-null   float64\n",
      " 38  secondary_cleaner.state.floatbank3_a_air    5281 non-null   float64\n",
      " 39  secondary_cleaner.state.floatbank3_a_level  5290 non-null   float64\n",
      " 40  secondary_cleaner.state.floatbank3_b_air    5290 non-null   float64\n",
      " 41  secondary_cleaner.state.floatbank3_b_level  5290 non-null   float64\n",
      " 42  secondary_cleaner.state.floatbank4_a_air    5290 non-null   float64\n",
      " 43  secondary_cleaner.state.floatbank4_a_level  5290 non-null   float64\n",
      " 44  secondary_cleaner.state.floatbank4_b_air    5290 non-null   float64\n",
      " 45  secondary_cleaner.state.floatbank4_b_level  5290 non-null   float64\n",
      " 46  secondary_cleaner.state.floatbank5_a_air    5290 non-null   float64\n",
      " 47  secondary_cleaner.state.floatbank5_a_level  5290 non-null   float64\n",
      " 48  secondary_cleaner.state.floatbank5_b_air    5290 non-null   float64\n",
      " 49  secondary_cleaner.state.floatbank5_b_level  5290 non-null   float64\n",
      " 50  secondary_cleaner.state.floatbank6_a_air    5290 non-null   float64\n",
      " 51  secondary_cleaner.state.floatbank6_a_level  5290 non-null   float64\n",
      "dtypes: float64(52)\n",
      "memory usage: 2.1 MB\n"
     ]
    }
   ],
   "source": [
    "data_test.info()"
   ]
  },
  {
   "cell_type": "code",
   "execution_count": 6,
   "id": "aca1b0f8",
   "metadata": {},
   "outputs": [
    {
     "name": "stdout",
     "output_type": "stream",
     "text": [
      "(19439, 86)\n"
     ]
    }
   ],
   "source": [
    "print(data_full.shape)"
   ]
  },
  {
   "cell_type": "code",
   "execution_count": 7,
   "id": "7f9af806",
   "metadata": {
    "scrolled": true
   },
   "outputs": [
    {
     "name": "stdout",
     "output_type": "stream",
     "text": [
      "(5290, 52)\n"
     ]
    }
   ],
   "source": [
    "print(data_test.shape)"
   ]
  },
  {
   "cell_type": "markdown",
   "id": "1fd619e5",
   "metadata": {},
   "source": [
    "Проверим, что эффективность обогащения рассчитана правильно.\n",
    "Вычислим её на обучающей выборке для признака rougher.output.recovery. \n",
    "Найдем MAE между вашими расчётами и значением признака."
   ]
  },
  {
   "cell_type": "code",
   "execution_count": 8,
   "id": "8090f515",
   "metadata": {},
   "outputs": [
    {
     "name": "stdout",
     "output_type": "stream",
     "text": [
      "date\n",
      "2016-01-15 00:00:00    6.486150\n",
      "2016-01-15 01:00:00    6.478583\n",
      "2016-01-15 02:00:00    6.362222\n",
      "2016-01-15 03:00:00    6.118189\n",
      "2016-01-15 04:00:00    5.663707\n",
      "                         ...   \n",
      "2018-08-18 06:59:59    5.335862\n",
      "2018-08-18 07:59:59    4.838619\n",
      "2018-08-18 08:59:59    4.525061\n",
      "2018-08-18 09:59:59    4.362781\n",
      "2018-08-18 10:59:59    4.365491\n",
      "Name: rougher.input.feed_au, Length: 19439, dtype: float64\n",
      "date\n",
      "2016-01-15 00:00:00    19.793808\n",
      "2016-01-15 01:00:00    20.050975\n",
      "2016-01-15 02:00:00    19.737170\n",
      "2016-01-15 03:00:00    19.320810\n",
      "2016-01-15 04:00:00    19.216101\n",
      "                         ...    \n",
      "2018-08-18 06:59:59    18.603550\n",
      "2018-08-18 07:59:59    18.441436\n",
      "2018-08-18 08:59:59    15.111231\n",
      "2018-08-18 09:59:59    17.834772\n",
      "2018-08-18 10:59:59    17.804134\n",
      "Name: rougher.output.concentrate_au, Length: 19439, dtype: float64\n",
      "date\n",
      "2016-01-15 00:00:00    1.170244\n",
      "2016-01-15 01:00:00    1.184827\n",
      "2016-01-15 02:00:00    1.162562\n",
      "2016-01-15 03:00:00    1.079755\n",
      "2016-01-15 04:00:00    1.012642\n",
      "                         ...   \n",
      "2018-08-18 06:59:59    0.748633\n",
      "2018-08-18 07:59:59    0.771582\n",
      "2018-08-18 08:59:59    0.685059\n",
      "2018-08-18 09:59:59    0.567130\n",
      "2018-08-18 10:59:59    0.586439\n",
      "Name: rougher.output.tail_au, Length: 19439, dtype: float64\n"
     ]
    }
   ],
   "source": [
    "print(data_full['rougher.input.feed_au']) # доля золота в сырье до флотации F\n",
    "print(data_full['rougher.output.concentrate_au']) # доля золота в концентрате после флотации C\n",
    "print(data_full['rougher.output.tail_au']) # доля золота в отвальных хвостах после флотации T"
   ]
  },
  {
   "cell_type": "code",
   "execution_count": 9,
   "id": "15164523",
   "metadata": {},
   "outputs": [],
   "source": [
    "def rougher_output_recovery(data):\n",
    "    rougher_output_recovery=((data['rougher.output.concentrate_au']*(data['rougher.input.feed_au']-data['rougher.output.tail_au']))/\n",
    "                             (data['rougher.input.feed_au']*(data['rougher.output.concentrate_au']-data['rougher.output.tail_au']))*100)\n",
    "    return rougher_output_recovery"
   ]
  },
  {
   "cell_type": "code",
   "execution_count": 10,
   "id": "6edf0bba",
   "metadata": {},
   "outputs": [
    {
     "name": "stdout",
     "output_type": "stream",
     "text": [
      "9.73512347450521e-15\n"
     ]
    }
   ],
   "source": [
    "\n",
    "rougher_recovery_calc_train=[]\n",
    "rougher_recovery_calc_train.append(data_train.apply(rougher_output_recovery,axis=1))\n",
    "rougher_recovery_calc_train=pd.Series(rougher_recovery_calc_train)\n",
    "mae = mean_absolute_error(data_train['rougher.output.recovery'], rougher_recovery_calc_train[0])\n",
    "print(mae)"
   ]
  },
  {
   "cell_type": "markdown",
   "id": "98732e64",
   "metadata": {},
   "source": [
    "MAE получилось очень маленьким, что говорит о том,что расчеты эффективности обогащения  по формуле совпадают со значениями в обучающей выборке."
   ]
  },
  {
   "cell_type": "markdown",
   "id": "b8e9dbe6",
   "metadata": {},
   "source": [
    "Посмотрим на признаки, которые отсутствуют в тестовой выборке.Эти признаки есть в обучающей выборке и в исходном датасете.  "
   ]
  },
  {
   "cell_type": "code",
   "execution_count": 11,
   "id": "5bed49fe",
   "metadata": {},
   "outputs": [
    {
     "name": "stdout",
     "output_type": "stream",
     "text": [
      "['primary_cleaner.output.concentrate_pb', 'final.output.concentrate_ag', 'rougher.output.concentrate_pb', 'primary_cleaner.output.concentrate_sol', 'primary_cleaner.output.tail_sol', 'final.output.concentrate_sol', 'rougher.output.concentrate_au', 'secondary_cleaner.output.tail_pb', 'rougher.calculation.floatbank10_sulfate_to_au_feed', 'rougher.output.tail_ag', 'final.output.tail_pb', 'primary_cleaner.output.concentrate_au', 'primary_cleaner.output.tail_ag', 'final.output.tail_ag', 'primary_cleaner.output.tail_au', 'rougher.calculation.au_pb_ratio', 'secondary_cleaner.output.tail_sol', 'primary_cleaner.output.tail_pb', 'final.output.tail_au', 'rougher.calculation.sulfate_to_au_concentrate', 'rougher.output.tail_sol', 'rougher.calculation.floatbank11_sulfate_to_au_feed', 'rougher.output.tail_au', 'secondary_cleaner.output.tail_au', 'rougher.output.tail_pb', 'rougher.output.concentrate_ag', 'final.output.tail_sol', 'primary_cleaner.output.concentrate_ag', 'final.output.concentrate_pb', 'rougher.output.concentrate_sol', 'final.output.concentrate_au', 'secondary_cleaner.output.tail_ag']\n"
     ]
    }
   ],
   "source": [
    "diff=[]\n",
    "diff=list(set(list(data_full.columns)).difference(list(data_test.columns)))\n",
    "diff.remove('final.output.recovery') \n",
    "diff.remove('rougher.output.recovery') \n",
    "print(diff)"
   ]
  },
  {
   "cell_type": "markdown",
   "id": "617d77f6",
   "metadata": {},
   "source": [
    "В тестовой выборке отсутствуют параметры продукта, то есть выходные параметры. Также отсутствуют расчетные параметры.То есть эти параметры зависят от параметров сырья. Мне кажется это сделано умышленно, чтобы модель не подглядывала результат."
   ]
  },
  {
   "cell_type": "markdown",
   "id": "2c026d12",
   "metadata": {},
   "source": [
    "Удалим из обучающей выборки признаки, которых нет в тестовой выборке. "
   ]
  },
  {
   "cell_type": "code",
   "execution_count": 12,
   "id": "7af504bb",
   "metadata": {},
   "outputs": [
    {
     "name": "stdout",
     "output_type": "stream",
     "text": [
      "['primary_cleaner.output.concentrate_pb', 'final.output.concentrate_ag', 'rougher.output.concentrate_pb', 'primary_cleaner.output.concentrate_sol', 'primary_cleaner.output.tail_sol', 'final.output.concentrate_sol', 'rougher.output.concentrate_au', 'secondary_cleaner.output.tail_pb', 'rougher.calculation.floatbank10_sulfate_to_au_feed', 'rougher.output.tail_ag', 'final.output.tail_pb', 'primary_cleaner.output.concentrate_au', 'primary_cleaner.output.tail_ag', 'final.output.tail_ag', 'primary_cleaner.output.tail_au', 'rougher.calculation.au_pb_ratio', 'secondary_cleaner.output.tail_sol', 'primary_cleaner.output.tail_pb', 'final.output.tail_au', 'rougher.calculation.sulfate_to_au_concentrate', 'rougher.output.tail_sol', 'rougher.calculation.floatbank11_sulfate_to_au_feed', 'rougher.output.tail_au', 'secondary_cleaner.output.tail_au', 'rougher.output.tail_pb', 'rougher.output.concentrate_ag', 'final.output.tail_sol', 'primary_cleaner.output.concentrate_ag', 'final.output.concentrate_pb', 'rougher.output.concentrate_sol', 'final.output.concentrate_au', 'secondary_cleaner.output.tail_ag']\n",
      "(14149, 54)\n"
     ]
    }
   ],
   "source": [
    "print(diff)\n",
    "data_train=data_train.drop(columns = diff) \n",
    "print(data_train.shape)"
   ]
  },
  {
   "cell_type": "markdown",
   "id": "f1775f40",
   "metadata": {},
   "source": [
    "Восстановим признаки в тестовой выборке с помощью исходного датасета. "
   ]
  },
  {
   "cell_type": "code",
   "execution_count": 13,
   "id": "925a5c96",
   "metadata": {},
   "outputs": [
    {
     "name": "stdout",
     "output_type": "stream",
     "text": [
      "(5290, 54)\n"
     ]
    }
   ],
   "source": [
    "\n",
    "data_test = data_test.join(data_full[['final.output.recovery','rougher.output.recovery']])\n",
    "print(data_test.shape)"
   ]
  },
  {
   "cell_type": "markdown",
   "id": "1d887fa9",
   "metadata": {},
   "source": [
    "Заполняем пропуски в данных"
   ]
  },
  {
   "cell_type": "code",
   "execution_count": 14,
   "id": "33a26a88",
   "metadata": {},
   "outputs": [
    {
     "name": "stdout",
     "output_type": "stream",
     "text": [
      "final.output.recovery                         0\n",
      "primary_cleaner.input.sulfate                 0\n",
      "primary_cleaner.input.depressant              0\n",
      "primary_cleaner.input.feed_size               0\n",
      "primary_cleaner.input.xanthate                0\n",
      "primary_cleaner.state.floatbank8_a_air        0\n",
      "primary_cleaner.state.floatbank8_a_level      0\n",
      "primary_cleaner.state.floatbank8_b_air        0\n",
      "primary_cleaner.state.floatbank8_b_level      0\n",
      "primary_cleaner.state.floatbank8_c_air        0\n",
      "primary_cleaner.state.floatbank8_c_level      0\n",
      "primary_cleaner.state.floatbank8_d_air        0\n",
      "primary_cleaner.state.floatbank8_d_level      0\n",
      "rougher.input.feed_ag                         0\n",
      "rougher.input.feed_pb                         0\n",
      "rougher.input.feed_rate                       0\n",
      "rougher.input.feed_size                       0\n",
      "rougher.input.feed_sol                        0\n",
      "rougher.input.feed_au                         0\n",
      "rougher.input.floatbank10_sulfate             0\n",
      "rougher.input.floatbank10_xanthate            0\n",
      "rougher.input.floatbank11_sulfate             0\n",
      "rougher.input.floatbank11_xanthate            0\n",
      "rougher.output.recovery                       0\n",
      "rougher.state.floatbank10_a_air               0\n",
      "rougher.state.floatbank10_a_level             0\n",
      "rougher.state.floatbank10_b_air               0\n",
      "rougher.state.floatbank10_b_level             0\n",
      "rougher.state.floatbank10_c_air               0\n",
      "rougher.state.floatbank10_c_level             0\n",
      "rougher.state.floatbank10_d_air               0\n",
      "rougher.state.floatbank10_d_level             0\n",
      "rougher.state.floatbank10_e_air               0\n",
      "rougher.state.floatbank10_e_level             0\n",
      "rougher.state.floatbank10_f_air               0\n",
      "rougher.state.floatbank10_f_level             0\n",
      "secondary_cleaner.state.floatbank2_a_air      0\n",
      "secondary_cleaner.state.floatbank2_a_level    0\n",
      "secondary_cleaner.state.floatbank2_b_air      0\n",
      "secondary_cleaner.state.floatbank2_b_level    0\n",
      "secondary_cleaner.state.floatbank3_a_air      0\n",
      "secondary_cleaner.state.floatbank3_a_level    0\n",
      "secondary_cleaner.state.floatbank3_b_air      0\n",
      "secondary_cleaner.state.floatbank3_b_level    0\n",
      "secondary_cleaner.state.floatbank4_a_air      0\n",
      "secondary_cleaner.state.floatbank4_a_level    0\n",
      "secondary_cleaner.state.floatbank4_b_air      0\n",
      "secondary_cleaner.state.floatbank4_b_level    0\n",
      "secondary_cleaner.state.floatbank5_a_air      0\n",
      "secondary_cleaner.state.floatbank5_a_level    0\n",
      "secondary_cleaner.state.floatbank5_b_air      0\n",
      "secondary_cleaner.state.floatbank5_b_level    0\n",
      "secondary_cleaner.state.floatbank6_a_air      0\n",
      "secondary_cleaner.state.floatbank6_a_level    0\n",
      "dtype: int64\n",
      "primary_cleaner.input.sulfate                 0\n",
      "primary_cleaner.input.depressant              0\n",
      "primary_cleaner.input.feed_size               0\n",
      "primary_cleaner.input.xanthate                0\n",
      "primary_cleaner.state.floatbank8_a_air        0\n",
      "primary_cleaner.state.floatbank8_a_level      0\n",
      "primary_cleaner.state.floatbank8_b_air        0\n",
      "primary_cleaner.state.floatbank8_b_level      0\n",
      "primary_cleaner.state.floatbank8_c_air        0\n",
      "primary_cleaner.state.floatbank8_c_level      0\n",
      "primary_cleaner.state.floatbank8_d_air        0\n",
      "primary_cleaner.state.floatbank8_d_level      0\n",
      "rougher.input.feed_ag                         0\n",
      "rougher.input.feed_pb                         0\n",
      "rougher.input.feed_rate                       0\n",
      "rougher.input.feed_size                       0\n",
      "rougher.input.feed_sol                        0\n",
      "rougher.input.feed_au                         0\n",
      "rougher.input.floatbank10_sulfate             0\n",
      "rougher.input.floatbank10_xanthate            0\n",
      "rougher.input.floatbank11_sulfate             0\n",
      "rougher.input.floatbank11_xanthate            0\n",
      "rougher.state.floatbank10_a_air               0\n",
      "rougher.state.floatbank10_a_level             0\n",
      "rougher.state.floatbank10_b_air               0\n",
      "rougher.state.floatbank10_b_level             0\n",
      "rougher.state.floatbank10_c_air               0\n",
      "rougher.state.floatbank10_c_level             0\n",
      "rougher.state.floatbank10_d_air               0\n",
      "rougher.state.floatbank10_d_level             0\n",
      "rougher.state.floatbank10_e_air               0\n",
      "rougher.state.floatbank10_e_level             0\n",
      "rougher.state.floatbank10_f_air               0\n",
      "rougher.state.floatbank10_f_level             0\n",
      "secondary_cleaner.state.floatbank2_a_air      0\n",
      "secondary_cleaner.state.floatbank2_a_level    0\n",
      "secondary_cleaner.state.floatbank2_b_air      0\n",
      "secondary_cleaner.state.floatbank2_b_level    0\n",
      "secondary_cleaner.state.floatbank3_a_air      0\n",
      "secondary_cleaner.state.floatbank3_a_level    0\n",
      "secondary_cleaner.state.floatbank3_b_air      0\n",
      "secondary_cleaner.state.floatbank3_b_level    0\n",
      "secondary_cleaner.state.floatbank4_a_air      0\n",
      "secondary_cleaner.state.floatbank4_a_level    0\n",
      "secondary_cleaner.state.floatbank4_b_air      0\n",
      "secondary_cleaner.state.floatbank4_b_level    0\n",
      "secondary_cleaner.state.floatbank5_a_air      0\n",
      "secondary_cleaner.state.floatbank5_a_level    0\n",
      "secondary_cleaner.state.floatbank5_b_air      0\n",
      "secondary_cleaner.state.floatbank5_b_level    0\n",
      "secondary_cleaner.state.floatbank6_a_air      0\n",
      "secondary_cleaner.state.floatbank6_a_level    0\n",
      "final.output.recovery                         0\n",
      "rougher.output.recovery                       0\n",
      "dtype: int64\n"
     ]
    }
   ],
   "source": [
    "data_train = data_train.fillna(method=\"ffill\")\n",
    "data_test = data_test.fillna(method=\"ffill\")\n",
    "print(data_train.isna().sum())\n",
    "print(data_test.isna().sum())"
   ]
  },
  {
   "cell_type": "markdown",
   "id": "773b9733",
   "metadata": {},
   "source": [
    "Посмотрим, как меняется концентрация металлов (Au, Ag, Pb) на различных этапах очистки"
   ]
  },
  {
   "cell_type": "code",
   "execution_count": 15,
   "id": "13c8cfc2",
   "metadata": {},
   "outputs": [
    {
     "data": {
      "text/plain": [
       "Text(0.5, 1.0, 'Концентрация серебра в руде')"
      ]
     },
     "execution_count": 15,
     "metadata": {},
     "output_type": "execute_result"
    },
    {
     "data": {
      "image/png": "[encoded data removed]",
      "text/plain": [
       "<Figure size 432x288 with 1 Axes>"
      ]
     },
     "metadata": {
      "needs_background": "light"
     },
     "output_type": "display_data"
    }
   ],
   "source": [
    "plt.hist(data_full['rougher.input.feed_ag'],label = 'Концентрация серебра в сырье',alpha=0.6,bins=25)\n",
    "plt.hist(data_full['rougher.output.concentrate_ag'],label = 'Концентрация серебра после флотации',alpha=0.6,bins=25)\n",
    "plt.hist(data_full['primary_cleaner.output.concentrate_ag'],label='Концентрация серебра после первичной очистки',alpha=0.6,bins=25)\n",
    "plt.hist(data_full['final.output.concentrate_ag'],label = 'Финальная концентрация серебра',alpha=0.6,bins=25)   \n",
    "plt.legend(bbox_to_anchor=( 1.1 , 1 ), loc='upper left', borderaxespad= 0 )\n",
    "plt.title('Концентрация серебра в руде')\n"
   ]
  },
  {
   "cell_type": "markdown",
   "id": "60ca549c",
   "metadata": {},
   "source": [
    "После прохождения флотации и очистки в руде упала концентрация серебра."
   ]
  },
  {
   "cell_type": "code",
   "execution_count": 16,
   "id": "443566b6",
   "metadata": {},
   "outputs": [
    {
     "data": {
      "text/plain": [
       "Text(0.5, 1.0, 'Концентрация золота в руде')"
      ]
     },
     "execution_count": 16,
     "metadata": {},
     "output_type": "execute_result"
    },
    {
     "data": {
      "image/png": "[encoded data removed]",
      "text/plain": [
       "<Figure size 432x288 with 1 Axes>"
      ]
     },
     "metadata": {
      "needs_background": "light"
     },
     "output_type": "display_data"
    }
   ],
   "source": [
    "plt.hist(data_full['rougher.input.feed_au'],label = 'Концентрация золота в сырье',alpha=0.6,bins=25)\n",
    "plt.hist(data_full['rougher.output.concentrate_au'],label = 'Концентрация золота после флотации',alpha=0.6,bins=25)\n",
    "plt.hist(data_full['primary_cleaner.output.concentrate_au'],label='Концентрация золота после первичной очистки',alpha=0.6,bins=25)\n",
    "plt.hist(data_full['final.output.concentrate_au'],label = 'Финальная концентрация золота',alpha=0.6,bins=25)   \n",
    "plt.legend(bbox_to_anchor=( 1.1 , 1 ), loc='upper left', borderaxespad= 0 )\n",
    "plt.title('Концентрация золота в руде')"
   ]
  },
  {
   "cell_type": "markdown",
   "id": "bb8d0822",
   "metadata": {},
   "source": [
    "После прохождения флотации и очистки в руде увеличилась концентрация золота, что и является сутью процесса."
   ]
  },
  {
   "cell_type": "code",
   "execution_count": 17,
   "id": "c6e253d6",
   "metadata": {},
   "outputs": [
    {
     "data": {
      "text/plain": [
       "Text(0.5, 1.0, 'Концентрация свинца в руде')"
      ]
     },
     "execution_count": 17,
     "metadata": {},
     "output_type": "execute_result"
    },
    {
     "data": {
      "image/png": "[encoded data removed]",
      "text/plain": [
       "<Figure size 432x288 with 1 Axes>"
      ]
     },
     "metadata": {
      "needs_background": "light"
     },
     "output_type": "display_data"
    }
   ],
   "source": [
    "plt.hist(data_full['rougher.input.feed_pb'],label = 'Концентрация свинца в сырье',alpha=0.6,bins=25)\n",
    "plt.hist(data_full['rougher.output.concentrate_pb'],label = 'Концентрация свинца после флотации',alpha=0.6,bins=25)\n",
    "plt.hist(data_full['primary_cleaner.output.concentrate_pb'],label='Концентрация свинца после первичной очистки',alpha=0.6,bins=25)\n",
    "plt.hist(data_full['final.output.concentrate_pb'],label = 'Финальная концентрация свинца',alpha=0.6,bins=25)   \n",
    "plt.legend(bbox_to_anchor=( 1.1 , 1 ), loc='upper left', borderaxespad= 0 )\n",
    "plt.title('Концентрация свинца в руде')"
   ]
  },
  {
   "cell_type": "markdown",
   "id": "295c0861",
   "metadata": {},
   "source": [
    "Как видим на графике, что после первичной очистки концентрация свинца в руде выросла, а после финальной очистки почти не изменилась.\n",
    "Зато после финальной очистки разброс значений концентрации свинца небольшой, значит концетрация свинца уже имеет более предсказуемое значение.\n"
   ]
  },
  {
   "cell_type": "markdown",
   "id": "7927c5ae",
   "metadata": {},
   "source": [
    "Сравним распределения размеров гранул сырья на обучающей и тестовой выборках"
   ]
  },
  {
   "cell_type": "code",
   "execution_count": 18,
   "id": "aca32408",
   "metadata": {},
   "outputs": [
    {
     "data": {
      "text/plain": [
       "(0.0, 120.0)"
      ]
     },
     "execution_count": 18,
     "metadata": {},
     "output_type": "execute_result"
    },
    {
     "data": {
      "image/png": "[encoded data removed]",
      "text/plain": [
       "<Figure size 432x288 with 1 Axes>"
      ]
     },
     "metadata": {
      "needs_background": "light"
     },
     "output_type": "display_data"
    }
   ],
   "source": [
    "plt.hist(data_train['rougher.input.feed_size'],label='Обучающая выборка: размер гранул перед флотацией',bins=40,density=True,alpha=0.6)\n",
    "plt.hist(data_test['rougher.input.feed_size'],label='Тестовая выборка: размер гранул перед флотацией',bins=40,density=True,alpha=0.6)\n",
    "plt.legend(bbox_to_anchor=( 1.1 , 1 ), loc='upper left', borderaxespad= 0 )\n",
    "plt.title('Размер гранул сырья')\n",
    "plt.xlim(0,120)"
   ]
  },
  {
   "cell_type": "code",
   "execution_count": 19,
   "id": "c53443cf",
   "metadata": {},
   "outputs": [
    {
     "data": {
      "text/plain": [
       "(5.0, 10.0)"
      ]
     },
     "execution_count": 19,
     "metadata": {},
     "output_type": "execute_result"
    },
    {
     "data": {
      "image/png": "[encoded data removed]",
      "text/plain": [
       "<Figure size 432x288 with 1 Axes>"
      ]
     },
     "metadata": {
      "needs_background": "light"
     },
     "output_type": "display_data"
    }
   ],
   "source": [
    "plt.hist(data_train['primary_cleaner.input.feed_size'],label='Обучающая выборка: размер гранул перед первичной очисткой',bins=40,density=True,alpha=0.6)\n",
    "plt.hist(data_test['primary_cleaner.input.feed_size'],label='Тестовая выборка: размер гранул перед первичной очисткой',bins=40,density=True,alpha=0.6)\n",
    "plt.legend(bbox_to_anchor=( 1.1 , 1 ), loc='upper left', borderaxespad= 0 )\n",
    "plt.title('Размер гранул сырья')\n",
    "plt.xlim(5,10)"
   ]
  },
  {
   "cell_type": "markdown",
   "id": "40b7c4ee",
   "metadata": {},
   "source": [
    "Как видно на графиках, \n",
    "распределение размера гранул (перед флотацией и перед первичной очисткой) на обучающей и на тестовой выборках очень похожи.  \n",
    "Значит у модели не должно быть проблем с обучением. "
   ]
  },
  {
   "cell_type": "markdown",
   "id": "3d2cf264",
   "metadata": {},
   "source": [
    "Исследуем суммарную концентрацию всех веществ на разных стадиях: в сырье, в черновом и финальном концентратах. "
   ]
  },
  {
   "cell_type": "code",
   "execution_count": 20,
   "id": "6bc0f608",
   "metadata": {},
   "outputs": [
    {
     "data": {
      "text/plain": [
       "Text(0.5, 1.0, 'Суммарная концентрация всех веществ в сырье')"
      ]
     },
     "execution_count": 20,
     "metadata": {},
     "output_type": "execute_result"
    },
    {
     "data": {
      "image/png": "[encoded data removed]",
      "text/plain": [
       "<Figure size 432x288 with 1 Axes>"
      ]
     },
     "metadata": {
      "needs_background": "light"
     },
     "output_type": "display_data"
    }
   ],
   "source": [
    "rougher_input_concentrate=data_full['rougher.input.feed_ag']+data_full['rougher.input.feed_pb']+data_full['rougher.input.feed_au']+data_full['rougher.input.feed_sol']\n",
    "plt.hist(rougher_input_concentrate,bins=20,density=True)\n",
    "plt.title('Суммарная концентрация всех веществ в сырье')"
   ]
  },
  {
   "cell_type": "code",
   "execution_count": 21,
   "id": "944369e4",
   "metadata": {},
   "outputs": [
    {
     "data": {
      "text/plain": [
       "Text(0.5, 1.0, 'Суммарная концентрация всех веществ после флотации')"
      ]
     },
     "execution_count": 21,
     "metadata": {},
     "output_type": "execute_result"
    },
    {
     "data": {
      "image/png": "[encoded data removed]",
      "text/plain": [
       "<Figure size 432x288 with 1 Axes>"
      ]
     },
     "metadata": {
      "needs_background": "light"
     },
     "output_type": "display_data"
    }
   ],
   "source": [
    "rougher_output_concentrate=data_full['rougher.output.concentrate_ag']+data_full['rougher.output.concentrate_pb']+data_full['rougher.output.concentrate_au']+data_full['rougher.output.concentrate_sol']\n",
    "plt.hist(rougher_output_concentrate,bins=20,density=True)\n",
    "plt.title('Суммарная концентрация всех веществ после флотации')"
   ]
  },
  {
   "cell_type": "code",
   "execution_count": 22,
   "id": "8d096861",
   "metadata": {},
   "outputs": [
    {
     "data": {
      "text/plain": [
       "Text(0.5, 1.0, 'Суммарная концентрация всех веществ в черновом концентрате')"
      ]
     },
     "execution_count": 22,
     "metadata": {},
     "output_type": "execute_result"
    },
    {
     "data": {
      "image/png": "[encoded data removed]",
      "text/plain": [
       "<Figure size 432x288 with 1 Axes>"
      ]
     },
     "metadata": {
      "needs_background": "light"
     },
     "output_type": "display_data"
    }
   ],
   "source": [
    "primary_cleaner_output_concentrate=data_full['primary_cleaner.output.concentrate_ag']+data_full['primary_cleaner.output.concentrate_pb']+data_full['primary_cleaner.output.concentrate_au']+data_full['primary_cleaner.output.concentrate_sol']\n",
    "plt.hist(primary_cleaner_output_concentrate,bins=20,density=True)\n",
    "plt.title('Суммарная концентрация всех веществ в черновом концентрате')"
   ]
  },
  {
   "cell_type": "code",
   "execution_count": 23,
   "id": "ca4ec52c",
   "metadata": {},
   "outputs": [
    {
     "data": {
      "text/plain": [
       "Text(0.5, 1.0, 'Суммарная концентрация всех веществ в финальном концентрате')"
      ]
     },
     "execution_count": 23,
     "metadata": {},
     "output_type": "execute_result"
    },
    {
     "data": {
      "image/png": "[encoded data removed]",
      "text/plain": [
       "<Figure size 432x288 with 1 Axes>"
      ]
     },
     "metadata": {
      "needs_background": "light"
     },
     "output_type": "display_data"
    }
   ],
   "source": [
    "final_output_concentrate=data_full['final.output.concentrate_ag']+data_full['final.output.concentrate_pb']+data_full['final.output.concentrate_au']+data_full['final.output.concentrate_sol']\n",
    "plt.hist(final_output_concentrate,bins=20,density=True)\n",
    "plt.title('Суммарная концентрация всех веществ в финальном концентрате')"
   ]
  },
  {
   "cell_type": "markdown",
   "id": "8fc0cbf6",
   "metadata": {},
   "source": [
    "Концентрация веществ (свинец, золото, серебро) от стадии к стадии растет.   \n",
    "То есть концентрация веществ в черновом концентрате выше чем, в сырье.  \n",
    "Концентрация веществ в финальном концентрате выше, чем в черновом концентрате. \n"
   ]
  },
  {
   "cell_type": "markdown",
   "id": "1be885ed",
   "metadata": {},
   "source": [
    "Обработка выбросов"
   ]
  },
  {
   "cell_type": "markdown",
   "id": "91491b1f",
   "metadata": {},
   "source": [
    "Посмотрим на выбросы в финальном концентрате и после флотации. "
   ]
  },
  {
   "cell_type": "code",
   "execution_count": 24,
   "id": "c6fe2828",
   "metadata": {},
   "outputs": [],
   "source": [
    "data_train = data_train.join(data_full[['final.output.concentrate_ag','final.output.concentrate_pb','final.output.concentrate_au','final.output.concentrate_sol']])\n",
    "data_train['final_output_concentrate_sum']=data_train['final.output.concentrate_ag']+data_train['final.output.concentrate_pb']+data_train['final.output.concentrate_au']+data_train['final.output.concentrate_sol']\n"
   ]
  },
  {
   "cell_type": "code",
   "execution_count": 25,
   "id": "9a4a624e",
   "metadata": {},
   "outputs": [
    {
     "data": {
      "text/plain": [
       "array([[<AxesSubplot:title={'center':'final_output_concentrate_sum'}>]],\n",
       "      dtype=object)"
      ]
     },
     "execution_count": 25,
     "metadata": {},
     "output_type": "execute_result"
    },
    {
     "data": {
      "image/png": "[encoded data removed]",
      "text/plain": [
       "<Figure size 432x288 with 1 Axes>"
      ]
     },
     "metadata": {
      "needs_background": "light"
     },
     "output_type": "display_data"
    }
   ],
   "source": [
    "data_train[['final_output_concentrate_sum']].hist(bins=20,density=True)"
   ]
  },
  {
   "cell_type": "code",
   "execution_count": 26,
   "id": "ea415797",
   "metadata": {},
   "outputs": [],
   "source": [
    "data_train=data_train[data_train['final_output_concentrate_sum']!=0]"
   ]
  },
  {
   "cell_type": "code",
   "execution_count": 27,
   "id": "c68d071c",
   "metadata": {},
   "outputs": [],
   "source": [
    "data_train = data_train.join(data_full[['rougher.output.concentrate_ag','rougher.output.concentrate_pb','rougher.output.concentrate_au','rougher.output.concentrate_sol']])\n",
    "data_train['rougher_output_concentrate_sum']=data_train['rougher.output.concentrate_ag']+data_train['rougher.output.concentrate_pb']+data_train['rougher.output.concentrate_au']+data_train['rougher.output.concentrate_sol']"
   ]
  },
  {
   "cell_type": "code",
   "execution_count": 28,
   "id": "f7ad5d17",
   "metadata": {},
   "outputs": [
    {
     "data": {
      "text/plain": [
       "array([[<AxesSubplot:title={'center':'rougher_output_concentrate_sum'}>]],\n",
       "      dtype=object)"
      ]
     },
     "execution_count": 28,
     "metadata": {},
     "output_type": "execute_result"
    },
    {
     "data": {
      "image/png": "[encoded data removed]",
      "text/plain": [
       "<Figure size 432x288 with 1 Axes>"
      ]
     },
     "metadata": {
      "needs_background": "light"
     },
     "output_type": "display_data"
    }
   ],
   "source": [
    "data_train[['rougher_output_concentrate_sum']].hist(bins=20,density=True)"
   ]
  },
  {
   "cell_type": "code",
   "execution_count": 29,
   "id": "ffddc259",
   "metadata": {},
   "outputs": [],
   "source": [
    "data_train=data_train[data_train['rougher_output_concentrate_sum']!=0]"
   ]
  },
  {
   "cell_type": "code",
   "execution_count": 30,
   "id": "3c95b1fa",
   "metadata": {},
   "outputs": [],
   "source": [
    "list_columns=['rougher_output_concentrate_sum','final_output_concentrate_sum','rougher.output.concentrate_ag','rougher.output.concentrate_pb','rougher.output.concentrate_au','rougher.output.concentrate_sol','final.output.concentrate_ag','final.output.concentrate_pb','final.output.concentrate_au','final.output.concentrate_sol']"
   ]
  },
  {
   "cell_type": "code",
   "execution_count": 31,
   "id": "16d44c57",
   "metadata": {},
   "outputs": [],
   "source": [
    "data_train = data_train.drop(list_columns,axis=1)"
   ]
  },
  {
   "cell_type": "code",
   "execution_count": 32,
   "id": "be403bb7",
   "metadata": {},
   "outputs": [],
   "source": [
    "#избавляемся от индекса date\n",
    "data_test=data_test.reset_index(drop= True)\n",
    "data_train=data_train.reset_index(drop= True)\n"
   ]
  },
  {
   "cell_type": "markdown",
   "id": "cc5aa804",
   "metadata": {},
   "source": [
    "Масшатабирование признаков"
   ]
  },
  {
   "cell_type": "code",
   "execution_count": 35,
   "id": "077a4cfd",
   "metadata": {},
   "outputs": [],
   "source": [
    "\n",
    "features_train = data_train.drop(['rougher.output.recovery','final.output.recovery'],axis=1)\n",
    "target_train=data_train[['rougher.output.recovery','final.output.recovery']]\n",
    "scaler = StandardScaler()\n",
    "scaler.fit(features_train) \n",
    "\n",
    "features_test = data_test.drop(['rougher.output.recovery','final.output.recovery'],axis=1)\n",
    "target_test=data_test[['rougher.output.recovery','final.output.recovery']]\n",
    "\n",
    "\n",
    "features_train= scaler.transform(features_train)\n",
    "features_test = scaler.transform(features_test) \n",
    "\n"
   ]
  },
  {
   "cell_type": "markdown",
   "id": "d78784d7",
   "metadata": {},
   "source": [
    "Рассмотрим матрицу корреляции на предмет наличия высокой степени корреляции между каким-либо признаком и целевыми признаками."
   ]
  },
  {
   "cell_type": "code",
   "execution_count": 36,
   "id": "62b619e3",
   "metadata": {},
   "outputs": [],
   "source": [
    "pd.set_option('display.max_rows', 60)\n",
    "data_corr=data_train.corr()\n",
    "corr_rougher_output_recovery=data_corr['rougher.output.recovery']>0.9\n",
    "corr_final_output_recovery=data_corr['final.output.recovery']>0.9\n",
    "print(\"Высокая корреляция rougher_output_recovery с \", np.sum(corr_rougher_output_recovery==True)-1,'признаками') #корреляция признака сам с собой всегда равна 1, поэтому вычитаем 1\n",
    "print(\"Высокая корреляция final_output_recovery с \",np.sum(corr_final_output_recovery==True)-1,'признаками')"
   ]
  },
  {
   "cell_type": "markdown",
   "id": "abf11545",
   "metadata": {},
   "source": [
    "у нас нет сильной корреляции между каким-либо из признаков и целевым признаком."
   ]
  },
  {
   "cell_type": "markdown",
   "id": "2053418c",
   "metadata": {},
   "source": [
    "Создадим функцию для расчета метрики sMAPE"
   ]
  },
  {
   "cell_type": "code",
   "execution_count": 37,
   "id": "6e2dd642",
   "metadata": {},
   "outputs": [],
   "source": [
    "def sMAPE(target, predict):\n",
    "    smape_rougher_output_recovery =  100/len(target['rougher.output.recovery']) * np.sum(2 * np.abs(predict[:,0] - target['rougher.output.recovery']) / (np.abs(target['rougher.output.recovery']) + np.abs(predict[:,0])))\n",
    "    smape_final_output_recovery =  100/len(target['final.output.recovery']) * np.sum(2 * np.abs(predict[:,1] - target['final.output.recovery']) / (np.abs(target['final.output.recovery']) + np.abs(predict[:,1])))\n",
    "    return (0.25*smape_rougher_output_recovery + 0.75*smape_final_output_recovery)\n"
   ]
  },
  {
   "cell_type": "markdown",
   "id": "a12d4a61",
   "metadata": {},
   "source": [
    "Обучим модели"
   ]
  },
  {
   "cell_type": "markdown",
   "id": "8b61a364",
   "metadata": {},
   "source": [
    "Решающее дерево"
   ]
  },
  {
   "cell_type": "code",
   "execution_count": 38,
   "id": "c405d8f2",
   "metadata": {},
   "outputs": [],
   "source": [
    "\n",
    "features =  data_train.drop(['rougher.output.recovery', 'final.output.recovery'], axis=1)\n",
    "target = data_train[['rougher.output.recovery', 'final.output.recovery']]"
   ]
  },
  {
   "cell_type": "code",
   "execution_count": 39,
   "id": "d1733d6f",
   "metadata": {},
   "outputs": [],
   "source": [
    "\n",
    "best_model = None\n",
    "best_result = 20\n",
    "best_depth = 0\n",
    "\n",
    "\n",
    "for depth in range(1, 10):\n",
    "    model = DecisionTreeRegressor(random_state=12345, max_depth=depth) \n",
    "    smape_score = make_scorer(sMAPE, greater_is_better=False)\n",
    "    results = cross_val_score(model,features, target,  cv=5, scoring=smape_score)\n",
    "    result = - results.mean()\n",
    "    #print(results, result)\n",
    "    if result < best_result:\n",
    "        best_model = model\n",
    "        best_result = result\n",
    "        best_depth = depth\n",
    "best_depth_1=best_depth\n",
    "print(\"sMAPE наилучшей модели решающего дерева:\", round(best_result,2), \"Глубина дерева:\", best_depth_1)"
   ]
  },
  {
   "cell_type": "markdown",
   "id": "61009a08",
   "metadata": {},
   "source": [
    "Линейная регрессия"
   ]
  },
  {
   "cell_type": "code",
   "execution_count": 40,
   "id": "3c8226dd",
   "metadata": {},
   "outputs": [],
   "source": [
    "\n",
    "model = LinearRegression()\n",
    "smape_score = make_scorer(sMAPE, greater_is_better=False)\n",
    "scores = cross_val_score(model,features, target,  cv=5, scoring=smape_score)\n",
    "score = - scores.mean()\n",
    "print(\"sMAPE модели линейной регрессии:\", round(score,2))\n"
   ]
  },
  {
   "cell_type": "markdown",
   "id": "ae829f4d",
   "metadata": {},
   "source": [
    "Случайный лес"
   ]
  },
  {
   "cell_type": "code",
   "execution_count": 41,
   "id": "2fed2f4f",
   "metadata": {},
   "outputs": [],
   "source": [
    "best_model = None\n",
    "best_result = 20\n",
    "best_est = 0\n",
    "best_depth = 0\n",
    "for est in range(1, 11):\n",
    "    for depth in range (1, 11):\n",
    "        model = RandomForestRegressor(random_state=12345, max_depth=depth,n_estimators=est) \n",
    "        smape_score = make_scorer(sMAPE, greater_is_better=False)\n",
    "        results = cross_val_score(model,features, target,  cv=5, scoring=smape_score)\n",
    "        result = - results.mean()\n",
    "        if result < best_result:\n",
    "            best_model = model\n",
    "            best_result = result\n",
    "            best_est = est\n",
    "            best_depth = depth\n",
    "print(\"sMAPE наилучшей модели случайного леса:\", best_result, \"Количество деревьев:\", best_est, \"Максимальная глубина:\", depth)"
   ]
  },
  {
   "cell_type": "markdown",
   "id": "73154e0d",
   "metadata": {},
   "source": [
    "Качество модели случайного леса немного лучше, чем решающего дерева. Но случайный лес проигрывает по скорости.  \n",
    "Считаем, что наилучшая модель - решающее дерево.  "
   ]
  },
  {
   "cell_type": "markdown",
   "id": "f2e29f4c",
   "metadata": {},
   "source": [
    "Проверим качество модели на тестовой выборке"
   ]
  },
  {
   "cell_type": "code",
   "execution_count": 42,
   "id": "4cfc7658",
   "metadata": {},
   "outputs": [],
   "source": [
    "features_train = data_train.drop(['rougher.output.recovery','final.output.recovery'],axis=1)\n",
    "target_train=data_train[['rougher.output.recovery','final.output.recovery']]\n",
    "\n",
    "features_test = data_test.drop(['rougher.output.recovery','final.output.recovery'],axis=1)\n",
    "target_test=data_test[['rougher.output.recovery','final.output.recovery']]\n",
    "\n",
    "model = DecisionTreeRegressor(random_state=12345, max_depth=best_depth_1) \n",
    "model.fit(features_train, target_train)\n",
    "predicted_test=model.predict(features_test)\n",
    "smape_score = sMAPE(target_test,predicted_test)\n",
    "\n",
    "\n",
    "print(\"sMAPE модели решающего дерева на тестовых данных:\", round(smape_score,2), \"Глубина дерева:\", best_depth_1)"
   ]
  },
  {
   "cell_type": "markdown",
   "id": "8d6569c7",
   "metadata": {},
   "source": [
    "Сравним качество модели с dummy моделью"
   ]
  },
  {
   "cell_type": "code",
   "execution_count": 43,
   "id": "ab52fe4c",
   "metadata": {},
   "outputs": [],
   "source": [
    "dummy_regr = DummyRegressor(strategy=\"mean\")\n",
    "dummy_regr.fit(features_train, target_train)\n",
    "predicted_test = dummy_regr.predict(features_test)\n",
    "result = sMAPE (target_test, predicted_test)\n",
    "print(\"sMAPE dummy модели:\", round(result,2))\n"
   ]
  },
  {
   "cell_type": "markdown",
   "id": "9e4215df",
   "metadata": {},
   "source": [
    "Модель прошла проверку на адекватность, качество нашей модели решающего дерева выше чем константной модели."
   ]
  },
  {
   "cell_type": "markdown",
   "id": "4c2b48a6",
   "metadata": {},
   "source": [
    "Общий вывод:  \n",
    "В результате анализа можно сделать следующие выводы:  \n",
    "После прохождения флотации и очистки в руде упала концентрация серебра.    \n",
    "После прохождения флотации и очистки в руде увеличилась концентрация золота, что и является сутью процесса.     \n",
    "Обучили разные модели, предсказыващие эффективность обогащения чернового и финального концентрата.  \n",
    "Вычислили метрику sMAPE.Проверили качество кросс-валидацией.    \n",
    "В результате была выбрана модель решающего дерева.   \n",
    "Сравнили качество модели с константной моделью.      \n",
    "sMAPE модели решающего дерева: 9.32.Глубина дерева: 1   \n"
   ]
  }
 ],
 "metadata": {
  "ExecuteTimeLog": [
   {
    "duration": 1435,
    "start_time": "2023-02-04T10:02:47.491Z"
   },
   {
    "duration": 103,
    "start_time": "2023-02-04T10:03:03.329Z"
   },
   {
    "duration": 51,
    "start_time": "2023-02-04T10:03:06.764Z"
   },
   {
    "duration": 49,
    "start_time": "2023-02-04T10:03:49.056Z"
   },
   {
    "duration": 57,
    "start_time": "2023-02-04T10:04:15.984Z"
   },
   {
    "duration": 818,
    "start_time": "2023-02-04T10:05:09.297Z"
   },
   {
    "duration": 1893,
    "start_time": "2023-02-04T10:05:53.782Z"
   },
   {
    "duration": 293,
    "start_time": "2023-02-04T10:06:17.089Z"
   },
   {
    "duration": 333,
    "start_time": "2023-02-04T10:06:54.495Z"
   },
   {
    "duration": 296,
    "start_time": "2023-02-04T10:06:56.417Z"
   },
   {
    "duration": 424,
    "start_time": "2023-02-04T10:06:58.172Z"
   },
   {
    "duration": 12,
    "start_time": "2023-02-04T10:07:06.094Z"
   },
   {
    "duration": 17,
    "start_time": "2023-02-04T10:07:12.157Z"
   },
   {
    "duration": 13,
    "start_time": "2023-02-04T10:07:31.492Z"
   },
   {
    "duration": 11,
    "start_time": "2023-02-04T10:07:47.759Z"
   },
   {
    "duration": 195,
    "start_time": "2023-02-04T10:11:32.542Z"
   },
   {
    "duration": 209,
    "start_time": "2023-02-04T10:11:39.723Z"
   },
   {
    "duration": 276,
    "start_time": "2023-02-04T10:12:30.027Z"
   },
   {
    "duration": 186,
    "start_time": "2023-02-04T10:12:44.264Z"
   },
   {
    "duration": 180,
    "start_time": "2023-02-04T10:13:45.621Z"
   },
   {
    "duration": 186,
    "start_time": "2023-02-04T10:14:00.521Z"
   },
   {
    "duration": 198,
    "start_time": "2023-02-04T10:14:29.387Z"
   },
   {
    "duration": 222,
    "start_time": "2023-02-04T10:14:36.363Z"
   },
   {
    "duration": 224,
    "start_time": "2023-02-04T10:14:48.628Z"
   },
   {
    "duration": 239,
    "start_time": "2023-02-04T10:15:07.719Z"
   },
   {
    "duration": 319,
    "start_time": "2023-02-04T10:15:24.060Z"
   },
   {
    "duration": 279,
    "start_time": "2023-02-04T10:19:44.640Z"
   },
   {
    "duration": 281,
    "start_time": "2023-02-04T10:20:43.869Z"
   },
   {
    "duration": 273,
    "start_time": "2023-02-04T10:20:51.457Z"
   },
   {
    "duration": 276,
    "start_time": "2023-02-04T10:21:16.979Z"
   },
   {
    "duration": 300,
    "start_time": "2023-02-04T10:21:50.938Z"
   },
   {
    "duration": 317,
    "start_time": "2023-02-04T10:23:50.800Z"
   },
   {
    "duration": 198,
    "start_time": "2023-02-04T10:25:55.777Z"
   },
   {
    "duration": 245,
    "start_time": "2023-02-04T10:26:15.711Z"
   },
   {
    "duration": 188,
    "start_time": "2023-02-04T10:26:33.662Z"
   },
   {
    "duration": 221,
    "start_time": "2023-02-04T10:27:24.492Z"
   },
   {
    "duration": 213,
    "start_time": "2023-02-04T10:27:42.287Z"
   },
   {
    "duration": 276,
    "start_time": "2023-02-04T10:27:51.720Z"
   },
   {
    "duration": 225,
    "start_time": "2023-02-04T10:28:01.290Z"
   },
   {
    "duration": 181,
    "start_time": "2023-02-04T10:28:19.350Z"
   },
   {
    "duration": 13,
    "start_time": "2023-02-04T10:32:50.909Z"
   },
   {
    "duration": 6,
    "start_time": "2023-02-04T10:33:13.092Z"
   },
   {
    "duration": 9,
    "start_time": "2023-02-04T10:40:23.376Z"
   },
   {
    "duration": 13,
    "start_time": "2023-02-04T10:41:29.169Z"
   },
   {
    "duration": 11,
    "start_time": "2023-02-04T10:41:38.329Z"
   },
   {
    "duration": 139,
    "start_time": "2023-02-04T10:42:00.536Z"
   },
   {
    "duration": 144,
    "start_time": "2023-02-04T10:43:04.908Z"
   },
   {
    "duration": 137,
    "start_time": "2023-02-04T10:46:18.072Z"
   },
   {
    "duration": 224,
    "start_time": "2023-02-04T10:47:08.960Z"
   },
   {
    "duration": 289,
    "start_time": "2023-02-04T10:47:53.175Z"
   },
   {
    "duration": 135,
    "start_time": "2023-02-04T10:48:01.241Z"
   },
   {
    "duration": 4,
    "start_time": "2023-02-04T10:48:20.073Z"
   },
   {
    "duration": 4,
    "start_time": "2023-02-04T10:48:25.483Z"
   },
   {
    "duration": 128,
    "start_time": "2023-02-04T10:48:33.242Z"
   },
   {
    "duration": 134,
    "start_time": "2023-02-04T10:48:47.524Z"
   },
   {
    "duration": 139,
    "start_time": "2023-02-04T10:48:52.878Z"
   },
   {
    "duration": 142,
    "start_time": "2023-02-04T10:50:20.567Z"
   },
   {
    "duration": 124,
    "start_time": "2023-02-04T10:50:34.334Z"
   },
   {
    "duration": 131,
    "start_time": "2023-02-04T10:50:42.149Z"
   },
   {
    "duration": 118,
    "start_time": "2023-02-04T10:54:00.697Z"
   },
   {
    "duration": 156,
    "start_time": "2023-02-04T10:56:29.692Z"
   },
   {
    "duration": 156,
    "start_time": "2023-02-04T10:57:30.526Z"
   },
   {
    "duration": 130,
    "start_time": "2023-02-04T10:57:38.692Z"
   },
   {
    "duration": 135,
    "start_time": "2023-02-04T10:58:13.778Z"
   },
   {
    "duration": 141,
    "start_time": "2023-02-04T10:59:03.456Z"
   },
   {
    "duration": 143,
    "start_time": "2023-02-04T11:01:00.748Z"
   },
   {
    "duration": 147,
    "start_time": "2023-02-04T11:02:15.822Z"
   },
   {
    "duration": 127,
    "start_time": "2023-02-04T11:02:36.964Z"
   },
   {
    "duration": 156,
    "start_time": "2023-02-04T11:03:37.806Z"
   },
   {
    "duration": 298,
    "start_time": "2023-02-04T11:04:28.108Z"
   },
   {
    "duration": 155,
    "start_time": "2023-02-04T11:05:23.500Z"
   },
   {
    "duration": 43,
    "start_time": "2023-02-04T11:07:42.316Z"
   },
   {
    "duration": 1435,
    "start_time": "2023-02-04T11:07:54.978Z"
   },
   {
    "duration": 368,
    "start_time": "2023-02-04T11:07:56.415Z"
   },
   {
    "duration": 252,
    "start_time": "2023-02-04T11:07:56.784Z"
   },
   {
    "duration": 79,
    "start_time": "2023-02-04T11:07:57.038Z"
   },
   {
    "duration": 12,
    "start_time": "2023-02-04T11:07:57.119Z"
   },
   {
    "duration": 19,
    "start_time": "2023-02-04T11:07:57.133Z"
   },
   {
    "duration": 10,
    "start_time": "2023-02-04T11:07:57.154Z"
   },
   {
    "duration": 3,
    "start_time": "2023-02-04T11:07:57.165Z"
   },
   {
    "duration": 23,
    "start_time": "2023-02-04T11:07:57.170Z"
   },
   {
    "duration": 16,
    "start_time": "2023-02-04T11:07:57.195Z"
   },
   {
    "duration": 6,
    "start_time": "2023-02-04T11:07:57.213Z"
   },
   {
    "duration": 271,
    "start_time": "2023-02-04T11:07:57.220Z"
   },
   {
    "duration": 3,
    "start_time": "2023-02-04T11:07:57.493Z"
   },
   {
    "duration": 24,
    "start_time": "2023-02-04T11:07:57.497Z"
   },
   {
    "duration": 7,
    "start_time": "2023-02-04T11:07:57.523Z"
   },
   {
    "duration": 25,
    "start_time": "2023-02-04T11:07:57.531Z"
   },
   {
    "duration": 318,
    "start_time": "2023-02-04T11:07:57.557Z"
   },
   {
    "duration": 385,
    "start_time": "2023-02-04T11:07:57.877Z"
   },
   {
    "duration": 321,
    "start_time": "2023-02-04T11:07:58.264Z"
   },
   {
    "duration": 203,
    "start_time": "2023-02-04T11:07:58.591Z"
   },
   {
    "duration": 220,
    "start_time": "2023-02-04T11:07:58.796Z"
   },
   {
    "duration": 204,
    "start_time": "2023-02-04T11:07:59.018Z"
   },
   {
    "duration": 161,
    "start_time": "2023-02-04T11:07:59.223Z"
   },
   {
    "duration": 140,
    "start_time": "2023-02-04T11:07:59.390Z"
   },
   {
    "duration": 175,
    "start_time": "2023-02-04T11:07:59.531Z"
   },
   {
    "duration": 177,
    "start_time": "2023-02-04T11:07:59.708Z"
   },
   {
    "duration": 7,
    "start_time": "2023-02-04T11:07:59.886Z"
   },
   {
    "duration": 143,
    "start_time": "2023-02-04T11:07:59.896Z"
   },
   {
    "duration": 0,
    "start_time": "2023-02-04T11:08:00.041Z"
   },
   {
    "duration": 0,
    "start_time": "2023-02-04T11:08:00.042Z"
   },
   {
    "duration": 0,
    "start_time": "2023-02-04T11:08:00.043Z"
   },
   {
    "duration": 0,
    "start_time": "2023-02-04T11:08:00.044Z"
   },
   {
    "duration": 0,
    "start_time": "2023-02-04T11:08:00.045Z"
   },
   {
    "duration": 0,
    "start_time": "2023-02-04T11:08:00.046Z"
   },
   {
    "duration": 0,
    "start_time": "2023-02-04T11:08:00.048Z"
   },
   {
    "duration": 0,
    "start_time": "2023-02-04T11:08:00.049Z"
   },
   {
    "duration": 26,
    "start_time": "2023-02-04T11:11:01.794Z"
   },
   {
    "duration": 30,
    "start_time": "2023-02-04T11:12:05.259Z"
   },
   {
    "duration": 28,
    "start_time": "2023-02-04T11:12:46.512Z"
   },
   {
    "duration": 24,
    "start_time": "2023-02-04T11:13:00.937Z"
   },
   {
    "duration": 23,
    "start_time": "2023-02-04T11:13:20.429Z"
   },
   {
    "duration": 4,
    "start_time": "2023-02-04T11:20:14.870Z"
   },
   {
    "duration": 4,
    "start_time": "2023-02-04T11:21:05.264Z"
   },
   {
    "duration": 14,
    "start_time": "2023-02-04T11:32:31.861Z"
   },
   {
    "duration": 389,
    "start_time": "2023-02-04T11:32:41.414Z"
   },
   {
    "duration": 472,
    "start_time": "2023-02-04T11:33:01.228Z"
   },
   {
    "duration": 61,
    "start_time": "2023-02-04T11:40:06.619Z"
   },
   {
    "duration": 23,
    "start_time": "2023-02-04T11:40:43.759Z"
   },
   {
    "duration": 15,
    "start_time": "2023-02-04T11:43:38.989Z"
   },
   {
    "duration": 5,
    "start_time": "2023-02-04T11:43:43.527Z"
   },
   {
    "duration": 583,
    "start_time": "2023-02-04T11:44:11.108Z"
   },
   {
    "duration": 5,
    "start_time": "2023-02-04T11:44:29.200Z"
   },
   {
    "duration": 16,
    "start_time": "2023-02-04T11:44:31.847Z"
   },
   {
    "duration": 15,
    "start_time": "2023-02-04T11:44:39.361Z"
   },
   {
    "duration": 421,
    "start_time": "2023-02-04T11:45:50.184Z"
   },
   {
    "duration": 4,
    "start_time": "2023-02-04T12:01:32.880Z"
   },
   {
    "duration": 2,
    "start_time": "2023-02-04T12:01:37.648Z"
   },
   {
    "duration": 4,
    "start_time": "2023-02-04T12:06:56.535Z"
   },
   {
    "duration": 380,
    "start_time": "2023-02-04T12:07:01.374Z"
   },
   {
    "duration": 389,
    "start_time": "2023-02-04T12:18:21.506Z"
   },
   {
    "duration": 13069,
    "start_time": "2023-02-04T12:25:51.809Z"
   },
   {
    "duration": 13887,
    "start_time": "2023-02-04T12:26:29.472Z"
   },
   {
    "duration": 13840,
    "start_time": "2023-02-04T12:26:56.329Z"
   },
   {
    "duration": 1568,
    "start_time": "2023-02-04T12:29:45.446Z"
   },
   {
    "duration": 138529,
    "start_time": "2023-02-04T12:30:03.470Z"
   },
   {
    "duration": 1325,
    "start_time": "2023-02-04T12:49:01.692Z"
   },
   {
    "duration": 341,
    "start_time": "2023-02-04T12:49:03.019Z"
   },
   {
    "duration": 240,
    "start_time": "2023-02-04T12:49:03.362Z"
   },
   {
    "duration": 74,
    "start_time": "2023-02-04T12:49:03.604Z"
   },
   {
    "duration": 12,
    "start_time": "2023-02-04T12:49:03.680Z"
   },
   {
    "duration": 17,
    "start_time": "2023-02-04T12:49:03.693Z"
   },
   {
    "duration": 10,
    "start_time": "2023-02-04T12:49:03.712Z"
   },
   {
    "duration": 6,
    "start_time": "2023-02-04T12:49:03.724Z"
   },
   {
    "duration": 5,
    "start_time": "2023-02-04T12:49:03.731Z"
   },
   {
    "duration": 8,
    "start_time": "2023-02-04T12:49:03.739Z"
   },
   {
    "duration": 11,
    "start_time": "2023-02-04T12:49:03.748Z"
   },
   {
    "duration": 283,
    "start_time": "2023-02-04T12:49:03.761Z"
   },
   {
    "duration": 4,
    "start_time": "2023-02-04T12:49:04.045Z"
   },
   {
    "duration": 9,
    "start_time": "2023-02-04T12:49:04.050Z"
   },
   {
    "duration": 9,
    "start_time": "2023-02-04T12:49:04.060Z"
   },
   {
    "duration": 30,
    "start_time": "2023-02-04T12:49:04.070Z"
   },
   {
    "duration": 285,
    "start_time": "2023-02-04T12:49:04.102Z"
   },
   {
    "duration": 349,
    "start_time": "2023-02-04T12:49:04.389Z"
   },
   {
    "duration": 308,
    "start_time": "2023-02-04T12:49:04.739Z"
   },
   {
    "duration": 207,
    "start_time": "2023-02-04T12:49:05.049Z"
   },
   {
    "duration": 197,
    "start_time": "2023-02-04T12:49:05.257Z"
   },
   {
    "duration": 198,
    "start_time": "2023-02-04T12:49:05.456Z"
   },
   {
    "duration": 168,
    "start_time": "2023-02-04T12:49:05.655Z"
   },
   {
    "duration": 168,
    "start_time": "2023-02-04T12:49:05.825Z"
   },
   {
    "duration": 179,
    "start_time": "2023-02-04T12:49:05.995Z"
   },
   {
    "duration": 174,
    "start_time": "2023-02-04T12:49:06.176Z"
   },
   {
    "duration": 123,
    "start_time": "2023-02-04T12:49:06.352Z"
   },
   {
    "duration": 0,
    "start_time": "2023-02-04T12:49:06.476Z"
   },
   {
    "duration": 0,
    "start_time": "2023-02-04T12:49:06.477Z"
   },
   {
    "duration": 0,
    "start_time": "2023-02-04T12:49:06.479Z"
   },
   {
    "duration": 0,
    "start_time": "2023-02-04T12:49:06.490Z"
   },
   {
    "duration": 0,
    "start_time": "2023-02-04T12:49:06.491Z"
   },
   {
    "duration": 0,
    "start_time": "2023-02-04T12:49:06.492Z"
   },
   {
    "duration": 0,
    "start_time": "2023-02-04T12:49:06.493Z"
   },
   {
    "duration": 0,
    "start_time": "2023-02-04T12:49:06.494Z"
   },
   {
    "duration": 0,
    "start_time": "2023-02-04T12:49:06.495Z"
   },
   {
    "duration": 0,
    "start_time": "2023-02-04T12:49:06.497Z"
   },
   {
    "duration": 2115,
    "start_time": "2023-02-04T12:49:26.876Z"
   },
   {
    "duration": 1323,
    "start_time": "2023-02-04T12:50:45.796Z"
   },
   {
    "duration": 1280,
    "start_time": "2023-02-04T12:51:25.815Z"
   },
   {
    "duration": 4,
    "start_time": "2023-02-04T12:51:36.592Z"
   },
   {
    "duration": 1183,
    "start_time": "2023-02-04T12:52:26.360Z"
   },
   {
    "duration": 1332,
    "start_time": "2023-02-04T12:54:59.427Z"
   },
   {
    "duration": 1642,
    "start_time": "2023-02-04T12:55:14.669Z"
   },
   {
    "duration": 84,
    "start_time": "2023-02-04T12:58:44.523Z"
   },
   {
    "duration": 1372,
    "start_time": "2023-02-04T12:59:42.933Z"
   },
   {
    "duration": 368,
    "start_time": "2023-02-04T12:59:44.307Z"
   },
   {
    "duration": 291,
    "start_time": "2023-02-04T12:59:44.677Z"
   },
   {
    "duration": 93,
    "start_time": "2023-02-04T12:59:44.971Z"
   },
   {
    "duration": 15,
    "start_time": "2023-02-04T12:59:45.065Z"
   },
   {
    "duration": 25,
    "start_time": "2023-02-04T12:59:45.082Z"
   },
   {
    "duration": 13,
    "start_time": "2023-02-04T12:59:45.108Z"
   },
   {
    "duration": 3,
    "start_time": "2023-02-04T12:59:45.123Z"
   },
   {
    "duration": 6,
    "start_time": "2023-02-04T12:59:45.128Z"
   },
   {
    "duration": 11,
    "start_time": "2023-02-04T12:59:45.137Z"
   },
   {
    "duration": 11,
    "start_time": "2023-02-04T12:59:45.150Z"
   },
   {
    "duration": 323,
    "start_time": "2023-02-04T12:59:45.163Z"
   },
   {
    "duration": 4,
    "start_time": "2023-02-04T12:59:45.491Z"
   },
   {
    "duration": 13,
    "start_time": "2023-02-04T12:59:45.496Z"
   },
   {
    "duration": 12,
    "start_time": "2023-02-04T12:59:45.511Z"
   },
   {
    "duration": 24,
    "start_time": "2023-02-04T12:59:45.525Z"
   },
   {
    "duration": 337,
    "start_time": "2023-02-04T12:59:45.550Z"
   },
   {
    "duration": 369,
    "start_time": "2023-02-04T12:59:45.888Z"
   },
   {
    "duration": 391,
    "start_time": "2023-02-04T12:59:46.260Z"
   },
   {
    "duration": 211,
    "start_time": "2023-02-04T12:59:46.653Z"
   },
   {
    "duration": 211,
    "start_time": "2023-02-04T12:59:46.866Z"
   },
   {
    "duration": 224,
    "start_time": "2023-02-04T12:59:47.078Z"
   },
   {
    "duration": 155,
    "start_time": "2023-02-04T12:59:47.303Z"
   },
   {
    "duration": 145,
    "start_time": "2023-02-04T12:59:47.460Z"
   },
   {
    "duration": 166,
    "start_time": "2023-02-04T12:59:47.606Z"
   },
   {
    "duration": 173,
    "start_time": "2023-02-04T12:59:47.774Z"
   },
   {
    "duration": 275,
    "start_time": "2023-02-04T12:59:47.948Z"
   },
   {
    "duration": 0,
    "start_time": "2023-02-04T12:59:48.224Z"
   },
   {
    "duration": 0,
    "start_time": "2023-02-04T12:59:48.225Z"
   },
   {
    "duration": 0,
    "start_time": "2023-02-04T12:59:48.227Z"
   },
   {
    "duration": 0,
    "start_time": "2023-02-04T12:59:48.228Z"
   },
   {
    "duration": 0,
    "start_time": "2023-02-04T12:59:48.229Z"
   },
   {
    "duration": 0,
    "start_time": "2023-02-04T12:59:48.229Z"
   },
   {
    "duration": 0,
    "start_time": "2023-02-04T12:59:48.230Z"
   },
   {
    "duration": 0,
    "start_time": "2023-02-04T12:59:48.231Z"
   },
   {
    "duration": 0,
    "start_time": "2023-02-04T12:59:48.232Z"
   },
   {
    "duration": 0,
    "start_time": "2023-02-04T12:59:48.233Z"
   },
   {
    "duration": 122,
    "start_time": "2023-02-04T13:00:07.926Z"
   },
   {
    "duration": 154,
    "start_time": "2023-02-04T13:02:04.194Z"
   },
   {
    "duration": 173,
    "start_time": "2023-02-04T13:13:44.221Z"
   },
   {
    "duration": 213,
    "start_time": "2023-02-04T13:14:08.007Z"
   },
   {
    "duration": 17,
    "start_time": "2023-02-04T13:14:47.704Z"
   },
   {
    "duration": 139,
    "start_time": "2023-02-04T13:15:01.873Z"
   },
   {
    "duration": 179,
    "start_time": "2023-02-04T13:15:36.976Z"
   },
   {
    "duration": 176,
    "start_time": "2023-02-04T13:16:50.854Z"
   },
   {
    "duration": 7,
    "start_time": "2023-02-04T13:16:55.065Z"
   },
   {
    "duration": 26,
    "start_time": "2023-02-04T13:16:57.524Z"
   },
   {
    "duration": 114,
    "start_time": "2023-02-04T13:16:59.478Z"
   },
   {
    "duration": 6,
    "start_time": "2023-02-04T13:17:02.968Z"
   },
   {
    "duration": 14582,
    "start_time": "2023-02-04T13:17:06.796Z"
   },
   {
    "duration": 13,
    "start_time": "2023-02-04T13:18:14.188Z"
   },
   {
    "duration": 190,
    "start_time": "2023-02-04T13:18:43.025Z"
   },
   {
    "duration": 137,
    "start_time": "2023-02-04T13:18:51.873Z"
   },
   {
    "duration": 19,
    "start_time": "2023-02-04T13:19:19.212Z"
   },
   {
    "duration": 13,
    "start_time": "2023-02-04T13:19:59.182Z"
   },
   {
    "duration": 12,
    "start_time": "2023-02-04T13:20:04.908Z"
   },
   {
    "duration": 151,
    "start_time": "2023-02-04T13:20:31.311Z"
   },
   {
    "duration": 12,
    "start_time": "2023-02-04T13:20:39.805Z"
   },
   {
    "duration": 35,
    "start_time": "2023-02-04T13:22:07.906Z"
   },
   {
    "duration": 65,
    "start_time": "2023-02-04T13:23:12.703Z"
   },
   {
    "duration": 4,
    "start_time": "2023-02-04T13:23:27.963Z"
   },
   {
    "duration": 7,
    "start_time": "2023-02-04T13:23:35.051Z"
   },
   {
    "duration": 13139,
    "start_time": "2023-02-04T13:23:44.399Z"
   },
   {
    "duration": 6,
    "start_time": "2023-02-04T13:24:25.875Z"
   },
   {
    "duration": 12812,
    "start_time": "2023-02-04T13:24:34.122Z"
   },
   {
    "duration": 1339,
    "start_time": "2023-02-04T13:25:40.927Z"
   },
   {
    "duration": 342,
    "start_time": "2023-02-04T13:25:42.268Z"
   },
   {
    "duration": 242,
    "start_time": "2023-02-04T13:25:42.612Z"
   },
   {
    "duration": 75,
    "start_time": "2023-02-04T13:25:42.858Z"
   },
   {
    "duration": 14,
    "start_time": "2023-02-04T13:25:42.934Z"
   },
   {
    "duration": 25,
    "start_time": "2023-02-04T13:25:42.949Z"
   },
   {
    "duration": 26,
    "start_time": "2023-02-04T13:25:42.976Z"
   },
   {
    "duration": 3,
    "start_time": "2023-02-04T13:25:43.004Z"
   },
   {
    "duration": 7,
    "start_time": "2023-02-04T13:25:43.009Z"
   },
   {
    "duration": 8,
    "start_time": "2023-02-04T13:25:43.020Z"
   },
   {
    "duration": 4,
    "start_time": "2023-02-04T13:25:43.029Z"
   },
   {
    "duration": 287,
    "start_time": "2023-02-04T13:25:43.034Z"
   },
   {
    "duration": 4,
    "start_time": "2023-02-04T13:25:43.322Z"
   },
   {
    "duration": 10,
    "start_time": "2023-02-04T13:25:43.327Z"
   },
   {
    "duration": 7,
    "start_time": "2023-02-04T13:25:43.339Z"
   },
   {
    "duration": 17,
    "start_time": "2023-02-04T13:25:43.347Z"
   },
   {
    "duration": 358,
    "start_time": "2023-02-04T13:25:43.365Z"
   },
   {
    "duration": 368,
    "start_time": "2023-02-04T13:25:43.725Z"
   },
   {
    "duration": 298,
    "start_time": "2023-02-04T13:25:44.095Z"
   },
   {
    "duration": 207,
    "start_time": "2023-02-04T13:25:44.395Z"
   },
   {
    "duration": 205,
    "start_time": "2023-02-04T13:25:44.603Z"
   },
   {
    "duration": 160,
    "start_time": "2023-02-04T13:25:44.810Z"
   },
   {
    "duration": 144,
    "start_time": "2023-02-04T13:25:44.973Z"
   },
   {
    "duration": 162,
    "start_time": "2023-02-04T13:25:45.119Z"
   },
   {
    "duration": 159,
    "start_time": "2023-02-04T13:25:45.283Z"
   },
   {
    "duration": 186,
    "start_time": "2023-02-04T13:25:45.444Z"
   },
   {
    "duration": 125,
    "start_time": "2023-02-04T13:25:45.632Z"
   },
   {
    "duration": 8,
    "start_time": "2023-02-04T13:25:45.762Z"
   },
   {
    "duration": 20,
    "start_time": "2023-02-04T13:25:45.772Z"
   },
   {
    "duration": 30,
    "start_time": "2023-02-04T13:25:45.793Z"
   },
   {
    "duration": 112,
    "start_time": "2023-02-04T13:25:45.824Z"
   },
   {
    "duration": 3,
    "start_time": "2023-02-04T13:25:45.937Z"
   },
   {
    "duration": 9,
    "start_time": "2023-02-04T13:25:45.941Z"
   },
   {
    "duration": 6,
    "start_time": "2023-02-04T13:25:45.951Z"
   },
   {
    "duration": 13229,
    "start_time": "2023-02-04T13:25:45.958Z"
   },
   {
    "duration": 1505,
    "start_time": "2023-02-04T13:25:59.188Z"
   },
   {
    "duration": 511327,
    "start_time": "2023-02-04T13:26:00.695Z"
   },
   {
    "duration": 118,
    "start_time": "2023-02-04T13:34:32.024Z"
   },
   {
    "duration": 7,
    "start_time": "2023-02-04T13:34:32.145Z"
   },
   {
    "duration": 6,
    "start_time": "2023-02-04T13:34:32.166Z"
   },
   {
    "duration": 4,
    "start_time": "2023-02-04T13:34:46.981Z"
   },
   {
    "duration": 117,
    "start_time": "2023-02-04T13:37:14.282Z"
   },
   {
    "duration": 1441,
    "start_time": "2023-02-04T13:37:28.487Z"
   },
   {
    "duration": 362,
    "start_time": "2023-02-04T13:37:29.930Z"
   },
   {
    "duration": 260,
    "start_time": "2023-02-04T13:37:30.293Z"
   },
   {
    "duration": 78,
    "start_time": "2023-02-04T13:37:30.555Z"
   },
   {
    "duration": 13,
    "start_time": "2023-02-04T13:37:30.635Z"
   },
   {
    "duration": 37,
    "start_time": "2023-02-04T13:37:30.650Z"
   },
   {
    "duration": 19,
    "start_time": "2023-02-04T13:37:30.689Z"
   },
   {
    "duration": 7,
    "start_time": "2023-02-04T13:37:30.709Z"
   },
   {
    "duration": 31,
    "start_time": "2023-02-04T13:37:30.718Z"
   },
   {
    "duration": 33,
    "start_time": "2023-02-04T13:37:30.751Z"
   },
   {
    "duration": 34,
    "start_time": "2023-02-04T13:37:30.785Z"
   },
   {
    "duration": 311,
    "start_time": "2023-02-04T13:37:30.821Z"
   },
   {
    "duration": 4,
    "start_time": "2023-02-04T13:37:31.133Z"
   },
   {
    "duration": 41,
    "start_time": "2023-02-04T13:37:31.138Z"
   },
   {
    "duration": 51,
    "start_time": "2023-02-04T13:37:31.181Z"
   },
   {
    "duration": 51,
    "start_time": "2023-02-04T13:37:31.234Z"
   },
   {
    "duration": 307,
    "start_time": "2023-02-04T13:37:31.286Z"
   },
   {
    "duration": 374,
    "start_time": "2023-02-04T13:37:31.595Z"
   },
   {
    "duration": 315,
    "start_time": "2023-02-04T13:37:31.971Z"
   },
   {
    "duration": 226,
    "start_time": "2023-02-04T13:37:32.288Z"
   },
   {
    "duration": 210,
    "start_time": "2023-02-04T13:37:32.516Z"
   },
   {
    "duration": 152,
    "start_time": "2023-02-04T13:37:32.728Z"
   },
   {
    "duration": 163,
    "start_time": "2023-02-04T13:37:32.881Z"
   },
   {
    "duration": 155,
    "start_time": "2023-02-04T13:37:33.047Z"
   },
   {
    "duration": 167,
    "start_time": "2023-02-04T13:37:33.204Z"
   },
   {
    "duration": 176,
    "start_time": "2023-02-04T13:37:33.373Z"
   },
   {
    "duration": 7,
    "start_time": "2023-02-04T13:37:33.551Z"
   },
   {
    "duration": 12,
    "start_time": "2023-02-04T13:37:33.561Z"
   },
   {
    "duration": 34,
    "start_time": "2023-02-04T13:37:33.577Z"
   },
   {
    "duration": 103,
    "start_time": "2023-02-04T13:37:33.613Z"
   },
   {
    "duration": 5,
    "start_time": "2023-02-04T13:37:33.717Z"
   },
   {
    "duration": 12897,
    "start_time": "2023-02-04T13:37:33.723Z"
   },
   {
    "duration": 1773,
    "start_time": "2023-02-04T13:37:46.621Z"
   },
   {
    "duration": 1383,
    "start_time": "2023-02-04T13:39:59.010Z"
   },
   {
    "duration": 401,
    "start_time": "2023-02-04T13:40:00.395Z"
   },
   {
    "duration": 264,
    "start_time": "2023-02-04T13:40:00.798Z"
   },
   {
    "duration": 81,
    "start_time": "2023-02-04T13:40:01.064Z"
   },
   {
    "duration": 13,
    "start_time": "2023-02-04T13:40:01.146Z"
   },
   {
    "duration": 40,
    "start_time": "2023-02-04T13:40:01.161Z"
   },
   {
    "duration": 16,
    "start_time": "2023-02-04T13:40:01.203Z"
   },
   {
    "duration": 36,
    "start_time": "2023-02-04T13:40:01.221Z"
   },
   {
    "duration": 37,
    "start_time": "2023-02-04T13:40:01.259Z"
   },
   {
    "duration": 36,
    "start_time": "2023-02-04T13:40:01.298Z"
   },
   {
    "duration": 34,
    "start_time": "2023-02-04T13:40:01.335Z"
   },
   {
    "duration": 310,
    "start_time": "2023-02-04T13:40:01.371Z"
   },
   {
    "duration": 10,
    "start_time": "2023-02-04T13:40:01.682Z"
   },
   {
    "duration": 39,
    "start_time": "2023-02-04T13:40:01.694Z"
   },
   {
    "duration": 47,
    "start_time": "2023-02-04T13:40:01.735Z"
   },
   {
    "duration": 26,
    "start_time": "2023-02-04T13:40:01.784Z"
   },
   {
    "duration": 337,
    "start_time": "2023-02-04T13:40:01.811Z"
   },
   {
    "duration": 375,
    "start_time": "2023-02-04T13:40:02.150Z"
   },
   {
    "duration": 313,
    "start_time": "2023-02-04T13:40:02.526Z"
   },
   {
    "duration": 217,
    "start_time": "2023-02-04T13:40:02.841Z"
   },
   {
    "duration": 207,
    "start_time": "2023-02-04T13:40:03.060Z"
   },
   {
    "duration": 161,
    "start_time": "2023-02-04T13:40:03.269Z"
   },
   {
    "duration": 150,
    "start_time": "2023-02-04T13:40:03.432Z"
   },
   {
    "duration": 181,
    "start_time": "2023-02-04T13:40:03.584Z"
   },
   {
    "duration": 178,
    "start_time": "2023-02-04T13:40:03.767Z"
   },
   {
    "duration": 251,
    "start_time": "2023-02-04T13:40:03.947Z"
   },
   {
    "duration": 10,
    "start_time": "2023-02-04T13:40:04.199Z"
   },
   {
    "duration": 8,
    "start_time": "2023-02-04T13:40:04.213Z"
   },
   {
    "duration": 29,
    "start_time": "2023-02-04T13:40:04.222Z"
   },
   {
    "duration": 113,
    "start_time": "2023-02-04T13:40:04.253Z"
   },
   {
    "duration": 4,
    "start_time": "2023-02-04T13:40:04.367Z"
   },
   {
    "duration": 13241,
    "start_time": "2023-02-04T13:40:04.373Z"
   },
   {
    "duration": 1777,
    "start_time": "2023-02-04T13:40:17.616Z"
   },
   {
    "duration": 540777,
    "start_time": "2023-02-04T13:40:19.396Z"
   },
   {
    "duration": 106,
    "start_time": "2023-02-04T13:49:20.175Z"
   },
   {
    "duration": 130,
    "start_time": "2023-02-04T13:50:15.739Z"
   },
   {
    "duration": 30,
    "start_time": "2023-02-04T13:51:52.529Z"
   },
   {
    "duration": 117,
    "start_time": "2023-02-04T13:55:09.113Z"
   },
   {
    "duration": 1297,
    "start_time": "2023-02-04T13:56:01.618Z"
   },
   {
    "duration": 367,
    "start_time": "2023-02-04T13:56:02.917Z"
   },
   {
    "duration": 257,
    "start_time": "2023-02-04T13:56:03.292Z"
   },
   {
    "duration": 77,
    "start_time": "2023-02-04T13:56:03.551Z"
   },
   {
    "duration": 14,
    "start_time": "2023-02-04T13:56:03.629Z"
   },
   {
    "duration": 32,
    "start_time": "2023-02-04T13:56:03.644Z"
   },
   {
    "duration": 15,
    "start_time": "2023-02-04T13:56:03.677Z"
   },
   {
    "duration": 3,
    "start_time": "2023-02-04T13:56:03.693Z"
   },
   {
    "duration": 9,
    "start_time": "2023-02-04T13:56:03.698Z"
   },
   {
    "duration": 9,
    "start_time": "2023-02-04T13:56:03.708Z"
   },
   {
    "duration": 5,
    "start_time": "2023-02-04T13:56:03.719Z"
   },
   {
    "duration": 298,
    "start_time": "2023-02-04T13:56:03.726Z"
   },
   {
    "duration": 5,
    "start_time": "2023-02-04T13:56:04.026Z"
   },
   {
    "duration": 14,
    "start_time": "2023-02-04T13:56:04.033Z"
   },
   {
    "duration": 17,
    "start_time": "2023-02-04T13:56:04.049Z"
   },
   {
    "duration": 24,
    "start_time": "2023-02-04T13:56:04.067Z"
   },
   {
    "duration": 300,
    "start_time": "2023-02-04T13:56:04.092Z"
   },
   {
    "duration": 357,
    "start_time": "2023-02-04T13:56:04.394Z"
   },
   {
    "duration": 294,
    "start_time": "2023-02-04T13:56:04.753Z"
   },
   {
    "duration": 204,
    "start_time": "2023-02-04T13:56:05.049Z"
   },
   {
    "duration": 201,
    "start_time": "2023-02-04T13:56:05.255Z"
   },
   {
    "duration": 159,
    "start_time": "2023-02-04T13:56:05.458Z"
   },
   {
    "duration": 156,
    "start_time": "2023-02-04T13:56:05.619Z"
   },
   {
    "duration": 170,
    "start_time": "2023-02-04T13:56:05.777Z"
   },
   {
    "duration": 154,
    "start_time": "2023-02-04T13:56:05.948Z"
   },
   {
    "duration": 183,
    "start_time": "2023-02-04T13:56:06.104Z"
   },
   {
    "duration": 7,
    "start_time": "2023-02-04T13:56:06.292Z"
   },
   {
    "duration": 6,
    "start_time": "2023-02-04T13:56:06.301Z"
   },
   {
    "duration": 27,
    "start_time": "2023-02-04T13:56:06.308Z"
   },
   {
    "duration": 123,
    "start_time": "2023-02-04T13:56:06.337Z"
   },
   {
    "duration": 5,
    "start_time": "2023-02-04T13:56:06.462Z"
   },
   {
    "duration": 22,
    "start_time": "2023-02-04T13:56:06.469Z"
   },
   {
    "duration": 13137,
    "start_time": "2023-02-04T13:56:06.494Z"
   },
   {
    "duration": 1761,
    "start_time": "2023-02-04T13:56:19.633Z"
   },
   {
    "duration": 183,
    "start_time": "2023-02-04T13:56:21.396Z"
   },
   {
    "duration": 0,
    "start_time": "2023-02-04T13:56:21.580Z"
   },
   {
    "duration": 0,
    "start_time": "2023-02-04T13:56:21.582Z"
   },
   {
    "duration": 1338,
    "start_time": "2023-02-04T13:56:40.513Z"
   },
   {
    "duration": 367,
    "start_time": "2023-02-04T13:56:41.853Z"
   },
   {
    "duration": 253,
    "start_time": "2023-02-04T13:56:42.221Z"
   },
   {
    "duration": 76,
    "start_time": "2023-02-04T13:56:42.476Z"
   },
   {
    "duration": 14,
    "start_time": "2023-02-04T13:56:42.554Z"
   },
   {
    "duration": 28,
    "start_time": "2023-02-04T13:56:42.569Z"
   },
   {
    "duration": 11,
    "start_time": "2023-02-04T13:56:42.599Z"
   },
   {
    "duration": 3,
    "start_time": "2023-02-04T13:56:42.611Z"
   },
   {
    "duration": 12,
    "start_time": "2023-02-04T13:56:42.616Z"
   },
   {
    "duration": 10,
    "start_time": "2023-02-04T13:56:42.629Z"
   },
   {
    "duration": 4,
    "start_time": "2023-02-04T13:56:42.640Z"
   },
   {
    "duration": 284,
    "start_time": "2023-02-04T13:56:42.645Z"
   },
   {
    "duration": 3,
    "start_time": "2023-02-04T13:56:42.931Z"
   },
   {
    "duration": 9,
    "start_time": "2023-02-04T13:56:42.938Z"
   },
   {
    "duration": 10,
    "start_time": "2023-02-04T13:56:42.949Z"
   },
   {
    "duration": 33,
    "start_time": "2023-02-04T13:56:42.961Z"
   },
   {
    "duration": 310,
    "start_time": "2023-02-04T13:56:42.995Z"
   },
   {
    "duration": 381,
    "start_time": "2023-02-04T13:56:43.307Z"
   },
   {
    "duration": 305,
    "start_time": "2023-02-04T13:56:43.689Z"
   },
   {
    "duration": 207,
    "start_time": "2023-02-04T13:56:43.996Z"
   },
   {
    "duration": 192,
    "start_time": "2023-02-04T13:56:44.205Z"
   },
   {
    "duration": 154,
    "start_time": "2023-02-04T13:56:44.398Z"
   },
   {
    "duration": 138,
    "start_time": "2023-02-04T13:56:44.553Z"
   },
   {
    "duration": 169,
    "start_time": "2023-02-04T13:56:44.692Z"
   },
   {
    "duration": 173,
    "start_time": "2023-02-04T13:56:44.863Z"
   },
   {
    "duration": 209,
    "start_time": "2023-02-04T13:56:45.038Z"
   },
   {
    "duration": 8,
    "start_time": "2023-02-04T13:56:45.249Z"
   },
   {
    "duration": 14,
    "start_time": "2023-02-04T13:56:45.259Z"
   },
   {
    "duration": 46,
    "start_time": "2023-02-04T13:56:45.275Z"
   },
   {
    "duration": 112,
    "start_time": "2023-02-04T13:56:45.323Z"
   },
   {
    "duration": 4,
    "start_time": "2023-02-04T13:56:45.436Z"
   },
   {
    "duration": 17,
    "start_time": "2023-02-04T13:56:45.441Z"
   },
   {
    "duration": 12812,
    "start_time": "2023-02-04T13:56:45.459Z"
   },
   {
    "duration": 1326,
    "start_time": "2023-02-04T13:56:58.272Z"
   },
   {
    "duration": 4,
    "start_time": "2023-02-04T13:56:59.599Z"
   },
   {
    "duration": 192,
    "start_time": "2023-02-04T13:56:59.605Z"
   },
   {
    "duration": 0,
    "start_time": "2023-02-04T13:56:59.799Z"
   },
   {
    "duration": 94,
    "start_time": "2023-02-04T13:58:46.816Z"
   },
   {
    "duration": 17,
    "start_time": "2023-02-04T13:59:53.408Z"
   },
   {
    "duration": 3,
    "start_time": "2023-02-04T14:01:35.748Z"
   },
   {
    "duration": 1284,
    "start_time": "2023-02-04T14:04:27.034Z"
   },
   {
    "duration": 363,
    "start_time": "2023-02-04T14:04:28.321Z"
   },
   {
    "duration": 260,
    "start_time": "2023-02-04T14:04:28.686Z"
   },
   {
    "duration": 76,
    "start_time": "2023-02-04T14:04:28.947Z"
   },
   {
    "duration": 13,
    "start_time": "2023-02-04T14:04:29.026Z"
   },
   {
    "duration": 18,
    "start_time": "2023-02-04T14:04:29.041Z"
   },
   {
    "duration": 10,
    "start_time": "2023-02-04T14:04:29.061Z"
   },
   {
    "duration": 18,
    "start_time": "2023-02-04T14:04:29.073Z"
   },
   {
    "duration": 8,
    "start_time": "2023-02-04T14:04:29.093Z"
   },
   {
    "duration": 13,
    "start_time": "2023-02-04T14:04:29.102Z"
   },
   {
    "duration": 8,
    "start_time": "2023-02-04T14:04:29.116Z"
   },
   {
    "duration": 264,
    "start_time": "2023-02-04T14:04:29.125Z"
   },
   {
    "duration": 3,
    "start_time": "2023-02-04T14:04:29.392Z"
   },
   {
    "duration": 11,
    "start_time": "2023-02-04T14:04:29.397Z"
   },
   {
    "duration": 10,
    "start_time": "2023-02-04T14:04:29.409Z"
   },
   {
    "duration": 13,
    "start_time": "2023-02-04T14:04:29.421Z"
   },
   {
    "duration": 322,
    "start_time": "2023-02-04T14:04:29.435Z"
   },
   {
    "duration": 357,
    "start_time": "2023-02-04T14:04:29.759Z"
   },
   {
    "duration": 301,
    "start_time": "2023-02-04T14:04:30.117Z"
   },
   {
    "duration": 227,
    "start_time": "2023-02-04T14:04:30.420Z"
   },
   {
    "duration": 229,
    "start_time": "2023-02-04T14:04:30.649Z"
   },
   {
    "duration": 163,
    "start_time": "2023-02-04T14:04:30.879Z"
   },
   {
    "duration": 138,
    "start_time": "2023-02-04T14:04:31.043Z"
   },
   {
    "duration": 166,
    "start_time": "2023-02-04T14:04:31.182Z"
   },
   {
    "duration": 154,
    "start_time": "2023-02-04T14:04:31.349Z"
   },
   {
    "duration": 179,
    "start_time": "2023-02-04T14:04:31.505Z"
   },
   {
    "duration": 11,
    "start_time": "2023-02-04T14:04:31.685Z"
   },
   {
    "duration": 19,
    "start_time": "2023-02-04T14:04:31.697Z"
   },
   {
    "duration": 41,
    "start_time": "2023-02-04T14:04:31.718Z"
   },
   {
    "duration": 108,
    "start_time": "2023-02-04T14:04:31.760Z"
   },
   {
    "duration": 102,
    "start_time": "2023-02-04T14:04:31.870Z"
   },
   {
    "duration": 19,
    "start_time": "2023-02-04T14:04:31.974Z"
   },
   {
    "duration": 12708,
    "start_time": "2023-02-04T14:04:31.995Z"
   },
   {
    "duration": 1586,
    "start_time": "2023-02-04T14:04:44.705Z"
   },
   {
    "duration": 3,
    "start_time": "2023-02-04T14:04:46.293Z"
   },
   {
    "duration": 13,
    "start_time": "2023-02-04T14:04:46.298Z"
   },
   {
    "duration": 948,
    "start_time": "2023-02-04T14:04:46.313Z"
   },
   {
    "duration": 29,
    "start_time": "2023-02-04T14:04:47.262Z"
   },
   {
    "duration": 363,
    "start_time": "2023-02-04T14:06:14.041Z"
   },
   {
    "duration": 265,
    "start_time": "2023-02-04T14:06:24.344Z"
   },
   {
    "duration": 1338,
    "start_time": "2023-02-04T14:06:31.282Z"
   },
   {
    "duration": 356,
    "start_time": "2023-02-04T14:06:32.622Z"
   },
   {
    "duration": 272,
    "start_time": "2023-02-04T14:06:32.980Z"
   },
   {
    "duration": 77,
    "start_time": "2023-02-04T14:06:33.254Z"
   },
   {
    "duration": 13,
    "start_time": "2023-02-04T14:06:33.333Z"
   },
   {
    "duration": 23,
    "start_time": "2023-02-04T14:06:33.347Z"
   },
   {
    "duration": 21,
    "start_time": "2023-02-04T14:06:33.371Z"
   },
   {
    "duration": 3,
    "start_time": "2023-02-04T14:06:33.393Z"
   },
   {
    "duration": 7,
    "start_time": "2023-02-04T14:06:33.398Z"
   },
   {
    "duration": 9,
    "start_time": "2023-02-04T14:06:33.408Z"
   },
   {
    "duration": 21,
    "start_time": "2023-02-04T14:06:33.418Z"
   },
   {
    "duration": 277,
    "start_time": "2023-02-04T14:06:33.440Z"
   },
   {
    "duration": 4,
    "start_time": "2023-02-04T14:06:33.718Z"
   },
   {
    "duration": 10,
    "start_time": "2023-02-04T14:06:33.723Z"
   },
   {
    "duration": 10,
    "start_time": "2023-02-04T14:06:33.735Z"
   },
   {
    "duration": 15,
    "start_time": "2023-02-04T14:06:33.746Z"
   },
   {
    "duration": 339,
    "start_time": "2023-02-04T14:06:33.763Z"
   },
   {
    "duration": 348,
    "start_time": "2023-02-04T14:06:34.104Z"
   },
   {
    "duration": 297,
    "start_time": "2023-02-04T14:06:34.453Z"
   },
   {
    "duration": 233,
    "start_time": "2023-02-04T14:06:34.751Z"
   },
   {
    "duration": 207,
    "start_time": "2023-02-04T14:06:34.986Z"
   },
   {
    "duration": 147,
    "start_time": "2023-02-04T14:06:35.195Z"
   },
   {
    "duration": 131,
    "start_time": "2023-02-04T14:06:35.344Z"
   },
   {
    "duration": 171,
    "start_time": "2023-02-04T14:06:35.477Z"
   },
   {
    "duration": 155,
    "start_time": "2023-02-04T14:06:35.650Z"
   },
   {
    "duration": 188,
    "start_time": "2023-02-04T14:06:35.806Z"
   },
   {
    "duration": 6,
    "start_time": "2023-02-04T14:06:35.996Z"
   },
   {
    "duration": 11,
    "start_time": "2023-02-04T14:06:36.005Z"
   },
   {
    "duration": 26,
    "start_time": "2023-02-04T14:06:36.018Z"
   },
   {
    "duration": 113,
    "start_time": "2023-02-04T14:06:36.045Z"
   },
   {
    "duration": 4,
    "start_time": "2023-02-04T14:06:36.160Z"
   },
   {
    "duration": 9,
    "start_time": "2023-02-04T14:06:36.165Z"
   },
   {
    "duration": 12898,
    "start_time": "2023-02-04T14:06:36.176Z"
   },
   {
    "duration": 1817,
    "start_time": "2023-02-04T14:06:49.076Z"
   },
   {
    "duration": 5,
    "start_time": "2023-02-04T14:06:50.895Z"
   },
   {
    "duration": 91,
    "start_time": "2023-02-04T14:06:50.901Z"
   },
   {
    "duration": 285,
    "start_time": "2023-02-04T14:06:50.994Z"
   },
   {
    "duration": 26,
    "start_time": "2023-02-04T14:06:51.281Z"
   },
   {
    "duration": 1462,
    "start_time": "2023-02-04T14:08:30.791Z"
   },
   {
    "duration": 384,
    "start_time": "2023-02-04T14:08:32.255Z"
   },
   {
    "duration": 295,
    "start_time": "2023-02-04T14:08:32.641Z"
   },
   {
    "duration": 88,
    "start_time": "2023-02-04T14:08:32.938Z"
   },
   {
    "duration": 13,
    "start_time": "2023-02-04T14:08:33.028Z"
   },
   {
    "duration": 25,
    "start_time": "2023-02-04T14:08:33.043Z"
   },
   {
    "duration": 21,
    "start_time": "2023-02-04T14:08:33.070Z"
   },
   {
    "duration": 3,
    "start_time": "2023-02-04T14:08:33.093Z"
   },
   {
    "duration": 24,
    "start_time": "2023-02-04T14:08:33.098Z"
   },
   {
    "duration": 23,
    "start_time": "2023-02-04T14:08:33.124Z"
   },
   {
    "duration": 19,
    "start_time": "2023-02-04T14:08:33.148Z"
   },
   {
    "duration": 281,
    "start_time": "2023-02-04T14:08:33.168Z"
   },
   {
    "duration": 4,
    "start_time": "2023-02-04T14:08:33.450Z"
   },
   {
    "duration": 19,
    "start_time": "2023-02-04T14:08:33.455Z"
   },
   {
    "duration": 15,
    "start_time": "2023-02-04T14:08:33.476Z"
   },
   {
    "duration": 21,
    "start_time": "2023-02-04T14:08:33.492Z"
   },
   {
    "duration": 310,
    "start_time": "2023-02-04T14:08:33.515Z"
   },
   {
    "duration": 382,
    "start_time": "2023-02-04T14:08:33.827Z"
   },
   {
    "duration": 297,
    "start_time": "2023-02-04T14:08:34.211Z"
   },
   {
    "duration": 211,
    "start_time": "2023-02-04T14:08:34.510Z"
   },
   {
    "duration": 209,
    "start_time": "2023-02-04T14:08:34.722Z"
   },
   {
    "duration": 161,
    "start_time": "2023-02-04T14:08:34.933Z"
   },
   {
    "duration": 142,
    "start_time": "2023-02-04T14:08:35.096Z"
   },
   {
    "duration": 166,
    "start_time": "2023-02-04T14:08:35.239Z"
   },
   {
    "duration": 159,
    "start_time": "2023-02-04T14:08:35.407Z"
   },
   {
    "duration": 174,
    "start_time": "2023-02-04T14:08:35.568Z"
   },
   {
    "duration": 8,
    "start_time": "2023-02-04T14:08:35.744Z"
   },
   {
    "duration": 30,
    "start_time": "2023-02-04T14:08:35.755Z"
   },
   {
    "duration": 50,
    "start_time": "2023-02-04T14:08:35.786Z"
   },
   {
    "duration": 114,
    "start_time": "2023-02-04T14:08:35.838Z"
   },
   {
    "duration": 5,
    "start_time": "2023-02-04T14:08:35.953Z"
   },
   {
    "duration": 19,
    "start_time": "2023-02-04T14:08:35.959Z"
   },
   {
    "duration": 12951,
    "start_time": "2023-02-04T14:08:35.979Z"
   },
   {
    "duration": 1566,
    "start_time": "2023-02-04T14:08:48.932Z"
   },
   {
    "duration": 3,
    "start_time": "2023-02-04T14:08:50.500Z"
   },
   {
    "duration": 87,
    "start_time": "2023-02-04T14:08:50.505Z"
   },
   {
    "duration": 325,
    "start_time": "2023-02-04T14:08:50.594Z"
   },
   {
    "duration": 21,
    "start_time": "2023-02-04T14:08:50.921Z"
   },
   {
    "duration": 1298,
    "start_time": "2023-02-04T14:09:01.430Z"
   },
   {
    "duration": 363,
    "start_time": "2023-02-04T14:09:02.730Z"
   },
   {
    "duration": 252,
    "start_time": "2023-02-04T14:09:03.094Z"
   },
   {
    "duration": 77,
    "start_time": "2023-02-04T14:09:03.348Z"
   },
   {
    "duration": 12,
    "start_time": "2023-02-04T14:09:03.427Z"
   },
   {
    "duration": 25,
    "start_time": "2023-02-04T14:09:03.441Z"
   },
   {
    "duration": 23,
    "start_time": "2023-02-04T14:09:03.468Z"
   },
   {
    "duration": 4,
    "start_time": "2023-02-04T14:09:03.492Z"
   },
   {
    "duration": 7,
    "start_time": "2023-02-04T14:09:03.497Z"
   },
   {
    "duration": 18,
    "start_time": "2023-02-04T14:09:03.505Z"
   },
   {
    "duration": 6,
    "start_time": "2023-02-04T14:09:03.525Z"
   },
   {
    "duration": 288,
    "start_time": "2023-02-04T14:09:03.532Z"
   },
   {
    "duration": 7,
    "start_time": "2023-02-04T14:09:03.822Z"
   },
   {
    "duration": 15,
    "start_time": "2023-02-04T14:09:03.833Z"
   },
   {
    "duration": 20,
    "start_time": "2023-02-04T14:09:03.850Z"
   },
   {
    "duration": 26,
    "start_time": "2023-02-04T14:09:03.872Z"
   },
   {
    "duration": 328,
    "start_time": "2023-02-04T14:09:03.900Z"
   },
   {
    "duration": 351,
    "start_time": "2023-02-04T14:09:04.229Z"
   },
   {
    "duration": 304,
    "start_time": "2023-02-04T14:09:04.582Z"
   },
   {
    "duration": 210,
    "start_time": "2023-02-04T14:09:04.891Z"
   },
   {
    "duration": 199,
    "start_time": "2023-02-04T14:09:05.103Z"
   },
   {
    "duration": 153,
    "start_time": "2023-02-04T14:09:05.304Z"
   },
   {
    "duration": 141,
    "start_time": "2023-02-04T14:09:05.459Z"
   },
   {
    "duration": 165,
    "start_time": "2023-02-04T14:09:05.602Z"
   },
   {
    "duration": 174,
    "start_time": "2023-02-04T14:09:05.769Z"
   },
   {
    "duration": 178,
    "start_time": "2023-02-04T14:09:05.945Z"
   },
   {
    "duration": 9,
    "start_time": "2023-02-04T14:09:06.125Z"
   },
   {
    "duration": 12,
    "start_time": "2023-02-04T14:09:06.135Z"
   },
   {
    "duration": 42,
    "start_time": "2023-02-04T14:09:06.149Z"
   },
   {
    "duration": 112,
    "start_time": "2023-02-04T14:09:06.193Z"
   },
   {
    "duration": 124,
    "start_time": "2023-02-04T14:09:06.308Z"
   },
   {
    "duration": 15,
    "start_time": "2023-02-04T14:09:06.434Z"
   },
   {
    "duration": 13257,
    "start_time": "2023-02-04T14:09:06.451Z"
   },
   {
    "duration": 1487,
    "start_time": "2023-02-04T14:09:19.709Z"
   },
   {
    "duration": 5,
    "start_time": "2023-02-04T14:09:21.198Z"
   },
   {
    "duration": 360,
    "start_time": "2023-02-04T14:09:21.205Z"
   },
   {
    "duration": 37,
    "start_time": "2023-02-04T14:09:21.567Z"
   },
   {
    "duration": 1393,
    "start_time": "2023-02-04T14:09:24.873Z"
   },
   {
    "duration": 427,
    "start_time": "2023-02-04T14:09:26.267Z"
   },
   {
    "duration": 272,
    "start_time": "2023-02-04T14:09:26.695Z"
   },
   {
    "duration": 77,
    "start_time": "2023-02-04T14:09:26.970Z"
   },
   {
    "duration": 13,
    "start_time": "2023-02-04T14:09:27.048Z"
   },
   {
    "duration": 32,
    "start_time": "2023-02-04T14:09:27.063Z"
   },
   {
    "duration": 11,
    "start_time": "2023-02-04T14:09:27.097Z"
   },
   {
    "duration": 5,
    "start_time": "2023-02-04T14:09:27.109Z"
   },
   {
    "duration": 5,
    "start_time": "2023-02-04T14:09:27.116Z"
   },
   {
    "duration": 15,
    "start_time": "2023-02-04T14:09:27.124Z"
   },
   {
    "duration": 5,
    "start_time": "2023-02-04T14:09:27.141Z"
   },
   {
    "duration": 303,
    "start_time": "2023-02-04T14:09:27.147Z"
   },
   {
    "duration": 4,
    "start_time": "2023-02-04T14:09:27.451Z"
   },
   {
    "duration": 8,
    "start_time": "2023-02-04T14:09:27.457Z"
   },
   {
    "duration": 7,
    "start_time": "2023-02-04T14:09:27.491Z"
   },
   {
    "duration": 20,
    "start_time": "2023-02-04T14:09:27.500Z"
   },
   {
    "duration": 331,
    "start_time": "2023-02-04T14:09:27.522Z"
   },
   {
    "duration": 398,
    "start_time": "2023-02-04T14:09:27.856Z"
   },
   {
    "duration": 324,
    "start_time": "2023-02-04T14:09:28.256Z"
   },
   {
    "duration": 222,
    "start_time": "2023-02-04T14:09:28.583Z"
   },
   {
    "duration": 218,
    "start_time": "2023-02-04T14:09:28.808Z"
   },
   {
    "duration": 162,
    "start_time": "2023-02-04T14:09:29.029Z"
   },
   {
    "duration": 151,
    "start_time": "2023-02-04T14:09:29.193Z"
   },
   {
    "duration": 167,
    "start_time": "2023-02-04T14:09:29.345Z"
   },
   {
    "duration": 214,
    "start_time": "2023-02-04T14:09:29.515Z"
   },
   {
    "duration": 190,
    "start_time": "2023-02-04T14:09:29.732Z"
   },
   {
    "duration": 7,
    "start_time": "2023-02-04T14:09:29.924Z"
   },
   {
    "duration": 12,
    "start_time": "2023-02-04T14:09:29.934Z"
   },
   {
    "duration": 44,
    "start_time": "2023-02-04T14:09:29.947Z"
   },
   {
    "duration": 102,
    "start_time": "2023-02-04T14:09:29.993Z"
   },
   {
    "duration": 4,
    "start_time": "2023-02-04T14:09:30.097Z"
   },
   {
    "duration": 33,
    "start_time": "2023-02-04T14:09:30.103Z"
   },
   {
    "duration": 12903,
    "start_time": "2023-02-04T14:09:30.137Z"
   },
   {
    "duration": 1850,
    "start_time": "2023-02-04T14:09:43.043Z"
   },
   {
    "duration": 3,
    "start_time": "2023-02-04T14:09:44.895Z"
   },
   {
    "duration": 366,
    "start_time": "2023-02-04T14:09:44.900Z"
   },
   {
    "duration": 33,
    "start_time": "2023-02-04T14:09:45.268Z"
   },
   {
    "duration": 194,
    "start_time": "2023-02-04T14:11:28.064Z"
   },
   {
    "duration": 1649,
    "start_time": "2023-02-04T14:12:28.934Z"
   },
   {
    "duration": 476,
    "start_time": "2023-02-04T14:12:30.584Z"
   },
   {
    "duration": 311,
    "start_time": "2023-02-04T14:12:31.061Z"
   },
   {
    "duration": 132,
    "start_time": "2023-02-04T14:12:31.375Z"
   },
   {
    "duration": 16,
    "start_time": "2023-02-04T14:12:31.510Z"
   },
   {
    "duration": 39,
    "start_time": "2023-02-04T14:12:31.527Z"
   },
   {
    "duration": 13,
    "start_time": "2023-02-04T14:12:31.568Z"
   },
   {
    "duration": 22,
    "start_time": "2023-02-04T14:12:31.583Z"
   },
   {
    "duration": 29,
    "start_time": "2023-02-04T14:12:31.608Z"
   },
   {
    "duration": 26,
    "start_time": "2023-02-04T14:12:31.642Z"
   },
   {
    "duration": 29,
    "start_time": "2023-02-04T14:12:31.670Z"
   },
   {
    "duration": 381,
    "start_time": "2023-02-04T14:12:31.702Z"
   },
   {
    "duration": 7,
    "start_time": "2023-02-04T14:12:32.084Z"
   },
   {
    "duration": 11,
    "start_time": "2023-02-04T14:12:32.093Z"
   },
   {
    "duration": 35,
    "start_time": "2023-02-04T14:12:32.106Z"
   },
   {
    "duration": 17,
    "start_time": "2023-02-04T14:12:32.148Z"
   },
   {
    "duration": 364,
    "start_time": "2023-02-04T14:12:32.167Z"
   },
   {
    "duration": 418,
    "start_time": "2023-02-04T14:12:32.532Z"
   },
   {
    "duration": 374,
    "start_time": "2023-02-04T14:12:32.952Z"
   },
   {
    "duration": 240,
    "start_time": "2023-02-04T14:12:33.328Z"
   },
   {
    "duration": 227,
    "start_time": "2023-02-04T14:12:33.569Z"
   },
   {
    "duration": 179,
    "start_time": "2023-02-04T14:12:33.804Z"
   },
   {
    "duration": 174,
    "start_time": "2023-02-04T14:12:33.985Z"
   },
   {
    "duration": 194,
    "start_time": "2023-02-04T14:12:34.160Z"
   },
   {
    "duration": 187,
    "start_time": "2023-02-04T14:12:34.355Z"
   },
   {
    "duration": 203,
    "start_time": "2023-02-04T14:12:34.544Z"
   },
   {
    "duration": 7,
    "start_time": "2023-02-04T14:12:34.749Z"
   },
   {
    "duration": 38,
    "start_time": "2023-02-04T14:12:34.759Z"
   },
   {
    "duration": 44,
    "start_time": "2023-02-04T14:12:34.800Z"
   },
   {
    "duration": 112,
    "start_time": "2023-02-04T14:12:34.846Z"
   },
   {
    "duration": 4,
    "start_time": "2023-02-04T14:12:34.960Z"
   },
   {
    "duration": 71,
    "start_time": "2023-02-04T14:12:34.965Z"
   },
   {
    "duration": 14711,
    "start_time": "2023-02-04T14:12:35.038Z"
   },
   {
    "duration": 1949,
    "start_time": "2023-02-04T14:12:49.750Z"
   },
   {
    "duration": 6,
    "start_time": "2023-02-04T14:12:51.701Z"
   },
   {
    "duration": 372,
    "start_time": "2023-02-04T14:12:51.709Z"
   },
   {
    "duration": 36,
    "start_time": "2023-02-04T14:12:52.082Z"
   },
   {
    "duration": 1524,
    "start_time": "2023-02-04T14:13:57.639Z"
   },
   {
    "duration": 429,
    "start_time": "2023-02-04T14:13:59.165Z"
   },
   {
    "duration": 343,
    "start_time": "2023-02-04T14:13:59.596Z"
   },
   {
    "duration": 92,
    "start_time": "2023-02-04T14:13:59.940Z"
   },
   {
    "duration": 12,
    "start_time": "2023-02-04T14:14:00.033Z"
   },
   {
    "duration": 27,
    "start_time": "2023-02-04T14:14:00.047Z"
   },
   {
    "duration": 13,
    "start_time": "2023-02-04T14:14:00.076Z"
   },
   {
    "duration": 34,
    "start_time": "2023-02-04T14:14:00.092Z"
   },
   {
    "duration": 28,
    "start_time": "2023-02-04T14:14:00.127Z"
   },
   {
    "duration": 19,
    "start_time": "2023-02-04T14:14:00.158Z"
   },
   {
    "duration": 10,
    "start_time": "2023-02-04T14:14:00.178Z"
   },
   {
    "duration": 376,
    "start_time": "2023-02-04T14:14:00.190Z"
   },
   {
    "duration": 4,
    "start_time": "2023-02-04T14:14:00.568Z"
   },
   {
    "duration": 61,
    "start_time": "2023-02-04T14:14:00.574Z"
   },
   {
    "duration": 20,
    "start_time": "2023-02-04T14:14:00.637Z"
   },
   {
    "duration": 21,
    "start_time": "2023-02-04T14:14:00.659Z"
   },
   {
    "duration": 378,
    "start_time": "2023-02-04T14:14:00.682Z"
   },
   {
    "duration": 460,
    "start_time": "2023-02-04T14:14:01.062Z"
   },
   {
    "duration": 352,
    "start_time": "2023-02-04T14:14:01.525Z"
   },
   {
    "duration": 264,
    "start_time": "2023-02-04T14:14:01.879Z"
   },
   {
    "duration": 274,
    "start_time": "2023-02-04T14:14:02.145Z"
   },
   {
    "duration": 180,
    "start_time": "2023-02-04T14:14:02.421Z"
   },
   {
    "duration": 224,
    "start_time": "2023-02-04T14:14:02.603Z"
   },
   {
    "duration": 208,
    "start_time": "2023-02-04T14:14:02.830Z"
   },
   {
    "duration": 209,
    "start_time": "2023-02-04T14:14:03.040Z"
   },
   {
    "duration": 240,
    "start_time": "2023-02-04T14:14:03.251Z"
   },
   {
    "duration": 10,
    "start_time": "2023-02-04T14:14:03.493Z"
   },
   {
    "duration": 34,
    "start_time": "2023-02-04T14:14:03.507Z"
   },
   {
    "duration": 30,
    "start_time": "2023-02-04T14:14:03.544Z"
   },
   {
    "duration": 186,
    "start_time": "2023-02-04T14:14:03.575Z"
   },
   {
    "duration": 5,
    "start_time": "2023-02-04T14:14:03.763Z"
   },
   {
    "duration": 28,
    "start_time": "2023-02-04T14:14:03.769Z"
   },
   {
    "duration": 14899,
    "start_time": "2023-02-04T14:14:03.799Z"
   },
   {
    "duration": 1724,
    "start_time": "2023-02-04T14:14:18.701Z"
   },
   {
    "duration": 1503,
    "start_time": "2023-02-04T14:15:06.959Z"
   },
   {
    "duration": 438,
    "start_time": "2023-02-04T14:15:08.464Z"
   },
   {
    "duration": 324,
    "start_time": "2023-02-04T14:15:08.913Z"
   },
   {
    "duration": 95,
    "start_time": "2023-02-04T14:15:09.239Z"
   },
   {
    "duration": 13,
    "start_time": "2023-02-04T14:15:09.335Z"
   },
   {
    "duration": 20,
    "start_time": "2023-02-04T14:15:09.349Z"
   },
   {
    "duration": 10,
    "start_time": "2023-02-04T14:15:09.371Z"
   },
   {
    "duration": 6,
    "start_time": "2023-02-04T14:15:09.396Z"
   },
   {
    "duration": 25,
    "start_time": "2023-02-04T14:15:09.404Z"
   },
   {
    "duration": 8,
    "start_time": "2023-02-04T14:15:09.431Z"
   },
   {
    "duration": 5,
    "start_time": "2023-02-04T14:15:09.441Z"
   },
   {
    "duration": 327,
    "start_time": "2023-02-04T14:15:09.447Z"
   },
   {
    "duration": 3,
    "start_time": "2023-02-04T14:15:09.776Z"
   },
   {
    "duration": 9,
    "start_time": "2023-02-04T14:15:09.780Z"
   },
   {
    "duration": 39,
    "start_time": "2023-02-04T14:15:09.793Z"
   },
   {
    "duration": 18,
    "start_time": "2023-02-04T14:15:09.835Z"
   },
   {
    "duration": 373,
    "start_time": "2023-02-04T14:15:09.855Z"
   },
   {
    "duration": 430,
    "start_time": "2023-02-04T14:15:10.229Z"
   },
   {
    "duration": 356,
    "start_time": "2023-02-04T14:15:10.661Z"
   },
   {
    "duration": 251,
    "start_time": "2023-02-04T14:15:11.019Z"
   },
   {
    "duration": 261,
    "start_time": "2023-02-04T14:15:11.272Z"
   },
   {
    "duration": 182,
    "start_time": "2023-02-04T14:15:11.535Z"
   },
   {
    "duration": 159,
    "start_time": "2023-02-04T14:15:11.722Z"
   },
   {
    "duration": 199,
    "start_time": "2023-02-04T14:15:11.883Z"
   },
   {
    "duration": 185,
    "start_time": "2023-02-04T14:15:12.084Z"
   },
   {
    "duration": 214,
    "start_time": "2023-02-04T14:15:12.270Z"
   },
   {
    "duration": 12,
    "start_time": "2023-02-04T14:15:12.485Z"
   },
   {
    "duration": 32,
    "start_time": "2023-02-04T14:15:12.505Z"
   },
   {
    "duration": 24,
    "start_time": "2023-02-04T14:15:12.539Z"
   },
   {
    "duration": 112,
    "start_time": "2023-02-04T14:15:12.565Z"
   },
   {
    "duration": 4,
    "start_time": "2023-02-04T14:15:12.679Z"
   },
   {
    "duration": 14,
    "start_time": "2023-02-04T14:15:12.685Z"
   },
   {
    "duration": 14368,
    "start_time": "2023-02-04T14:15:12.701Z"
   },
   {
    "duration": 1867,
    "start_time": "2023-02-04T14:15:27.070Z"
   },
   {
    "duration": 3,
    "start_time": "2023-02-04T14:15:28.993Z"
   },
   {
    "duration": 331,
    "start_time": "2023-02-04T14:15:28.998Z"
   },
   {
    "duration": 21,
    "start_time": "2023-02-04T14:15:29.331Z"
   },
   {
    "duration": 3803,
    "start_time": "2023-02-05T10:06:41.891Z"
   },
   {
    "duration": 356,
    "start_time": "2023-02-05T10:06:45.696Z"
   },
   {
    "duration": 251,
    "start_time": "2023-02-05T10:06:46.054Z"
   },
   {
    "duration": 74,
    "start_time": "2023-02-05T10:06:46.307Z"
   },
   {
    "duration": 19,
    "start_time": "2023-02-05T10:06:46.383Z"
   },
   {
    "duration": 30,
    "start_time": "2023-02-05T10:06:46.404Z"
   },
   {
    "duration": 14,
    "start_time": "2023-02-05T10:06:46.436Z"
   },
   {
    "duration": 4,
    "start_time": "2023-02-05T10:06:46.451Z"
   },
   {
    "duration": 5,
    "start_time": "2023-02-05T10:06:46.457Z"
   },
   {
    "duration": 11,
    "start_time": "2023-02-05T10:06:46.464Z"
   },
   {
    "duration": 4,
    "start_time": "2023-02-05T10:06:46.476Z"
   },
   {
    "duration": 321,
    "start_time": "2023-02-05T10:06:46.481Z"
   },
   {
    "duration": 3,
    "start_time": "2023-02-05T10:06:46.804Z"
   },
   {
    "duration": 18,
    "start_time": "2023-02-05T10:06:46.809Z"
   },
   {
    "duration": 7,
    "start_time": "2023-02-05T10:06:46.828Z"
   },
   {
    "duration": 17,
    "start_time": "2023-02-05T10:06:46.837Z"
   },
   {
    "duration": 329,
    "start_time": "2023-02-05T10:06:46.855Z"
   },
   {
    "duration": 389,
    "start_time": "2023-02-05T10:06:47.186Z"
   },
   {
    "duration": 310,
    "start_time": "2023-02-05T10:06:47.576Z"
   },
   {
    "duration": 210,
    "start_time": "2023-02-05T10:06:47.887Z"
   },
   {
    "duration": 215,
    "start_time": "2023-02-05T10:06:48.099Z"
   },
   {
    "duration": 171,
    "start_time": "2023-02-05T10:06:48.316Z"
   },
   {
    "duration": 160,
    "start_time": "2023-02-05T10:06:48.489Z"
   },
   {
    "duration": 170,
    "start_time": "2023-02-05T10:06:48.651Z"
   },
   {
    "duration": 165,
    "start_time": "2023-02-05T10:06:48.826Z"
   },
   {
    "duration": 178,
    "start_time": "2023-02-05T10:06:48.993Z"
   },
   {
    "duration": 7,
    "start_time": "2023-02-05T10:06:49.172Z"
   },
   {
    "duration": 10,
    "start_time": "2023-02-05T10:06:49.182Z"
   },
   {
    "duration": 43,
    "start_time": "2023-02-05T10:06:49.194Z"
   },
   {
    "duration": 104,
    "start_time": "2023-02-05T10:06:49.238Z"
   },
   {
    "duration": 5,
    "start_time": "2023-02-05T10:06:49.343Z"
   },
   {
    "duration": 10,
    "start_time": "2023-02-05T10:06:49.350Z"
   },
   {
    "duration": 118,
    "start_time": "2023-02-05T10:06:49.362Z"
   },
   {
    "duration": 4,
    "start_time": "2023-02-05T10:09:32.026Z"
   },
   {
    "duration": 12732,
    "start_time": "2023-02-05T10:10:24.038Z"
   },
   {
    "duration": 5,
    "start_time": "2023-02-05T10:10:44.974Z"
   },
   {
    "duration": 12728,
    "start_time": "2023-02-05T10:10:55.448Z"
   },
   {
    "duration": 12849,
    "start_time": "2023-02-05T10:11:56.199Z"
   },
   {
    "duration": 12792,
    "start_time": "2023-02-05T10:12:42.611Z"
   },
   {
    "duration": 5,
    "start_time": "2023-02-05T10:15:24.951Z"
   },
   {
    "duration": 12842,
    "start_time": "2023-02-05T10:15:36.924Z"
   },
   {
    "duration": 5,
    "start_time": "2023-02-05T10:19:26.529Z"
   },
   {
    "duration": 12886,
    "start_time": "2023-02-05T10:19:30.520Z"
   },
   {
    "duration": 147,
    "start_time": "2023-02-05T10:30:00.422Z"
   },
   {
    "duration": 4,
    "start_time": "2023-02-05T10:30:33.442Z"
   },
   {
    "duration": 17311,
    "start_time": "2023-02-05T10:30:44.184Z"
   },
   {
    "duration": 5,
    "start_time": "2023-02-05T10:31:47.575Z"
   },
   {
    "duration": 12852,
    "start_time": "2023-02-05T10:31:51.595Z"
   },
   {
    "duration": 82,
    "start_time": "2023-02-06T07:31:40.782Z"
   },
   {
    "duration": 1581,
    "start_time": "2023-02-06T07:31:45.471Z"
   },
   {
    "duration": 840,
    "start_time": "2023-02-06T07:31:47.054Z"
   },
   {
    "duration": 1298,
    "start_time": "2023-02-06T07:31:47.896Z"
   },
   {
    "duration": 181,
    "start_time": "2023-02-06T07:31:49.199Z"
   },
   {
    "duration": 24,
    "start_time": "2023-02-06T07:31:49.382Z"
   },
   {
    "duration": 34,
    "start_time": "2023-02-06T07:31:49.407Z"
   },
   {
    "duration": 18,
    "start_time": "2023-02-06T07:31:49.443Z"
   },
   {
    "duration": 4,
    "start_time": "2023-02-06T07:31:49.464Z"
   },
   {
    "duration": 13,
    "start_time": "2023-02-06T07:31:49.469Z"
   },
   {
    "duration": 20,
    "start_time": "2023-02-06T07:31:49.485Z"
   },
   {
    "duration": 61,
    "start_time": "2023-02-06T07:31:49.509Z"
   },
   {
    "duration": 400,
    "start_time": "2023-02-06T07:31:49.572Z"
   },
   {
    "duration": 5,
    "start_time": "2023-02-06T07:31:49.974Z"
   },
   {
    "duration": 10,
    "start_time": "2023-02-06T07:31:49.980Z"
   },
   {
    "duration": 10,
    "start_time": "2023-02-06T07:31:49.993Z"
   },
   {
    "duration": 54,
    "start_time": "2023-02-06T07:31:50.005Z"
   },
   {
    "duration": 477,
    "start_time": "2023-02-06T07:31:50.062Z"
   },
   {
    "duration": 500,
    "start_time": "2023-02-06T07:31:50.544Z"
   },
   {
    "duration": 376,
    "start_time": "2023-02-06T07:31:51.046Z"
   },
   {
    "duration": 283,
    "start_time": "2023-02-06T07:31:51.424Z"
   },
   {
    "duration": 246,
    "start_time": "2023-02-06T07:31:51.709Z"
   },
   {
    "duration": 203,
    "start_time": "2023-02-06T07:31:51.957Z"
   },
   {
    "duration": 173,
    "start_time": "2023-02-06T07:31:52.162Z"
   },
   {
    "duration": 177,
    "start_time": "2023-02-06T07:31:52.337Z"
   },
   {
    "duration": 171,
    "start_time": "2023-02-06T07:31:52.515Z"
   },
   {
    "duration": 309,
    "start_time": "2023-02-06T07:31:52.688Z"
   },
   {
    "duration": 9,
    "start_time": "2023-02-06T07:31:52.999Z"
   },
   {
    "duration": 16,
    "start_time": "2023-02-06T07:31:53.011Z"
   },
   {
    "duration": 63,
    "start_time": "2023-02-06T07:31:53.029Z"
   },
   {
    "duration": 155,
    "start_time": "2023-02-06T07:31:53.094Z"
   },
   {
    "duration": 7,
    "start_time": "2023-02-06T07:31:53.255Z"
   },
   {
    "duration": 9,
    "start_time": "2023-02-06T07:31:53.265Z"
   },
   {
    "duration": 14139,
    "start_time": "2023-02-06T07:31:53.277Z"
   },
   {
    "duration": 2455,
    "start_time": "2023-02-06T07:32:07.418Z"
   },
   {
    "duration": 1564,
    "start_time": "2023-02-06T07:36:41.447Z"
   },
   {
    "duration": 401,
    "start_time": "2023-02-06T07:36:43.015Z"
   },
   {
    "duration": 335,
    "start_time": "2023-02-06T07:36:43.419Z"
   },
   {
    "duration": 140,
    "start_time": "2023-02-06T07:36:43.757Z"
   },
   {
    "duration": 15,
    "start_time": "2023-02-06T07:36:43.899Z"
   },
   {
    "duration": 45,
    "start_time": "2023-02-06T07:36:43.916Z"
   },
   {
    "duration": 22,
    "start_time": "2023-02-06T07:36:43.963Z"
   },
   {
    "duration": 4,
    "start_time": "2023-02-06T07:36:43.987Z"
   },
   {
    "duration": 11,
    "start_time": "2023-02-06T07:36:43.993Z"
   },
   {
    "duration": 12,
    "start_time": "2023-02-06T07:36:44.008Z"
   },
   {
    "duration": 5,
    "start_time": "2023-02-06T07:36:44.022Z"
   },
   {
    "duration": 555,
    "start_time": "2023-02-06T07:36:44.029Z"
   },
   {
    "duration": 6,
    "start_time": "2023-02-06T07:36:44.586Z"
   },
   {
    "duration": 7,
    "start_time": "2023-02-06T07:36:44.594Z"
   },
   {
    "duration": 33,
    "start_time": "2023-02-06T07:36:44.603Z"
   },
   {
    "duration": 25,
    "start_time": "2023-02-06T07:36:44.638Z"
   },
   {
    "duration": 468,
    "start_time": "2023-02-06T07:36:44.665Z"
   },
   {
    "duration": 471,
    "start_time": "2023-02-06T07:36:45.136Z"
   },
   {
    "duration": 380,
    "start_time": "2023-02-06T07:36:45.609Z"
   },
   {
    "duration": 389,
    "start_time": "2023-02-06T07:36:45.992Z"
   },
   {
    "duration": 265,
    "start_time": "2023-02-06T07:36:46.384Z"
   },
   {
    "duration": 186,
    "start_time": "2023-02-06T07:36:46.655Z"
   },
   {
    "duration": 196,
    "start_time": "2023-02-06T07:36:46.843Z"
   },
   {
    "duration": 215,
    "start_time": "2023-02-06T07:36:47.040Z"
   },
   {
    "duration": 211,
    "start_time": "2023-02-06T07:36:47.257Z"
   },
   {
    "duration": 389,
    "start_time": "2023-02-06T07:36:47.471Z"
   },
   {
    "duration": 10,
    "start_time": "2023-02-06T07:36:47.863Z"
   },
   {
    "duration": 23,
    "start_time": "2023-02-06T07:36:47.878Z"
   },
   {
    "duration": 39,
    "start_time": "2023-02-06T07:36:47.903Z"
   },
   {
    "duration": 130,
    "start_time": "2023-02-06T07:36:47.944Z"
   },
   {
    "duration": 6,
    "start_time": "2023-02-06T07:36:48.076Z"
   },
   {
    "duration": 15,
    "start_time": "2023-02-06T07:36:48.084Z"
   },
   {
    "duration": 15695,
    "start_time": "2023-02-06T07:36:48.101Z"
   },
   {
    "duration": 1564,
    "start_time": "2023-02-06T07:37:03.798Z"
   },
   {
    "duration": 4,
    "start_time": "2023-02-06T07:37:05.369Z"
   },
   {
    "duration": 442,
    "start_time": "2023-02-06T07:37:05.376Z"
   },
   {
    "duration": 38,
    "start_time": "2023-02-06T07:37:05.820Z"
   },
   {
    "duration": 254,
    "start_time": "2023-02-06T07:37:51.962Z"
   },
   {
    "duration": 278,
    "start_time": "2023-02-06T07:37:56.449Z"
   },
   {
    "duration": 119,
    "start_time": "2023-02-06T08:48:00.393Z"
   },
   {
    "duration": 199,
    "start_time": "2023-02-06T08:48:24.586Z"
   },
   {
    "duration": 9,
    "start_time": "2023-02-06T08:50:36.659Z"
   },
   {
    "duration": 6,
    "start_time": "2023-02-06T08:53:38.294Z"
   },
   {
    "duration": 12,
    "start_time": "2023-02-06T08:54:06.258Z"
   },
   {
    "duration": 393,
    "start_time": "2023-02-06T08:54:23.078Z"
   },
   {
    "duration": 694,
    "start_time": "2023-02-06T08:54:40.135Z"
   },
   {
    "duration": 171,
    "start_time": "2023-02-06T09:50:57.274Z"
   },
   {
    "duration": 178,
    "start_time": "2023-02-06T09:51:14.125Z"
   },
   {
    "duration": 174,
    "start_time": "2023-02-06T09:51:44.796Z"
   },
   {
    "duration": 530,
    "start_time": "2023-02-06T10:02:57.937Z"
   },
   {
    "duration": 881,
    "start_time": "2023-02-06T10:03:35.187Z"
   },
   {
    "duration": 1343,
    "start_time": "2023-02-06T10:08:58.155Z"
   },
   {
    "duration": 371,
    "start_time": "2023-02-06T10:08:59.501Z"
   },
   {
    "duration": 242,
    "start_time": "2023-02-06T10:08:59.873Z"
   },
   {
    "duration": 75,
    "start_time": "2023-02-06T10:09:00.117Z"
   },
   {
    "duration": 14,
    "start_time": "2023-02-06T10:09:00.194Z"
   },
   {
    "duration": 24,
    "start_time": "2023-02-06T10:09:00.209Z"
   },
   {
    "duration": 24,
    "start_time": "2023-02-06T10:09:00.234Z"
   },
   {
    "duration": 11,
    "start_time": "2023-02-06T10:09:00.259Z"
   },
   {
    "duration": 19,
    "start_time": "2023-02-06T10:09:00.271Z"
   },
   {
    "duration": 42,
    "start_time": "2023-02-06T10:09:00.292Z"
   },
   {
    "duration": 28,
    "start_time": "2023-02-06T10:09:00.335Z"
   },
   {
    "duration": 305,
    "start_time": "2023-02-06T10:09:00.365Z"
   },
   {
    "duration": 3,
    "start_time": "2023-02-06T10:09:00.672Z"
   },
   {
    "duration": 35,
    "start_time": "2023-02-06T10:09:00.676Z"
   },
   {
    "duration": 175,
    "start_time": "2023-02-06T10:09:00.712Z"
   },
   {
    "duration": 83,
    "start_time": "2023-02-06T10:09:00.889Z"
   },
   {
    "duration": 349,
    "start_time": "2023-02-06T10:09:00.974Z"
   },
   {
    "duration": 386,
    "start_time": "2023-02-06T10:09:01.325Z"
   },
   {
    "duration": 318,
    "start_time": "2023-02-06T10:09:01.713Z"
   },
   {
    "duration": 258,
    "start_time": "2023-02-06T10:09:02.034Z"
   },
   {
    "duration": 299,
    "start_time": "2023-02-06T10:09:02.294Z"
   },
   {
    "duration": 164,
    "start_time": "2023-02-06T10:09:02.595Z"
   },
   {
    "duration": 155,
    "start_time": "2023-02-06T10:09:02.761Z"
   },
   {
    "duration": 182,
    "start_time": "2023-02-06T10:09:02.917Z"
   },
   {
    "duration": 278,
    "start_time": "2023-02-06T10:09:03.100Z"
   },
   {
    "duration": 194,
    "start_time": "2023-02-06T10:09:03.380Z"
   },
   {
    "duration": 7,
    "start_time": "2023-02-06T10:09:03.576Z"
   },
   {
    "duration": 55,
    "start_time": "2023-02-06T10:09:03.587Z"
   },
   {
    "duration": 116,
    "start_time": "2023-02-06T10:09:03.644Z"
   },
   {
    "duration": 187,
    "start_time": "2023-02-06T10:09:03.762Z"
   },
   {
    "duration": 2,
    "start_time": "2023-02-06T10:09:03.953Z"
   },
   {
    "duration": 111,
    "start_time": "2023-02-06T10:09:03.957Z"
   },
   {
    "duration": 150,
    "start_time": "2023-02-06T10:09:04.070Z"
   },
   {
    "duration": 78,
    "start_time": "2023-02-06T10:09:04.222Z"
   },
   {
    "duration": 13651,
    "start_time": "2023-02-06T10:09:04.302Z"
   },
   {
    "duration": 1299,
    "start_time": "2023-02-06T10:09:17.955Z"
   },
   {
    "duration": 96,
    "start_time": "2023-02-06T10:09:19.257Z"
   },
   {
    "duration": 201,
    "start_time": "2023-02-06T10:09:19.355Z"
   },
   {
    "duration": 9,
    "start_time": "2023-02-06T10:09:19.558Z"
   },
   {
    "duration": 1414,
    "start_time": "2023-02-06T10:11:54.694Z"
   },
   {
    "duration": 363,
    "start_time": "2023-02-06T10:11:56.110Z"
   },
   {
    "duration": 263,
    "start_time": "2023-02-06T10:11:56.475Z"
   },
   {
    "duration": 80,
    "start_time": "2023-02-06T10:11:56.740Z"
   },
   {
    "duration": 15,
    "start_time": "2023-02-06T10:11:56.822Z"
   },
   {
    "duration": 26,
    "start_time": "2023-02-06T10:11:56.838Z"
   },
   {
    "duration": 11,
    "start_time": "2023-02-06T10:11:56.866Z"
   },
   {
    "duration": 5,
    "start_time": "2023-02-06T10:11:56.879Z"
   },
   {
    "duration": 25,
    "start_time": "2023-02-06T10:11:56.886Z"
   },
   {
    "duration": 10,
    "start_time": "2023-02-06T10:11:56.914Z"
   },
   {
    "duration": 5,
    "start_time": "2023-02-06T10:11:56.925Z"
   },
   {
    "duration": 290,
    "start_time": "2023-02-06T10:11:56.931Z"
   },
   {
    "duration": 4,
    "start_time": "2023-02-06T10:11:57.222Z"
   },
   {
    "duration": 10,
    "start_time": "2023-02-06T10:11:57.227Z"
   },
   {
    "duration": 21,
    "start_time": "2023-02-06T10:11:57.239Z"
   },
   {
    "duration": 16,
    "start_time": "2023-02-06T10:11:57.262Z"
   },
   {
    "duration": 414,
    "start_time": "2023-02-06T10:11:57.280Z"
   },
   {
    "duration": 373,
    "start_time": "2023-02-06T10:11:57.695Z"
   },
   {
    "duration": 303,
    "start_time": "2023-02-06T10:11:58.069Z"
   },
   {
    "duration": 246,
    "start_time": "2023-02-06T10:11:58.374Z"
   },
   {
    "duration": 264,
    "start_time": "2023-02-06T10:11:58.622Z"
   },
   {
    "duration": 165,
    "start_time": "2023-02-06T10:11:58.888Z"
   },
   {
    "duration": 145,
    "start_time": "2023-02-06T10:11:59.055Z"
   },
   {
    "duration": 168,
    "start_time": "2023-02-06T10:11:59.202Z"
   },
   {
    "duration": 283,
    "start_time": "2023-02-06T10:11:59.372Z"
   },
   {
    "duration": 209,
    "start_time": "2023-02-06T10:11:59.657Z"
   },
   {
    "duration": 8,
    "start_time": "2023-02-06T10:11:59.868Z"
   },
   {
    "duration": 8,
    "start_time": "2023-02-06T10:11:59.880Z"
   },
   {
    "duration": 29,
    "start_time": "2023-02-06T10:11:59.889Z"
   },
   {
    "duration": 126,
    "start_time": "2023-02-06T10:11:59.920Z"
   },
   {
    "duration": 2,
    "start_time": "2023-02-06T10:12:00.053Z"
   },
   {
    "duration": 17,
    "start_time": "2023-02-06T10:12:00.057Z"
   },
   {
    "duration": 9,
    "start_time": "2023-02-06T10:12:00.075Z"
   },
   {
    "duration": 12,
    "start_time": "2023-02-06T10:12:00.086Z"
   },
   {
    "duration": 13235,
    "start_time": "2023-02-06T10:12:00.100Z"
   },
   {
    "duration": 1318,
    "start_time": "2023-02-06T10:12:13.337Z"
   },
   {
    "duration": 3,
    "start_time": "2023-02-06T10:12:14.657Z"
   },
   {
    "duration": 266,
    "start_time": "2023-02-06T10:12:14.662Z"
   },
   {
    "duration": 8,
    "start_time": "2023-02-06T10:12:14.930Z"
   },
   {
    "duration": 1323,
    "start_time": "2023-02-06T10:15:40.236Z"
   },
   {
    "duration": 272,
    "start_time": "2023-02-06T10:18:23.602Z"
   },
   {
    "duration": 13081,
    "start_time": "2023-02-06T10:18:31.853Z"
   },
   {
    "duration": 173,
    "start_time": "2023-02-06T10:18:52.256Z"
   },
   {
    "duration": 181,
    "start_time": "2023-02-06T10:19:11.645Z"
   },
   {
    "duration": 475,
    "start_time": "2023-02-06T10:19:34.706Z"
   },
   {
    "duration": 9,
    "start_time": "2023-02-06T10:20:03.892Z"
   },
   {
    "duration": 14,
    "start_time": "2023-02-06T10:21:10.946Z"
   },
   {
    "duration": 6,
    "start_time": "2023-02-06T10:21:15.431Z"
   },
   {
    "duration": 2137,
    "start_time": "2023-02-06T10:22:27.801Z"
   },
   {
    "duration": 1390,
    "start_time": "2023-02-06T10:25:33.865Z"
   },
   {
    "duration": 361,
    "start_time": "2023-02-06T10:25:35.257Z"
   },
   {
    "duration": 253,
    "start_time": "2023-02-06T10:25:35.620Z"
   },
   {
    "duration": 74,
    "start_time": "2023-02-06T10:25:35.875Z"
   },
   {
    "duration": 12,
    "start_time": "2023-02-06T10:25:35.950Z"
   },
   {
    "duration": 20,
    "start_time": "2023-02-06T10:25:35.964Z"
   },
   {
    "duration": 11,
    "start_time": "2023-02-06T10:25:35.986Z"
   },
   {
    "duration": 3,
    "start_time": "2023-02-06T10:25:35.999Z"
   },
   {
    "duration": 6,
    "start_time": "2023-02-06T10:25:36.003Z"
   },
   {
    "duration": 11,
    "start_time": "2023-02-06T10:25:36.011Z"
   },
   {
    "duration": 30,
    "start_time": "2023-02-06T10:25:36.024Z"
   },
   {
    "duration": 282,
    "start_time": "2023-02-06T10:25:36.056Z"
   },
   {
    "duration": 4,
    "start_time": "2023-02-06T10:25:36.340Z"
   },
   {
    "duration": 8,
    "start_time": "2023-02-06T10:25:36.354Z"
   },
   {
    "duration": 29,
    "start_time": "2023-02-06T10:25:36.365Z"
   },
   {
    "duration": 15,
    "start_time": "2023-02-06T10:25:36.396Z"
   },
   {
    "duration": 314,
    "start_time": "2023-02-06T10:25:36.413Z"
   },
   {
    "duration": 364,
    "start_time": "2023-02-06T10:25:36.729Z"
   },
   {
    "duration": 304,
    "start_time": "2023-02-06T10:25:37.095Z"
   },
   {
    "duration": 266,
    "start_time": "2023-02-06T10:25:37.401Z"
   },
   {
    "duration": 342,
    "start_time": "2023-02-06T10:25:37.669Z"
   },
   {
    "duration": 167,
    "start_time": "2023-02-06T10:25:38.012Z"
   },
   {
    "duration": 144,
    "start_time": "2023-02-06T10:25:38.181Z"
   },
   {
    "duration": 169,
    "start_time": "2023-02-06T10:25:38.327Z"
   },
   {
    "duration": 266,
    "start_time": "2023-02-06T10:25:38.498Z"
   },
   {
    "duration": 190,
    "start_time": "2023-02-06T10:25:38.766Z"
   },
   {
    "duration": 9,
    "start_time": "2023-02-06T10:25:38.957Z"
   },
   {
    "duration": 6,
    "start_time": "2023-02-06T10:25:38.969Z"
   },
   {
    "duration": 26,
    "start_time": "2023-02-06T10:25:38.976Z"
   },
   {
    "duration": 116,
    "start_time": "2023-02-06T10:25:39.004Z"
   },
   {
    "duration": 3,
    "start_time": "2023-02-06T10:25:39.122Z"
   },
   {
    "duration": 5,
    "start_time": "2023-02-06T10:25:39.126Z"
   },
   {
    "duration": 20,
    "start_time": "2023-02-06T10:25:39.133Z"
   },
   {
    "duration": 7,
    "start_time": "2023-02-06T10:25:39.155Z"
   },
   {
    "duration": 13297,
    "start_time": "2023-02-06T10:25:39.164Z"
   },
   {
    "duration": 1298,
    "start_time": "2023-02-06T10:25:52.462Z"
   },
   {
    "duration": 93,
    "start_time": "2023-02-06T10:25:53.762Z"
   },
   {
    "duration": 519,
    "start_time": "2023-02-06T10:25:53.857Z"
   },
   {
    "duration": 9,
    "start_time": "2023-02-06T10:25:54.378Z"
   },
   {
    "duration": 306,
    "start_time": "2023-02-06T10:30:06.178Z"
   },
   {
    "duration": 316,
    "start_time": "2023-02-06T10:31:56.286Z"
   },
   {
    "duration": 214,
    "start_time": "2023-02-06T10:32:14.910Z"
   },
   {
    "duration": 177,
    "start_time": "2023-02-06T10:33:40.985Z"
   },
   {
    "duration": 199,
    "start_time": "2023-02-06T10:33:51.891Z"
   },
   {
    "duration": 217,
    "start_time": "2023-02-06T10:34:06.389Z"
   },
   {
    "duration": 193,
    "start_time": "2023-02-06T10:34:26.890Z"
   },
   {
    "duration": 340,
    "start_time": "2023-02-06T10:35:11.365Z"
   },
   {
    "duration": 201,
    "start_time": "2023-02-06T10:35:32.091Z"
   },
   {
    "duration": 219,
    "start_time": "2023-02-06T10:35:41.070Z"
   },
   {
    "duration": 214,
    "start_time": "2023-02-06T10:35:48.846Z"
   },
   {
    "duration": 230,
    "start_time": "2023-02-06T10:35:53.470Z"
   },
   {
    "duration": 51,
    "start_time": "2023-02-06T10:39:43.954Z"
   },
   {
    "duration": 57,
    "start_time": "2023-02-06T10:40:00.376Z"
   },
   {
    "duration": 5,
    "start_time": "2023-02-06T10:40:23.270Z"
   },
   {
    "duration": 953,
    "start_time": "2023-02-06T10:40:58.694Z"
   },
   {
    "duration": 2042,
    "start_time": "2023-02-06T10:41:10.170Z"
   },
   {
    "duration": 5,
    "start_time": "2023-02-06T10:41:31.975Z"
   },
   {
    "duration": 2026,
    "start_time": "2023-02-06T10:41:43.652Z"
   },
   {
    "duration": 1729,
    "start_time": "2023-02-06T10:42:07.069Z"
   },
   {
    "duration": 3762,
    "start_time": "2023-02-06T10:42:26.986Z"
   },
   {
    "duration": 32,
    "start_time": "2023-02-06T10:42:31.954Z"
   },
   {
    "duration": 35,
    "start_time": "2023-02-06T10:42:35.363Z"
   },
   {
    "duration": 4,
    "start_time": "2023-02-06T10:42:38.646Z"
   },
   {
    "duration": 7,
    "start_time": "2023-02-06T10:42:40.836Z"
   },
   {
    "duration": 334,
    "start_time": "2023-02-06T10:42:43.462Z"
   },
   {
    "duration": 1609,
    "start_time": "2023-02-06T10:42:55.405Z"
   },
   {
    "duration": 384,
    "start_time": "2023-02-06T10:42:57.016Z"
   },
   {
    "duration": 267,
    "start_time": "2023-02-06T10:42:57.402Z"
   },
   {
    "duration": 76,
    "start_time": "2023-02-06T10:42:57.672Z"
   },
   {
    "duration": 15,
    "start_time": "2023-02-06T10:42:57.750Z"
   },
   {
    "duration": 26,
    "start_time": "2023-02-06T10:42:57.767Z"
   },
   {
    "duration": 14,
    "start_time": "2023-02-06T10:42:57.795Z"
   },
   {
    "duration": 4,
    "start_time": "2023-02-06T10:42:57.810Z"
   },
   {
    "duration": 37,
    "start_time": "2023-02-06T10:42:57.816Z"
   },
   {
    "duration": 9,
    "start_time": "2023-02-06T10:42:57.857Z"
   },
   {
    "duration": 17,
    "start_time": "2023-02-06T10:42:57.868Z"
   },
   {
    "duration": 334,
    "start_time": "2023-02-06T10:42:57.887Z"
   },
   {
    "duration": 7,
    "start_time": "2023-02-06T10:42:58.223Z"
   },
   {
    "duration": 75,
    "start_time": "2023-02-06T10:42:58.232Z"
   },
   {
    "duration": 31,
    "start_time": "2023-02-06T10:42:58.309Z"
   },
   {
    "duration": 26,
    "start_time": "2023-02-06T10:42:58.344Z"
   },
   {
    "duration": 382,
    "start_time": "2023-02-06T10:42:58.374Z"
   },
   {
    "duration": 427,
    "start_time": "2023-02-06T10:42:58.758Z"
   },
   {
    "duration": 332,
    "start_time": "2023-02-06T10:42:59.188Z"
   },
   {
    "duration": 275,
    "start_time": "2023-02-06T10:42:59.522Z"
   },
   {
    "duration": 292,
    "start_time": "2023-02-06T10:42:59.800Z"
   },
   {
    "duration": 180,
    "start_time": "2023-02-06T10:43:00.094Z"
   },
   {
    "duration": 182,
    "start_time": "2023-02-06T10:43:00.275Z"
   },
   {
    "duration": 206,
    "start_time": "2023-02-06T10:43:00.459Z"
   },
   {
    "duration": 304,
    "start_time": "2023-02-06T10:43:00.667Z"
   },
   {
    "duration": 214,
    "start_time": "2023-02-06T10:43:00.974Z"
   },
   {
    "duration": 9,
    "start_time": "2023-02-06T10:43:01.190Z"
   },
   {
    "duration": 253,
    "start_time": "2023-02-06T10:43:01.203Z"
   },
   {
    "duration": 3340,
    "start_time": "2023-02-06T10:43:01.458Z"
   },
   {
    "duration": 6,
    "start_time": "2023-02-06T10:43:04.799Z"
   },
   {
    "duration": 48,
    "start_time": "2023-02-06T10:43:04.807Z"
   },
   {
    "duration": 38,
    "start_time": "2023-02-06T10:43:04.857Z"
   },
   {
    "duration": 3,
    "start_time": "2023-02-06T10:43:04.897Z"
   },
   {
    "duration": 8,
    "start_time": "2023-02-06T10:43:04.902Z"
   },
   {
    "duration": 6,
    "start_time": "2023-02-06T10:43:04.912Z"
   },
   {
    "duration": 8,
    "start_time": "2023-02-06T10:43:04.920Z"
   },
   {
    "duration": 341,
    "start_time": "2023-02-06T10:43:04.930Z"
   },
   {
    "duration": 46,
    "start_time": "2023-02-06T10:43:05.273Z"
   },
   {
    "duration": 3,
    "start_time": "2023-02-06T10:43:05.321Z"
   },
   {
    "duration": 201,
    "start_time": "2023-02-06T10:43:05.325Z"
   },
   {
    "duration": 0,
    "start_time": "2023-02-06T10:43:05.529Z"
   },
   {
    "duration": 5,
    "start_time": "2023-02-06T10:44:07.144Z"
   },
   {
    "duration": 1539,
    "start_time": "2023-02-06T10:44:29.336Z"
   },
   {
    "duration": 430,
    "start_time": "2023-02-06T10:44:30.877Z"
   },
   {
    "duration": 317,
    "start_time": "2023-02-06T10:44:31.309Z"
   },
   {
    "duration": 156,
    "start_time": "2023-02-06T10:44:31.628Z"
   },
   {
    "duration": 14,
    "start_time": "2023-02-06T10:44:31.786Z"
   },
   {
    "duration": 55,
    "start_time": "2023-02-06T10:44:31.801Z"
   },
   {
    "duration": 20,
    "start_time": "2023-02-06T10:44:31.858Z"
   },
   {
    "duration": 23,
    "start_time": "2023-02-06T10:44:31.880Z"
   },
   {
    "duration": 5,
    "start_time": "2023-02-06T10:44:31.905Z"
   },
   {
    "duration": 48,
    "start_time": "2023-02-06T10:44:31.912Z"
   },
   {
    "duration": 37,
    "start_time": "2023-02-06T10:44:31.961Z"
   },
   {
    "duration": 346,
    "start_time": "2023-02-06T10:44:32.000Z"
   },
   {
    "duration": 5,
    "start_time": "2023-02-06T10:44:32.353Z"
   },
   {
    "duration": 27,
    "start_time": "2023-02-06T10:44:32.364Z"
   },
   {
    "duration": 20,
    "start_time": "2023-02-06T10:44:32.393Z"
   },
   {
    "duration": 15,
    "start_time": "2023-02-06T10:44:32.415Z"
   },
   {
    "duration": 344,
    "start_time": "2023-02-06T10:44:32.432Z"
   },
   {
    "duration": 406,
    "start_time": "2023-02-06T10:44:32.778Z"
   },
   {
    "duration": 366,
    "start_time": "2023-02-06T10:44:33.186Z"
   },
   {
    "duration": 270,
    "start_time": "2023-02-06T10:44:33.554Z"
   },
   {
    "duration": 309,
    "start_time": "2023-02-06T10:44:33.826Z"
   },
   {
    "duration": 180,
    "start_time": "2023-02-06T10:44:34.137Z"
   },
   {
    "duration": 168,
    "start_time": "2023-02-06T10:44:34.319Z"
   },
   {
    "duration": 192,
    "start_time": "2023-02-06T10:44:34.488Z"
   },
   {
    "duration": 296,
    "start_time": "2023-02-06T10:44:34.682Z"
   },
   {
    "duration": 223,
    "start_time": "2023-02-06T10:44:34.980Z"
   },
   {
    "duration": 9,
    "start_time": "2023-02-06T10:44:35.204Z"
   },
   {
    "duration": 263,
    "start_time": "2023-02-06T10:44:35.214Z"
   },
   {
    "duration": 3755,
    "start_time": "2023-02-06T10:44:35.479Z"
   },
   {
    "duration": 4,
    "start_time": "2023-02-06T10:44:39.235Z"
   },
   {
    "duration": 20,
    "start_time": "2023-02-06T10:44:39.240Z"
   },
   {
    "duration": 41,
    "start_time": "2023-02-06T10:44:39.262Z"
   },
   {
    "duration": 31,
    "start_time": "2023-02-06T10:44:39.305Z"
   },
   {
    "duration": 2,
    "start_time": "2023-02-06T10:44:39.353Z"
   },
   {
    "duration": 22,
    "start_time": "2023-02-06T10:44:39.357Z"
   },
   {
    "duration": 4,
    "start_time": "2023-02-06T10:44:39.381Z"
   },
   {
    "duration": 8,
    "start_time": "2023-02-06T10:44:39.386Z"
   },
   {
    "duration": 334,
    "start_time": "2023-02-06T10:44:39.396Z"
   },
   {
    "duration": 51,
    "start_time": "2023-02-06T10:44:39.732Z"
   },
   {
    "duration": 7,
    "start_time": "2023-02-06T10:44:39.786Z"
   },
   {
    "duration": 155,
    "start_time": "2023-02-06T10:44:39.799Z"
   },
   {
    "duration": 0,
    "start_time": "2023-02-06T10:44:39.958Z"
   },
   {
    "duration": 1570,
    "start_time": "2023-02-06T10:46:14.243Z"
   },
   {
    "duration": 370,
    "start_time": "2023-02-06T10:46:15.816Z"
   },
   {
    "duration": 266,
    "start_time": "2023-02-06T10:46:16.188Z"
   },
   {
    "duration": 75,
    "start_time": "2023-02-06T10:46:16.455Z"
   },
   {
    "duration": 13,
    "start_time": "2023-02-06T10:46:16.532Z"
   },
   {
    "duration": 17,
    "start_time": "2023-02-06T10:46:16.553Z"
   },
   {
    "duration": 11,
    "start_time": "2023-02-06T10:46:16.572Z"
   },
   {
    "duration": 12,
    "start_time": "2023-02-06T10:46:16.585Z"
   },
   {
    "duration": 13,
    "start_time": "2023-02-06T10:46:16.600Z"
   },
   {
    "duration": 12,
    "start_time": "2023-02-06T10:46:16.615Z"
   },
   {
    "duration": 7,
    "start_time": "2023-02-06T10:46:16.629Z"
   },
   {
    "duration": 308,
    "start_time": "2023-02-06T10:46:16.637Z"
   },
   {
    "duration": 7,
    "start_time": "2023-02-06T10:46:16.947Z"
   },
   {
    "duration": 10,
    "start_time": "2023-02-06T10:46:16.956Z"
   },
   {
    "duration": 12,
    "start_time": "2023-02-06T10:46:16.968Z"
   },
   {
    "duration": 17,
    "start_time": "2023-02-06T10:46:16.982Z"
   },
   {
    "duration": 359,
    "start_time": "2023-02-06T10:46:17.001Z"
   },
   {
    "duration": 487,
    "start_time": "2023-02-06T10:46:17.362Z"
   },
   {
    "duration": 364,
    "start_time": "2023-02-06T10:46:17.854Z"
   },
   {
    "duration": 261,
    "start_time": "2023-02-06T10:46:18.220Z"
   },
   {
    "duration": 268,
    "start_time": "2023-02-06T10:46:18.482Z"
   },
   {
    "duration": 166,
    "start_time": "2023-02-06T10:46:18.753Z"
   },
   {
    "duration": 154,
    "start_time": "2023-02-06T10:46:18.921Z"
   },
   {
    "duration": 185,
    "start_time": "2023-02-06T10:46:19.077Z"
   },
   {
    "duration": 294,
    "start_time": "2023-02-06T10:46:19.264Z"
   },
   {
    "duration": 201,
    "start_time": "2023-02-06T10:46:19.559Z"
   },
   {
    "duration": 10,
    "start_time": "2023-02-06T10:46:19.765Z"
   },
   {
    "duration": 231,
    "start_time": "2023-02-06T10:46:19.777Z"
   },
   {
    "duration": 2,
    "start_time": "2023-02-06T10:46:20.010Z"
   },
   {
    "duration": 15,
    "start_time": "2023-02-06T10:46:20.014Z"
   },
   {
    "duration": 18,
    "start_time": "2023-02-06T10:46:20.030Z"
   },
   {
    "duration": 29,
    "start_time": "2023-02-06T10:46:20.050Z"
   },
   {
    "duration": 105,
    "start_time": "2023-02-06T10:46:20.080Z"
   },
   {
    "duration": 3,
    "start_time": "2023-02-06T10:46:20.186Z"
   },
   {
    "duration": 13,
    "start_time": "2023-02-06T10:46:20.190Z"
   },
   {
    "duration": 34,
    "start_time": "2023-02-06T10:46:20.205Z"
   },
   {
    "duration": 21,
    "start_time": "2023-02-06T10:46:20.240Z"
   },
   {
    "duration": 13666,
    "start_time": "2023-02-06T10:46:20.263Z"
   },
   {
    "duration": 1729,
    "start_time": "2023-02-06T10:46:33.930Z"
   },
   {
    "duration": 3,
    "start_time": "2023-02-06T10:46:35.662Z"
   },
   {
    "duration": 505,
    "start_time": "2023-02-06T10:46:35.667Z"
   },
   {
    "duration": 9,
    "start_time": "2023-02-06T10:46:36.174Z"
   },
   {
    "duration": 6,
    "start_time": "2023-02-06T10:47:56.291Z"
   },
   {
    "duration": 3710,
    "start_time": "2023-02-06T10:48:54.268Z"
   },
   {
    "duration": 3,
    "start_time": "2023-02-06T10:48:57.980Z"
   },
   {
    "duration": 1493,
    "start_time": "2023-02-06T10:49:22.542Z"
   },
   {
    "duration": 393,
    "start_time": "2023-02-06T10:49:24.037Z"
   },
   {
    "duration": 284,
    "start_time": "2023-02-06T10:49:24.432Z"
   },
   {
    "duration": 89,
    "start_time": "2023-02-06T10:49:24.718Z"
   },
   {
    "duration": 15,
    "start_time": "2023-02-06T10:49:24.810Z"
   },
   {
    "duration": 28,
    "start_time": "2023-02-06T10:49:24.827Z"
   },
   {
    "duration": 16,
    "start_time": "2023-02-06T10:49:24.857Z"
   },
   {
    "duration": 3,
    "start_time": "2023-02-06T10:49:24.875Z"
   },
   {
    "duration": 10,
    "start_time": "2023-02-06T10:49:24.880Z"
   },
   {
    "duration": 10,
    "start_time": "2023-02-06T10:49:24.892Z"
   },
   {
    "duration": 6,
    "start_time": "2023-02-06T10:49:24.904Z"
   },
   {
    "duration": 359,
    "start_time": "2023-02-06T10:49:24.911Z"
   },
   {
    "duration": 5,
    "start_time": "2023-02-06T10:49:25.272Z"
   },
   {
    "duration": 13,
    "start_time": "2023-02-06T10:49:25.280Z"
   },
   {
    "duration": 12,
    "start_time": "2023-02-06T10:49:25.294Z"
   },
   {
    "duration": 17,
    "start_time": "2023-02-06T10:49:25.308Z"
   },
   {
    "duration": 377,
    "start_time": "2023-02-06T10:49:25.328Z"
   },
   {
    "duration": 416,
    "start_time": "2023-02-06T10:49:25.707Z"
   },
   {
    "duration": 360,
    "start_time": "2023-02-06T10:49:26.125Z"
   },
   {
    "duration": 261,
    "start_time": "2023-02-06T10:49:26.487Z"
   },
   {
    "duration": 284,
    "start_time": "2023-02-06T10:49:26.750Z"
   },
   {
    "duration": 177,
    "start_time": "2023-02-06T10:49:27.036Z"
   },
   {
    "duration": 167,
    "start_time": "2023-02-06T10:49:27.216Z"
   },
   {
    "duration": 203,
    "start_time": "2023-02-06T10:49:27.385Z"
   },
   {
    "duration": 391,
    "start_time": "2023-02-06T10:49:27.590Z"
   },
   {
    "duration": 236,
    "start_time": "2023-02-06T10:49:27.983Z"
   },
   {
    "duration": 9,
    "start_time": "2023-02-06T10:49:28.221Z"
   },
   {
    "duration": 246,
    "start_time": "2023-02-06T10:49:28.232Z"
   },
   {
    "duration": 3579,
    "start_time": "2023-02-06T10:49:28.479Z"
   },
   {
    "duration": 3,
    "start_time": "2023-02-06T10:49:32.060Z"
   },
   {
    "duration": 54,
    "start_time": "2023-02-06T10:49:32.066Z"
   },
   {
    "duration": 48,
    "start_time": "2023-02-06T10:49:32.122Z"
   },
   {
    "duration": 31,
    "start_time": "2023-02-06T10:49:32.172Z"
   },
   {
    "duration": 2,
    "start_time": "2023-02-06T10:49:32.205Z"
   },
   {
    "duration": 7,
    "start_time": "2023-02-06T10:49:32.209Z"
   },
   {
    "duration": 6,
    "start_time": "2023-02-06T10:49:32.217Z"
   },
   {
    "duration": 31,
    "start_time": "2023-02-06T10:49:32.224Z"
   },
   {
    "duration": 269,
    "start_time": "2023-02-06T10:49:32.257Z"
   },
   {
    "duration": 45,
    "start_time": "2023-02-06T10:49:32.528Z"
   },
   {
    "duration": 3,
    "start_time": "2023-02-06T10:49:32.575Z"
   },
   {
    "duration": 152,
    "start_time": "2023-02-06T10:49:32.582Z"
   },
   {
    "duration": 0,
    "start_time": "2023-02-06T10:49:32.736Z"
   },
   {
    "duration": 6,
    "start_time": "2023-02-06T10:51:14.676Z"
   },
   {
    "duration": 1438,
    "start_time": "2023-02-06T10:52:34.151Z"
   },
   {
    "duration": 378,
    "start_time": "2023-02-06T10:52:35.592Z"
   },
   {
    "duration": 296,
    "start_time": "2023-02-06T10:52:35.971Z"
   },
   {
    "duration": 82,
    "start_time": "2023-02-06T10:52:36.270Z"
   },
   {
    "duration": 20,
    "start_time": "2023-02-06T10:52:36.360Z"
   },
   {
    "duration": 32,
    "start_time": "2023-02-06T10:52:36.382Z"
   },
   {
    "duration": 11,
    "start_time": "2023-02-06T10:52:36.416Z"
   },
   {
    "duration": 3,
    "start_time": "2023-02-06T10:52:36.429Z"
   },
   {
    "duration": 20,
    "start_time": "2023-02-06T10:52:36.434Z"
   },
   {
    "duration": 16,
    "start_time": "2023-02-06T10:52:36.459Z"
   },
   {
    "duration": 10,
    "start_time": "2023-02-06T10:52:36.478Z"
   },
   {
    "duration": 323,
    "start_time": "2023-02-06T10:52:36.490Z"
   },
   {
    "duration": 4,
    "start_time": "2023-02-06T10:52:36.814Z"
   },
   {
    "duration": 26,
    "start_time": "2023-02-06T10:52:36.820Z"
   },
   {
    "duration": 21,
    "start_time": "2023-02-06T10:52:36.848Z"
   },
   {
    "duration": 19,
    "start_time": "2023-02-06T10:52:36.871Z"
   },
   {
    "duration": 341,
    "start_time": "2023-02-06T10:52:36.893Z"
   },
   {
    "duration": 522,
    "start_time": "2023-02-06T10:52:37.235Z"
   },
   {
    "duration": 366,
    "start_time": "2023-02-06T10:52:37.760Z"
   },
   {
    "duration": 271,
    "start_time": "2023-02-06T10:52:38.128Z"
   },
   {
    "duration": 271,
    "start_time": "2023-02-06T10:52:38.401Z"
   },
   {
    "duration": 178,
    "start_time": "2023-02-06T10:52:38.674Z"
   },
   {
    "duration": 156,
    "start_time": "2023-02-06T10:52:38.855Z"
   },
   {
    "duration": 174,
    "start_time": "2023-02-06T10:52:39.013Z"
   },
   {
    "duration": 282,
    "start_time": "2023-02-06T10:52:39.189Z"
   },
   {
    "duration": 220,
    "start_time": "2023-02-06T10:52:39.473Z"
   },
   {
    "duration": 13,
    "start_time": "2023-02-06T10:52:39.695Z"
   },
   {
    "duration": 250,
    "start_time": "2023-02-06T10:52:39.712Z"
   },
   {
    "duration": 4,
    "start_time": "2023-02-06T10:52:39.964Z"
   },
   {
    "duration": 11,
    "start_time": "2023-02-06T10:52:39.969Z"
   },
   {
    "duration": 25,
    "start_time": "2023-02-06T10:52:39.981Z"
   },
   {
    "duration": 144,
    "start_time": "2023-02-06T10:52:40.008Z"
   },
   {
    "duration": 4,
    "start_time": "2023-02-06T10:52:40.156Z"
   },
   {
    "duration": 19,
    "start_time": "2023-02-06T10:52:40.163Z"
   },
   {
    "duration": 4,
    "start_time": "2023-02-06T10:52:40.184Z"
   },
   {
    "duration": 10,
    "start_time": "2023-02-06T10:52:40.190Z"
   },
   {
    "duration": 14253,
    "start_time": "2023-02-06T10:52:40.202Z"
   },
   {
    "duration": 1599,
    "start_time": "2023-02-06T10:52:54.456Z"
   },
   {
    "duration": 4,
    "start_time": "2023-02-06T10:52:56.057Z"
   },
   {
    "duration": 467,
    "start_time": "2023-02-06T10:52:56.063Z"
   },
   {
    "duration": 9,
    "start_time": "2023-02-06T10:52:56.532Z"
   },
   {
    "duration": 805,
    "start_time": "2023-02-06T10:53:52.239Z"
   },
   {
    "duration": 14,
    "start_time": "2023-02-06T10:56:25.758Z"
   },
   {
    "duration": 14,
    "start_time": "2023-02-06T10:56:40.574Z"
   },
   {
    "duration": 18,
    "start_time": "2023-02-06T10:57:10.964Z"
   },
   {
    "duration": 237,
    "start_time": "2023-02-06T10:58:27.640Z"
   },
   {
    "duration": 166,
    "start_time": "2023-02-06T10:58:32.583Z"
   },
   {
    "duration": 170,
    "start_time": "2023-02-06T10:58:55.954Z"
   },
   {
    "duration": 171,
    "start_time": "2023-02-06T10:59:14.022Z"
   },
   {
    "duration": 176,
    "start_time": "2023-02-06T10:59:21.420Z"
   },
   {
    "duration": 182,
    "start_time": "2023-02-06T10:59:26.655Z"
   },
   {
    "duration": 17,
    "start_time": "2023-02-06T11:00:21.768Z"
   },
   {
    "duration": 4,
    "start_time": "2023-02-06T11:00:29.312Z"
   },
   {
    "duration": 22,
    "start_time": "2023-02-06T11:00:30.920Z"
   },
   {
    "duration": 67,
    "start_time": "2023-02-06T11:00:33.204Z"
   },
   {
    "duration": 4,
    "start_time": "2023-02-06T11:00:35.871Z"
   },
   {
    "duration": 5,
    "start_time": "2023-02-06T11:00:38.444Z"
   },
   {
    "duration": 8662,
    "start_time": "2023-02-06T11:00:41.715Z"
   },
   {
    "duration": 1404,
    "start_time": "2023-02-06T11:05:12.534Z"
   },
   {
    "duration": 388,
    "start_time": "2023-02-06T11:05:13.940Z"
   },
   {
    "duration": 262,
    "start_time": "2023-02-06T11:05:14.330Z"
   },
   {
    "duration": 76,
    "start_time": "2023-02-06T11:05:14.594Z"
   },
   {
    "duration": 14,
    "start_time": "2023-02-06T11:05:14.672Z"
   },
   {
    "duration": 17,
    "start_time": "2023-02-06T11:05:14.687Z"
   },
   {
    "duration": 11,
    "start_time": "2023-02-06T11:05:14.706Z"
   },
   {
    "duration": 3,
    "start_time": "2023-02-06T11:05:14.718Z"
   },
   {
    "duration": 7,
    "start_time": "2023-02-06T11:05:14.722Z"
   },
   {
    "duration": 7,
    "start_time": "2023-02-06T11:05:14.754Z"
   },
   {
    "duration": 6,
    "start_time": "2023-02-06T11:05:14.763Z"
   },
   {
    "duration": 303,
    "start_time": "2023-02-06T11:05:14.770Z"
   },
   {
    "duration": 6,
    "start_time": "2023-02-06T11:05:15.075Z"
   },
   {
    "duration": 11,
    "start_time": "2023-02-06T11:05:15.085Z"
   },
   {
    "duration": 12,
    "start_time": "2023-02-06T11:05:15.098Z"
   },
   {
    "duration": 14,
    "start_time": "2023-02-06T11:05:15.112Z"
   },
   {
    "duration": 357,
    "start_time": "2023-02-06T11:05:15.128Z"
   },
   {
    "duration": 386,
    "start_time": "2023-02-06T11:05:15.487Z"
   },
   {
    "duration": 333,
    "start_time": "2023-02-06T11:05:15.875Z"
   },
   {
    "duration": 257,
    "start_time": "2023-02-06T11:05:16.210Z"
   },
   {
    "duration": 282,
    "start_time": "2023-02-06T11:05:16.468Z"
   },
   {
    "duration": 168,
    "start_time": "2023-02-06T11:05:16.753Z"
   },
   {
    "duration": 152,
    "start_time": "2023-02-06T11:05:16.923Z"
   },
   {
    "duration": 168,
    "start_time": "2023-02-06T11:05:17.076Z"
   },
   {
    "duration": 266,
    "start_time": "2023-02-06T11:05:17.245Z"
   },
   {
    "duration": 185,
    "start_time": "2023-02-06T11:05:17.512Z"
   },
   {
    "duration": 11,
    "start_time": "2023-02-06T11:05:17.699Z"
   },
   {
    "duration": 212,
    "start_time": "2023-02-06T11:05:17.711Z"
   },
   {
    "duration": 30,
    "start_time": "2023-02-06T11:05:17.924Z"
   },
   {
    "duration": 210,
    "start_time": "2023-02-06T11:05:17.956Z"
   },
   {
    "duration": 16,
    "start_time": "2023-02-06T11:05:18.168Z"
   },
   {
    "duration": 4,
    "start_time": "2023-02-06T11:05:18.186Z"
   },
   {
    "duration": 25,
    "start_time": "2023-02-06T11:05:18.191Z"
   },
   {
    "duration": 87,
    "start_time": "2023-02-06T11:05:18.217Z"
   },
   {
    "duration": 3,
    "start_time": "2023-02-06T11:05:18.306Z"
   },
   {
    "duration": 9,
    "start_time": "2023-02-06T11:05:18.310Z"
   },
   {
    "duration": 6,
    "start_time": "2023-02-06T11:05:18.320Z"
   },
   {
    "duration": 11,
    "start_time": "2023-02-06T11:05:18.328Z"
   },
   {
    "duration": 8639,
    "start_time": "2023-02-06T11:05:18.341Z"
   },
   {
    "duration": 872,
    "start_time": "2023-02-06T11:05:26.983Z"
   },
   {
    "duration": 92,
    "start_time": "2023-02-06T11:05:27.860Z"
   },
   {
    "duration": 224,
    "start_time": "2023-02-06T11:05:27.954Z"
   },
   {
    "duration": 10,
    "start_time": "2023-02-06T11:05:28.179Z"
   },
   {
    "duration": 826,
    "start_time": "2023-02-06T11:07:39.328Z"
   },
   {
    "duration": 15,
    "start_time": "2023-02-06T11:07:46.263Z"
   },
   {
    "duration": 110,
    "start_time": "2023-02-06T11:11:07.298Z"
   },
   {
    "duration": 99,
    "start_time": "2023-02-06T11:11:28.278Z"
   },
   {
    "duration": 2476,
    "start_time": "2023-02-08T10:50:04.702Z"
   },
   {
    "duration": 165,
    "start_time": "2023-02-08T10:50:07.180Z"
   },
   {
    "duration": 0,
    "start_time": "2023-02-08T10:50:07.348Z"
   },
   {
    "duration": 0,
    "start_time": "2023-02-08T10:50:07.350Z"
   },
   {
    "duration": 0,
    "start_time": "2023-02-08T10:50:07.351Z"
   },
   {
    "duration": 0,
    "start_time": "2023-02-08T10:50:07.352Z"
   },
   {
    "duration": 0,
    "start_time": "2023-02-08T10:50:07.352Z"
   },
   {
    "duration": 0,
    "start_time": "2023-02-08T10:50:07.354Z"
   },
   {
    "duration": 0,
    "start_time": "2023-02-08T10:50:07.355Z"
   },
   {
    "duration": 0,
    "start_time": "2023-02-08T10:50:07.356Z"
   },
   {
    "duration": 0,
    "start_time": "2023-02-08T10:50:07.357Z"
   },
   {
    "duration": 0,
    "start_time": "2023-02-08T10:50:07.358Z"
   },
   {
    "duration": 0,
    "start_time": "2023-02-08T10:50:07.360Z"
   },
   {
    "duration": 0,
    "start_time": "2023-02-08T10:50:07.361Z"
   },
   {
    "duration": 0,
    "start_time": "2023-02-08T10:50:07.362Z"
   },
   {
    "duration": 0,
    "start_time": "2023-02-08T10:50:07.363Z"
   },
   {
    "duration": 0,
    "start_time": "2023-02-08T10:50:07.364Z"
   },
   {
    "duration": 0,
    "start_time": "2023-02-08T10:50:07.365Z"
   },
   {
    "duration": 0,
    "start_time": "2023-02-08T10:50:07.366Z"
   },
   {
    "duration": 0,
    "start_time": "2023-02-08T10:50:07.367Z"
   },
   {
    "duration": 0,
    "start_time": "2023-02-08T10:50:07.369Z"
   },
   {
    "duration": 0,
    "start_time": "2023-02-08T10:50:07.370Z"
   },
   {
    "duration": 0,
    "start_time": "2023-02-08T10:50:07.371Z"
   },
   {
    "duration": 0,
    "start_time": "2023-02-08T10:50:07.372Z"
   },
   {
    "duration": 0,
    "start_time": "2023-02-08T10:50:07.373Z"
   },
   {
    "duration": 0,
    "start_time": "2023-02-08T10:50:07.374Z"
   },
   {
    "duration": 0,
    "start_time": "2023-02-08T10:50:07.375Z"
   },
   {
    "duration": 0,
    "start_time": "2023-02-08T10:50:07.377Z"
   },
   {
    "duration": 0,
    "start_time": "2023-02-08T10:50:07.378Z"
   },
   {
    "duration": 0,
    "start_time": "2023-02-08T10:50:07.379Z"
   },
   {
    "duration": 0,
    "start_time": "2023-02-08T10:50:07.380Z"
   },
   {
    "duration": 0,
    "start_time": "2023-02-08T10:50:07.381Z"
   },
   {
    "duration": 0,
    "start_time": "2023-02-08T10:50:07.382Z"
   },
   {
    "duration": 0,
    "start_time": "2023-02-08T10:50:07.438Z"
   },
   {
    "duration": 0,
    "start_time": "2023-02-08T10:50:07.439Z"
   },
   {
    "duration": 1950,
    "start_time": "2023-02-08T10:51:57.010Z"
   },
   {
    "duration": 14,
    "start_time": "2023-02-08T10:51:58.962Z"
   },
   {
    "duration": 2163,
    "start_time": "2023-02-08T10:52:59.689Z"
   },
   {
    "duration": 1506,
    "start_time": "2023-02-08T10:53:01.855Z"
   },
   {
    "duration": 15,
    "start_time": "2023-02-08T10:53:03.363Z"
   },
   {
    "duration": 39,
    "start_time": "2023-02-08T10:53:03.381Z"
   },
   {
    "duration": 23,
    "start_time": "2023-02-08T10:53:03.422Z"
   },
   {
    "duration": 31,
    "start_time": "2023-02-08T10:53:03.447Z"
   },
   {
    "duration": 18,
    "start_time": "2023-02-08T10:53:03.480Z"
   },
   {
    "duration": 20,
    "start_time": "2023-02-08T10:53:03.499Z"
   },
   {
    "duration": 13,
    "start_time": "2023-02-08T10:53:03.521Z"
   },
   {
    "duration": 337,
    "start_time": "2023-02-08T10:53:03.536Z"
   },
   {
    "duration": 4,
    "start_time": "2023-02-08T10:53:03.875Z"
   },
   {
    "duration": 21,
    "start_time": "2023-02-08T10:53:03.881Z"
   },
   {
    "duration": 12,
    "start_time": "2023-02-08T10:53:03.904Z"
   },
   {
    "duration": 34,
    "start_time": "2023-02-08T10:53:03.918Z"
   },
   {
    "duration": 374,
    "start_time": "2023-02-08T10:53:03.954Z"
   },
   {
    "duration": 433,
    "start_time": "2023-02-08T10:53:04.329Z"
   },
   {
    "duration": 359,
    "start_time": "2023-02-08T10:53:04.764Z"
   },
   {
    "duration": 300,
    "start_time": "2023-02-08T10:53:05.125Z"
   },
   {
    "duration": 310,
    "start_time": "2023-02-08T10:53:05.427Z"
   },
   {
    "duration": 195,
    "start_time": "2023-02-08T10:53:05.739Z"
   },
   {
    "duration": 175,
    "start_time": "2023-02-08T10:53:05.937Z"
   },
   {
    "duration": 200,
    "start_time": "2023-02-08T10:53:06.113Z"
   },
   {
    "duration": 311,
    "start_time": "2023-02-08T10:53:06.314Z"
   },
   {
    "duration": 22,
    "start_time": "2023-02-08T10:53:06.627Z"
   },
   {
    "duration": 204,
    "start_time": "2023-02-08T10:53:06.652Z"
   },
   {
    "duration": 5,
    "start_time": "2023-02-08T10:53:06.859Z"
   },
   {
    "duration": 12,
    "start_time": "2023-02-08T10:53:06.866Z"
   },
   {
    "duration": 182,
    "start_time": "2023-02-08T10:53:06.881Z"
   },
   {
    "duration": 7,
    "start_time": "2023-02-08T10:53:07.065Z"
   },
   {
    "duration": 11,
    "start_time": "2023-02-08T10:53:07.074Z"
   },
   {
    "duration": 16,
    "start_time": "2023-02-08T10:53:07.086Z"
   },
   {
    "duration": 12,
    "start_time": "2023-02-08T10:53:07.104Z"
   },
   {
    "duration": 20,
    "start_time": "2023-02-08T10:53:07.118Z"
   },
   {
    "duration": 2289,
    "start_time": "2023-02-08T10:53:43.065Z"
   },
   {
    "duration": 1354,
    "start_time": "2023-02-08T10:53:45.356Z"
   },
   {
    "duration": 15,
    "start_time": "2023-02-08T10:53:46.712Z"
   },
   {
    "duration": 32,
    "start_time": "2023-02-08T10:53:46.729Z"
   },
   {
    "duration": 12,
    "start_time": "2023-02-08T10:53:46.762Z"
   },
   {
    "duration": 5,
    "start_time": "2023-02-08T10:53:46.776Z"
   },
   {
    "duration": 9,
    "start_time": "2023-02-08T10:53:46.783Z"
   },
   {
    "duration": 19,
    "start_time": "2023-02-08T10:53:46.793Z"
   },
   {
    "duration": 4,
    "start_time": "2023-02-08T10:53:46.838Z"
   },
   {
    "duration": 353,
    "start_time": "2023-02-08T10:53:46.845Z"
   },
   {
    "duration": 4,
    "start_time": "2023-02-08T10:53:47.200Z"
   },
   {
    "duration": 21,
    "start_time": "2023-02-08T10:53:47.206Z"
   },
   {
    "duration": 25,
    "start_time": "2023-02-08T10:53:47.229Z"
   },
   {
    "duration": 26,
    "start_time": "2023-02-08T10:53:47.256Z"
   },
   {
    "duration": 373,
    "start_time": "2023-02-08T10:53:47.284Z"
   },
   {
    "duration": 469,
    "start_time": "2023-02-08T10:53:47.659Z"
   },
   {
    "duration": 413,
    "start_time": "2023-02-08T10:53:48.130Z"
   },
   {
    "duration": 300,
    "start_time": "2023-02-08T10:53:48.545Z"
   },
   {
    "duration": 328,
    "start_time": "2023-02-08T10:53:48.847Z"
   },
   {
    "duration": 216,
    "start_time": "2023-02-08T10:53:49.178Z"
   },
   {
    "duration": 173,
    "start_time": "2023-02-08T10:53:49.396Z"
   },
   {
    "duration": 217,
    "start_time": "2023-02-08T10:53:49.571Z"
   },
   {
    "duration": 312,
    "start_time": "2023-02-08T10:53:49.789Z"
   },
   {
    "duration": 13,
    "start_time": "2023-02-08T10:53:50.103Z"
   },
   {
    "duration": 248,
    "start_time": "2023-02-08T10:53:50.117Z"
   },
   {
    "duration": 6,
    "start_time": "2023-02-08T10:53:50.367Z"
   },
   {
    "duration": 46,
    "start_time": "2023-02-08T10:53:50.375Z"
   },
   {
    "duration": 182,
    "start_time": "2023-02-08T10:53:50.425Z"
   },
   {
    "duration": 7,
    "start_time": "2023-02-08T10:53:50.608Z"
   },
   {
    "duration": 14,
    "start_time": "2023-02-08T10:53:50.617Z"
   },
   {
    "duration": 15,
    "start_time": "2023-02-08T10:53:50.637Z"
   },
   {
    "duration": 40,
    "start_time": "2023-02-08T10:53:50.654Z"
   }
  ],
  "kernelspec": {
   "display_name": "Python 3 (ipykernel)",
   "language": "python",
   "name": "python3"
  },
  "language_info": {
   "codemirror_mode": {
    "name": "ipython",
    "version": 3
   },
   "file_extension": ".py",
   "mimetype": "text/x-python",
   "name": "python",
   "nbconvert_exporter": "python",
   "pygments_lexer": "ipython3",
   "version": "3.9.13"
  },
  "toc": {
   "base_numbering": 1,
   "nav_menu": {},
   "number_sections": true,
   "sideBar": true,
   "skip_h1_title": true,
   "title_cell": "Table of Contents",
   "title_sidebar": "Contents",
   "toc_cell": false,
   "toc_position": {
    "height": "calc(100% - 180px)",
    "left": "10px",
    "top": "150px",
    "width": "384px"
   },
   "toc_section_display": true,
   "toc_window_display": true
  }
 },
 "nbformat": 4,
 "nbformat_minor": 5
}
