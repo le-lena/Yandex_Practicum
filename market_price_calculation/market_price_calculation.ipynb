{
 "cells": [
  {
   "cell_type": "markdown",
   "id": "cfbec426",
   "metadata": {},
   "source": [
    "\n",
    "# Определение стоимости автомобилей\n",
    "\n",
    "Сервис по продаже автомобилей с пробегом «Не бит, не крашен» разрабатывает приложение, чтобы привлечь новых клиентов.  \n",
    "В нём можно будет узнать рыночную стоимость своего автомобиля.   \n",
    "Постройте модель, которая умеет её определять.  \n",
    "В вашем распоряжении данные о технических характеристиках, комплектации и ценах других автомобилей.  \n",
    "Критерии, которые важны заказчику:  \n",
    "качество предсказания;  \n",
    "время обучения модели;  \n",
    "время предсказания модели.  "
   ]
  },
  {
   "cell_type": "markdown",
   "id": "6fb89734",
   "metadata": {},
   "source": [
    "## Описание данных\n",
    "\n",
    "### Признаки  \n",
    "DateCrawled — дата скачивания анкеты из базы  \n",
    "VehicleType — тип автомобильного кузова  \n",
    "RegistrationYear — год регистрации автомобиля  \n",
    "Gearbox — тип коробки передач    \n",
    "Power — мощность (л. с.)  \n",
    "Model — модель автомобиля  \n",
    "Kilometer — пробег (км)  \n",
    "RegistrationMonth — месяц регистрации автомобиля  \n",
    "FuelType — тип топлива  \n",
    "Brand — марка автомобиля  \n",
    "Repaired — была машина в ремонте или нет  \n",
    "DateCreated — дата создания анкеты  \n",
    "NumberOfPictures — количество фотографий автомобиля  \n",
    "PostalCode — почтовый индекс владельца анкеты (пользователя)  \n",
    "LastSeen — дата последней активности пользователя  \n",
    "### Целевой признак  \n",
    "Price — цена (евро)  "
   ]
  },
  {
   "cell_type": "markdown",
   "id": "d0d8a5f6",
   "metadata": {},
   "source": [
    "## Предобработка данных"
   ]
  },
  {
   "cell_type": "code",
   "execution_count": 1,
   "id": "f0768cab",
   "metadata": {},
   "outputs": [],
   "source": [
    "import pandas as pd\n",
    "import numpy as np\n",
    "\n",
    "from catboost import CatBoostRegressor\n",
    "from lightgbm import LGBMRegressor\n",
    "\n",
    "from sklearn.metrics import mean_squared_error\n",
    "import matplotlib.pyplot as plt\n",
    "\n",
    "from sklearn.model_selection import (train_test_split,cross_val_score)\n",
    "from sklearn.preprocessing import (OrdinalEncoder,StandardScaler)     \n",
    "\n",
    "from sklearn.linear_model import SGDRegressor\n",
    "from sklearn.pipeline import make_pipeline\n",
    "\n",
    "from sklearn.preprocessing import OneHotEncoder\n",
    "\n",
    "import time"
   ]
  },
  {
   "cell_type": "code",
   "execution_count": 2,
   "id": "b4e24642",
   "metadata": {},
   "outputs": [],
   "source": [
    "try:\n",
    "    data=pd.read_csv(r\"C:\\Users\\Admin\\Desktop\\autos.csv\")\n",
    "except:\n",
    "    data=pd.read_csv('/datasets/autos.csv')"
   ]
  },
  {
   "cell_type": "code",
   "execution_count": 3,
   "id": "6e5b0361",
   "metadata": {},
   "outputs": [
    {
     "data": {
      "text/plain": [
       "(354369, 16)"
      ]
     },
     "execution_count": 3,
     "metadata": {},
     "output_type": "execute_result"
    }
   ],
   "source": [
    "data.shape"
   ]
  },
  {
   "cell_type": "code",
   "execution_count": 4,
   "id": "233fb7de",
   "metadata": {},
   "outputs": [
    {
     "data": {
      "text/html": [
       "<div>\n",
       "<style scoped>\n",
       "    .dataframe tbody tr th:only-of-type {\n",
       "        vertical-align: middle;\n",
       "    }\n",
       "\n",
       "    .dataframe tbody tr th {\n",
       "        vertical-align: top;\n",
       "    }\n",
       "\n",
       "    .dataframe thead th {\n",
       "        text-align: right;\n",
       "    }\n",
       "</style>\n",
       "<table border=\"1\" class=\"dataframe\">\n",
       "  <thead>\n",
       "    <tr style=\"text-align: right;\">\n",
       "      <th></th>\n",
       "      <th>DateCrawled</th>\n",
       "      <th>Price</th>\n",
       "      <th>VehicleType</th>\n",
       "      <th>RegistrationYear</th>\n",
       "      <th>Gearbox</th>\n",
       "      <th>Power</th>\n",
       "      <th>Model</th>\n",
       "      <th>Kilometer</th>\n",
       "      <th>RegistrationMonth</th>\n",
       "      <th>FuelType</th>\n",
       "      <th>Brand</th>\n",
       "      <th>Repaired</th>\n",
       "      <th>DateCreated</th>\n",
       "      <th>NumberOfPictures</th>\n",
       "      <th>PostalCode</th>\n",
       "      <th>LastSeen</th>\n",
       "    </tr>\n",
       "  </thead>\n",
       "  <tbody>\n",
       "    <tr>\n",
       "      <th>0</th>\n",
       "      <td>2016-03-24 11:52:17</td>\n",
       "      <td>480</td>\n",
       "      <td>NaN</td>\n",
       "      <td>1993</td>\n",
       "      <td>manual</td>\n",
       "      <td>0</td>\n",
       "      <td>golf</td>\n",
       "      <td>150000</td>\n",
       "      <td>0</td>\n",
       "      <td>petrol</td>\n",
       "      <td>volkswagen</td>\n",
       "      <td>NaN</td>\n",
       "      <td>2016-03-24 00:00:00</td>\n",
       "      <td>0</td>\n",
       "      <td>70435</td>\n",
       "      <td>2016-04-07 03:16:57</td>\n",
       "    </tr>\n",
       "    <tr>\n",
       "      <th>1</th>\n",
       "      <td>2016-03-24 10:58:45</td>\n",
       "      <td>18300</td>\n",
       "      <td>coupe</td>\n",
       "      <td>2011</td>\n",
       "      <td>manual</td>\n",
       "      <td>190</td>\n",
       "      <td>NaN</td>\n",
       "      <td>125000</td>\n",
       "      <td>5</td>\n",
       "      <td>gasoline</td>\n",
       "      <td>audi</td>\n",
       "      <td>yes</td>\n",
       "      <td>2016-03-24 00:00:00</td>\n",
       "      <td>0</td>\n",
       "      <td>66954</td>\n",
       "      <td>2016-04-07 01:46:50</td>\n",
       "    </tr>\n",
       "    <tr>\n",
       "      <th>2</th>\n",
       "      <td>2016-03-14 12:52:21</td>\n",
       "      <td>9800</td>\n",
       "      <td>suv</td>\n",
       "      <td>2004</td>\n",
       "      <td>auto</td>\n",
       "      <td>163</td>\n",
       "      <td>grand</td>\n",
       "      <td>125000</td>\n",
       "      <td>8</td>\n",
       "      <td>gasoline</td>\n",
       "      <td>jeep</td>\n",
       "      <td>NaN</td>\n",
       "      <td>2016-03-14 00:00:00</td>\n",
       "      <td>0</td>\n",
       "      <td>90480</td>\n",
       "      <td>2016-04-05 12:47:46</td>\n",
       "    </tr>\n",
       "    <tr>\n",
       "      <th>3</th>\n",
       "      <td>2016-03-17 16:54:04</td>\n",
       "      <td>1500</td>\n",
       "      <td>small</td>\n",
       "      <td>2001</td>\n",
       "      <td>manual</td>\n",
       "      <td>75</td>\n",
       "      <td>golf</td>\n",
       "      <td>150000</td>\n",
       "      <td>6</td>\n",
       "      <td>petrol</td>\n",
       "      <td>volkswagen</td>\n",
       "      <td>no</td>\n",
       "      <td>2016-03-17 00:00:00</td>\n",
       "      <td>0</td>\n",
       "      <td>91074</td>\n",
       "      <td>2016-03-17 17:40:17</td>\n",
       "    </tr>\n",
       "    <tr>\n",
       "      <th>4</th>\n",
       "      <td>2016-03-31 17:25:20</td>\n",
       "      <td>3600</td>\n",
       "      <td>small</td>\n",
       "      <td>2008</td>\n",
       "      <td>manual</td>\n",
       "      <td>69</td>\n",
       "      <td>fabia</td>\n",
       "      <td>90000</td>\n",
       "      <td>7</td>\n",
       "      <td>gasoline</td>\n",
       "      <td>skoda</td>\n",
       "      <td>no</td>\n",
       "      <td>2016-03-31 00:00:00</td>\n",
       "      <td>0</td>\n",
       "      <td>60437</td>\n",
       "      <td>2016-04-06 10:17:21</td>\n",
       "    </tr>\n",
       "  </tbody>\n",
       "</table>\n",
       "</div>"
      ],
      "text/plain": [
       "           DateCrawled  Price VehicleType  RegistrationYear Gearbox  Power  \\\n",
       "0  2016-03-24 11:52:17    480         NaN              1993  manual      0   \n",
       "1  2016-03-24 10:58:45  18300       coupe              2011  manual    190   \n",
       "2  2016-03-14 12:52:21   9800         suv              2004    auto    163   \n",
       "3  2016-03-17 16:54:04   1500       small              2001  manual     75   \n",
       "4  2016-03-31 17:25:20   3600       small              2008  manual     69   \n",
       "\n",
       "   Model  Kilometer  RegistrationMonth  FuelType       Brand Repaired  \\\n",
       "0   golf     150000                  0    petrol  volkswagen      NaN   \n",
       "1    NaN     125000                  5  gasoline        audi      yes   \n",
       "2  grand     125000                  8  gasoline        jeep      NaN   \n",
       "3   golf     150000                  6    petrol  volkswagen       no   \n",
       "4  fabia      90000                  7  gasoline       skoda       no   \n",
       "\n",
       "           DateCreated  NumberOfPictures  PostalCode             LastSeen  \n",
       "0  2016-03-24 00:00:00                 0       70435  2016-04-07 03:16:57  \n",
       "1  2016-03-24 00:00:00                 0       66954  2016-04-07 01:46:50  \n",
       "2  2016-03-14 00:00:00                 0       90480  2016-04-05 12:47:46  \n",
       "3  2016-03-17 00:00:00                 0       91074  2016-03-17 17:40:17  \n",
       "4  2016-03-31 00:00:00                 0       60437  2016-04-06 10:17:21  "
      ]
     },
     "execution_count": 4,
     "metadata": {},
     "output_type": "execute_result"
    }
   ],
   "source": [
    "data.head()"
   ]
  },
  {
   "cell_type": "code",
   "execution_count": 5,
   "id": "32caee3b",
   "metadata": {},
   "outputs": [
    {
     "name": "stdout",
     "output_type": "stream",
     "text": [
      "<class 'pandas.core.frame.DataFrame'>\n",
      "RangeIndex: 354369 entries, 0 to 354368\n",
      "Data columns (total 16 columns):\n",
      " #   Column             Non-Null Count   Dtype \n",
      "---  ------             --------------   ----- \n",
      " 0   DateCrawled        354369 non-null  object\n",
      " 1   Price              354369 non-null  int64 \n",
      " 2   VehicleType        316879 non-null  object\n",
      " 3   RegistrationYear   354369 non-null  int64 \n",
      " 4   Gearbox            334536 non-null  object\n",
      " 5   Power              354369 non-null  int64 \n",
      " 6   Model              334664 non-null  object\n",
      " 7   Kilometer          354369 non-null  int64 \n",
      " 8   RegistrationMonth  354369 non-null  int64 \n",
      " 9   FuelType           321474 non-null  object\n",
      " 10  Brand              354369 non-null  object\n",
      " 11  Repaired           283215 non-null  object\n",
      " 12  DateCreated        354369 non-null  object\n",
      " 13  NumberOfPictures   354369 non-null  int64 \n",
      " 14  PostalCode         354369 non-null  int64 \n",
      " 15  LastSeen           354369 non-null  object\n",
      "dtypes: int64(7), object(9)\n",
      "memory usage: 43.3+ MB\n"
     ]
    }
   ],
   "source": [
    "data.info()"
   ]
  },
  {
   "cell_type": "code",
   "execution_count": 6,
   "id": "9d6c3fb0",
   "metadata": {},
   "outputs": [
    {
     "data": {
      "text/plain": [
       "DateCrawled              0\n",
       "Price                    0\n",
       "VehicleType          37490\n",
       "RegistrationYear         0\n",
       "Gearbox              19833\n",
       "Power                    0\n",
       "Model                19705\n",
       "Kilometer                0\n",
       "RegistrationMonth        0\n",
       "FuelType             32895\n",
       "Brand                    0\n",
       "Repaired             71154\n",
       "DateCreated              0\n",
       "NumberOfPictures         0\n",
       "PostalCode               0\n",
       "LastSeen                 0\n",
       "dtype: int64"
      ]
     },
     "execution_count": 6,
     "metadata": {},
     "output_type": "execute_result"
    }
   ],
   "source": [
    "data.isna().sum()"
   ]
  },
  {
   "cell_type": "code",
   "execution_count": 7,
   "id": "99fcb3ad",
   "metadata": {
    "scrolled": true
   },
   "outputs": [
    {
     "data": {
      "text/plain": [
       "4"
      ]
     },
     "execution_count": 7,
     "metadata": {},
     "output_type": "execute_result"
    }
   ],
   "source": [
    "data.duplicated().sum()"
   ]
  },
  {
   "cell_type": "code",
   "execution_count": 8,
   "id": "b448bfef",
   "metadata": {},
   "outputs": [],
   "source": [
    "data = data.drop_duplicates().reset_index(drop=True)"
   ]
  },
  {
   "cell_type": "code",
   "execution_count": 9,
   "id": "0296a81e",
   "metadata": {},
   "outputs": [],
   "source": [
    "data[['VehicleType','Gearbox','Model','FuelType','Repaired']] = data[['VehicleType','Gearbox','Model','FuelType','Repaired']]. fillna ('unknown')"
   ]
  },
  {
   "cell_type": "code",
   "execution_count": 10,
   "id": "2ee89137",
   "metadata": {},
   "outputs": [
    {
     "data": {
      "text/plain": [
       "DateCrawled          0\n",
       "Price                0\n",
       "VehicleType          0\n",
       "RegistrationYear     0\n",
       "Gearbox              0\n",
       "Power                0\n",
       "Model                0\n",
       "Kilometer            0\n",
       "RegistrationMonth    0\n",
       "FuelType             0\n",
       "Brand                0\n",
       "Repaired             0\n",
       "DateCreated          0\n",
       "NumberOfPictures     0\n",
       "PostalCode           0\n",
       "LastSeen             0\n",
       "dtype: int64"
      ]
     },
     "execution_count": 10,
     "metadata": {},
     "output_type": "execute_result"
    }
   ],
   "source": [
    "data.isna().sum()"
   ]
  },
  {
   "cell_type": "code",
   "execution_count": 11,
   "id": "c7fa9e5f",
   "metadata": {},
   "outputs": [],
   "source": [
    "data = data.drop(['LastSeen','DateCrawled','DateCreated','PostalCode','RegistrationMonth','NumberOfPictures'], axis=1)"
   ]
  },
  {
   "cell_type": "code",
   "execution_count": 12,
   "id": "02e65167",
   "metadata": {},
   "outputs": [
    {
     "name": "stdout",
     "output_type": "stream",
     "text": [
      "<class 'pandas.core.frame.DataFrame'>\n",
      "RangeIndex: 354365 entries, 0 to 354364\n",
      "Data columns (total 10 columns):\n",
      " #   Column            Non-Null Count   Dtype \n",
      "---  ------            --------------   ----- \n",
      " 0   Price             354365 non-null  int64 \n",
      " 1   VehicleType       354365 non-null  object\n",
      " 2   RegistrationYear  354365 non-null  int64 \n",
      " 3   Gearbox           354365 non-null  object\n",
      " 4   Power             354365 non-null  int64 \n",
      " 5   Model             354365 non-null  object\n",
      " 6   Kilometer         354365 non-null  int64 \n",
      " 7   FuelType          354365 non-null  object\n",
      " 8   Brand             354365 non-null  object\n",
      " 9   Repaired          354365 non-null  object\n",
      "dtypes: int64(4), object(6)\n",
      "memory usage: 27.0+ MB\n"
     ]
    }
   ],
   "source": [
    "data.info()"
   ]
  },
  {
   "cell_type": "code",
   "execution_count": 13,
   "id": "6ff8a96b",
   "metadata": {},
   "outputs": [
    {
     "name": "stdout",
     "output_type": "stream",
     "text": [
      "AxesSubplot(0.125,0.11;0.775x0.77)\n"
     ]
    },
    {
     "data": {
      "image/png": "[encoded data removed]",
      "text/plain": [
       "<Figure size 640x480 with 1 Axes>"
      ]
     },
     "metadata": {},
     "output_type": "display_data"
    }
   ],
   "source": [
    "plt.ylim(1980, 2023)\n",
    "print(data[['RegistrationYear']].boxplot())"
   ]
  },
  {
   "cell_type": "code",
   "execution_count": 14,
   "id": "ad456406",
   "metadata": {},
   "outputs": [],
   "source": [
    "data=data.query('RegistrationYear>1980 | RegistrationYear<2024')"
   ]
  },
  {
   "cell_type": "markdown",
   "id": "d436d3ab",
   "metadata": {},
   "source": [
    "Избавившись от аномальных значениям в столбце RegistrationYear, ушел 1% записей, это не много. "
   ]
  },
  {
   "cell_type": "code",
   "execution_count": 15,
   "id": "11366a38",
   "metadata": {},
   "outputs": [
    {
     "data": {
      "text/plain": [
       "<AxesSubplot:>"
      ]
     },
     "execution_count": 15,
     "metadata": {},
     "output_type": "execute_result"
    },
    {
     "data": {
      "image/png": "[encoded data removed]",
      "text/plain": [
       "<Figure size 640x480 with 1 Axes>"
      ]
     },
     "metadata": {},
     "output_type": "display_data"
    }
   ],
   "source": [
    "data[['Price']].boxplot()\n"
   ]
  },
  {
   "cell_type": "code",
   "execution_count": 16,
   "id": "4d82da9c",
   "metadata": {},
   "outputs": [],
   "source": [
    "data=data.query('Price<14500')"
   ]
  },
  {
   "cell_type": "markdown",
   "id": "1249d7ca",
   "metadata": {},
   "source": [
    "Примерно 1% записей ушел при удалении аномалий в столбце Price"
   ]
  },
  {
   "cell_type": "code",
   "execution_count": 17,
   "id": "b8d12fe6",
   "metadata": {},
   "outputs": [
    {
     "name": "stdout",
     "output_type": "stream",
     "text": [
      "AxesSubplot(0.125,0.11;0.775x0.77)\n"
     ]
    },
    {
     "data": {
      "image/png": "[encoded data removed]",
      "text/plain": [
       "<Figure size 640x480 with 1 Axes>"
      ]
     },
     "metadata": {},
     "output_type": "display_data"
    }
   ],
   "source": [
    "plt.ylim(0, 250)\n",
    "print(data[['Power']].boxplot())"
   ]
  },
  {
   "cell_type": "code",
   "execution_count": 18,
   "id": "cd9fdd7f",
   "metadata": {},
   "outputs": [
    {
     "name": "stdout",
     "output_type": "stream",
     "text": [
      "AxesSubplot(0.125,0.11;0.775x0.77)\n"
     ]
    },
    {
     "data": {
      "image/png": "[encoded data removed]",
      "text/plain": [
       "<Figure size 640x480 with 1 Axes>"
      ]
     },
     "metadata": {},
     "output_type": "display_data"
    }
   ],
   "source": [
    "print(data[['Kilometer']].boxplot())"
   ]
  },
  {
   "cell_type": "markdown",
   "id": "e3f71aba",
   "metadata": {},
   "source": [
    "Малый киллометраж нельзя считать ошибкой в данных, поэтому оставлю как есть. "
   ]
  },
  {
   "cell_type": "code",
   "execution_count": 19,
   "id": "b2768615",
   "metadata": {},
   "outputs": [],
   "source": [
    "data_new=data.copy()"
   ]
  },
  {
   "cell_type": "code",
   "execution_count": 20,
   "id": "f8795fa1",
   "metadata": {},
   "outputs": [],
   "source": [
    "features = data.drop('Price', axis=1)\n",
    "target = data['Price']"
   ]
  },
  {
   "cell_type": "code",
   "execution_count": 21,
   "id": "d4e4d4ed",
   "metadata": {},
   "outputs": [],
   "source": [
    "features_train, features_valid, target_train, target_valid = train_test_split(\n",
    "    features, target, test_size=0.4, random_state=12345)\n",
    "features_test, features_valid, target_test, target_valid = train_test_split(\n",
    "    features_valid, target_valid, test_size=0.5, random_state=12345)"
   ]
  },
  {
   "cell_type": "markdown",
   "id": "b076dd73",
   "metadata": {},
   "source": [
    "Масштабирование количественных признаков"
   ]
  },
  {
   "cell_type": "code",
   "execution_count": 22,
   "id": "38f79792",
   "metadata": {},
   "outputs": [],
   "source": [
    "numeric=['RegistrationYear','Power','Kilometer']\n",
    "scaler = StandardScaler()\n",
    "scaler.fit(features_train[numeric]) \n",
    "features_train[numeric] = scaler.transform(features_train[numeric])\n",
    "features_valid[numeric] = scaler.transform(features_valid[numeric]) \n",
    "features_test[numeric] = scaler.transform(features_test[numeric]) "
   ]
  },
  {
   "cell_type": "markdown",
   "id": "45439842",
   "metadata": {},
   "source": [
    "Кодирование категориальных признаков"
   ]
  },
  {
   "cell_type": "code",
   "execution_count": 23,
   "id": "ef8a4a18",
   "metadata": {},
   "outputs": [
    {
     "name": "stdout",
     "output_type": "stream",
     "text": [
      "['Model', 'FuelType', 'Brand', 'VehicleType', 'Gearbox', 'Repaired']\n"
     ]
    }
   ],
   "source": [
    "categor = list(set(features_train) - set(numeric))\n",
    "print(categor)"
   ]
  },
  {
   "cell_type": "code",
   "execution_count": 24,
   "id": "b1a5c1f0",
   "metadata": {},
   "outputs": [],
   "source": [
    "enc = OrdinalEncoder()\n",
    "enc.fit(features_train[categor])\n",
    "\n",
    "features_train[categor] = enc.transform(features_train[categor])\n",
    "features_valid[categor] = enc.transform(features_valid[categor])\n",
    "features_test[categor] = enc.transform(features_test[categor])\n"
   ]
  },
  {
   "cell_type": "markdown",
   "id": "20f317be",
   "metadata": {},
   "source": [
    "## Стохастический градиентный спуск"
   ]
  },
  {
   "cell_type": "code",
   "execution_count": 25,
   "id": "e45952df",
   "metadata": {},
   "outputs": [],
   "source": [
    "start = time.time()\n",
    "model= make_pipeline(StandardScaler(), SGDRegressor(max_iter=2000))\n",
    "model.fit(features_train, target_train)\n",
    "end = time.time()\n",
    "SGD_fit_time = end - start"
   ]
  },
  {
   "cell_type": "code",
   "execution_count": 26,
   "id": "9cb799c1",
   "metadata": {},
   "outputs": [],
   "source": [
    "start = time.time()\n",
    "predicted_valid = model.predict(features_valid)\n",
    "end = time.time()\n",
    "SGD_predict_time= end - start"
   ]
  },
  {
   "cell_type": "code",
   "execution_count": 27,
   "id": "52a78394",
   "metadata": {},
   "outputs": [
    {
     "name": "stdout",
     "output_type": "stream",
     "text": [
      "SGDRegressor\n",
      "RMSE = 2887.65\n"
     ]
    }
   ],
   "source": [
    "mse = mean_squared_error(target_valid, predicted_valid)\n",
    "print(\"SGDRegressor\")\n",
    "print(\"RMSE =\", round(mse ** 0.5,2))\n",
    "SGD_RMSE=round(mse ** 0.5,2)"
   ]
  },
  {
   "cell_type": "markdown",
   "id": "97ea12c7",
   "metadata": {},
   "source": [
    "## Градиентный бустинг с библиотекой CatBoost"
   ]
  },
  {
   "cell_type": "code",
   "execution_count": 28,
   "id": "8fadc8ea",
   "metadata": {},
   "outputs": [],
   "source": [
    "features = data_new.drop('Price', axis=1)\n",
    "target = data_new['Price']\n",
    "features_train, features_valid, target_train, target_valid = train_test_split(\n",
    "    features, target, test_size=0.4, random_state=12345)\n",
    "features_test, features_valid, target_test, target_valid = train_test_split(\n",
    "    features_valid, target_valid, test_size=0.5, random_state=12345)"
   ]
  },
  {
   "cell_type": "code",
   "execution_count": 29,
   "id": "9e9b2154",
   "metadata": {},
   "outputs": [],
   "source": [
    "\n",
    "model = CatBoostRegressor (iterations=300,loss_function='RMSE',learning_rate = 0.99,depth=2,random_seed=12345)\n"
   ]
  },
  {
   "cell_type": "code",
   "execution_count": 30,
   "id": "5c561551",
   "metadata": {
    "scrolled": true
   },
   "outputs": [
    {
     "data": {
      "application/vnd.jupyter.widget-view+json": {
       "model_id": "f6ea82d6b7284f7da68c4e803b4c6a59",
       "version_major": 2,
       "version_minor": 0
      },
      "text/plain": [
       "MetricVisualizer(layout=Layout(align_self='stretch', height='500px'))"
      ]
     },
     "metadata": {},
     "output_type": "display_data"
    },
    {
     "name": "stdout",
     "output_type": "stream",
     "text": [
      "0:\tlearn: 2671.2905755\ttotal: 291ms\tremaining: 1m 26s\n",
      "20:\tlearn: 1806.5571283\ttotal: 1.91s\tremaining: 25.4s\n",
      "40:\tlearn: 1731.7408368\ttotal: 3.32s\tremaining: 21s\n",
      "60:\tlearn: 1693.1375110\ttotal: 4.68s\tremaining: 18.3s\n",
      "80:\tlearn: 1666.9412922\ttotal: 6.06s\tremaining: 16.4s\n",
      "100:\tlearn: 1650.5083181\ttotal: 7.51s\tremaining: 14.8s\n",
      "120:\tlearn: 1639.1304844\ttotal: 8.93s\tremaining: 13.2s\n",
      "140:\tlearn: 1630.8577267\ttotal: 10.4s\tremaining: 11.7s\n",
      "160:\tlearn: 1623.3983177\ttotal: 11.8s\tremaining: 10.2s\n",
      "180:\tlearn: 1613.9177836\ttotal: 13.1s\tremaining: 8.61s\n",
      "200:\tlearn: 1606.3097584\ttotal: 14.4s\tremaining: 7.1s\n",
      "220:\tlearn: 1599.9847551\ttotal: 15.9s\tremaining: 5.68s\n",
      "240:\tlearn: 1594.7026314\ttotal: 17.2s\tremaining: 4.2s\n",
      "260:\tlearn: 1590.9641573\ttotal: 18.4s\tremaining: 2.75s\n",
      "280:\tlearn: 1587.3306315\ttotal: 19.6s\tremaining: 1.33s\n",
      "299:\tlearn: 1584.4388457\ttotal: 21s\tremaining: 0us\n"
     ]
    }
   ],
   "source": [
    "start = time.time()\n",
    "model.fit(features_train, target_train, cat_features=categor, verbose=20, plot=True)\n",
    "end = time.time()\n",
    "CatBoost_fit_time= end - start"
   ]
  },
  {
   "cell_type": "code",
   "execution_count": 31,
   "id": "259fc248",
   "metadata": {},
   "outputs": [],
   "source": [
    "start = time.time()\n",
    "predicted_valid = model.predict(features_valid)\n",
    "end = time.time()\n",
    "CatBoost_predict_time = end - start"
   ]
  },
  {
   "cell_type": "code",
   "execution_count": 32,
   "id": "a2dd79a5",
   "metadata": {},
   "outputs": [
    {
     "name": "stdout",
     "output_type": "stream",
     "text": [
      "CatBoostRegressor\n",
      "RMSE = 1575.43\n"
     ]
    }
   ],
   "source": [
    "mse = mean_squared_error(target_valid, predicted_valid)\n",
    "print(\"CatBoostRegressor\")\n",
    "print(\"RMSE =\", round(mse ** 0.5,2))\n",
    "CatBoost_RMSE=round(mse ** 0.5,2)"
   ]
  },
  {
   "cell_type": "markdown",
   "id": "5d924ca7",
   "metadata": {},
   "source": [
    "## Градиентный бустинг с библиотекой LightGBM "
   ]
  },
  {
   "cell_type": "code",
   "execution_count": 33,
   "id": "2f9fa9a0",
   "metadata": {},
   "outputs": [],
   "source": [
    "\n",
    "features_train[categor] = features_train[categor].astype(\"category\")\n",
    "features_valid[categor] = features_valid[categor].astype(\"category\")\n",
    "features_test[categor] = features_test[categor].astype(\"category\")"
   ]
  },
  {
   "cell_type": "code",
   "execution_count": 34,
   "id": "6164499b",
   "metadata": {},
   "outputs": [],
   "source": [
    "start = time.time()\n",
    "model = LGBMRegressor(max_depth=20)\n",
    "model.fit(features_train, target_train)\n",
    "end= time.time()\n",
    "LGBM_fit_time=end-start"
   ]
  },
  {
   "cell_type": "code",
   "execution_count": 35,
   "id": "6cfd3bba",
   "metadata": {},
   "outputs": [],
   "source": [
    "start = time.time()\n",
    "predicted_valid = model.predict(features_valid)\n",
    "end = time.time()\n",
    "LGBM_predict_time=end-start"
   ]
  },
  {
   "cell_type": "code",
   "execution_count": 36,
   "id": "b4ec8b2c",
   "metadata": {},
   "outputs": [
    {
     "name": "stdout",
     "output_type": "stream",
     "text": [
      "LGBMRegressor\n",
      "RMSE = 1477.73\n"
     ]
    }
   ],
   "source": [
    "mse = mean_squared_error(target_valid, predicted_valid)\n",
    "print(\"LGBMRegressor\")\n",
    "print(\"RMSE =\", round(mse ** 0.5,2))\n",
    "LGBM_RMSE=round(mse ** 0.5,2)"
   ]
  },
  {
   "cell_type": "code",
   "execution_count": 37,
   "id": "308cb549",
   "metadata": {},
   "outputs": [],
   "source": [
    "stat=pd.DataFrame(data=[[SGD_fit_time,SGD_predict_time,SGD_RMSE],[CatBoost_fit_time,CatBoost_predict_time,CatBoost_RMSE],[LGBM_fit_time,LGBM_predict_time,LGBM_RMSE]], \n",
    "                  index=['SGDRegressor','CatBoostRegressor','LGBMRegressor'],\n",
    "                  columns=['fit_time','predict_time','RMSE']) "
   ]
  },
  {
   "cell_type": "code",
   "execution_count": 38,
   "id": "d8eaa83a",
   "metadata": {},
   "outputs": [],
   "source": [
    "stat['RMSE']=stat['RMSE']/500"
   ]
  },
  {
   "cell_type": "code",
   "execution_count": 39,
   "id": "30f51871",
   "metadata": {},
   "outputs": [
    {
     "data": {
      "text/plain": [
       "<AxesSubplot:>"
      ]
     },
     "execution_count": 39,
     "metadata": {},
     "output_type": "execute_result"
    },
    {
     "data": {
      "image/png": "[encoded data removed]",
      "text/plain": [
       "<Figure size 640x480 with 1 Axes>"
      ]
     },
     "metadata": {},
     "output_type": "display_data"
    }
   ],
   "source": [
    "stat.plot.bar()"
   ]
  },
  {
   "cell_type": "code",
   "execution_count": 40,
   "id": "82259d68",
   "metadata": {},
   "outputs": [
    {
     "data": {
      "text/html": [
       "<div>\n",
       "<style scoped>\n",
       "    .dataframe tbody tr th:only-of-type {\n",
       "        vertical-align: middle;\n",
       "    }\n",
       "\n",
       "    .dataframe tbody tr th {\n",
       "        vertical-align: top;\n",
       "    }\n",
       "\n",
       "    .dataframe thead th {\n",
       "        text-align: right;\n",
       "    }\n",
       "</style>\n",
       "<table border=\"1\" class=\"dataframe\">\n",
       "  <thead>\n",
       "    <tr style=\"text-align: right;\">\n",
       "      <th></th>\n",
       "      <th>fit_time</th>\n",
       "      <th>predict_time</th>\n",
       "      <th>RMSE</th>\n",
       "    </tr>\n",
       "  </thead>\n",
       "  <tbody>\n",
       "    <tr>\n",
       "      <th>SGDRegressor</th>\n",
       "      <td>1.611028</td>\n",
       "      <td>0.034973</td>\n",
       "      <td>5.77530</td>\n",
       "    </tr>\n",
       "    <tr>\n",
       "      <th>CatBoostRegressor</th>\n",
       "      <td>23.498792</td>\n",
       "      <td>0.538050</td>\n",
       "      <td>3.15086</td>\n",
       "    </tr>\n",
       "    <tr>\n",
       "      <th>LGBMRegressor</th>\n",
       "      <td>1.597953</td>\n",
       "      <td>0.230629</td>\n",
       "      <td>2.95546</td>\n",
       "    </tr>\n",
       "  </tbody>\n",
       "</table>\n",
       "</div>"
      ],
      "text/plain": [
       "                    fit_time  predict_time     RMSE\n",
       "SGDRegressor        1.611028      0.034973  5.77530\n",
       "CatBoostRegressor  23.498792      0.538050  3.15086\n",
       "LGBMRegressor       1.597953      0.230629  2.95546"
      ]
     },
     "execution_count": 40,
     "metadata": {},
     "output_type": "execute_result"
    }
   ],
   "source": [
    "stat"
   ]
  },
  {
   "cell_type": "markdown",
   "id": "b58966fa",
   "metadata": {},
   "source": [
    "## Анализ моделей"
   ]
  },
  {
   "cell_type": "markdown",
   "id": "d15c9bfb",
   "metadata": {},
   "source": [
    "## Тестирование лучшей модели"
   ]
  },
  {
   "cell_type": "markdown",
   "id": "d774c454",
   "metadata": {},
   "source": [
    "По критерию скорости обучения и предсказания и по величине метрики RSME, можно сделать вывод, что лучшая модель LGBMRegressor.\n",
    "Протестируем ее на тестовой выборке."
   ]
  },
  {
   "cell_type": "code",
   "execution_count": 41,
   "id": "aaf939bc",
   "metadata": {},
   "outputs": [],
   "source": [
    "predicted_test = model.predict(features_test)"
   ]
  },
  {
   "cell_type": "code",
   "execution_count": 42,
   "id": "30578008",
   "metadata": {},
   "outputs": [
    {
     "name": "stdout",
     "output_type": "stream",
     "text": [
      "LGBMRegressor\n",
      "Test\n",
      "RMSE = 1494.58\n"
     ]
    }
   ],
   "source": [
    "mse = mean_squared_error(target_test, predicted_test)\n",
    "print(\"LGBMRegressor\")\n",
    "print(\"Test\")\n",
    "print(\"RMSE =\", round(mse ** 0.5,2))"
   ]
  },
  {
   "cell_type": "markdown",
   "id": "e7d45384",
   "metadata": {},
   "source": [
    "На тестовой выборке качество предсказания не сильно упало. "
   ]
  },
  {
   "cell_type": "markdown",
   "id": "9005c3bc",
   "metadata": {},
   "source": [
    "Вывод:  \n",
    "В результате сравнительного анализа 3 моделей, я пришла к выводу,  \n",
    "что модель LGBMRegressor из библиотеки LightGBM в данном случае является наилучшей по трем критерияем оценки.  \n",
    "качество предсказания - метрика RMSE = 1494.58  \n",
    "время обучения модели - 2 секунды    \n",
    "время предсказания модели - 0.3 секунды    \n"
   ]
  }
 ],
 "metadata": {
  "kernelspec": {
   "display_name": "Python 3 (ipykernel)",
   "language": "python",
   "name": "python3"
  },
  "language_info": {
   "codemirror_mode": {
    "name": "ipython",
    "version": 3
   },
   "file_extension": ".py",
   "mimetype": "text/x-python",
   "name": "python",
   "nbconvert_exporter": "python",
   "pygments_lexer": "ipython3",
   "version": "3.9.13"
  },
  "toc": {
   "base_numbering": 1,
   "nav_menu": {},
   "number_sections": true,
   "sideBar": true,
   "skip_h1_title": true,
   "title_cell": "Table of Contents",
   "title_sidebar": "Contents",
   "toc_cell": false,
   "toc_position": {},
   "toc_section_display": true,
   "toc_window_display": false
  }
 },
 "nbformat": 4,
 "nbformat_minor": 5
}
