{
 "cells": [
  {
   "cell_type": "markdown",
   "id": "ed12606c",
   "metadata": {},
   "source": [
    "### Защита персональных данных клиентов"
   ]
  },
  {
   "cell_type": "markdown",
   "id": "5376cbf0",
   "metadata": {},
   "source": [
    "Вам нужно защитить данные клиентов страховой компании «Хоть потоп».   \n",
    "Разработайте такой метод преобразования данных, чтобы по ним было сложно восстановить персональную информацию.   \n",
    "Обоснуйте корректность его работы.  \n",
    "Нужно защитить данные, чтобы при преобразовании качество моделей машинного обучения не ухудшилось.   \n",
    "Подбирать наилучшую модель не требуется.  "
   ]
  },
  {
   "cell_type": "markdown",
   "id": "75938e2b",
   "metadata": {},
   "source": [
    "  ### Загрузка данных"
   ]
  },
  {
   "cell_type": "code",
   "execution_count": 1,
   "id": "29c620a2",
   "metadata": {},
   "outputs": [],
   "source": [
    "import pandas as pd\n",
    "import numpy as np\n",
    "from sklearn.linear_model import LinearRegression\n",
    "from sklearn.metrics import r2_score\n",
    "from numpy import linalg\n",
    "from sklearn.model_selection import train_test_split"
   ]
  },
  {
   "cell_type": "code",
   "execution_count": 2,
   "id": "8b4edfd5",
   "metadata": {},
   "outputs": [],
   "source": [
    "try:\n",
    "    data=pd.read_csv(r\"C:\\Users\\Admin\\Desktop\\insurance.csv\")\n",
    "except:\n",
    "    data=pd.read_csv('/datasets/insurance.csv')"
   ]
  },
  {
   "cell_type": "code",
   "execution_count": 3,
   "id": "8b47be28",
   "metadata": {},
   "outputs": [
    {
     "name": "stdout",
     "output_type": "stream",
     "text": [
      "(5000, 5)\n"
     ]
    }
   ],
   "source": [
    "print(data.shape)"
   ]
  },
  {
   "cell_type": "code",
   "execution_count": 4,
   "id": "45b5dd4f",
   "metadata": {},
   "outputs": [
    {
     "name": "stdout",
     "output_type": "stream",
     "text": [
      "   Пол  Возраст  Зарплата  Члены семьи  Страховые выплаты\n",
      "0    1     41.0   49600.0            1                  0\n",
      "1    0     46.0   38000.0            1                  1\n",
      "2    0     29.0   21000.0            0                  0\n",
      "3    0     21.0   41700.0            2                  0\n",
      "4    1     28.0   26100.0            0                  0\n"
     ]
    }
   ],
   "source": [
    "print(data.head())"
   ]
  },
  {
   "cell_type": "code",
   "execution_count": 5,
   "id": "a3e78537",
   "metadata": {},
   "outputs": [
    {
     "data": {
      "text/plain": [
       "array([1, 0])"
      ]
     },
     "execution_count": 5,
     "metadata": {},
     "output_type": "execute_result"
    }
   ],
   "source": [
    "data['Пол'].unique()  #категориальный признак Пол уже закодирован"
   ]
  },
  {
   "cell_type": "code",
   "execution_count": 6,
   "id": "cfeaf6fd",
   "metadata": {},
   "outputs": [
    {
     "data": {
      "text/plain": [
       "array([1, 0, 2, 4, 3, 5, 6])"
      ]
     },
     "execution_count": 6,
     "metadata": {},
     "output_type": "execute_result"
    }
   ],
   "source": [
    "data['Члены семьи'].unique() #количество членов семьи"
   ]
  },
  {
   "cell_type": "code",
   "execution_count": 7,
   "id": "f72aa117",
   "metadata": {},
   "outputs": [
    {
     "data": {
      "text/plain": [
       "array([0, 1, 2, 3, 5, 4])"
      ]
     },
     "execution_count": 7,
     "metadata": {},
     "output_type": "execute_result"
    }
   ],
   "source": [
    "data['Страховые выплаты'].unique() #количество страховых выплат"
   ]
  },
  {
   "cell_type": "code",
   "execution_count": 8,
   "id": "9286d86a",
   "metadata": {},
   "outputs": [
    {
     "name": "stdout",
     "output_type": "stream",
     "text": [
      "<class 'pandas.core.frame.DataFrame'>\n",
      "RangeIndex: 5000 entries, 0 to 4999\n",
      "Data columns (total 5 columns):\n",
      " #   Column             Non-Null Count  Dtype  \n",
      "---  ------             --------------  -----  \n",
      " 0   Пол                5000 non-null   int64  \n",
      " 1   Возраст            5000 non-null   float64\n",
      " 2   Зарплата           5000 non-null   float64\n",
      " 3   Члены семьи        5000 non-null   int64  \n",
      " 4   Страховые выплаты  5000 non-null   int64  \n",
      "dtypes: float64(2), int64(3)\n",
      "memory usage: 195.4 KB\n"
     ]
    }
   ],
   "source": [
    "data.info() #пропусков в данных нет"
   ]
  },
  {
   "cell_type": "code",
   "execution_count": 9,
   "id": "fc8021bf",
   "metadata": {},
   "outputs": [
    {
     "name": "stdout",
     "output_type": "stream",
     "text": [
      "      Пол  Возраст  Зарплата  Члены семьи  Страховые выплаты\n",
      "281     1     39.0   48100.0            1                  0\n",
      "488     1     24.0   32900.0            1                  0\n",
      "513     0     31.0   37400.0            2                  0\n",
      "718     1     22.0   32600.0            1                  0\n",
      "785     0     20.0   35800.0            0                  0\n",
      "...   ...      ...       ...          ...                ...\n",
      "4793    1     24.0   37800.0            0                  0\n",
      "4902    1     35.0   38700.0            1                  0\n",
      "4935    1     19.0   32700.0            0                  0\n",
      "4945    1     21.0   45800.0            0                  0\n",
      "4965    0     22.0   40100.0            1                  0\n",
      "\n",
      "[153 rows x 5 columns]\n"
     ]
    }
   ],
   "source": [
    "print(data[data.duplicated()])"
   ]
  },
  {
   "cell_type": "markdown",
   "id": "c420ec48",
   "metadata": {},
   "source": [
    "Дубликаты оставим, так как у нас нет уникального идентификатора человека, а признаков не так много, значит одинаковые записи могут соответствовать разным людям. "
   ]
  },
  {
   "cell_type": "code",
   "execution_count": 10,
   "id": "a0783b5e",
   "metadata": {},
   "outputs": [
    {
     "name": "stdout",
     "output_type": "stream",
     "text": [
      "   gender   age   salary  family_members  insurance_payments\n",
      "0       1  41.0  49600.0               1                   0\n",
      "1       0  46.0  38000.0               1                   1\n",
      "2       0  29.0  21000.0               0                   0\n",
      "3       0  21.0  41700.0               2                   0\n",
      "4       1  28.0  26100.0               0                   0\n"
     ]
    }
   ],
   "source": [
    "data.columns=['gender','age','salary','family_members','insurance_payments'] #переименовала колонки\n",
    "print(data.head())"
   ]
  },
  {
   "cell_type": "code",
   "execution_count": 11,
   "id": "2180975a",
   "metadata": {},
   "outputs": [],
   "source": [
    "data['salary']=data['salary']/1000 #зарплата в другом масштабе по сравнению с другими признаками"
   ]
  },
  {
   "cell_type": "markdown",
   "id": "f2b8edd1",
   "metadata": {},
   "source": [
    "### Умножение матриц"
   ]
  },
  {
   "cell_type": "code",
   "execution_count": 12,
   "id": "9b7ac03c",
   "metadata": {},
   "outputs": [],
   "source": [
    "features = data.drop('insurance_payments', axis=1)\n",
    "target = data['insurance_payments']"
   ]
  },
  {
   "cell_type": "code",
   "execution_count": 13,
   "id": "57faf820",
   "metadata": {},
   "outputs": [],
   "source": [
    "features_train, features_test, target_train, target_test = train_test_split(\n",
    "    features, target, test_size=0.25, random_state=12345)\n"
   ]
  },
  {
   "cell_type": "code",
   "execution_count": 14,
   "id": "8238d9f6",
   "metadata": {},
   "outputs": [
    {
     "name": "stdout",
     "output_type": "stream",
     "text": [
      "Исходный датасет\n",
      "r2_score= 0.43522757127026657\n"
     ]
    }
   ],
   "source": [
    "\n",
    "class LinearRegression:\n",
    "    def fit(self, train_features, train_target):\n",
    "        X = np.concatenate((np.ones((train_features.shape[0], 1)), train_features), axis=1)\n",
    "        y = train_target\n",
    "        w = np.linalg.inv(X.T.dot(X)).dot(X.T).dot(y)\n",
    "        self.w = w[1:]\n",
    "        self.w0 = w[0]\n",
    "        return self.w,self.w0\n",
    "    def predict(self, test_features):\n",
    "        return test_features.dot(self.w) + self.w0\n",
    "model = LinearRegression()\n",
    "f=model.fit(features_train, target_train)\n",
    "predictions = model.predict(features_test)\n",
    "print(\"Исходный датасет\")\n",
    "print('r2_score=',r2_score(target_test, predictions))\n",
    "\n",
    "w_original=f[0]\n",
    "w0_original=f[1]\n"
   ]
  },
  {
   "cell_type": "markdown",
   "id": "76e83b2e",
   "metadata": {},
   "source": [
    "Размерность исходной матрицы признаков m=5000,n=4, значит нужна матрица размером 4 на 4. "
   ]
  },
  {
   "cell_type": "code",
   "execution_count": 15,
   "id": "2064c4d0",
   "metadata": {},
   "outputs": [],
   "source": [
    "new = np.random.randint(10,size = (4,4)) #матрицу заполняем рандомными числами"
   ]
  },
  {
   "cell_type": "code",
   "execution_count": 16,
   "id": "2e4a013c",
   "metadata": {},
   "outputs": [
    {
     "name": "stdout",
     "output_type": "stream",
     "text": [
      "[[9 8 0 3]\n",
      " [2 2 5 0]\n",
      " [5 0 4 5]\n",
      " [8 3 6 3]]\n"
     ]
    }
   ],
   "source": [
    "print(new)"
   ]
  },
  {
   "cell_type": "code",
   "execution_count": 17,
   "id": "045ffd95",
   "metadata": {},
   "outputs": [
    {
     "data": {
      "text/plain": [
       "-525.9999999999997"
      ]
     },
     "execution_count": 17,
     "metadata": {},
     "output_type": "execute_result"
    }
   ],
   "source": [
    "linalg.det(new)"
   ]
  },
  {
   "cell_type": "code",
   "execution_count": 18,
   "id": "96e5b4f9",
   "metadata": {},
   "outputs": [
    {
     "data": {
      "text/plain": [
       "array([[-0.07414449, -0.34220532, -0.21102662,  0.42585551],\n",
       "       [ 0.16920152,  0.31939163,  0.09695817, -0.33079848],\n",
       "       [-0.03802281,  0.20912548,  0.04562738, -0.03802281],\n",
       "       [ 0.10456274,  0.17490494,  0.37452471, -0.39543726]])"
      ]
     },
     "execution_count": 18,
     "metadata": {},
     "output_type": "execute_result"
    }
   ],
   "source": [
    "np.linalg.inv(new) #матрица обратимая"
   ]
  },
  {
   "cell_type": "code",
   "execution_count": 19,
   "id": "4c1ae5e4",
   "metadata": {},
   "outputs": [
    {
     "data": {
      "text/plain": [
       "4"
      ]
     },
     "execution_count": 19,
     "metadata": {},
     "output_type": "execute_result"
    }
   ],
   "source": [
    "np.linalg.matrix_rank(new) #ранг матрицы не меньше 4"
   ]
  },
  {
   "cell_type": "markdown",
   "id": "ab7af3eb",
   "metadata": {},
   "source": [
    "Случайно сгенерованнная матрица оказалась невыроженной и обратимой (вероятность, что она окажется вырожденной или необратимой была очень низкой) "
   ]
  },
  {
   "cell_type": "code",
   "execution_count": 20,
   "id": "305848dc",
   "metadata": {},
   "outputs": [],
   "source": [
    "data_new=features.values @ new "
   ]
  },
  {
   "cell_type": "code",
   "execution_count": 21,
   "id": "e6ec0255",
   "metadata": {},
   "outputs": [
    {
     "name": "stdout",
     "output_type": "stream",
     "text": [
      "[[347.   93.  409.4 254. ]\n",
      " [290.   95.  388.  193. ]\n",
      " [163.   58.  229.  105. ]\n",
      " ...\n",
      " [225.5  46.  247.6 175.5]\n",
      " [240.5  61.  258.8 175.5]\n",
      " [276.   67.  308.4 209. ]]\n"
     ]
    }
   ],
   "source": [
    "print(data_new)"
   ]
  },
  {
   "cell_type": "code",
   "execution_count": 22,
   "id": "c04fc93f",
   "metadata": {},
   "outputs": [],
   "source": [
    "data_new_df=pd.DataFrame(data_new, columns=['gender','age','salary','family_members'])"
   ]
  },
  {
   "cell_type": "code",
   "execution_count": 23,
   "id": "49eb160f",
   "metadata": {},
   "outputs": [],
   "source": [
    "data_new_df['insurance_payments']=data['insurance_payments']"
   ]
  },
  {
   "cell_type": "code",
   "execution_count": 24,
   "id": "099a320e",
   "metadata": {},
   "outputs": [
    {
     "name": "stdout",
     "output_type": "stream",
     "text": [
      "   gender   age  salary  family_members  insurance_payments\n",
      "0   347.0  93.0   409.4           254.0                   0\n",
      "1   290.0  95.0   388.0           193.0                   1\n",
      "2   163.0  58.0   229.0           105.0                   0\n",
      "3   266.5  48.0   283.8           214.5                   0\n",
      "4   195.5  64.0   244.4           133.5                   0\n",
      "   gender   age  salary  family_members  insurance_payments\n",
      "0       1  41.0    49.6               1                   0\n",
      "1       0  46.0    38.0               1                   1\n",
      "2       0  29.0    21.0               0                   0\n",
      "3       0  21.0    41.7               2                   0\n",
      "4       1  28.0    26.1               0                   0\n"
     ]
    }
   ],
   "source": [
    "print(data_new_df.head())\n",
    "print(data.head())"
   ]
  },
  {
   "cell_type": "code",
   "execution_count": 25,
   "id": "0d845196",
   "metadata": {},
   "outputs": [],
   "source": [
    "features = data_new_df.drop('insurance_payments', axis=1)\n",
    "target = data_new_df['insurance_payments']"
   ]
  },
  {
   "cell_type": "code",
   "execution_count": 26,
   "id": "448320f1",
   "metadata": {},
   "outputs": [],
   "source": [
    "features_train, features_test, target_train, target_test = train_test_split(\n",
    "    features, target, test_size=0.25, random_state=12345)"
   ]
  },
  {
   "cell_type": "code",
   "execution_count": 27,
   "id": "9e0bc6b9",
   "metadata": {},
   "outputs": [
    {
     "name": "stdout",
     "output_type": "stream",
     "text": [
      "При умножении на не вырожденную матрицу\n",
      "r2_score= 0.4352275712702621\n"
     ]
    }
   ],
   "source": [
    "\n",
    "class LinearRegression:\n",
    "    def fit(self, train_features, train_target):\n",
    "        X = np.concatenate((np.ones((train_features.shape[0], 1)), train_features), axis=1)\n",
    "        y = train_target\n",
    "        w = np.linalg.inv(X.T.dot(X)).dot(X.T).dot(y)\n",
    "        self.w = w[1:]\n",
    "        self.w0 = w[0]\n",
    "        return self.w,self.w0\n",
    "    def predict(self, test_features):\n",
    "        return test_features.dot(self.w) + self.w0\n",
    "    \n",
    "model = LinearRegression()\n",
    "f=model.fit(features_train, target_train)\n",
    "predictions = model.predict(features_test)\n",
    "print(\"При умножении на не вырожденную матрицу\")\n",
    "print('r2_score=',r2_score(target_test, predictions))\n",
    "\n",
    "w_modified=f[0]\n",
    "w0_modified=f[1]"
   ]
  },
  {
   "cell_type": "markdown",
   "id": "7a786e4e",
   "metadata": {},
   "source": [
    "Теперь возьмем вырожденную матрицу, добавив высокую степень корреляции между элементами матрицы."
   ]
  },
  {
   "cell_type": "code",
   "execution_count": 28,
   "id": "4810c3e3",
   "metadata": {},
   "outputs": [],
   "source": [
    "new = np.array([\n",
    "    [0.2, 1.2, 2,4],\n",
    "    [0.5, 0.8, 3,6],\n",
    "    [0.8, 1.6, 4,8],\n",
    "[0.8, 1.6, 5,10]])\n"
   ]
  },
  {
   "cell_type": "code",
   "execution_count": 29,
   "id": "2d5e10b0",
   "metadata": {},
   "outputs": [
    {
     "name": "stdout",
     "output_type": "stream",
     "text": [
      "[[ 0.2  1.2  2.   4. ]\n",
      " [ 0.5  0.8  3.   6. ]\n",
      " [ 0.8  1.6  4.   8. ]\n",
      " [ 0.8  1.6  5.  10. ]]\n"
     ]
    }
   ],
   "source": [
    "print(new)"
   ]
  },
  {
   "cell_type": "code",
   "execution_count": 30,
   "id": "37747b65",
   "metadata": {},
   "outputs": [
    {
     "data": {
      "text/plain": [
       "0.0"
      ]
     },
     "execution_count": 30,
     "metadata": {},
     "output_type": "execute_result"
    }
   ],
   "source": [
    "linalg.det(new)"
   ]
  },
  {
   "cell_type": "code",
   "execution_count": 31,
   "id": "fe1c7718",
   "metadata": {},
   "outputs": [],
   "source": [
    "features = data.drop('insurance_payments', axis=1)\n",
    "target = data['insurance_payments']"
   ]
  },
  {
   "cell_type": "code",
   "execution_count": 32,
   "id": "42eba249",
   "metadata": {},
   "outputs": [],
   "source": [
    "data_new=features.values @ new "
   ]
  },
  {
   "cell_type": "code",
   "execution_count": 33,
   "id": "0ab50de5",
   "metadata": {},
   "outputs": [],
   "source": [
    "data_new_df=pd.DataFrame(data_new, columns=['gender','age','salary','family_members'])"
   ]
  },
  {
   "cell_type": "code",
   "execution_count": 34,
   "id": "eed6ff55",
   "metadata": {},
   "outputs": [],
   "source": [
    "data_new_df['insurance_payments']=data['insurance_payments']"
   ]
  },
  {
   "cell_type": "code",
   "execution_count": 35,
   "id": "83cca261",
   "metadata": {},
   "outputs": [],
   "source": [
    "features = data_new_df.drop('insurance_payments', axis=1)\n",
    "target = data_new_df['insurance_payments']"
   ]
  },
  {
   "cell_type": "code",
   "execution_count": 36,
   "id": "0276f6d9",
   "metadata": {},
   "outputs": [],
   "source": [
    "features_train, features_test, target_train, target_test = train_test_split(\n",
    "    features, target, test_size=0.25, random_state=12345)"
   ]
  },
  {
   "cell_type": "code",
   "execution_count": 37,
   "id": "9be958de",
   "metadata": {},
   "outputs": [
    {
     "name": "stdout",
     "output_type": "stream",
     "text": [
      "При умножении на вырожденную матрицу\n",
      "r2_score= 0.4239561081586166\n"
     ]
    }
   ],
   "source": [
    "\n",
    "class LinearRegression:\n",
    "    def fit(self, train_features, train_target):\n",
    "        X = np.concatenate((np.ones((train_features.shape[0], 1)), train_features), axis=1)\n",
    "        y = train_target\n",
    "        w = np.linalg.pinv(X.T.dot(X)).dot(X.T).dot(y)\n",
    "        self.w = w[1:]\n",
    "        self.w0 = w[0]\n",
    "        return self.w,self.w0\n",
    "    def predict(self, test_features):\n",
    "        return test_features.dot(self.w) + self.w0\n",
    "    \n",
    "model = LinearRegression()\n",
    "f=model.fit(features_train, target_train)\n",
    "predictions = model.predict(features_test)\n",
    "print(\"При умножении на вырожденную матрицу\")\n",
    "print('r2_score=',r2_score(target_test, predictions))\n"
   ]
  },
  {
   "cell_type": "markdown",
   "id": "2c3ab520",
   "metadata": {},
   "source": [
    "Цель - максимизация R2, при умножении на вырожденному матрицу, качество модели снижается. "
   ]
  },
  {
   "cell_type": "markdown",
   "id": "ecfe4b53",
   "metadata": {},
   "source": [
    "### Алгоритм преобразования"
   ]
  },
  {
   "cell_type": "markdown",
   "id": "f41c1721",
   "metadata": {},
   "source": [
    "В качестве ключа будем использовать матрицу new. \n",
    "Посмотрим как связаны матрица признаков исходной и преобразованной матрицы.  "
   ]
  },
  {
   "cell_type": "markdown",
   "id": "d9a65720",
   "metadata": {},
   "source": [
    "Мы обучили модель линейной регрессии на матрице признаков $features.values$.   \n",
    "Мы получили веса $w__original$ и $w0__original$.  \n",
    "Получается целевой признак $target.values$ получается по следующей формуле:  \n",
    "\n",
    "$$ features.values @ w__original + w0__original  $$ \n",
    "\n",
    "Потом матрицу признаков $features.values$ мы умножили на матрицу-ключ $new$.    \n",
    "Когда мы преобразовали матрицу признаков, умножив ее на $new$,  то получили новые веса $w__modified$ и $w0__modified$.    \n",
    "\n",
    "\n",
    "Получается, целевой признак $target.values$ получается по следующей формуле:  \n",
    "\n",
    "\n",
    "$$features.values__modified @ w_modified + w0_modified$$  \n",
    "\n",
    "$$ features.values__modified = features.values @ new $$\n",
    "Получается:  \n",
    "\n",
    "$$features.values @ w__original + w0__original = features.values @ new @ w__modified + w0__modified$$"
   ]
  },
  {
   "cell_type": "markdown",
   "id": "c3c6696e",
   "metadata": {},
   "source": [
    "Видим,что коэффициенты w0_modified и w0_original почти равны, поэтому их можно удалить из формулы доказательства.\n"
   ]
  },
  {
   "cell_type": "markdown",
   "id": "e5f6c665",
   "metadata": {},
   "source": [
    "$$ features.values @ w__original = features.values @ new @ w__modified  $$\n",
    "если сократить слева и справа уравнения $features.values$, то получается следующая формула:      \n",
    "$$w__original= new @ w__modified $$ \n",
    "Так как матрица new квадратная, то получается:    \n",
    "$$w__modified= w__original @ (new)^{-1}  $$"
   ]
  },
  {
   "cell_type": "code",
   "execution_count": 38,
   "id": "c81f0f35",
   "metadata": {},
   "outputs": [
    {
     "name": "stdout",
     "output_type": "stream",
     "text": [
      "3.107514245925813e-13\n"
     ]
    }
   ],
   "source": [
    "print(w0_modified-w0_original) #разница очень маленькая"
   ]
  },
  {
   "cell_type": "markdown",
   "id": "220a4932",
   "metadata": {},
   "source": [
    "### Проверка алгоритма"
   ]
  },
  {
   "cell_type": "markdown",
   "id": "44ea34b2",
   "metadata": {},
   "source": [
    "Попробуем расшифровать данные, получив из преобразованной матрицы исходную."
   ]
  },
  {
   "cell_type": "code",
   "execution_count": 39,
   "id": "905e5a36",
   "metadata": {},
   "outputs": [],
   "source": [
    "new = np.random.randint(10,size = (4,4))"
   ]
  },
  {
   "cell_type": "code",
   "execution_count": 40,
   "id": "2c2d2ef3",
   "metadata": {},
   "outputs": [],
   "source": [
    "features = data.drop('insurance_payments', axis=1)"
   ]
  },
  {
   "cell_type": "code",
   "execution_count": 41,
   "id": "099605c6",
   "metadata": {},
   "outputs": [],
   "source": [
    "data_new=features.values@new"
   ]
  },
  {
   "cell_type": "code",
   "execution_count": 42,
   "id": "98ae2874",
   "metadata": {},
   "outputs": [],
   "source": [
    "features_1=data_new @ np.linalg.inv(new) "
   ]
  },
  {
   "cell_type": "code",
   "execution_count": 43,
   "id": "81722509",
   "metadata": {},
   "outputs": [
    {
     "name": "stdout",
     "output_type": "stream",
     "text": [
      "[[ 1.  41.  49.6  1. ]\n",
      " [-0.  46.  38.   1. ]\n",
      " [ 0.  29.  21.   0. ]\n",
      " ...\n",
      " [-0.  20.  33.9  2. ]\n",
      " [ 1.  22.  32.7  3. ]\n",
      " [ 1.  28.  40.6  1. ]]\n",
      "[[ 1.  41.  49.6  1. ]\n",
      " [ 0.  46.  38.   1. ]\n",
      " [ 0.  29.  21.   0. ]\n",
      " ...\n",
      " [ 0.  20.  33.9  2. ]\n",
      " [ 1.  22.  32.7  3. ]\n",
      " [ 1.  28.  40.6  1. ]]\n",
      "[[ 0.  0.  0.  0.]\n",
      " [-0.  0.  0.  0.]\n",
      " [ 0.  0.  0.  0.]\n",
      " ...\n",
      " [-0.  0.  0.  0.]\n",
      " [ 0.  0.  0.  0.]\n",
      " [ 0.  0.  0.  0.]]\n"
     ]
    }
   ],
   "source": [
    "print(features_1.round(3)) #небольшая поправка на погрешность модели\n",
    "print(features.values)\n",
    "print(features_1.round(3)-features.values)  \n",
    "# все элементы матрицы признаков совпали, то есть из преобразованной матрицы можно получить исходную, зная ключ\n"
   ]
  },
  {
   "cell_type": "markdown",
   "id": "6e975079",
   "metadata": {},
   "source": [
    "###  Чек-лист проверки"
   ]
  },
  {
   "cell_type": "markdown",
   "id": "c69e2f52",
   "metadata": {},
   "source": [
    "- [x]  Jupyter Notebook открыт\n",
    "- [X]  Весь код выполняется без ошибок\n",
    "- [X]  Ячейки с кодом расположены в порядке исполнения\n",
    "- [X]  Выполнен шаг 1: данные загружены\n",
    "- [X]  Выполнен шаг 2: получен ответ на вопрос об умножении матриц\n",
    "    - [X]  Указан правильный вариант ответа\n",
    "    - [X]  Вариант обоснован\n",
    "- [X]  Выполнен шаг 3: предложен алгоритм преобразования\n",
    "    - [X]  Алгоритм описан\n",
    "    - [X]  Алгоритм обоснован\n",
    "- [X]  Выполнен шаг 4: алгоритм провере\n",
    "    - [X]  Алгоритм реализован\n",
    "    - [X]  Проведено сравнение качества моделей до и после преобразования"
   ]
  },
  {
   "cell_type": "markdown",
   "id": "64bb453e",
   "metadata": {},
   "source": [
    "Общий вывод:  \n",
    "    Мы проанализировали данные и нашли способ преобразования исходных данных, который позволяет защитить данные.  \n",
    "    Данный алгоритм преобразования не ухуджает качество модели предсказания. Качество мы проверями метрикой R2.  \n",
    "    Метрика R2=0.435   \n",
    "    В качестве модели была рассмотрена модель линейной регрессии.  \n",
    "    В качестве алгоритма преобразования выбрано умножение на квадратную невырожденную матрицу.  \n",
    "    Также выполнено обратное преобразование с целью проверить возможность восстановить исходные данные, зная ключ.  \n",
    "    Восстановить исходные данные удалось.  \n",
    "     "
   ]
  }
 ],
 "metadata": {
  "ExecuteTimeLog": [
   {
    "duration": 110,
    "start_time": "2023-02-17T17:54:06.496Z"
   },
   {
    "duration": 1586,
    "start_time": "2023-02-18T11:41:54.194Z"
   },
   {
    "duration": 155,
    "start_time": "2023-02-18T11:41:55.784Z"
   },
   {
    "duration": 0,
    "start_time": "2023-02-18T11:41:55.942Z"
   },
   {
    "duration": 0,
    "start_time": "2023-02-18T11:41:55.943Z"
   },
   {
    "duration": 0,
    "start_time": "2023-02-18T11:41:55.944Z"
   },
   {
    "duration": 0,
    "start_time": "2023-02-18T11:41:55.945Z"
   },
   {
    "duration": 0,
    "start_time": "2023-02-18T11:41:55.946Z"
   },
   {
    "duration": 0,
    "start_time": "2023-02-18T11:41:55.947Z"
   },
   {
    "duration": 0,
    "start_time": "2023-02-18T11:41:55.948Z"
   },
   {
    "duration": 0,
    "start_time": "2023-02-18T11:41:55.948Z"
   },
   {
    "duration": 0,
    "start_time": "2023-02-18T11:41:55.949Z"
   },
   {
    "duration": 0,
    "start_time": "2023-02-18T11:41:55.951Z"
   },
   {
    "duration": 0,
    "start_time": "2023-02-18T11:41:55.952Z"
   },
   {
    "duration": 0,
    "start_time": "2023-02-18T11:41:55.952Z"
   },
   {
    "duration": 0,
    "start_time": "2023-02-18T11:41:55.953Z"
   },
   {
    "duration": 0,
    "start_time": "2023-02-18T11:41:55.954Z"
   },
   {
    "duration": 0,
    "start_time": "2023-02-18T11:41:55.955Z"
   },
   {
    "duration": 0,
    "start_time": "2023-02-18T11:41:55.969Z"
   },
   {
    "duration": 0,
    "start_time": "2023-02-18T11:41:55.970Z"
   },
   {
    "duration": 0,
    "start_time": "2023-02-18T11:41:55.970Z"
   },
   {
    "duration": 0,
    "start_time": "2023-02-18T11:41:55.973Z"
   },
   {
    "duration": 0,
    "start_time": "2023-02-18T11:41:55.975Z"
   },
   {
    "duration": 0,
    "start_time": "2023-02-18T11:41:55.976Z"
   },
   {
    "duration": 0,
    "start_time": "2023-02-18T11:41:55.977Z"
   },
   {
    "duration": 0,
    "start_time": "2023-02-18T11:41:55.977Z"
   },
   {
    "duration": 0,
    "start_time": "2023-02-18T11:41:55.978Z"
   },
   {
    "duration": 0,
    "start_time": "2023-02-18T11:41:55.979Z"
   },
   {
    "duration": 0,
    "start_time": "2023-02-18T11:41:55.980Z"
   },
   {
    "duration": 0,
    "start_time": "2023-02-18T11:41:55.981Z"
   },
   {
    "duration": 0,
    "start_time": "2023-02-18T11:41:55.982Z"
   },
   {
    "duration": 0,
    "start_time": "2023-02-18T11:41:55.982Z"
   },
   {
    "duration": 0,
    "start_time": "2023-02-18T11:41:55.983Z"
   },
   {
    "duration": 0,
    "start_time": "2023-02-18T11:41:55.984Z"
   },
   {
    "duration": 0,
    "start_time": "2023-02-18T11:41:55.985Z"
   },
   {
    "duration": 0,
    "start_time": "2023-02-18T11:41:55.986Z"
   },
   {
    "duration": 0,
    "start_time": "2023-02-18T11:41:55.987Z"
   },
   {
    "duration": 0,
    "start_time": "2023-02-18T11:41:55.987Z"
   },
   {
    "duration": 0,
    "start_time": "2023-02-18T11:41:55.988Z"
   },
   {
    "duration": 0,
    "start_time": "2023-02-18T11:41:55.989Z"
   },
   {
    "duration": 0,
    "start_time": "2023-02-18T11:41:55.990Z"
   },
   {
    "duration": 0,
    "start_time": "2023-02-18T11:41:55.991Z"
   },
   {
    "duration": 0,
    "start_time": "2023-02-18T11:41:55.993Z"
   },
   {
    "duration": 0,
    "start_time": "2023-02-18T11:41:55.994Z"
   },
   {
    "duration": 0,
    "start_time": "2023-02-18T11:41:55.995Z"
   },
   {
    "duration": 1558,
    "start_time": "2023-02-18T11:42:53.046Z"
   },
   {
    "duration": 97,
    "start_time": "2023-02-18T11:42:54.605Z"
   },
   {
    "duration": 3,
    "start_time": "2023-02-18T11:42:54.704Z"
   },
   {
    "duration": 41,
    "start_time": "2023-02-18T11:42:54.709Z"
   },
   {
    "duration": 39,
    "start_time": "2023-02-18T11:42:54.752Z"
   },
   {
    "duration": 40,
    "start_time": "2023-02-18T11:42:54.795Z"
   },
   {
    "duration": 23,
    "start_time": "2023-02-18T11:42:54.837Z"
   },
   {
    "duration": 50,
    "start_time": "2023-02-18T11:42:54.862Z"
   },
   {
    "duration": 23,
    "start_time": "2023-02-18T11:42:54.914Z"
   },
   {
    "duration": 40,
    "start_time": "2023-02-18T11:42:54.941Z"
   },
   {
    "duration": 28,
    "start_time": "2023-02-18T11:42:54.986Z"
   },
   {
    "duration": 29,
    "start_time": "2023-02-18T11:42:55.017Z"
   },
   {
    "duration": 36,
    "start_time": "2023-02-18T11:42:55.049Z"
   },
   {
    "duration": 50,
    "start_time": "2023-02-18T11:42:55.087Z"
   },
   {
    "duration": 135,
    "start_time": "2023-02-18T11:42:55.139Z"
   },
   {
    "duration": 24,
    "start_time": "2023-02-18T11:42:55.280Z"
   },
   {
    "duration": 55,
    "start_time": "2023-02-18T11:42:55.306Z"
   },
   {
    "duration": 41,
    "start_time": "2023-02-18T11:42:55.363Z"
   },
   {
    "duration": 168,
    "start_time": "2023-02-18T11:42:55.406Z"
   },
   {
    "duration": 65,
    "start_time": "2023-02-18T11:42:55.576Z"
   },
   {
    "duration": 57,
    "start_time": "2023-02-18T11:42:55.642Z"
   },
   {
    "duration": 42,
    "start_time": "2023-02-18T11:42:55.700Z"
   },
   {
    "duration": 72,
    "start_time": "2023-02-18T11:42:55.744Z"
   },
   {
    "duration": 39,
    "start_time": "2023-02-18T11:42:55.817Z"
   },
   {
    "duration": 34,
    "start_time": "2023-02-18T11:42:55.857Z"
   },
   {
    "duration": 51,
    "start_time": "2023-02-18T11:42:55.893Z"
   },
   {
    "duration": 57,
    "start_time": "2023-02-18T11:42:55.945Z"
   },
   {
    "duration": 62,
    "start_time": "2023-02-18T11:42:56.011Z"
   },
   {
    "duration": 94,
    "start_time": "2023-02-18T11:42:56.075Z"
   },
   {
    "duration": 5,
    "start_time": "2023-02-18T11:42:56.171Z"
   },
   {
    "duration": 260,
    "start_time": "2023-02-18T11:42:56.177Z"
   },
   {
    "duration": 0,
    "start_time": "2023-02-18T11:42:56.439Z"
   },
   {
    "duration": 0,
    "start_time": "2023-02-18T11:42:56.440Z"
   },
   {
    "duration": 0,
    "start_time": "2023-02-18T11:42:56.442Z"
   },
   {
    "duration": 0,
    "start_time": "2023-02-18T11:42:56.443Z"
   },
   {
    "duration": 0,
    "start_time": "2023-02-18T11:42:56.444Z"
   },
   {
    "duration": 0,
    "start_time": "2023-02-18T11:42:56.445Z"
   },
   {
    "duration": 0,
    "start_time": "2023-02-18T11:42:56.446Z"
   },
   {
    "duration": 0,
    "start_time": "2023-02-18T11:42:56.447Z"
   },
   {
    "duration": 0,
    "start_time": "2023-02-18T11:42:56.448Z"
   },
   {
    "duration": 0,
    "start_time": "2023-02-18T11:42:56.450Z"
   },
   {
    "duration": 0,
    "start_time": "2023-02-18T11:42:56.450Z"
   },
   {
    "duration": 0,
    "start_time": "2023-02-18T11:42:56.451Z"
   },
   {
    "duration": 0,
    "start_time": "2023-02-18T11:42:56.452Z"
   },
   {
    "duration": 4,
    "start_time": "2023-02-18T11:43:22.543Z"
   },
   {
    "duration": 3,
    "start_time": "2023-02-18T11:43:24.857Z"
   },
   {
    "duration": 3,
    "start_time": "2023-02-18T11:43:26.309Z"
   },
   {
    "duration": 3,
    "start_time": "2023-02-18T11:43:27.584Z"
   },
   {
    "duration": 4,
    "start_time": "2023-02-18T11:43:28.928Z"
   },
   {
    "duration": 5,
    "start_time": "2023-02-18T11:43:30.209Z"
   },
   {
    "duration": 103,
    "start_time": "2023-02-18T11:43:31.257Z"
   },
   {
    "duration": 3,
    "start_time": "2023-02-18T11:43:57.684Z"
   },
   {
    "duration": 4,
    "start_time": "2023-02-18T11:43:59.180Z"
   },
   {
    "duration": 6,
    "start_time": "2023-02-18T11:44:00.679Z"
   },
   {
    "duration": 4,
    "start_time": "2023-02-18T11:44:02.032Z"
   },
   {
    "duration": 3,
    "start_time": "2023-02-18T11:44:03.145Z"
   },
   {
    "duration": 3,
    "start_time": "2023-02-18T11:44:05.505Z"
   },
   {
    "duration": 4,
    "start_time": "2023-02-18T11:44:06.759Z"
   },
   {
    "duration": 5,
    "start_time": "2023-02-18T11:44:07.871Z"
   },
   {
    "duration": 10,
    "start_time": "2023-02-18T11:44:09.070Z"
   },
   {
    "duration": 111,
    "start_time": "2023-02-18T11:44:10.918Z"
   },
   {
    "duration": 3,
    "start_time": "2023-02-18T11:45:36.756Z"
   },
   {
    "duration": 3,
    "start_time": "2023-02-18T11:45:40.828Z"
   },
   {
    "duration": 3,
    "start_time": "2023-02-18T11:45:42.036Z"
   },
   {
    "duration": 4,
    "start_time": "2023-02-18T11:45:43.360Z"
   },
   {
    "duration": 16,
    "start_time": "2023-02-18T11:45:44.469Z"
   },
   {
    "duration": 6,
    "start_time": "2023-02-18T11:45:46.253Z"
   },
   {
    "duration": 50,
    "start_time": "2023-02-18T12:16:33.727Z"
   },
   {
    "duration": 1059,
    "start_time": "2023-02-18T12:16:36.316Z"
   },
   {
    "duration": 503,
    "start_time": "2023-02-18T12:16:38.049Z"
   },
   {
    "duration": 1006,
    "start_time": "2023-02-18T12:16:48.853Z"
   },
   {
    "duration": 352,
    "start_time": "2023-02-18T12:16:49.861Z"
   },
   {
    "duration": 4,
    "start_time": "2023-02-18T12:16:50.214Z"
   },
   {
    "duration": 14,
    "start_time": "2023-02-18T12:16:50.220Z"
   },
   {
    "duration": 830,
    "start_time": "2023-02-18T12:16:50.236Z"
   },
   {
    "duration": 0,
    "start_time": "2023-02-18T12:16:51.069Z"
   },
   {
    "duration": 0,
    "start_time": "2023-02-18T12:16:51.070Z"
   },
   {
    "duration": 0,
    "start_time": "2023-02-18T12:16:51.071Z"
   },
   {
    "duration": 0,
    "start_time": "2023-02-18T12:16:51.072Z"
   },
   {
    "duration": 0,
    "start_time": "2023-02-18T12:16:51.073Z"
   },
   {
    "duration": 0,
    "start_time": "2023-02-18T12:16:51.074Z"
   },
   {
    "duration": 0,
    "start_time": "2023-02-18T12:16:51.075Z"
   },
   {
    "duration": 0,
    "start_time": "2023-02-18T12:16:51.076Z"
   },
   {
    "duration": 0,
    "start_time": "2023-02-18T12:16:51.077Z"
   },
   {
    "duration": 0,
    "start_time": "2023-02-18T12:16:51.078Z"
   },
   {
    "duration": 0,
    "start_time": "2023-02-18T12:16:51.079Z"
   },
   {
    "duration": 0,
    "start_time": "2023-02-18T12:16:51.080Z"
   },
   {
    "duration": 0,
    "start_time": "2023-02-18T12:16:51.081Z"
   },
   {
    "duration": 0,
    "start_time": "2023-02-18T12:16:51.081Z"
   },
   {
    "duration": 0,
    "start_time": "2023-02-18T12:16:51.082Z"
   },
   {
    "duration": 0,
    "start_time": "2023-02-18T12:16:51.083Z"
   },
   {
    "duration": 0,
    "start_time": "2023-02-18T12:16:51.084Z"
   },
   {
    "duration": 0,
    "start_time": "2023-02-18T12:16:51.085Z"
   },
   {
    "duration": 0,
    "start_time": "2023-02-18T12:16:51.085Z"
   },
   {
    "duration": 0,
    "start_time": "2023-02-18T12:16:51.086Z"
   },
   {
    "duration": 0,
    "start_time": "2023-02-18T12:16:51.087Z"
   },
   {
    "duration": 0,
    "start_time": "2023-02-18T12:16:51.088Z"
   },
   {
    "duration": 0,
    "start_time": "2023-02-18T12:16:51.089Z"
   },
   {
    "duration": 0,
    "start_time": "2023-02-18T12:16:51.090Z"
   },
   {
    "duration": 0,
    "start_time": "2023-02-18T12:16:51.091Z"
   },
   {
    "duration": 0,
    "start_time": "2023-02-18T12:16:51.092Z"
   },
   {
    "duration": 0,
    "start_time": "2023-02-18T12:16:51.093Z"
   },
   {
    "duration": 0,
    "start_time": "2023-02-18T12:16:51.094Z"
   },
   {
    "duration": 0,
    "start_time": "2023-02-18T12:16:51.094Z"
   },
   {
    "duration": 0,
    "start_time": "2023-02-18T12:16:51.095Z"
   },
   {
    "duration": 0,
    "start_time": "2023-02-18T12:16:51.096Z"
   },
   {
    "duration": 0,
    "start_time": "2023-02-18T12:16:51.097Z"
   },
   {
    "duration": 0,
    "start_time": "2023-02-18T12:16:51.098Z"
   },
   {
    "duration": 0,
    "start_time": "2023-02-18T12:16:51.099Z"
   },
   {
    "duration": 0,
    "start_time": "2023-02-18T12:16:51.100Z"
   },
   {
    "duration": 0,
    "start_time": "2023-02-18T12:16:51.101Z"
   },
   {
    "duration": 0,
    "start_time": "2023-02-18T12:16:51.102Z"
   },
   {
    "duration": 0,
    "start_time": "2023-02-18T12:16:51.103Z"
   },
   {
    "duration": 1021,
    "start_time": "2023-02-18T12:17:53.558Z"
   },
   {
    "duration": 131,
    "start_time": "2023-02-18T12:17:54.581Z"
   },
   {
    "duration": 3,
    "start_time": "2023-02-18T12:17:54.713Z"
   },
   {
    "duration": 18,
    "start_time": "2023-02-18T12:17:54.718Z"
   },
   {
    "duration": 10,
    "start_time": "2023-02-18T12:17:54.737Z"
   },
   {
    "duration": 8,
    "start_time": "2023-02-18T12:17:54.749Z"
   },
   {
    "duration": 6,
    "start_time": "2023-02-18T12:17:54.758Z"
   },
   {
    "duration": 11,
    "start_time": "2023-02-18T12:17:54.765Z"
   },
   {
    "duration": 38,
    "start_time": "2023-02-18T12:17:54.778Z"
   },
   {
    "duration": 6,
    "start_time": "2023-02-18T12:17:54.820Z"
   },
   {
    "duration": 7,
    "start_time": "2023-02-18T12:17:54.828Z"
   },
   {
    "duration": 5,
    "start_time": "2023-02-18T12:17:54.837Z"
   },
   {
    "duration": 7,
    "start_time": "2023-02-18T12:17:54.843Z"
   },
   {
    "duration": 58,
    "start_time": "2023-02-18T12:17:54.852Z"
   },
   {
    "duration": 9,
    "start_time": "2023-02-18T12:17:54.912Z"
   },
   {
    "duration": 88,
    "start_time": "2023-02-18T12:17:54.924Z"
   },
   {
    "duration": 10,
    "start_time": "2023-02-18T12:17:55.013Z"
   },
   {
    "duration": 8,
    "start_time": "2023-02-18T12:17:55.025Z"
   },
   {
    "duration": 76,
    "start_time": "2023-02-18T12:17:55.035Z"
   },
   {
    "duration": 7,
    "start_time": "2023-02-18T12:17:55.114Z"
   },
   {
    "duration": 88,
    "start_time": "2023-02-18T12:17:55.123Z"
   },
   {
    "duration": 4,
    "start_time": "2023-02-18T12:17:55.213Z"
   },
   {
    "duration": 6,
    "start_time": "2023-02-18T12:17:55.219Z"
   },
   {
    "duration": 10,
    "start_time": "2023-02-18T12:17:55.226Z"
   },
   {
    "duration": 8,
    "start_time": "2023-02-18T12:17:55.238Z"
   },
   {
    "duration": 6,
    "start_time": "2023-02-18T12:17:55.248Z"
   },
   {
    "duration": 56,
    "start_time": "2023-02-18T12:17:55.255Z"
   },
   {
    "duration": 8,
    "start_time": "2023-02-18T12:17:55.315Z"
   },
   {
    "duration": 84,
    "start_time": "2023-02-18T12:17:55.331Z"
   },
   {
    "duration": 6,
    "start_time": "2023-02-18T12:17:55.416Z"
   },
   {
    "duration": 5,
    "start_time": "2023-02-18T12:17:55.423Z"
   },
   {
    "duration": 5,
    "start_time": "2023-02-18T12:17:55.429Z"
   },
   {
    "duration": 3,
    "start_time": "2023-02-18T12:17:55.436Z"
   },
   {
    "duration": 4,
    "start_time": "2023-02-18T12:17:55.441Z"
   },
   {
    "duration": 5,
    "start_time": "2023-02-18T12:17:55.447Z"
   },
   {
    "duration": 57,
    "start_time": "2023-02-18T12:17:55.454Z"
   },
   {
    "duration": 174,
    "start_time": "2023-02-18T12:17:55.513Z"
   },
   {
    "duration": 0,
    "start_time": "2023-02-18T12:17:55.688Z"
   },
   {
    "duration": 0,
    "start_time": "2023-02-18T12:17:55.689Z"
   },
   {
    "duration": 0,
    "start_time": "2023-02-18T12:17:55.690Z"
   },
   {
    "duration": 0,
    "start_time": "2023-02-18T12:17:55.691Z"
   },
   {
    "duration": 0,
    "start_time": "2023-02-18T12:17:55.692Z"
   },
   {
    "duration": 0,
    "start_time": "2023-02-18T12:17:55.693Z"
   },
   {
    "duration": 1294,
    "start_time": "2023-02-18T12:25:22.693Z"
   },
   {
    "duration": 58,
    "start_time": "2023-02-18T12:25:23.989Z"
   },
   {
    "duration": 4,
    "start_time": "2023-02-18T12:25:24.048Z"
   },
   {
    "duration": 18,
    "start_time": "2023-02-18T12:25:24.054Z"
   },
   {
    "duration": 10,
    "start_time": "2023-02-18T12:25:24.074Z"
   },
   {
    "duration": 5,
    "start_time": "2023-02-18T12:25:24.086Z"
   },
   {
    "duration": 52,
    "start_time": "2023-02-18T12:25:24.093Z"
   },
   {
    "duration": 15,
    "start_time": "2023-02-18T12:25:24.147Z"
   },
   {
    "duration": 13,
    "start_time": "2023-02-18T12:25:24.165Z"
   },
   {
    "duration": 8,
    "start_time": "2023-02-18T12:25:24.179Z"
   },
   {
    "duration": 17,
    "start_time": "2023-02-18T12:25:24.189Z"
   },
   {
    "duration": 23,
    "start_time": "2023-02-18T12:25:24.207Z"
   },
   {
    "duration": 7,
    "start_time": "2023-02-18T12:25:24.232Z"
   },
   {
    "duration": 16,
    "start_time": "2023-02-18T12:25:24.243Z"
   },
   {
    "duration": 105,
    "start_time": "2023-02-18T12:25:24.310Z"
   },
   {
    "duration": 21,
    "start_time": "2023-02-18T12:25:24.416Z"
   },
   {
    "duration": 6,
    "start_time": "2023-02-18T12:25:24.438Z"
   },
   {
    "duration": 6,
    "start_time": "2023-02-18T12:25:24.446Z"
   },
   {
    "duration": 66,
    "start_time": "2023-02-18T12:25:24.455Z"
   },
   {
    "duration": 16,
    "start_time": "2023-02-18T12:25:24.523Z"
   },
   {
    "duration": 87,
    "start_time": "2023-02-18T12:25:24.543Z"
   },
   {
    "duration": 4,
    "start_time": "2023-02-18T12:25:24.633Z"
   },
   {
    "duration": 11,
    "start_time": "2023-02-18T12:25:24.639Z"
   },
   {
    "duration": 27,
    "start_time": "2023-02-18T12:25:24.652Z"
   },
   {
    "duration": 14,
    "start_time": "2023-02-18T12:25:24.681Z"
   },
   {
    "duration": 6,
    "start_time": "2023-02-18T12:25:24.697Z"
   },
   {
    "duration": 35,
    "start_time": "2023-02-18T12:25:24.705Z"
   },
   {
    "duration": 75,
    "start_time": "2023-02-18T12:25:24.742Z"
   },
   {
    "duration": 113,
    "start_time": "2023-02-18T12:25:24.820Z"
   },
   {
    "duration": 5,
    "start_time": "2023-02-18T12:25:24.935Z"
   },
   {
    "duration": 5,
    "start_time": "2023-02-18T12:25:24.941Z"
   },
   {
    "duration": 5,
    "start_time": "2023-02-18T12:25:24.947Z"
   },
   {
    "duration": 6,
    "start_time": "2023-02-18T12:25:24.953Z"
   },
   {
    "duration": 5,
    "start_time": "2023-02-18T12:25:24.960Z"
   },
   {
    "duration": 6,
    "start_time": "2023-02-18T12:25:24.966Z"
   },
   {
    "duration": 10,
    "start_time": "2023-02-18T12:25:24.974Z"
   },
   {
    "duration": 198,
    "start_time": "2023-02-18T12:25:24.986Z"
   },
   {
    "duration": 0,
    "start_time": "2023-02-18T12:25:25.186Z"
   },
   {
    "duration": 0,
    "start_time": "2023-02-18T12:25:25.188Z"
   },
   {
    "duration": 0,
    "start_time": "2023-02-18T12:25:25.188Z"
   },
   {
    "duration": 0,
    "start_time": "2023-02-18T12:25:25.189Z"
   },
   {
    "duration": 0,
    "start_time": "2023-02-18T12:25:25.190Z"
   },
   {
    "duration": 0,
    "start_time": "2023-02-18T12:25:25.191Z"
   },
   {
    "duration": 110,
    "start_time": "2023-02-18T12:37:49.593Z"
   },
   {
    "duration": 1096,
    "start_time": "2023-02-18T12:47:11.129Z"
   },
   {
    "duration": 45,
    "start_time": "2023-02-18T12:47:12.227Z"
   },
   {
    "duration": 4,
    "start_time": "2023-02-18T12:47:12.273Z"
   },
   {
    "duration": 8,
    "start_time": "2023-02-18T12:47:12.279Z"
   },
   {
    "duration": 8,
    "start_time": "2023-02-18T12:47:12.289Z"
   },
   {
    "duration": 4,
    "start_time": "2023-02-18T12:47:12.299Z"
   },
   {
    "duration": 5,
    "start_time": "2023-02-18T12:47:12.304Z"
   },
   {
    "duration": 27,
    "start_time": "2023-02-18T12:47:12.317Z"
   },
   {
    "duration": 12,
    "start_time": "2023-02-18T12:47:12.346Z"
   },
   {
    "duration": 6,
    "start_time": "2023-02-18T12:47:12.360Z"
   },
   {
    "duration": 8,
    "start_time": "2023-02-18T12:47:12.367Z"
   },
   {
    "duration": 4,
    "start_time": "2023-02-18T12:47:12.377Z"
   },
   {
    "duration": 36,
    "start_time": "2023-02-18T12:47:12.383Z"
   },
   {
    "duration": 14,
    "start_time": "2023-02-18T12:47:12.423Z"
   },
   {
    "duration": 77,
    "start_time": "2023-02-18T12:47:12.439Z"
   },
   {
    "duration": 9,
    "start_time": "2023-02-18T12:47:12.518Z"
   },
   {
    "duration": 89,
    "start_time": "2023-02-18T12:47:12.528Z"
   },
   {
    "duration": 17,
    "start_time": "2023-02-18T12:47:12.618Z"
   },
   {
    "duration": 12,
    "start_time": "2023-02-18T12:47:12.637Z"
   },
   {
    "duration": 9,
    "start_time": "2023-02-18T12:47:12.718Z"
   },
   {
    "duration": 99,
    "start_time": "2023-02-18T12:47:12.728Z"
   },
   {
    "duration": 6,
    "start_time": "2023-02-18T12:47:12.831Z"
   },
   {
    "duration": 8,
    "start_time": "2023-02-18T12:47:12.839Z"
   },
   {
    "duration": 8,
    "start_time": "2023-02-18T12:47:12.849Z"
   },
   {
    "duration": 10,
    "start_time": "2023-02-18T12:47:12.859Z"
   },
   {
    "duration": 6,
    "start_time": "2023-02-18T12:47:12.870Z"
   },
   {
    "duration": 41,
    "start_time": "2023-02-18T12:47:12.877Z"
   },
   {
    "duration": 10,
    "start_time": "2023-02-18T12:47:12.919Z"
   },
   {
    "duration": 115,
    "start_time": "2023-02-18T12:47:12.930Z"
   },
   {
    "duration": 3,
    "start_time": "2023-02-18T12:47:13.048Z"
   },
   {
    "duration": 18,
    "start_time": "2023-02-18T12:47:13.053Z"
   },
   {
    "duration": 15,
    "start_time": "2023-02-18T12:47:13.073Z"
   },
   {
    "duration": 4,
    "start_time": "2023-02-18T12:47:13.091Z"
   },
   {
    "duration": 5,
    "start_time": "2023-02-18T12:47:13.097Z"
   },
   {
    "duration": 26,
    "start_time": "2023-02-18T12:47:13.103Z"
   },
   {
    "duration": 13,
    "start_time": "2023-02-18T12:47:13.131Z"
   },
   {
    "duration": 9,
    "start_time": "2023-02-18T12:47:13.146Z"
   },
   {
    "duration": 6,
    "start_time": "2023-02-18T12:47:13.156Z"
   },
   {
    "duration": 11,
    "start_time": "2023-02-18T12:47:13.164Z"
   },
   {
    "duration": 40,
    "start_time": "2023-02-18T12:47:13.177Z"
   },
   {
    "duration": 15,
    "start_time": "2023-02-18T12:47:13.225Z"
   },
   {
    "duration": 12,
    "start_time": "2023-02-18T12:47:13.242Z"
   },
   {
    "duration": 6,
    "start_time": "2023-02-18T12:47:13.323Z"
   },
   {
    "duration": 1082,
    "start_time": "2023-02-18T12:54:00.311Z"
   },
   {
    "duration": 46,
    "start_time": "2023-02-18T12:54:01.395Z"
   },
   {
    "duration": 4,
    "start_time": "2023-02-18T12:54:01.442Z"
   },
   {
    "duration": 42,
    "start_time": "2023-02-18T12:54:01.448Z"
   },
   {
    "duration": 44,
    "start_time": "2023-02-18T12:54:01.492Z"
   },
   {
    "duration": 12,
    "start_time": "2023-02-18T12:54:01.537Z"
   },
   {
    "duration": 16,
    "start_time": "2023-02-18T12:54:01.552Z"
   },
   {
    "duration": 24,
    "start_time": "2023-02-18T12:54:01.570Z"
   },
   {
    "duration": 21,
    "start_time": "2023-02-18T12:54:01.595Z"
   },
   {
    "duration": 30,
    "start_time": "2023-02-18T12:54:01.618Z"
   },
   {
    "duration": 16,
    "start_time": "2023-02-18T12:54:01.650Z"
   },
   {
    "duration": 20,
    "start_time": "2023-02-18T12:54:01.669Z"
   },
   {
    "duration": 28,
    "start_time": "2023-02-18T12:54:01.690Z"
   },
   {
    "duration": 21,
    "start_time": "2023-02-18T12:54:01.721Z"
   },
   {
    "duration": 66,
    "start_time": "2023-02-18T12:54:01.744Z"
   },
   {
    "duration": 11,
    "start_time": "2023-02-18T12:54:01.812Z"
   },
   {
    "duration": 92,
    "start_time": "2023-02-18T12:54:01.825Z"
   },
   {
    "duration": 18,
    "start_time": "2023-02-18T12:54:01.919Z"
   },
   {
    "duration": 73,
    "start_time": "2023-02-18T12:54:01.939Z"
   },
   {
    "duration": 96,
    "start_time": "2023-02-18T12:54:02.014Z"
   },
   {
    "duration": 7,
    "start_time": "2023-02-18T12:54:02.112Z"
   },
   {
    "duration": 7,
    "start_time": "2023-02-18T12:54:02.120Z"
   },
   {
    "duration": 16,
    "start_time": "2023-02-18T12:54:02.129Z"
   },
   {
    "duration": 16,
    "start_time": "2023-02-18T12:54:02.147Z"
   },
   {
    "duration": 13,
    "start_time": "2023-02-18T12:54:02.165Z"
   },
   {
    "duration": 9,
    "start_time": "2023-02-18T12:54:02.179Z"
   },
   {
    "duration": 30,
    "start_time": "2023-02-18T12:54:02.190Z"
   },
   {
    "duration": 89,
    "start_time": "2023-02-18T12:54:02.222Z"
   },
   {
    "duration": 97,
    "start_time": "2023-02-18T12:54:02.313Z"
   },
   {
    "duration": 5,
    "start_time": "2023-02-18T12:54:02.412Z"
   },
   {
    "duration": 6,
    "start_time": "2023-02-18T12:54:02.419Z"
   },
   {
    "duration": 8,
    "start_time": "2023-02-18T12:54:02.427Z"
   },
   {
    "duration": 9,
    "start_time": "2023-02-18T12:54:02.437Z"
   },
   {
    "duration": 7,
    "start_time": "2023-02-18T12:54:02.448Z"
   },
   {
    "duration": 7,
    "start_time": "2023-02-18T12:54:02.457Z"
   },
   {
    "duration": 9,
    "start_time": "2023-02-18T12:54:02.466Z"
   },
   {
    "duration": 10,
    "start_time": "2023-02-18T12:54:02.510Z"
   },
   {
    "duration": 8,
    "start_time": "2023-02-18T12:54:02.522Z"
   },
   {
    "duration": 6,
    "start_time": "2023-02-18T12:54:02.531Z"
   },
   {
    "duration": 10,
    "start_time": "2023-02-18T12:54:02.538Z"
   },
   {
    "duration": 3,
    "start_time": "2023-02-18T12:54:02.611Z"
   },
   {
    "duration": 7,
    "start_time": "2023-02-18T12:54:02.616Z"
   },
   {
    "duration": 14,
    "start_time": "2023-02-18T12:54:02.625Z"
   },
   {
    "duration": 1076,
    "start_time": "2023-02-18T12:55:30.113Z"
   },
   {
    "duration": 54,
    "start_time": "2023-02-18T12:55:31.191Z"
   },
   {
    "duration": 3,
    "start_time": "2023-02-18T12:55:31.247Z"
   },
   {
    "duration": 15,
    "start_time": "2023-02-18T12:55:31.252Z"
   },
   {
    "duration": 15,
    "start_time": "2023-02-18T12:55:31.269Z"
   },
   {
    "duration": 20,
    "start_time": "2023-02-18T12:55:31.286Z"
   },
   {
    "duration": 21,
    "start_time": "2023-02-18T12:55:31.308Z"
   },
   {
    "duration": 21,
    "start_time": "2023-02-18T12:55:31.331Z"
   },
   {
    "duration": 12,
    "start_time": "2023-02-18T12:55:31.353Z"
   },
   {
    "duration": 7,
    "start_time": "2023-02-18T12:55:31.369Z"
   },
   {
    "duration": 9,
    "start_time": "2023-02-18T12:55:31.377Z"
   },
   {
    "duration": 16,
    "start_time": "2023-02-18T12:55:31.388Z"
   },
   {
    "duration": 27,
    "start_time": "2023-02-18T12:55:31.410Z"
   },
   {
    "duration": 17,
    "start_time": "2023-02-18T12:55:31.439Z"
   },
   {
    "duration": 55,
    "start_time": "2023-02-18T12:55:31.457Z"
   },
   {
    "duration": 10,
    "start_time": "2023-02-18T12:55:31.513Z"
   },
   {
    "duration": 87,
    "start_time": "2023-02-18T12:55:31.524Z"
   },
   {
    "duration": 5,
    "start_time": "2023-02-18T12:55:31.613Z"
   },
   {
    "duration": 91,
    "start_time": "2023-02-18T12:55:31.619Z"
   },
   {
    "duration": 4,
    "start_time": "2023-02-18T12:55:31.713Z"
   },
   {
    "duration": 93,
    "start_time": "2023-02-18T12:55:31.718Z"
   },
   {
    "duration": 4,
    "start_time": "2023-02-18T12:55:31.813Z"
   },
   {
    "duration": 10,
    "start_time": "2023-02-18T12:55:31.818Z"
   },
   {
    "duration": 11,
    "start_time": "2023-02-18T12:55:31.829Z"
   },
   {
    "duration": 13,
    "start_time": "2023-02-18T12:55:31.841Z"
   },
   {
    "duration": 12,
    "start_time": "2023-02-18T12:55:31.856Z"
   },
   {
    "duration": 42,
    "start_time": "2023-02-18T12:55:31.869Z"
   },
   {
    "duration": 3,
    "start_time": "2023-02-18T12:55:31.915Z"
   },
   {
    "duration": 94,
    "start_time": "2023-02-18T12:55:31.920Z"
   },
   {
    "duration": 13,
    "start_time": "2023-02-18T12:55:32.016Z"
   },
   {
    "duration": 13,
    "start_time": "2023-02-18T12:55:32.031Z"
   },
   {
    "duration": 8,
    "start_time": "2023-02-18T12:55:32.046Z"
   },
   {
    "duration": 54,
    "start_time": "2023-02-18T12:55:32.056Z"
   },
   {
    "duration": 3,
    "start_time": "2023-02-18T12:55:32.112Z"
   },
   {
    "duration": 6,
    "start_time": "2023-02-18T12:55:32.116Z"
   },
   {
    "duration": 17,
    "start_time": "2023-02-18T12:55:32.124Z"
   },
   {
    "duration": 19,
    "start_time": "2023-02-18T12:55:32.142Z"
   },
   {
    "duration": 13,
    "start_time": "2023-02-18T12:55:32.163Z"
   },
   {
    "duration": 3,
    "start_time": "2023-02-18T12:55:32.209Z"
   },
   {
    "duration": 9,
    "start_time": "2023-02-18T12:55:32.214Z"
   },
   {
    "duration": 9,
    "start_time": "2023-02-18T12:55:32.225Z"
   },
   {
    "duration": 8,
    "start_time": "2023-02-18T12:55:32.235Z"
   },
   {
    "duration": 79,
    "start_time": "2023-02-18T12:55:32.244Z"
   },
   {
    "duration": 1983,
    "start_time": "2023-02-18T19:06:31.516Z"
   },
   {
    "duration": 134,
    "start_time": "2023-02-18T19:06:33.501Z"
   },
   {
    "duration": 4,
    "start_time": "2023-02-18T19:06:33.637Z"
   },
   {
    "duration": 11,
    "start_time": "2023-02-18T19:06:33.643Z"
   },
   {
    "duration": 10,
    "start_time": "2023-02-18T19:06:33.657Z"
   },
   {
    "duration": 35,
    "start_time": "2023-02-18T19:06:33.669Z"
   },
   {
    "duration": 18,
    "start_time": "2023-02-18T19:06:33.706Z"
   },
   {
    "duration": 19,
    "start_time": "2023-02-18T19:06:33.726Z"
   },
   {
    "duration": 20,
    "start_time": "2023-02-18T19:06:33.748Z"
   },
   {
    "duration": 9,
    "start_time": "2023-02-18T19:06:33.771Z"
   },
   {
    "duration": 9,
    "start_time": "2023-02-18T19:06:33.782Z"
   },
   {
    "duration": 5,
    "start_time": "2023-02-18T19:06:33.794Z"
   },
   {
    "duration": 12,
    "start_time": "2023-02-18T19:06:33.802Z"
   },
   {
    "duration": 44,
    "start_time": "2023-02-18T19:06:33.817Z"
   },
   {
    "duration": 96,
    "start_time": "2023-02-18T19:06:33.863Z"
   },
   {
    "duration": 92,
    "start_time": "2023-02-18T19:06:33.962Z"
   },
   {
    "duration": 6,
    "start_time": "2023-02-18T19:06:34.056Z"
   },
   {
    "duration": 10,
    "start_time": "2023-02-18T19:06:34.064Z"
   },
   {
    "duration": 78,
    "start_time": "2023-02-18T19:06:34.077Z"
   },
   {
    "duration": 108,
    "start_time": "2023-02-18T19:06:34.158Z"
   },
   {
    "duration": 8,
    "start_time": "2023-02-18T19:06:34.269Z"
   },
   {
    "duration": 9,
    "start_time": "2023-02-18T19:06:34.279Z"
   },
   {
    "duration": 13,
    "start_time": "2023-02-18T19:06:34.290Z"
   },
   {
    "duration": 18,
    "start_time": "2023-02-18T19:06:34.305Z"
   },
   {
    "duration": 8,
    "start_time": "2023-02-18T19:06:34.326Z"
   },
   {
    "duration": 10,
    "start_time": "2023-02-18T19:06:34.336Z"
   },
   {
    "duration": 17,
    "start_time": "2023-02-18T19:06:34.354Z"
   },
   {
    "duration": 183,
    "start_time": "2023-02-18T19:06:34.376Z"
   },
   {
    "duration": 11,
    "start_time": "2023-02-18T19:06:34.561Z"
   },
   {
    "duration": 13,
    "start_time": "2023-02-18T19:06:34.574Z"
   },
   {
    "duration": 15,
    "start_time": "2023-02-18T19:06:34.590Z"
   },
   {
    "duration": 18,
    "start_time": "2023-02-18T19:06:34.607Z"
   },
   {
    "duration": 11,
    "start_time": "2023-02-18T19:06:34.627Z"
   },
   {
    "duration": 14,
    "start_time": "2023-02-18T19:06:34.641Z"
   },
   {
    "duration": 15,
    "start_time": "2023-02-18T19:06:34.657Z"
   },
   {
    "duration": 12,
    "start_time": "2023-02-18T19:06:34.675Z"
   },
   {
    "duration": 22,
    "start_time": "2023-02-18T19:06:34.690Z"
   },
   {
    "duration": 42,
    "start_time": "2023-02-18T19:06:34.715Z"
   },
   {
    "duration": 29,
    "start_time": "2023-02-18T19:06:34.758Z"
   },
   {
    "duration": 23,
    "start_time": "2023-02-18T19:06:34.790Z"
   },
   {
    "duration": 4,
    "start_time": "2023-02-18T19:06:34.854Z"
   },
   {
    "duration": 22,
    "start_time": "2023-02-18T19:06:34.860Z"
   },
   {
    "duration": 80,
    "start_time": "2023-02-18T19:06:34.885Z"
   }
  ],
  "kernelspec": {
   "display_name": "Python 3 (ipykernel)",
   "language": "python",
   "name": "python3"
  },
  "language_info": {
   "codemirror_mode": {
    "name": "ipython",
    "version": 3
   },
   "file_extension": ".py",
   "mimetype": "text/x-python",
   "name": "python",
   "nbconvert_exporter": "python",
   "pygments_lexer": "ipython3",
   "version": "3.9.13"
  },
  "toc": {
   "base_numbering": 1,
   "nav_menu": {},
   "number_sections": true,
   "sideBar": true,
   "skip_h1_title": true,
   "title_cell": "Table of Contents",
   "title_sidebar": "Contents",
   "toc_cell": false,
   "toc_position": {},
   "toc_section_display": true,
   "toc_window_display": false
  }
 },
 "nbformat": 4,
 "nbformat_minor": 5
}
