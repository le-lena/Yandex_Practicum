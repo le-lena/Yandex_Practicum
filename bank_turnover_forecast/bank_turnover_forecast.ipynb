{
 "cells": [
  {
   "cell_type": "markdown",
   "metadata": {
    "toc": true
   },
   "source": [
    "<h1>Содержание<span class=\"tocSkip\"></span></h1>\n",
    "<div class=\"toc\"><ul class=\"toc-item\"><li><span><a href=\"#Описание-данных\" data-toc-modified-id=\"Описание-данных-1\"><span class=\"toc-item-num\">1&nbsp;&nbsp;</span>Описание данных</a></span></li><li><span><a href=\"#Подготовка-данных\" data-toc-modified-id=\"Подготовка-данных-2\"><span class=\"toc-item-num\">2&nbsp;&nbsp;</span>Подготовка данных</a></span></li><li><span><a href=\"#Борьба-с-дисбалансом\" data-toc-modified-id=\"Борьба-с-дисбалансом-3\"><span class=\"toc-item-num\">3&nbsp;&nbsp;</span>Борьба с дисбалансом</a></span></li><li><span><a href=\"#Тестирование-модели\" data-toc-modified-id=\"Тестирование-модели-4\"><span class=\"toc-item-num\">4&nbsp;&nbsp;</span>Тестирование модели</a></span></li><li><span><a href=\"#Чек-лист-готовности-проекта\" data-toc-modified-id=\"Чек-лист-готовности-проекта-5\"><span class=\"toc-item-num\">5&nbsp;&nbsp;</span>Чек-лист готовности проекта</a></span></li></ul></div>"
   ]
  },
  {
   "cell_type": "markdown",
   "metadata": {},
   "source": [
    "# Отток клиентов"
   ]
  },
  {
   "cell_type": "markdown",
   "metadata": {},
   "source": [
    "Из «Бета-Банка» стали уходить клиенты. Каждый месяц. Немного, но заметно.   \n",
    "Банковские маркетологи посчитали: сохранять текущих клиентов дешевле, чем привлекать новых.\n",
    "\n",
    "Нужно спрогнозировать, уйдёт клиент из банка в ближайшее время или нет.  \n",
    "Вам предоставлены исторические данные о поведении клиентов и расторжении договоров с банком.   \n",
    "\n",
    "Постройте модель с предельно большим значением *F1*-меры. Чтобы сдать проект успешно, нужно довести метрику до 0.59. \n",
    "Проверьте *F1*-меру на тестовой выборке самостоятельно.    \n",
    "\n",
    "Дополнительно измеряйте *AUC-ROC*, сравнивайте её значение с *F1*-мерой.  \n",
    "\n",
    "Источник данных: [https://www.kaggle.com/barelydedicated/bank-customer-churn-modeling](https://www.kaggle.com/barelydedicated/bank-customer-churn-modeling)"
   ]
  },
  {
   "cell_type": "markdown",
   "metadata": {},
   "source": [
    "## Описание данных\n",
    "Признаки  \n",
    "RowNumber — индекс строки в данных  \n",
    "CustomerId — уникальный идентификатор клиента  \n",
    "Surname — фамилия  \n",
    "CreditScore — кредитный рейтинг  \n",
    "Geography — страна проживания  \n",
    "Gender — пол  \n",
    "Age — возраст  \n",
    "Tenure — сколько лет человек является клиентом банка  \n",
    "Balance — баланс на счёте  \n",
    "NumOfProducts — количество продуктов банка, используемых клиентом  \n",
    "HasCrCard — наличие кредитной карты  \n",
    "IsActiveMember — активность клиента  \n",
    "EstimatedSalary — предполагаемая зарплата  \n",
    "Целевой признак  \n",
    "Exited — факт ухода клиента  "
   ]
  },
  {
   "cell_type": "code",
   "execution_count": 2,
   "metadata": {},
   "outputs": [
    {
     "name": "stdout",
     "output_type": "stream",
     "text": [
      "Collecting scikit-learn==1.1.3\n",
      "  Downloading scikit_learn-1.1.3-cp39-cp39-manylinux_2_17_x86_64.manylinux2014_x86_64.whl (30.8 MB)\n",
      "\u001b[K     |████████████████████████████████| 30.8 MB 49 kB/s  eta 0:00:01\n",
      "\u001b[?25hRequirement already satisfied: joblib>=1.0.0 in /opt/conda/lib/python3.9/site-packages (from scikit-learn==1.1.3) (1.1.0)\n",
      "Requirement already satisfied: scipy>=1.3.2 in /opt/conda/lib/python3.9/site-packages (from scikit-learn==1.1.3) (1.9.1)\n",
      "Requirement already satisfied: numpy>=1.17.3 in /opt/conda/lib/python3.9/site-packages (from scikit-learn==1.1.3) (1.21.1)\n",
      "Requirement already satisfied: threadpoolctl>=2.0.0 in /opt/conda/lib/python3.9/site-packages (from scikit-learn==1.1.3) (3.1.0)\n",
      "Installing collected packages: scikit-learn\n",
      "  Attempting uninstall: scikit-learn\n",
      "    Found existing installation: scikit-learn 0.24.1\n",
      "    Uninstalling scikit-learn-0.24.1:\n",
      "      Successfully uninstalled scikit-learn-0.24.1\n",
      "Successfully installed scikit-learn-1.1.3\n",
      "Collecting imblearn\n",
      "  Downloading imblearn-0.0-py2.py3-none-any.whl (1.9 kB)\n",
      "Collecting imbalanced-learn\n",
      "  Downloading imbalanced_learn-0.10.1-py3-none-any.whl (226 kB)\n",
      "\u001b[K     |████████████████████████████████| 226 kB 1.2 MB/s eta 0:00:01\n",
      "\u001b[?25hCollecting joblib>=1.1.1\n",
      "  Downloading joblib-1.2.0-py3-none-any.whl (297 kB)\n",
      "\u001b[K     |████████████████████████████████| 297 kB 14.4 MB/s eta 0:00:01\n",
      "\u001b[?25hRequirement already satisfied: scikit-learn>=1.0.2 in /opt/conda/lib/python3.9/site-packages (from imbalanced-learn->imblearn) (1.1.3)\n",
      "Requirement already satisfied: numpy>=1.17.3 in /opt/conda/lib/python3.9/site-packages (from imbalanced-learn->imblearn) (1.21.1)\n",
      "Requirement already satisfied: scipy>=1.3.2 in /opt/conda/lib/python3.9/site-packages (from imbalanced-learn->imblearn) (1.9.1)\n",
      "Requirement already satisfied: threadpoolctl>=2.0.0 in /opt/conda/lib/python3.9/site-packages (from imbalanced-learn->imblearn) (3.1.0)\n",
      "Installing collected packages: joblib, imbalanced-learn, imblearn\n",
      "  Attempting uninstall: joblib\n",
      "    Found existing installation: joblib 1.1.0\n",
      "    Uninstalling joblib-1.1.0:\n",
      "      Successfully uninstalled joblib-1.1.0\n",
      "Successfully installed imbalanced-learn-0.10.1 imblearn-0.0 joblib-1.2.0\n"
     ]
    }
   ],
   "source": [
    "!pip install scikit-learn==1.1.3\n",
    "!pip install imblearn"
   ]
  },
  {
   "cell_type": "code",
   "execution_count": 3,
   "metadata": {},
   "outputs": [],
   "source": [
    "\n",
    "import pandas as pd\n",
    "import numpy as np\n",
    "import matplotlib.pyplot as plt\n",
    "\n",
    "\n",
    "pd.options.mode.chained_assignment = None\n",
    "from imblearn.over_sampling import SMOTE\n",
    "from sklearn.dummy import DummyClassifier\n",
    "from sklearn.preprocessing import OneHotEncoder\n",
    "from sklearn.model_selection import train_test_split\n",
    "from sklearn.preprocessing import StandardScaler \n",
    "from sklearn.utils import shuffle\n",
    "from sklearn.ensemble import RandomForestClassifier\n",
    "from sklearn.linear_model import LogisticRegression \n",
    "from sklearn.metrics import (\n",
    "    accuracy_score, \n",
    "    confusion_matrix, \n",
    "    f1_score, \n",
    "    recall_score,\n",
    "    precision_score,\n",
    "    mean_squared_error, \n",
    "    precision_recall_curve,\n",
    "    roc_auc_score,\n",
    "    roc_curve,\n",
    "    roc_auc_score \n",
    ")\n"
   ]
  },
  {
   "cell_type": "markdown",
   "metadata": {},
   "source": [
    "## Подготовка данных"
   ]
  },
  {
   "cell_type": "code",
   "execution_count": 4,
   "metadata": {},
   "outputs": [
    {
     "name": "stdout",
     "output_type": "stream",
     "text": [
      "   RowNumber  CustomerId   Surname  CreditScore Geography  Gender  Age  \\\n",
      "0          1    15634602  Hargrave          619    France  Female   42   \n",
      "1          2    15647311      Hill          608     Spain  Female   41   \n",
      "2          3    15619304      Onio          502    France  Female   42   \n",
      "3          4    15701354      Boni          699    France  Female   39   \n",
      "4          5    15737888  Mitchell          850     Spain  Female   43   \n",
      "\n",
      "   Tenure    Balance  NumOfProducts  HasCrCard  IsActiveMember  \\\n",
      "0     2.0       0.00              1          1               1   \n",
      "1     1.0   83807.86              1          0               1   \n",
      "2     8.0  159660.80              3          1               0   \n",
      "3     1.0       0.00              2          0               0   \n",
      "4     2.0  125510.82              1          1               1   \n",
      "\n",
      "   EstimatedSalary  Exited  \n",
      "0        101348.88       1  \n",
      "1        112542.58       0  \n",
      "2        113931.57       1  \n",
      "3         93826.63       0  \n",
      "4         79084.10       0  \n",
      "<class 'pandas.core.frame.DataFrame'>\n",
      "RangeIndex: 10000 entries, 0 to 9999\n",
      "Data columns (total 14 columns):\n",
      " #   Column           Non-Null Count  Dtype  \n",
      "---  ------           --------------  -----  \n",
      " 0   RowNumber        10000 non-null  int64  \n",
      " 1   CustomerId       10000 non-null  int64  \n",
      " 2   Surname          10000 non-null  object \n",
      " 3   CreditScore      10000 non-null  int64  \n",
      " 4   Geography        10000 non-null  object \n",
      " 5   Gender           10000 non-null  object \n",
      " 6   Age              10000 non-null  int64  \n",
      " 7   Tenure           9091 non-null   float64\n",
      " 8   Balance          10000 non-null  float64\n",
      " 9   NumOfProducts    10000 non-null  int64  \n",
      " 10  HasCrCard        10000 non-null  int64  \n",
      " 11  IsActiveMember   10000 non-null  int64  \n",
      " 12  EstimatedSalary  10000 non-null  float64\n",
      " 13  Exited           10000 non-null  int64  \n",
      "dtypes: float64(3), int64(8), object(3)\n",
      "memory usage: 1.1+ MB\n",
      "None\n"
     ]
    }
   ],
   "source": [
    "data = pd.read_csv('/datasets/Churn.csv')\n",
    "print(data.head())\n",
    "print(data.info())"
   ]
  },
  {
   "cell_type": "markdown",
   "metadata": {},
   "source": [
    "Открыли файл, прочитали первые 5 строк и изучили информацию о датасете, пропуски имеются только в столбце Tenure."
   ]
  },
  {
   "cell_type": "code",
   "execution_count": 5,
   "metadata": {},
   "outputs": [
    {
     "name": "stdout",
     "output_type": "stream",
     "text": [
      "0    7963\n",
      "1    2037\n",
      "Name: Exited, dtype: int64\n"
     ]
    }
   ],
   "source": [
    "print(data['Exited'].value_counts())"
   ]
  },
  {
   "cell_type": "markdown",
   "metadata": {},
   "source": [
    "Посмотрим на соотношение 0 и 1 в целевом признаке. Соотношение примерно 1 к 4, выборка не сбалансирована. "
   ]
  },
  {
   "cell_type": "code",
   "execution_count": 6,
   "metadata": {},
   "outputs": [
    {
     "name": "stdout",
     "output_type": "stream",
     "text": [
      "0\n"
     ]
    }
   ],
   "source": [
    "print(data.drop(['RowNumber'], axis=1).duplicated().sum())"
   ]
  },
  {
   "cell_type": "markdown",
   "metadata": {},
   "source": [
    "Видим, что в данных отсутствуют явные дубликаты"
   ]
  },
  {
   "cell_type": "code",
   "execution_count": 7,
   "metadata": {},
   "outputs": [],
   "source": [
    "data = data.dropna(subset=['Tenure'])"
   ]
  },
  {
   "cell_type": "markdown",
   "metadata": {},
   "source": [
    "Строки, где отсутствуют значения в столбце Tenure, составляют примерно 10% от объема данных, мы не можем заполнить пропуски значениями, поэтому решила удалить эти строки. "
   ]
  },
  {
   "cell_type": "code",
   "execution_count": 8,
   "metadata": {},
   "outputs": [],
   "source": [
    "data=data.drop(['Surname','RowNumber','CustomerId'], axis=1)"
   ]
  },
  {
   "cell_type": "markdown",
   "metadata": {},
   "source": [
    "Удалила из датасета признаки, которые не участвуют в анализе. "
   ]
  },
  {
   "cell_type": "code",
   "execution_count": 9,
   "metadata": {},
   "outputs": [
    {
     "name": "stdout",
     "output_type": "stream",
     "text": [
      "(5454, 10)\n",
      "(1819, 10)\n",
      "(1818, 10)\n",
      "   CreditScore Geography  Gender  Age  Tenure    Balance  NumOfProducts  \\\n",
      "0          619    France  Female   42     2.0       0.00              1   \n",
      "1          608     Spain  Female   41     1.0   83807.86              1   \n",
      "2          502    France  Female   42     8.0  159660.80              3   \n",
      "3          699    France  Female   39     1.0       0.00              2   \n",
      "4          850     Spain  Female   43     2.0  125510.82              1   \n",
      "\n",
      "   HasCrCard  IsActiveMember  EstimatedSalary  Exited  \n",
      "0          1               1        101348.88       1  \n",
      "1          0               1        112542.58       0  \n",
      "2          1               0        113931.57       1  \n",
      "3          0               0         93826.63       0  \n",
      "4          1               1         79084.10       0  \n"
     ]
    }
   ],
   "source": [
    "features =  data.drop('Exited', axis=1)\n",
    "target = data['Exited']\n",
    "\n",
    "features_train, features_valid, target_train, target_valid = train_test_split(\n",
    "    features, target, test_size=0.4, random_state=12345)\n",
    "features_test, features_valid, target_test, target_valid = train_test_split(\n",
    "    features_valid, target_valid, test_size=0.5, random_state=12345)\n",
    "\n",
    "print(features_train.shape)\n",
    "print(features_valid.shape)\n",
    "print(features_test.shape)\n",
    "\n",
    "print(data.head())"
   ]
  },
  {
   "cell_type": "markdown",
   "metadata": {},
   "source": [
    "Разделила выборку на обучающую, валидационную и тестовую, посмотрела размеры получившихся выборок."
   ]
  },
  {
   "cell_type": "code",
   "execution_count": 10,
   "metadata": {},
   "outputs": [
    {
     "data": {
      "text/plain": [
       "['HasCrCard', 'Geography', 'IsActiveMember', 'Gender']"
      ]
     },
     "execution_count": 10,
     "metadata": {},
     "output_type": "execute_result"
    }
   ],
   "source": [
    "\n",
    "numeric = ['CreditScore', 'Age', 'Tenure', 'Balance','NumOfProducts','EstimatedSalary']\n",
    "ohe_features= list(set(features_train) - set(numeric))\n",
    "ohe_features"
   ]
  },
  {
   "cell_type": "markdown",
   "metadata": {},
   "source": [
    "Создали список категориальных признаков чтобы применить OHE кодирование. "
   ]
  },
  {
   "cell_type": "code",
   "execution_count": 11,
   "metadata": {},
   "outputs": [
    {
     "data": {
      "text/html": [
       "<div>\n",
       "<style scoped>\n",
       "    .dataframe tbody tr th:only-of-type {\n",
       "        vertical-align: middle;\n",
       "    }\n",
       "\n",
       "    .dataframe tbody tr th {\n",
       "        vertical-align: top;\n",
       "    }\n",
       "\n",
       "    .dataframe thead th {\n",
       "        text-align: right;\n",
       "    }\n",
       "</style>\n",
       "<table border=\"1\" class=\"dataframe\">\n",
       "  <thead>\n",
       "    <tr style=\"text-align: right;\">\n",
       "      <th></th>\n",
       "      <th>CreditScore</th>\n",
       "      <th>Age</th>\n",
       "      <th>Tenure</th>\n",
       "      <th>Balance</th>\n",
       "      <th>NumOfProducts</th>\n",
       "      <th>EstimatedSalary</th>\n",
       "      <th>HasCrCard_1</th>\n",
       "      <th>Geography_Germany</th>\n",
       "      <th>Geography_Spain</th>\n",
       "      <th>IsActiveMember_1</th>\n",
       "      <th>Gender_Male</th>\n",
       "    </tr>\n",
       "  </thead>\n",
       "  <tbody>\n",
       "    <tr>\n",
       "      <th>7445</th>\n",
       "      <td>516</td>\n",
       "      <td>45</td>\n",
       "      <td>4.0</td>\n",
       "      <td>0.00</td>\n",
       "      <td>1</td>\n",
       "      <td>95273.73</td>\n",
       "      <td>1.0</td>\n",
       "      <td>0.0</td>\n",
       "      <td>0.0</td>\n",
       "      <td>0.0</td>\n",
       "      <td>0.0</td>\n",
       "    </tr>\n",
       "    <tr>\n",
       "      <th>8620</th>\n",
       "      <td>768</td>\n",
       "      <td>40</td>\n",
       "      <td>8.0</td>\n",
       "      <td>0.00</td>\n",
       "      <td>2</td>\n",
       "      <td>69080.46</td>\n",
       "      <td>0.0</td>\n",
       "      <td>0.0</td>\n",
       "      <td>0.0</td>\n",
       "      <td>1.0</td>\n",
       "      <td>0.0</td>\n",
       "    </tr>\n",
       "    <tr>\n",
       "      <th>1714</th>\n",
       "      <td>730</td>\n",
       "      <td>45</td>\n",
       "      <td>6.0</td>\n",
       "      <td>152880.97</td>\n",
       "      <td>1</td>\n",
       "      <td>162478.11</td>\n",
       "      <td>0.0</td>\n",
       "      <td>1.0</td>\n",
       "      <td>0.0</td>\n",
       "      <td>0.0</td>\n",
       "      <td>1.0</td>\n",
       "    </tr>\n",
       "    <tr>\n",
       "      <th>5441</th>\n",
       "      <td>751</td>\n",
       "      <td>29</td>\n",
       "      <td>1.0</td>\n",
       "      <td>135536.50</td>\n",
       "      <td>1</td>\n",
       "      <td>66825.33</td>\n",
       "      <td>1.0</td>\n",
       "      <td>0.0</td>\n",
       "      <td>0.0</td>\n",
       "      <td>0.0</td>\n",
       "      <td>1.0</td>\n",
       "    </tr>\n",
       "    <tr>\n",
       "      <th>9001</th>\n",
       "      <td>688</td>\n",
       "      <td>32</td>\n",
       "      <td>6.0</td>\n",
       "      <td>124179.30</td>\n",
       "      <td>1</td>\n",
       "      <td>138759.15</td>\n",
       "      <td>1.0</td>\n",
       "      <td>0.0</td>\n",
       "      <td>1.0</td>\n",
       "      <td>1.0</td>\n",
       "      <td>1.0</td>\n",
       "    </tr>\n",
       "  </tbody>\n",
       "</table>\n",
       "</div>"
      ],
      "text/plain": [
       "      CreditScore  Age  Tenure    Balance  NumOfProducts  EstimatedSalary  \\\n",
       "7445          516   45     4.0       0.00              1         95273.73   \n",
       "8620          768   40     8.0       0.00              2         69080.46   \n",
       "1714          730   45     6.0  152880.97              1        162478.11   \n",
       "5441          751   29     1.0  135536.50              1         66825.33   \n",
       "9001          688   32     6.0  124179.30              1        138759.15   \n",
       "\n",
       "      HasCrCard_1  Geography_Germany  Geography_Spain  IsActiveMember_1  \\\n",
       "7445          1.0                0.0              0.0               0.0   \n",
       "8620          0.0                0.0              0.0               1.0   \n",
       "1714          0.0                1.0              0.0               0.0   \n",
       "5441          1.0                0.0              0.0               0.0   \n",
       "9001          1.0                0.0              1.0               1.0   \n",
       "\n",
       "      Gender_Male  \n",
       "7445          0.0  \n",
       "8620          0.0  \n",
       "1714          1.0  \n",
       "5441          1.0  \n",
       "9001          1.0  "
      ]
     },
     "execution_count": 11,
     "metadata": {},
     "output_type": "execute_result"
    }
   ],
   "source": [
    "\n",
    "encoder_ohe = OneHotEncoder(drop='first', handle_unknown='ignore', sparse=False)\n",
    "\n",
    "encoder_ohe.fit(features_train[ohe_features])\n",
    "\n",
    "features_train[\n",
    "    encoder_ohe.get_feature_names_out()\n",
    "] = encoder_ohe.transform(features_train[ohe_features])\n",
    "\n",
    "features_train = features_train.drop(ohe_features, axis=1)\n",
    "\n",
    "features_valid[\n",
    "    encoder_ohe.get_feature_names_out()\n",
    "] = encoder_ohe.transform(features_valid[ohe_features])\n",
    "\n",
    "features_valid = features_valid.drop(ohe_features, axis=1)\n",
    "\n",
    "features_test[\n",
    "    encoder_ohe.get_feature_names_out()\n",
    "] = encoder_ohe.transform(features_test[ohe_features])\n",
    "\n",
    "features_test = features_test.drop(ohe_features, axis=1)\n",
    "\n",
    "features_train.head()\n",
    "features_valid.head()\n",
    "features_test.head()"
   ]
  },
  {
   "cell_type": "markdown",
   "metadata": {},
   "source": [
    "Масштабирование количественных признаков"
   ]
  },
  {
   "cell_type": "code",
   "execution_count": 12,
   "metadata": {},
   "outputs": [
    {
     "name": "stdout",
     "output_type": "stream",
     "text": [
      "      CreditScore       Age    Tenure   Balance  NumOfProducts  \\\n",
      "9344     0.809075 -1.039327 -1.025995  0.554904      -0.908179   \n",
      "3796    -1.152518 -1.227561  0.696524  0.480609      -0.908179   \n",
      "7462    -0.398853  0.090079  1.385532 -1.237830      -0.908179   \n",
      "1508    -0.749875 -0.286389  0.352020 -1.237830       0.809300   \n",
      "4478    -1.028628 -0.756975 -0.336987 -1.237830       0.809300   \n",
      "\n",
      "      EstimatedSalary  HasCrCard_1  Geography_Germany  Geography_Spain  \\\n",
      "9344         0.019508          1.0                0.0              0.0   \n",
      "3796         0.056167          0.0                0.0              0.0   \n",
      "7462         0.848738          1.0                0.0              0.0   \n",
      "1508        -0.894953          1.0                0.0              0.0   \n",
      "4478        -1.284516          0.0                0.0              0.0   \n",
      "\n",
      "      IsActiveMember_1  Gender_Male  \n",
      "9344               0.0          0.0  \n",
      "3796               0.0          1.0  \n",
      "7462               1.0          1.0  \n",
      "1508               1.0          1.0  \n",
      "4478               1.0          1.0  \n"
     ]
    }
   ],
   "source": [
    "scaler = StandardScaler()\n",
    "scaler.fit(features_train[numeric]) \n",
    "features_train[numeric] = scaler.transform(features_train[numeric])\n",
    "features_valid[numeric] = scaler.transform(features_valid[numeric]) \n",
    "features_test[numeric] = scaler.transform(features_test[numeric]) \n",
    "print(features_train.head())"
   ]
  },
  {
   "cell_type": "markdown",
   "metadata": {},
   "source": [
    "Рассмотрим модель случайного леса и попробуем подобрать оптимальные гиперпараметры"
   ]
  },
  {
   "cell_type": "code",
   "execution_count": 13,
   "metadata": {},
   "outputs": [
    {
     "name": "stdout",
     "output_type": "stream",
     "text": [
      "best_depth = 30 best_est = 40 f1_score = 0.5880281690140844\n"
     ]
    }
   ],
   "source": [
    "best_model = None\n",
    "best_depth = 0\n",
    "best_result=0\n",
    "best_est = 0\n",
    "for est in range(10, 101, 10):\n",
    "    for depth in range(1, 31):\n",
    "        model = RandomForestClassifier(max_depth=depth,n_estimators=est, random_state=12345)\n",
    "        model.fit(features_train, target_train)\n",
    "        predicted_valid = model.predict(features_valid) \n",
    "        result = f1_score(target_valid, predicted_valid)\n",
    "    if result > best_result:\n",
    "        best_model = model\n",
    "        best_result = result\n",
    "        best_depth = depth\n",
    "        best_est = est\n",
    "        \n",
    "print('best_depth =',best_depth,'best_est =',best_est,'f1_score =',best_result)\n",
    "model = RandomForestClassifier(random_state=12345, max_depth=best_depth,n_estimators=best_est) \n"
   ]
  },
  {
   "cell_type": "markdown",
   "metadata": {},
   "source": [
    "Наилучший результат (судя по метрике f1) дает модель случайного леса со следующими гиперпараметрами: max_depth=30 ,n_estimators=80. "
   ]
  },
  {
   "cell_type": "code",
   "execution_count": 17,
   "metadata": {},
   "outputs": [
    {
     "name": "stdout",
     "output_type": "stream",
     "text": [
      "ROC-AUC =  0.8496500850043085\n"
     ]
    }
   ],
   "source": [
    "model.fit(features_train, target_train)\n",
    "probabilities_valid = model.predict_proba(features_valid)\n",
    "probabilities_one_valid = probabilities_valid[:, 1]\n",
    "auc_roc=roc_auc_score(target_valid,probabilities_one_valid)\n",
    "print('ROC-AUC = ', auc_roc)"
   ]
  },
  {
   "cell_type": "markdown",
   "metadata": {},
   "source": [
    "Проверим модель на адекватность: сравним ее с dummy моделью."
   ]
  },
  {
   "cell_type": "code",
   "execution_count": 52,
   "metadata": {},
   "outputs": [
    {
     "name": "stdout",
     "output_type": "stream",
     "text": [
      "ROC-AUC =  0.5\n",
      "F1 = 0.0\n"
     ]
    }
   ],
   "source": [
    "clf_dummy = DummyClassifier(random_state=12345) \n",
    "clf_dummy.fit(features_train, target_train) \n",
    "predictions_valid = clf_dummy.predict(features_valid) \n",
    "result = f1_score(target_valid, predictions_valid)\n",
    "probabilities_valid = clf_dummy.predict_proba(features_valid)\n",
    "probabilities_one_valid = probabilities_valid[:, 1]\n",
    "auc_roc=roc_auc_score(target_valid,probabilities_one_valid)\n",
    "print('ROC-AUC = ',auc_roc)\n",
    "print(\"F1 =\",result)"
   ]
  },
  {
   "cell_type": "markdown",
   "metadata": {},
   "source": [
    "Метрика f1 нашей модели выше чем у dummy модели, но еще очень далека от идеала. "
   ]
  },
  {
   "cell_type": "markdown",
   "metadata": {},
   "source": [
    "Теперь рассмотрим модель логистической регрессии и попробуем подобрать оптимальные гиперпараметры "
   ]
  },
  {
   "cell_type": "code",
   "execution_count": 19,
   "metadata": {},
   "outputs": [
    {
     "name": "stdout",
     "output_type": "stream",
     "text": [
      "F1 = 0.32119914346895073\n",
      "max_iter = 100 C = 9\n"
     ]
    }
   ],
   "source": [
    "best_model = None\n",
    "best_iteration = 0\n",
    "best_result=0\n",
    "best_C = 0\n",
    "for iteration in range(100, 1000, 100):\n",
    "    for ipr in range(1,10):\n",
    "        model = LogisticRegression(random_state=12345, solver='lbfgs', max_iter=iteration,C=ipr) \n",
    "        model.fit(features_train, target_train) \n",
    "        predictions_valid=model.predict(features_valid) \n",
    "        result=f1_score(target_valid, predictions_valid)\n",
    "    if result > best_result:\n",
    "        best_model = model\n",
    "        best_result = result\n",
    "        best_iteration = iteration\n",
    "        best_C = ipr\n",
    "\n",
    "print(\"F1 =\",result)\n",
    "print('max_iter =',best_iteration,'C =',best_C)"
   ]
  },
  {
   "cell_type": "code",
   "execution_count": 20,
   "metadata": {},
   "outputs": [
    {
     "name": "stdout",
     "output_type": "stream",
     "text": [
      "ROC-AUC =  0.7810052244657151\n"
     ]
    }
   ],
   "source": [
    "probabilities_valid = model.predict_proba(features_valid)\n",
    "probabilities_one_valid = probabilities_valid[:, 1]\n",
    "auc_roc=roc_auc_score(target_valid,probabilities_one_valid)\n",
    "print('ROC-AUC = ',auc_roc)"
   ]
  },
  {
   "cell_type": "markdown",
   "metadata": {},
   "source": [
    "У логистической регрессии метрика f1 максимальна при max_iter = 100 C = 9"
   ]
  },
  {
   "cell_type": "markdown",
   "metadata": {},
   "source": [
    "## Борьба с дисбалансом"
   ]
  },
  {
   "cell_type": "markdown",
   "metadata": {},
   "source": [
    "Даунсемплинг"
   ]
  },
  {
   "cell_type": "code",
   "execution_count": 34,
   "metadata": {},
   "outputs": [],
   "source": [
    "\n",
    "def downsample(features, target, fraction):\n",
    "    features_zeros = features[target == 0]\n",
    "    features_ones = features[target == 1]\n",
    "    target_zeros = target[target == 0]\n",
    "    target_ones = target[target == 1]\n",
    "\n",
    "    features_downsampled = pd.concat(\n",
    "        [features_zeros.sample(frac=fraction, random_state=12345)] + [features_ones])\n",
    "    target_downsampled = pd.concat(\n",
    "        [target_zeros.sample(frac=fraction, random_state=12345)] + [target_ones])\n",
    "    \n",
    "    features_downsampled, target_downsampled = shuffle(\n",
    "        features_downsampled, target_downsampled, random_state=12345)\n",
    "    \n",
    "    return features_downsampled, target_downsampled\n",
    "\n",
    "features_downsampled, target_downsampled = downsample(features_train, target_train, 0.25)\n",
    "\n"
   ]
  },
  {
   "cell_type": "markdown",
   "metadata": {},
   "source": [
    "Вновь подберем оптимальные параметры для логистической регрессии и случайного леса. "
   ]
  },
  {
   "cell_type": "markdown",
   "metadata": {},
   "source": [
    "Логистическая регрессия"
   ]
  },
  {
   "cell_type": "code",
   "execution_count": 35,
   "metadata": {},
   "outputs": [
    {
     "name": "stdout",
     "output_type": "stream",
     "text": [
      "F1 = 0.37415730337078656\n",
      "max_iter = 100 C = 9\n",
      "ROC-AUC =  0.7827926438280661\n"
     ]
    }
   ],
   "source": [
    "best_model = None\n",
    "best_iteration = 0\n",
    "best_result=0\n",
    "best_C = 0\n",
    "for iteration in range(100, 1000, 100):\n",
    "    for ipr in range(1,10):\n",
    "        model = LogisticRegression(random_state=12345, solver='lbfgs', max_iter=iteration,C=ipr) \n",
    "        model.fit(features_downsampled, target_downsampled)\n",
    "        predictions_valid=model.predict(features_valid) \n",
    "        result=f1_score(target_valid, predictions_valid)\n",
    "    if result > best_result:\n",
    "        best_model = model\n",
    "        best_result = result\n",
    "        best_iteration = iteration\n",
    "        best_C = ipr\n",
    "print(\"F1 =\",result)\n",
    "print('max_iter =',best_iteration,'C =',best_C)\n",
    "\n",
    "probabilities_valid = model.predict_proba(features_valid)\n",
    "probabilities_one_valid = probabilities_valid[:, 1]\n",
    "auc_roc=roc_auc_score(target_valid,probabilities_one_valid)\n",
    "print('ROC-AUC = ',auc_roc)"
   ]
  },
  {
   "cell_type": "markdown",
   "metadata": {},
   "source": [
    "Случайный лес"
   ]
  },
  {
   "cell_type": "code",
   "execution_count": 36,
   "metadata": {},
   "outputs": [
    {
     "name": "stdout",
     "output_type": "stream",
     "text": [
      "best_depth = 30 best_est = 40 f1_score = 0.5258467023172905\n"
     ]
    }
   ],
   "source": [
    "best_model = None\n",
    "best_depth = 0\n",
    "best_result=0\n",
    "best_est = 0\n",
    "for est in range(10, 101, 10):\n",
    "    for depth in range(1, 31):\n",
    "        model = RandomForestClassifier(max_depth=depth,n_estimators=est, random_state=12345)\n",
    "        model.fit(features_downsampled, target_downsampled)\n",
    "        predicted_valid = model.predict(features_valid) \n",
    "        result = f1_score(target_valid, predicted_valid)\n",
    "    if result > best_result:\n",
    "        best_model = model\n",
    "        best_result = result\n",
    "        best_depth = depth\n",
    "        best_est = est\n",
    "        \n",
    "\n",
    "\n",
    "print('best_depth =',best_depth,'best_est =',best_est,'f1_score =',best_result)"
   ]
  },
  {
   "cell_type": "code",
   "execution_count": 37,
   "metadata": {},
   "outputs": [
    {
     "name": "stdout",
     "output_type": "stream",
     "text": [
      "ROC-AUC =  0.8433106655177499\n"
     ]
    }
   ],
   "source": [
    "probabilities_valid = model.predict_proba(features_valid)\n",
    "probabilities_one_valid = probabilities_valid[:, 1]\n",
    "auc_roc=roc_auc_score(target_valid,probabilities_one_valid)\n",
    "print('ROC-AUC = ',auc_roc)"
   ]
  },
  {
   "cell_type": "markdown",
   "metadata": {},
   "source": [
    "Апсемплинг "
   ]
  },
  {
   "cell_type": "code",
   "execution_count": 43,
   "metadata": {},
   "outputs": [],
   "source": [
    "oversample = SMOTE(random_state=1234)\n",
    "\n",
    "features_train_up, target_train_up = oversample.fit_resample(features_train, target_train)\n"
   ]
  },
  {
   "cell_type": "code",
   "execution_count": 44,
   "metadata": {},
   "outputs": [
    {
     "data": {
      "text/plain": [
       "(8656, 11)"
      ]
     },
     "execution_count": 44,
     "metadata": {},
     "output_type": "execute_result"
    }
   ],
   "source": [
    "\n",
    "features_train.shape"
   ]
  },
  {
   "cell_type": "markdown",
   "metadata": {},
   "source": [
    "Случайный лес"
   ]
  },
  {
   "cell_type": "code",
   "execution_count": 45,
   "metadata": {},
   "outputs": [
    {
     "name": "stdout",
     "output_type": "stream",
     "text": [
      "best_depth = 30 best_est = 40 f1_score = 0.60882800608828\n"
     ]
    }
   ],
   "source": [
    "best_model = None\n",
    "best_depth = 0\n",
    "best_result=0\n",
    "best_est = 0\n",
    "for est in range(10, 101, 10):\n",
    "    for depth in range(1, 31):\n",
    "        model = RandomForestClassifier(max_depth=depth,n_estimators=est, random_state=12345)\n",
    "        model.fit(features_train_up, target_train_up)\n",
    "        predicted_valid = model.predict(features_valid) \n",
    "        result = f1_score(target_valid, predicted_valid)\n",
    "    if result > best_result:\n",
    "        best_model = model\n",
    "        best_result = result\n",
    "        best_depth = depth\n",
    "        best_est = est\n",
    "        \n",
    "print('best_depth =',best_depth,'best_est =',best_est,'f1_score =',best_result)"
   ]
  },
  {
   "cell_type": "code",
   "execution_count": 51,
   "metadata": {},
   "outputs": [
    {
     "name": "stdout",
     "output_type": "stream",
     "text": [
      "ROC-AUC =  0.8429758882756158\n"
     ]
    }
   ],
   "source": [
    "probabilities_valid = model.predict_proba(features_valid)\n",
    "probabilities_one_valid = probabilities_valid[:, 1]\n",
    "auc_roc=roc_auc_score(target_valid,probabilities_one_valid)\n",
    "print('ROC-AUC = ',auc_roc)"
   ]
  },
  {
   "cell_type": "markdown",
   "metadata": {},
   "source": [
    "Логистическая регрессия"
   ]
  },
  {
   "cell_type": "code",
   "execution_count": 42,
   "metadata": {},
   "outputs": [
    {
     "name": "stdout",
     "output_type": "stream",
     "text": [
      "F1 = 0.5025536261491318\n",
      "max_iter = 100 C = 9\n",
      "ROC-AUC =  0.7833981539703612\n"
     ]
    }
   ],
   "source": [
    "best_model = None\n",
    "best_iteration = 0\n",
    "best_result=0\n",
    "best_C = 0\n",
    "for iteration in range(100, 1000, 100):\n",
    "    for ipr in range(1,10):\n",
    "        model = LogisticRegression(random_state=12345, solver='lbfgs', max_iter=iteration,C=ipr) \n",
    "        model.fit(features_train_up, target_train_up) \n",
    "        predictions_valid=model.predict(features_valid) \n",
    "        result=f1_score(target_valid, predictions_valid)\n",
    "    if result > best_result:\n",
    "        best_model = model\n",
    "        best_result = result\n",
    "        best_iteration = iteration\n",
    "        best_C = ipr\n",
    "print(\"F1 =\",result)\n",
    "print('max_iter =',best_iteration,'C =',best_C)\n",
    "\n",
    "probabilities_valid = model.predict_proba(features_valid)\n",
    "probabilities_one_valid = probabilities_valid[:, 1]\n",
    "auc_roc=roc_auc_score(target_valid,probabilities_one_valid)\n",
    "print('ROC-AUC = ',auc_roc)"
   ]
  },
  {
   "cell_type": "markdown",
   "metadata": {},
   "source": [
    "Наилучшая метрика f1 = 0.6088 получилась у модели случайного леса со следующими параметрами:   \n",
    "best_depth = 30 best_est = 40 "
   ]
  },
  {
   "cell_type": "code",
   "execution_count": 46,
   "metadata": {},
   "outputs": [
    {
     "data": {
      "text/html": [
       "<style>#sk-container-id-1 {color: black;background-color: white;}#sk-container-id-1 pre{padding: 0;}#sk-container-id-1 div.sk-toggleable {background-color: white;}#sk-container-id-1 label.sk-toggleable__label {cursor: pointer;display: block;width: 100%;margin-bottom: 0;padding: 0.3em;box-sizing: border-box;text-align: center;}#sk-container-id-1 label.sk-toggleable__label-arrow:before {content: \"▸\";float: left;margin-right: 0.25em;color: #696969;}#sk-container-id-1 label.sk-toggleable__label-arrow:hover:before {color: black;}#sk-container-id-1 div.sk-estimator:hover label.sk-toggleable__label-arrow:before {color: black;}#sk-container-id-1 div.sk-toggleable__content {max-height: 0;max-width: 0;overflow: hidden;text-align: left;background-color: #f0f8ff;}#sk-container-id-1 div.sk-toggleable__content pre {margin: 0.2em;color: black;border-radius: 0.25em;background-color: #f0f8ff;}#sk-container-id-1 input.sk-toggleable__control:checked~div.sk-toggleable__content {max-height: 200px;max-width: 100%;overflow: auto;}#sk-container-id-1 input.sk-toggleable__control:checked~label.sk-toggleable__label-arrow:before {content: \"▾\";}#sk-container-id-1 div.sk-estimator input.sk-toggleable__control:checked~label.sk-toggleable__label {background-color: #d4ebff;}#sk-container-id-1 div.sk-label input.sk-toggleable__control:checked~label.sk-toggleable__label {background-color: #d4ebff;}#sk-container-id-1 input.sk-hidden--visually {border: 0;clip: rect(1px 1px 1px 1px);clip: rect(1px, 1px, 1px, 1px);height: 1px;margin: -1px;overflow: hidden;padding: 0;position: absolute;width: 1px;}#sk-container-id-1 div.sk-estimator {font-family: monospace;background-color: #f0f8ff;border: 1px dotted black;border-radius: 0.25em;box-sizing: border-box;margin-bottom: 0.5em;}#sk-container-id-1 div.sk-estimator:hover {background-color: #d4ebff;}#sk-container-id-1 div.sk-parallel-item::after {content: \"\";width: 100%;border-bottom: 1px solid gray;flex-grow: 1;}#sk-container-id-1 div.sk-label:hover label.sk-toggleable__label {background-color: #d4ebff;}#sk-container-id-1 div.sk-serial::before {content: \"\";position: absolute;border-left: 1px solid gray;box-sizing: border-box;top: 0;bottom: 0;left: 50%;z-index: 0;}#sk-container-id-1 div.sk-serial {display: flex;flex-direction: column;align-items: center;background-color: white;padding-right: 0.2em;padding-left: 0.2em;position: relative;}#sk-container-id-1 div.sk-item {position: relative;z-index: 1;}#sk-container-id-1 div.sk-parallel {display: flex;align-items: stretch;justify-content: center;background-color: white;position: relative;}#sk-container-id-1 div.sk-item::before, #sk-container-id-1 div.sk-parallel-item::before {content: \"\";position: absolute;border-left: 1px solid gray;box-sizing: border-box;top: 0;bottom: 0;left: 50%;z-index: -1;}#sk-container-id-1 div.sk-parallel-item {display: flex;flex-direction: column;z-index: 1;position: relative;background-color: white;}#sk-container-id-1 div.sk-parallel-item:first-child::after {align-self: flex-end;width: 50%;}#sk-container-id-1 div.sk-parallel-item:last-child::after {align-self: flex-start;width: 50%;}#sk-container-id-1 div.sk-parallel-item:only-child::after {width: 0;}#sk-container-id-1 div.sk-dashed-wrapped {border: 1px dashed gray;margin: 0 0.4em 0.5em 0.4em;box-sizing: border-box;padding-bottom: 0.4em;background-color: white;}#sk-container-id-1 div.sk-label label {font-family: monospace;font-weight: bold;display: inline-block;line-height: 1.2em;}#sk-container-id-1 div.sk-label-container {text-align: center;}#sk-container-id-1 div.sk-container {/* jupyter's `normalize.less` sets `[hidden] { display: none; }` but bootstrap.min.css set `[hidden] { display: none !important; }` so we also need the `!important` here to be able to override the default hidden behavior on the sphinx rendered scikit-learn.org. See: https://github.com/scikit-learn/scikit-learn/issues/21755 */display: inline-block !important;position: relative;}#sk-container-id-1 div.sk-text-repr-fallback {display: none;}</style><div id=\"sk-container-id-1\" class=\"sk-top-container\"><div class=\"sk-text-repr-fallback\"><pre>RandomForestClassifier(max_depth=30, n_estimators=40, random_state=12345)</pre><b>In a Jupyter environment, please rerun this cell to show the HTML representation or trust the notebook. <br />On GitHub, the HTML representation is unable to render, please try loading this page with nbviewer.org.</b></div><div class=\"sk-container\" hidden><div class=\"sk-item\"><div class=\"sk-estimator sk-toggleable\"><input class=\"sk-toggleable__control sk-hidden--visually\" id=\"sk-estimator-id-1\" type=\"checkbox\" checked><label for=\"sk-estimator-id-1\" class=\"sk-toggleable__label sk-toggleable__label-arrow\">RandomForestClassifier</label><div class=\"sk-toggleable__content\"><pre>RandomForestClassifier(max_depth=30, n_estimators=40, random_state=12345)</pre></div></div></div></div></div>"
      ],
      "text/plain": [
       "RandomForestClassifier(max_depth=30, n_estimators=40, random_state=12345)"
      ]
     },
     "execution_count": 46,
     "metadata": {},
     "output_type": "execute_result"
    }
   ],
   "source": [
    "model = RandomForestClassifier(max_depth=30,n_estimators=40, random_state=12345)\n",
    "model.fit(features_train_up, target_train_up) "
   ]
  },
  {
   "cell_type": "markdown",
   "metadata": {},
   "source": [
    "Посмотрим на качество модели на графиках"
   ]
  },
  {
   "cell_type": "code",
   "execution_count": 50,
   "metadata": {},
   "outputs": [
    {
     "name": "stdout",
     "output_type": "stream",
     "text": [
      "ROC-AUC =  0.8429758882756158\n"
     ]
    },
    {
     "data": {
      "image/png": "[encoded data removed]",
      "text/plain": [
       "<Figure size 432x432 with 1 Axes>"
      ]
     },
     "metadata": {
      "needs_background": "light"
     },
     "output_type": "display_data"
    }
   ],
   "source": [
    "probabilities_valid = model.predict_proba(features_valid)\n",
    "probabilities_one_valid = probabilities_valid[:, 1]\n",
    "auc_roc=roc_auc_score(target_valid,probabilities_one_valid)\n",
    "print('ROC-AUC = ',auc_roc)\n",
    "\n",
    "precision, recall, thresholds = precision_recall_curve(target_valid, probabilities_one_valid)\n",
    "plt.figure(figsize=(6, 6))\n",
    "plt.step(recall, precision, where='post')\n",
    "plt.xlabel('Recall')\n",
    "plt.ylabel('Precision')\n",
    "plt.ylim([0.0, 1.05])\n",
    "plt.xlim([0.0, 1.0])\n",
    "plt.title('Кривая Precision-Recall')\n",
    "plt.show() "
   ]
  },
  {
   "cell_type": "code",
   "execution_count": 48,
   "metadata": {},
   "outputs": [
    {
     "data": {
      "image/png": "[encoded data removed]",
      "text/plain": [
       "<Figure size 432x432 with 1 Axes>"
      ]
     },
     "metadata": {
      "needs_background": "light"
     },
     "output_type": "display_data"
    }
   ],
   "source": [
    "fpr, tpr, thresholds = roc_curve(target_valid, probabilities_one_valid) \n",
    "plt.figure(figsize=(6, 6))\n",
    "plt.plot(fpr, tpr)\n",
    "plt.xlabel('False Positive Rate')\n",
    "plt.ylabel('True Positive Rate')\n",
    "plt.ylim([0, 1])\n",
    "plt.xlim([0, 1])\n",
    "plt.title('ROC-кривая')\n",
    "plt.plot([0, 1], [0, 1], linestyle='--')\n",
    "plt.show()"
   ]
  },
  {
   "cell_type": "markdown",
   "metadata": {},
   "source": [
    "## Тестирование модели"
   ]
  },
  {
   "cell_type": "code",
   "execution_count": 53,
   "metadata": {},
   "outputs": [
    {
     "name": "stdout",
     "output_type": "stream",
     "text": [
      "F1: 0.6129496402877699\n"
     ]
    }
   ],
   "source": [
    "predicted_test = model.predict(features_test)\n",
    "print(\"F1:\", f1_score(target_test, predicted_test))"
   ]
  },
  {
   "cell_type": "code",
   "execution_count": 54,
   "metadata": {},
   "outputs": [
    {
     "name": "stdout",
     "output_type": "stream",
     "text": [
      "[[1358  110]\n",
      " [ 153  198]]\n",
      "0.5641025641025641\n",
      "0.6428571428571429\n"
     ]
    }
   ],
   "source": [
    "print(confusion_matrix(target_valid, predicted_valid))\n",
    "\n",
    "print(recall_score(target_valid,predicted_valid)) # полнота\n",
    "\n",
    "print(precision_score(target_valid,predicted_valid)) #точность"
   ]
  },
  {
   "cell_type": "markdown",
   "metadata": {},
   "source": [
    "Модель случайного леса с подобранными гиперпараметрами показала себя хорошо на тестовой выборке. Метрика F1: 0.6129"
   ]
  },
  {
   "cell_type": "markdown",
   "metadata": {},
   "source": [
    "Вывод:    \n",
    "модель случайного леса предсказывает целевой признак (уход человека из банка) с точностью 0.64.  \n",
    "Качество модель гораздо выше по сравнению с dummy моделью.  \n",
    "Оптимальные гиперпараметры: max_depth=30,n_estimators=40.    \n",
    "Метрика F1: 0.6129  \n"
   ]
  },
  {
   "cell_type": "markdown",
   "metadata": {},
   "source": [
    "## Чек-лист готовности проекта"
   ]
  },
  {
   "cell_type": "markdown",
   "metadata": {},
   "source": [
    "Поставьте 'x' в выполненных пунктах. Далее нажмите Shift+Enter."
   ]
  },
  {
   "cell_type": "markdown",
   "metadata": {},
   "source": [
    "- [x]  Jupyter Notebook открыт\n",
    "- [x]  Весь код выполняется без ошибок\n",
    "- [x]  Ячейки с кодом расположены в порядке исполнения\n",
    "- [x]  Выполнен шаг 1: данные подготовлены\n",
    "- [x]  Выполнен шаг 2: задача исследована\n",
    "    - [x]  Исследован баланс классов\n",
    "    - [x]  Изучены модели без учёта дисбаланса\n",
    "    - [x]  Написаны выводы по результатам исследования\n",
    "- [x]  Выполнен шаг 3: учтён дисбаланс\n",
    "    - [x]  Применено несколько способов борьбы с дисбалансом\n",
    "    - [x]  Написаны выводы по результатам исследования\n",
    "- [x]  Выполнен шаг 4: проведено тестирование\n",
    "- [x]  Удалось достичь *F1*-меры не менее 0.59\n",
    "- [x]  Исследована метрика *AUC-ROC*"
   ]
  },
  {
   "cell_type": "code",
   "execution_count": null,
   "metadata": {},
   "outputs": [],
   "source": []
  }
 ],
 "metadata": {
  "ExecuteTimeLog": [
   {
    "duration": 1140,
    "start_time": "2023-01-04T19:23:58.331Z"
   },
   {
    "duration": 57,
    "start_time": "2023-01-04T19:24:29.008Z"
   },
   {
    "duration": 65,
    "start_time": "2023-01-04T19:24:44.224Z"
   },
   {
    "duration": 137,
    "start_time": "2023-01-04T19:27:18.523Z"
   },
   {
    "duration": 94,
    "start_time": "2023-01-04T19:27:43.481Z"
   },
   {
    "duration": 84,
    "start_time": "2023-01-04T19:29:04.403Z"
   },
   {
    "duration": 122,
    "start_time": "2023-01-04T19:29:16.330Z"
   },
   {
    "duration": 111,
    "start_time": "2023-01-04T19:33:15.388Z"
   },
   {
    "duration": 89,
    "start_time": "2023-01-04T19:34:55.144Z"
   },
   {
    "duration": 108,
    "start_time": "2023-01-04T19:37:55.911Z"
   },
   {
    "duration": 79,
    "start_time": "2023-01-04T20:54:46.336Z"
   },
   {
    "duration": 31,
    "start_time": "2023-01-04T20:55:03.815Z"
   },
   {
    "duration": 61,
    "start_time": "2023-01-04T20:57:38.848Z"
   },
   {
    "duration": 403,
    "start_time": "2023-01-04T21:04:07.337Z"
   },
   {
    "duration": 482,
    "start_time": "2023-01-04T21:05:59.078Z"
   },
   {
    "duration": 86,
    "start_time": "2023-01-04T21:06:57.843Z"
   },
   {
    "duration": 346,
    "start_time": "2023-01-04T21:08:06.806Z"
   },
   {
    "duration": 134,
    "start_time": "2023-01-04T21:08:10.917Z"
   },
   {
    "duration": 352,
    "start_time": "2023-01-04T21:09:10.574Z"
   },
   {
    "duration": 5026,
    "start_time": "2023-01-04T21:09:15.183Z"
   },
   {
    "duration": 23,
    "start_time": "2023-01-04T21:09:57.516Z"
   },
   {
    "duration": 28,
    "start_time": "2023-01-04T21:10:10.117Z"
   },
   {
    "duration": 335,
    "start_time": "2023-01-04T21:12:45.049Z"
   },
   {
    "duration": 64,
    "start_time": "2023-01-04T21:16:23.320Z"
   },
   {
    "duration": 82,
    "start_time": "2023-01-04T21:16:35.909Z"
   },
   {
    "duration": 63,
    "start_time": "2023-01-04T21:20:12.970Z"
   },
   {
    "duration": 69,
    "start_time": "2023-01-04T21:20:24.609Z"
   },
   {
    "duration": 69,
    "start_time": "2023-01-04T21:21:19.249Z"
   },
   {
    "duration": 73,
    "start_time": "2023-01-04T21:21:33.474Z"
   },
   {
    "duration": 71,
    "start_time": "2023-01-04T21:21:57.079Z"
   },
   {
    "duration": 75,
    "start_time": "2023-01-04T21:22:34.003Z"
   },
   {
    "duration": 756,
    "start_time": "2023-01-04T21:23:12.944Z"
   },
   {
    "duration": 756,
    "start_time": "2023-01-04T21:23:32.130Z"
   },
   {
    "duration": 66,
    "start_time": "2023-01-04T21:24:09.407Z"
   },
   {
    "duration": 51,
    "start_time": "2023-01-04T21:24:12.272Z"
   },
   {
    "duration": 50,
    "start_time": "2023-01-04T21:24:17.240Z"
   },
   {
    "duration": 47,
    "start_time": "2023-01-04T21:24:31.923Z"
   },
   {
    "duration": 70,
    "start_time": "2023-01-04T21:24:49.726Z"
   },
   {
    "duration": 70,
    "start_time": "2023-01-04T21:25:50.986Z"
   },
   {
    "duration": 371,
    "start_time": "2023-01-04T21:26:02.883Z"
   },
   {
    "duration": 64,
    "start_time": "2023-01-04T21:26:33.315Z"
   },
   {
    "duration": 351,
    "start_time": "2023-01-04T21:26:44.906Z"
   },
   {
    "duration": 79,
    "start_time": "2023-01-04T21:28:30.005Z"
   },
   {
    "duration": 74,
    "start_time": "2023-01-04T21:28:39.925Z"
   },
   {
    "duration": 79,
    "start_time": "2023-01-04T21:29:04.010Z"
   },
   {
    "duration": 80,
    "start_time": "2023-01-04T21:29:24.126Z"
   },
   {
    "duration": 76,
    "start_time": "2023-01-04T21:29:36.244Z"
   },
   {
    "duration": 69,
    "start_time": "2023-01-04T21:29:45.614Z"
   },
   {
    "duration": 67,
    "start_time": "2023-01-04T21:32:02.258Z"
   },
   {
    "duration": 66,
    "start_time": "2023-01-04T21:32:54.505Z"
   },
   {
    "duration": 68,
    "start_time": "2023-01-04T21:33:59.783Z"
   },
   {
    "duration": 69,
    "start_time": "2023-01-04T21:34:40.800Z"
   },
   {
    "duration": 79,
    "start_time": "2023-01-04T21:37:41.191Z"
   },
   {
    "duration": 71,
    "start_time": "2023-01-04T21:38:37.126Z"
   },
   {
    "duration": 25,
    "start_time": "2023-01-04T21:51:08.349Z"
   },
   {
    "duration": 9,
    "start_time": "2023-01-04T21:53:54.611Z"
   },
   {
    "duration": 53,
    "start_time": "2023-01-04T21:54:11.445Z"
   },
   {
    "duration": 9,
    "start_time": "2023-01-04T21:59:24.560Z"
   },
   {
    "duration": 21,
    "start_time": "2023-01-04T21:59:42.407Z"
   },
   {
    "duration": 392,
    "start_time": "2023-01-04T22:01:42.556Z"
   },
   {
    "duration": 28,
    "start_time": "2023-01-04T22:01:50.763Z"
   },
   {
    "duration": 321,
    "start_time": "2023-01-04T22:01:55.382Z"
   },
   {
    "duration": 72,
    "start_time": "2023-01-04T22:02:41.443Z"
   },
   {
    "duration": 26,
    "start_time": "2023-01-04T22:04:28.090Z"
   },
   {
    "duration": 18,
    "start_time": "2023-01-04T22:04:41.404Z"
   },
   {
    "duration": 1315,
    "start_time": "2023-01-04T22:05:16.239Z"
   },
   {
    "duration": 0,
    "start_time": "2023-01-04T22:05:17.556Z"
   },
   {
    "duration": 0,
    "start_time": "2023-01-04T22:05:17.557Z"
   },
   {
    "duration": 274,
    "start_time": "2023-01-04T22:05:56.709Z"
   },
   {
    "duration": 241,
    "start_time": "2023-01-04T22:06:35.301Z"
   },
   {
    "duration": 9,
    "start_time": "2023-01-04T22:07:51.741Z"
   },
   {
    "duration": 26,
    "start_time": "2023-01-04T22:07:54.708Z"
   },
   {
    "duration": 271,
    "start_time": "2023-01-04T22:08:00.745Z"
   },
   {
    "duration": 225,
    "start_time": "2023-01-04T22:09:52.630Z"
   },
   {
    "duration": 228,
    "start_time": "2023-01-04T22:10:19.122Z"
   },
   {
    "duration": 332,
    "start_time": "2023-01-04T22:10:48.965Z"
   },
   {
    "duration": 75,
    "start_time": "2023-01-04T22:12:00.248Z"
   },
   {
    "duration": 23,
    "start_time": "2023-01-04T22:12:05.969Z"
   },
   {
    "duration": 16,
    "start_time": "2023-01-04T22:12:09.528Z"
   },
   {
    "duration": 73,
    "start_time": "2023-01-04T22:16:59.465Z"
   },
   {
    "duration": 28,
    "start_time": "2023-01-04T22:17:06.215Z"
   },
   {
    "duration": 90,
    "start_time": "2023-01-04T22:17:09.328Z"
   },
   {
    "duration": 54,
    "start_time": "2023-01-04T22:18:10.645Z"
   },
   {
    "duration": 6,
    "start_time": "2023-01-04T22:19:53.296Z"
   },
   {
    "duration": 7,
    "start_time": "2023-01-04T22:24:21.380Z"
   },
   {
    "duration": 39,
    "start_time": "2023-01-04T22:24:28.501Z"
   },
   {
    "duration": 7,
    "start_time": "2023-01-04T22:24:31.263Z"
   },
   {
    "duration": 10,
    "start_time": "2023-01-04T22:24:34.007Z"
   },
   {
    "duration": 5,
    "start_time": "2023-01-04T22:24:51.792Z"
   },
   {
    "duration": 7,
    "start_time": "2023-01-04T22:31:03.684Z"
   },
   {
    "duration": 5,
    "start_time": "2023-01-04T22:31:15.771Z"
   },
   {
    "duration": 5,
    "start_time": "2023-01-04T22:31:37.409Z"
   },
   {
    "duration": 5,
    "start_time": "2023-01-04T22:32:32.969Z"
   },
   {
    "duration": 6,
    "start_time": "2023-01-04T22:33:20.544Z"
   },
   {
    "duration": 64,
    "start_time": "2023-01-04T22:36:58.172Z"
   },
   {
    "duration": 42,
    "start_time": "2023-01-04T22:37:04.593Z"
   },
   {
    "duration": 7,
    "start_time": "2023-01-04T22:37:07.602Z"
   },
   {
    "duration": 6,
    "start_time": "2023-01-04T22:37:10.941Z"
   },
   {
    "duration": 5,
    "start_time": "2023-01-04T22:37:13.566Z"
   },
   {
    "duration": 6,
    "start_time": "2023-01-04T22:37:16.247Z"
   },
   {
    "duration": 4,
    "start_time": "2023-01-04T22:37:19.944Z"
   },
   {
    "duration": 20,
    "start_time": "2023-01-04T22:39:18.631Z"
   },
   {
    "duration": 103,
    "start_time": "2023-01-04T22:39:36.914Z"
   },
   {
    "duration": 16,
    "start_time": "2023-01-04T22:40:01.571Z"
   },
   {
    "duration": 28,
    "start_time": "2023-01-04T22:40:12.392Z"
   },
   {
    "duration": 23,
    "start_time": "2023-01-04T22:40:18.368Z"
   },
   {
    "duration": 31,
    "start_time": "2023-01-04T22:40:23.443Z"
   },
   {
    "duration": 23,
    "start_time": "2023-01-04T22:40:31.377Z"
   },
   {
    "duration": 31,
    "start_time": "2023-01-04T22:40:36.490Z"
   },
   {
    "duration": 99,
    "start_time": "2023-01-04T22:42:34.019Z"
   },
   {
    "duration": 46,
    "start_time": "2023-01-04T22:43:57.870Z"
   },
   {
    "duration": 21,
    "start_time": "2023-01-04T22:49:27.706Z"
   },
   {
    "duration": 230,
    "start_time": "2023-01-04T22:49:42.602Z"
   },
   {
    "duration": 20,
    "start_time": "2023-01-04T22:51:20.698Z"
   },
   {
    "duration": 52,
    "start_time": "2023-01-04T22:51:47.364Z"
   },
   {
    "duration": 604,
    "start_time": "2023-01-04T22:51:58.711Z"
   },
   {
    "duration": 189,
    "start_time": "2023-01-04T22:54:14.128Z"
   },
   {
    "duration": 15,
    "start_time": "2023-01-04T22:54:27.859Z"
   },
   {
    "duration": 22,
    "start_time": "2023-01-04T22:55:54.096Z"
   },
   {
    "duration": 259,
    "start_time": "2023-01-04T22:56:24.242Z"
   },
   {
    "duration": 14,
    "start_time": "2023-01-04T22:56:40.544Z"
   },
   {
    "duration": 905,
    "start_time": "2023-01-08T13:15:29.083Z"
   },
   {
    "duration": 299,
    "start_time": "2023-01-08T13:15:34.253Z"
   },
   {
    "duration": 24,
    "start_time": "2023-01-08T13:15:34.554Z"
   },
   {
    "duration": 114,
    "start_time": "2023-01-08T13:15:34.579Z"
   },
   {
    "duration": 0,
    "start_time": "2023-01-08T13:15:34.695Z"
   },
   {
    "duration": 0,
    "start_time": "2023-01-08T13:15:34.696Z"
   },
   {
    "duration": 0,
    "start_time": "2023-01-08T13:15:34.697Z"
   },
   {
    "duration": 0,
    "start_time": "2023-01-08T13:15:34.698Z"
   },
   {
    "duration": 0,
    "start_time": "2023-01-08T13:15:34.699Z"
   },
   {
    "duration": 0,
    "start_time": "2023-01-08T13:15:34.700Z"
   },
   {
    "duration": 0,
    "start_time": "2023-01-08T13:15:34.701Z"
   },
   {
    "duration": 0,
    "start_time": "2023-01-08T13:15:34.702Z"
   },
   {
    "duration": 0,
    "start_time": "2023-01-08T13:15:34.703Z"
   },
   {
    "duration": 0,
    "start_time": "2023-01-08T13:15:34.704Z"
   },
   {
    "duration": 0,
    "start_time": "2023-01-08T13:15:34.705Z"
   },
   {
    "duration": 43,
    "start_time": "2023-01-08T13:16:48.524Z"
   },
   {
    "duration": 82,
    "start_time": "2023-01-08T13:16:52.529Z"
   },
   {
    "duration": 23,
    "start_time": "2023-01-08T13:16:52.613Z"
   },
   {
    "duration": 59,
    "start_time": "2023-01-08T13:16:52.638Z"
   },
   {
    "duration": 6,
    "start_time": "2023-01-08T13:16:52.699Z"
   },
   {
    "duration": 9,
    "start_time": "2023-01-08T13:16:52.707Z"
   },
   {
    "duration": 7,
    "start_time": "2023-01-08T13:16:52.718Z"
   },
   {
    "duration": 13,
    "start_time": "2023-01-08T13:16:52.726Z"
   },
   {
    "duration": 6,
    "start_time": "2023-01-08T13:16:52.740Z"
   },
   {
    "duration": 84,
    "start_time": "2023-01-08T13:16:52.747Z"
   },
   {
    "duration": 16,
    "start_time": "2023-01-08T13:16:52.833Z"
   },
   {
    "duration": 0,
    "start_time": "2023-01-08T13:16:52.850Z"
   },
   {
    "duration": 0,
    "start_time": "2023-01-08T13:16:52.852Z"
   },
   {
    "duration": 0,
    "start_time": "2023-01-08T13:16:52.853Z"
   },
   {
    "duration": 0,
    "start_time": "2023-01-08T13:16:52.854Z"
   },
   {
    "duration": 63,
    "start_time": "2023-01-08T13:18:23.385Z"
   },
   {
    "duration": 63,
    "start_time": "2023-01-08T13:18:34.403Z"
   },
   {
    "duration": 27,
    "start_time": "2023-01-08T13:18:47.345Z"
   },
   {
    "duration": 196,
    "start_time": "2023-01-08T13:18:59.502Z"
   },
   {
    "duration": 641,
    "start_time": "2023-01-08T13:19:22.338Z"
   },
   {
    "duration": 296,
    "start_time": "2023-01-08T13:19:41.043Z"
   },
   {
    "duration": 16,
    "start_time": "2023-01-08T13:19:52.413Z"
   },
   {
    "duration": 86,
    "start_time": "2023-01-08T13:24:56.342Z"
   },
   {
    "duration": 80,
    "start_time": "2023-01-08T13:25:14.993Z"
   },
   {
    "duration": 88,
    "start_time": "2023-01-08T13:25:56.857Z"
   },
   {
    "duration": 3,
    "start_time": "2023-01-08T13:26:31.148Z"
   },
   {
    "duration": 78,
    "start_time": "2023-01-08T13:26:32.628Z"
   },
   {
    "duration": 27,
    "start_time": "2023-01-08T13:26:36.774Z"
   },
   {
    "duration": 14,
    "start_time": "2023-01-08T13:26:42.196Z"
   },
   {
    "duration": 3,
    "start_time": "2023-01-08T13:26:59.854Z"
   },
   {
    "duration": 82,
    "start_time": "2023-01-08T13:27:01.746Z"
   },
   {
    "duration": 22,
    "start_time": "2023-01-08T13:27:06.288Z"
   },
   {
    "duration": 33,
    "start_time": "2023-01-08T13:27:14.675Z"
   },
   {
    "duration": 16,
    "start_time": "2023-01-08T13:27:48.470Z"
   },
   {
    "duration": 8,
    "start_time": "2023-01-08T13:27:56.847Z"
   },
   {
    "duration": 6,
    "start_time": "2023-01-08T13:28:06.106Z"
   },
   {
    "duration": 5,
    "start_time": "2023-01-08T13:28:46.870Z"
   },
   {
    "duration": 5,
    "start_time": "2023-01-08T13:28:52.521Z"
   },
   {
    "duration": 5,
    "start_time": "2023-01-08T13:28:58.015Z"
   },
   {
    "duration": 49,
    "start_time": "2023-01-08T13:29:40.250Z"
   },
   {
    "duration": 6,
    "start_time": "2023-01-08T13:29:45.086Z"
   },
   {
    "duration": 6,
    "start_time": "2023-01-08T13:29:47.829Z"
   },
   {
    "duration": 6,
    "start_time": "2023-01-08T13:29:51.111Z"
   },
   {
    "duration": 5,
    "start_time": "2023-01-08T13:29:54.263Z"
   },
   {
    "duration": 3,
    "start_time": "2023-01-08T13:30:13.569Z"
   },
   {
    "duration": 3,
    "start_time": "2023-01-08T13:30:19.963Z"
   },
   {
    "duration": 80,
    "start_time": "2023-01-08T13:30:21.844Z"
   },
   {
    "duration": 22,
    "start_time": "2023-01-08T13:30:28.765Z"
   },
   {
    "duration": 41,
    "start_time": "2023-01-08T13:30:35.589Z"
   },
   {
    "duration": 8,
    "start_time": "2023-01-08T13:30:38.469Z"
   },
   {
    "duration": 6,
    "start_time": "2023-01-08T13:30:42.239Z"
   },
   {
    "duration": 4,
    "start_time": "2023-01-08T13:31:47.279Z"
   },
   {
    "duration": 4,
    "start_time": "2023-01-08T13:32:08.792Z"
   },
   {
    "duration": 83,
    "start_time": "2023-01-08T13:32:10.808Z"
   },
   {
    "duration": 28,
    "start_time": "2023-01-08T13:32:15.236Z"
   },
   {
    "duration": 49,
    "start_time": "2023-01-08T13:32:19.566Z"
   },
   {
    "duration": 7,
    "start_time": "2023-01-08T13:32:22.315Z"
   },
   {
    "duration": 6,
    "start_time": "2023-01-08T13:32:27.485Z"
   },
   {
    "duration": 5,
    "start_time": "2023-01-08T13:32:38.215Z"
   },
   {
    "duration": 5,
    "start_time": "2023-01-08T13:32:40.240Z"
   },
   {
    "duration": 5,
    "start_time": "2023-01-08T13:32:42.453Z"
   },
   {
    "duration": 60,
    "start_time": "2023-01-08T13:32:51.199Z"
   },
   {
    "duration": 3,
    "start_time": "2023-01-08T13:34:37.397Z"
   },
   {
    "duration": 30,
    "start_time": "2023-01-08T13:35:16.030Z"
   },
   {
    "duration": 28,
    "start_time": "2023-01-08T13:35:33.421Z"
   },
   {
    "duration": 3,
    "start_time": "2023-01-08T13:37:21.604Z"
   },
   {
    "duration": 73,
    "start_time": "2023-01-08T13:38:44.793Z"
   },
   {
    "duration": 32,
    "start_time": "2023-01-08T13:38:53.789Z"
   },
   {
    "duration": 4,
    "start_time": "2023-01-08T13:40:49.083Z"
   },
   {
    "duration": 86,
    "start_time": "2023-01-08T13:40:51.976Z"
   },
   {
    "duration": 30,
    "start_time": "2023-01-08T13:40:55.951Z"
   },
   {
    "duration": 44,
    "start_time": "2023-01-08T13:40:59.568Z"
   },
   {
    "duration": 7,
    "start_time": "2023-01-08T13:41:02.105Z"
   },
   {
    "duration": 42,
    "start_time": "2023-01-08T13:41:12.028Z"
   },
   {
    "duration": 5,
    "start_time": "2023-01-08T13:41:33.381Z"
   },
   {
    "duration": 62,
    "start_time": "2023-01-08T13:42:11.916Z"
   },
   {
    "duration": 30,
    "start_time": "2023-01-08T13:42:33.688Z"
   },
   {
    "duration": 106,
    "start_time": "2023-01-08T13:43:51.080Z"
   },
   {
    "duration": 295,
    "start_time": "2023-01-08T13:44:27.759Z"
   },
   {
    "duration": 304,
    "start_time": "2023-01-08T13:44:36.574Z"
   },
   {
    "duration": 348,
    "start_time": "2023-01-08T13:44:48.552Z"
   },
   {
    "duration": 3,
    "start_time": "2023-01-08T13:45:40.456Z"
   },
   {
    "duration": 21,
    "start_time": "2023-01-08T13:56:46.123Z"
   },
   {
    "duration": 39,
    "start_time": "2023-01-08T13:56:48.661Z"
   },
   {
    "duration": 6,
    "start_time": "2023-01-08T13:56:53.597Z"
   },
   {
    "duration": 5,
    "start_time": "2023-01-08T13:56:55.790Z"
   },
   {
    "duration": 6,
    "start_time": "2023-01-08T13:56:58.694Z"
   },
   {
    "duration": 6,
    "start_time": "2023-01-08T13:57:00.576Z"
   },
   {
    "duration": 5,
    "start_time": "2023-01-08T13:57:02.845Z"
   },
   {
    "duration": 44,
    "start_time": "2023-01-08T13:57:21.290Z"
   },
   {
    "duration": 44,
    "start_time": "2023-01-08T13:57:35.395Z"
   },
   {
    "duration": 7,
    "start_time": "2023-01-08T13:57:42.307Z"
   },
   {
    "duration": 5,
    "start_time": "2023-01-08T13:57:45.514Z"
   },
   {
    "duration": 5,
    "start_time": "2023-01-08T13:57:50.414Z"
   },
   {
    "duration": 6,
    "start_time": "2023-01-08T13:57:58.500Z"
   },
   {
    "duration": 63,
    "start_time": "2023-01-08T13:58:08.175Z"
   },
   {
    "duration": 20,
    "start_time": "2023-01-08T13:59:09.880Z"
   },
   {
    "duration": 42,
    "start_time": "2023-01-08T13:59:33.796Z"
   },
   {
    "duration": 7,
    "start_time": "2023-01-08T13:59:37.619Z"
   },
   {
    "duration": 6,
    "start_time": "2023-01-08T13:59:41.092Z"
   },
   {
    "duration": 5,
    "start_time": "2023-01-08T13:59:45.326Z"
   },
   {
    "duration": 4,
    "start_time": "2023-01-08T13:59:47.961Z"
   },
   {
    "duration": 5,
    "start_time": "2023-01-08T13:59:52.069Z"
   },
   {
    "duration": 61,
    "start_time": "2023-01-08T14:00:30.054Z"
   },
   {
    "duration": 49,
    "start_time": "2023-01-08T14:00:50.162Z"
   },
   {
    "duration": 89,
    "start_time": "2023-01-08T14:01:04.254Z"
   },
   {
    "duration": 89,
    "start_time": "2023-01-08T14:01:16.217Z"
   },
   {
    "duration": 111,
    "start_time": "2023-01-08T14:01:21.642Z"
   },
   {
    "duration": 128,
    "start_time": "2023-01-08T14:01:29.809Z"
   },
   {
    "duration": 146,
    "start_time": "2023-01-08T14:01:53.606Z"
   },
   {
    "duration": 151,
    "start_time": "2023-01-08T14:03:21.795Z"
   },
   {
    "duration": 109,
    "start_time": "2023-01-08T14:03:26.140Z"
   },
   {
    "duration": 118,
    "start_time": "2023-01-08T14:03:36.658Z"
   },
   {
    "duration": 109,
    "start_time": "2023-01-08T14:04:14.535Z"
   },
   {
    "duration": 269,
    "start_time": "2023-01-08T14:04:33.581Z"
   },
   {
    "duration": 158,
    "start_time": "2023-01-08T14:04:45.026Z"
   },
   {
    "duration": 106,
    "start_time": "2023-01-08T14:04:51.132Z"
   },
   {
    "duration": 139,
    "start_time": "2023-01-08T14:05:55.128Z"
   },
   {
    "duration": 112,
    "start_time": "2023-01-08T14:06:00.205Z"
   },
   {
    "duration": 122,
    "start_time": "2023-01-08T14:06:05.076Z"
   },
   {
    "duration": 106,
    "start_time": "2023-01-08T14:06:20.931Z"
   },
   {
    "duration": 4,
    "start_time": "2023-01-08T14:07:33.004Z"
   },
   {
    "duration": 6,
    "start_time": "2023-01-08T14:08:15.547Z"
   },
   {
    "duration": 17,
    "start_time": "2023-01-08T14:09:22.853Z"
   },
   {
    "duration": 12,
    "start_time": "2023-01-08T14:10:00.004Z"
   },
   {
    "duration": 9,
    "start_time": "2023-01-08T14:10:07.894Z"
   },
   {
    "duration": 47,
    "start_time": "2023-01-08T14:12:12.464Z"
   },
   {
    "duration": 6,
    "start_time": "2023-01-08T14:12:14.596Z"
   },
   {
    "duration": 6,
    "start_time": "2023-01-08T14:12:16.770Z"
   },
   {
    "duration": 5,
    "start_time": "2023-01-08T14:12:20.275Z"
   },
   {
    "duration": 5,
    "start_time": "2023-01-08T14:12:22.813Z"
   },
   {
    "duration": 7,
    "start_time": "2023-01-08T14:12:24.808Z"
   },
   {
    "duration": 61,
    "start_time": "2023-01-08T14:12:27.264Z"
   },
   {
    "duration": 154,
    "start_time": "2023-01-08T14:12:30.949Z"
   },
   {
    "duration": 110,
    "start_time": "2023-01-08T14:12:39.990Z"
   },
   {
    "duration": 114,
    "start_time": "2023-01-08T14:12:45.383Z"
   },
   {
    "duration": 5,
    "start_time": "2023-01-08T14:12:48.888Z"
   },
   {
    "duration": 6,
    "start_time": "2023-01-08T14:12:51.258Z"
   },
   {
    "duration": 68,
    "start_time": "2023-01-08T14:13:31.261Z"
   },
   {
    "duration": 141,
    "start_time": "2023-01-08T14:13:37.799Z"
   },
   {
    "duration": 124,
    "start_time": "2023-01-08T14:13:41.784Z"
   },
   {
    "duration": 245,
    "start_time": "2023-01-08T14:13:44.800Z"
   },
   {
    "duration": 5,
    "start_time": "2023-01-08T14:13:48.395Z"
   },
   {
    "duration": 11,
    "start_time": "2023-01-08T14:22:31.140Z"
   },
   {
    "duration": 13,
    "start_time": "2023-01-08T14:23:11.127Z"
   },
   {
    "duration": 82,
    "start_time": "2023-01-08T14:23:16.243Z"
   },
   {
    "duration": 25,
    "start_time": "2023-01-08T14:23:20.238Z"
   },
   {
    "duration": 53,
    "start_time": "2023-01-08T14:23:23.064Z"
   },
   {
    "duration": 1479,
    "start_time": "2023-01-08T14:26:54.354Z"
   },
   {
    "duration": 93,
    "start_time": "2023-01-08T14:26:55.835Z"
   },
   {
    "duration": 21,
    "start_time": "2023-01-08T14:26:55.930Z"
   },
   {
    "duration": 57,
    "start_time": "2023-01-08T14:26:55.954Z"
   },
   {
    "duration": 13,
    "start_time": "2023-01-08T14:29:38.065Z"
   },
   {
    "duration": 8,
    "start_time": "2023-01-08T14:29:38.080Z"
   },
   {
    "duration": 5,
    "start_time": "2023-01-08T14:29:38.090Z"
   },
   {
    "duration": 6,
    "start_time": "2023-01-08T14:29:38.096Z"
   },
   {
    "duration": 5,
    "start_time": "2023-01-08T14:29:38.105Z"
   },
   {
    "duration": 2025,
    "start_time": "2023-01-08T14:29:38.112Z"
   },
   {
    "duration": 730,
    "start_time": "2023-01-08T14:29:40.139Z"
   },
   {
    "duration": 221,
    "start_time": "2023-01-08T14:29:40.870Z"
   },
   {
    "duration": 128,
    "start_time": "2023-01-08T14:29:41.093Z"
   },
   {
    "duration": 120,
    "start_time": "2023-01-08T14:29:41.223Z"
   },
   {
    "duration": 5,
    "start_time": "2023-01-08T14:29:41.344Z"
   },
   {
    "duration": 70,
    "start_time": "2023-01-08T14:29:41.351Z"
   },
   {
    "duration": 156936,
    "start_time": "2023-01-08T14:29:41.423Z"
   },
   {
    "duration": 6406,
    "start_time": "2023-01-08T14:32:24.287Z"
   },
   {
    "duration": 6039,
    "start_time": "2023-01-08T14:34:07.197Z"
   },
   {
    "duration": 6,
    "start_time": "2023-01-08T14:34:14.893Z"
   },
   {
    "duration": 90,
    "start_time": "2023-01-08T14:34:16.643Z"
   },
   {
    "duration": 23,
    "start_time": "2023-01-08T14:34:20.797Z"
   },
   {
    "duration": 6119,
    "start_time": "2023-01-08T14:34:24.344Z"
   },
   {
    "duration": 12,
    "start_time": "2023-01-08T14:34:33.373Z"
   },
   {
    "duration": 10,
    "start_time": "2023-01-08T14:34:36.025Z"
   },
   {
    "duration": 5,
    "start_time": "2023-01-08T14:34:39.270Z"
   },
   {
    "duration": 6,
    "start_time": "2023-01-08T14:34:41.899Z"
   },
   {
    "duration": 6,
    "start_time": "2023-01-08T14:34:48.303Z"
   },
   {
    "duration": 621,
    "start_time": "2023-01-08T14:34:50.600Z"
   },
   {
    "duration": 246,
    "start_time": "2023-01-08T14:35:04.147Z"
   },
   {
    "duration": 130,
    "start_time": "2023-01-08T14:35:44.303Z"
   },
   {
    "duration": 124,
    "start_time": "2023-01-08T14:35:52.107Z"
   },
   {
    "duration": 5,
    "start_time": "2023-01-08T14:35:56.256Z"
   },
   {
    "duration": 33,
    "start_time": "2023-01-08T14:35:59.256Z"
   },
   {
    "duration": 240,
    "start_time": "2023-01-08T14:37:02.290Z"
   },
   {
    "duration": 732,
    "start_time": "2023-01-08T14:37:04.291Z"
   },
   {
    "duration": 168,
    "start_time": "2023-01-08T14:37:11.596Z"
   },
   {
    "duration": 192,
    "start_time": "2023-01-08T14:39:02.795Z"
   },
   {
    "duration": 188,
    "start_time": "2023-01-08T14:42:03.406Z"
   },
   {
    "duration": 193,
    "start_time": "2023-01-08T14:43:48.624Z"
   },
   {
    "duration": 188,
    "start_time": "2023-01-08T14:48:15.933Z"
   },
   {
    "duration": 127,
    "start_time": "2023-01-08T14:53:01.526Z"
   },
   {
    "duration": 5,
    "start_time": "2023-01-08T14:53:04.438Z"
   },
   {
    "duration": 25,
    "start_time": "2023-01-08T14:53:06.737Z"
   },
   {
    "duration": 6,
    "start_time": "2023-01-08T14:53:26.188Z"
   },
   {
    "duration": 84,
    "start_time": "2023-01-08T14:53:28.304Z"
   },
   {
    "duration": 23,
    "start_time": "2023-01-08T14:53:32.394Z"
   },
   {
    "duration": 7,
    "start_time": "2023-01-08T14:53:40.842Z"
   },
   {
    "duration": 9,
    "start_time": "2023-01-08T14:53:42.900Z"
   },
   {
    "duration": 6,
    "start_time": "2023-01-08T14:53:44.860Z"
   },
   {
    "duration": 6,
    "start_time": "2023-01-08T14:53:47.541Z"
   },
   {
    "duration": 5,
    "start_time": "2023-01-08T14:53:50.045Z"
   },
   {
    "duration": 263,
    "start_time": "2023-01-08T14:53:52.854Z"
   },
   {
    "duration": 189,
    "start_time": "2023-01-08T14:53:55.517Z"
   },
   {
    "duration": 138,
    "start_time": "2023-01-08T14:54:29.249Z"
   },
   {
    "duration": 26,
    "start_time": "2023-01-08T14:55:31.995Z"
   },
   {
    "duration": 7,
    "start_time": "2023-01-08T14:55:35.634Z"
   },
   {
    "duration": 24,
    "start_time": "2023-01-08T14:55:38.391Z"
   },
   {
    "duration": 7,
    "start_time": "2023-01-08T14:56:16.209Z"
   },
   {
    "duration": 6,
    "start_time": "2023-01-08T14:56:20.449Z"
   },
   {
    "duration": 9,
    "start_time": "2023-01-08T14:56:22.498Z"
   },
   {
    "duration": 6,
    "start_time": "2023-01-08T14:56:26.388Z"
   },
   {
    "duration": 7,
    "start_time": "2023-01-08T14:56:29.339Z"
   },
   {
    "duration": 269,
    "start_time": "2023-01-08T14:56:37.300Z"
   },
   {
    "duration": 189,
    "start_time": "2023-01-08T14:56:39.710Z"
   },
   {
    "duration": 170,
    "start_time": "2023-01-08T14:56:47.208Z"
   },
   {
    "duration": 121,
    "start_time": "2023-01-08T14:56:50.837Z"
   },
   {
    "duration": 6,
    "start_time": "2023-01-08T14:56:55.661Z"
   },
   {
    "duration": 24,
    "start_time": "2023-01-08T14:56:58.039Z"
   },
   {
    "duration": 89,
    "start_time": "2023-01-08T14:58:11.443Z"
   },
   {
    "duration": 23,
    "start_time": "2023-01-08T14:58:15.793Z"
   },
   {
    "duration": 6063,
    "start_time": "2023-01-08T14:58:23.067Z"
   },
   {
    "duration": 6,
    "start_time": "2023-01-08T14:58:31.868Z"
   },
   {
    "duration": 13,
    "start_time": "2023-01-08T14:58:34.300Z"
   },
   {
    "duration": 6,
    "start_time": "2023-01-08T14:58:36.589Z"
   },
   {
    "duration": 6,
    "start_time": "2023-01-08T14:58:39.607Z"
   },
   {
    "duration": 6,
    "start_time": "2023-01-08T14:58:41.753Z"
   },
   {
    "duration": 256,
    "start_time": "2023-01-08T14:58:46.162Z"
   },
   {
    "duration": 273,
    "start_time": "2023-01-08T14:58:54.964Z"
   },
   {
    "duration": 642,
    "start_time": "2023-01-08T14:58:57.661Z"
   },
   {
    "duration": 189,
    "start_time": "2023-01-08T14:59:00.743Z"
   },
   {
    "duration": 147,
    "start_time": "2023-01-08T14:59:19.255Z"
   },
   {
    "duration": 129,
    "start_time": "2023-01-08T14:59:30.840Z"
   },
   {
    "duration": 6,
    "start_time": "2023-01-08T14:59:34.244Z"
   },
   {
    "duration": 28,
    "start_time": "2023-01-08T14:59:37.292Z"
   },
   {
    "duration": 246,
    "start_time": "2023-01-08T15:13:11.543Z"
   },
   {
    "duration": 255,
    "start_time": "2023-01-08T15:13:22.665Z"
   },
   {
    "duration": 6,
    "start_time": "2023-01-08T15:13:27.466Z"
   },
   {
    "duration": 264,
    "start_time": "2023-01-08T15:13:29.594Z"
   },
   {
    "duration": 645,
    "start_time": "2023-01-08T15:13:42.410Z"
   },
   {
    "duration": 669,
    "start_time": "2023-01-08T15:13:57.195Z"
   },
   {
    "duration": 618,
    "start_time": "2023-01-08T15:14:05.689Z"
   },
   {
    "duration": 256,
    "start_time": "2023-01-08T15:14:18.736Z"
   },
   {
    "duration": 663,
    "start_time": "2023-01-08T15:14:21.112Z"
   },
   {
    "duration": 117,
    "start_time": "2023-01-08T15:14:28.002Z"
   },
   {
    "duration": 123,
    "start_time": "2023-01-08T15:14:31.260Z"
   },
   {
    "duration": 5,
    "start_time": "2023-01-08T15:14:35.451Z"
   },
   {
    "duration": 29,
    "start_time": "2023-01-08T15:14:37.854Z"
   },
   {
    "duration": 45,
    "start_time": "2023-01-08T15:43:58.774Z"
   },
   {
    "duration": 8,
    "start_time": "2023-01-08T15:46:56.836Z"
   },
   {
    "duration": 1480,
    "start_time": "2023-01-08T15:47:04.727Z"
   },
   {
    "duration": 203,
    "start_time": "2023-01-08T15:47:06.209Z"
   },
   {
    "duration": 33,
    "start_time": "2023-01-08T15:47:06.414Z"
   },
   {
    "duration": 5396,
    "start_time": "2023-01-08T15:47:06.449Z"
   },
   {
    "duration": 8,
    "start_time": "2023-01-08T15:47:11.847Z"
   },
   {
    "duration": 80,
    "start_time": "2023-01-08T15:47:11.856Z"
   },
   {
    "duration": 0,
    "start_time": "2023-01-08T15:47:11.939Z"
   },
   {
    "duration": 0,
    "start_time": "2023-01-08T15:47:11.940Z"
   },
   {
    "duration": 0,
    "start_time": "2023-01-08T15:47:11.942Z"
   },
   {
    "duration": 0,
    "start_time": "2023-01-08T15:47:11.943Z"
   },
   {
    "duration": 0,
    "start_time": "2023-01-08T15:47:11.944Z"
   },
   {
    "duration": 0,
    "start_time": "2023-01-08T15:47:11.945Z"
   },
   {
    "duration": 0,
    "start_time": "2023-01-08T15:47:11.947Z"
   },
   {
    "duration": 0,
    "start_time": "2023-01-08T15:47:11.948Z"
   },
   {
    "duration": 0,
    "start_time": "2023-01-08T15:47:11.949Z"
   },
   {
    "duration": 0,
    "start_time": "2023-01-08T15:47:11.950Z"
   },
   {
    "duration": 0,
    "start_time": "2023-01-08T15:47:11.952Z"
   },
   {
    "duration": 15,
    "start_time": "2023-01-08T15:47:19.791Z"
   },
   {
    "duration": 6,
    "start_time": "2023-01-08T15:48:11.131Z"
   },
   {
    "duration": 115,
    "start_time": "2023-01-08T15:48:12.957Z"
   },
   {
    "duration": 30,
    "start_time": "2023-01-08T15:48:16.595Z"
   },
   {
    "duration": 6499,
    "start_time": "2023-01-08T15:48:18.806Z"
   },
   {
    "duration": 9,
    "start_time": "2023-01-08T15:48:27.262Z"
   },
   {
    "duration": 13,
    "start_time": "2023-01-08T15:48:29.279Z"
   },
   {
    "duration": 17,
    "start_time": "2023-01-08T15:49:00.370Z"
   },
   {
    "duration": 7,
    "start_time": "2023-01-08T15:49:47.851Z"
   },
   {
    "duration": 13,
    "start_time": "2023-01-08T15:49:54.645Z"
   },
   {
    "duration": 6,
    "start_time": "2023-01-08T15:50:07.302Z"
   },
   {
    "duration": 6,
    "start_time": "2023-01-08T15:50:15.015Z"
   },
   {
    "duration": 7,
    "start_time": "2023-01-08T15:50:17.861Z"
   },
   {
    "duration": 7,
    "start_time": "2023-01-08T15:50:20.453Z"
   },
   {
    "duration": 249,
    "start_time": "2023-01-08T15:50:46.369Z"
   },
   {
    "duration": 662,
    "start_time": "2023-01-08T15:50:48.865Z"
   },
   {
    "duration": 178,
    "start_time": "2023-01-08T15:50:52.666Z"
   },
   {
    "duration": 6063,
    "start_time": "2023-01-08T15:52:18.271Z"
   },
   {
    "duration": 7,
    "start_time": "2023-01-08T15:52:44.340Z"
   },
   {
    "duration": 6,
    "start_time": "2023-01-08T15:52:46.450Z"
   },
   {
    "duration": 7,
    "start_time": "2023-01-08T15:52:48.963Z"
   },
   {
    "duration": 5,
    "start_time": "2023-01-08T15:52:51.163Z"
   },
   {
    "duration": 33,
    "start_time": "2023-01-08T15:52:54.676Z"
   },
   {
    "duration": 23,
    "start_time": "2023-01-08T15:53:48.356Z"
   },
   {
    "duration": 5,
    "start_time": "2023-01-08T15:54:01.495Z"
   },
   {
    "duration": 90,
    "start_time": "2023-01-08T15:54:01.502Z"
   },
   {
    "duration": 24,
    "start_time": "2023-01-08T15:54:01.594Z"
   },
   {
    "duration": 5591,
    "start_time": "2023-01-08T15:54:01.620Z"
   },
   {
    "duration": 9,
    "start_time": "2023-01-08T15:54:07.213Z"
   },
   {
    "duration": 19,
    "start_time": "2023-01-08T15:54:07.233Z"
   },
   {
    "duration": 9,
    "start_time": "2023-01-08T15:54:07.254Z"
   },
   {
    "duration": 18,
    "start_time": "2023-01-08T15:54:07.264Z"
   },
   {
    "duration": 6,
    "start_time": "2023-01-08T15:54:07.285Z"
   },
   {
    "duration": 26,
    "start_time": "2023-01-08T15:54:07.292Z"
   },
   {
    "duration": 0,
    "start_time": "2023-01-08T15:54:07.320Z"
   },
   {
    "duration": 0,
    "start_time": "2023-01-08T15:54:07.322Z"
   },
   {
    "duration": 0,
    "start_time": "2023-01-08T15:54:07.323Z"
   },
   {
    "duration": 0,
    "start_time": "2023-01-08T15:54:07.324Z"
   },
   {
    "duration": 0,
    "start_time": "2023-01-08T15:54:07.325Z"
   },
   {
    "duration": 0,
    "start_time": "2023-01-08T15:54:07.326Z"
   },
   {
    "duration": 0,
    "start_time": "2023-01-08T15:54:07.327Z"
   },
   {
    "duration": 32,
    "start_time": "2023-01-08T15:54:22.938Z"
   },
   {
    "duration": 3137,
    "start_time": "2023-01-08T15:54:55.284Z"
   },
   {
    "duration": 7,
    "start_time": "2023-01-08T15:55:07.749Z"
   },
   {
    "duration": 6,
    "start_time": "2023-01-08T15:55:11.130Z"
   },
   {
    "duration": 7,
    "start_time": "2023-01-08T15:55:16.526Z"
   },
   {
    "duration": 7,
    "start_time": "2023-01-08T15:55:18.551Z"
   },
   {
    "duration": 6,
    "start_time": "2023-01-08T15:55:20.648Z"
   },
   {
    "duration": 30,
    "start_time": "2023-01-08T15:55:22.707Z"
   },
   {
    "duration": 1359,
    "start_time": "2023-01-08T15:55:28.660Z"
   },
   {
    "duration": 89,
    "start_time": "2023-01-08T15:55:30.022Z"
   },
   {
    "duration": 35,
    "start_time": "2023-01-08T15:55:30.114Z"
   },
   {
    "duration": 232,
    "start_time": "2023-01-08T15:55:30.152Z"
   },
   {
    "duration": 0,
    "start_time": "2023-01-08T15:55:30.386Z"
   },
   {
    "duration": 0,
    "start_time": "2023-01-08T15:55:30.388Z"
   },
   {
    "duration": 0,
    "start_time": "2023-01-08T15:55:30.390Z"
   },
   {
    "duration": 0,
    "start_time": "2023-01-08T15:55:30.391Z"
   },
   {
    "duration": 0,
    "start_time": "2023-01-08T15:55:30.393Z"
   },
   {
    "duration": 0,
    "start_time": "2023-01-08T15:55:30.394Z"
   },
   {
    "duration": 0,
    "start_time": "2023-01-08T15:55:30.396Z"
   },
   {
    "duration": 0,
    "start_time": "2023-01-08T15:55:30.397Z"
   },
   {
    "duration": 0,
    "start_time": "2023-01-08T15:55:30.399Z"
   },
   {
    "duration": 0,
    "start_time": "2023-01-08T15:55:30.400Z"
   },
   {
    "duration": 0,
    "start_time": "2023-01-08T15:55:30.402Z"
   },
   {
    "duration": 0,
    "start_time": "2023-01-08T15:55:30.403Z"
   },
   {
    "duration": 0,
    "start_time": "2023-01-08T15:55:30.404Z"
   },
   {
    "duration": 77,
    "start_time": "2023-01-08T15:56:00.111Z"
   },
   {
    "duration": 5881,
    "start_time": "2023-01-08T15:56:08.631Z"
   },
   {
    "duration": 9,
    "start_time": "2023-01-08T15:56:17.390Z"
   },
   {
    "duration": 8,
    "start_time": "2023-01-08T15:56:20.086Z"
   },
   {
    "duration": 6,
    "start_time": "2023-01-08T15:56:22.655Z"
   },
   {
    "duration": 6,
    "start_time": "2023-01-08T15:56:24.259Z"
   },
   {
    "duration": 6,
    "start_time": "2023-01-08T15:56:26.223Z"
   },
   {
    "duration": 270,
    "start_time": "2023-01-08T15:56:28.777Z"
   },
   {
    "duration": 728,
    "start_time": "2023-01-08T15:56:31.392Z"
   },
   {
    "duration": 206,
    "start_time": "2023-01-08T15:56:34.536Z"
   },
   {
    "duration": 39,
    "start_time": "2023-01-08T15:56:40.603Z"
   },
   {
    "duration": 34,
    "start_time": "2023-01-08T15:57:31.221Z"
   },
   {
    "duration": 42,
    "start_time": "2023-01-08T15:57:39.277Z"
   },
   {
    "duration": 37,
    "start_time": "2023-01-08T15:57:42.902Z"
   },
   {
    "duration": 41,
    "start_time": "2023-01-08T15:57:47.036Z"
   },
   {
    "duration": 35,
    "start_time": "2023-01-08T15:57:51.172Z"
   },
   {
    "duration": 41,
    "start_time": "2023-01-08T15:57:55.261Z"
   },
   {
    "duration": 43,
    "start_time": "2023-01-08T15:58:01.014Z"
   },
   {
    "duration": 33,
    "start_time": "2023-01-08T15:58:04.638Z"
   },
   {
    "duration": 38,
    "start_time": "2023-01-08T15:58:09.970Z"
   },
   {
    "duration": 40,
    "start_time": "2023-01-08T15:58:14.704Z"
   },
   {
    "duration": 37,
    "start_time": "2023-01-08T15:58:21.403Z"
   },
   {
    "duration": 37,
    "start_time": "2023-01-08T15:58:25.689Z"
   },
   {
    "duration": 41,
    "start_time": "2023-01-08T15:58:29.827Z"
   },
   {
    "duration": 44,
    "start_time": "2023-01-08T15:58:34.207Z"
   },
   {
    "duration": 40,
    "start_time": "2023-01-08T15:58:41.180Z"
   },
   {
    "duration": 35,
    "start_time": "2023-01-08T15:58:57.409Z"
   },
   {
    "duration": 40,
    "start_time": "2023-01-08T15:59:03.559Z"
   },
   {
    "duration": 36,
    "start_time": "2023-01-08T15:59:11.720Z"
   },
   {
    "duration": 39,
    "start_time": "2023-01-08T15:59:16.410Z"
   },
   {
    "duration": 40,
    "start_time": "2023-01-08T15:59:20.915Z"
   },
   {
    "duration": 41,
    "start_time": "2023-01-08T15:59:24.906Z"
   },
   {
    "duration": 41,
    "start_time": "2023-01-08T15:59:28.250Z"
   },
   {
    "duration": 37,
    "start_time": "2023-01-08T15:59:31.622Z"
   },
   {
    "duration": 34,
    "start_time": "2023-01-08T15:59:36.736Z"
   },
   {
    "duration": 36,
    "start_time": "2023-01-08T15:59:40.886Z"
   },
   {
    "duration": 48,
    "start_time": "2023-01-08T15:59:44.406Z"
   },
   {
    "duration": 35,
    "start_time": "2023-01-08T15:59:48.045Z"
   },
   {
    "duration": 40,
    "start_time": "2023-01-08T16:00:02.199Z"
   },
   {
    "duration": 39,
    "start_time": "2023-01-08T16:00:16.175Z"
   },
   {
    "duration": 132,
    "start_time": "2023-01-08T16:01:55.211Z"
   },
   {
    "duration": 128,
    "start_time": "2023-01-08T16:01:57.844Z"
   },
   {
    "duration": 6,
    "start_time": "2023-01-08T16:02:00.358Z"
   },
   {
    "duration": 30,
    "start_time": "2023-01-08T16:02:47.151Z"
   },
   {
    "duration": 24,
    "start_time": "2023-01-08T16:02:58.846Z"
   },
   {
    "duration": 7,
    "start_time": "2023-01-08T16:03:07.216Z"
   },
   {
    "duration": 645,
    "start_time": "2023-01-08T16:03:20.787Z"
   },
   {
    "duration": 170,
    "start_time": "2023-01-08T16:03:47.460Z"
   },
   {
    "duration": 656,
    "start_time": "2023-01-08T16:05:23.537Z"
   },
   {
    "duration": 530,
    "start_time": "2023-01-08T16:05:29.418Z"
   },
   {
    "duration": 27,
    "start_time": "2023-01-08T16:05:37.587Z"
   },
   {
    "duration": 600,
    "start_time": "2023-01-08T16:05:42.454Z"
   },
   {
    "duration": 7,
    "start_time": "2023-01-08T16:05:54.102Z"
   },
   {
    "duration": 4,
    "start_time": "2023-01-08T16:06:24.871Z"
   },
   {
    "duration": 84,
    "start_time": "2023-01-08T16:06:26.728Z"
   },
   {
    "duration": 25,
    "start_time": "2023-01-08T16:06:29.801Z"
   },
   {
    "duration": 5398,
    "start_time": "2023-01-08T16:06:32.115Z"
   },
   {
    "duration": 8,
    "start_time": "2023-01-08T16:06:39.661Z"
   },
   {
    "duration": 5,
    "start_time": "2023-01-08T16:06:42.244Z"
   },
   {
    "duration": 6,
    "start_time": "2023-01-08T16:06:44.213Z"
   },
   {
    "duration": 249,
    "start_time": "2023-01-08T16:07:34.826Z"
   },
   {
    "duration": 711,
    "start_time": "2023-01-08T16:07:43.512Z"
   },
   {
    "duration": 115,
    "start_time": "2023-01-08T16:07:53.183Z"
   },
   {
    "duration": 113,
    "start_time": "2023-01-08T16:07:56.425Z"
   },
   {
    "duration": 6,
    "start_time": "2023-01-08T16:07:58.839Z"
   },
   {
    "duration": 6,
    "start_time": "2023-01-08T16:08:00.936Z"
   },
   {
    "duration": 5629,
    "start_time": "2023-01-08T16:09:01.979Z"
   },
   {
    "duration": 7,
    "start_time": "2023-01-08T16:09:20.504Z"
   },
   {
    "duration": 7,
    "start_time": "2023-01-08T16:09:22.777Z"
   },
   {
    "duration": 6,
    "start_time": "2023-01-08T16:09:24.989Z"
   },
   {
    "duration": 7,
    "start_time": "2023-01-08T16:09:27.780Z"
   },
   {
    "duration": 5,
    "start_time": "2023-01-08T16:09:30.625Z"
   },
   {
    "duration": 5,
    "start_time": "2023-01-08T16:09:32.843Z"
   },
   {
    "duration": 162,
    "start_time": "2023-01-08T16:09:35.524Z"
   },
   {
    "duration": 153,
    "start_time": "2023-01-08T16:09:37.742Z"
   },
   {
    "duration": 118,
    "start_time": "2023-01-08T16:09:42.541Z"
   },
   {
    "duration": 212,
    "start_time": "2023-01-08T16:09:45.252Z"
   },
   {
    "duration": 8,
    "start_time": "2023-01-08T16:09:49.151Z"
   },
   {
    "duration": 6,
    "start_time": "2023-01-08T16:09:51.727Z"
   },
   {
    "duration": 46,
    "start_time": "2023-01-08T18:28:31.037Z"
   },
   {
    "duration": 1474,
    "start_time": "2023-01-08T18:28:35.422Z"
   },
   {
    "duration": 384,
    "start_time": "2023-01-08T18:28:36.898Z"
   },
   {
    "duration": 24,
    "start_time": "2023-01-08T18:28:37.283Z"
   },
   {
    "duration": 5479,
    "start_time": "2023-01-08T18:28:37.309Z"
   },
   {
    "duration": 6,
    "start_time": "2023-01-08T18:28:42.789Z"
   },
   {
    "duration": 10,
    "start_time": "2023-01-08T18:28:42.796Z"
   },
   {
    "duration": 16,
    "start_time": "2023-01-08T18:28:42.808Z"
   },
   {
    "duration": 4,
    "start_time": "2023-01-08T18:28:42.826Z"
   },
   {
    "duration": 19,
    "start_time": "2023-01-08T18:28:42.832Z"
   },
   {
    "duration": 240,
    "start_time": "2023-01-08T18:28:42.853Z"
   },
   {
    "duration": 609,
    "start_time": "2023-01-08T18:28:43.095Z"
   },
   {
    "duration": 198,
    "start_time": "2023-01-08T18:28:43.706Z"
   },
   {
    "duration": 141,
    "start_time": "2023-01-08T18:28:43.906Z"
   },
   {
    "duration": 154,
    "start_time": "2023-01-08T18:28:44.049Z"
   },
   {
    "duration": 7,
    "start_time": "2023-01-08T18:28:44.204Z"
   },
   {
    "duration": 82,
    "start_time": "2023-01-08T18:28:44.221Z"
   },
   {
    "duration": 85,
    "start_time": "2023-01-08T18:30:05.447Z"
   },
   {
    "duration": 133,
    "start_time": "2023-01-08T18:30:19.858Z"
   },
   {
    "duration": 151,
    "start_time": "2023-01-08T18:30:24.730Z"
   },
   {
    "duration": 6,
    "start_time": "2023-01-08T18:30:29.251Z"
   },
   {
    "duration": 8,
    "start_time": "2023-01-08T18:30:32.373Z"
   },
   {
    "duration": 147,
    "start_time": "2023-01-08T18:30:42.197Z"
   },
   {
    "duration": 26,
    "start_time": "2023-01-08T18:30:45.468Z"
   },
   {
    "duration": 5582,
    "start_time": "2023-01-08T18:30:48.517Z"
   },
   {
    "duration": 8,
    "start_time": "2023-01-08T18:30:56.662Z"
   },
   {
    "duration": 6,
    "start_time": "2023-01-08T18:31:00.041Z"
   },
   {
    "duration": 6,
    "start_time": "2023-01-08T18:31:02.150Z"
   },
   {
    "duration": 8,
    "start_time": "2023-01-08T18:31:04.104Z"
   },
   {
    "duration": 7,
    "start_time": "2023-01-08T18:31:05.919Z"
   },
   {
    "duration": 225,
    "start_time": "2023-01-08T18:31:07.958Z"
   },
   {
    "duration": 589,
    "start_time": "2023-01-08T18:31:10.071Z"
   },
   {
    "duration": 85,
    "start_time": "2023-01-08T18:31:12.481Z"
   },
   {
    "duration": 120,
    "start_time": "2023-01-08T18:31:14.665Z"
   },
   {
    "duration": 121,
    "start_time": "2023-01-08T18:31:17.377Z"
   },
   {
    "duration": 6,
    "start_time": "2023-01-08T18:31:24.865Z"
   },
   {
    "duration": 26,
    "start_time": "2023-01-08T18:32:23.619Z"
   },
   {
    "duration": 87,
    "start_time": "2023-01-08T18:35:10.789Z"
   },
   {
    "duration": 94,
    "start_time": "2023-01-08T18:36:30.909Z"
   },
   {
    "duration": 56,
    "start_time": "2023-01-12T18:51:07.892Z"
   },
   {
    "duration": 66,
    "start_time": "2023-01-12T18:51:14.237Z"
   },
   {
    "duration": 55,
    "start_time": "2023-01-12T18:51:19.820Z"
   },
   {
    "duration": 63,
    "start_time": "2023-01-12T18:51:26.844Z"
   },
   {
    "duration": 1530,
    "start_time": "2023-01-12T18:51:38.097Z"
   },
   {
    "duration": 4,
    "start_time": "2023-01-12T18:51:41.600Z"
   },
   {
    "duration": 94,
    "start_time": "2023-01-12T18:53:18.448Z"
   },
   {
    "duration": 4,
    "start_time": "2023-01-12T18:53:37.474Z"
   },
   {
    "duration": 13,
    "start_time": "2023-01-12T18:55:15.840Z"
   },
   {
    "duration": 7,
    "start_time": "2023-01-12T18:57:12.267Z"
   },
   {
    "duration": 6,
    "start_time": "2023-01-12T18:58:21.236Z"
   },
   {
    "duration": 22,
    "start_time": "2023-01-12T19:04:59.457Z"
   },
   {
    "duration": 48,
    "start_time": "2023-01-12T21:32:32.290Z"
   },
   {
    "duration": 1446,
    "start_time": "2023-01-12T21:32:40.974Z"
   },
   {
    "duration": 96,
    "start_time": "2023-01-12T21:32:42.422Z"
   },
   {
    "duration": 3,
    "start_time": "2023-01-12T21:32:42.520Z"
   },
   {
    "duration": 18,
    "start_time": "2023-01-12T21:32:42.525Z"
   },
   {
    "duration": 29,
    "start_time": "2023-01-12T21:32:42.545Z"
   },
   {
    "duration": 22,
    "start_time": "2023-01-12T21:32:42.575Z"
   },
   {
    "duration": 14,
    "start_time": "2023-01-12T21:33:01.708Z"
   },
   {
    "duration": 48,
    "start_time": "2023-01-12T21:33:01.724Z"
   },
   {
    "duration": 101,
    "start_time": "2023-01-12T21:33:01.773Z"
   },
   {
    "duration": 0,
    "start_time": "2023-01-12T21:33:01.876Z"
   },
   {
    "duration": 0,
    "start_time": "2023-01-12T21:33:01.877Z"
   },
   {
    "duration": 0,
    "start_time": "2023-01-12T21:33:01.878Z"
   },
   {
    "duration": 0,
    "start_time": "2023-01-12T21:33:01.881Z"
   },
   {
    "duration": 0,
    "start_time": "2023-01-12T21:33:01.882Z"
   },
   {
    "duration": 0,
    "start_time": "2023-01-12T21:33:01.882Z"
   },
   {
    "duration": 0,
    "start_time": "2023-01-12T21:33:01.883Z"
   },
   {
    "duration": 0,
    "start_time": "2023-01-12T21:33:01.885Z"
   },
   {
    "duration": 0,
    "start_time": "2023-01-12T21:33:01.885Z"
   },
   {
    "duration": 0,
    "start_time": "2023-01-12T21:33:01.886Z"
   },
   {
    "duration": 0,
    "start_time": "2023-01-12T21:33:01.887Z"
   },
   {
    "duration": 0,
    "start_time": "2023-01-12T21:33:01.889Z"
   },
   {
    "duration": 4,
    "start_time": "2023-01-12T21:33:25.465Z"
   },
   {
    "duration": 53,
    "start_time": "2023-01-12T21:33:25.472Z"
   },
   {
    "duration": 3,
    "start_time": "2023-01-12T21:33:25.527Z"
   },
   {
    "duration": 15,
    "start_time": "2023-01-12T21:33:25.532Z"
   },
   {
    "duration": 7,
    "start_time": "2023-01-12T21:33:25.549Z"
   },
   {
    "duration": 9,
    "start_time": "2023-01-12T21:33:25.557Z"
   },
   {
    "duration": 14,
    "start_time": "2023-01-12T21:33:25.568Z"
   },
   {
    "duration": 44,
    "start_time": "2023-01-12T21:33:25.584Z"
   },
   {
    "duration": 22,
    "start_time": "2023-01-12T21:33:25.630Z"
   },
   {
    "duration": 0,
    "start_time": "2023-01-12T21:33:25.654Z"
   },
   {
    "duration": 0,
    "start_time": "2023-01-12T21:33:25.655Z"
   },
   {
    "duration": 0,
    "start_time": "2023-01-12T21:33:25.656Z"
   },
   {
    "duration": 0,
    "start_time": "2023-01-12T21:33:25.657Z"
   },
   {
    "duration": 0,
    "start_time": "2023-01-12T21:33:25.659Z"
   },
   {
    "duration": 0,
    "start_time": "2023-01-12T21:33:25.660Z"
   },
   {
    "duration": 0,
    "start_time": "2023-01-12T21:33:25.661Z"
   },
   {
    "duration": 0,
    "start_time": "2023-01-12T21:33:25.663Z"
   },
   {
    "duration": 0,
    "start_time": "2023-01-12T21:33:25.664Z"
   },
   {
    "duration": 0,
    "start_time": "2023-01-12T21:33:25.665Z"
   },
   {
    "duration": 0,
    "start_time": "2023-01-12T21:33:25.666Z"
   },
   {
    "duration": 0,
    "start_time": "2023-01-12T21:33:25.668Z"
   },
   {
    "duration": 5,
    "start_time": "2023-01-12T21:53:16.875Z"
   },
   {
    "duration": 14,
    "start_time": "2023-01-12T22:06:49.093Z"
   },
   {
    "duration": 26,
    "start_time": "2023-01-12T22:07:30.295Z"
   },
   {
    "duration": 14,
    "start_time": "2023-01-12T22:11:14.088Z"
   },
   {
    "duration": 11,
    "start_time": "2023-01-12T22:11:27.298Z"
   },
   {
    "duration": 12,
    "start_time": "2023-01-12T22:11:37.059Z"
   },
   {
    "duration": 19,
    "start_time": "2023-01-12T22:13:22.433Z"
   },
   {
    "duration": 5,
    "start_time": "2023-01-12T22:13:55.374Z"
   },
   {
    "duration": 11,
    "start_time": "2023-01-12T22:14:10.081Z"
   },
   {
    "duration": 7,
    "start_time": "2023-01-12T22:14:20.602Z"
   },
   {
    "duration": 10,
    "start_time": "2023-01-12T22:14:52.773Z"
   },
   {
    "duration": 6,
    "start_time": "2023-01-12T22:15:53.515Z"
   },
   {
    "duration": 5,
    "start_time": "2023-01-12T22:16:00.436Z"
   },
   {
    "duration": 6467,
    "start_time": "2023-01-12T22:25:22.160Z"
   },
   {
    "duration": 56,
    "start_time": "2023-01-12T22:25:35.658Z"
   },
   {
    "duration": 5,
    "start_time": "2023-01-12T22:25:39.762Z"
   },
   {
    "duration": 13,
    "start_time": "2023-01-12T22:25:41.466Z"
   },
   {
    "duration": 6,
    "start_time": "2023-01-12T22:25:43.877Z"
   },
   {
    "duration": 4,
    "start_time": "2023-01-12T22:25:45.498Z"
   },
   {
    "duration": 13,
    "start_time": "2023-01-12T22:25:47.537Z"
   },
   {
    "duration": 5,
    "start_time": "2023-01-12T22:25:50.660Z"
   },
   {
    "duration": 17,
    "start_time": "2023-01-12T22:25:53.150Z"
   },
   {
    "duration": 1135,
    "start_time": "2023-01-12T22:26:20.599Z"
   },
   {
    "duration": 1996,
    "start_time": "2023-01-12T22:26:21.736Z"
   },
   {
    "duration": 58,
    "start_time": "2023-01-12T22:26:23.734Z"
   },
   {
    "duration": 4,
    "start_time": "2023-01-12T22:26:23.793Z"
   },
   {
    "duration": 15,
    "start_time": "2023-01-12T22:26:23.798Z"
   },
   {
    "duration": 6,
    "start_time": "2023-01-12T22:26:23.814Z"
   },
   {
    "duration": 4,
    "start_time": "2023-01-12T22:26:23.821Z"
   },
   {
    "duration": 26,
    "start_time": "2023-01-12T22:26:23.826Z"
   },
   {
    "duration": 7,
    "start_time": "2023-01-12T22:26:23.853Z"
   },
   {
    "duration": 30,
    "start_time": "2023-01-12T22:26:23.862Z"
   },
   {
    "duration": 41,
    "start_time": "2023-01-12T22:26:23.893Z"
   },
   {
    "duration": 129,
    "start_time": "2023-01-12T22:26:23.935Z"
   },
   {
    "duration": 0,
    "start_time": "2023-01-12T22:26:24.065Z"
   },
   {
    "duration": 0,
    "start_time": "2023-01-12T22:26:24.066Z"
   },
   {
    "duration": 0,
    "start_time": "2023-01-12T22:26:24.067Z"
   },
   {
    "duration": 0,
    "start_time": "2023-01-12T22:26:24.068Z"
   },
   {
    "duration": 0,
    "start_time": "2023-01-12T22:26:24.069Z"
   },
   {
    "duration": 0,
    "start_time": "2023-01-12T22:26:24.070Z"
   },
   {
    "duration": 0,
    "start_time": "2023-01-12T22:26:24.071Z"
   },
   {
    "duration": 0,
    "start_time": "2023-01-12T22:26:24.072Z"
   },
   {
    "duration": 0,
    "start_time": "2023-01-12T22:26:24.074Z"
   },
   {
    "duration": 0,
    "start_time": "2023-01-12T22:26:24.077Z"
   },
   {
    "duration": 0,
    "start_time": "2023-01-12T22:26:24.079Z"
   },
   {
    "duration": 0,
    "start_time": "2023-01-12T22:26:24.080Z"
   },
   {
    "duration": 5,
    "start_time": "2023-01-12T22:28:09.781Z"
   },
   {
    "duration": 10,
    "start_time": "2023-01-12T22:31:18.902Z"
   },
   {
    "duration": 9,
    "start_time": "2023-01-12T22:31:35.584Z"
   },
   {
    "duration": 45,
    "start_time": "2023-01-12T22:31:46.416Z"
   },
   {
    "duration": 10,
    "start_time": "2023-01-12T22:31:51.011Z"
   },
   {
    "duration": 4,
    "start_time": "2023-01-12T22:32:01.155Z"
   },
   {
    "duration": 5,
    "start_time": "2023-01-12T22:32:21.389Z"
   },
   {
    "duration": 2076,
    "start_time": "2023-01-12T22:32:21.396Z"
   },
   {
    "duration": 53,
    "start_time": "2023-01-12T22:32:23.474Z"
   },
   {
    "duration": 4,
    "start_time": "2023-01-12T22:32:23.529Z"
   },
   {
    "duration": 25,
    "start_time": "2023-01-12T22:32:23.536Z"
   },
   {
    "duration": 5,
    "start_time": "2023-01-12T22:32:23.563Z"
   },
   {
    "duration": 5,
    "start_time": "2023-01-12T22:32:23.570Z"
   },
   {
    "duration": 19,
    "start_time": "2023-01-12T22:32:23.577Z"
   },
   {
    "duration": 4,
    "start_time": "2023-01-12T22:32:23.598Z"
   },
   {
    "duration": 19,
    "start_time": "2023-01-12T22:32:23.616Z"
   },
   {
    "duration": 0,
    "start_time": "2023-01-12T22:32:23.637Z"
   },
   {
    "duration": 0,
    "start_time": "2023-01-12T22:32:23.638Z"
   },
   {
    "duration": 0,
    "start_time": "2023-01-12T22:32:23.639Z"
   },
   {
    "duration": 0,
    "start_time": "2023-01-12T22:32:23.640Z"
   },
   {
    "duration": 0,
    "start_time": "2023-01-12T22:32:23.641Z"
   },
   {
    "duration": 0,
    "start_time": "2023-01-12T22:32:23.642Z"
   },
   {
    "duration": 0,
    "start_time": "2023-01-12T22:32:23.644Z"
   },
   {
    "duration": 0,
    "start_time": "2023-01-12T22:32:23.646Z"
   },
   {
    "duration": 0,
    "start_time": "2023-01-12T22:32:23.647Z"
   },
   {
    "duration": 0,
    "start_time": "2023-01-12T22:32:23.649Z"
   },
   {
    "duration": 0,
    "start_time": "2023-01-12T22:32:23.651Z"
   },
   {
    "duration": 0,
    "start_time": "2023-01-12T22:32:23.653Z"
   },
   {
    "duration": 0,
    "start_time": "2023-01-12T22:32:23.654Z"
   },
   {
    "duration": 0,
    "start_time": "2023-01-12T22:32:23.656Z"
   },
   {
    "duration": 5,
    "start_time": "2023-01-12T22:32:30.918Z"
   },
   {
    "duration": 36,
    "start_time": "2023-01-12T22:33:41.866Z"
   },
   {
    "duration": 14,
    "start_time": "2023-01-12T22:33:54.622Z"
   },
   {
    "duration": 1150,
    "start_time": "2023-01-12T22:34:03.436Z"
   },
   {
    "duration": 2087,
    "start_time": "2023-01-12T22:34:04.589Z"
   },
   {
    "duration": 59,
    "start_time": "2023-01-12T22:34:06.678Z"
   },
   {
    "duration": 4,
    "start_time": "2023-01-12T22:34:06.739Z"
   },
   {
    "duration": 22,
    "start_time": "2023-01-12T22:34:06.744Z"
   },
   {
    "duration": 6,
    "start_time": "2023-01-12T22:34:06.768Z"
   },
   {
    "duration": 4,
    "start_time": "2023-01-12T22:34:06.777Z"
   },
   {
    "duration": 15,
    "start_time": "2023-01-12T22:34:06.783Z"
   },
   {
    "duration": 19,
    "start_time": "2023-01-12T22:34:06.800Z"
   },
   {
    "duration": 32,
    "start_time": "2023-01-12T22:34:06.823Z"
   },
   {
    "duration": 23,
    "start_time": "2023-01-12T22:34:06.857Z"
   },
   {
    "duration": 175,
    "start_time": "2023-01-12T22:34:06.882Z"
   },
   {
    "duration": 0,
    "start_time": "2023-01-12T22:34:07.059Z"
   },
   {
    "duration": 0,
    "start_time": "2023-01-12T22:34:07.061Z"
   },
   {
    "duration": 0,
    "start_time": "2023-01-12T22:34:07.062Z"
   },
   {
    "duration": 0,
    "start_time": "2023-01-12T22:34:07.063Z"
   },
   {
    "duration": 0,
    "start_time": "2023-01-12T22:34:07.064Z"
   },
   {
    "duration": 0,
    "start_time": "2023-01-12T22:34:07.065Z"
   },
   {
    "duration": 0,
    "start_time": "2023-01-12T22:34:07.066Z"
   },
   {
    "duration": 0,
    "start_time": "2023-01-12T22:34:07.067Z"
   },
   {
    "duration": 0,
    "start_time": "2023-01-12T22:34:07.068Z"
   },
   {
    "duration": 0,
    "start_time": "2023-01-12T22:34:07.070Z"
   },
   {
    "duration": 0,
    "start_time": "2023-01-12T22:34:07.071Z"
   },
   {
    "duration": 0,
    "start_time": "2023-01-12T22:34:07.072Z"
   },
   {
    "duration": 14,
    "start_time": "2023-01-12T22:39:27.029Z"
   },
   {
    "duration": 1244,
    "start_time": "2023-01-12T22:39:35.723Z"
   },
   {
    "duration": 2095,
    "start_time": "2023-01-12T22:39:36.969Z"
   },
   {
    "duration": 59,
    "start_time": "2023-01-12T22:39:39.066Z"
   },
   {
    "duration": 5,
    "start_time": "2023-01-12T22:39:39.128Z"
   },
   {
    "duration": 15,
    "start_time": "2023-01-12T22:39:39.135Z"
   },
   {
    "duration": 7,
    "start_time": "2023-01-12T22:39:39.151Z"
   },
   {
    "duration": 5,
    "start_time": "2023-01-12T22:39:39.159Z"
   },
   {
    "duration": 14,
    "start_time": "2023-01-12T22:39:39.166Z"
   },
   {
    "duration": 6,
    "start_time": "2023-01-12T22:39:39.181Z"
   },
   {
    "duration": 135,
    "start_time": "2023-01-12T22:39:39.217Z"
   },
   {
    "duration": 0,
    "start_time": "2023-01-12T22:39:39.354Z"
   },
   {
    "duration": 0,
    "start_time": "2023-01-12T22:39:39.357Z"
   },
   {
    "duration": 0,
    "start_time": "2023-01-12T22:39:39.358Z"
   },
   {
    "duration": 0,
    "start_time": "2023-01-12T22:39:39.359Z"
   },
   {
    "duration": 0,
    "start_time": "2023-01-12T22:39:39.360Z"
   },
   {
    "duration": 0,
    "start_time": "2023-01-12T22:39:39.361Z"
   },
   {
    "duration": 0,
    "start_time": "2023-01-12T22:39:39.362Z"
   },
   {
    "duration": 0,
    "start_time": "2023-01-12T22:39:39.363Z"
   },
   {
    "duration": 0,
    "start_time": "2023-01-12T22:39:39.364Z"
   },
   {
    "duration": 0,
    "start_time": "2023-01-12T22:39:39.365Z"
   },
   {
    "duration": 0,
    "start_time": "2023-01-12T22:39:39.366Z"
   },
   {
    "duration": 0,
    "start_time": "2023-01-12T22:39:39.367Z"
   },
   {
    "duration": 0,
    "start_time": "2023-01-12T22:39:39.368Z"
   },
   {
    "duration": 0,
    "start_time": "2023-01-12T22:39:39.369Z"
   },
   {
    "duration": 13,
    "start_time": "2023-01-12T22:40:25.296Z"
   },
   {
    "duration": 1169,
    "start_time": "2023-01-12T22:41:03.487Z"
   },
   {
    "duration": 2043,
    "start_time": "2023-01-12T22:41:04.659Z"
   },
   {
    "duration": 58,
    "start_time": "2023-01-12T22:41:06.704Z"
   },
   {
    "duration": 4,
    "start_time": "2023-01-12T22:41:06.765Z"
   },
   {
    "duration": 16,
    "start_time": "2023-01-12T22:41:06.770Z"
   },
   {
    "duration": 9,
    "start_time": "2023-01-12T22:41:06.788Z"
   },
   {
    "duration": 5,
    "start_time": "2023-01-12T22:41:06.798Z"
   },
   {
    "duration": 19,
    "start_time": "2023-01-12T22:41:06.804Z"
   },
   {
    "duration": 18,
    "start_time": "2023-01-12T22:41:06.824Z"
   },
   {
    "duration": 50,
    "start_time": "2023-01-12T22:41:06.845Z"
   },
   {
    "duration": 23,
    "start_time": "2023-01-12T22:41:06.896Z"
   },
   {
    "duration": 4116,
    "start_time": "2023-01-12T22:41:06.921Z"
   },
   {
    "duration": 7,
    "start_time": "2023-01-12T22:41:11.038Z"
   },
   {
    "duration": 5,
    "start_time": "2023-01-12T22:41:11.047Z"
   },
   {
    "duration": 6,
    "start_time": "2023-01-12T22:41:11.054Z"
   },
   {
    "duration": 5,
    "start_time": "2023-01-12T22:41:11.062Z"
   },
   {
    "duration": 5,
    "start_time": "2023-01-12T22:41:11.069Z"
   },
   {
    "duration": 156,
    "start_time": "2023-01-12T22:41:11.076Z"
   },
   {
    "duration": 0,
    "start_time": "2023-01-12T22:41:11.234Z"
   },
   {
    "duration": 0,
    "start_time": "2023-01-12T22:41:11.235Z"
   },
   {
    "duration": 0,
    "start_time": "2023-01-12T22:41:11.236Z"
   },
   {
    "duration": 0,
    "start_time": "2023-01-12T22:41:11.237Z"
   },
   {
    "duration": 0,
    "start_time": "2023-01-12T22:41:11.238Z"
   },
   {
    "duration": 0,
    "start_time": "2023-01-12T22:41:11.239Z"
   },
   {
    "duration": 20,
    "start_time": "2023-01-12T22:45:35.003Z"
   },
   {
    "duration": 19,
    "start_time": "2023-01-12T22:45:42.866Z"
   },
   {
    "duration": 22,
    "start_time": "2023-01-12T22:45:59.263Z"
   },
   {
    "duration": 22,
    "start_time": "2023-01-12T22:46:06.869Z"
   },
   {
    "duration": 53,
    "start_time": "2023-01-12T22:56:03.139Z"
   },
   {
    "duration": 36130,
    "start_time": "2023-01-12T22:57:04.364Z"
   },
   {
    "duration": 172836,
    "start_time": "2023-01-12T22:58:04.273Z"
   },
   {
    "duration": 1135,
    "start_time": "2023-01-12T23:00:59.516Z"
   },
   {
    "duration": 2051,
    "start_time": "2023-01-12T23:01:00.653Z"
   },
   {
    "duration": 59,
    "start_time": "2023-01-12T23:01:02.706Z"
   },
   {
    "duration": 4,
    "start_time": "2023-01-12T23:01:02.767Z"
   },
   {
    "duration": 24,
    "start_time": "2023-01-12T23:01:02.772Z"
   },
   {
    "duration": 9,
    "start_time": "2023-01-12T23:01:02.798Z"
   },
   {
    "duration": 21,
    "start_time": "2023-01-12T23:01:02.808Z"
   },
   {
    "duration": 31,
    "start_time": "2023-01-12T23:01:02.831Z"
   },
   {
    "duration": 10,
    "start_time": "2023-01-12T23:01:02.863Z"
   },
   {
    "duration": 52,
    "start_time": "2023-01-12T23:01:02.875Z"
   },
   {
    "duration": 26,
    "start_time": "2023-01-12T23:01:02.928Z"
   },
   {
    "duration": 6,
    "start_time": "2023-01-12T23:02:53.626Z"
   },
   {
    "duration": 7,
    "start_time": "2023-01-12T23:02:53.634Z"
   },
   {
    "duration": 8,
    "start_time": "2023-01-12T23:02:53.642Z"
   },
   {
    "duration": 5,
    "start_time": "2023-01-12T23:02:53.651Z"
   },
   {
    "duration": 5,
    "start_time": "2023-01-12T23:02:53.657Z"
   },
   {
    "duration": 188,
    "start_time": "2023-01-12T23:02:53.663Z"
   },
   {
    "duration": 395,
    "start_time": "2023-01-12T23:02:53.853Z"
   },
   {
    "duration": 87,
    "start_time": "2023-01-12T23:02:54.249Z"
   },
   {
    "duration": 128,
    "start_time": "2023-01-12T23:02:54.337Z"
   },
   {
    "duration": 116,
    "start_time": "2023-01-12T23:02:54.466Z"
   },
   {
    "duration": 5,
    "start_time": "2023-01-12T23:02:54.583Z"
   },
   {
    "duration": 42,
    "start_time": "2023-01-12T23:02:54.590Z"
   },
   {
    "duration": 1086,
    "start_time": "2023-01-12T23:04:12.267Z"
   },
   {
    "duration": 2007,
    "start_time": "2023-01-12T23:04:13.355Z"
   },
   {
    "duration": 58,
    "start_time": "2023-01-12T23:04:15.364Z"
   },
   {
    "duration": 4,
    "start_time": "2023-01-12T23:04:15.424Z"
   },
   {
    "duration": 16,
    "start_time": "2023-01-12T23:04:15.429Z"
   },
   {
    "duration": 5,
    "start_time": "2023-01-12T23:04:15.447Z"
   },
   {
    "duration": 4,
    "start_time": "2023-01-12T23:04:15.454Z"
   },
   {
    "duration": 15,
    "start_time": "2023-01-12T23:04:15.459Z"
   },
   {
    "duration": 5,
    "start_time": "2023-01-12T23:04:15.475Z"
   },
   {
    "duration": 56,
    "start_time": "2023-01-12T23:04:15.483Z"
   },
   {
    "duration": 29,
    "start_time": "2023-01-12T23:04:15.540Z"
   },
   {
    "duration": 2197,
    "start_time": "2023-01-12T23:04:15.571Z"
   },
   {
    "duration": 8,
    "start_time": "2023-01-12T23:04:17.770Z"
   },
   {
    "duration": 9,
    "start_time": "2023-01-12T23:04:17.779Z"
   },
   {
    "duration": 8,
    "start_time": "2023-01-12T23:04:17.789Z"
   },
   {
    "duration": 18,
    "start_time": "2023-01-12T23:04:17.798Z"
   },
   {
    "duration": 5,
    "start_time": "2023-01-12T23:04:17.818Z"
   },
   {
    "duration": 37,
    "start_time": "2023-01-12T23:04:17.824Z"
   },
   {
    "duration": 81,
    "start_time": "2023-01-12T23:04:17.862Z"
   },
   {
    "duration": 80,
    "start_time": "2023-01-12T23:04:17.944Z"
   },
   {
    "duration": 129,
    "start_time": "2023-01-12T23:04:18.025Z"
   },
   {
    "duration": 124,
    "start_time": "2023-01-12T23:04:18.155Z"
   },
   {
    "duration": 5,
    "start_time": "2023-01-12T23:04:18.281Z"
   },
   {
    "duration": 9,
    "start_time": "2023-01-12T23:04:18.287Z"
   },
   {
    "duration": 10,
    "start_time": "2023-01-12T23:04:59.546Z"
   },
   {
    "duration": 11,
    "start_time": "2023-01-12T23:05:53.824Z"
   },
   {
    "duration": 13562,
    "start_time": "2023-01-12T23:06:50.127Z"
   },
   {
    "duration": 25859,
    "start_time": "2023-01-12T23:07:12.905Z"
   },
   {
    "duration": 19492,
    "start_time": "2023-01-12T23:08:01.379Z"
   },
   {
    "duration": 51529,
    "start_time": "2023-01-12T23:09:52.236Z"
   },
   {
    "duration": 3,
    "start_time": "2023-01-12T23:11:09.006Z"
   },
   {
    "duration": 85114,
    "start_time": "2023-01-12T23:11:36.017Z"
   },
   {
    "duration": 7,
    "start_time": "2023-01-12T23:15:57.306Z"
   },
   {
    "duration": 7,
    "start_time": "2023-01-12T23:17:26.707Z"
   },
   {
    "duration": 6,
    "start_time": "2023-01-12T23:17:40.567Z"
   },
   {
    "duration": 7,
    "start_time": "2023-01-12T23:17:45.553Z"
   },
   {
    "duration": 4,
    "start_time": "2023-01-12T23:17:52.470Z"
   },
   {
    "duration": 4,
    "start_time": "2023-01-12T23:17:56.866Z"
   },
   {
    "duration": 6,
    "start_time": "2023-01-12T23:17:59.417Z"
   },
   {
    "duration": 5,
    "start_time": "2023-01-12T23:18:01.974Z"
   },
   {
    "duration": 341,
    "start_time": "2023-01-12T23:18:37.098Z"
   },
   {
    "duration": 816,
    "start_time": "2023-01-12T23:18:48.824Z"
   },
   {
    "duration": 7,
    "start_time": "2023-01-12T23:22:28.525Z"
   },
   {
    "duration": 5,
    "start_time": "2023-01-12T23:22:30.282Z"
   },
   {
    "duration": 353,
    "start_time": "2023-01-12T23:22:48.203Z"
   },
   {
    "duration": 1112,
    "start_time": "2023-01-12T23:23:09.935Z"
   },
   {
    "duration": 337,
    "start_time": "2023-01-12T23:23:28.874Z"
   },
   {
    "duration": 333,
    "start_time": "2023-01-12T23:23:40.548Z"
   },
   {
    "duration": 372,
    "start_time": "2023-01-12T23:23:54.860Z"
   },
   {
    "duration": 14,
    "start_time": "2023-01-12T23:26:15.247Z"
   },
   {
    "duration": 6,
    "start_time": "2023-01-12T23:26:57.511Z"
   },
   {
    "duration": 25,
    "start_time": "2023-01-12T23:29:21.409Z"
   },
   {
    "duration": 21,
    "start_time": "2023-01-12T23:30:51.102Z"
   },
   {
    "duration": 1139,
    "start_time": "2023-01-12T23:31:01.996Z"
   },
   {
    "duration": 1960,
    "start_time": "2023-01-12T23:31:03.137Z"
   },
   {
    "duration": 59,
    "start_time": "2023-01-12T23:31:05.099Z"
   },
   {
    "duration": 4,
    "start_time": "2023-01-12T23:31:05.160Z"
   },
   {
    "duration": 27,
    "start_time": "2023-01-12T23:31:05.165Z"
   },
   {
    "duration": 6,
    "start_time": "2023-01-12T23:31:05.193Z"
   },
   {
    "duration": 6,
    "start_time": "2023-01-12T23:31:05.200Z"
   },
   {
    "duration": 26,
    "start_time": "2023-01-12T23:31:05.208Z"
   },
   {
    "duration": 5,
    "start_time": "2023-01-12T23:31:05.236Z"
   },
   {
    "duration": 40,
    "start_time": "2023-01-12T23:31:05.243Z"
   },
   {
    "duration": 37,
    "start_time": "2023-01-12T23:31:05.284Z"
   },
   {
    "duration": 85004,
    "start_time": "2023-01-12T23:31:05.323Z"
   },
   {
    "duration": 6,
    "start_time": "2023-01-12T23:32:30.328Z"
   },
   {
    "duration": 14,
    "start_time": "2023-01-12T23:32:30.335Z"
   },
   {
    "duration": 25,
    "start_time": "2023-01-12T23:32:30.350Z"
   },
   {
    "duration": 39,
    "start_time": "2023-01-12T23:32:30.377Z"
   },
   {
    "duration": 697,
    "start_time": "2023-01-12T23:33:55.676Z"
   },
   {
    "duration": 100,
    "start_time": "2023-01-12T23:33:56.375Z"
   },
   {
    "duration": 138,
    "start_time": "2023-01-12T23:33:56.477Z"
   },
   {
    "duration": 126,
    "start_time": "2023-01-12T23:33:56.617Z"
   },
   {
    "duration": 6,
    "start_time": "2023-01-12T23:33:56.745Z"
   },
   {
    "duration": 41,
    "start_time": "2023-01-12T23:33:56.753Z"
   },
   {
    "duration": 281,
    "start_time": "2023-01-12T23:33:57.080Z"
   },
   {
    "duration": 85175,
    "start_time": "2023-01-12T23:33:57.363Z"
   },
   {
    "duration": 282,
    "start_time": "2023-01-12T23:36:37.397Z"
   },
   {
    "duration": 47387,
    "start_time": "2023-01-12T23:36:53.821Z"
   },
   {
    "duration": 47462,
    "start_time": "2023-01-12T23:37:52.881Z"
   },
   {
    "duration": 11,
    "start_time": "2023-01-12T23:39:25.414Z"
   },
   {
    "duration": 73299,
    "start_time": "2023-01-12T23:39:37.002Z"
   },
   {
    "duration": 6,
    "start_time": "2023-01-12T23:42:20.187Z"
   },
   {
    "duration": 9,
    "start_time": "2023-01-12T23:42:42.228Z"
   },
   {
    "duration": 5441,
    "start_time": "2023-01-12T23:46:03.396Z"
   },
   {
    "duration": 108,
    "start_time": "2023-01-12T23:49:17.109Z"
   },
   {
    "duration": 1138,
    "start_time": "2023-01-12T23:49:34.080Z"
   },
   {
    "duration": 4094,
    "start_time": "2023-01-12T23:49:35.220Z"
   },
   {
    "duration": 58,
    "start_time": "2023-01-12T23:49:39.316Z"
   },
   {
    "duration": 4,
    "start_time": "2023-01-12T23:49:39.376Z"
   },
   {
    "duration": 15,
    "start_time": "2023-01-12T23:49:39.381Z"
   },
   {
    "duration": 6,
    "start_time": "2023-01-12T23:49:39.397Z"
   },
   {
    "duration": 7,
    "start_time": "2023-01-12T23:49:39.404Z"
   },
   {
    "duration": 16,
    "start_time": "2023-01-12T23:49:39.413Z"
   },
   {
    "duration": 5,
    "start_time": "2023-01-12T23:49:39.431Z"
   },
   {
    "duration": 40,
    "start_time": "2023-01-12T23:49:39.439Z"
   },
   {
    "duration": 47,
    "start_time": "2023-01-12T23:49:39.480Z"
   },
   {
    "duration": 85272,
    "start_time": "2023-01-12T23:49:39.528Z"
   },
   {
    "duration": 4,
    "start_time": "2023-01-12T23:51:04.801Z"
   },
   {
    "duration": 4,
    "start_time": "2023-01-12T23:51:04.815Z"
   },
   {
    "duration": 9,
    "start_time": "2023-01-12T23:51:04.820Z"
   },
   {
    "duration": 111,
    "start_time": "2023-01-12T23:51:04.830Z"
   },
   {
    "duration": 0,
    "start_time": "2023-01-12T23:51:04.942Z"
   },
   {
    "duration": 0,
    "start_time": "2023-01-12T23:51:04.943Z"
   },
   {
    "duration": 0,
    "start_time": "2023-01-12T23:51:04.944Z"
   },
   {
    "duration": 0,
    "start_time": "2023-01-12T23:51:04.945Z"
   },
   {
    "duration": 0,
    "start_time": "2023-01-12T23:51:04.946Z"
   },
   {
    "duration": 0,
    "start_time": "2023-01-12T23:51:04.946Z"
   },
   {
    "duration": 0,
    "start_time": "2023-01-12T23:51:04.947Z"
   },
   {
    "duration": 0,
    "start_time": "2023-01-12T23:51:04.948Z"
   },
   {
    "duration": 0,
    "start_time": "2023-01-12T23:51:04.949Z"
   },
   {
    "duration": 10,
    "start_time": "2023-01-12T23:51:45.969Z"
   },
   {
    "duration": 85208,
    "start_time": "2023-01-12T23:51:52.283Z"
   },
   {
    "duration": 10,
    "start_time": "2023-01-12T23:53:58.108Z"
   },
   {
    "duration": 363,
    "start_time": "2023-01-12T23:54:41.264Z"
   },
   {
    "duration": 370,
    "start_time": "2023-01-12T23:55:13.327Z"
   },
   {
    "duration": 7,
    "start_time": "2023-01-12T23:55:24.262Z"
   },
   {
    "duration": 6,
    "start_time": "2023-01-12T23:55:29.784Z"
   },
   {
    "duration": 9,
    "start_time": "2023-01-12T23:56:00.597Z"
   },
   {
    "duration": 48093,
    "start_time": "2023-01-12T23:56:02.461Z"
   },
   {
    "duration": 8,
    "start_time": "2023-01-12T23:56:50.556Z"
   },
   {
    "duration": 44,
    "start_time": "2023-01-12T23:58:03.095Z"
   },
   {
    "duration": 11,
    "start_time": "2023-01-12T23:58:03.140Z"
   },
   {
    "duration": 147876,
    "start_time": "2023-01-12T23:58:03.152Z"
   },
   {
    "duration": 13,
    "start_time": "2023-01-13T00:00:31.030Z"
   },
   {
    "duration": 63,
    "start_time": "2023-01-13T00:00:31.044Z"
   },
   {
    "duration": 31,
    "start_time": "2023-01-13T00:01:10.063Z"
   },
   {
    "duration": 15,
    "start_time": "2023-01-13T00:02:05.526Z"
   },
   {
    "duration": 63,
    "start_time": "2023-01-13T12:25:01.919Z"
   },
   {
    "duration": 920,
    "start_time": "2023-01-13T12:25:28.267Z"
   },
   {
    "duration": 12215,
    "start_time": "2023-01-13T12:25:50.368Z"
   },
   {
    "duration": 833,
    "start_time": "2023-01-13T12:26:19.855Z"
   },
   {
    "duration": 5316,
    "start_time": "2023-01-13T12:26:27.151Z"
   },
   {
    "duration": 9,
    "start_time": "2023-01-13T12:26:32.470Z"
   },
   {
    "duration": 187,
    "start_time": "2023-01-13T12:26:32.482Z"
   },
   {
    "duration": 6,
    "start_time": "2023-01-13T12:26:32.672Z"
   },
   {
    "duration": 40,
    "start_time": "2023-01-13T12:26:32.684Z"
   },
   {
    "duration": 82,
    "start_time": "2023-01-13T12:26:32.727Z"
   },
   {
    "duration": 31,
    "start_time": "2023-01-13T12:26:32.812Z"
   },
   {
    "duration": 59,
    "start_time": "2023-01-13T12:26:32.848Z"
   },
   {
    "duration": 14,
    "start_time": "2023-01-13T12:26:32.910Z"
   },
   {
    "duration": 144,
    "start_time": "2023-01-13T12:26:32.927Z"
   },
   {
    "duration": 48,
    "start_time": "2023-01-13T12:26:33.073Z"
   },
   {
    "duration": 109462,
    "start_time": "2023-01-13T12:26:33.123Z"
   },
   {
    "duration": 7,
    "start_time": "2023-01-13T12:28:22.587Z"
   },
   {
    "duration": 12,
    "start_time": "2023-01-13T12:28:22.595Z"
   },
   {
    "duration": 13,
    "start_time": "2023-01-13T12:28:22.609Z"
   },
   {
    "duration": 472,
    "start_time": "2023-01-13T12:28:22.637Z"
   },
   {
    "duration": 6,
    "start_time": "2023-01-13T12:28:23.111Z"
   },
   {
    "duration": 84,
    "start_time": "2023-01-13T12:28:23.358Z"
   },
   {
    "duration": 58565,
    "start_time": "2023-01-13T12:28:23.446Z"
   },
   {
    "duration": 80,
    "start_time": "2023-01-13T12:29:22.013Z"
   },
   {
    "duration": 0,
    "start_time": "2023-01-13T12:29:22.095Z"
   },
   {
    "duration": 0,
    "start_time": "2023-01-13T12:29:22.096Z"
   },
   {
    "duration": 0,
    "start_time": "2023-01-13T12:29:22.097Z"
   },
   {
    "duration": 0,
    "start_time": "2023-01-13T12:29:22.098Z"
   },
   {
    "duration": 0,
    "start_time": "2023-01-13T12:29:22.099Z"
   },
   {
    "duration": 0,
    "start_time": "2023-01-13T12:29:22.101Z"
   },
   {
    "duration": 0,
    "start_time": "2023-01-13T12:29:22.106Z"
   },
   {
    "duration": 0,
    "start_time": "2023-01-13T12:29:22.108Z"
   },
   {
    "duration": 0,
    "start_time": "2023-01-13T12:29:22.109Z"
   },
   {
    "duration": 8,
    "start_time": "2023-01-13T12:33:56.303Z"
   },
   {
    "duration": 52,
    "start_time": "2023-01-13T12:33:58.215Z"
   },
   {
    "duration": 383,
    "start_time": "2023-01-13T12:34:06.062Z"
   },
   {
    "duration": 104,
    "start_time": "2023-01-13T12:34:11.350Z"
   },
   {
    "duration": 146,
    "start_time": "2023-01-13T12:34:17.804Z"
   },
   {
    "duration": 79,
    "start_time": "2023-01-13T12:34:23.160Z"
   },
   {
    "duration": 198,
    "start_time": "2023-01-13T12:34:35.454Z"
   },
   {
    "duration": 124,
    "start_time": "2023-01-13T12:34:44.911Z"
   },
   {
    "duration": 30,
    "start_time": "2023-01-13T12:34:50.416Z"
   },
   {
    "duration": 10,
    "start_time": "2023-01-13T12:35:00.096Z"
   },
   {
    "duration": 36,
    "start_time": "2023-01-13T12:35:02.859Z"
   },
   {
    "duration": 59991,
    "start_time": "2023-01-13T12:35:05.636Z"
   },
   {
    "duration": 27,
    "start_time": "2023-01-13T12:36:05.636Z"
   },
   {
    "duration": 13,
    "start_time": "2023-01-13T12:36:29.959Z"
   },
   {
    "duration": 80,
    "start_time": "2023-01-13T12:36:50.872Z"
   },
   {
    "duration": 10,
    "start_time": "2023-01-13T12:37:24.981Z"
   },
   {
    "duration": 826,
    "start_time": "2023-01-13T12:37:27.627Z"
   },
   {
    "duration": 21,
    "start_time": "2023-01-13T12:37:46.935Z"
   },
   {
    "duration": 21,
    "start_time": "2023-01-13T12:38:11.922Z"
   },
   {
    "duration": 37,
    "start_time": "2023-01-13T12:38:19.198Z"
   },
   {
    "duration": 65,
    "start_time": "2023-01-13T12:38:28.174Z"
   },
   {
    "duration": 285,
    "start_time": "2023-01-13T12:40:38.455Z"
   },
   {
    "duration": 32,
    "start_time": "2023-01-13T12:41:06.531Z"
   },
   {
    "duration": 16,
    "start_time": "2023-01-13T12:41:44.362Z"
   },
   {
    "duration": 19,
    "start_time": "2023-01-13T12:41:46.512Z"
   },
   {
    "duration": 16,
    "start_time": "2023-01-13T12:42:01.062Z"
   },
   {
    "duration": 13,
    "start_time": "2023-01-13T12:42:23.058Z"
   },
   {
    "duration": 24,
    "start_time": "2023-01-13T12:42:25.053Z"
   },
   {
    "duration": 13,
    "start_time": "2023-01-13T12:42:30.448Z"
   },
   {
    "duration": 23,
    "start_time": "2023-01-13T12:42:34.057Z"
   },
   {
    "duration": 12,
    "start_time": "2023-01-13T13:35:35.297Z"
   },
   {
    "duration": 39699,
    "start_time": "2023-01-13T13:35:43.761Z"
   },
   {
    "duration": 0,
    "start_time": "2023-01-13T13:37:48.259Z"
   },
   {
    "duration": 5051,
    "start_time": "2023-01-13T13:38:09.082Z"
   },
   {
    "duration": 1329,
    "start_time": "2023-01-13T13:38:14.136Z"
   },
   {
    "duration": 56,
    "start_time": "2023-01-13T13:38:15.467Z"
   },
   {
    "duration": 4,
    "start_time": "2023-01-13T13:38:15.525Z"
   },
   {
    "duration": 47,
    "start_time": "2023-01-13T13:38:15.531Z"
   },
   {
    "duration": 16,
    "start_time": "2023-01-13T13:38:15.580Z"
   },
   {
    "duration": 27,
    "start_time": "2023-01-13T13:38:15.598Z"
   },
   {
    "duration": 34,
    "start_time": "2023-01-13T13:38:15.627Z"
   },
   {
    "duration": 29,
    "start_time": "2023-01-13T13:38:15.663Z"
   },
   {
    "duration": 90,
    "start_time": "2023-01-13T13:38:15.694Z"
   },
   {
    "duration": 30,
    "start_time": "2023-01-13T13:38:15.785Z"
   },
   {
    "duration": 106459,
    "start_time": "2023-01-13T13:38:15.817Z"
   },
   {
    "duration": 5,
    "start_time": "2023-01-13T13:40:02.277Z"
   },
   {
    "duration": 12,
    "start_time": "2023-01-13T13:40:02.283Z"
   },
   {
    "duration": 13,
    "start_time": "2023-01-13T13:40:02.296Z"
   },
   {
    "duration": 539,
    "start_time": "2023-01-13T13:40:02.310Z"
   },
   {
    "duration": 12,
    "start_time": "2023-01-13T13:40:02.851Z"
   },
   {
    "duration": 65483,
    "start_time": "2023-01-13T13:40:02.866Z"
   },
   {
    "duration": 84,
    "start_time": "2023-01-13T13:41:08.360Z"
   },
   {
    "duration": 125,
    "start_time": "2023-01-13T13:41:08.447Z"
   },
   {
    "duration": 28,
    "start_time": "2023-01-13T13:41:08.574Z"
   },
   {
    "duration": 59847,
    "start_time": "2023-01-13T13:41:08.604Z"
   },
   {
    "duration": 146,
    "start_time": "2023-01-13T13:42:08.453Z"
   },
   {
    "duration": 0,
    "start_time": "2023-01-13T13:42:08.601Z"
   },
   {
    "duration": 0,
    "start_time": "2023-01-13T13:42:08.602Z"
   },
   {
    "duration": 0,
    "start_time": "2023-01-13T13:42:08.603Z"
   },
   {
    "duration": 0,
    "start_time": "2023-01-13T13:42:08.604Z"
   },
   {
    "duration": 0,
    "start_time": "2023-01-13T13:42:08.605Z"
   },
   {
    "duration": 0,
    "start_time": "2023-01-13T13:42:08.606Z"
   },
   {
    "duration": 0,
    "start_time": "2023-01-13T13:42:08.607Z"
   },
   {
    "duration": 0,
    "start_time": "2023-01-13T13:42:08.608Z"
   },
   {
    "duration": 58549,
    "start_time": "2023-01-13T13:44:11.306Z"
   },
   {
    "duration": 8,
    "start_time": "2023-01-13T15:36:32.586Z"
   },
   {
    "duration": 9,
    "start_time": "2023-01-13T15:38:18.824Z"
   },
   {
    "duration": 55520,
    "start_time": "2023-01-13T15:40:24.819Z"
   },
   {
    "duration": 279,
    "start_time": "2023-01-13T15:43:11.657Z"
   },
   {
    "duration": 10,
    "start_time": "2023-01-13T15:43:28.578Z"
   },
   {
    "duration": 44357,
    "start_time": "2023-01-13T15:45:01.584Z"
   },
   {
    "duration": 10,
    "start_time": "2023-01-13T15:53:42.462Z"
   },
   {
    "duration": 11363,
    "start_time": "2023-01-13T15:53:45.775Z"
   },
   {
    "duration": 47,
    "start_time": "2023-01-13T15:54:59.697Z"
   },
   {
    "duration": 82,
    "start_time": "2023-01-13T15:55:04.209Z"
   },
   {
    "duration": 75,
    "start_time": "2023-01-13T15:55:10.370Z"
   },
   {
    "duration": 53,
    "start_time": "2023-01-13T15:56:01.457Z"
   },
   {
    "duration": 16655,
    "start_time": "2023-01-13T15:56:38.390Z"
   },
   {
    "duration": 40500,
    "start_time": "2023-01-13T15:57:21.238Z"
   },
   {
    "duration": 7885,
    "start_time": "2023-01-13T15:58:15.653Z"
   },
   {
    "duration": 41108,
    "start_time": "2023-01-13T15:58:39.329Z"
   },
   {
    "duration": 35990,
    "start_time": "2023-01-13T16:00:01.065Z"
   },
   {
    "duration": 33743,
    "start_time": "2023-01-13T16:01:09.606Z"
   },
   {
    "duration": 57348,
    "start_time": "2023-01-13T16:03:07.181Z"
   },
   {
    "duration": 58673,
    "start_time": "2023-01-13T16:05:30.586Z"
   },
   {
    "duration": 11,
    "start_time": "2023-01-13T16:06:40.194Z"
   },
   {
    "duration": 57281,
    "start_time": "2023-01-13T16:07:18.902Z"
   },
   {
    "duration": 40,
    "start_time": "2023-01-13T16:08:34.522Z"
   },
   {
    "duration": 0,
    "start_time": "2023-01-13T16:10:19.395Z"
   },
   {
    "duration": 57838,
    "start_time": "2023-01-13T16:10:21.295Z"
   },
   {
    "duration": 48,
    "start_time": "2023-01-13T16:11:54.653Z"
   },
   {
    "duration": 119,
    "start_time": "2023-01-13T16:12:20.421Z"
   },
   {
    "duration": 45372,
    "start_time": "2023-01-13T16:13:04.870Z"
   },
   {
    "duration": 11,
    "start_time": "2023-01-13T16:14:52.381Z"
   },
   {
    "duration": 35852,
    "start_time": "2023-01-13T16:14:56.300Z"
   },
   {
    "duration": 58,
    "start_time": "2023-01-13T16:17:10.614Z"
   },
   {
    "duration": 159,
    "start_time": "2023-01-13T16:19:48.218Z"
   },
   {
    "duration": 148,
    "start_time": "2023-01-13T16:19:51.580Z"
   },
   {
    "duration": 35982,
    "start_time": "2023-01-13T16:20:35.691Z"
   },
   {
    "duration": 12171,
    "start_time": "2023-01-14T07:25:48.816Z"
   },
   {
    "duration": 1467,
    "start_time": "2023-01-14T07:26:00.990Z"
   },
   {
    "duration": 209,
    "start_time": "2023-01-14T07:26:02.459Z"
   },
   {
    "duration": 7,
    "start_time": "2023-01-14T07:26:02.670Z"
   },
   {
    "duration": 42,
    "start_time": "2023-01-14T07:26:02.680Z"
   },
   {
    "duration": 21,
    "start_time": "2023-01-14T07:26:02.723Z"
   },
   {
    "duration": 57,
    "start_time": "2023-01-14T07:26:02.746Z"
   },
   {
    "duration": 44,
    "start_time": "2023-01-14T07:26:02.807Z"
   },
   {
    "duration": 60,
    "start_time": "2023-01-14T07:26:02.856Z"
   },
   {
    "duration": 104,
    "start_time": "2023-01-14T07:26:02.918Z"
   },
   {
    "duration": 39,
    "start_time": "2023-01-14T07:26:03.024Z"
   },
   {
    "duration": 102837,
    "start_time": "2023-01-14T07:26:03.065Z"
   },
   {
    "duration": 6,
    "start_time": "2023-01-14T07:27:45.904Z"
   },
   {
    "duration": 5,
    "start_time": "2023-01-14T07:27:45.913Z"
   },
   {
    "duration": 4,
    "start_time": "2023-01-14T07:27:45.920Z"
   },
   {
    "duration": 581,
    "start_time": "2023-01-14T07:27:45.926Z"
   },
   {
    "duration": 8,
    "start_time": "2023-01-14T07:27:46.509Z"
   },
   {
    "duration": 41261,
    "start_time": "2023-01-14T07:27:46.518Z"
   },
   {
    "duration": 16,
    "start_time": "2023-01-14T07:28:27.781Z"
   },
   {
    "duration": 179,
    "start_time": "2023-01-14T07:28:27.800Z"
   },
   {
    "duration": 51023,
    "start_time": "2023-01-14T07:28:27.981Z"
   },
   {
    "duration": 54023,
    "start_time": "2023-01-14T07:29:19.080Z"
   },
   {
    "duration": 46,
    "start_time": "2023-01-14T07:30:13.105Z"
   },
   {
    "duration": 62,
    "start_time": "2023-01-14T07:30:13.153Z"
   },
   {
    "duration": 82074,
    "start_time": "2023-01-14T07:30:13.217Z"
   },
   {
    "duration": 103,
    "start_time": "2023-01-14T07:31:35.297Z"
   },
   {
    "duration": 49376,
    "start_time": "2023-01-14T07:31:35.402Z"
   },
   {
    "duration": 425,
    "start_time": "2023-01-14T07:32:24.785Z"
   },
   {
    "duration": 306,
    "start_time": "2023-01-14T07:32:25.212Z"
   },
   {
    "duration": 74,
    "start_time": "2023-01-14T07:32:25.519Z"
   },
   {
    "duration": 54,
    "start_time": "2023-01-14T07:37:03.835Z"
   },
   {
    "duration": 12,
    "start_time": "2023-01-14T07:37:24.906Z"
   },
   {
    "duration": 25,
    "start_time": "2023-01-14T07:37:25.609Z"
   },
   {
    "duration": 803,
    "start_time": "2023-01-14T07:37:55.785Z"
   },
   {
    "duration": 14,
    "start_time": "2023-01-14T07:37:59.102Z"
   },
   {
    "duration": 59,
    "start_time": "2023-01-14T11:11:06.536Z"
   },
   {
    "duration": 10913,
    "start_time": "2023-01-14T11:11:10.311Z"
   },
   {
    "duration": 1411,
    "start_time": "2023-01-14T11:11:21.227Z"
   },
   {
    "duration": 176,
    "start_time": "2023-01-14T11:11:22.639Z"
   },
   {
    "duration": 4,
    "start_time": "2023-01-14T11:11:22.818Z"
   },
   {
    "duration": 15,
    "start_time": "2023-01-14T11:11:22.824Z"
   },
   {
    "duration": 6,
    "start_time": "2023-01-14T11:11:22.841Z"
   },
   {
    "duration": 5,
    "start_time": "2023-01-14T11:11:22.849Z"
   },
   {
    "duration": 14,
    "start_time": "2023-01-14T11:11:22.856Z"
   },
   {
    "duration": 37,
    "start_time": "2023-01-14T11:11:22.871Z"
   },
   {
    "duration": 46,
    "start_time": "2023-01-14T11:11:22.912Z"
   },
   {
    "duration": 28,
    "start_time": "2023-01-14T11:11:22.959Z"
   },
   {
    "duration": 94111,
    "start_time": "2023-01-14T11:11:23.005Z"
   },
   {
    "duration": 5,
    "start_time": "2023-01-14T11:12:57.120Z"
   },
   {
    "duration": 12,
    "start_time": "2023-01-14T11:12:57.127Z"
   },
   {
    "duration": 13,
    "start_time": "2023-01-14T11:12:57.140Z"
   },
   {
    "duration": 308,
    "start_time": "2023-01-14T11:12:57.154Z"
   },
   {
    "duration": 11,
    "start_time": "2023-01-14T11:12:57.464Z"
   },
   {
    "duration": 46250,
    "start_time": "2023-01-14T11:12:57.478Z"
   },
   {
    "duration": 103,
    "start_time": "2023-01-14T11:13:43.805Z"
   },
   {
    "duration": 36372,
    "start_time": "2023-01-14T11:13:44.041Z"
   },
   {
    "duration": 94144,
    "start_time": "2023-01-14T11:14:20.419Z"
   },
   {
    "duration": 58,
    "start_time": "2023-01-14T11:15:54.564Z"
   },
   {
    "duration": 29,
    "start_time": "2023-01-14T11:15:54.623Z"
   },
   {
    "duration": 3,
    "start_time": "2023-01-14T11:15:54.654Z"
   },
   {
    "duration": 151552,
    "start_time": "2023-01-14T11:15:54.659Z"
   },
   {
    "duration": 55,
    "start_time": "2023-01-14T11:18:26.224Z"
   },
   {
    "duration": 34435,
    "start_time": "2023-01-14T11:18:26.282Z"
   },
   {
    "duration": 284,
    "start_time": "2023-01-14T11:19:00.724Z"
   },
   {
    "duration": 211,
    "start_time": "2023-01-14T11:19:01.011Z"
   },
   {
    "duration": 12,
    "start_time": "2023-01-14T11:19:01.224Z"
   },
   {
    "duration": 55,
    "start_time": "2023-01-14T11:19:01.466Z"
   },
   {
    "duration": 43697,
    "start_time": "2023-01-14T11:19:01.523Z"
   },
   {
    "duration": 105272,
    "start_time": "2023-01-14T11:20:02.750Z"
   },
   {
    "duration": 49,
    "start_time": "2023-01-14T11:21:56.122Z"
   },
   {
    "duration": 8,
    "start_time": "2023-01-14T11:24:29.968Z"
   },
   {
    "duration": 13,
    "start_time": "2023-01-14T11:24:31.902Z"
   },
   {
    "duration": 11,
    "start_time": "2023-01-14T11:25:19.998Z"
   },
   {
    "duration": 4,
    "start_time": "2023-01-14T11:25:22.018Z"
   },
   {
    "duration": 45676,
    "start_time": "2023-01-14T11:26:15.840Z"
   },
   {
    "duration": 8,
    "start_time": "2023-01-14T11:27:12.749Z"
   },
   {
    "duration": 4,
    "start_time": "2023-01-14T11:27:16.274Z"
   },
   {
    "duration": 150695,
    "start_time": "2023-01-14T11:27:18.702Z"
   },
   {
    "duration": 402,
    "start_time": "2023-01-14T11:32:42.420Z"
   },
   {
    "duration": 136,
    "start_time": "2023-01-14T11:34:24.658Z"
   },
   {
    "duration": 126,
    "start_time": "2023-01-14T11:34:31.626Z"
   },
   {
    "duration": 28,
    "start_time": "2023-01-14T11:35:00.982Z"
   },
   {
    "duration": 140,
    "start_time": "2023-01-14T11:36:04.415Z"
   },
   {
    "duration": 27,
    "start_time": "2023-01-14T11:36:42.641Z"
   },
   {
    "duration": 9,
    "start_time": "2023-01-14T11:41:24.980Z"
   },
   {
    "duration": 31,
    "start_time": "2023-01-14T11:42:01.015Z"
   },
   {
    "duration": 8,
    "start_time": "2023-01-14T11:42:03.223Z"
   },
   {
    "duration": 76,
    "start_time": "2023-01-14T11:54:29.683Z"
   }
  ],
  "kernelspec": {
   "display_name": "Python 3 (ipykernel)",
   "language": "python",
   "name": "python3"
  },
  "language_info": {
   "codemirror_mode": {
    "name": "ipython",
    "version": 3
   },
   "file_extension": ".py",
   "mimetype": "text/x-python",
   "name": "python",
   "nbconvert_exporter": "python",
   "pygments_lexer": "ipython3",
   "version": "3.9.13"
  },
  "toc": {
   "base_numbering": 1,
   "nav_menu": {},
   "number_sections": true,
   "sideBar": true,
   "skip_h1_title": true,
   "title_cell": "Содержание",
   "title_sidebar": "Contents",
   "toc_cell": true,
   "toc_position": {},
   "toc_section_display": true,
   "toc_window_display": false
  }
 },
 "nbformat": 4,
 "nbformat_minor": 2
}
