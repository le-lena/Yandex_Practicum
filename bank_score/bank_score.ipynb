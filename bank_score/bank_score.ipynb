{
 "cells": [
  {
   "cell_type": "markdown",
   "id": "9ac4d0f0",
   "metadata": {},
   "source": [
    "## Исследование надежности заемщиков"
   ]
  },
  {
   "cell_type": "markdown",
   "id": "fc2963d6",
   "metadata": {
    "deletable": false,
    "editable": false,
    "id": "827c20bf"
   },
   "source": [,
    "\n"
   ]
  },
  {
   "cell_type": "markdown",
   "id": "f3c90de0",
   "metadata": {},
   "source": [
    "### Цель проекта"
   ]
  },
  {
   "cell_type": "markdown",
   "id": "e06b0afa",
   "metadata": {},
   "source": [
    "\n",
    "Заказчик — кредитный отдел банка. Нужно разобраться, влияет ли семейное положение и количество детей клиента на факт погашения кредита в срок. Входные данные от банка — статистика о платёжеспособности клиентов.\n",
    "Результаты исследования будут учтены при построении модели кредитного скоринга — специальной системы, которая оценивает способность потенциального заёмщика вернуть кредит банку.\n"
   ]
  },
  {
   "cell_type": "markdown",
   "id": "71ff2540",
   "metadata": {},
   "source": [
    "### Описание данных"
   ]
  },
  {
   "cell_type": "markdown",
   "id": "c61327da",
   "metadata": {},
   "source": [
    "\n",
    "children — количество детей в семье\n",
    "days_employed — общий трудовой стаж в днях\n",
    "dob_years — возраст клиента в годах\n",
    "education — уровень образования клиента\n",
    "education_id — идентификатор уровня образования\n",
    "family_status — семейное положение\n",
    "family_status_id — идентификатор семейного положения\n",
    "gender — пол клиента\n",
    "income_type — тип занятости\n",
    "debt — имел ли задолженность по возврату кредитов\n",
    "total_income — ежемесячный доход\n",
    "purpose — цель получения кредита"
   ]
  },
  {
   "cell_type": "markdown",
   "id": "ac852151",
   "metadata": {
    "deletable": false,
    "editable": false,
    "id": "744d7639"
   },
   "source": [
    " Откройте таблицу и изучите общую информацию о данных"
   ]
  },
  {
   "cell_type": "markdown",
   "id": "20f5f12b",
   "metadata": {
    "deletable": false,
    "editable": false,
    "id": "e7a14c31"
   },
   "source": [
    "**Задание 1. Импортируйте библиотеку pandas. Считайте данные из csv-файла в датафрейм и сохраните в переменную `data`. Путь к файлу:**\n",
    "\n",
    "`/datasets/data.csv`"
   ]
  },
  {
   "cell_type": "code",
   "execution_count": 1,
   "id": "11840020",
   "metadata": {
    "deletable": false,
    "id": "7bcf75c9"
   },
   "outputs": [],
   "source": [
    "import pandas as pd\n",
    "\n",
    "try:\n",
    "    data = pd.read_csv('/datasets/data.csv')\n",
    "except:\n",
    "    data = pd.read_csv('https://code.s3.yandex.net/datasets/data.csv')"
   ]
  },
  {
   "cell_type": "markdown",
   "id": "bf1387d8",
   "metadata": {
    "deletable": false,
    "editable": false,
    "id": "b8038fe3"
   },
   "source": [
    "**Задание 2. Выведите первые 20 строчек датафрейма `data` на экран.**"
   ]
  },
  {
   "cell_type": "code",
   "execution_count": 2,
   "id": "c2d8c70c",
   "metadata": {
    "deletable": false,
    "id": "2a7cab99",
    "outputId": "1a8f3ef2-d323-4ec2-ddf7-89670b5944c4"
   },
   "outputs": [
    {
     "data": {
      "text/html": [
       "<div>\n",
       "<style scoped>\n",
       "    .dataframe tbody tr th:only-of-type {\n",
       "        vertical-align: middle;\n",
       "    }\n",
       "\n",
       "    .dataframe tbody tr th {\n",
       "        vertical-align: top;\n",
       "    }\n",
       "\n",
       "    .dataframe thead th {\n",
       "        text-align: right;\n",
       "    }\n",
       "</style>\n",
       "<table border=\"1\" class=\"dataframe\">\n",
       "  <thead>\n",
       "    <tr style=\"text-align: right;\">\n",
       "      <th></th>\n",
       "      <th>children</th>\n",
       "      <th>days_employed</th>\n",
       "      <th>dob_years</th>\n",
       "      <th>education</th>\n",
       "      <th>education_id</th>\n",
       "      <th>family_status</th>\n",
       "      <th>family_status_id</th>\n",
       "      <th>gender</th>\n",
       "      <th>income_type</th>\n",
       "      <th>debt</th>\n",
       "      <th>total_income</th>\n",
       "      <th>purpose</th>\n",
       "    </tr>\n",
       "  </thead>\n",
       "  <tbody>\n",
       "    <tr>\n",
       "      <th>0</th>\n",
       "      <td>1</td>\n",
       "      <td>-8437.673028</td>\n",
       "      <td>42</td>\n",
       "      <td>высшее</td>\n",
       "      <td>0</td>\n",
       "      <td>женат / замужем</td>\n",
       "      <td>0</td>\n",
       "      <td>F</td>\n",
       "      <td>сотрудник</td>\n",
       "      <td>0</td>\n",
       "      <td>253875.639453</td>\n",
       "      <td>покупка жилья</td>\n",
       "    </tr>\n",
       "    <tr>\n",
       "      <th>1</th>\n",
       "      <td>1</td>\n",
       "      <td>-4024.803754</td>\n",
       "      <td>36</td>\n",
       "      <td>среднее</td>\n",
       "      <td>1</td>\n",
       "      <td>женат / замужем</td>\n",
       "      <td>0</td>\n",
       "      <td>F</td>\n",
       "      <td>сотрудник</td>\n",
       "      <td>0</td>\n",
       "      <td>112080.014102</td>\n",
       "      <td>приобретение автомобиля</td>\n",
       "    </tr>\n",
       "    <tr>\n",
       "      <th>2</th>\n",
       "      <td>0</td>\n",
       "      <td>-5623.422610</td>\n",
       "      <td>33</td>\n",
       "      <td>Среднее</td>\n",
       "      <td>1</td>\n",
       "      <td>женат / замужем</td>\n",
       "      <td>0</td>\n",
       "      <td>M</td>\n",
       "      <td>сотрудник</td>\n",
       "      <td>0</td>\n",
       "      <td>145885.952297</td>\n",
       "      <td>покупка жилья</td>\n",
       "    </tr>\n",
       "    <tr>\n",
       "      <th>3</th>\n",
       "      <td>3</td>\n",
       "      <td>-4124.747207</td>\n",
       "      <td>32</td>\n",
       "      <td>среднее</td>\n",
       "      <td>1</td>\n",
       "      <td>женат / замужем</td>\n",
       "      <td>0</td>\n",
       "      <td>M</td>\n",
       "      <td>сотрудник</td>\n",
       "      <td>0</td>\n",
       "      <td>267628.550329</td>\n",
       "      <td>дополнительное образование</td>\n",
       "    </tr>\n",
       "    <tr>\n",
       "      <th>4</th>\n",
       "      <td>0</td>\n",
       "      <td>340266.072047</td>\n",
       "      <td>53</td>\n",
       "      <td>среднее</td>\n",
       "      <td>1</td>\n",
       "      <td>гражданский брак</td>\n",
       "      <td>1</td>\n",
       "      <td>F</td>\n",
       "      <td>пенсионер</td>\n",
       "      <td>0</td>\n",
       "      <td>158616.077870</td>\n",
       "      <td>сыграть свадьбу</td>\n",
       "    </tr>\n",
       "    <tr>\n",
       "      <th>5</th>\n",
       "      <td>0</td>\n",
       "      <td>-926.185831</td>\n",
       "      <td>27</td>\n",
       "      <td>высшее</td>\n",
       "      <td>0</td>\n",
       "      <td>гражданский брак</td>\n",
       "      <td>1</td>\n",
       "      <td>M</td>\n",
       "      <td>компаньон</td>\n",
       "      <td>0</td>\n",
       "      <td>255763.565419</td>\n",
       "      <td>покупка жилья</td>\n",
       "    </tr>\n",
       "    <tr>\n",
       "      <th>6</th>\n",
       "      <td>0</td>\n",
       "      <td>-2879.202052</td>\n",
       "      <td>43</td>\n",
       "      <td>высшее</td>\n",
       "      <td>0</td>\n",
       "      <td>женат / замужем</td>\n",
       "      <td>0</td>\n",
       "      <td>F</td>\n",
       "      <td>компаньон</td>\n",
       "      <td>0</td>\n",
       "      <td>240525.971920</td>\n",
       "      <td>операции с жильем</td>\n",
       "    </tr>\n",
       "    <tr>\n",
       "      <th>7</th>\n",
       "      <td>0</td>\n",
       "      <td>-152.779569</td>\n",
       "      <td>50</td>\n",
       "      <td>СРЕДНЕЕ</td>\n",
       "      <td>1</td>\n",
       "      <td>женат / замужем</td>\n",
       "      <td>0</td>\n",
       "      <td>M</td>\n",
       "      <td>сотрудник</td>\n",
       "      <td>0</td>\n",
       "      <td>135823.934197</td>\n",
       "      <td>образование</td>\n",
       "    </tr>\n",
       "    <tr>\n",
       "      <th>8</th>\n",
       "      <td>2</td>\n",
       "      <td>-6929.865299</td>\n",
       "      <td>35</td>\n",
       "      <td>ВЫСШЕЕ</td>\n",
       "      <td>0</td>\n",
       "      <td>гражданский брак</td>\n",
       "      <td>1</td>\n",
       "      <td>F</td>\n",
       "      <td>сотрудник</td>\n",
       "      <td>0</td>\n",
       "      <td>95856.832424</td>\n",
       "      <td>на проведение свадьбы</td>\n",
       "    </tr>\n",
       "    <tr>\n",
       "      <th>9</th>\n",
       "      <td>0</td>\n",
       "      <td>-2188.756445</td>\n",
       "      <td>41</td>\n",
       "      <td>среднее</td>\n",
       "      <td>1</td>\n",
       "      <td>женат / замужем</td>\n",
       "      <td>0</td>\n",
       "      <td>M</td>\n",
       "      <td>сотрудник</td>\n",
       "      <td>0</td>\n",
       "      <td>144425.938277</td>\n",
       "      <td>покупка жилья для семьи</td>\n",
       "    </tr>\n",
       "    <tr>\n",
       "      <th>10</th>\n",
       "      <td>2</td>\n",
       "      <td>-4171.483647</td>\n",
       "      <td>36</td>\n",
       "      <td>высшее</td>\n",
       "      <td>0</td>\n",
       "      <td>женат / замужем</td>\n",
       "      <td>0</td>\n",
       "      <td>M</td>\n",
       "      <td>компаньон</td>\n",
       "      <td>0</td>\n",
       "      <td>113943.491460</td>\n",
       "      <td>покупка недвижимости</td>\n",
       "    </tr>\n",
       "    <tr>\n",
       "      <th>11</th>\n",
       "      <td>0</td>\n",
       "      <td>-792.701887</td>\n",
       "      <td>40</td>\n",
       "      <td>среднее</td>\n",
       "      <td>1</td>\n",
       "      <td>женат / замужем</td>\n",
       "      <td>0</td>\n",
       "      <td>F</td>\n",
       "      <td>сотрудник</td>\n",
       "      <td>0</td>\n",
       "      <td>77069.234271</td>\n",
       "      <td>покупка коммерческой недвижимости</td>\n",
       "    </tr>\n",
       "    <tr>\n",
       "      <th>12</th>\n",
       "      <td>0</td>\n",
       "      <td>NaN</td>\n",
       "      <td>65</td>\n",
       "      <td>среднее</td>\n",
       "      <td>1</td>\n",
       "      <td>гражданский брак</td>\n",
       "      <td>1</td>\n",
       "      <td>M</td>\n",
       "      <td>пенсионер</td>\n",
       "      <td>0</td>\n",
       "      <td>NaN</td>\n",
       "      <td>сыграть свадьбу</td>\n",
       "    </tr>\n",
       "    <tr>\n",
       "      <th>13</th>\n",
       "      <td>0</td>\n",
       "      <td>-1846.641941</td>\n",
       "      <td>54</td>\n",
       "      <td>неоконченное высшее</td>\n",
       "      <td>2</td>\n",
       "      <td>женат / замужем</td>\n",
       "      <td>0</td>\n",
       "      <td>F</td>\n",
       "      <td>сотрудник</td>\n",
       "      <td>0</td>\n",
       "      <td>130458.228857</td>\n",
       "      <td>приобретение автомобиля</td>\n",
       "    </tr>\n",
       "    <tr>\n",
       "      <th>14</th>\n",
       "      <td>0</td>\n",
       "      <td>-1844.956182</td>\n",
       "      <td>56</td>\n",
       "      <td>высшее</td>\n",
       "      <td>0</td>\n",
       "      <td>гражданский брак</td>\n",
       "      <td>1</td>\n",
       "      <td>F</td>\n",
       "      <td>компаньон</td>\n",
       "      <td>1</td>\n",
       "      <td>165127.911772</td>\n",
       "      <td>покупка жилой недвижимости</td>\n",
       "    </tr>\n",
       "    <tr>\n",
       "      <th>15</th>\n",
       "      <td>1</td>\n",
       "      <td>-972.364419</td>\n",
       "      <td>26</td>\n",
       "      <td>среднее</td>\n",
       "      <td>1</td>\n",
       "      <td>женат / замужем</td>\n",
       "      <td>0</td>\n",
       "      <td>F</td>\n",
       "      <td>сотрудник</td>\n",
       "      <td>0</td>\n",
       "      <td>116820.904450</td>\n",
       "      <td>строительство собственной недвижимости</td>\n",
       "    </tr>\n",
       "    <tr>\n",
       "      <th>16</th>\n",
       "      <td>0</td>\n",
       "      <td>-1719.934226</td>\n",
       "      <td>35</td>\n",
       "      <td>среднее</td>\n",
       "      <td>1</td>\n",
       "      <td>женат / замужем</td>\n",
       "      <td>0</td>\n",
       "      <td>F</td>\n",
       "      <td>сотрудник</td>\n",
       "      <td>0</td>\n",
       "      <td>289202.704229</td>\n",
       "      <td>недвижимость</td>\n",
       "    </tr>\n",
       "    <tr>\n",
       "      <th>17</th>\n",
       "      <td>0</td>\n",
       "      <td>-2369.999720</td>\n",
       "      <td>33</td>\n",
       "      <td>высшее</td>\n",
       "      <td>0</td>\n",
       "      <td>гражданский брак</td>\n",
       "      <td>1</td>\n",
       "      <td>M</td>\n",
       "      <td>сотрудник</td>\n",
       "      <td>0</td>\n",
       "      <td>90410.586745</td>\n",
       "      <td>строительство недвижимости</td>\n",
       "    </tr>\n",
       "    <tr>\n",
       "      <th>18</th>\n",
       "      <td>0</td>\n",
       "      <td>400281.136913</td>\n",
       "      <td>53</td>\n",
       "      <td>среднее</td>\n",
       "      <td>1</td>\n",
       "      <td>вдовец / вдова</td>\n",
       "      <td>2</td>\n",
       "      <td>F</td>\n",
       "      <td>пенсионер</td>\n",
       "      <td>0</td>\n",
       "      <td>56823.777243</td>\n",
       "      <td>на покупку подержанного автомобиля</td>\n",
       "    </tr>\n",
       "    <tr>\n",
       "      <th>19</th>\n",
       "      <td>0</td>\n",
       "      <td>-10038.818549</td>\n",
       "      <td>48</td>\n",
       "      <td>СРЕДНЕЕ</td>\n",
       "      <td>1</td>\n",
       "      <td>в разводе</td>\n",
       "      <td>3</td>\n",
       "      <td>F</td>\n",
       "      <td>сотрудник</td>\n",
       "      <td>0</td>\n",
       "      <td>242831.107982</td>\n",
       "      <td>на покупку своего автомобиля</td>\n",
       "    </tr>\n",
       "  </tbody>\n",
       "</table>\n",
       "</div>"
      ],
      "text/plain": [
       "    children  days_employed  dob_years            education  education_id  \\\n",
       "0          1   -8437.673028         42               высшее             0   \n",
       "1          1   -4024.803754         36              среднее             1   \n",
       "2          0   -5623.422610         33              Среднее             1   \n",
       "3          3   -4124.747207         32              среднее             1   \n",
       "4          0  340266.072047         53              среднее             1   \n",
       "5          0    -926.185831         27               высшее             0   \n",
       "6          0   -2879.202052         43               высшее             0   \n",
       "7          0    -152.779569         50              СРЕДНЕЕ             1   \n",
       "8          2   -6929.865299         35               ВЫСШЕЕ             0   \n",
       "9          0   -2188.756445         41              среднее             1   \n",
       "10         2   -4171.483647         36               высшее             0   \n",
       "11         0    -792.701887         40              среднее             1   \n",
       "12         0            NaN         65              среднее             1   \n",
       "13         0   -1846.641941         54  неоконченное высшее             2   \n",
       "14         0   -1844.956182         56               высшее             0   \n",
       "15         1    -972.364419         26              среднее             1   \n",
       "16         0   -1719.934226         35              среднее             1   \n",
       "17         0   -2369.999720         33               высшее             0   \n",
       "18         0  400281.136913         53              среднее             1   \n",
       "19         0  -10038.818549         48              СРЕДНЕЕ             1   \n",
       "\n",
       "       family_status  family_status_id gender income_type  debt  \\\n",
       "0    женат / замужем                 0      F   сотрудник     0   \n",
       "1    женат / замужем                 0      F   сотрудник     0   \n",
       "2    женат / замужем                 0      M   сотрудник     0   \n",
       "3    женат / замужем                 0      M   сотрудник     0   \n",
       "4   гражданский брак                 1      F   пенсионер     0   \n",
       "5   гражданский брак                 1      M   компаньон     0   \n",
       "6    женат / замужем                 0      F   компаньон     0   \n",
       "7    женат / замужем                 0      M   сотрудник     0   \n",
       "8   гражданский брак                 1      F   сотрудник     0   \n",
       "9    женат / замужем                 0      M   сотрудник     0   \n",
       "10   женат / замужем                 0      M   компаньон     0   \n",
       "11   женат / замужем                 0      F   сотрудник     0   \n",
       "12  гражданский брак                 1      M   пенсионер     0   \n",
       "13   женат / замужем                 0      F   сотрудник     0   \n",
       "14  гражданский брак                 1      F   компаньон     1   \n",
       "15   женат / замужем                 0      F   сотрудник     0   \n",
       "16   женат / замужем                 0      F   сотрудник     0   \n",
       "17  гражданский брак                 1      M   сотрудник     0   \n",
       "18    вдовец / вдова                 2      F   пенсионер     0   \n",
       "19         в разводе                 3      F   сотрудник     0   \n",
       "\n",
       "     total_income                                 purpose  \n",
       "0   253875.639453                           покупка жилья  \n",
       "1   112080.014102                 приобретение автомобиля  \n",
       "2   145885.952297                           покупка жилья  \n",
       "3   267628.550329              дополнительное образование  \n",
       "4   158616.077870                         сыграть свадьбу  \n",
       "5   255763.565419                           покупка жилья  \n",
       "6   240525.971920                       операции с жильем  \n",
       "7   135823.934197                             образование  \n",
       "8    95856.832424                   на проведение свадьбы  \n",
       "9   144425.938277                 покупка жилья для семьи  \n",
       "10  113943.491460                    покупка недвижимости  \n",
       "11   77069.234271       покупка коммерческой недвижимости  \n",
       "12            NaN                         сыграть свадьбу  \n",
       "13  130458.228857                 приобретение автомобиля  \n",
       "14  165127.911772              покупка жилой недвижимости  \n",
       "15  116820.904450  строительство собственной недвижимости  \n",
       "16  289202.704229                            недвижимость  \n",
       "17   90410.586745              строительство недвижимости  \n",
       "18   56823.777243      на покупку подержанного автомобиля  \n",
       "19  242831.107982            на покупку своего автомобиля  "
      ]
     },
     "execution_count": 2,
     "metadata": {},
     "output_type": "execute_result"
    }
   ],
   "source": [
    "data.head(20)"
   ]
  },
  {
   "cell_type": "markdown",
   "id": "a2ce0e54",
   "metadata": {
    "deletable": false,
    "editable": false,
    "id": "1c12e233"
   },
   "source": [
    "**Задание 3. Выведите основную информацию о датафрейме с помощью метода `info()`.**"
   ]
  },
  {
   "cell_type": "code",
   "execution_count": 3,
   "id": "e5f39d32",
   "metadata": {
    "deletable": false,
    "id": "2b757bca",
    "outputId": "15376089-8dad-46c9-b520-c05248d43158",
    "scrolled": true
   },
   "outputs": [
    {
     "name": "stdout",
     "output_type": "stream",
     "text": [
      "<class 'pandas.core.frame.DataFrame'>\n",
      "RangeIndex: 21525 entries, 0 to 21524\n",
      "Data columns (total 12 columns):\n",
      " #   Column            Non-Null Count  Dtype  \n",
      "---  ------            --------------  -----  \n",
      " 0   children          21525 non-null  int64  \n",
      " 1   days_employed     19351 non-null  float64\n",
      " 2   dob_years         21525 non-null  int64  \n",
      " 3   education         21525 non-null  object \n",
      " 4   education_id      21525 non-null  int64  \n",
      " 5   family_status     21525 non-null  object \n",
      " 6   family_status_id  21525 non-null  int64  \n",
      " 7   gender            21525 non-null  object \n",
      " 8   income_type       21525 non-null  object \n",
      " 9   debt              21525 non-null  int64  \n",
      " 10  total_income      19351 non-null  float64\n",
      " 11  purpose           21525 non-null  object \n",
      "dtypes: float64(2), int64(5), object(5)\n",
      "memory usage: 2.0+ MB\n"
     ]
    }
   ],
   "source": [
    "data.info()"
   ]
  },
  {
   "cell_type": "markdown",
   "id": "3e1c6d93",
   "metadata": {
    "deletable": false,
    "editable": false,
    "id": "333ec665"
   },
   "source": [
    "## Предобработка данных"
   ]
  },
  {
   "cell_type": "markdown",
   "id": "a0de4fa6",
   "metadata": {
    "deletable": false,
    "editable": false,
    "id": "02d92d53"
   },
   "source": [
    "### Удаление пропусков"
   ]
  },
  {
   "cell_type": "markdown",
   "id": "6493cfb2",
   "metadata": {
    "deletable": false,
    "editable": false,
    "id": "cd84967c"
   },
   "source": [
    "**Задание 4. Выведите количество пропущенных значений для каждого столбца. Используйте комбинацию двух методов.**"
   ]
  },
  {
   "cell_type": "code",
   "execution_count": 4,
   "id": "5d5d3c7a",
   "metadata": {
    "deletable": false,
    "id": "7f9b2309",
    "outputId": "81f4d817-781c-465c-ed15-91ce4446810d"
   },
   "outputs": [
    {
     "data": {
      "text/plain": [
       "children               0\n",
       "days_employed       2174\n",
       "dob_years              0\n",
       "education              0\n",
       "education_id           0\n",
       "family_status          0\n",
       "family_status_id       0\n",
       "gender                 0\n",
       "income_type            0\n",
       "debt                   0\n",
       "total_income        2174\n",
       "purpose                0\n",
       "dtype: int64"
      ]
     },
     "execution_count": 4,
     "metadata": {},
     "output_type": "execute_result"
    }
   ],
   "source": [
    "data.isna().sum()"
   ]
  },
  {
   "cell_type": "markdown",
   "id": "bfd9889a",
   "metadata": {
    "deletable": false,
    "editable": false,
    "id": "db86e27b"
   },
   "source": [
    "**Задание 5. В двух столбцах есть пропущенные значения. Один из них — `days_employed`. Пропуски в этом столбце вы обработаете на следующем этапе. Другой столбец с пропущенными значениями — `total_income` — хранит данные о доходах. На сумму дохода сильнее всего влияет тип занятости, поэтому заполнить пропуски в этом столбце нужно медианным значением по каждому типу из столбца `income_type`. Например, у человека с типом занятости `сотрудник` пропуск в столбце `total_income` должен быть заполнен медианным доходом среди всех записей с тем же типом.**"
   ]
  },
  {
   "cell_type": "code",
   "execution_count": 5,
   "id": "c67ea1ac",
   "metadata": {
    "deletable": false,
    "id": "42006a93"
   },
   "outputs": [],
   "source": [
    "for t in data['income_type'].unique():\n",
    "    data.loc[(data['income_type'] == t) & (data['total_income'].isna()), 'total_income'] = \\\n",
    "    data.loc[(data['income_type'] == t), 'total_income'].median()"
   ]
  },
  {
   "cell_type": "markdown",
   "id": "7f69f08d",
   "metadata": {
    "deletable": false,
    "editable": false,
    "id": "89da5ece"
   },
   "source": [
    "### Обработка аномальных значений"
   ]
  },
  {
   "cell_type": "markdown",
   "id": "60ef6cd3",
   "metadata": {
    "deletable": false,
    "editable": false,
    "id": "57964554"
   },
   "source": [
    "**Задание 6. В данных могут встречаться артефакты (аномалии) — значения, которые не отражают действительность и появились по какой-то ошибке. таким артефактом будет отрицательное количество дней трудового стажа в столбце `days_employed`. Для реальных данных это нормально. Обработайте значения в этом столбце: замените все отрицательные значения положительными с помощью метода `abs()`.**"
   ]
  },
  {
   "cell_type": "code",
   "execution_count": 6,
   "id": "5a5fce83",
   "metadata": {
    "deletable": false,
    "id": "f6f055bf"
   },
   "outputs": [],
   "source": [
    "data['days_employed'] = data['days_employed'].abs()"
   ]
  },
  {
   "cell_type": "markdown",
   "id": "65b50b4e",
   "metadata": {
    "deletable": false,
    "editable": false,
    "id": "6107dd2f"
   },
   "source": [
    "**Задание 7. Для каждого типа занятости выведите медианное значение трудового стажа `days_employed` в днях.**"
   ]
  },
  {
   "cell_type": "code",
   "execution_count": 7,
   "id": "ed291fef",
   "metadata": {
    "deletable": false,
    "id": "85a5faf6",
    "outputId": "801ef80e-522b-4668-f34e-565af7432bcf"
   },
   "outputs": [
    {
     "data": {
      "text/plain": [
       "income_type\n",
       "безработный        366413.652744\n",
       "в декрете            3296.759962\n",
       "госслужащий          2689.368353\n",
       "компаньон            1547.382223\n",
       "пенсионер          365213.306266\n",
       "предприниматель       520.848083\n",
       "сотрудник            1574.202821\n",
       "студент               578.751554\n",
       "Name: days_employed, dtype: float64"
      ]
     },
     "execution_count": 7,
     "metadata": {},
     "output_type": "execute_result"
    }
   ],
   "source": [
    "data.groupby('income_type')['days_employed'].agg('median')"
   ]
  },
  {
   "cell_type": "markdown",
   "id": "984ada96",
   "metadata": {
    "deletable": false,
    "editable": false,
    "id": "38d1a030"
   },
   "source": [
    "У двух типов (безработные и пенсионеры) получатся аномально большие значения. Исправить такие значения сложно, поэтому оставьте их как есть. Тем более этот столбец не понадобится вам для исследования."
   ]
  },
  {
   "cell_type": "markdown",
   "id": "bf1b230a",
   "metadata": {
    "deletable": false,
    "editable": false,
    "id": "d8a9f147"
   },
   "source": [
    "**Задание 8. Выведите перечень уникальных значений столбца `children`.**"
   ]
  },
  {
   "cell_type": "code",
   "execution_count": 8,
   "id": "f18d6e97",
   "metadata": {
    "deletable": false,
    "id": "ef5056eb",
    "outputId": "6975b15c-7f95-4697-d16d-a0c79b657b03"
   },
   "outputs": [
    {
     "data": {
      "text/plain": [
       "array([ 1,  0,  3,  2, -1,  4, 20,  5])"
      ]
     },
     "execution_count": 8,
     "metadata": {},
     "output_type": "execute_result"
    }
   ],
   "source": [
    "data['children'].unique()"
   ]
  },
  {
   "cell_type": "markdown",
   "id": "8475b1c4",
   "metadata": {
    "deletable": false,
    "editable": false,
    "id": "40b9ebf2"
   },
   "source": [
    "**Задание 9. В столбце `children` есть два аномальных значения. Удалите строки, в которых встречаются такие аномальные значения из датафрейма `data`.**"
   ]
  },
  {
   "cell_type": "code",
   "execution_count": 9,
   "id": "014f679b",
   "metadata": {
    "deletable": false,
    "id": "3ff9801d"
   },
   "outputs": [],
   "source": [
    "data = data[(data['children'] != -1) & (data['children'] != 20)]"
   ]
  },
  {
   "cell_type": "markdown",
   "id": "d5a34448",
   "metadata": {
    "deletable": false,
    "editable": false,
    "id": "bbc4d0ce"
   },
   "source": [
    "**Задание 10. Ещё раз выведите перечень уникальных значений столбца `children`, чтобы убедиться, что артефакты удалены.**"
   ]
  },
  {
   "cell_type": "code",
   "execution_count": 10,
   "id": "a1732952",
   "metadata": {
    "deletable": false,
    "id": "ad4fa8b7",
    "outputId": "b2097101-d49d-44d9-901b-32a65c9463d1"
   },
   "outputs": [
    {
     "data": {
      "text/plain": [
       "array([1, 0, 3, 2, 4, 5])"
      ]
     },
     "execution_count": 10,
     "metadata": {},
     "output_type": "execute_result"
    }
   ],
   "source": [
    "data['children'].unique()"
   ]
  },
  {
   "cell_type": "markdown",
   "id": "85aeb675",
   "metadata": {
    "deletable": false,
    "editable": false,
    "id": "75440b63"
   },
   "source": [
    "### Удаление пропусков (продолжение)"
   ]
  },
  {
   "cell_type": "markdown",
   "id": "7d605d55",
   "metadata": {
    "deletable": false,
    "editable": false,
    "id": "f4ea573f"
   },
   "source": [
    "**Задание 11. Заполните пропуски в столбце `days_employed` медианными значениями по каждого типа занятости `income_type`.**"
   ]
  },
  {
   "cell_type": "code",
   "execution_count": 11,
   "id": "054a94d1",
   "metadata": {
    "deletable": false,
    "id": "af6b1a7e"
   },
   "outputs": [],
   "source": [
    "for t in data['income_type'].unique():\n",
    "    data.loc[(data['income_type'] == t) & (data['days_employed'].isna()), 'days_employed'] = \\\n",
    "    data.loc[(data['income_type'] == t), 'days_employed'].median()"
   ]
  },
  {
   "cell_type": "markdown",
   "id": "9d31aae7",
   "metadata": {
    "deletable": false,
    "editable": false,
    "id": "2753f40d"
   },
   "source": [
    "**Задание 12. Убедитесь, что все пропуски заполнены. Проверьте себя и ещё раз выведите количество пропущенных значений для каждого столбца с помощью двух методов.**"
   ]
  },
  {
   "cell_type": "code",
   "execution_count": 12,
   "id": "70eaf819",
   "metadata": {
    "deletable": false,
    "id": "55f78bc2",
    "outputId": "8da1e4e1-358e-4e87-98c9-f261bce0a7b2"
   },
   "outputs": [
    {
     "data": {
      "text/plain": [
       "children            0\n",
       "days_employed       0\n",
       "dob_years           0\n",
       "education           0\n",
       "education_id        0\n",
       "family_status       0\n",
       "family_status_id    0\n",
       "gender              0\n",
       "income_type         0\n",
       "debt                0\n",
       "total_income        0\n",
       "purpose             0\n",
       "dtype: int64"
      ]
     },
     "execution_count": 12,
     "metadata": {},
     "output_type": "execute_result"
    }
   ],
   "source": [
    "data.isna().sum()"
   ]
  },
  {
   "cell_type": "markdown",
   "id": "2c5dbaa2",
   "metadata": {
    "deletable": false,
    "editable": false,
    "id": "ddc81e43"
   },
   "source": [
    "### Изменение типов данных"
   ]
  },
  {
   "cell_type": "markdown",
   "id": "b3f9fe3f",
   "metadata": {
    "deletable": false,
    "editable": false,
    "id": "42d19d24"
   },
   "source": [
    "**Задание 13. Замените вещественный тип данных в столбце `total_income` на целочисленный с помощью метода `astype()`.**"
   ]
  },
  {
   "cell_type": "code",
   "execution_count": 13,
   "id": "12c51ed8",
   "metadata": {
    "deletable": false,
    "id": "920b65ad"
   },
   "outputs": [],
   "source": [
    "data['total_income'] = data['total_income'].astype(int)"
   ]
  },
  {
   "cell_type": "markdown",
   "id": "c7320614",
   "metadata": {
    "deletable": false,
    "editable": false,
    "id": "80c420ba"
   },
   "source": [
    "### Обработка дубликатов"
   ]
  },
  {
   "cell_type": "markdown",
   "id": "8ae0fa2f",
   "metadata": {
    "deletable": false,
    "editable": false
   },
   "source": [
    "**Задание 14. Обработайте неявные дубликаты в столбце `education`. В этом столбце есть одни и те же значения, но записанные по-разному: с использованием заглавных и строчных букв. Приведите их к нижнему регистру. Проверьте остальные столбцы.**"
   ]
  },
  {
   "cell_type": "code",
   "execution_count": 14,
   "id": "9bc09510",
   "metadata": {
    "deletable": false
   },
   "outputs": [],
   "source": [
    "data['education'] = data['education'].str.lower()"
   ]
  },
  {
   "cell_type": "markdown",
   "id": "b2f9ba65",
   "metadata": {
    "deletable": false,
    "editable": false,
    "id": "dc587695"
   },
   "source": [
    "**Задание 15. Выведите на экран количество строк-дубликатов в данных. Если такие строки присутствуют, удалите их.**"
   ]
  },
  {
   "cell_type": "code",
   "execution_count": 15,
   "id": "561edd8e",
   "metadata": {
    "deletable": false,
    "id": "3ee445e4",
    "outputId": "9684deba-1934-42d1-99e1-cda61740f822"
   },
   "outputs": [
    {
     "data": {
      "text/plain": [
       "71"
      ]
     },
     "execution_count": 15,
     "metadata": {},
     "output_type": "execute_result"
    }
   ],
   "source": [
    "data.duplicated().sum()"
   ]
  },
  {
   "cell_type": "code",
   "execution_count": 16,
   "id": "4bfb869b",
   "metadata": {
    "deletable": false,
    "id": "8575fe05"
   },
   "outputs": [],
   "source": [
    "data = data.drop_duplicates()"
   ]
  },
  {
   "cell_type": "markdown",
   "id": "74570115",
   "metadata": {
    "deletable": false,
    "editable": false,
    "id": "9904cf55"
   },
   "source": [
    "### Категоризация данных"
   ]
  },
  {
   "cell_type": "markdown",
   "id": "876d4880",
   "metadata": {
    "deletable": false,
    "editable": false,
    "id": "72fcc8a2"
   },
   "source": [
    "**Задание 16. На основании диапазонов, указанных ниже, создайте в датафрейме `data` столбец `total_income_category` с категориями:**\n",
    "\n",
    "- 0–30000 — `'E'`;\n",
    "- 30001–50000 — `'D'`;\n",
    "- 50001–200000 — `'C'`;\n",
    "- 200001–1000000 — `'B'`;\n",
    "- 1000001 и выше — `'A'`.\n",
    "\n",
    "\n",
    "**Например, кредитополучателю с доходом 25000 нужно назначить категорию `'E'`, а клиенту, получающему 235000, — `'B'`. Используйте собственную функцию с именем `categorize_income()` и метод `apply()`.**"
   ]
  },
  {
   "cell_type": "code",
   "execution_count": 17,
   "id": "4e0189ee",
   "metadata": {
    "deletable": false,
    "id": "e1771346"
   },
   "outputs": [],
   "source": [
    "def categorize_income(income):\n",
    "    try:\n",
    "        if 0 <= income <= 30000:\n",
    "            return 'E'\n",
    "        elif 30001 <= income <= 50000:\n",
    "            return 'D'\n",
    "        elif 50001 <= income <= 200000:\n",
    "            return 'C'\n",
    "        elif 200001 <= income <= 1000000:\n",
    "            return 'B'\n",
    "        elif income >= 1000001:\n",
    "            return 'A'\n",
    "    except:\n",
    "        pass"
   ]
  },
  {
   "cell_type": "code",
   "execution_count": 18,
   "id": "edb0945f",
   "metadata": {
    "deletable": false,
    "id": "d5f3586d"
   },
   "outputs": [],
   "source": [
    "data['total_income_category'] = data['total_income'].apply(categorize_income)"
   ]
  },
  {
   "cell_type": "markdown",
   "id": "8335439b",
   "metadata": {
    "deletable": false,
    "editable": false,
    "id": "dde49b5c"
   },
   "source": [
    "**Задание 17. Выведите на экран перечень уникальных целей взятия кредита из столбца `purpose`.**"
   ]
  },
  {
   "cell_type": "code",
   "execution_count": 19,
   "id": "a8907aa7",
   "metadata": {
    "deletable": false,
    "id": "f67ce9b3",
    "outputId": "673c12d9-7d7e-4ae0-9812-c622c89dd244"
   },
   "outputs": [
    {
     "data": {
      "text/plain": [
       "array(['покупка жилья', 'приобретение автомобиля',\n",
       "       'дополнительное образование', 'сыграть свадьбу',\n",
       "       'операции с жильем', 'образование', 'на проведение свадьбы',\n",
       "       'покупка жилья для семьи', 'покупка недвижимости',\n",
       "       'покупка коммерческой недвижимости', 'покупка жилой недвижимости',\n",
       "       'строительство собственной недвижимости', 'недвижимость',\n",
       "       'строительство недвижимости', 'на покупку подержанного автомобиля',\n",
       "       'на покупку своего автомобиля',\n",
       "       'операции с коммерческой недвижимостью',\n",
       "       'строительство жилой недвижимости', 'жилье',\n",
       "       'операции со своей недвижимостью', 'автомобили',\n",
       "       'заняться образованием', 'сделка с подержанным автомобилем',\n",
       "       'получение образования', 'автомобиль', 'свадьба',\n",
       "       'получение дополнительного образования', 'покупка своего жилья',\n",
       "       'операции с недвижимостью', 'получение высшего образования',\n",
       "       'свой автомобиль', 'сделка с автомобилем',\n",
       "       'профильное образование', 'высшее образование',\n",
       "       'покупка жилья для сдачи', 'на покупку автомобиля', 'ремонт жилью',\n",
       "       'заняться высшим образованием'], dtype=object)"
      ]
     },
     "execution_count": 19,
     "metadata": {},
     "output_type": "execute_result"
    }
   ],
   "source": [
    "data['purpose'].unique()"
   ]
  },
  {
   "cell_type": "markdown",
   "id": "755a4594",
   "metadata": {
    "deletable": false,
    "editable": false,
    "id": "85d0aef0"
   },
   "source": [
    "**Задание 18. Создайте функцию, которая на основании данных из столбца `purpose` сформирует новый столбец `purpose_category`, в который войдут следующие категории:**\n",
    "\n",
    "- `'операции с автомобилем'`,\n",
    "- `'операции с недвижимостью'`,\n",
    "- `'проведение свадьбы'`,\n",
    "- `'получение образования'`.\n",
    "\n",
    "**Например, если в столбце `purpose` находится подстрока `'на покупку автомобиля'`, то в столбце `purpose_category` должна появиться строка `'операции с автомобилем'`.**\n",
    "\n",
    "**Используйте собственную функцию с именем `categorize_purpose()` и метод `apply()`. Изучите данные в столбце `purpose` и определите, какие подстроки помогут вам правильно определить категорию.**"
   ]
  },
  {
   "cell_type": "code",
   "execution_count": 20,
   "id": "309bf1d4",
   "metadata": {
    "deletable": false,
    "id": "e149fab4"
   },
   "outputs": [],
   "source": [
    "def categorize_purpose(row):\n",
    "    try:\n",
    "        if 'автом' in row:\n",
    "            return 'операции с автомобилем'\n",
    "        elif 'жил' in row or 'недвиж' in row:\n",
    "            return 'операции с недвижимостью'\n",
    "        elif 'свад' in row:\n",
    "            return 'проведение свадьбы'\n",
    "        elif 'образов' in row:\n",
    "            return 'получение образования'\n",
    "    except:\n",
    "        return 'нет категории'"
   ]
  },
  {
   "cell_type": "code",
   "execution_count": 21,
   "id": "dbf1cd54",
   "metadata": {
    "deletable": false,
    "id": "bf36e69b"
   },
   "outputs": [],
   "source": [
    "data['purpose_category'] = data['purpose'].apply(categorize_purpose)"
   ]
  },
  {
   "cell_type": "markdown",
   "id": "240c92ef",
   "metadata": {
    "deletable": false,
    "editable": false,
    "id": "09b242bf"
   },
   "source": [
    "##  Исследование данных"
   ]
  },
  {
   "cell_type": "markdown",
   "id": "4fa420e0",
   "metadata": {
    "deletable": false,
    "editable": false,
    "id": "c5d66278"
   },
   "source": [
    "### Есть ли зависимость между количеством детей и возвратом кредита в срок?"
   ]
  },
  {
   "cell_type": "code",
   "execution_count": 34,
   "id": "14f7d207",
   "metadata": {
    "deletable": false,
    "id": "2cacfc4a"
   },
   "outputs": [
    {
     "data": {
      "text/html": [
       "<div>\n",
       "<style scoped>\n",
       "    .dataframe tbody tr th:only-of-type {\n",
       "        vertical-align: middle;\n",
       "    }\n",
       "\n",
       "    .dataframe tbody tr th {\n",
       "        vertical-align: top;\n",
       "    }\n",
       "\n",
       "    .dataframe thead th {\n",
       "        text-align: right;\n",
       "    }\n",
       "</style>\n",
       "<table border=\"1\" class=\"dataframe\">\n",
       "  <thead>\n",
       "    <tr style=\"text-align: right;\">\n",
       "      <th></th>\n",
       "      <th>count</th>\n",
       "      <th>mean</th>\n",
       "      <th>sum</th>\n",
       "    </tr>\n",
       "    <tr>\n",
       "      <th>children</th>\n",
       "      <th></th>\n",
       "      <th></th>\n",
       "      <th></th>\n",
       "    </tr>\n",
       "  </thead>\n",
       "  <tbody>\n",
       "    <tr>\n",
       "      <th>0</th>\n",
       "      <td>13819.0</td>\n",
       "      <td>0.075838</td>\n",
       "      <td>1048.0</td>\n",
       "    </tr>\n",
       "    <tr>\n",
       "      <th>1</th>\n",
       "      <td>4729.0</td>\n",
       "      <td>0.092831</td>\n",
       "      <td>439.0</td>\n",
       "    </tr>\n",
       "    <tr>\n",
       "      <th>2</th>\n",
       "      <td>2014.0</td>\n",
       "      <td>0.094340</td>\n",
       "      <td>190.0</td>\n",
       "    </tr>\n",
       "  </tbody>\n",
       "</table>\n",
       "</div>"
      ],
      "text/plain": [
       "            count      mean     sum\n",
       "children                           \n",
       "0         13819.0  0.075838  1048.0\n",
       "1          4729.0  0.092831   439.0\n",
       "2          2014.0  0.094340   190.0"
      ]
     },
     "metadata": {},
     "output_type": "display_data"
    },
    {
     "data": {
      "image/png": "iVBORw0KGgoAAAANSUhEUgAAAX0AAAD8CAYAAACb4nSYAAAAOXRFWHRTb2Z0d2FyZQBNYXRwbG90bGliIHZlcnNpb24zLjMuNCwgaHR0cHM6Ly9tYXRwbG90bGliLm9yZy8QVMy6AAAACXBIWXMAAAsTAAALEwEAmpwYAAAP1klEQVR4nO3cf6zdd13H8efLdis4dIyuAnaFlqwGOzFxuxaMioQJdBBXDJ3pMFLMSEFt1CDRosnEyR8bMSwxzEjjZuowbMv8wdUVG8w0JARq7yZsdLNwGeBaUbpuGVbcSsfbP863yeV4y/2ee29779nn+Uhu7vf7+b7POe9Pvu3rfO/3fM83VYUkqQ3fs9QNSJLOHUNfkhpi6EtSQwx9SWqIoS9JDTH0JakhvUI/yZYkh5NMJ9k9y/ZXJ7k/yakk24a27Ujyxe5nx2I1LkkaXea6Tj/JCuALwOuAI8BB4NqqemhGzXrg+4H3AJNVdXc3/gJgCpgACrgPuKKqnlj0mUiS5tTnSH8zMF1Vj1TVSeAOYOvMgqr6SlU9AHx76LFvAD5RVY93Qf8JYMsi9C1JmoeVPWrWAo/OWD8CvLLn88/22LXDRUl2AjsBLrjggite/vKX93x6SRLAfffd91hVrZmrrk/on3VVtQfYAzAxMVFTU1NL3JEkjZckX+1T1+f0zlFg3Yz1S7qxPhbyWEnSIusT+geBjUk2JDkf2A5M9nz+/cDrk1yU5CLg9d2YJGkJzBn6VXUK2MUgrB8G7qqqQ0luSHI1QJIfT3IEuAb4cJJD3WMfB/6QwRvHQeCGbkyStATmvGTzXPOcviSNLsl9VTUxV53fyJWkhhj6ktQQQ1+SGmLoS1JDDH1JaoihL0kNMfQlqSHL4t47ksbH+t33LHULz1pfufFNZ/01PNKXpIYY+pLUEE/vaEl5quDsORenCjR+PNKXpIYY+pLUEENfkhpi6EtSQwx9SWqIoS9JDTH0Jakhhr4kNcTQl6SGGPqS1BBDX5IaYuhLUkMMfUlqiKEvSQ0x9CWpIYa+JDXE0Jekhhj6ktQQQ1+SGmLoS1JDDH1JaoihL0kNMfQlqSGGviQ1pFfoJ9mS5HCS6SS7Z9m+Ksmd3fYDSdZ34+cl2ZvkwSQPJ3nvIvcvSRrBnKGfZAVwC3AVsAm4NsmmobLrgCeq6lLgZuCmbvwaYFVVvQK4Anjn6TcESdK51+dIfzMwXVWPVNVJ4A5g61DNVmBvt3w3cGWSAAVckGQl8FzgJPCNRelckjSyPqG/Fnh0xvqRbmzWmqo6BTwJrGbwBvA/wNeAfwf+qKoeH36BJDuTTCWZOnbs2MiTkCT1c7Y/yN0MPAP8ILAB+K0kLxsuqqo9VTVRVRNr1qw5yy1JUrv6hP5RYN2M9Uu6sVlrulM5FwLHgbcC/1BV36qqrwOfAiYW2rQkaX76hP5BYGOSDUnOB7YDk0M1k8CObnkbcG9VFYNTOq8FSHIB8Crg3xajcUnS6OYM/e4c/S5gP/AwcFdVHUpyQ5Kru7JbgdVJpoF3A6cv67wFeF6SQwzePP68qh5Y7ElIkvpZ2aeoqvYB+4bGrp+x/BSDyzOHH3ditnFJ0tLwG7mS1BBDX5IaYuhLUkN6ndMfJ+t337PULTxrfeXGNy11C5IWyCN9SWqIoS9JDTH0Jakhhr4kNcTQl6SGGPqS1BBDX5IaYuhLUkMMfUlqiKEvSQ0x9CWpIYa+JDXE0Jekhhj6ktQQQ1+SGmLoS1JDDH1JaoihL0kNMfQlqSGGviQ1xNCXpIYY+pLUEENfkhpi6EtSQwx9SWqIoS9JDTH0Jakhhr4kNcTQl6SGGPqS1JBeoZ9kS5LDSaaT7J5l+6okd3bbDyRZP2Pbjyb5dJJDSR5M8pxF7F+SNII5Qz/JCuAW4CpgE3Btkk1DZdcBT1TVpcDNwE3dY1cCHwHeVVWXAa8BvrVo3UuSRtLnSH8zMF1Vj1TVSeAOYOtQzVZgb7d8N3BlkgCvBx6oqs8BVNXxqnpmcVqXJI2qT+ivBR6dsX6kG5u1pqpOAU8Cq4EfAirJ/iT3J/nt2V4gyc4kU0mmjh07NuocJEk9ne0PclcCPwX8Yvf755NcOVxUVXuqaqKqJtasWXOWW5KkdvUJ/aPAuhnrl3Rjs9Z05/EvBI4z+Kvgk1X1WFV9E9gHXL7QpiVJ89Mn9A8CG5NsSHI+sB2YHKqZBHZ0y9uAe6uqgP3AK5J8b/dm8DPAQ4vTuiRpVCvnKqiqU0l2MQjwFcBtVXUoyQ3AVFVNArcCtyeZBh5n8MZAVT2R5IMM3jgK2FdV95yluUiS5jBn6ANU1T4Gp2Zmjl0/Y/kp4JozPPYjDC7blCQtMb+RK0kNMfQlqSGGviQ1xNCXpIYY+pLUEENfkhpi6EtSQwx9SWqIoS9JDTH0Jakhhr4kNcTQl6SGGPqS1BBDX5IaYuhLUkMMfUlqiKEvSQ0x9CWpIYa+JDXE0Jekhhj6ktQQQ1+SGmLoS1JDDH1JaoihL0kNMfQlqSGGviQ1xNCXpIYY+pLUEENfkhpi6EtSQwx9SWqIoS9JDTH0Jakhhr4kNaRX6CfZkuRwkukku2fZvirJnd32A0nWD21/SZITSd6zSH1LkuZhztBPsgK4BbgK2ARcm2TTUNl1wBNVdSlwM3DT0PYPAh9feLuSpIXoc6S/GZiuqkeq6iRwB7B1qGYrsLdbvhu4MkkAkrwZ+DJwaFE6liTNW5/QXws8OmP9SDc2a01VnQKeBFYneR7wO8AffLcXSLIzyVSSqWPHjvXtXZI0orP9Qe77gJur6sR3K6qqPVU1UVUTa9asOcstSVK7VvaoOQqsm7F+STc2W82RJCuBC4HjwCuBbUk+ADwf+HaSp6rqQwttXJI0uj6hfxDYmGQDg3DfDrx1qGYS2AF8GtgG3FtVBfz06YIk7wNOGPiStHTmDP2qOpVkF7AfWAHcVlWHktwATFXVJHArcHuSaeBxBm8MkqRlps+RPlW1D9g3NHb9jOWngGvmeI73zaM/SdIi8hu5ktQQQ1+SGmLoS1JDDH1JaoihL0kNMfQlqSGGviQ1xNCXpIYY+pLUEENfkhpi6EtSQwx9SWqIoS9JDTH0Jakhhr4kNcTQl6SGGPqS1BBDX5IaYuhLUkMMfUlqiKEvSQ0x9CWpIYa+JDXE0Jekhhj6ktQQQ1+SGmLoS1JDDH1JaoihL0kNMfQlqSGGviQ1xNCXpIYY+pLUEENfkhrSK/STbElyOMl0kt2zbF+V5M5u+4Ek67vx1yW5L8mD3e/XLnL/kqQRzBn6SVYAtwBXAZuAa5NsGiq7Dniiqi4FbgZu6sYfA36uql4B7ABuX6zGJUmj63OkvxmYrqpHquokcAewdahmK7C3W74buDJJqupfq+o/uvFDwHOTrFqMxiVJo+sT+muBR2esH+nGZq2pqlPAk8DqoZq3APdX1dPDL5BkZ5KpJFPHjh3r27skaUTn5IPcJJcxOOXzztm2V9Weqpqoqok1a9aci5YkqUl9Qv8osG7G+iXd2Kw1SVYCFwLHu/VLgL8B3lZVX1pow5Kk+esT+geBjUk2JDkf2A5MDtVMMvigFmAbcG9VVZLnA/cAu6vqU4vUsyRpnuYM/e4c/S5gP/AwcFdVHUpyQ5Kru7JbgdVJpoF3A6cv69wFXApcn+Sz3c8PLPosJEm9rOxTVFX7gH1DY9fPWH4KuGaWx70feP8Ce5QkLRK/kStJDTH0Jakhhr4kNcTQl6SGGPqS1BBDX5IaYuhLUkMMfUlqiKEvSQ0x9CWpIYa+JDXE0Jekhhj6ktQQQ1+SGmLoS1JDDH1JaoihL0kNMfQlqSGGviQ1xNCXpIYY+pLUEENfkhpi6EtSQwx9SWqIoS9JDTH0Jakhhr4kNcTQl6SGGPqS1BBDX5IaYuhLUkMMfUlqiKEvSQ0x9CWpIYa+JDWkV+gn2ZLkcJLpJLtn2b4qyZ3d9gNJ1s/Y9t5u/HCSNyxi75KkEc0Z+klWALcAVwGbgGuTbBoquw54oqouBW4GbuoeuwnYDlwGbAH+pHs+SdIS6HOkvxmYrqpHquokcAewdahmK7C3W74buDJJuvE7qurpqvoyMN09nyRpCazsUbMWeHTG+hHglWeqqapTSZ4EVnfjnxl67NrhF0iyE9jZrZ5Icnio5GLgsR69jpuxmldu6l06VvMa0djMbYT9BWM0rxGN1bwWuM9e2udBfUL/rKuqPcCeM21PMlVVE+ewpXPCeY2fZ+vcnNf4me/c+pzeOQqsm7F+STc2a02SlcCFwPGej5UknSN9Qv8gsDHJhiTnM/hgdnKoZhLY0S1vA+6tqurGt3dX92wANgL/sjitS5JGNefpne4c/S5gP7ACuK2qDiW5AZiqqkngVuD2JNPA4wzeGOjq7gIeAk4Bv1ZVz8yjzzOe+hlzzmv8PFvn5rzGz7zmlsEBuSSpBX4jV5IaYuhLUkOWZegneUGSTyT5Yvf7ojPUPZPks93P8IfLy8ZCbmOxnPWY19uTHJuxj96xFH2OKsltSb6e5PNn2J4kf9zN+4Ekl5/rHuejx7xek+TJGfvr+nPd43wkWZfkn5I8lORQkt+YpWZc91mfuY2236pq2f0AHwB2d8u7gZvOUHdiqXvtMZcVwJeAlwHnA58DNg3V/Crwp93yduDOpe57keb1duBDS93rPOb2auBy4PNn2P5G4ONAgFcBB5a650Wa12uAv1/qPucxrxcDl3fL3wd8YZZ/i+O6z/rMbaT9tiyP9PnO2zrsBd68dK0s2EJuY7Gc9ZnXWKqqTzK4Cu1MtgJ/UQOfAZ6f5MXnprv56zGvsVRVX6uq+7vl/wYe5v9/839c91mfuY1kuYb+C6vqa93yfwIvPEPdc5JMJflMkjefm9ZGNtttLIZ32nfcxgI4fRuL5azPvADe0v05fXeSdbNsH0d95z6OfiLJ55J8PMllS93MqLpToz8GHBjaNPb77LvMDUbYb0t2G4Yk/wi8aJZNvzdzpaoqyZmuK31pVR1N8jLg3iQPVtWXFrtXzdvfAR+tqqeTvJPBXzOvXeKedGb3M/g/dSLJG4G/ZfCFyrGQ5HnAXwG/WVXfWOp+FtMccxtpvy3ZkX5V/WxV/cgsPx8D/uv0n17d76+f4TmOdr8fAf6ZwbvgcrOQ21gsZ3POq6qOV9XT3eqfAVeco97Otmfl7UWq6htVdaJb3gecl+TiJW6rlyTnMQjFv6yqv56lZGz32VxzG3W/LdfTOzNv67AD+NhwQZKLkqzqli8GfpLBN3+Xm4XcxmI5m3NeQ+dMr2ZwPvLZYBJ4W3dFyKuAJ2ecjhxbSV50+rOkJJsZ5MNyP/ig6/lW4OGq+uAZysZyn/WZ26j7bVncZXMWNwJ3JbkO+CrwCwBJJoB3VdU7gB8GPpzk2wwmeWNVLbvQrwXcxmI56zmvX09yNYNbcDzO4GqeZS/JRxlcEXFxkiPA7wPnAVTVnwL7GFwNMg18E/jlpel0ND3mtQ34lSSngP8Fto/BwQcMDvh+CXgwyWe7sd8FXgLjvc/oN7eR9pu3YZCkhizX0zuSpLPA0Jekhhj6ktQQQ1+SGmLoS1JDDH1JaoihL0kN+T/xYp72weOgVwAAAABJRU5ErkJggg==\n",
      "text/plain": [
       "<Figure size 432x288 with 1 Axes>"
      ]
     },
     "metadata": {
      "needs_background": "light"
     },
     "output_type": "display_data"
    }
   ],
   "source": [
    "import matplotlib.pyplot as plt\n",
    "\n",
    "def calc_debt(df,group_type,direction=\"x\",lim_from=0.0,lim_to=0.1): \n",
    "    data_pivot_table=df.pivot_table(index=[group_type], aggfunc={'sum','count','mean'},values='debt')\n",
    "    display(data_pivot_table)\n",
    "    if direction==\"x\":\n",
    "        plt.ylim(lim_from, lim_to)\n",
    "        plt.bar(data_pivot_table.index,data_pivot_table['mean'])\n",
    "    elif direction==\"y\":\n",
    "        plt.xlim(lim_from, lim_to)\n",
    "        plt.barh(data_pivot_table.index, data_pivot_table['mean'])\n",
    "    plt.show()\n",
    "   \n",
    "calc_debt(data[data['children']<3],'children')"
   ]
  },
  {
   "cell_type": "markdown",
   "id": "f1b141cb",
   "metadata": {
    "deletable": false,
    "id": "3a6b99ec"
   },
   "source": [
    "**Вывод:** На графике мы можем наблюдать зависимость между количеством детей и вероятностью не вернуть кредит в срок. Согласно имеющимся данным, вероятность вернуть кредит в срок выше у людей без детей (92.4%) против 90.8% и 90.5% для людей с одним и двумя детьми соответственно. Еще можно заметить,что с увеличением количества детей снижается вероятность вернуть кредит в срок. Так как нет большого разброса в вероятностям вернуть кредит в срок, данная закономероность может иметь случайный характер. Для проверки гипотезы \"С увеличением числа детей, падает вероятность вернуть кредит в срок\" требуется дополнительное исследование. "
   ]
  },
  {
   "cell_type": "markdown",
   "id": "c27a0dc0",
   "metadata": {
    "deletable": false,
    "editable": false,
    "id": "97be82ca"
   },
   "source": [
    "### Есть ли зависимость между семейным положением и возвратом кредита в срок?"
   ]
  },
  {
   "cell_type": "code",
   "execution_count": 35,
   "id": "5bda3adf",
   "metadata": {
    "deletable": false,
    "id": "dc3f7ee8"
   },
   "outputs": [
    {
     "data": {
      "text/html": [
       "<div>\n",
       "<style scoped>\n",
       "    .dataframe tbody tr th:only-of-type {\n",
       "        vertical-align: middle;\n",
       "    }\n",
       "\n",
       "    .dataframe tbody tr th {\n",
       "        vertical-align: top;\n",
       "    }\n",
       "\n",
       "    .dataframe thead th {\n",
       "        text-align: right;\n",
       "    }\n",
       "</style>\n",
       "<table border=\"1\" class=\"dataframe\">\n",
       "  <thead>\n",
       "    <tr style=\"text-align: right;\">\n",
       "      <th></th>\n",
       "      <th>count</th>\n",
       "      <th>mean</th>\n",
       "      <th>sum</th>\n",
       "    </tr>\n",
       "    <tr>\n",
       "      <th>marred</th>\n",
       "      <th></th>\n",
       "      <th></th>\n",
       "      <th></th>\n",
       "    </tr>\n",
       "  </thead>\n",
       "  <tbody>\n",
       "    <tr>\n",
       "      <th>False</th>\n",
       "      <td>6753.0</td>\n",
       "      <td>0.094921</td>\n",
       "      <td>641.0</td>\n",
       "    </tr>\n",
       "    <tr>\n",
       "      <th>True</th>\n",
       "      <td>13809.0</td>\n",
       "      <td>0.075024</td>\n",
       "      <td>1036.0</td>\n",
       "    </tr>\n",
       "  </tbody>\n",
       "</table>\n",
       "</div>"
      ],
      "text/plain": [
       "          count      mean     sum\n",
       "marred                           \n",
       "False    6753.0  0.094921   641.0\n",
       "True    13809.0  0.075024  1036.0"
      ]
     },
     "metadata": {},
     "output_type": "display_data"
    },
    {
     "data": {
      "image/png": "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\n",
      "text/plain": [
       "<Figure size 432x288 with 1 Axes>"
      ]
     },
     "metadata": {
      "needs_background": "light"
     },
     "output_type": "display_data"
    }
   ],
   "source": [
    "data['marred']=data['family_status'].isin(['женат / замужем','вдовец / вдова','в разводе'])\n",
    "\n",
    "calc_debt(data,'marred','x')\n"
   ]
  },
  {
   "cell_type": "markdown",
   "id": "1c777fa7",
   "metadata": {
    "deletable": false,
    "id": "1cef7837"
   },
   "source": [
    "**Вывод:** Первая колонка на графике соотстветвует людям, не состоявшим в браке. Вторая колонка - те, кто состояли в браке когда либо (сейчас или ранее).\n",
    "График показывает зависимость между семейным положением (состоял/не состоял в браке) и вероятностью не вернуть кредит в срок.\n",
    "Для людей, состоявших в браке, вероятность вернуть кредит в срок выше по сравнению с людьми, не состоящими в браке (92.5% против 90.5%). Но так как разброс в значениях вероятности небольшой, данная закономероность может иметь случайный характер. Для проверки гипозеты \"У людей, состоявших в браке, верояность вернуть кредит в срок выше\", требуется дополнительное исследование. "
   ]
  },
  {
   "cell_type": "markdown",
   "id": "f9f31612",
   "metadata": {
    "deletable": false,
    "editable": false,
    "id": "1e8b2fca"
   },
   "source": [
    "### Есть ли зависимость между уровнем дохода и возвратом кредита в срок?"
   ]
  },
  {
   "cell_type": "code",
   "execution_count": 36,
   "id": "7e749eb8",
   "metadata": {
    "deletable": false,
    "id": "cd7e3720"
   },
   "outputs": [
    {
     "data": {
      "text/html": [
       "<div>\n",
       "<style scoped>\n",
       "    .dataframe tbody tr th:only-of-type {\n",
       "        vertical-align: middle;\n",
       "    }\n",
       "\n",
       "    .dataframe tbody tr th {\n",
       "        vertical-align: top;\n",
       "    }\n",
       "\n",
       "    .dataframe thead th {\n",
       "        text-align: right;\n",
       "    }\n",
       "</style>\n",
       "<table border=\"1\" class=\"dataframe\">\n",
       "  <thead>\n",
       "    <tr style=\"text-align: right;\">\n",
       "      <th></th>\n",
       "      <th>count</th>\n",
       "      <th>mean</th>\n",
       "      <th>sum</th>\n",
       "    </tr>\n",
       "    <tr>\n",
       "      <th>total_income_category</th>\n",
       "      <th></th>\n",
       "      <th></th>\n",
       "      <th></th>\n",
       "    </tr>\n",
       "  </thead>\n",
       "  <tbody>\n",
       "    <tr>\n",
       "      <th>B</th>\n",
       "      <td>4915.0</td>\n",
       "      <td>0.071007</td>\n",
       "      <td>349.0</td>\n",
       "    </tr>\n",
       "    <tr>\n",
       "      <th>C</th>\n",
       "      <td>15647.0</td>\n",
       "      <td>0.084872</td>\n",
       "      <td>1328.0</td>\n",
       "    </tr>\n",
       "  </tbody>\n",
       "</table>\n",
       "</div>"
      ],
      "text/plain": [
       "                         count      mean     sum\n",
       "total_income_category                           \n",
       "B                       4915.0  0.071007   349.0\n",
       "C                      15647.0  0.084872  1328.0"
      ]
     },
     "metadata": {},
     "output_type": "display_data"
    },
    {
     "data": {
      "image/png": "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\n",
      "text/plain": [
       "<Figure size 432x288 with 1 Axes>"
      ]
     },
     "metadata": {
      "needs_background": "light"
     },
     "output_type": "display_data"
    }
   ],
   "source": [
    "category=['B','C']\n",
    "dataset=data.loc[data['total_income_category'].isin(category)]\n",
    "calc_debt(dataset,'total_income_category','x')\n"
   ]
  },
  {
   "cell_type": "markdown",
   "id": "e53a9a4f",
   "metadata": {
    "deletable": false,
    "id": "e8593def"
   },
   "source": [
    "**Вывод:**  В категории B вероятность вернуть кредит в срок выше чем в категории C. Рассматриваем только эти группы, так как обьем данных по другим категориям недостаточен для анализа. Категория B соответствует уровню дохода 200001–1000000 рублей, категория С соответствует уровню дохода 50001–200000 рублей."
   ]
  },
  {
   "cell_type": "markdown",
   "id": "3fb03c90",
   "metadata": {
    "editable": false,
    "id": "97be82ca"
   },
   "source": [
    "### Есть ли зависимость между семейным положением и возвратом кредита в срок?"
   ]
  },
  {
   "cell_type": "markdown",
   "id": "fb8e2ec0",
   "metadata": {
    "deletable": false,
    "editable": false,
    "id": "99ecbd1f"
   },
   "source": [
    "### Как разные цели кредита влияют на его возврат в срок?"
   ]
  },
  {
   "cell_type": "code",
   "execution_count": 40,
   "id": "d5261d2a",
   "metadata": {
    "deletable": false,
    "id": "2b687290"
   },
   "outputs": [
    {
     "data": {
      "text/html": [
       "<div>\n",
       "<style scoped>\n",
       "    .dataframe tbody tr th:only-of-type {\n",
       "        vertical-align: middle;\n",
       "    }\n",
       "\n",
       "    .dataframe tbody tr th {\n",
       "        vertical-align: top;\n",
       "    }\n",
       "\n",
       "    .dataframe thead th {\n",
       "        text-align: right;\n",
       "    }\n",
       "</style>\n",
       "<table border=\"1\" class=\"dataframe\">\n",
       "  <thead>\n",
       "    <tr style=\"text-align: right;\">\n",
       "      <th></th>\n",
       "      <th>count</th>\n",
       "      <th>mean</th>\n",
       "      <th>sum</th>\n",
       "    </tr>\n",
       "    <tr>\n",
       "      <th>purpose_new</th>\n",
       "      <th></th>\n",
       "      <th></th>\n",
       "      <th></th>\n",
       "    </tr>\n",
       "  </thead>\n",
       "  <tbody>\n",
       "    <tr>\n",
       "      <th>образование</th>\n",
       "      <td>3828.0</td>\n",
       "      <td>0.094566</td>\n",
       "      <td>362.0</td>\n",
       "    </tr>\n",
       "    <tr>\n",
       "      <th>покупка</th>\n",
       "      <td>14496.0</td>\n",
       "      <td>0.078573</td>\n",
       "      <td>1139.0</td>\n",
       "    </tr>\n",
       "    <tr>\n",
       "      <th>свадьба</th>\n",
       "      <td>2238.0</td>\n",
       "      <td>0.078642</td>\n",
       "      <td>176.0</td>\n",
       "    </tr>\n",
       "  </tbody>\n",
       "</table>\n",
       "</div>"
      ],
      "text/plain": [
       "               count      mean     sum\n",
       "purpose_new                           \n",
       "образование   3828.0  0.094566   362.0\n",
       "покупка      14496.0  0.078573  1139.0\n",
       "свадьба       2238.0  0.078642   176.0"
      ]
     },
     "metadata": {},
     "output_type": "display_data"
    },
    {
     "data": {
      "image/png": "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\n",
      "text/plain": [
       "<Figure size 432x288 with 1 Axes>"
      ]
     },
     "metadata": {
      "needs_background": "light"
     },
     "output_type": "display_data"
    }
   ],
   "source": [
    "def purpose_new(row):\n",
    "    try:\n",
    "        if 'операции' in row:\n",
    "            return 'покупка'\n",
    "        elif 'образовани' in row:\n",
    "            return 'образование'\n",
    "        elif 'свадьб' in row:\n",
    "            return 'свадьба'\n",
    "    except:\n",
    "        return 'нет категории'\n",
    "data['purpose_new']=data['purpose_category'].apply(purpose_new)\n",
    "\n",
    "calc_debt(data,'purpose_new','x')\n"
   ]
  },
  {
   "cell_type": "markdown",
   "id": "d953ebc5",
   "metadata": {
    "deletable": false,
    "id": "b4bb2ce6"
   },
   "source": [
    "**Вывод:** Для исследования объединим группы \"Операции с недвидимостью\" и \"Операции с автомобилями\" в одну группу \"Покупка\". Как видно на графике, вероятности возврата кредита в срок  в случае взятия кредита для проведения свадьбы или для покупки (авто или недвижимости) почти одинаковые. Если целью кредита является получение образования, то вероятность возврата кредита в срок ниже по сравнению с другими целями кредита. "
   ]
  },
  {
   "cell_type": "markdown",
   "id": "f8b90657",
   "metadata": {
    "deletable": false,
    "editable": false,
    "id": "09c3ac4c"
   },
   "source": [
    "### Приведите возможные причины появления пропусков в исходных данных."
   ]
  },
  {
   "cell_type": "markdown",
   "id": "172d3195",
   "metadata": {
    "deletable": false,
    "id": "9da2ceda"
   },
   "source": [
    "*Ответ:* пропуски в стоблцах со стажем и ежемесячным доходом могут быть связаны с необходимостью документального подтверждения этих данных. То есть клиент банка (заемщик) должен предоставить документы,подтверждающие стаж и доход, скорее всего такие справки предоставляют далеко не все заемщики, вследствие чего мы наблюдаем пропуски в данных. Также могут быть пропуски в данных по техническим причинам.  Техническими причинами могут являться: ошибки в работе ПО, сбои в системе учета данных."
   ]
  },
  {
   "cell_type": "markdown",
   "id": "2740003b",
   "metadata": {
    "deletable": false,
    "editable": false,
    "id": "7b0487d6"
   },
   "source": [
    "### Объясните, почему заполнить пропуски медианным значением — лучшее решение для количественных переменных."
   ]
  },
  {
   "cell_type": "markdown",
   "id": "e385181f",
   "metadata": {
    "deletable": false,
    "id": "7ecf2b8e"
   },
   "source": [
    "*Ответ:* В данном кейсы мы заполнили пропуски в стоблцах с доходами и стажем медианным значением для каждого типа занятости. Это верное решение в борьбе с пропусками. Нужно было правильно выбрать категориальную переменную (тип занятости) , в рамках которой мы ищем медианное значение. Также верно, что мы не удалили строки с пропущенными значениями в столбцах дохода и стажа, так как эти строки потребовались нам для анализа. Медианное значение не влияет на распределения выборки. Если заменить пропуски на нули, то среднее значение и медиана сместятся влево. "
   ]
  },
  {
   "cell_type": "markdown",
   "id": "eac9881d",
   "metadata": {
    "deletable": false,
    "editable": false,
    "id": "6db5255a"
   },
   "source": [
    "##  общий вывод."
   ]
  },
  {
   "cell_type": "markdown",
   "id": "200d53f5",
   "metadata": {
    "deletable": false,
    "id": "bad65432"
   },
   "source": [
    "Напишите ваш общий вывод."
   ]
  },
  {
   "cell_type": "markdown",
   "id": "3d9acc67",
   "metadata": {},
   "source": [
    "Вероятность вернуть кредит в срок выше у следующих категорий заемщиков:\n",
    "люди без детей,\n",
    "люди, состоящие или ранее состоявшие в браке,\n",
    "люди с доходом в пределах 200001–1000000 рублей.\n",
    "\n",
    "Вероятность возврата кредита в срок выше в случае, если целью кредита являются операции с недвижностью/авто либо проведение свадьбы."
   ]
  }
 ],
 "metadata": {
  "ExecuteTimeLog": [
   {
    "duration": 40,
    "start_time": "2022-10-11T10:44:23.732Z"
   },
   {
    "duration": 523,
    "start_time": "2022-10-11T10:45:00.073Z"
   },
   {
    "duration": 22,
    "start_time": "2022-10-11T10:45:00.598Z"
   },
   {
    "duration": 14,
    "start_time": "2022-10-11T10:45:00.622Z"
   },
   {
    "duration": 12,
    "start_time": "2022-10-11T10:45:00.638Z"
   },
   {
    "duration": 35,
    "start_time": "2022-10-11T10:45:00.651Z"
   },
   {
    "duration": 3,
    "start_time": "2022-10-11T10:45:00.688Z"
   },
   {
    "duration": 22,
    "start_time": "2022-10-11T10:45:00.706Z"
   },
   {
    "duration": 9,
    "start_time": "2022-10-11T10:45:00.730Z"
   },
   {
    "duration": 19,
    "start_time": "2022-10-11T10:45:00.741Z"
   },
   {
    "duration": 4,
    "start_time": "2022-10-11T10:45:00.762Z"
   },
   {
    "duration": 37,
    "start_time": "2022-10-11T10:45:00.768Z"
   },
   {
    "duration": 9,
    "start_time": "2022-10-11T10:45:00.806Z"
   },
   {
    "duration": 13,
    "start_time": "2022-10-11T10:45:00.816Z"
   },
   {
    "duration": 33,
    "start_time": "2022-10-11T10:45:00.831Z"
   },
   {
    "duration": 41,
    "start_time": "2022-10-11T10:45:00.865Z"
   },
   {
    "duration": 16,
    "start_time": "2022-10-11T10:45:00.907Z"
   },
   {
    "duration": 3,
    "start_time": "2022-10-11T10:45:00.925Z"
   },
   {
    "duration": 15,
    "start_time": "2022-10-11T10:45:00.929Z"
   },
   {
    "duration": 27,
    "start_time": "2022-10-11T10:45:00.946Z"
   },
   {
    "duration": 8,
    "start_time": "2022-10-11T10:45:00.975Z"
   },
   {
    "duration": 20,
    "start_time": "2022-10-11T10:45:00.984Z"
   },
   {
    "duration": 14,
    "start_time": "2022-10-11T10:45:01.005Z"
   },
   {
    "duration": 8,
    "start_time": "2022-10-11T10:45:01.021Z"
   },
   {
    "duration": 20,
    "start_time": "2022-10-11T10:45:01.030Z"
   },
   {
    "duration": 9,
    "start_time": "2022-10-11T10:45:01.051Z"
   },
   {
    "duration": 12,
    "start_time": "2022-10-11T10:45:15.662Z"
   },
   {
    "duration": 74,
    "start_time": "2022-10-11T10:46:32.222Z"
   },
   {
    "duration": 14,
    "start_time": "2022-10-11T10:46:47.713Z"
   },
   {
    "duration": 16,
    "start_time": "2022-10-11T10:47:46.497Z"
   },
   {
    "duration": 59,
    "start_time": "2022-10-11T10:50:01.516Z"
   },
   {
    "duration": 7,
    "start_time": "2022-10-11T10:50:07.764Z"
   },
   {
    "duration": 11,
    "start_time": "2022-10-11T10:51:00.131Z"
   },
   {
    "duration": 26,
    "start_time": "2022-10-11T10:57:36.817Z"
   },
   {
    "duration": 25,
    "start_time": "2022-10-11T10:59:06.722Z"
   },
   {
    "duration": 48,
    "start_time": "2022-10-11T20:34:20.132Z"
   },
   {
    "duration": 675,
    "start_time": "2022-10-11T20:34:28.944Z"
   },
   {
    "duration": 22,
    "start_time": "2022-10-11T20:34:29.621Z"
   },
   {
    "duration": 14,
    "start_time": "2022-10-11T20:34:29.645Z"
   },
   {
    "duration": 10,
    "start_time": "2022-10-11T20:34:29.661Z"
   },
   {
    "duration": 45,
    "start_time": "2022-10-11T20:34:29.673Z"
   },
   {
    "duration": 4,
    "start_time": "2022-10-11T20:34:29.720Z"
   },
   {
    "duration": 13,
    "start_time": "2022-10-11T20:34:29.725Z"
   },
   {
    "duration": 10,
    "start_time": "2022-10-11T20:34:29.740Z"
   },
   {
    "duration": 13,
    "start_time": "2022-10-11T20:34:29.752Z"
   },
   {
    "duration": 4,
    "start_time": "2022-10-11T20:34:29.767Z"
   },
   {
    "duration": 40,
    "start_time": "2022-10-11T20:34:29.773Z"
   },
   {
    "duration": 8,
    "start_time": "2022-10-11T20:34:29.815Z"
   },
   {
    "duration": 3,
    "start_time": "2022-10-11T20:34:29.824Z"
   },
   {
    "duration": 12,
    "start_time": "2022-10-11T20:34:29.828Z"
   },
   {
    "duration": 16,
    "start_time": "2022-10-11T20:34:29.842Z"
   },
   {
    "duration": 42,
    "start_time": "2022-10-11T20:34:29.860Z"
   },
   {
    "duration": 4,
    "start_time": "2022-10-11T20:34:29.903Z"
   },
   {
    "duration": 17,
    "start_time": "2022-10-11T20:34:29.908Z"
   },
   {
    "duration": 5,
    "start_time": "2022-10-11T20:34:29.927Z"
   },
   {
    "duration": 3,
    "start_time": "2022-10-11T20:34:29.934Z"
   },
   {
    "duration": 12,
    "start_time": "2022-10-11T20:34:29.938Z"
   },
   {
    "duration": 32,
    "start_time": "2022-10-11T20:34:29.951Z"
   },
   {
    "duration": 0,
    "start_time": "2022-10-11T20:34:29.984Z"
   },
   {
    "duration": 0,
    "start_time": "2022-10-11T20:34:30.000Z"
   },
   {
    "duration": 0,
    "start_time": "2022-10-11T20:34:30.001Z"
   },
   {
    "duration": 7,
    "start_time": "2022-10-11T20:34:48.258Z"
   },
   {
    "duration": 11,
    "start_time": "2022-10-11T20:35:00.150Z"
   },
   {
    "duration": 10,
    "start_time": "2022-10-11T20:36:25.921Z"
   },
   {
    "duration": 382,
    "start_time": "2022-10-11T20:36:44.938Z"
   },
   {
    "duration": 371,
    "start_time": "2022-10-11T20:38:21.093Z"
   },
   {
    "duration": 6,
    "start_time": "2022-10-11T20:43:42.635Z"
   },
   {
    "duration": 10,
    "start_time": "2022-10-11T20:44:45.669Z"
   },
   {
    "duration": 5,
    "start_time": "2022-10-11T20:45:56.999Z"
   },
   {
    "duration": 15,
    "start_time": "2022-10-11T20:46:05.087Z"
   },
   {
    "duration": 28,
    "start_time": "2022-10-11T20:51:30.533Z"
   },
   {
    "duration": 28,
    "start_time": "2022-10-11T20:54:18.181Z"
   },
   {
    "duration": 53,
    "start_time": "2022-10-11T20:54:53.345Z"
   },
   {
    "duration": 31,
    "start_time": "2022-10-11T20:57:10.653Z"
   },
   {
    "duration": 13,
    "start_time": "2022-10-11T20:57:39.305Z"
   },
   {
    "duration": 12,
    "start_time": "2022-10-11T21:01:33.805Z"
   },
   {
    "duration": 11,
    "start_time": "2022-10-11T21:02:30.862Z"
   },
   {
    "duration": 21,
    "start_time": "2022-10-11T21:04:12.225Z"
   },
   {
    "duration": 507,
    "start_time": "2022-10-11T21:05:09.180Z"
   },
   {
    "duration": 161,
    "start_time": "2022-10-11T21:05:54.369Z"
   },
   {
    "duration": 19,
    "start_time": "2022-10-11T21:07:10.128Z"
   },
   {
    "duration": 146,
    "start_time": "2022-10-11T21:08:29.286Z"
   },
   {
    "duration": 134,
    "start_time": "2022-10-11T21:08:36.886Z"
   },
   {
    "duration": 114,
    "start_time": "2022-10-11T21:09:07.788Z"
   },
   {
    "duration": 181,
    "start_time": "2022-10-11T21:12:01.089Z"
   },
   {
    "duration": 125,
    "start_time": "2022-10-11T21:14:20.383Z"
   },
   {
    "duration": 138,
    "start_time": "2022-10-11T21:15:18.150Z"
   },
   {
    "duration": 46,
    "start_time": "2022-10-12T10:36:39.722Z"
   },
   {
    "duration": 457,
    "start_time": "2022-10-12T10:36:44.445Z"
   },
   {
    "duration": 19,
    "start_time": "2022-10-12T10:36:44.904Z"
   },
   {
    "duration": 12,
    "start_time": "2022-10-12T10:36:44.924Z"
   },
   {
    "duration": 8,
    "start_time": "2022-10-12T10:36:44.937Z"
   },
   {
    "duration": 28,
    "start_time": "2022-10-12T10:36:44.948Z"
   },
   {
    "duration": 28,
    "start_time": "2022-10-12T10:36:44.978Z"
   },
   {
    "duration": 14,
    "start_time": "2022-10-12T10:36:45.008Z"
   },
   {
    "duration": 12,
    "start_time": "2022-10-12T10:36:45.024Z"
   },
   {
    "duration": 9,
    "start_time": "2022-10-12T10:36:45.037Z"
   },
   {
    "duration": 5,
    "start_time": "2022-10-12T10:36:45.047Z"
   },
   {
    "duration": 28,
    "start_time": "2022-10-12T10:36:45.053Z"
   },
   {
    "duration": 7,
    "start_time": "2022-10-12T10:36:45.083Z"
   },
   {
    "duration": 3,
    "start_time": "2022-10-12T10:36:45.105Z"
   },
   {
    "duration": 11,
    "start_time": "2022-10-12T10:36:45.110Z"
   },
   {
    "duration": 16,
    "start_time": "2022-10-12T10:36:45.123Z"
   },
   {
    "duration": 13,
    "start_time": "2022-10-12T10:36:45.141Z"
   },
   {
    "duration": 3,
    "start_time": "2022-10-12T10:36:45.156Z"
   },
   {
    "duration": 11,
    "start_time": "2022-10-12T10:36:45.160Z"
   },
   {
    "duration": 5,
    "start_time": "2022-10-12T10:36:45.172Z"
   },
   {
    "duration": 3,
    "start_time": "2022-10-12T10:36:45.178Z"
   },
   {
    "duration": 10,
    "start_time": "2022-10-12T10:36:45.206Z"
   },
   {
    "duration": 512,
    "start_time": "2022-10-12T10:36:45.217Z"
   },
   {
    "duration": 2,
    "start_time": "2022-10-12T10:36:45.731Z"
   },
   {
    "duration": 6,
    "start_time": "2022-10-12T10:36:45.735Z"
   },
   {
    "duration": 4,
    "start_time": "2022-10-12T10:36:45.743Z"
   },
   {
    "duration": 106,
    "start_time": "2022-10-12T10:37:29.475Z"
   },
   {
    "duration": 118,
    "start_time": "2022-10-12T10:38:11.488Z"
   },
   {
    "duration": 128,
    "start_time": "2022-10-12T10:38:28.222Z"
   },
   {
    "duration": 167,
    "start_time": "2022-10-12T10:38:55.040Z"
   },
   {
    "duration": 147,
    "start_time": "2022-10-12T10:40:25.045Z"
   },
   {
    "duration": 139,
    "start_time": "2022-10-12T10:40:35.653Z"
   },
   {
    "duration": 119,
    "start_time": "2022-10-12T10:40:56.970Z"
   },
   {
    "duration": 127,
    "start_time": "2022-10-12T10:41:22.404Z"
   },
   {
    "duration": 147,
    "start_time": "2022-10-12T10:42:07.936Z"
   },
   {
    "duration": 80,
    "start_time": "2022-10-12T10:42:32.854Z"
   },
   {
    "duration": 123,
    "start_time": "2022-10-12T10:43:40.911Z"
   },
   {
    "duration": 123,
    "start_time": "2022-10-12T10:45:19.850Z"
   },
   {
    "duration": 118,
    "start_time": "2022-10-12T10:45:25.189Z"
   },
   {
    "duration": 114,
    "start_time": "2022-10-12T10:46:09.915Z"
   },
   {
    "duration": 134,
    "start_time": "2022-10-12T10:46:30.340Z"
   },
   {
    "duration": 182,
    "start_time": "2022-10-12T10:52:53.987Z"
   },
   {
    "duration": 4,
    "start_time": "2022-10-12T10:58:15.480Z"
   },
   {
    "duration": 10,
    "start_time": "2022-10-12T11:03:01.485Z"
   },
   {
    "duration": 2443,
    "start_time": "2022-10-12T11:03:22.504Z"
   },
   {
    "duration": 1702,
    "start_time": "2022-10-12T11:05:09.959Z"
   },
   {
    "duration": 141,
    "start_time": "2022-10-12T11:07:22.074Z"
   },
   {
    "duration": 138,
    "start_time": "2022-10-12T11:08:03.000Z"
   },
   {
    "duration": 121,
    "start_time": "2022-10-12T11:08:16.497Z"
   },
   {
    "duration": 121,
    "start_time": "2022-10-12T11:08:30.859Z"
   },
   {
    "duration": 124,
    "start_time": "2022-10-12T11:09:08.912Z"
   },
   {
    "duration": 150,
    "start_time": "2022-10-12T11:09:44.187Z"
   },
   {
    "duration": 147,
    "start_time": "2022-10-12T11:10:12.747Z"
   },
   {
    "duration": 143,
    "start_time": "2022-10-12T11:16:42.719Z"
   },
   {
    "duration": 118,
    "start_time": "2022-10-12T11:16:58.329Z"
   },
   {
    "duration": 133,
    "start_time": "2022-10-12T11:23:27.232Z"
   },
   {
    "duration": 178,
    "start_time": "2022-10-12T11:24:54.274Z"
   },
   {
    "duration": 139,
    "start_time": "2022-10-12T11:25:26.406Z"
   },
   {
    "duration": 143,
    "start_time": "2022-10-12T11:39:41.713Z"
   },
   {
    "duration": 143,
    "start_time": "2022-10-12T11:40:30.785Z"
   },
   {
    "duration": 41,
    "start_time": "2022-10-12T11:47:19.886Z"
   },
   {
    "duration": 196,
    "start_time": "2022-10-12T11:47:27.599Z"
   },
   {
    "duration": 13,
    "start_time": "2022-10-12T12:29:06.993Z"
   },
   {
    "duration": 74,
    "start_time": "2022-10-12T12:29:41.533Z"
   },
   {
    "duration": 15,
    "start_time": "2022-10-12T12:29:41.609Z"
   },
   {
    "duration": 17,
    "start_time": "2022-10-12T12:29:41.626Z"
   },
   {
    "duration": 72,
    "start_time": "2022-10-12T12:30:07.994Z"
   },
   {
    "duration": 14,
    "start_time": "2022-10-12T12:30:10.805Z"
   },
   {
    "duration": 14,
    "start_time": "2022-10-12T12:30:15.145Z"
   },
   {
    "duration": 15,
    "start_time": "2022-10-12T12:30:22.946Z"
   },
   {
    "duration": 9,
    "start_time": "2022-10-12T12:31:03.153Z"
   },
   {
    "duration": 8,
    "start_time": "2022-10-12T12:32:40.423Z"
   },
   {
    "duration": 8,
    "start_time": "2022-10-12T12:32:50.573Z"
   },
   {
    "duration": 70,
    "start_time": "2022-10-12T12:33:00.696Z"
   },
   {
    "duration": 15,
    "start_time": "2022-10-12T12:33:00.769Z"
   },
   {
    "duration": 46,
    "start_time": "2022-10-12T12:33:00.786Z"
   },
   {
    "duration": 35,
    "start_time": "2022-10-12T12:33:00.834Z"
   },
   {
    "duration": 35,
    "start_time": "2022-10-12T12:33:00.873Z"
   },
   {
    "duration": 4,
    "start_time": "2022-10-12T12:33:00.909Z"
   },
   {
    "duration": 35,
    "start_time": "2022-10-12T12:33:00.915Z"
   },
   {
    "duration": 25,
    "start_time": "2022-10-12T12:33:00.952Z"
   },
   {
    "duration": 24,
    "start_time": "2022-10-12T12:33:00.979Z"
   },
   {
    "duration": 34,
    "start_time": "2022-10-12T12:33:01.004Z"
   },
   {
    "duration": 63,
    "start_time": "2022-10-12T12:33:01.040Z"
   },
   {
    "duration": 8,
    "start_time": "2022-10-12T12:33:01.105Z"
   },
   {
    "duration": 26,
    "start_time": "2022-10-12T12:33:01.114Z"
   },
   {
    "duration": 33,
    "start_time": "2022-10-12T12:33:01.142Z"
   },
   {
    "duration": 36,
    "start_time": "2022-10-12T12:33:01.176Z"
   },
   {
    "duration": 16,
    "start_time": "2022-10-12T12:33:01.213Z"
   },
   {
    "duration": 4,
    "start_time": "2022-10-12T12:33:01.230Z"
   },
   {
    "duration": 34,
    "start_time": "2022-10-12T12:33:01.236Z"
   },
   {
    "duration": 17,
    "start_time": "2022-10-12T12:33:01.272Z"
   },
   {
    "duration": 19,
    "start_time": "2022-10-12T12:33:01.291Z"
   },
   {
    "duration": 41,
    "start_time": "2022-10-12T12:33:01.312Z"
   },
   {
    "duration": 151,
    "start_time": "2022-10-12T12:33:01.355Z"
   },
   {
    "duration": 176,
    "start_time": "2022-10-12T12:33:01.507Z"
   },
   {
    "duration": 176,
    "start_time": "2022-10-12T12:33:01.685Z"
   },
   {
    "duration": 204,
    "start_time": "2022-10-12T12:33:01.863Z"
   },
   {
    "duration": 110,
    "start_time": "2022-10-12T12:37:25.827Z"
   },
   {
    "duration": 92,
    "start_time": "2022-10-12T12:37:50.489Z"
   },
   {
    "duration": 95,
    "start_time": "2022-10-12T12:38:14.139Z"
   },
   {
    "duration": 98,
    "start_time": "2022-10-12T12:39:39.469Z"
   },
   {
    "duration": 91,
    "start_time": "2022-10-12T12:40:54.619Z"
   },
   {
    "duration": 123,
    "start_time": "2022-10-12T12:41:17.946Z"
   },
   {
    "duration": 99,
    "start_time": "2022-10-12T12:43:04.987Z"
   },
   {
    "duration": 101,
    "start_time": "2022-10-12T12:43:17.527Z"
   },
   {
    "duration": 90,
    "start_time": "2022-10-12T12:47:24.166Z"
   },
   {
    "duration": 86,
    "start_time": "2022-10-12T12:49:44.935Z"
   },
   {
    "duration": 85,
    "start_time": "2022-10-12T12:50:14.317Z"
   },
   {
    "duration": 84,
    "start_time": "2022-10-12T12:50:54.953Z"
   },
   {
    "duration": 78,
    "start_time": "2022-10-12T12:51:36.914Z"
   },
   {
    "duration": 97,
    "start_time": "2022-10-12T12:51:56.895Z"
   },
   {
    "duration": 83,
    "start_time": "2022-10-12T12:52:14.435Z"
   },
   {
    "duration": 77,
    "start_time": "2022-10-12T12:52:38.630Z"
   },
   {
    "duration": 84,
    "start_time": "2022-10-12T12:52:46.953Z"
   },
   {
    "duration": 85,
    "start_time": "2022-10-12T12:53:34.675Z"
   },
   {
    "duration": 96,
    "start_time": "2022-10-12T12:53:48.132Z"
   },
   {
    "duration": 82,
    "start_time": "2022-10-12T12:54:07.806Z"
   },
   {
    "duration": 198,
    "start_time": "2022-10-12T12:56:16.427Z"
   },
   {
    "duration": 212,
    "start_time": "2022-10-12T13:00:53.468Z"
   },
   {
    "duration": 292,
    "start_time": "2022-10-12T13:03:50.316Z"
   },
   {
    "duration": 216,
    "start_time": "2022-10-12T13:05:42.276Z"
   },
   {
    "duration": 216,
    "start_time": "2022-10-12T13:06:01.516Z"
   },
   {
    "duration": 221,
    "start_time": "2022-10-12T13:06:10.005Z"
   },
   {
    "duration": 222,
    "start_time": "2022-10-12T13:06:19.772Z"
   },
   {
    "duration": 223,
    "start_time": "2022-10-12T13:06:28.397Z"
   },
   {
    "duration": 216,
    "start_time": "2022-10-12T13:10:21.897Z"
   },
   {
    "duration": 213,
    "start_time": "2022-10-12T13:10:50.286Z"
   },
   {
    "duration": 229,
    "start_time": "2022-10-12T13:12:31.936Z"
   },
   {
    "duration": 232,
    "start_time": "2022-10-12T13:13:03.498Z"
   },
   {
    "duration": 777,
    "start_time": "2022-10-12T13:18:03.870Z"
   },
   {
    "duration": 878,
    "start_time": "2022-10-12T13:19:11.644Z"
   },
   {
    "duration": 17,
    "start_time": "2022-10-12T13:30:02.397Z"
   },
   {
    "duration": 825,
    "start_time": "2022-10-12T13:30:13.484Z"
   },
   {
    "duration": 63,
    "start_time": "2022-10-12T13:31:00.472Z"
   },
   {
    "duration": 59,
    "start_time": "2022-10-12T13:31:17.162Z"
   },
   {
    "duration": 63,
    "start_time": "2022-10-12T13:31:45.084Z"
   },
   {
    "duration": 32,
    "start_time": "2022-10-12T13:32:31.192Z"
   },
   {
    "duration": 141,
    "start_time": "2022-10-12T13:32:36.664Z"
   },
   {
    "duration": 216,
    "start_time": "2022-10-12T13:38:25.821Z"
   },
   {
    "duration": 65,
    "start_time": "2022-10-12T13:39:14.736Z"
   },
   {
    "duration": 14,
    "start_time": "2022-10-12T13:39:14.803Z"
   },
   {
    "duration": 14,
    "start_time": "2022-10-12T13:39:14.819Z"
   },
   {
    "duration": 8,
    "start_time": "2022-10-12T13:39:14.835Z"
   },
   {
    "duration": 30,
    "start_time": "2022-10-12T13:39:14.844Z"
   },
   {
    "duration": 4,
    "start_time": "2022-10-12T13:39:14.875Z"
   },
   {
    "duration": 9,
    "start_time": "2022-10-12T13:39:14.904Z"
   },
   {
    "duration": 5,
    "start_time": "2022-10-12T13:39:14.914Z"
   },
   {
    "duration": 5,
    "start_time": "2022-10-12T13:39:14.920Z"
   },
   {
    "duration": 4,
    "start_time": "2022-10-12T13:39:14.927Z"
   },
   {
    "duration": 29,
    "start_time": "2022-10-12T13:39:14.932Z"
   },
   {
    "duration": 8,
    "start_time": "2022-10-12T13:39:14.962Z"
   },
   {
    "duration": 34,
    "start_time": "2022-10-12T13:39:14.971Z"
   },
   {
    "duration": 32,
    "start_time": "2022-10-12T13:39:15.008Z"
   },
   {
    "duration": 21,
    "start_time": "2022-10-12T13:39:15.041Z"
   },
   {
    "duration": 16,
    "start_time": "2022-10-12T13:39:15.063Z"
   },
   {
    "duration": 3,
    "start_time": "2022-10-12T13:39:15.080Z"
   },
   {
    "duration": 23,
    "start_time": "2022-10-12T13:39:15.085Z"
   },
   {
    "duration": 8,
    "start_time": "2022-10-12T13:39:15.109Z"
   },
   {
    "duration": 3,
    "start_time": "2022-10-12T13:39:15.118Z"
   },
   {
    "duration": 10,
    "start_time": "2022-10-12T13:39:15.122Z"
   },
   {
    "duration": 132,
    "start_time": "2022-10-12T13:39:15.133Z"
   },
   {
    "duration": 143,
    "start_time": "2022-10-12T13:39:15.267Z"
   },
   {
    "duration": 148,
    "start_time": "2022-10-12T13:39:15.411Z"
   },
   {
    "duration": 157,
    "start_time": "2022-10-12T13:39:15.560Z"
   },
   {
    "duration": 150,
    "start_time": "2022-10-12T13:39:15.718Z"
   },
   {
    "duration": 1302,
    "start_time": "2022-10-12T13:39:57.503Z"
   },
   {
    "duration": 155,
    "start_time": "2022-10-12T13:40:08.425Z"
   },
   {
    "duration": 123,
    "start_time": "2022-10-12T13:41:35.112Z"
   },
   {
    "duration": 181,
    "start_time": "2022-10-12T13:42:17.609Z"
   },
   {
    "duration": 274,
    "start_time": "2022-10-12T13:49:49.432Z"
   },
   {
    "duration": 194,
    "start_time": "2022-10-12T13:52:09.903Z"
   },
   {
    "duration": 60,
    "start_time": "2022-10-12T13:53:34.163Z"
   },
   {
    "duration": 59,
    "start_time": "2022-10-12T13:53:53.903Z"
   },
   {
    "duration": 63,
    "start_time": "2022-10-12T13:54:08.043Z"
   },
   {
    "duration": 184,
    "start_time": "2022-10-12T13:55:45.512Z"
   },
   {
    "duration": 60,
    "start_time": "2022-10-12T13:56:18.778Z"
   },
   {
    "duration": 59,
    "start_time": "2022-10-12T13:56:33.054Z"
   },
   {
    "duration": 77,
    "start_time": "2022-10-12T14:01:28.126Z"
   },
   {
    "duration": 639,
    "start_time": "2022-10-12T14:01:35.185Z"
   },
   {
    "duration": 198,
    "start_time": "2022-10-12T14:02:07.253Z"
   },
   {
    "duration": 0,
    "start_time": "2022-10-12T14:04:30.015Z"
   },
   {
    "duration": 475,
    "start_time": "2022-10-12T14:05:05.172Z"
   },
   {
    "duration": 21,
    "start_time": "2022-10-12T14:05:05.648Z"
   },
   {
    "duration": 12,
    "start_time": "2022-10-12T14:05:05.671Z"
   },
   {
    "duration": 24,
    "start_time": "2022-10-12T14:05:05.685Z"
   },
   {
    "duration": 50,
    "start_time": "2022-10-12T14:05:05.712Z"
   },
   {
    "duration": 3,
    "start_time": "2022-10-12T14:05:05.764Z"
   },
   {
    "duration": 17,
    "start_time": "2022-10-12T14:05:05.768Z"
   },
   {
    "duration": 43,
    "start_time": "2022-10-12T14:05:05.787Z"
   },
   {
    "duration": 25,
    "start_time": "2022-10-12T14:05:05.832Z"
   },
   {
    "duration": 6,
    "start_time": "2022-10-12T14:05:05.859Z"
   },
   {
    "duration": 52,
    "start_time": "2022-10-12T14:05:05.866Z"
   },
   {
    "duration": 21,
    "start_time": "2022-10-12T14:05:05.919Z"
   },
   {
    "duration": 21,
    "start_time": "2022-10-12T14:05:05.941Z"
   },
   {
    "duration": 25,
    "start_time": "2022-10-12T14:05:05.964Z"
   },
   {
    "duration": 34,
    "start_time": "2022-10-12T14:05:05.991Z"
   },
   {
    "duration": 21,
    "start_time": "2022-10-12T14:05:06.026Z"
   },
   {
    "duration": 10,
    "start_time": "2022-10-12T14:05:06.049Z"
   },
   {
    "duration": 19,
    "start_time": "2022-10-12T14:05:06.061Z"
   },
   {
    "duration": 21,
    "start_time": "2022-10-12T14:05:06.081Z"
   },
   {
    "duration": 22,
    "start_time": "2022-10-12T14:05:06.103Z"
   },
   {
    "duration": 29,
    "start_time": "2022-10-12T14:05:06.127Z"
   },
   {
    "duration": 393,
    "start_time": "2022-10-12T14:05:06.157Z"
   },
   {
    "duration": 145,
    "start_time": "2022-10-12T14:05:06.552Z"
   },
   {
    "duration": 140,
    "start_time": "2022-10-12T14:05:06.705Z"
   },
   {
    "duration": 659,
    "start_time": "2022-10-12T14:05:06.846Z"
   },
   {
    "duration": 136,
    "start_time": "2022-10-12T14:06:39.400Z"
   },
   {
    "duration": 127,
    "start_time": "2022-10-12T14:07:40.431Z"
   },
   {
    "duration": 121,
    "start_time": "2022-10-12T14:08:11.712Z"
   },
   {
    "duration": 99,
    "start_time": "2022-10-12T14:08:39.066Z"
   },
   {
    "duration": 22,
    "start_time": "2022-10-12T14:09:07.298Z"
   },
   {
    "duration": 30,
    "start_time": "2022-10-12T14:09:29.373Z"
   },
   {
    "duration": 24,
    "start_time": "2022-10-12T14:09:51.943Z"
   },
   {
    "duration": 23,
    "start_time": "2022-10-12T14:09:58.353Z"
   },
   {
    "duration": 452,
    "start_time": "2022-10-12T14:10:05.606Z"
   },
   {
    "duration": 20,
    "start_time": "2022-10-12T14:10:06.060Z"
   },
   {
    "duration": 17,
    "start_time": "2022-10-12T14:10:06.081Z"
   },
   {
    "duration": 16,
    "start_time": "2022-10-12T14:10:06.099Z"
   },
   {
    "duration": 39,
    "start_time": "2022-10-12T14:10:06.117Z"
   },
   {
    "duration": 3,
    "start_time": "2022-10-12T14:10:06.158Z"
   },
   {
    "duration": 18,
    "start_time": "2022-10-12T14:10:06.163Z"
   },
   {
    "duration": 5,
    "start_time": "2022-10-12T14:10:06.183Z"
   },
   {
    "duration": 24,
    "start_time": "2022-10-12T14:10:06.189Z"
   },
   {
    "duration": 5,
    "start_time": "2022-10-12T14:10:06.215Z"
   },
   {
    "duration": 47,
    "start_time": "2022-10-12T14:10:06.222Z"
   },
   {
    "duration": 13,
    "start_time": "2022-10-12T14:10:06.272Z"
   },
   {
    "duration": 20,
    "start_time": "2022-10-12T14:10:06.286Z"
   },
   {
    "duration": 15,
    "start_time": "2022-10-12T14:10:06.309Z"
   },
   {
    "duration": 22,
    "start_time": "2022-10-12T14:10:06.326Z"
   },
   {
    "duration": 16,
    "start_time": "2022-10-12T14:10:06.349Z"
   },
   {
    "duration": 3,
    "start_time": "2022-10-12T14:10:06.367Z"
   },
   {
    "duration": 14,
    "start_time": "2022-10-12T14:10:06.371Z"
   },
   {
    "duration": 20,
    "start_time": "2022-10-12T14:10:06.387Z"
   },
   {
    "duration": 4,
    "start_time": "2022-10-12T14:10:06.408Z"
   },
   {
    "duration": 14,
    "start_time": "2022-10-12T14:10:06.413Z"
   },
   {
    "duration": 836,
    "start_time": "2022-10-12T14:10:06.428Z"
   },
   {
    "duration": 0,
    "start_time": "2022-10-12T14:10:07.266Z"
   },
   {
    "duration": 0,
    "start_time": "2022-10-12T14:10:07.268Z"
   },
   {
    "duration": 0,
    "start_time": "2022-10-12T14:10:07.269Z"
   },
   {
    "duration": 65,
    "start_time": "2022-10-12T14:10:09.860Z"
   },
   {
    "duration": 14,
    "start_time": "2022-10-12T14:10:09.927Z"
   },
   {
    "duration": 20,
    "start_time": "2022-10-12T14:10:09.942Z"
   },
   {
    "duration": 10,
    "start_time": "2022-10-12T14:10:09.964Z"
   },
   {
    "duration": 43,
    "start_time": "2022-10-12T14:10:09.976Z"
   },
   {
    "duration": 3,
    "start_time": "2022-10-12T14:10:10.021Z"
   },
   {
    "duration": 12,
    "start_time": "2022-10-12T14:10:10.026Z"
   },
   {
    "duration": 10,
    "start_time": "2022-10-12T14:10:10.039Z"
   },
   {
    "duration": 24,
    "start_time": "2022-10-12T14:10:10.050Z"
   },
   {
    "duration": 17,
    "start_time": "2022-10-12T14:10:10.076Z"
   },
   {
    "duration": 34,
    "start_time": "2022-10-12T14:10:10.094Z"
   },
   {
    "duration": 11,
    "start_time": "2022-10-12T14:10:10.129Z"
   },
   {
    "duration": 8,
    "start_time": "2022-10-12T14:10:10.141Z"
   },
   {
    "duration": 14,
    "start_time": "2022-10-12T14:10:10.150Z"
   },
   {
    "duration": 22,
    "start_time": "2022-10-12T14:10:10.165Z"
   },
   {
    "duration": 19,
    "start_time": "2022-10-12T14:10:10.188Z"
   },
   {
    "duration": 3,
    "start_time": "2022-10-12T14:10:10.208Z"
   },
   {
    "duration": 17,
    "start_time": "2022-10-12T14:10:10.213Z"
   },
   {
    "duration": 6,
    "start_time": "2022-10-12T14:10:10.231Z"
   },
   {
    "duration": 18,
    "start_time": "2022-10-12T14:10:10.238Z"
   },
   {
    "duration": 30,
    "start_time": "2022-10-12T14:10:10.258Z"
   },
   {
    "duration": 33,
    "start_time": "2022-10-12T14:10:10.289Z"
   },
   {
    "duration": 0,
    "start_time": "2022-10-12T14:10:10.323Z"
   },
   {
    "duration": 0,
    "start_time": "2022-10-12T14:10:10.324Z"
   },
   {
    "duration": 0,
    "start_time": "2022-10-12T14:10:10.325Z"
   },
   {
    "duration": 26,
    "start_time": "2022-10-12T14:10:20.957Z"
   },
   {
    "duration": 186,
    "start_time": "2022-10-12T14:10:24.944Z"
   },
   {
    "duration": 134,
    "start_time": "2022-10-12T14:10:28.106Z"
   },
   {
    "duration": 153,
    "start_time": "2022-10-12T14:10:32.037Z"
   },
   {
    "duration": 118,
    "start_time": "2022-10-12T14:13:55.426Z"
   },
   {
    "duration": 140,
    "start_time": "2022-10-12T14:14:31.547Z"
   },
   {
    "duration": 30,
    "start_time": "2022-10-12T14:15:15.059Z"
   },
   {
    "duration": 14,
    "start_time": "2022-10-12T14:15:17.129Z"
   },
   {
    "duration": 114,
    "start_time": "2022-10-12T14:36:32.476Z"
   },
   {
    "duration": 128,
    "start_time": "2022-10-12T14:37:43.448Z"
   },
   {
    "duration": 128,
    "start_time": "2022-10-12T14:37:50.436Z"
   },
   {
    "duration": 135,
    "start_time": "2022-10-12T14:38:15.702Z"
   },
   {
    "duration": 453,
    "start_time": "2022-10-13T07:24:16.850Z"
   },
   {
    "duration": 22,
    "start_time": "2022-10-13T07:24:17.305Z"
   },
   {
    "duration": 16,
    "start_time": "2022-10-13T07:24:17.329Z"
   },
   {
    "duration": 8,
    "start_time": "2022-10-13T07:24:17.347Z"
   },
   {
    "duration": 57,
    "start_time": "2022-10-13T07:24:17.357Z"
   },
   {
    "duration": 3,
    "start_time": "2022-10-13T07:24:17.416Z"
   },
   {
    "duration": 10,
    "start_time": "2022-10-13T07:24:17.421Z"
   },
   {
    "duration": 4,
    "start_time": "2022-10-13T07:24:17.432Z"
   },
   {
    "duration": 10,
    "start_time": "2022-10-13T07:24:17.437Z"
   },
   {
    "duration": 4,
    "start_time": "2022-10-13T07:24:17.451Z"
   },
   {
    "duration": 61,
    "start_time": "2022-10-13T07:24:17.457Z"
   },
   {
    "duration": 14,
    "start_time": "2022-10-13T07:24:17.521Z"
   },
   {
    "duration": 16,
    "start_time": "2022-10-13T07:24:17.537Z"
   },
   {
    "duration": 22,
    "start_time": "2022-10-13T07:24:17.555Z"
   },
   {
    "duration": 33,
    "start_time": "2022-10-13T07:24:17.578Z"
   },
   {
    "duration": 17,
    "start_time": "2022-10-13T07:24:17.613Z"
   },
   {
    "duration": 6,
    "start_time": "2022-10-13T07:24:17.632Z"
   },
   {
    "duration": 19,
    "start_time": "2022-10-13T07:24:17.639Z"
   },
   {
    "duration": 16,
    "start_time": "2022-10-13T07:24:17.659Z"
   },
   {
    "duration": 13,
    "start_time": "2022-10-13T07:24:17.677Z"
   },
   {
    "duration": 23,
    "start_time": "2022-10-13T07:24:17.691Z"
   },
   {
    "duration": 849,
    "start_time": "2022-10-13T07:24:17.716Z"
   },
   {
    "duration": 159,
    "start_time": "2022-10-13T07:24:18.567Z"
   },
   {
    "duration": 164,
    "start_time": "2022-10-13T07:24:18.728Z"
   },
   {
    "duration": 169,
    "start_time": "2022-10-13T07:24:18.893Z"
   },
   {
    "duration": 50,
    "start_time": "2022-10-13T07:24:19.064Z"
   },
   {
    "duration": 64,
    "start_time": "2022-10-13T07:51:20.297Z"
   },
   {
    "duration": 16,
    "start_time": "2022-10-13T07:51:20.363Z"
   },
   {
    "duration": 32,
    "start_time": "2022-10-13T07:51:20.381Z"
   },
   {
    "duration": 12,
    "start_time": "2022-10-13T07:51:20.415Z"
   },
   {
    "duration": 32,
    "start_time": "2022-10-13T07:51:20.429Z"
   },
   {
    "duration": 3,
    "start_time": "2022-10-13T07:51:20.463Z"
   },
   {
    "duration": 15,
    "start_time": "2022-10-13T07:51:20.467Z"
   },
   {
    "duration": 26,
    "start_time": "2022-10-13T07:51:20.483Z"
   },
   {
    "duration": 5,
    "start_time": "2022-10-13T07:51:20.511Z"
   },
   {
    "duration": 5,
    "start_time": "2022-10-13T07:51:20.519Z"
   },
   {
    "duration": 34,
    "start_time": "2022-10-13T07:51:20.526Z"
   },
   {
    "duration": 9,
    "start_time": "2022-10-13T07:51:20.562Z"
   },
   {
    "duration": 37,
    "start_time": "2022-10-13T07:51:20.572Z"
   },
   {
    "duration": 10,
    "start_time": "2022-10-13T07:51:20.611Z"
   },
   {
    "duration": 38,
    "start_time": "2022-10-13T07:51:20.623Z"
   },
   {
    "duration": 17,
    "start_time": "2022-10-13T07:51:20.663Z"
   },
   {
    "duration": 4,
    "start_time": "2022-10-13T07:51:20.682Z"
   },
   {
    "duration": 25,
    "start_time": "2022-10-13T07:51:20.687Z"
   },
   {
    "duration": 12,
    "start_time": "2022-10-13T07:51:20.713Z"
   },
   {
    "duration": 7,
    "start_time": "2022-10-13T07:51:20.726Z"
   },
   {
    "duration": 10,
    "start_time": "2022-10-13T07:51:20.735Z"
   },
   {
    "duration": 162,
    "start_time": "2022-10-13T07:51:20.747Z"
   },
   {
    "duration": 152,
    "start_time": "2022-10-13T07:51:20.910Z"
   },
   {
    "duration": 160,
    "start_time": "2022-10-13T07:51:21.064Z"
   },
   {
    "duration": 151,
    "start_time": "2022-10-13T07:51:21.226Z"
   },
   {
    "duration": 149,
    "start_time": "2022-10-13T07:53:49.375Z"
   },
   {
    "duration": 183,
    "start_time": "2022-10-13T07:53:51.326Z"
   },
   {
    "duration": 318,
    "start_time": "2022-10-13T08:02:00.077Z"
   },
   {
    "duration": 127,
    "start_time": "2022-10-13T08:02:07.265Z"
   },
   {
    "duration": 136,
    "start_time": "2022-10-13T08:02:10.371Z"
   },
   {
    "duration": 145,
    "start_time": "2022-10-13T08:02:29.134Z"
   },
   {
    "duration": 130,
    "start_time": "2022-10-13T08:02:37.738Z"
   },
   {
    "duration": 165,
    "start_time": "2022-10-13T08:02:41.570Z"
   },
   {
    "duration": 128,
    "start_time": "2022-10-13T08:02:47.244Z"
   },
   {
    "duration": 52,
    "start_time": "2022-10-13T08:26:25.751Z"
   },
   {
    "duration": 46,
    "start_time": "2022-10-20T13:46:39.447Z"
   },
   {
    "duration": 520,
    "start_time": "2022-10-20T13:47:02.348Z"
   },
   {
    "duration": 21,
    "start_time": "2022-10-20T13:47:02.870Z"
   },
   {
    "duration": 18,
    "start_time": "2022-10-20T13:47:02.892Z"
   },
   {
    "duration": 9,
    "start_time": "2022-10-20T13:47:02.913Z"
   },
   {
    "duration": 46,
    "start_time": "2022-10-20T13:47:02.924Z"
   },
   {
    "duration": 3,
    "start_time": "2022-10-20T13:47:02.972Z"
   },
   {
    "duration": 12,
    "start_time": "2022-10-20T13:47:02.976Z"
   },
   {
    "duration": 6,
    "start_time": "2022-10-20T13:47:02.989Z"
   },
   {
    "duration": 9,
    "start_time": "2022-10-20T13:47:02.997Z"
   },
   {
    "duration": 8,
    "start_time": "2022-10-20T13:47:03.009Z"
   },
   {
    "duration": 58,
    "start_time": "2022-10-20T13:47:03.019Z"
   },
   {
    "duration": 10,
    "start_time": "2022-10-20T13:47:03.078Z"
   },
   {
    "duration": 5,
    "start_time": "2022-10-20T13:47:03.089Z"
   },
   {
    "duration": 16,
    "start_time": "2022-10-20T13:47:03.096Z"
   },
   {
    "duration": 39,
    "start_time": "2022-10-20T13:47:03.114Z"
   },
   {
    "duration": 16,
    "start_time": "2022-10-20T13:47:03.155Z"
   },
   {
    "duration": 3,
    "start_time": "2022-10-20T13:47:03.172Z"
   },
   {
    "duration": 14,
    "start_time": "2022-10-20T13:47:03.177Z"
   },
   {
    "duration": 6,
    "start_time": "2022-10-20T13:47:03.193Z"
   },
   {
    "duration": 4,
    "start_time": "2022-10-20T13:47:03.201Z"
   },
   {
    "duration": 39,
    "start_time": "2022-10-20T13:47:03.207Z"
   },
   {
    "duration": 78,
    "start_time": "2022-10-20T13:47:03.248Z"
   },
   {
    "duration": 0,
    "start_time": "2022-10-20T13:47:03.327Z"
   },
   {
    "duration": 0,
    "start_time": "2022-10-20T13:47:03.329Z"
   },
   {
    "duration": 0,
    "start_time": "2022-10-20T13:47:03.331Z"
   },
   {
    "duration": 10,
    "start_time": "2022-10-20T13:50:22.663Z"
   },
   {
    "duration": 8,
    "start_time": "2022-10-20T13:50:51.778Z"
   },
   {
    "duration": 47,
    "start_time": "2022-10-20T14:13:08.953Z"
   },
   {
    "duration": 459,
    "start_time": "2022-10-20T14:13:23.756Z"
   },
   {
    "duration": 22,
    "start_time": "2022-10-20T14:13:24.217Z"
   },
   {
    "duration": 14,
    "start_time": "2022-10-20T14:13:24.241Z"
   },
   {
    "duration": 10,
    "start_time": "2022-10-20T14:13:24.257Z"
   },
   {
    "duration": 33,
    "start_time": "2022-10-20T14:13:24.268Z"
   },
   {
    "duration": 3,
    "start_time": "2022-10-20T14:13:24.303Z"
   },
   {
    "duration": 31,
    "start_time": "2022-10-20T14:13:24.307Z"
   },
   {
    "duration": 4,
    "start_time": "2022-10-20T14:13:24.339Z"
   },
   {
    "duration": 9,
    "start_time": "2022-10-20T14:13:24.345Z"
   },
   {
    "duration": 4,
    "start_time": "2022-10-20T14:13:24.357Z"
   },
   {
    "duration": 36,
    "start_time": "2022-10-20T14:13:24.363Z"
   },
   {
    "duration": 33,
    "start_time": "2022-10-20T14:13:24.401Z"
   },
   {
    "duration": 7,
    "start_time": "2022-10-20T14:13:24.436Z"
   },
   {
    "duration": 12,
    "start_time": "2022-10-20T14:13:24.445Z"
   },
   {
    "duration": 19,
    "start_time": "2022-10-20T14:13:24.459Z"
   },
   {
    "duration": 17,
    "start_time": "2022-10-20T14:13:24.480Z"
   },
   {
    "duration": 4,
    "start_time": "2022-10-20T14:13:24.498Z"
   },
   {
    "duration": 34,
    "start_time": "2022-10-20T14:13:24.503Z"
   },
   {
    "duration": 19,
    "start_time": "2022-10-20T14:13:24.538Z"
   },
   {
    "duration": 6,
    "start_time": "2022-10-20T14:13:24.559Z"
   },
   {
    "duration": 15,
    "start_time": "2022-10-20T14:13:24.567Z"
   },
   {
    "duration": 47,
    "start_time": "2022-10-20T14:13:24.584Z"
   },
   {
    "duration": 0,
    "start_time": "2022-10-20T14:13:24.633Z"
   },
   {
    "duration": 0,
    "start_time": "2022-10-20T14:13:24.634Z"
   },
   {
    "duration": 0,
    "start_time": "2022-10-20T14:13:24.635Z"
   },
   {
    "duration": 54,
    "start_time": "2022-10-20T14:16:05.179Z"
   },
   {
    "duration": 73,
    "start_time": "2022-10-20T14:16:20.029Z"
   },
   {
    "duration": 13,
    "start_time": "2022-10-20T14:17:43.564Z"
   },
   {
    "duration": 21,
    "start_time": "2022-10-20T14:17:50.530Z"
   },
   {
    "duration": 30,
    "start_time": "2022-10-20T14:22:49.971Z"
   },
   {
    "duration": 30,
    "start_time": "2022-10-20T14:23:09.053Z"
   },
   {
    "duration": 22,
    "start_time": "2022-10-20T14:23:14.104Z"
   },
   {
    "duration": 13,
    "start_time": "2022-10-20T14:24:00.085Z"
   },
   {
    "duration": 22,
    "start_time": "2022-10-20T14:24:08.589Z"
   },
   {
    "duration": 12,
    "start_time": "2022-10-20T14:25:01.363Z"
   },
   {
    "duration": 20,
    "start_time": "2022-10-20T14:25:12.613Z"
   },
   {
    "duration": 22,
    "start_time": "2022-10-20T14:25:27.648Z"
   },
   {
    "duration": 14,
    "start_time": "2022-10-20T14:25:52.339Z"
   },
   {
    "duration": 55,
    "start_time": "2022-10-20T14:28:23.173Z"
   },
   {
    "duration": 45,
    "start_time": "2022-10-20T14:28:32.946Z"
   },
   {
    "duration": 20,
    "start_time": "2022-10-20T14:28:43.171Z"
   },
   {
    "duration": 11,
    "start_time": "2022-10-20T14:29:31.601Z"
   },
   {
    "duration": 21,
    "start_time": "2022-10-20T14:29:45.091Z"
   },
   {
    "duration": 22,
    "start_time": "2022-10-20T14:30:04.004Z"
   },
   {
    "duration": 21,
    "start_time": "2022-10-20T15:15:26.612Z"
   },
   {
    "duration": 19,
    "start_time": "2022-10-20T15:17:49.255Z"
   },
   {
    "duration": 19,
    "start_time": "2022-10-20T15:35:41.546Z"
   },
   {
    "duration": 18,
    "start_time": "2022-10-20T15:39:30.526Z"
   },
   {
    "duration": 18,
    "start_time": "2022-10-20T15:39:42.224Z"
   },
   {
    "duration": 61,
    "start_time": "2022-10-20T15:41:29.254Z"
   },
   {
    "duration": 69,
    "start_time": "2022-10-20T15:42:56.499Z"
   },
   {
    "duration": 68,
    "start_time": "2022-10-20T15:45:59.061Z"
   },
   {
    "duration": 62,
    "start_time": "2022-10-20T15:46:12.877Z"
   },
   {
    "duration": 20,
    "start_time": "2022-10-20T15:46:32.160Z"
   },
   {
    "duration": 24,
    "start_time": "2022-10-20T15:47:03.948Z"
   },
   {
    "duration": 1871,
    "start_time": "2022-10-20T15:48:05.317Z"
   },
   {
    "duration": 39,
    "start_time": "2022-10-20T15:49:04.242Z"
   },
   {
    "duration": 22,
    "start_time": "2022-10-20T15:51:21.372Z"
   },
   {
    "duration": 920,
    "start_time": "2022-10-20T15:51:56.315Z"
   },
   {
    "duration": 916,
    "start_time": "2022-10-20T15:52:27.582Z"
   },
   {
    "duration": 22,
    "start_time": "2022-10-20T15:52:42.108Z"
   },
   {
    "duration": 54,
    "start_time": "2022-10-20T15:53:57.674Z"
   },
   {
    "duration": 771,
    "start_time": "2022-10-20T15:54:07.963Z"
   },
   {
    "duration": 24,
    "start_time": "2022-10-20T15:57:23.856Z"
   },
   {
    "duration": 19,
    "start_time": "2022-10-20T15:57:30.562Z"
   },
   {
    "duration": 158,
    "start_time": "2022-10-20T15:58:00.811Z"
   },
   {
    "duration": 139,
    "start_time": "2022-10-20T15:58:09.699Z"
   },
   {
    "duration": 141,
    "start_time": "2022-10-20T15:59:28.396Z"
   },
   {
    "duration": 145,
    "start_time": "2022-10-20T16:00:56.417Z"
   },
   {
    "duration": 127,
    "start_time": "2022-10-20T16:03:37.299Z"
   },
   {
    "duration": 138,
    "start_time": "2022-10-20T16:04:34.322Z"
   },
   {
    "duration": 132,
    "start_time": "2022-10-20T16:07:05.229Z"
   },
   {
    "duration": 202,
    "start_time": "2022-10-20T16:09:19.926Z"
   },
   {
    "duration": 135,
    "start_time": "2022-10-20T16:09:42.473Z"
   },
   {
    "duration": 160,
    "start_time": "2022-10-20T16:10:12.078Z"
   },
   {
    "duration": 125,
    "start_time": "2022-10-20T16:10:38.337Z"
   },
   {
    "duration": 133,
    "start_time": "2022-10-20T16:12:39.435Z"
   },
   {
    "duration": 130,
    "start_time": "2022-10-20T16:13:42.029Z"
   },
   {
    "duration": 94,
    "start_time": "2022-10-20T16:13:51.210Z"
   },
   {
    "duration": 116,
    "start_time": "2022-10-20T16:14:06.045Z"
   },
   {
    "duration": 135,
    "start_time": "2022-10-20T16:17:17.320Z"
   },
   {
    "duration": 121,
    "start_time": "2022-10-20T16:17:47.113Z"
   },
   {
    "duration": 201,
    "start_time": "2022-10-20T16:19:06.125Z"
   },
   {
    "duration": 195,
    "start_time": "2022-10-20T16:19:11.714Z"
   },
   {
    "duration": 137,
    "start_time": "2022-10-20T16:24:55.248Z"
   },
   {
    "duration": 136,
    "start_time": "2022-10-20T16:24:59.669Z"
   },
   {
    "duration": 134,
    "start_time": "2022-10-20T16:26:20.756Z"
   },
   {
    "duration": 121,
    "start_time": "2022-10-20T16:26:26.203Z"
   },
   {
    "duration": 90,
    "start_time": "2022-10-20T16:26:49.156Z"
   },
   {
    "duration": 130,
    "start_time": "2022-10-20T16:27:25.284Z"
   },
   {
    "duration": 129,
    "start_time": "2022-10-20T16:27:32.057Z"
   },
   {
    "duration": 133,
    "start_time": "2022-10-20T16:27:41.955Z"
   },
   {
    "duration": 129,
    "start_time": "2022-10-20T16:27:55.113Z"
   },
   {
    "duration": 140,
    "start_time": "2022-10-20T16:28:34.068Z"
   },
   {
    "duration": 124,
    "start_time": "2022-10-20T16:28:57.566Z"
   },
   {
    "duration": 222,
    "start_time": "2022-10-20T16:29:44.894Z"
   },
   {
    "duration": 125,
    "start_time": "2022-10-20T16:30:14.312Z"
   },
   {
    "duration": 124,
    "start_time": "2022-10-20T16:30:50.390Z"
   },
   {
    "duration": 129,
    "start_time": "2022-10-20T16:31:31.860Z"
   },
   {
    "duration": 129,
    "start_time": "2022-10-20T16:31:39.152Z"
   },
   {
    "duration": 129,
    "start_time": "2022-10-20T16:31:48.576Z"
   },
   {
    "duration": 160,
    "start_time": "2022-10-20T16:31:56.230Z"
   },
   {
    "duration": 124,
    "start_time": "2022-10-20T16:32:04.239Z"
   },
   {
    "duration": 132,
    "start_time": "2022-10-20T16:42:32.000Z"
   },
   {
    "duration": 118,
    "start_time": "2022-10-20T16:42:44.254Z"
   },
   {
    "duration": 126,
    "start_time": "2022-10-20T16:42:56.775Z"
   },
   {
    "duration": 122,
    "start_time": "2022-10-20T16:43:35.421Z"
   },
   {
    "duration": 476,
    "start_time": "2022-11-10T15:13:01.682Z"
   },
   {
    "duration": 23,
    "start_time": "2022-11-10T15:13:02.160Z"
   },
   {
    "duration": 121,
    "start_time": "2022-11-10T15:13:02.185Z"
   },
   {
    "duration": 97,
    "start_time": "2022-11-10T15:13:02.308Z"
   },
   {
    "duration": 106,
    "start_time": "2022-11-10T15:13:02.407Z"
   },
   {
    "duration": 4,
    "start_time": "2022-11-10T15:13:02.514Z"
   },
   {
    "duration": 37,
    "start_time": "2022-11-10T15:13:02.521Z"
   },
   {
    "duration": 18,
    "start_time": "2022-11-10T15:13:02.560Z"
   },
   {
    "duration": 60,
    "start_time": "2022-11-10T15:13:02.580Z"
   },
   {
    "duration": 39,
    "start_time": "2022-11-10T15:13:02.646Z"
   },
   {
    "duration": 67,
    "start_time": "2022-11-10T15:13:02.686Z"
   },
   {
    "duration": 45,
    "start_time": "2022-11-10T15:13:02.756Z"
   },
   {
    "duration": 97,
    "start_time": "2022-11-10T15:13:02.803Z"
   },
   {
    "duration": 56,
    "start_time": "2022-11-10T15:13:02.901Z"
   },
   {
    "duration": 77,
    "start_time": "2022-11-10T15:13:02.959Z"
   },
   {
    "duration": 56,
    "start_time": "2022-11-10T15:13:03.037Z"
   },
   {
    "duration": 11,
    "start_time": "2022-11-10T15:13:03.095Z"
   },
   {
    "duration": 57,
    "start_time": "2022-11-10T15:13:03.107Z"
   },
   {
    "duration": 72,
    "start_time": "2022-11-10T15:13:03.165Z"
   },
   {
    "duration": 18,
    "start_time": "2022-11-10T15:13:03.238Z"
   },
   {
    "duration": 58,
    "start_time": "2022-11-10T15:13:03.258Z"
   },
   {
    "duration": 470,
    "start_time": "2022-11-10T15:13:03.319Z"
   },
   {
    "duration": 154,
    "start_time": "2022-11-10T15:13:03.791Z"
   },
   {
    "duration": 144,
    "start_time": "2022-11-10T15:13:03.947Z"
   },
   {
    "duration": 166,
    "start_time": "2022-11-10T15:13:04.093Z"
   },
   {
    "duration": 149,
    "start_time": "2022-11-10T15:31:07.146Z"
   },
   {
    "duration": 201,
    "start_time": "2022-11-10T15:33:31.148Z"
   },
   {
    "duration": 154,
    "start_time": "2022-11-10T15:33:47.677Z"
   },
   {
    "duration": 149,
    "start_time": "2022-11-10T15:34:00.347Z"
   },
   {
    "duration": 239,
    "start_time": "2022-11-10T15:35:05.278Z"
   },
   {
    "duration": 197,
    "start_time": "2022-11-10T15:35:30.802Z"
   },
   {
    "duration": 157,
    "start_time": "2022-11-10T15:37:18.017Z"
   },
   {
    "duration": 140,
    "start_time": "2022-11-10T15:37:28.047Z"
   },
   {
    "duration": 45,
    "start_time": "2022-11-10T15:40:27.896Z"
   },
   {
    "duration": 49,
    "start_time": "2022-11-10T15:40:40.883Z"
   },
   {
    "duration": 34,
    "start_time": "2022-11-10T15:50:33.948Z"
   },
   {
    "duration": 20,
    "start_time": "2022-11-10T15:51:38.364Z"
   },
   {
    "duration": 150,
    "start_time": "2022-11-10T15:51:50.281Z"
   },
   {
    "duration": 51,
    "start_time": "2022-11-10T15:53:49.337Z"
   },
   {
    "duration": 5,
    "start_time": "2022-11-10T15:54:12.378Z"
   },
   {
    "duration": 17,
    "start_time": "2022-11-10T15:54:25.978Z"
   },
   {
    "duration": 185,
    "start_time": "2022-11-10T15:56:12.944Z"
   },
   {
    "duration": 14,
    "start_time": "2022-11-10T15:57:08.203Z"
   },
   {
    "duration": 15,
    "start_time": "2022-11-10T15:58:06.115Z"
   },
   {
    "duration": 10,
    "start_time": "2022-11-10T15:58:57.915Z"
   },
   {
    "duration": 151,
    "start_time": "2022-11-10T15:59:28.347Z"
   },
   {
    "duration": 148,
    "start_time": "2022-11-10T16:00:25.716Z"
   },
   {
    "duration": 228,
    "start_time": "2022-11-10T16:00:33.825Z"
   },
   {
    "duration": 611,
    "start_time": "2022-11-10T16:00:54.994Z"
   },
   {
    "duration": 28,
    "start_time": "2022-11-10T16:00:55.607Z"
   },
   {
    "duration": 18,
    "start_time": "2022-11-10T16:00:55.638Z"
   },
   {
    "duration": 23,
    "start_time": "2022-11-10T16:00:55.658Z"
   },
   {
    "duration": 47,
    "start_time": "2022-11-10T16:00:55.683Z"
   },
   {
    "duration": 5,
    "start_time": "2022-11-10T16:00:55.732Z"
   },
   {
    "duration": 22,
    "start_time": "2022-11-10T16:00:55.739Z"
   },
   {
    "duration": 11,
    "start_time": "2022-11-10T16:00:55.763Z"
   },
   {
    "duration": 15,
    "start_time": "2022-11-10T16:00:55.776Z"
   },
   {
    "duration": 6,
    "start_time": "2022-11-10T16:00:55.793Z"
   },
   {
    "duration": 52,
    "start_time": "2022-11-10T16:00:55.820Z"
   },
   {
    "duration": 16,
    "start_time": "2022-11-10T16:00:55.874Z"
   },
   {
    "duration": 31,
    "start_time": "2022-11-10T16:00:55.892Z"
   },
   {
    "duration": 13,
    "start_time": "2022-11-10T16:00:55.926Z"
   },
   {
    "duration": 27,
    "start_time": "2022-11-10T16:00:55.941Z"
   },
   {
    "duration": 21,
    "start_time": "2022-11-10T16:00:55.970Z"
   },
   {
    "duration": 27,
    "start_time": "2022-11-10T16:00:55.993Z"
   },
   {
    "duration": 27,
    "start_time": "2022-11-10T16:00:56.022Z"
   },
   {
    "duration": 18,
    "start_time": "2022-11-10T16:00:56.052Z"
   },
   {
    "duration": 7,
    "start_time": "2022-11-10T16:00:56.072Z"
   },
   {
    "duration": 13,
    "start_time": "2022-11-10T16:00:56.082Z"
   },
   {
    "duration": 429,
    "start_time": "2022-11-10T16:00:56.097Z"
   },
   {
    "duration": 192,
    "start_time": "2022-11-10T16:00:56.529Z"
   },
   {
    "duration": 179,
    "start_time": "2022-11-10T16:00:56.724Z"
   },
   {
    "duration": 228,
    "start_time": "2022-11-10T16:00:56.906Z"
   },
   {
    "duration": 569,
    "start_time": "2022-11-25T10:38:09.565Z"
   },
   {
    "duration": 520,
    "start_time": "2022-11-25T10:38:24.717Z"
   },
   {
    "duration": 26,
    "start_time": "2022-11-25T10:38:25.240Z"
   },
   {
    "duration": 21,
    "start_time": "2022-11-25T10:38:25.267Z"
   },
   {
    "duration": 13,
    "start_time": "2022-11-25T10:38:25.290Z"
   },
   {
    "duration": 51,
    "start_time": "2022-11-25T10:38:25.305Z"
   },
   {
    "duration": 4,
    "start_time": "2022-11-25T10:38:25.358Z"
   },
   {
    "duration": 17,
    "start_time": "2022-11-25T10:38:25.364Z"
   },
   {
    "duration": 7,
    "start_time": "2022-11-25T10:38:25.383Z"
   },
   {
    "duration": 32,
    "start_time": "2022-11-25T10:38:25.392Z"
   },
   {
    "duration": 5,
    "start_time": "2022-11-25T10:38:25.428Z"
   },
   {
    "duration": 42,
    "start_time": "2022-11-25T10:38:25.435Z"
   },
   {
    "duration": 9,
    "start_time": "2022-11-25T10:38:25.479Z"
   },
   {
    "duration": 4,
    "start_time": "2022-11-25T10:38:25.489Z"
   },
   {
    "duration": 30,
    "start_time": "2022-11-25T10:38:25.495Z"
   },
   {
    "duration": 21,
    "start_time": "2022-11-25T10:38:25.526Z"
   },
   {
    "duration": 16,
    "start_time": "2022-11-25T10:38:25.549Z"
   },
   {
    "duration": 4,
    "start_time": "2022-11-25T10:38:25.566Z"
   },
   {
    "duration": 11,
    "start_time": "2022-11-25T10:38:25.571Z"
   },
   {
    "duration": 38,
    "start_time": "2022-11-25T10:38:25.584Z"
   },
   {
    "duration": 3,
    "start_time": "2022-11-25T10:38:25.624Z"
   },
   {
    "duration": 11,
    "start_time": "2022-11-25T10:38:25.628Z"
   },
   {
    "duration": 162,
    "start_time": "2022-11-25T10:38:25.641Z"
   },
   {
    "duration": 130,
    "start_time": "2022-11-25T10:38:25.804Z"
   },
   {
    "duration": 115,
    "start_time": "2022-11-25T10:38:25.936Z"
   },
   {
    "duration": 125,
    "start_time": "2022-11-25T10:38:26.053Z"
   },
   {
    "duration": 121,
    "start_time": "2022-11-25T10:40:28.610Z"
   },
   {
    "duration": 75,
    "start_time": "2022-11-25T10:40:34.225Z"
   },
   {
    "duration": 15,
    "start_time": "2022-11-25T10:40:34.302Z"
   },
   {
    "duration": 46,
    "start_time": "2022-11-25T10:40:34.318Z"
   },
   {
    "duration": 32,
    "start_time": "2022-11-25T10:40:34.366Z"
   },
   {
    "duration": 54,
    "start_time": "2022-11-25T10:40:34.400Z"
   },
   {
    "duration": 5,
    "start_time": "2022-11-25T10:40:34.456Z"
   },
   {
    "duration": 37,
    "start_time": "2022-11-25T10:40:34.463Z"
   },
   {
    "duration": 29,
    "start_time": "2022-11-25T10:40:34.501Z"
   },
   {
    "duration": 35,
    "start_time": "2022-11-25T10:40:34.531Z"
   },
   {
    "duration": 40,
    "start_time": "2022-11-25T10:40:34.569Z"
   },
   {
    "duration": 73,
    "start_time": "2022-11-25T10:40:34.611Z"
   },
   {
    "duration": 10,
    "start_time": "2022-11-25T10:40:34.686Z"
   },
   {
    "duration": 45,
    "start_time": "2022-11-25T10:40:34.697Z"
   },
   {
    "duration": 62,
    "start_time": "2022-11-25T10:40:34.743Z"
   },
   {
    "duration": 54,
    "start_time": "2022-11-25T10:40:34.807Z"
   },
   {
    "duration": 41,
    "start_time": "2022-11-25T10:40:34.863Z"
   },
   {
    "duration": 15,
    "start_time": "2022-11-25T10:40:34.905Z"
   },
   {
    "duration": 50,
    "start_time": "2022-11-25T10:40:34.921Z"
   },
   {
    "duration": 44,
    "start_time": "2022-11-25T10:40:34.973Z"
   },
   {
    "duration": 6,
    "start_time": "2022-11-25T10:40:35.019Z"
   },
   {
    "duration": 46,
    "start_time": "2022-11-25T10:40:35.027Z"
   },
   {
    "duration": 131,
    "start_time": "2022-11-25T10:40:35.074Z"
   },
   {
    "duration": 126,
    "start_time": "2022-11-25T10:40:35.207Z"
   },
   {
    "duration": 149,
    "start_time": "2022-11-25T10:40:35.335Z"
   },
   {
    "duration": 123,
    "start_time": "2022-11-25T10:40:35.487Z"
   },
   {
    "duration": 122,
    "start_time": "2022-11-25T10:41:47.813Z"
   },
   {
    "duration": 72,
    "start_time": "2022-11-25T11:09:35.191Z"
   },
   {
    "duration": 16,
    "start_time": "2022-11-25T11:09:35.265Z"
   },
   {
    "duration": 15,
    "start_time": "2022-11-25T11:09:35.283Z"
   },
   {
    "duration": 26,
    "start_time": "2022-11-25T11:09:35.300Z"
   },
   {
    "duration": 33,
    "start_time": "2022-11-25T11:09:35.328Z"
   },
   {
    "duration": 3,
    "start_time": "2022-11-25T11:09:35.363Z"
   },
   {
    "duration": 11,
    "start_time": "2022-11-25T11:09:35.368Z"
   },
   {
    "duration": 4,
    "start_time": "2022-11-25T11:09:35.380Z"
   },
   {
    "duration": 38,
    "start_time": "2022-11-25T11:09:35.386Z"
   },
   {
    "duration": 5,
    "start_time": "2022-11-25T11:09:35.427Z"
   },
   {
    "duration": 37,
    "start_time": "2022-11-25T11:09:35.433Z"
   },
   {
    "duration": 12,
    "start_time": "2022-11-25T11:09:35.472Z"
   },
   {
    "duration": 4,
    "start_time": "2022-11-25T11:09:35.486Z"
   },
   {
    "duration": 36,
    "start_time": "2022-11-25T11:09:35.492Z"
   },
   {
    "duration": 29,
    "start_time": "2022-11-25T11:09:35.530Z"
   },
   {
    "duration": 22,
    "start_time": "2022-11-25T11:09:35.561Z"
   },
   {
    "duration": 4,
    "start_time": "2022-11-25T11:09:35.585Z"
   },
   {
    "duration": 36,
    "start_time": "2022-11-25T11:09:35.591Z"
   },
   {
    "duration": 6,
    "start_time": "2022-11-25T11:09:35.630Z"
   },
   {
    "duration": 6,
    "start_time": "2022-11-25T11:09:35.638Z"
   },
   {
    "duration": 11,
    "start_time": "2022-11-25T11:09:35.646Z"
   },
   {
    "duration": 138,
    "start_time": "2022-11-25T11:09:35.659Z"
   },
   {
    "duration": 118,
    "start_time": "2022-11-25T11:09:35.798Z"
   },
   {
    "duration": 114,
    "start_time": "2022-11-25T11:09:35.920Z"
   },
   {
    "duration": 120,
    "start_time": "2022-11-25T11:09:36.036Z"
   },
   {
    "duration": 121,
    "start_time": "2022-11-25T11:09:53.371Z"
   },
   {
    "duration": 116,
    "start_time": "2022-11-25T11:16:43.652Z"
   },
   {
    "duration": 166,
    "start_time": "2022-11-25T11:17:10.870Z"
   },
   {
    "duration": 118,
    "start_time": "2022-11-25T11:22:17.925Z"
   },
   {
    "duration": 119,
    "start_time": "2022-11-25T11:29:58.600Z"
   },
   {
    "duration": 138,
    "start_time": "2022-11-25T11:39:45.102Z"
   },
   {
    "duration": 1092,
    "start_time": "2022-11-25T11:40:54.846Z"
   },
   {
    "duration": 168,
    "start_time": "2022-11-25T11:41:24.240Z"
   },
   {
    "duration": 783,
    "start_time": "2022-11-25T11:42:34.178Z"
   },
   {
    "duration": 12,
    "start_time": "2022-11-25T11:43:16.152Z"
   },
   {
    "duration": 612,
    "start_time": "2022-11-25T11:43:48.195Z"
   },
   {
    "duration": 542,
    "start_time": "2022-11-25T11:46:55.567Z"
   },
   {
    "duration": 8,
    "start_time": "2022-11-25T11:55:41.332Z"
   },
   {
    "duration": 9,
    "start_time": "2022-11-25T11:56:01.468Z"
   },
   {
    "duration": 41,
    "start_time": "2022-11-25T12:01:34.170Z"
   },
   {
    "duration": 3,
    "start_time": "2022-11-25T12:01:47.093Z"
   },
   {
    "duration": 9,
    "start_time": "2022-11-25T12:02:36.762Z"
   },
   {
    "duration": 5,
    "start_time": "2022-11-25T12:02:44.171Z"
   },
   {
    "duration": 5,
    "start_time": "2022-11-25T12:03:18.123Z"
   },
   {
    "duration": 6,
    "start_time": "2022-11-25T12:07:40.731Z"
   },
   {
    "duration": 5,
    "start_time": "2022-11-25T12:07:56.912Z"
   },
   {
    "duration": 6,
    "start_time": "2022-11-25T12:08:13.989Z"
   },
   {
    "duration": 6,
    "start_time": "2022-11-25T12:08:35.699Z"
   },
   {
    "duration": 6,
    "start_time": "2022-11-25T12:19:15.057Z"
   },
   {
    "duration": 7,
    "start_time": "2022-11-25T12:19:52.284Z"
   },
   {
    "duration": 13,
    "start_time": "2022-11-25T12:22:23.260Z"
   },
   {
    "duration": 12,
    "start_time": "2022-11-25T12:24:48.717Z"
   },
   {
    "duration": 14,
    "start_time": "2022-11-25T12:25:00.132Z"
   },
   {
    "duration": 15,
    "start_time": "2022-11-25T12:25:06.870Z"
   },
   {
    "duration": 464,
    "start_time": "2022-11-25T12:25:34.515Z"
   },
   {
    "duration": 21,
    "start_time": "2022-11-25T12:25:34.981Z"
   },
   {
    "duration": 14,
    "start_time": "2022-11-25T12:25:35.003Z"
   },
   {
    "duration": 8,
    "start_time": "2022-11-25T12:25:35.020Z"
   },
   {
    "duration": 35,
    "start_time": "2022-11-25T12:25:35.029Z"
   },
   {
    "duration": 3,
    "start_time": "2022-11-25T12:25:35.065Z"
   },
   {
    "duration": 17,
    "start_time": "2022-11-25T12:25:35.069Z"
   },
   {
    "duration": 9,
    "start_time": "2022-11-25T12:25:35.087Z"
   },
   {
    "duration": 8,
    "start_time": "2022-11-25T12:25:35.098Z"
   },
   {
    "duration": 4,
    "start_time": "2022-11-25T12:25:35.121Z"
   },
   {
    "duration": 33,
    "start_time": "2022-11-25T12:25:35.127Z"
   },
   {
    "duration": 10,
    "start_time": "2022-11-25T12:25:35.161Z"
   },
   {
    "duration": 4,
    "start_time": "2022-11-25T12:25:35.173Z"
   },
   {
    "duration": 13,
    "start_time": "2022-11-25T12:25:35.179Z"
   },
   {
    "duration": 44,
    "start_time": "2022-11-25T12:25:35.194Z"
   },
   {
    "duration": 17,
    "start_time": "2022-11-25T12:25:35.239Z"
   },
   {
    "duration": 4,
    "start_time": "2022-11-25T12:25:35.257Z"
   },
   {
    "duration": 18,
    "start_time": "2022-11-25T12:25:35.263Z"
   },
   {
    "duration": 6,
    "start_time": "2022-11-25T12:25:35.282Z"
   },
   {
    "duration": 4,
    "start_time": "2022-11-25T12:25:35.290Z"
   },
   {
    "duration": 11,
    "start_time": "2022-11-25T12:25:35.322Z"
   },
   {
    "duration": 377,
    "start_time": "2022-11-25T12:25:35.335Z"
   },
   {
    "duration": 125,
    "start_time": "2022-11-25T12:25:35.714Z"
   },
   {
    "duration": 123,
    "start_time": "2022-11-25T12:25:35.841Z"
   },
   {
    "duration": 127,
    "start_time": "2022-11-25T12:25:35.966Z"
   },
   {
    "duration": 104,
    "start_time": "2022-11-25T12:26:04.193Z"
   },
   {
    "duration": 173,
    "start_time": "2022-11-25T12:27:14.228Z"
   },
   {
    "duration": 420,
    "start_time": "2022-11-25T12:27:49.077Z"
   },
   {
    "duration": 20,
    "start_time": "2022-11-25T12:27:49.499Z"
   },
   {
    "duration": 18,
    "start_time": "2022-11-25T12:27:49.520Z"
   },
   {
    "duration": 8,
    "start_time": "2022-11-25T12:27:49.540Z"
   },
   {
    "duration": 30,
    "start_time": "2022-11-25T12:27:49.550Z"
   },
   {
    "duration": 3,
    "start_time": "2022-11-25T12:27:49.581Z"
   },
   {
    "duration": 15,
    "start_time": "2022-11-25T12:27:49.586Z"
   },
   {
    "duration": 3,
    "start_time": "2022-11-25T12:27:49.603Z"
   },
   {
    "duration": 19,
    "start_time": "2022-11-25T12:27:49.608Z"
   },
   {
    "duration": 5,
    "start_time": "2022-11-25T12:27:49.629Z"
   },
   {
    "duration": 37,
    "start_time": "2022-11-25T12:27:49.635Z"
   },
   {
    "duration": 9,
    "start_time": "2022-11-25T12:27:49.674Z"
   },
   {
    "duration": 4,
    "start_time": "2022-11-25T12:27:49.684Z"
   },
   {
    "duration": 32,
    "start_time": "2022-11-25T12:27:49.689Z"
   },
   {
    "duration": 18,
    "start_time": "2022-11-25T12:27:49.723Z"
   },
   {
    "duration": 16,
    "start_time": "2022-11-25T12:27:49.743Z"
   },
   {
    "duration": 3,
    "start_time": "2022-11-25T12:27:49.761Z"
   },
   {
    "duration": 17,
    "start_time": "2022-11-25T12:27:49.765Z"
   },
   {
    "duration": 8,
    "start_time": "2022-11-25T12:27:49.784Z"
   },
   {
    "duration": 3,
    "start_time": "2022-11-25T12:27:49.794Z"
   },
   {
    "duration": 26,
    "start_time": "2022-11-25T12:27:49.798Z"
   },
   {
    "duration": 331,
    "start_time": "2022-11-25T12:27:49.825Z"
   },
   {
    "duration": 127,
    "start_time": "2022-11-25T12:27:50.157Z"
   },
   {
    "duration": 141,
    "start_time": "2022-11-25T12:27:50.286Z"
   },
   {
    "duration": 128,
    "start_time": "2022-11-25T12:27:50.428Z"
   },
   {
    "duration": 65,
    "start_time": "2022-11-25T12:31:08.312Z"
   },
   {
    "duration": 127,
    "start_time": "2022-11-25T12:33:37.217Z"
   },
   {
    "duration": 456,
    "start_time": "2022-11-25T12:34:23.417Z"
   },
   {
    "duration": 19,
    "start_time": "2022-11-25T12:34:23.875Z"
   },
   {
    "duration": 13,
    "start_time": "2022-11-25T12:34:23.895Z"
   },
   {
    "duration": 15,
    "start_time": "2022-11-25T12:34:23.909Z"
   },
   {
    "duration": 30,
    "start_time": "2022-11-25T12:34:23.925Z"
   },
   {
    "duration": 3,
    "start_time": "2022-11-25T12:34:23.957Z"
   },
   {
    "duration": 10,
    "start_time": "2022-11-25T12:34:23.961Z"
   },
   {
    "duration": 4,
    "start_time": "2022-11-25T12:34:23.973Z"
   },
   {
    "duration": 9,
    "start_time": "2022-11-25T12:34:23.978Z"
   },
   {
    "duration": 4,
    "start_time": "2022-11-25T12:34:23.989Z"
   },
   {
    "duration": 58,
    "start_time": "2022-11-25T12:34:23.994Z"
   },
   {
    "duration": 9,
    "start_time": "2022-11-25T12:34:24.053Z"
   },
   {
    "duration": 3,
    "start_time": "2022-11-25T12:34:24.064Z"
   },
   {
    "duration": 12,
    "start_time": "2022-11-25T12:34:24.069Z"
   },
   {
    "duration": 40,
    "start_time": "2022-11-25T12:34:24.083Z"
   },
   {
    "duration": 16,
    "start_time": "2022-11-25T12:34:24.125Z"
   },
   {
    "duration": 4,
    "start_time": "2022-11-25T12:34:24.142Z"
   },
   {
    "duration": 18,
    "start_time": "2022-11-25T12:34:24.148Z"
   },
   {
    "duration": 6,
    "start_time": "2022-11-25T12:34:24.168Z"
   },
   {
    "duration": 4,
    "start_time": "2022-11-25T12:34:24.176Z"
   },
   {
    "duration": 15,
    "start_time": "2022-11-25T12:34:24.182Z"
   },
   {
    "duration": 378,
    "start_time": "2022-11-25T12:34:24.199Z"
   },
   {
    "duration": 130,
    "start_time": "2022-11-25T12:34:24.579Z"
   },
   {
    "duration": 125,
    "start_time": "2022-11-25T12:34:24.711Z"
   },
   {
    "duration": 126,
    "start_time": "2022-11-25T12:34:24.837Z"
   },
   {
    "duration": 103,
    "start_time": "2022-11-25T12:34:54.834Z"
   },
   {
    "duration": 145,
    "start_time": "2022-11-25T12:35:03.757Z"
   },
   {
    "duration": 106,
    "start_time": "2022-11-25T12:48:03.706Z"
   },
   {
    "duration": 110,
    "start_time": "2022-11-25T12:48:38.228Z"
   },
   {
    "duration": 46,
    "start_time": "2022-11-25T12:52:05.736Z"
   },
   {
    "duration": 116,
    "start_time": "2022-11-25T12:52:36.792Z"
   },
   {
    "duration": 69,
    "start_time": "2022-11-25T12:53:02.313Z"
   },
   {
    "duration": 425,
    "start_time": "2022-11-25T12:53:51.786Z"
   },
   {
    "duration": 169,
    "start_time": "2022-11-25T12:54:25.600Z"
   },
   {
    "duration": 111,
    "start_time": "2022-11-25T12:54:36.197Z"
   },
   {
    "duration": 113,
    "start_time": "2022-11-25T12:58:15.287Z"
   },
   {
    "duration": 132,
    "start_time": "2022-11-25T13:09:49.980Z"
   },
   {
    "duration": 99,
    "start_time": "2022-11-25T13:10:05.343Z"
   },
   {
    "duration": 101,
    "start_time": "2022-11-25T13:10:23.146Z"
   },
   {
    "duration": 98,
    "start_time": "2022-11-25T13:10:40.903Z"
   }
  ],
  "colab": {
   "name": "dpp_template_part2.ipynb",
   "provenance": []
  },
  "kernelspec": {
   "display_name": "Python 3 (ipykernel)",
   "language": "python",
   "name": "python3"
  },
  "language_info": {
   "codemirror_mode": {
    "name": "ipython",
    "version": 3
   },
   "file_extension": ".py",
   "mimetype": "text/x-python",
   "name": "python",
   "nbconvert_exporter": "python",
   "pygments_lexer": "ipython3",
   "version": "3.9.13"
  },
  "toc": {
   "base_numbering": 1,
   "nav_menu": {},
   "number_sections": true,
   "sideBar": true,
   "skip_h1_title": true,
   "title_cell": "Table of Contents",
   "title_sidebar": "Contents",
   "toc_cell": false,
   "toc_position": {
    "height": "calc(100% - 180px)",
    "left": "10px",
    "top": "150px",
    "width": "367.25px"
   },
   "toc_section_display": true,
   "toc_window_display": true
  }
 },
 "nbformat": 4,
 "nbformat_minor": 5
}
